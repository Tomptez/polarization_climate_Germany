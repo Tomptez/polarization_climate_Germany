{
 "cells": [
  {
   "cell_type": "code",
   "execution_count": 1,
   "id": "e0b30443-bb84-4d94-9814-df42c53c47d9",
   "metadata": {},
   "outputs": [],
   "source": [
    "%matplotlib inline\n",
    "import pandas as pd\n",
    "import numpy as np\n",
    "import datetime\n",
    "from matplotlib import pyplot as plt\n",
    "pd.options.plotting.backend = \"plotly\"\n",
    "pd.set_option(\"display.max_columns\", 200)\n",
    "pd.set_option(\"display.max_rows\", 400)\n",
    "pd.set_option(\"display.max_colwidth\", None) # None for all of it\n",
    "PARTYCOLORS =  {'AfD': '#59dcff', \"CSU\":\"#525060\", \"CDU\":\"black\", \"SPD\":\"#e03427\", \"GRUENE\":\"#52d157\", \"DIE LINKE\":\"#a33ab5\", \"FDP\":\"#ffeb3b\",}"
   ]
  },
  {
   "cell_type": "code",
   "execution_count": 14,
   "id": "aefe38bf-a89d-4ff7-978e-32959d994542",
   "metadata": {},
   "outputs": [],
   "source": [
    "dfg = pd.read_feather(\"germaparl_19_pg.feather\")\n",
    "dfg[\"last_name\"] = dfg.name.str.split().str[-1]\n",
    "dfg[\"speech_section\"] = dfg[\"speech_section\"].str.normalize('NFKD')"
   ]
  },
  {
   "cell_type": "code",
   "execution_count": 15,
   "id": "1400c24e-0018-4ef7-8182-d1f94c084eb2",
   "metadata": {},
   "outputs": [
    {
     "data": {
      "text/plain": [
       "(570716, 19)"
      ]
     },
     "execution_count": 15,
     "metadata": {},
     "output_type": "execute_result"
    }
   ],
   "source": [
    "dfg.shape"
   ]
  },
  {
   "cell_type": "code",
   "execution_count": 16,
   "id": "cf4aafd4-8e40-4279-815e-13bb2313922f",
   "metadata": {},
   "outputs": [],
   "source": [
    "dfg = dfg[dfg[\"role\"]==\"mp\"]\n",
    "dfg = dfg[~dfg[\"party\"].str.contains(\"parteilos|LKR|Partei\", case=False)]"
   ]
  },
  {
   "cell_type": "code",
   "execution_count": 17,
   "id": "d5e9ec05-f988-4a8f-9c15-bc8059ce60c3",
   "metadata": {},
   "outputs": [
    {
     "data": {
      "text/plain": [
       "array(['SPD', 'AfD', 'DIE LINKE', 'CDU', 'FDP', 'GRUENE', 'CSU'],\n",
       "      dtype=object)"
      ]
     },
     "execution_count": 17,
     "metadata": {},
     "output_type": "execute_result"
    }
   ],
   "source": [
    "dfg.party.unique()"
   ]
  },
  {
   "cell_type": "code",
   "execution_count": 18,
   "id": "49bdaf2a-bd6f-4426-8c5c-0259f487e61a",
   "metadata": {},
   "outputs": [
    {
     "data": {
      "text/plain": [
       "CDU          57941\n",
       "SPD          53429\n",
       "AfD          45268\n",
       "FDP          34280\n",
       "GRUENE       33504\n",
       "DIE LINKE    32745\n",
       "CSU          21279\n",
       "Name: party, dtype: int64"
      ]
     },
     "execution_count": 18,
     "metadata": {},
     "output_type": "execute_result"
    }
   ],
   "source": [
    "# Calculate total paragraphs per party\n",
    "totalcount = dfg['party'].value_counts()\n",
    "totalcount"
   ]
  },
  {
   "cell_type": "code",
   "execution_count": 19,
   "id": "7584c328-db5b-4d55-b70a-3796911e1c82",
   "metadata": {},
   "outputs": [],
   "source": [
    "# Calculate number of paragraphs per party per session\n",
    "party_speeches = dfg.groupby(['date', \"party\"])[\"name\"].count().reset_index(name=\"count\")"
   ]
  },
  {
   "cell_type": "code",
   "execution_count": 20,
   "id": "e9b1fe6d-eb51-4f60-a041-492b08a7e66b",
   "metadata": {},
   "outputs": [
    {
     "data": {
      "text/html": [
       "<div>\n",
       "<style scoped>\n",
       "    .dataframe tbody tr th:only-of-type {\n",
       "        vertical-align: middle;\n",
       "    }\n",
       "\n",
       "    .dataframe tbody tr th {\n",
       "        vertical-align: top;\n",
       "    }\n",
       "\n",
       "    .dataframe thead th {\n",
       "        text-align: right;\n",
       "    }\n",
       "</style>\n",
       "<table border=\"1\" class=\"dataframe\">\n",
       "  <thead>\n",
       "    <tr style=\"text-align: right;\">\n",
       "      <th></th>\n",
       "      <th>date</th>\n",
       "      <th>party</th>\n",
       "      <th>count</th>\n",
       "    </tr>\n",
       "  </thead>\n",
       "  <tbody>\n",
       "    <tr>\n",
       "      <th>0</th>\n",
       "      <td>2017-10-24</td>\n",
       "      <td>AfD</td>\n",
       "      <td>16</td>\n",
       "    </tr>\n",
       "    <tr>\n",
       "      <th>1</th>\n",
       "      <td>2017-10-24</td>\n",
       "      <td>CDU</td>\n",
       "      <td>24</td>\n",
       "    </tr>\n",
       "    <tr>\n",
       "      <th>2</th>\n",
       "      <td>2017-10-24</td>\n",
       "      <td>CSU</td>\n",
       "      <td>1</td>\n",
       "    </tr>\n",
       "  </tbody>\n",
       "</table>\n",
       "</div>"
      ],
      "text/plain": [
       "         date party  count\n",
       "0  2017-10-24   AfD     16\n",
       "1  2017-10-24   CDU     24\n",
       "2  2017-10-24   CSU      1"
      ]
     },
     "execution_count": 20,
     "metadata": {},
     "output_type": "execute_result"
    }
   ],
   "source": [
    "party_speeches.head(3)"
   ]
  },
  {
   "cell_type": "code",
   "execution_count": 21,
   "id": "80f9e22e-2bdf-45c1-85c6-4b2eac560369",
   "metadata": {},
   "outputs": [],
   "source": [
    "# Calculate paragraphs per day\n",
    "pg_count = dfg.value_counts(\"date\", sort=False)"
   ]
  },
  {
   "cell_type": "code",
   "execution_count": 22,
   "id": "aa5cc824-76f5-4c88-86fc-f0bb287b004c",
   "metadata": {},
   "outputs": [],
   "source": [
    "#dfg.loc[dfg[\"speech_section\"].str.contains(\"energiev|energiew|Kohle|Atom|Kraftwerk|Solar|rneuerbar|indkraft|Abstandsregelung|EEG|Wasserstoff|Windrad|Stromgverbrauch|Stromerze|Strommix|Photovo|Strompreis|Erdgas\")].shape"
   ]
  },
  {
   "cell_type": "code",
   "execution_count": null,
   "id": "5b8b7d21-09b8-4d3b-8956-5bc4ae3f5d3d",
   "metadata": {},
   "outputs": [],
   "source": []
  },
  {
   "cell_type": "code",
   "execution_count": 23,
   "id": "f1eb5b0b-8fa5-4504-b466-a987cb92a4e2",
   "metadata": {},
   "outputs": [],
   "source": [
    "dfg = dfg[dfg[\"speech_section\"].str.contains(\"Klimawandel|Klimapolitik|Klimakrise|Energiewende|Klimaschutz|klimafreundlich|menschengemacht\", case=False)]"
   ]
  },
  {
   "cell_type": "code",
   "execution_count": 24,
   "id": "951c30f3-706b-4bac-aaae-31d80d0f4fcb",
   "metadata": {},
   "outputs": [
    {
     "data": {
      "text/plain": [
       "(5691, 19)"
      ]
     },
     "execution_count": 24,
     "metadata": {},
     "output_type": "execute_result"
    }
   ],
   "source": [
    "dfg.shape"
   ]
  },
  {
   "cell_type": "code",
   "execution_count": 355,
   "id": "a503d3d2-6808-42cc-9ca2-fb006ecc269f",
   "metadata": {},
   "outputs": [
    {
     "data": {
      "text/html": [
       "<div>\n",
       "<style scoped>\n",
       "    .dataframe tbody tr th:only-of-type {\n",
       "        vertical-align: middle;\n",
       "    }\n",
       "\n",
       "    .dataframe tbody tr th {\n",
       "        vertical-align: top;\n",
       "    }\n",
       "\n",
       "    .dataframe thead th {\n",
       "        text-align: right;\n",
       "    }\n",
       "</style>\n",
       "<table border=\"1\" class=\"dataframe\">\n",
       "  <thead>\n",
       "    <tr style=\"text-align: right;\">\n",
       "      <th></th>\n",
       "      <th>party</th>\n",
       "      <th>who</th>\n",
       "      <th>description_agenda</th>\n",
       "      <th>speech_section</th>\n",
       "    </tr>\n",
       "  </thead>\n",
       "  <tbody>\n",
       "    <tr>\n",
       "      <th>385838</th>\n",
       "      <td>CSU</td>\n",
       "      <td>Anja Weisgerber</td>\n",
       "      <td>Befragung der Bundesregierung</td>\n",
       "      <td>Sehr geehrte Frau Bundeskanzlerin, die Themen Nachhaltigkeit und Klimaschutz spielen ja in der EU-Ratspräsidentschaft eine zentrale Rolle; das ist auch gut so. Klimaneutralität bis 2050 ist das Ziel für Europa. Deutschland geht mit dem Klimapaket ja mit gutem Beispiel voran. Wie motivieren wir die anderen Staaten Europas, hier mitzuziehen und nachzuziehen und auch die Klimaneutralität zu ihrem Ziel zu erklären?</td>\n",
       "    </tr>\n",
       "    <tr>\n",
       "      <th>208837</th>\n",
       "      <td>DIE LINKE</td>\n",
       "      <td>Bernd Riexinger</td>\n",
       "      <td>Vereinbarte Debatte: Die Rolle Europas in einer Welt des Umbruchs</td>\n",
       "      <td>Beim Klimaschutz ist es fünf vor zwölf. Um den Planeten zu retten, müssen jetzt europaweit Regeln für saubere Energie durchgesetzt werden. Spätestens 2030 müssen alle Kohlekraftwerke vom Netz und muss die regenerative Energie ausgebaut sein;</td>\n",
       "    </tr>\n",
       "  </tbody>\n",
       "</table>\n",
       "</div>"
      ],
      "text/plain": [
       "            party              who  \\\n",
       "385838        CSU  Anja Weisgerber   \n",
       "208837  DIE LINKE  Bernd Riexinger   \n",
       "\n",
       "                                                       description_agenda  \\\n",
       "385838                                      Befragung der Bundesregierung   \n",
       "208837  Vereinbarte Debatte: Die Rolle Europas in einer Welt des Umbruchs   \n",
       "\n",
       "                                                                                                                                                                                                                                                                                                                                                                                                                             speech_section  \n",
       "385838  Sehr geehrte Frau Bundeskanzlerin, die Themen Nachhaltigkeit und Klimaschutz spielen ja in der EU-Ratspräsidentschaft eine zentrale Rolle; das ist auch gut so. Klimaneutralität bis 2050 ist das Ziel für Europa. Deutschland geht mit dem Klimapaket ja mit gutem Beispiel voran. Wie motivieren wir die anderen Staaten Europas, hier mitzuziehen und nachzuziehen und auch die Klimaneutralität zu ihrem Ziel zu erklären?  \n",
       "208837                                                                                                                                                                              Beim Klimaschutz ist es fünf vor zwölf. Um den Planeten zu retten, müssen jetzt europaweit Regeln für saubere Energie durchgesetzt werden. Spätestens 2030 müssen alle Kohlekraftwerke vom Netz und muss die regenerative Energie ausgebaut sein;  "
      ]
     },
     "execution_count": 355,
     "metadata": {},
     "output_type": "execute_result"
    }
   ],
   "source": [
    "dfg[[\"party\", \"who\", \"description_agenda\", \"speech_section\"]].sample(2)"
   ]
  },
  {
   "cell_type": "code",
   "execution_count": 356,
   "id": "af9fd227-a3bd-4993-a390-d7bd34bfa757",
   "metadata": {},
   "outputs": [
    {
     "name": "stdout",
     "output_type": "stream",
     "text": [
      "         date party  count\n",
      "0  2017-10-24   AfD     16\n",
      "         date party  count\n",
      "0  2017-11-21   AfD     10\n"
     ]
    }
   ],
   "source": [
    "print(party_speeches.head(1))\n",
    "print(party_speeches2.head(1))"
   ]
  },
  {
   "cell_type": "code",
   "execution_count": 357,
   "id": "64852b61-be51-425a-b684-c82368b6e698",
   "metadata": {},
   "outputs": [
    {
     "data": {
      "text/html": [
       "<div>\n",
       "<style scoped>\n",
       "    .dataframe tbody tr th:only-of-type {\n",
       "        vertical-align: middle;\n",
       "    }\n",
       "\n",
       "    .dataframe tbody tr th {\n",
       "        vertical-align: top;\n",
       "    }\n",
       "\n",
       "    .dataframe thead th {\n",
       "        text-align: right;\n",
       "    }\n",
       "</style>\n",
       "<table border=\"1\" class=\"dataframe\">\n",
       "  <thead>\n",
       "    <tr style=\"text-align: right;\">\n",
       "      <th></th>\n",
       "      <th>date</th>\n",
       "      <th>party</th>\n",
       "      <th>paragraphs_total</th>\n",
       "      <th>paragraphs_climtate</th>\n",
       "      <th>saliency</th>\n",
       "    </tr>\n",
       "  </thead>\n",
       "  <tbody>\n",
       "    <tr>\n",
       "      <th>929</th>\n",
       "      <td>2019-12-13</td>\n",
       "      <td>DIE LINKE</td>\n",
       "      <td>154</td>\n",
       "      <td>11.0</td>\n",
       "      <td>0.071429</td>\n",
       "    </tr>\n",
       "    <tr>\n",
       "      <th>1008</th>\n",
       "      <td>2020-02-13</td>\n",
       "      <td>GRUENE</td>\n",
       "      <td>195</td>\n",
       "      <td>5.0</td>\n",
       "      <td>0.025641</td>\n",
       "    </tr>\n",
       "    <tr>\n",
       "      <th>470</th>\n",
       "      <td>2018-11-30</td>\n",
       "      <td>CDU</td>\n",
       "      <td>351</td>\n",
       "      <td>3.0</td>\n",
       "      <td>0.008547</td>\n",
       "    </tr>\n",
       "    <tr>\n",
       "      <th>1497</th>\n",
       "      <td>2021-03-05</td>\n",
       "      <td>FDP</td>\n",
       "      <td>164</td>\n",
       "      <td>5.0</td>\n",
       "      <td>0.030488</td>\n",
       "    </tr>\n",
       "    <tr>\n",
       "      <th>1533</th>\n",
       "      <td>2021-04-15</td>\n",
       "      <td>GRUENE</td>\n",
       "      <td>195</td>\n",
       "      <td>3.0</td>\n",
       "      <td>0.015385</td>\n",
       "    </tr>\n",
       "    <tr>\n",
       "      <th>20</th>\n",
       "      <td>2017-11-22</td>\n",
       "      <td>SPD</td>\n",
       "      <td>125</td>\n",
       "      <td>0.0</td>\n",
       "      <td>0.000000</td>\n",
       "    </tr>\n",
       "    <tr>\n",
       "      <th>1286</th>\n",
       "      <td>2020-10-29</td>\n",
       "      <td>DIE LINKE</td>\n",
       "      <td>229</td>\n",
       "      <td>1.0</td>\n",
       "      <td>0.004367</td>\n",
       "    </tr>\n",
       "    <tr>\n",
       "      <th>581</th>\n",
       "      <td>2019-03-13</td>\n",
       "      <td>CSU</td>\n",
       "      <td>27</td>\n",
       "      <td>0.0</td>\n",
       "      <td>0.000000</td>\n",
       "    </tr>\n",
       "  </tbody>\n",
       "</table>\n",
       "</div>"
      ],
      "text/plain": [
       "            date      party  paragraphs_total  paragraphs_climtate  saliency\n",
       "929   2019-12-13  DIE LINKE               154                 11.0  0.071429\n",
       "1008  2020-02-13     GRUENE               195                  5.0  0.025641\n",
       "470   2018-11-30        CDU               351                  3.0  0.008547\n",
       "1497  2021-03-05        FDP               164                  5.0  0.030488\n",
       "1533  2021-04-15     GRUENE               195                  3.0  0.015385\n",
       "20    2017-11-22        SPD               125                  0.0  0.000000\n",
       "1286  2020-10-29  DIE LINKE               229                  1.0  0.004367\n",
       "581   2019-03-13        CSU                27                  0.0  0.000000"
      ]
     },
     "execution_count": 357,
     "metadata": {},
     "output_type": "execute_result"
    }
   ],
   "source": [
    "party_speeches2 = dfg.groupby(['date', \"party\"])[\"name\"].count().reset_index(name=\"count\")\n",
    "partys = pd.merge(party_speeches, party_speeches2, left_on=['date','party'], right_on =['date','party'], how=\"left\")\n",
    "partys = partys.rename(columns={\"count_x\":\"paragraphs_total\", \"count_y\":\"paragraphs_climate\"})\n",
    "partys[\"paragraphs_climate\"].fillna(0, inplace=True)\n",
    "partys[\"saliency\"] = partys[\"paragraphs_climate\"] / partys[\"paragraphs_total\"]\n",
    "partys.sample(8)"
   ]
  },
  {
   "cell_type": "code",
   "execution_count": null,
   "id": "45ff5c10-4075-428e-bcb8-6d954a60a7a0",
   "metadata": {},
   "outputs": [],
   "source": []
  },
  {
   "cell_type": "code",
   "execution_count": 359,
   "id": "24a2cad5-f971-442f-95c8-78437e2398ef",
   "metadata": {},
   "outputs": [],
   "source": [
    "## exclude dates where less than 6 partys spoke in the rolling mean\n",
    "dates_few_partys = partys.groupby(\"date\").party.count()[partys.groupby(\"date\").party.count()<6].index.to_list()\n",
    "partys = partys[~partys.date.isin(dates_few_partys)]"
   ]
  },
  {
   "cell_type": "code",
   "execution_count": 360,
   "id": "ea125a1d-556c-4382-9083-cccd0cdee965",
   "metadata": {},
   "outputs": [],
   "source": [
    "## Calculate rolling mean of climate saliency\n",
    "partys = partys.sort_values([\"date\",\"party\"])\n",
    "rollingdf = pd.DataFrame(partys.set_index(\"date\").groupby(\"party\")[\"saliency\"].rolling(30).mean()).reset_index()\n",
    "rollingdf = rollingdf[~rollingdf[\"saliency\"].isna()]"
   ]
  },
  {
   "cell_type": "code",
   "execution_count": 361,
   "id": "66ad995e-9287-4de0-9478-550e2315802e",
   "metadata": {},
   "outputs": [
    {
     "data": {
      "text/html": [
       "<div>\n",
       "<style scoped>\n",
       "    .dataframe tbody tr th:only-of-type {\n",
       "        vertical-align: middle;\n",
       "    }\n",
       "\n",
       "    .dataframe tbody tr th {\n",
       "        vertical-align: top;\n",
       "    }\n",
       "\n",
       "    .dataframe thead th {\n",
       "        text-align: right;\n",
       "    }\n",
       "</style>\n",
       "<table border=\"1\" class=\"dataframe\">\n",
       "  <thead>\n",
       "    <tr style=\"text-align: right;\">\n",
       "      <th></th>\n",
       "      <th>party</th>\n",
       "      <th>date</th>\n",
       "      <th>saliency</th>\n",
       "      <th>saliency_sum</th>\n",
       "      <th>relative_saliency</th>\n",
       "    </tr>\n",
       "  </thead>\n",
       "  <tbody>\n",
       "    <tr>\n",
       "      <th>29</th>\n",
       "      <td>AfD</td>\n",
       "      <td>2018-05-15</td>\n",
       "      <td>0.011648</td>\n",
       "      <td>0.101030</td>\n",
       "      <td>0.115288</td>\n",
       "    </tr>\n",
       "    <tr>\n",
       "      <th>30</th>\n",
       "      <td>AfD</td>\n",
       "      <td>2018-05-16</td>\n",
       "      <td>0.011792</td>\n",
       "      <td>0.127431</td>\n",
       "      <td>0.092535</td>\n",
       "    </tr>\n",
       "    <tr>\n",
       "      <th>31</th>\n",
       "      <td>AfD</td>\n",
       "      <td>2018-05-17</td>\n",
       "      <td>0.010558</td>\n",
       "      <td>0.122912</td>\n",
       "      <td>0.085896</td>\n",
       "    </tr>\n",
       "  </tbody>\n",
       "</table>\n",
       "</div>"
      ],
      "text/plain": [
       "   party        date  saliency  saliency_sum  relative_saliency\n",
       "29   AfD  2018-05-15  0.011648      0.101030           0.115288\n",
       "30   AfD  2018-05-16  0.011792      0.127431           0.092535\n",
       "31   AfD  2018-05-17  0.010558      0.122912           0.085896"
      ]
     },
     "execution_count": 361,
     "metadata": {},
     "output_type": "execute_result"
    }
   ],
   "source": [
    "# Calculate relative saliency (saliency compared of each party as percentage of the total saliency)\n",
    "saliency_sum = rollingdf.groupby(\"date\")[\"saliency\"].sum()\n",
    "rollingdf[\"saliency_sum\"] = rollingdf[\"date\"].map(saliency_sum)\n",
    "rollingdf[\"relative_saliency\"] = rollingdf[\"saliency\"] / rollingdf[\"saliency_sum\"]\n",
    "rollingdf.head(3)"
   ]
  },
  {
   "cell_type": "code",
   "execution_count": 390,
   "id": "bf9368a1-183c-44d6-b372-e423f7be2868",
   "metadata": {},
   "outputs": [
    {
     "data": {
      "text/plain": [
       "count    209.000000\n",
       "mean       0.043596\n",
       "std        0.010000\n",
       "min        0.024508\n",
       "25%        0.033854\n",
       "50%        0.044808\n",
       "75%        0.050882\n",
       "max        0.065994\n",
       "Name: saliency, dtype: float64"
      ]
     },
     "execution_count": 390,
     "metadata": {},
     "output_type": "execute_result"
    }
   ],
   "source": [
    "rollingdf[rollingdf[\"party\"] == \"GRUENE\"].saliency.describe()"
   ]
  },
  {
   "cell_type": "code",
   "execution_count": 363,
   "id": "8f3e03c3-e05b-409f-a072-a2fbf80b197c",
   "metadata": {},
   "outputs": [
    {
     "data": {
      "application/vnd.plotly.v1+json": {
       "config": {
        "plotlyServerURL": "https://plot.ly"
       },
       "data": [
        {
         "hovertemplate": "party=AfD<br>date=%{x}<br>saliency=%{y}<extra></extra>",
         "legendgroup": "AfD",
         "line": {
          "color": "#59dcff",
          "dash": "solid"
         },
         "marker": {
          "symbol": "circle"
         },
         "mode": "lines",
         "name": "AfD",
         "showlegend": true,
         "type": "scattergl",
         "x": [
          "2018-05-15",
          "2018-05-16",
          "2018-05-17",
          "2018-05-18",
          "2018-06-06",
          "2018-06-07",
          "2018-06-08",
          "2018-06-13",
          "2018-06-14",
          "2018-06-15",
          "2018-06-27",
          "2018-06-28",
          "2018-06-29",
          "2018-07-03",
          "2018-07-04",
          "2018-07-05",
          "2018-09-11",
          "2018-09-12",
          "2018-09-13",
          "2018-09-14",
          "2018-09-26",
          "2018-09-27",
          "2018-09-28",
          "2018-10-10",
          "2018-10-11",
          "2018-10-12",
          "2018-10-17",
          "2018-10-18",
          "2018-10-19",
          "2018-11-07",
          "2018-11-08",
          "2018-11-09",
          "2018-11-20",
          "2018-11-21",
          "2018-11-22",
          "2018-11-23",
          "2018-11-28",
          "2018-11-29",
          "2018-11-30",
          "2018-12-12",
          "2018-12-13",
          "2018-12-14",
          "2019-01-16",
          "2019-01-17",
          "2019-01-18",
          "2019-01-30",
          "2019-01-31",
          "2019-02-01",
          "2019-02-13",
          "2019-02-14",
          "2019-02-15",
          "2019-02-20",
          "2019-02-21",
          "2019-02-22",
          "2019-03-13",
          "2019-03-14",
          "2019-03-15",
          "2019-03-20",
          "2019-03-21",
          "2019-03-22",
          "2019-04-03",
          "2019-04-04",
          "2019-04-05",
          "2019-04-10",
          "2019-04-11",
          "2019-04-12",
          "2019-05-08",
          "2019-05-09",
          "2019-05-10",
          "2019-05-15",
          "2019-05-16",
          "2019-05-17",
          "2019-06-05",
          "2019-06-06",
          "2019-06-07",
          "2019-06-26",
          "2019-06-27",
          "2019-06-28",
          "2019-07-24",
          "2019-09-10",
          "2019-09-11",
          "2019-09-12",
          "2019-09-13",
          "2019-09-25",
          "2019-09-26",
          "2019-09-27",
          "2019-10-16",
          "2019-10-17",
          "2019-10-18",
          "2019-10-23",
          "2019-10-24",
          "2019-10-25",
          "2019-11-06",
          "2019-11-07",
          "2019-11-08",
          "2019-11-13",
          "2019-11-14",
          "2019-11-15",
          "2019-11-26",
          "2019-11-27",
          "2019-11-28",
          "2019-11-29",
          "2019-12-11",
          "2019-12-12",
          "2019-12-13",
          "2019-12-18",
          "2019-12-19",
          "2019-12-20",
          "2020-01-15",
          "2020-01-16",
          "2020-01-17",
          "2020-01-29",
          "2020-01-30",
          "2020-01-31",
          "2020-02-12",
          "2020-02-13",
          "2020-02-14",
          "2020-03-04",
          "2020-03-05",
          "2020-03-06",
          "2020-03-11",
          "2020-03-12",
          "2020-03-13",
          "2020-03-25",
          "2020-04-22",
          "2020-04-23",
          "2020-05-06",
          "2020-05-07",
          "2020-05-13",
          "2020-05-14",
          "2020-05-15",
          "2020-05-27",
          "2020-05-28",
          "2020-05-29",
          "2020-06-17",
          "2020-06-18",
          "2020-06-19",
          "2020-06-29",
          "2020-07-01",
          "2020-07-02",
          "2020-07-03",
          "2020-09-09",
          "2020-09-10",
          "2020-09-11",
          "2020-09-16",
          "2020-09-17",
          "2020-09-18",
          "2020-09-29",
          "2020-09-30",
          "2020-10-01",
          "2020-10-02",
          "2020-10-07",
          "2020-10-08",
          "2020-10-09",
          "2020-10-28",
          "2020-10-29",
          "2020-10-30",
          "2020-11-04",
          "2020-11-05",
          "2020-11-06",
          "2020-11-18",
          "2020-11-19",
          "2020-11-20",
          "2020-11-25",
          "2020-11-26",
          "2020-11-27",
          "2020-12-08",
          "2020-12-09",
          "2020-12-10",
          "2020-12-11",
          "2020-12-16",
          "2020-12-17",
          "2021-01-13",
          "2021-01-14",
          "2021-01-27",
          "2021-01-28",
          "2021-01-29",
          "2021-02-10",
          "2021-02-11",
          "2021-02-12",
          "2021-02-24",
          "2021-02-25",
          "2021-02-26",
          "2021-03-03",
          "2021-03-04",
          "2021-03-05",
          "2021-03-24",
          "2021-03-25",
          "2021-03-26",
          "2021-04-13",
          "2021-04-15",
          "2021-04-16",
          "2021-04-21",
          "2021-04-22",
          "2021-04-23",
          "2021-05-05",
          "2021-05-06",
          "2021-05-07",
          "2021-05-19",
          "2021-05-20",
          "2021-05-21",
          "2021-06-09",
          "2021-06-10",
          "2021-06-11",
          "2021-06-23",
          "2021-06-24",
          "2021-06-25",
          "2021-08-25",
          "2021-09-07"
         ],
         "xaxis": "x",
         "y": [
          0.011647528610624963,
          0.011791828754925106,
          0.010557706642634439,
          0.010557706642634439,
          0.010044886129813925,
          0.010044886129813925,
          0.011221356718049219,
          0.01285508530829955,
          0.01285508530829955,
          0.013020101809949716,
          0.013020101809949716,
          0.014076778082764316,
          0.0146003382921884,
          0.016293046625521734,
          0.01646888248917603,
          0.01624516884264359,
          0.017969306773678074,
          0.017925215062919702,
          0.018341881729586364,
          0.018341881729586364,
          0.020096267694498644,
          0.020889918488149438,
          0.021366277408088122,
          0.021441537397141216,
          0.021609041584745907,
          0.021609041584745907,
          0.021609041584745907,
          0.0168790771842944,
          0.01697810102723713,
          0.017855294009693275,
          0.016780025192488977,
          0.017582694745158525,
          0.01842593839719763,
          0.01856599441960659,
          0.019300208810208646,
          0.020295233685830534,
          0.01911876309759524,
          0.01720472475498547,
          0.018973432237978666,
          0.018808415736328504,
          0.018808415736328504,
          0.0177517394635139,
          0.01722817925408982,
          0.015665172606878403,
          0.017686930756674896,
          0.017686930756674896,
          0.01616179780076479,
          0.01623528398536209,
          0.01654325499985484,
          0.017168254999854842,
          0.01584397656182428,
          0.01505032576817349,
          0.014533630667027985,
          0.013144741778139096,
          0.01375243138898402,
          0.01396207499485404,
          0.014931067242916056,
          0.014754826737162656,
          0.014771090073098122,
          0.013893897090641982,
          0.013893897090641982,
          0.01369002718135806,
          0.012441561379314547,
          0.012301505356905582,
          0.011952647421024145,
          0.011444240550268433,
          0.0124859072169351,
          0.013127966509788043,
          0.012219474080558288,
          0.012219474080558288,
          0.012219474080558288,
          0.012219474080558288,
          0.014479361086208006,
          0.014906762464152939,
          0.01249130352695487,
          0.01285362236753458,
          0.012730203182281708,
          0.013357775198742613,
          0.012633137517583192,
          0.015152791605633507,
          0.015516334872402579,
          0.01585134324761196,
          0.01670537396911195,
          0.01670537396911195,
          0.016647883519944635,
          0.016755700231534932,
          0.016342263539028474,
          0.01611336425471357,
          0.016357429432407068,
          0.016357429432407068,
          0.016357429432407068,
          0.017524051866943516,
          0.01843479867932967,
          0.018594288312503517,
          0.018598036916148655,
          0.018111418911282477,
          0.017298585196560894,
          0.01815974464086724,
          0.02031371398426692,
          0.022014394256375764,
          0.022176995882392025,
          0.023426995882392023,
          0.021167108876742304,
          0.020739204779083722,
          0.02148408373625318,
          0.02133140850154349,
          0.022191495226291876,
          0.021358161892958537,
          0.021358161892958537,
          0.01849244783280223,
          0.018443675996320893,
          0.01810866762111151,
          0.017335339421907302,
          0.018509048342095095,
          0.0177913449928128,
          0.017821106897574705,
          0.01816645224292005,
          0.018627456948019615,
          0.018809198797256742,
          0.01968179914629688,
          0.01968179914629688,
          0.017772076924074662,
          0.01667918074921127,
          0.01651969111603743,
          0.01613058605767167,
          0.016902190995943273,
          0.017625738996379148,
          0.01575120506647609,
          0.013070354002646303,
          0.011473840397204125,
          0.011311238771187865,
          0.010284952417720306,
          0.010284952417720306,
          0.010920279445195828,
          0.010175400488026367,
          0.010802077073315246,
          0.009866404558695365,
          0.009866404558695365,
          0.009866404558695365,
          0.009684646260636151,
          0.008939767303466692,
          0.009727168878269844,
          0.009557100851058958,
          0.008857325580160263,
          0.009320288543123226,
          0.011005586646104258,
          0.010272189932808047,
          0.01073975034326816,
          0.01072996994204158,
          0.009999819735451583,
          0.009999819735451583,
          0.010212133960504662,
          0.010559356182726885,
          0.010559356182726885,
          0.011609224949131084,
          0.01083762001085948,
          0.010440794614034082,
          0.010975306398545869,
          0.010880068303307771,
          0.01098957685031632,
          0.01098957685031632,
          0.01099978133243885,
          0.01099978133243885,
          0.010910931014230735,
          0.011209884676413097,
          0.010373564485254196,
          0.012659278770968481,
          0.013142370558408095,
          0.013142370558408095,
          0.013045188828573305,
          0.013045188828573305,
          0.012359413270030317,
          0.012876209135663392,
          0.012402275486374292,
          0.013173880424645897,
          0.01197469343277598,
          0.011807189245171289,
          0.01106157521008357,
          0.01059143603026697,
          0.010678870945288094,
          0.010941338136889142,
          0.010729023911836062,
          0.010381801689613841,
          0.010961511834541379,
          0.010139174353688942,
          0.010299430763945351,
          0.009743875208389796,
          0.009070474534989123,
          0.008832379296893884,
          0.008848589140689934,
          0.009167060478269552,
          0.009137641327119696,
          0.009380950329552785,
          0.008873200766387606,
          0.008752500223634833,
          0.008988906843020174,
          0.00680834502838896,
          0.00787564083784857,
          0.009191430311532781,
          0.010181529321433772,
          0.01087237560813498,
          0.010770749591874818,
          0.010952034005473855,
          0.010952034005473855,
          0.009894771068778294,
          0.010142069489393423,
          0.010344089691413625,
          0.01102680422969732,
          0.012600717143816418
         ],
         "yaxis": "y"
        },
        {
         "hovertemplate": "party=CDU<br>date=%{x}<br>saliency=%{y}<extra></extra>",
         "legendgroup": "CDU",
         "line": {
          "color": "black",
          "dash": "solid"
         },
         "marker": {
          "symbol": "circle"
         },
         "mode": "lines",
         "name": "CDU",
         "showlegend": true,
         "type": "scattergl",
         "x": [
          "2018-05-15",
          "2018-05-16",
          "2018-05-17",
          "2018-05-18",
          "2018-06-06",
          "2018-06-07",
          "2018-06-08",
          "2018-06-13",
          "2018-06-14",
          "2018-06-15",
          "2018-06-27",
          "2018-06-28",
          "2018-06-29",
          "2018-07-03",
          "2018-07-04",
          "2018-07-05",
          "2018-09-11",
          "2018-09-12",
          "2018-09-13",
          "2018-09-14",
          "2018-09-26",
          "2018-09-27",
          "2018-09-28",
          "2018-10-10",
          "2018-10-11",
          "2018-10-12",
          "2018-10-17",
          "2018-10-18",
          "2018-10-19",
          "2018-11-07",
          "2018-11-08",
          "2018-11-09",
          "2018-11-20",
          "2018-11-21",
          "2018-11-22",
          "2018-11-23",
          "2018-11-28",
          "2018-11-29",
          "2018-11-30",
          "2018-12-12",
          "2018-12-13",
          "2018-12-14",
          "2019-01-16",
          "2019-01-17",
          "2019-01-18",
          "2019-01-30",
          "2019-01-31",
          "2019-02-01",
          "2019-02-13",
          "2019-02-14",
          "2019-02-15",
          "2019-02-20",
          "2019-02-21",
          "2019-02-22",
          "2019-03-13",
          "2019-03-14",
          "2019-03-15",
          "2019-03-20",
          "2019-03-21",
          "2019-03-22",
          "2019-04-03",
          "2019-04-04",
          "2019-04-05",
          "2019-04-10",
          "2019-04-11",
          "2019-04-12",
          "2019-05-08",
          "2019-05-09",
          "2019-05-10",
          "2019-05-15",
          "2019-05-16",
          "2019-05-17",
          "2019-06-05",
          "2019-06-06",
          "2019-06-07",
          "2019-06-26",
          "2019-06-27",
          "2019-06-28",
          "2019-07-24",
          "2019-09-10",
          "2019-09-11",
          "2019-09-12",
          "2019-09-13",
          "2019-09-25",
          "2019-09-26",
          "2019-09-27",
          "2019-10-16",
          "2019-10-17",
          "2019-10-18",
          "2019-10-23",
          "2019-10-24",
          "2019-10-25",
          "2019-11-06",
          "2019-11-07",
          "2019-11-08",
          "2019-11-13",
          "2019-11-14",
          "2019-11-15",
          "2019-11-26",
          "2019-11-27",
          "2019-11-28",
          "2019-11-29",
          "2019-12-11",
          "2019-12-12",
          "2019-12-13",
          "2019-12-18",
          "2019-12-19",
          "2019-12-20",
          "2020-01-15",
          "2020-01-16",
          "2020-01-17",
          "2020-01-29",
          "2020-01-30",
          "2020-01-31",
          "2020-02-12",
          "2020-02-13",
          "2020-02-14",
          "2020-03-04",
          "2020-03-05",
          "2020-03-06",
          "2020-03-11",
          "2020-03-12",
          "2020-03-13",
          "2020-03-25",
          "2020-04-22",
          "2020-04-23",
          "2020-05-06",
          "2020-05-07",
          "2020-05-13",
          "2020-05-14",
          "2020-05-15",
          "2020-05-27",
          "2020-05-28",
          "2020-05-29",
          "2020-06-17",
          "2020-06-18",
          "2020-06-19",
          "2020-06-29",
          "2020-07-01",
          "2020-07-02",
          "2020-07-03",
          "2020-09-09",
          "2020-09-10",
          "2020-09-11",
          "2020-09-16",
          "2020-09-17",
          "2020-09-18",
          "2020-09-29",
          "2020-09-30",
          "2020-10-01",
          "2020-10-02",
          "2020-10-07",
          "2020-10-08",
          "2020-10-09",
          "2020-10-28",
          "2020-10-29",
          "2020-10-30",
          "2020-11-04",
          "2020-11-05",
          "2020-11-06",
          "2020-11-18",
          "2020-11-19",
          "2020-11-20",
          "2020-11-25",
          "2020-11-26",
          "2020-11-27",
          "2020-12-08",
          "2020-12-09",
          "2020-12-10",
          "2020-12-11",
          "2020-12-16",
          "2020-12-17",
          "2021-01-13",
          "2021-01-14",
          "2021-01-27",
          "2021-01-28",
          "2021-01-29",
          "2021-02-10",
          "2021-02-11",
          "2021-02-12",
          "2021-02-24",
          "2021-02-25",
          "2021-02-26",
          "2021-03-03",
          "2021-03-04",
          "2021-03-05",
          "2021-03-24",
          "2021-03-25",
          "2021-03-26",
          "2021-04-13",
          "2021-04-15",
          "2021-04-16",
          "2021-04-21",
          "2021-04-22",
          "2021-04-23",
          "2021-05-05",
          "2021-05-06",
          "2021-05-07",
          "2021-05-19",
          "2021-05-20",
          "2021-05-21",
          "2021-06-09",
          "2021-06-10",
          "2021-06-11",
          "2021-06-23",
          "2021-06-24",
          "2021-06-25",
          "2021-08-25",
          "2021-09-07"
         ],
         "xaxis": "x",
         "y": [
          0.019651438183527214,
          0.020210097401404305,
          0.018906559226357752,
          0.018906559226357752,
          0.01878445910425763,
          0.019073685423852717,
          0.01975861693070203,
          0.01891013208221718,
          0.018994095138472427,
          0.018323874745068643,
          0.018323874745068643,
          0.019703685928801395,
          0.019523505748621214,
          0.019804404625025706,
          0.0194065492291119,
          0.019589699412262088,
          0.02131113916187085,
          0.0212119328126645,
          0.0212119328126645,
          0.0212119328126645,
          0.021892204921508042,
          0.02298879122001517,
          0.023091355322579273,
          0.02878336311985023,
          0.02878336311985023,
          0.02877361161509217,
          0.029243095183167287,
          0.0173562721589035,
          0.017302702879982108,
          0.017302702879982108,
          0.01535233497251313,
          0.015248738325739562,
          0.01629448995972649,
          0.016729272568422143,
          0.016976186148669057,
          0.01668695982907397,
          0.016002028322224655,
          0.01643380725141291,
          0.01663474448005795,
          0.016404063972560834,
          0.016404063972560834,
          0.015024252788828081,
          0.015024252788828081,
          0.014743353912423587,
          0.015094363493727466,
          0.014911213310577284,
          0.013507233878428837,
          0.013619467323995615,
          0.015373853288907896,
          0.015373853288907896,
          0.01469358118006436,
          0.01426187363896029,
          0.014227060213902963,
          0.008093726880569628,
          0.008093726880569628,
          0.008354314348392894,
          0.009303270496629833,
          0.009224281555081652,
          0.009325251274416585,
          0.00949445601214924,
          0.009419041230852104,
          0.010107338378306185,
          0.009295504872974229,
          0.008860722264278578,
          0.008932787950379351,
          0.009080280575748082,
          0.009080280575748082,
          0.009958902956961137,
          0.011175504173562353,
          0.011175504173562353,
          0.011263921503358995,
          0.011606387256783651,
          0.020697296347692743,
          0.021180388135132355,
          0.020534393303091012,
          0.02085490612360383,
          0.02066816476039188,
          0.021368939444906403,
          0.01961455347999412,
          0.024699299242705985,
          0.026347650891057634,
          0.026341104674770646,
          0.026703461524145596,
          0.026170128190812263,
          0.02739667941736349,
          0.027467354889498814,
          0.026048915173186755,
          0.02791673126514078,
          0.027698390653787066,
          0.029314900201768697,
          0.029538114487482985,
          0.03108533772856663,
          0.03085141959991166,
          0.03093331968181174,
          0.03159185752201342,
          0.032050425502705295,
          0.03269392614620594,
          0.033407334359614155,
          0.035594897416742426,
          0.03794621138631366,
          0.03829832269087825,
          0.03817660748932997,
          0.02931245576803539,
          0.028923260694210803,
          0.030038087895994527,
          0.030129097709226563,
          0.031099700340881282,
          0.030420561019367583,
          0.030420561019367583,
          0.025596911862399842,
          0.025016175872411183,
          0.024658349619062544,
          0.02443722850806379,
          0.02498667905751434,
          0.02406042813126341,
          0.023584237655072938,
          0.025242612447776088,
          0.023374796355822063,
          0.02399536373170859,
          0.022460276012410345,
          0.022237061726696056,
          0.0195464787670548,
          0.01991891824563953,
          0.01983701816373945,
          0.018859501057190087,
          0.018501271925726755,
          0.018114181538636365,
          0.016090372014826843,
          0.012401307456197068,
          0.010417911073086471,
          0.010178185651576641,
          0.010202533138915948,
          0.010055330264130394,
          0.010776927943991415,
          0.009662100742207691,
          0.009910644115063495,
          0.009245052376654966,
          0.009111183568087362,
          0.009601379646518736,
          0.010046165393715785,
          0.009347553425389695,
          0.00946965354748982,
          0.009260667131606852,
          0.009925791480941725,
          0.012384111870296598,
          0.013089579242430639,
          0.011431204449727487,
          0.01308514847008372,
          0.013964581094197194,
          0.013927629741456369,
          0.014089442039190998,
          0.015195287220865565,
          0.014996007915441005,
          0.01513785188707221,
          0.017137851887072213,
          0.016962800616259505,
          0.016706390359849253,
          0.016706390359849253,
          0.017144986851077324,
          0.017122492407967295,
          0.01714391141733811,
          0.0169849460223946,
          0.01728275001813168,
          0.01847226815598396,
          0.018763813345488333,
          0.018103747338887675,
          0.019262220389943845,
          0.02059555372327718,
          0.02057985349300713,
          0.02073977200586682,
          0.02037076831582992,
          0.019800951847575955,
          0.020414448780091292,
          0.019375312477797096,
          0.016899177663848134,
          0.016193710291714097,
          0.016302642753587736,
          0.014648698733231501,
          0.013230598815131583,
          0.013016923601456369,
          0.012855111303721741,
          0.012384186756967812,
          0.01221102658380764,
          0.013281303824297645,
          0.011668900723522451,
          0.012655850770219577,
          0.012655850770219577,
          0.013121400118450489,
          0.012798143880970976,
          0.012452720737620373,
          0.012555701767430672,
          0.012759424195622258,
          0.012547903184326536,
          0.012061877994770369,
          0.012394552530609317,
          0.012612417454356593,
          0.011092785771316682,
          0.011700091707389738,
          0.01141498979862235,
          0.01064497437343451,
          0.011902836008654636,
          0.01183773184198797,
          0.012083341438682256,
          0.012028239785632664,
          0.011745753909926448,
          0.013742281687704225,
          0.013851928460803267,
          0.014028295303836777,
          0.01576457704011851
         ],
         "yaxis": "y"
        },
        {
         "hovertemplate": "party=CSU<br>date=%{x}<br>saliency=%{y}<extra></extra>",
         "legendgroup": "CSU",
         "line": {
          "color": "#525060",
          "dash": "solid"
         },
         "marker": {
          "symbol": "circle"
         },
         "mode": "lines",
         "name": "CSU",
         "showlegend": true,
         "type": "scattergl",
         "x": [
          "2018-05-16",
          "2018-05-17",
          "2018-05-18",
          "2018-06-06",
          "2018-06-07",
          "2018-06-08",
          "2018-06-13",
          "2018-06-14",
          "2018-06-15",
          "2018-06-27",
          "2018-06-28",
          "2018-06-29",
          "2018-07-03",
          "2018-07-04",
          "2018-07-05",
          "2018-09-11",
          "2018-09-12",
          "2018-09-13",
          "2018-09-14",
          "2018-09-26",
          "2018-09-27",
          "2018-09-28",
          "2018-10-10",
          "2018-10-11",
          "2018-10-12",
          "2018-10-17",
          "2018-10-18",
          "2018-10-19",
          "2018-11-07",
          "2018-11-08",
          "2018-11-09",
          "2018-11-20",
          "2018-11-21",
          "2018-11-22",
          "2018-11-23",
          "2018-11-28",
          "2018-11-29",
          "2018-11-30",
          "2018-12-13",
          "2018-12-14",
          "2019-01-17",
          "2019-01-18",
          "2019-01-30",
          "2019-01-31",
          "2019-02-01",
          "2019-02-13",
          "2019-02-14",
          "2019-02-15",
          "2019-02-20",
          "2019-02-21",
          "2019-02-22",
          "2019-03-13",
          "2019-03-14",
          "2019-03-15",
          "2019-03-20",
          "2019-03-21",
          "2019-03-22",
          "2019-04-04",
          "2019-04-05",
          "2019-04-10",
          "2019-04-11",
          "2019-04-12",
          "2019-05-09",
          "2019-05-10",
          "2019-05-15",
          "2019-05-16",
          "2019-05-17",
          "2019-06-05",
          "2019-06-06",
          "2019-06-07",
          "2019-06-26",
          "2019-06-27",
          "2019-06-28",
          "2019-07-24",
          "2019-09-10",
          "2019-09-11",
          "2019-09-12",
          "2019-09-13",
          "2019-09-25",
          "2019-09-26",
          "2019-09-27",
          "2019-10-16",
          "2019-10-17",
          "2019-10-18",
          "2019-10-23",
          "2019-10-24",
          "2019-10-25",
          "2019-11-07",
          "2019-11-08",
          "2019-11-13",
          "2019-11-14",
          "2019-11-15",
          "2019-11-26",
          "2019-11-27",
          "2019-11-28",
          "2019-11-29",
          "2019-12-11",
          "2019-12-12",
          "2019-12-13",
          "2019-12-18",
          "2019-12-19",
          "2019-12-20",
          "2020-01-15",
          "2020-01-16",
          "2020-01-17",
          "2020-01-29",
          "2020-01-30",
          "2020-01-31",
          "2020-02-12",
          "2020-02-13",
          "2020-02-14",
          "2020-03-04",
          "2020-03-05",
          "2020-03-06",
          "2020-03-11",
          "2020-03-12",
          "2020-03-13",
          "2020-03-25",
          "2020-04-22",
          "2020-04-23",
          "2020-05-06",
          "2020-05-07",
          "2020-05-13",
          "2020-05-14",
          "2020-05-15",
          "2020-05-27",
          "2020-05-28",
          "2020-05-29",
          "2020-06-17",
          "2020-06-18",
          "2020-06-19",
          "2020-06-29",
          "2020-07-01",
          "2020-07-02",
          "2020-07-03",
          "2020-09-09",
          "2020-09-10",
          "2020-09-11",
          "2020-09-16",
          "2020-09-17",
          "2020-09-18",
          "2020-09-29",
          "2020-09-30",
          "2020-10-01",
          "2020-10-02",
          "2020-10-07",
          "2020-10-08",
          "2020-10-09",
          "2020-10-28",
          "2020-10-29",
          "2020-10-30",
          "2020-11-04",
          "2020-11-05",
          "2020-11-06",
          "2020-11-18",
          "2020-11-19",
          "2020-11-20",
          "2020-11-25",
          "2020-11-26",
          "2020-11-27",
          "2020-12-08",
          "2020-12-09",
          "2020-12-10",
          "2020-12-11",
          "2020-12-16",
          "2020-12-17",
          "2021-01-13",
          "2021-01-14",
          "2021-01-27",
          "2021-01-28",
          "2021-01-29",
          "2021-02-10",
          "2021-02-11",
          "2021-02-12",
          "2021-02-24",
          "2021-02-25",
          "2021-02-26",
          "2021-03-03",
          "2021-03-04",
          "2021-03-05",
          "2021-03-24",
          "2021-03-25",
          "2021-03-26",
          "2021-04-13",
          "2021-04-15",
          "2021-04-16",
          "2021-04-21",
          "2021-04-22",
          "2021-04-23",
          "2021-05-05",
          "2021-05-06",
          "2021-05-07",
          "2021-05-19",
          "2021-05-20",
          "2021-05-21",
          "2021-06-09",
          "2021-06-10",
          "2021-06-11",
          "2021-06-23",
          "2021-06-24",
          "2021-06-25",
          "2021-08-25",
          "2021-09-07"
         ],
         "xaxis": "x",
         "y": [
          0.024108313551749305,
          0.024108313551749305,
          0.02211401155744731,
          0.024197344890780643,
          0.024197344890780643,
          0.02446616209508172,
          0.024129461758381383,
          0.024129461758381383,
          0.02554790147469344,
          0.02554790147469344,
          0.02817948042206186,
          0.02748503597761742,
          0.02748503597761742,
          0.026367717541863227,
          0.026367717541863227,
          0.03228169603648688,
          0.03228169603648688,
          0.032587506434040396,
          0.032587506434040396,
          0.032587506434040396,
          0.03379232571114883,
          0.03379232571114883,
          0.03898023420788086,
          0.03898023420788086,
          0.03878182150946816,
          0.03878182150946816,
          0.02703138059236058,
          0.026586936147916136,
          0.026586936147916136,
          0.021378602814582804,
          0.0223786028145828,
          0.025099691249956955,
          0.025099691249956955,
          0.02301635791662362,
          0.02301635791662362,
          0.022747540712322545,
          0.022986775162083306,
          0.025764552939861084,
          0.02434611322354903,
          0.02434611322354903,
          0.021909466050059747,
          0.02493976908036278,
          0.02493976908036278,
          0.025168079582645886,
          0.025168079582645886,
          0.019254101088022228,
          0.019254101088022228,
          0.01925693266577735,
          0.01925693266577735,
          0.01925693266577735,
          0.018052113388668918,
          0.018052113388668918,
          0.012845436123168123,
          0.014768513046245046,
          0.01628366456139656,
          0.016283664561396564,
          0.016129343573742242,
          0.01652854517054863,
          0.01789840818424726,
          0.01789840818424726,
          0.017072019295358367,
          0.014350930859984219,
          0.016901951268147485,
          0.016901951268147485,
          0.016901951268147485,
          0.017168617934814154,
          0.015414231969901873,
          0.01930312085879076,
          0.019978796534466436,
          0.019978796534466436,
          0.02045053142725396,
          0.01768269558855198,
          0.01872436225521865,
          0.018496051752935543,
          0.018496051752935543,
          0.021363435265480346,
          0.02326819717024225,
          0.024241606476984888,
          0.024241606476984888,
          0.027252359165156934,
          0.027558169562710448,
          0.027558169562710448,
          0.030215827220368106,
          0.028292750297291183,
          0.02677759878213967,
          0.027102802034172188,
          0.028790565747252358,
          0.02886084771852109,
          0.02900613621997398,
          0.029006136219973975,
          0.029273053743224097,
          0.033132702866031115,
          0.036783232845464746,
          0.03726632463290436,
          0.03726632463290436,
          0.040703361669941394,
          0.040703361669941394,
          0.03403669500327473,
          0.03450062046720019,
          0.034870990837570566,
          0.0367105898350643,
          0.03644812264346324,
          0.03601251658285719,
          0.03642403921660205,
          0.038070129751581465,
          0.03699486093437717,
          0.03509009902961526,
          0.03522648746387604,
          0.0357641218724782,
          0.03297411973618252,
          0.03336275378307345,
          0.034156404576724246,
          0.03166340737784469,
          0.033276310603651146,
          0.033276310603651146,
          0.03295110735161863,
          0.03126334363853846,
          0.030793860070463343,
          0.029278708555311825,
          0.03184281111941439,
          0.03266014412027328,
          0.030626979015731103,
          0.0244254286281342,
          0.024316868675900584,
          0.024316868675900584,
          0.020613164972196882,
          0.020804735853422938,
          0.020804735853422938,
          0.019665134713821794,
          0.02053589909522447,
          0.01802963343106407,
          0.01802963343106407,
          0.019431604953517524,
          0.02046935768209151,
          0.019887096934346128,
          0.01851164890567229,
          0.01851164890567229,
          0.017093209189360234,
          0.01826497649015979,
          0.020917789156674214,
          0.020223344712229772,
          0.023596360585245647,
          0.023925615094066717,
          0.022312711868260268,
          0.022312711868260268,
          0.023213612769161167,
          0.02401682562056679,
          0.024601620942204215,
          0.02511444145502473,
          0.022728592010351753,
          0.022451122531994373,
          0.024624638513729535,
          0.025114834592160906,
          0.024740302756954918,
          0.024740302756954918,
          0.025442057142919826,
          0.025250486261693773,
          0.028149036986331456,
          0.028149036986331456,
          0.02734080266745884,
          0.02734080266745884,
          0.02734080266745884,
          0.025332770538944782,
          0.025433882773525165,
          0.025145246784740737,
          0.02495533748768858,
          0.02733628986864096,
          0.02779291087320717,
          0.027709525423968064,
          0.025109186249293106,
          0.025109186249293106,
          0.02094251958262644,
          0.019772928939351585,
          0.019772928939351585,
          0.021007496840586153,
          0.020786868048528792,
          0.019983655197123164,
          0.020633427776720312,
          0.020537273930566462,
          0.0209489913126118,
          0.019968599155749056,
          0.016147810625283105,
          0.01623232719052989,
          0.01623232719052989,
          0.016532627490830194,
          0.015830873104865282,
          0.015830873104865282,
          0.016472145389077156,
          0.016472145389077156,
          0.016039244956176722,
          0.016525862961042904,
          0.024025862961042907,
          0.024025862961042907,
          0.02350906709540983,
          0.026189157849805744,
          0.02596240048019123,
          0.02769667443668741,
          0.027560566252634023,
          0.02593454999247142,
          0.028924729212158835,
          0.03127214705253442,
          0.03178496756535494,
          0.03314551178304201
         ],
         "yaxis": "y"
        },
        {
         "hovertemplate": "party=DIE LINKE<br>date=%{x}<br>saliency=%{y}<extra></extra>",
         "legendgroup": "DIE LINKE",
         "line": {
          "color": "#a33ab5",
          "dash": "solid"
         },
         "marker": {
          "symbol": "circle"
         },
         "mode": "lines",
         "name": "DIE LINKE",
         "showlegend": true,
         "type": "scattergl",
         "x": [
          "2018-05-15",
          "2018-05-16",
          "2018-05-17",
          "2018-05-18",
          "2018-06-06",
          "2018-06-07",
          "2018-06-08",
          "2018-06-13",
          "2018-06-14",
          "2018-06-15",
          "2018-06-27",
          "2018-06-28",
          "2018-06-29",
          "2018-07-03",
          "2018-07-04",
          "2018-07-05",
          "2018-09-11",
          "2018-09-12",
          "2018-09-13",
          "2018-09-14",
          "2018-09-26",
          "2018-09-27",
          "2018-09-28",
          "2018-10-10",
          "2018-10-11",
          "2018-10-12",
          "2018-10-17",
          "2018-10-18",
          "2018-10-19",
          "2018-11-07",
          "2018-11-08",
          "2018-11-09",
          "2018-11-20",
          "2018-11-21",
          "2018-11-22",
          "2018-11-23",
          "2018-11-28",
          "2018-11-29",
          "2018-11-30",
          "2018-12-12",
          "2018-12-13",
          "2018-12-14",
          "2019-01-16",
          "2019-01-17",
          "2019-01-18",
          "2019-01-30",
          "2019-01-31",
          "2019-02-01",
          "2019-02-13",
          "2019-02-14",
          "2019-02-15",
          "2019-02-20",
          "2019-02-21",
          "2019-02-22",
          "2019-03-13",
          "2019-03-14",
          "2019-03-15",
          "2019-03-20",
          "2019-03-21",
          "2019-03-22",
          "2019-04-03",
          "2019-04-04",
          "2019-04-05",
          "2019-04-10",
          "2019-04-11",
          "2019-04-12",
          "2019-05-08",
          "2019-05-09",
          "2019-05-10",
          "2019-05-15",
          "2019-05-16",
          "2019-05-17",
          "2019-06-05",
          "2019-06-06",
          "2019-06-07",
          "2019-06-26",
          "2019-06-27",
          "2019-06-28",
          "2019-07-24",
          "2019-09-10",
          "2019-09-11",
          "2019-09-12",
          "2019-09-13",
          "2019-09-25",
          "2019-09-26",
          "2019-09-27",
          "2019-10-16",
          "2019-10-17",
          "2019-10-18",
          "2019-10-23",
          "2019-10-24",
          "2019-10-25",
          "2019-11-06",
          "2019-11-07",
          "2019-11-08",
          "2019-11-13",
          "2019-11-14",
          "2019-11-15",
          "2019-11-26",
          "2019-11-27",
          "2019-11-28",
          "2019-11-29",
          "2019-12-11",
          "2019-12-12",
          "2019-12-13",
          "2019-12-18",
          "2019-12-19",
          "2019-12-20",
          "2020-01-15",
          "2020-01-16",
          "2020-01-17",
          "2020-01-29",
          "2020-01-30",
          "2020-01-31",
          "2020-02-12",
          "2020-02-13",
          "2020-02-14",
          "2020-03-04",
          "2020-03-05",
          "2020-03-06",
          "2020-03-11",
          "2020-03-12",
          "2020-03-13",
          "2020-03-25",
          "2020-04-22",
          "2020-04-23",
          "2020-05-06",
          "2020-05-07",
          "2020-05-13",
          "2020-05-14",
          "2020-05-15",
          "2020-05-27",
          "2020-05-28",
          "2020-05-29",
          "2020-06-17",
          "2020-06-18",
          "2020-06-19",
          "2020-06-29",
          "2020-07-01",
          "2020-07-02",
          "2020-07-03",
          "2020-09-09",
          "2020-09-10",
          "2020-09-11",
          "2020-09-16",
          "2020-09-17",
          "2020-09-18",
          "2020-09-29",
          "2020-09-30",
          "2020-10-01",
          "2020-10-02",
          "2020-10-07",
          "2020-10-08",
          "2020-10-09",
          "2020-10-28",
          "2020-10-29",
          "2020-10-30",
          "2020-11-04",
          "2020-11-05",
          "2020-11-06",
          "2020-11-18",
          "2020-11-19",
          "2020-11-20",
          "2020-11-25",
          "2020-11-26",
          "2020-11-27",
          "2020-12-08",
          "2020-12-09",
          "2020-12-10",
          "2020-12-11",
          "2020-12-16",
          "2020-12-17",
          "2021-01-13",
          "2021-01-14",
          "2021-01-27",
          "2021-01-28",
          "2021-01-29",
          "2021-02-10",
          "2021-02-11",
          "2021-02-12",
          "2021-02-24",
          "2021-02-25",
          "2021-02-26",
          "2021-03-03",
          "2021-03-04",
          "2021-03-05",
          "2021-03-24",
          "2021-03-25",
          "2021-03-26",
          "2021-04-13",
          "2021-04-15",
          "2021-04-16",
          "2021-04-21",
          "2021-04-22",
          "2021-04-23",
          "2021-05-05",
          "2021-05-06",
          "2021-05-07",
          "2021-05-19",
          "2021-05-20",
          "2021-05-21",
          "2021-06-09",
          "2021-06-10",
          "2021-06-11",
          "2021-06-23",
          "2021-06-24",
          "2021-06-25",
          "2021-08-25",
          "2021-09-07"
         ],
         "xaxis": "x",
         "y": [
          0.01500848052170664,
          0.015248288675183859,
          0.014527938790954376,
          0.015277002461366361,
          0.01506735885549634,
          0.015072262876793805,
          0.016024643829174755,
          0.01516197992303259,
          0.01516197992303259,
          0.015367741239905018,
          0.015367741239905018,
          0.01632402539291048,
          0.01632402539291048,
          0.017157358726243816,
          0.016459908028793116,
          0.016637212993332127,
          0.018648707246205688,
          0.018220817234982346,
          0.018397326194730623,
          0.018397326194730623,
          0.018397326194730623,
          0.019555313756226957,
          0.019939170258469117,
          0.022464422783721634,
          0.022464422783721634,
          0.022464422783721634,
          0.022464422783721634,
          0.018781061522628113,
          0.018781061522628113,
          0.01886745174059728,
          0.01872821215499091,
          0.019821737334847028,
          0.020826449702589532,
          0.020291061245852764,
          0.020723961678753195,
          0.02050538244378052,
          0.017172049110447184,
          0.01758807573615123,
          0.019282990990388514,
          0.01907722967351609,
          0.01907722967351609,
          0.018398723298288403,
          0.018398723298288403,
          0.01791261218717729,
          0.019121672487146683,
          0.018944367522607676,
          0.017983924320785164,
          0.018270720857581697,
          0.01837907160442792,
          0.01850298734172656,
          0.01850298734172656,
          0.0177917688768849,
          0.01738098456315941,
          0.014350681532856381,
          0.014350681532856381,
          0.014663670578239795,
          0.014930337244906462,
          0.015113629607005914,
          0.015113629607005914,
          0.015304642298018605,
          0.014843281283024371,
          0.013791241901871065,
          0.011337254171809715,
          0.011123578958134503,
          0.01096502694773064,
          0.01228515896093196,
          0.012926184601957602,
          0.013875751447110184,
          0.013953885838262967,
          0.01594393558950675,
          0.01594393558950675,
          0.01566615781172897,
          0.022642901997775484,
          0.022998914656003334,
          0.02162150418768377,
          0.02162150418768377,
          0.020570453136632718,
          0.021981055113272432,
          0.021416083361860006,
          0.024046988561200487,
          0.02550532189453382,
          0.024308571784740232,
          0.025086923666033285,
          0.025086923666033285,
          0.02649537437025864,
          0.026400250248622508,
          0.02613358358195584,
          0.027574784670049583,
          0.02787240371766863,
          0.027302603147868063,
          0.027587503432768345,
          0.02931122201191664,
          0.02931122201191664,
          0.029468454716319155,
          0.029603104248832803,
          0.030410631810099575,
          0.030535889693978146,
          0.029349881439203085,
          0.028928183145164366,
          0.02733495879074598,
          0.02733495879074598,
          0.02787259319934813,
          0.021232549350001954,
          0.0210124062569915,
          0.023393358637943878,
          0.023723391641244207,
          0.024755840018825328,
          0.02286904756599514,
          0.023662698359645937,
          0.021276201548237016,
          0.022825387011896167,
          0.024175425861935013,
          0.023274524961034115,
          0.02441412610063526,
          0.023005675396409905,
          0.023059919316200043,
          0.024171030427311155,
          0.022164857587804978,
          0.023493254800348532,
          0.025129246620389435,
          0.02484434633548915,
          0.02311481589782474,
          0.02311481589782474,
          0.022957583193422223,
          0.022548585238412,
          0.02111537010838836,
          0.022339136334727925,
          0.021858511162433987,
          0.020507159811082636,
          0.020647968822859394,
          0.020647968822859394,
          0.020110334414257244,
          0.019773634077556904,
          0.019777160294983474,
          0.01739620791403109,
          0.017587008244064097,
          0.016554559866482972,
          0.016554559866482972,
          0.015760909072832178,
          0.015523818543402502,
          0.012940928196516177,
          0.012095939851527831,
          0.01241800104315424,
          0.011915342578712336,
          0.013521768281523582,
          0.01576538270842642,
          0.014654271597315308,
          0.017630462073505784,
          0.01701454682344419,
          0.015378555003403292,
          0.016019580644428932,
          0.016118630385971014,
          0.016443833638003537,
          0.01670024389441379,
          0.01738051600325733,
          0.016831631966382026,
          0.015056635978579104,
          0.016056562454573518,
          0.0167403231383342,
          0.01648046650750983,
          0.01648046650750983,
          0.016820602561931595,
          0.01707312781445685,
          0.018943412166493027,
          0.019259367932685758,
          0.018738534599352426,
          0.020629787554435168,
          0.02151278976194069,
          0.022017840266991193,
          0.0228255738073409,
          0.022400945357234744,
          0.02194098864727804,
          0.021985227821951992,
          0.021523723743283985,
          0.020590698713873413,
          0.01821621838128627,
          0.01821621838128627,
          0.01577766231369794,
          0.015308101844137473,
          0.015308101844137473,
          0.014667076203111832,
          0.014694150793608649,
          0.01436894754157613,
          0.015394588567217156,
          0.015367911229615448,
          0.017000128599824086,
          0.016785074836383227,
          0.015561354727251463,
          0.015307701570372501,
          0.015604636436272882,
          0.016245662077298526,
          0.015905526022876756,
          0.0156530007703515,
          0.014900376488315457,
          0.015014528249004445,
          0.015014528249004445,
          0.013270118172042112,
          0.014422739374205804,
          0.013917688869155299,
          0.013820472574755906,
          0.016446735201018536,
          0.016149116153399486,
          0.018221840177343022,
          0.018512602047052257,
          0.017839201373651584,
          0.01831524238641576,
          0.01831524238641576,
          0.018302542361015712,
          0.018362602421075774
         ],
         "yaxis": "y"
        },
        {
         "hovertemplate": "party=FDP<br>date=%{x}<br>saliency=%{y}<extra></extra>",
         "legendgroup": "FDP",
         "line": {
          "color": "#ffeb3b",
          "dash": "solid"
         },
         "marker": {
          "symbol": "circle"
         },
         "mode": "lines",
         "name": "FDP",
         "showlegend": true,
         "type": "scattergl",
         "x": [
          "2018-05-15",
          "2018-05-16",
          "2018-05-17",
          "2018-05-18",
          "2018-06-06",
          "2018-06-07",
          "2018-06-08",
          "2018-06-13",
          "2018-06-14",
          "2018-06-15",
          "2018-06-27",
          "2018-06-28",
          "2018-06-29",
          "2018-07-03",
          "2018-07-04",
          "2018-07-05",
          "2018-09-11",
          "2018-09-12",
          "2018-09-13",
          "2018-09-14",
          "2018-09-26",
          "2018-09-27",
          "2018-09-28",
          "2018-10-10",
          "2018-10-11",
          "2018-10-12",
          "2018-10-17",
          "2018-10-18",
          "2018-10-19",
          "2018-11-07",
          "2018-11-08",
          "2018-11-09",
          "2018-11-20",
          "2018-11-21",
          "2018-11-22",
          "2018-11-23",
          "2018-11-28",
          "2018-11-29",
          "2018-11-30",
          "2018-12-12",
          "2018-12-13",
          "2018-12-14",
          "2019-01-16",
          "2019-01-17",
          "2019-01-18",
          "2019-01-30",
          "2019-01-31",
          "2019-02-01",
          "2019-02-13",
          "2019-02-14",
          "2019-02-15",
          "2019-02-20",
          "2019-02-21",
          "2019-02-22",
          "2019-03-13",
          "2019-03-14",
          "2019-03-15",
          "2019-03-20",
          "2019-03-21",
          "2019-03-22",
          "2019-04-03",
          "2019-04-04",
          "2019-04-05",
          "2019-04-10",
          "2019-04-11",
          "2019-04-12",
          "2019-05-08",
          "2019-05-09",
          "2019-05-10",
          "2019-05-15",
          "2019-05-16",
          "2019-05-17",
          "2019-06-05",
          "2019-06-06",
          "2019-06-07",
          "2019-06-26",
          "2019-06-27",
          "2019-06-28",
          "2019-07-24",
          "2019-09-10",
          "2019-09-11",
          "2019-09-12",
          "2019-09-13",
          "2019-09-25",
          "2019-09-26",
          "2019-09-27",
          "2019-10-16",
          "2019-10-17",
          "2019-10-18",
          "2019-10-23",
          "2019-10-24",
          "2019-10-25",
          "2019-11-06",
          "2019-11-07",
          "2019-11-08",
          "2019-11-13",
          "2019-11-14",
          "2019-11-15",
          "2019-11-26",
          "2019-11-27",
          "2019-11-28",
          "2019-11-29",
          "2019-12-11",
          "2019-12-12",
          "2019-12-13",
          "2019-12-18",
          "2019-12-19",
          "2019-12-20",
          "2020-01-15",
          "2020-01-16",
          "2020-01-17",
          "2020-01-29",
          "2020-01-30",
          "2020-01-31",
          "2020-02-12",
          "2020-02-13",
          "2020-02-14",
          "2020-03-04",
          "2020-03-05",
          "2020-03-06",
          "2020-03-11",
          "2020-03-12",
          "2020-03-13",
          "2020-03-25",
          "2020-04-22",
          "2020-04-23",
          "2020-05-06",
          "2020-05-07",
          "2020-05-13",
          "2020-05-14",
          "2020-05-15",
          "2020-05-27",
          "2020-05-28",
          "2020-05-29",
          "2020-06-17",
          "2020-06-18",
          "2020-06-19",
          "2020-06-29",
          "2020-07-01",
          "2020-07-02",
          "2020-07-03",
          "2020-09-09",
          "2020-09-10",
          "2020-09-11",
          "2020-09-16",
          "2020-09-17",
          "2020-09-18",
          "2020-09-29",
          "2020-09-30",
          "2020-10-01",
          "2020-10-02",
          "2020-10-07",
          "2020-10-08",
          "2020-10-09",
          "2020-10-28",
          "2020-10-29",
          "2020-10-30",
          "2020-11-04",
          "2020-11-05",
          "2020-11-06",
          "2020-11-18",
          "2020-11-19",
          "2020-11-20",
          "2020-11-25",
          "2020-11-26",
          "2020-11-27",
          "2020-12-08",
          "2020-12-09",
          "2020-12-10",
          "2020-12-11",
          "2020-12-16",
          "2020-12-17",
          "2021-01-13",
          "2021-01-14",
          "2021-01-27",
          "2021-01-28",
          "2021-01-29",
          "2021-02-10",
          "2021-02-11",
          "2021-02-12",
          "2021-02-24",
          "2021-02-25",
          "2021-02-26",
          "2021-03-03",
          "2021-03-04",
          "2021-03-05",
          "2021-03-24",
          "2021-03-25",
          "2021-03-26",
          "2021-04-13",
          "2021-04-15",
          "2021-04-16",
          "2021-04-21",
          "2021-04-22",
          "2021-04-23",
          "2021-05-05",
          "2021-05-06",
          "2021-05-07",
          "2021-05-19",
          "2021-05-20",
          "2021-05-21",
          "2021-06-09",
          "2021-06-10",
          "2021-06-11",
          "2021-06-23",
          "2021-06-24",
          "2021-06-25",
          "2021-08-25",
          "2021-09-07"
         ],
         "xaxis": "x",
         "y": [
          0.014976483199191488,
          0.014976483199191488,
          0.0145350386787996,
          0.0145350386787996,
          0.014062225440028915,
          0.014062225440028915,
          0.01614555877336225,
          0.01852581720142015,
          0.018672660079540562,
          0.017807275464155947,
          0.017807275464155947,
          0.018654733091274592,
          0.018848531540886993,
          0.020028472543836846,
          0.020206592860685487,
          0.020206592860685487,
          0.02135601814804181,
          0.021559270180562133,
          0.021658383378266883,
          0.021658383378266883,
          0.021658383378266883,
          0.021647259431832964,
          0.021869481654055185,
          0.026738059909730213,
          0.026738059909730213,
          0.02644307465899275,
          0.02697217518809328,
          0.021019794235712326,
          0.021229437841582346,
          0.021229437841582346,
          0.018490640671771027,
          0.019278042246574176,
          0.02067078743242281,
          0.021090074644162852,
          0.02131995970163412,
          0.02131995970163412,
          0.019236626368300782,
          0.017914898450828186,
          0.018699154269169595,
          0.018282487602502933,
          0.018424331574134138,
          0.018236939953616152,
          0.019118410321208052,
          0.01809067631978027,
          0.018421891784994687,
          0.018421891784994687,
          0.018745023391882002,
          0.01854177135936168,
          0.02119728779128656,
          0.021759875695646618,
          0.021759875695646618,
          0.022228905412796637,
          0.022006683190574413,
          0.016391002574893797,
          0.016391002574893797,
          0.016391002574893797,
          0.016649303620596415,
          0.01715435412564692,
          0.01733841130717847,
          0.01733841130717847,
          0.01721262514365646,
          0.017987723568853312,
          0.017068183338968257,
          0.017503596981929066,
          0.017524338490873845,
          0.017524338490873845,
          0.019074726087773067,
          0.018917599263979578,
          0.017986500567517754,
          0.020037782618799804,
          0.02002125193037662,
          0.01956822526125008,
          0.024166715309294002,
          0.02514658377947005,
          0.024044655404814406,
          0.024044655404814406,
          0.022787848240883597,
          0.02558896868906287,
          0.02246396868906287,
          0.027853761737083767,
          0.029272201453395822,
          0.02886120893714015,
          0.02886120893714015,
          0.02892133399726521,
          0.03077925749453297,
          0.031195924161199637,
          0.03151963369750759,
          0.03323680541467931,
          0.033066818273810174,
          0.033066818273810174,
          0.033066818273810174,
          0.034452164078798836,
          0.03376250890638504,
          0.033046696940573085,
          0.033240514818601484,
          0.034220906975464226,
          0.03290280741573109,
          0.033480266595340806,
          0.035304478867314276,
          0.03388212763364229,
          0.033756814350434275,
          0.03401273797592311,
          0.028338979110674883,
          0.02735841879049192,
          0.028049265077193127,
          0.028049265077193127,
          0.02948251416902399,
          0.02668139372084472,
          0.02668139372084472,
          0.020729012768463766,
          0.021856869348448008,
          0.02167078092706547,
          0.02167078092706547,
          0.021870981127265668,
          0.020330517947458222,
          0.020078867782441723,
          0.019837321888721914,
          0.017615099666499694,
          0.01851860019065969,
          0.018884900556960054,
          0.018884900556960054,
          0.01593705475197139,
          0.01593705475197139,
          0.015798165863082504,
          0.015353721418638059,
          0.015014354902800954,
          0.0150965322744399,
          0.013510088543088213,
          0.012015909274415077,
          0.011512291740013034,
          0.011688658583046544,
          0.01122569562008358,
          0.01122569562008358,
          0.013723187091084986,
          0.013032340804383778,
          0.013476785248828223,
          0.011827786426684524,
          0.011827786426684524,
          0.011827786426684524,
          0.012232644726279666,
          0.009876824620459558,
          0.011184014162943217,
          0.011184014162943217,
          0.010798628777557833,
          0.012481168460097518,
          0.01597112271868127,
          0.015101557501289964,
          0.01740924980898227,
          0.0172015758681749,
          0.017845376511975545,
          0.017845376511975545,
          0.017845376511975545,
          0.018859869265598732,
          0.01907218349065181,
          0.01907218349065181,
          0.018431157849626168,
          0.019631843955972655,
          0.020159996798812738,
          0.02054835460011011,
          0.020879662321468297,
          0.02070329547843479,
          0.02070329547843479,
          0.020931605980717895,
          0.019473075548677523,
          0.020675824689570996,
          0.02023138024512655,
          0.022381917879535154,
          0.022381917879535154,
          0.022381917879535154,
          0.022427510030390462,
          0.022237033839914273,
          0.02098306558594602,
          0.02098306558594602,
          0.0203995575496078,
          0.018732890882941125,
          0.015215094333955494,
          0.015215094333955495,
          0.014661787991175467,
          0.013914959332965713,
          0.012904858322864702,
          0.01322231864032502,
          0.013777874195880578,
          0.012763381442257388,
          0.01377655741328274,
          0.01377655741328274,
          0.014792817575884364,
          0.013740629023695815,
          0.01300963487164903,
          0.012291244067051328,
          0.012267523495385551,
          0.012424018018077259,
          0.012690684684743925,
          0.01335126307134971,
          0.013890346629301192,
          0.01268759748840772,
          0.01422016453821615,
          0.012345108997471458,
          0.015162010405922162,
          0.016071101315013072,
          0.016345288545722043,
          0.01797572332833074,
          0.017642389994997405,
          0.019468874013262246,
          0.02005238204960047,
          0.02049424251471675,
          0.021951271202019187,
          0.021951271202019187,
          0.02252246663245575,
          0.026053458764484148
         ],
         "yaxis": "y"
        },
        {
         "hovertemplate": "party=GRUENE<br>date=%{x}<br>saliency=%{y}<extra></extra>",
         "legendgroup": "GRUENE",
         "line": {
          "color": "#52d157",
          "dash": "solid"
         },
         "marker": {
          "symbol": "circle"
         },
         "mode": "lines",
         "name": "GRUENE",
         "showlegend": true,
         "type": "scattergl",
         "x": [
          "2018-05-15",
          "2018-05-16",
          "2018-05-17",
          "2018-05-18",
          "2018-06-06",
          "2018-06-07",
          "2018-06-08",
          "2018-06-13",
          "2018-06-14",
          "2018-06-15",
          "2018-06-27",
          "2018-06-28",
          "2018-06-29",
          "2018-07-03",
          "2018-07-04",
          "2018-07-05",
          "2018-09-11",
          "2018-09-12",
          "2018-09-13",
          "2018-09-14",
          "2018-09-26",
          "2018-09-27",
          "2018-09-28",
          "2018-10-10",
          "2018-10-11",
          "2018-10-12",
          "2018-10-17",
          "2018-10-18",
          "2018-10-19",
          "2018-11-07",
          "2018-11-08",
          "2018-11-09",
          "2018-11-20",
          "2018-11-21",
          "2018-11-22",
          "2018-11-23",
          "2018-11-28",
          "2018-11-29",
          "2018-11-30",
          "2018-12-12",
          "2018-12-13",
          "2018-12-14",
          "2019-01-16",
          "2019-01-17",
          "2019-01-18",
          "2019-01-30",
          "2019-01-31",
          "2019-02-01",
          "2019-02-13",
          "2019-02-14",
          "2019-02-15",
          "2019-02-20",
          "2019-02-21",
          "2019-02-22",
          "2019-03-13",
          "2019-03-14",
          "2019-03-15",
          "2019-03-20",
          "2019-03-21",
          "2019-03-22",
          "2019-04-03",
          "2019-04-04",
          "2019-04-05",
          "2019-04-10",
          "2019-04-11",
          "2019-04-12",
          "2019-05-08",
          "2019-05-09",
          "2019-05-10",
          "2019-05-15",
          "2019-05-16",
          "2019-05-17",
          "2019-06-05",
          "2019-06-06",
          "2019-06-07",
          "2019-06-26",
          "2019-06-27",
          "2019-06-28",
          "2019-07-24",
          "2019-09-10",
          "2019-09-11",
          "2019-09-12",
          "2019-09-13",
          "2019-09-25",
          "2019-09-26",
          "2019-09-27",
          "2019-10-16",
          "2019-10-17",
          "2019-10-18",
          "2019-10-23",
          "2019-10-24",
          "2019-10-25",
          "2019-11-06",
          "2019-11-07",
          "2019-11-08",
          "2019-11-13",
          "2019-11-14",
          "2019-11-15",
          "2019-11-26",
          "2019-11-27",
          "2019-11-28",
          "2019-11-29",
          "2019-12-11",
          "2019-12-12",
          "2019-12-13",
          "2019-12-18",
          "2019-12-19",
          "2019-12-20",
          "2020-01-15",
          "2020-01-16",
          "2020-01-17",
          "2020-01-29",
          "2020-01-30",
          "2020-01-31",
          "2020-02-12",
          "2020-02-13",
          "2020-02-14",
          "2020-03-04",
          "2020-03-05",
          "2020-03-06",
          "2020-03-11",
          "2020-03-12",
          "2020-03-13",
          "2020-03-25",
          "2020-04-22",
          "2020-04-23",
          "2020-05-06",
          "2020-05-07",
          "2020-05-13",
          "2020-05-14",
          "2020-05-15",
          "2020-05-27",
          "2020-05-28",
          "2020-05-29",
          "2020-06-17",
          "2020-06-18",
          "2020-06-19",
          "2020-06-29",
          "2020-07-01",
          "2020-07-02",
          "2020-07-03",
          "2020-09-09",
          "2020-09-10",
          "2020-09-11",
          "2020-09-16",
          "2020-09-17",
          "2020-09-18",
          "2020-09-29",
          "2020-09-30",
          "2020-10-01",
          "2020-10-02",
          "2020-10-07",
          "2020-10-08",
          "2020-10-09",
          "2020-10-28",
          "2020-10-29",
          "2020-10-30",
          "2020-11-04",
          "2020-11-05",
          "2020-11-06",
          "2020-11-18",
          "2020-11-19",
          "2020-11-20",
          "2020-11-25",
          "2020-11-26",
          "2020-11-27",
          "2020-12-08",
          "2020-12-09",
          "2020-12-10",
          "2020-12-11",
          "2020-12-16",
          "2020-12-17",
          "2021-01-13",
          "2021-01-14",
          "2021-01-27",
          "2021-01-28",
          "2021-01-29",
          "2021-02-10",
          "2021-02-11",
          "2021-02-12",
          "2021-02-24",
          "2021-02-25",
          "2021-02-26",
          "2021-03-03",
          "2021-03-04",
          "2021-03-05",
          "2021-03-24",
          "2021-03-25",
          "2021-03-26",
          "2021-04-13",
          "2021-04-15",
          "2021-04-16",
          "2021-04-21",
          "2021-04-22",
          "2021-04-23",
          "2021-05-05",
          "2021-05-06",
          "2021-05-07",
          "2021-05-19",
          "2021-05-20",
          "2021-05-21",
          "2021-06-09",
          "2021-06-10",
          "2021-06-11",
          "2021-06-23",
          "2021-06-24",
          "2021-06-25",
          "2021-08-25",
          "2021-09-07"
         ],
         "xaxis": "x",
         "y": [
          0.024508071378733905,
          0.025724616390899357,
          0.024820112506263023,
          0.02517853544533112,
          0.026802016791422942,
          0.026802016791422942,
          0.02726411879198648,
          0.029725067804659628,
          0.030826996179315277,
          0.03245869781101691,
          0.03265477624238946,
          0.03415290358321343,
          0.03385411740207431,
          0.03616609789085037,
          0.03575999002860216,
          0.03743426704534493,
          0.045370774981852866,
          0.046489343214515054,
          0.047551513048891755,
          0.048170825485696615,
          0.04858749215236328,
          0.049882919034644625,
          0.04944510808937099,
          0.05350005871966409,
          0.05350005871966409,
          0.053086835579168226,
          0.05872786122019387,
          0.054988884147883464,
          0.05511620869699101,
          0.05592921682707232,
          0.05088178900736728,
          0.0503694693473145,
          0.05145172042956558,
          0.052984550445580224,
          0.05227620681655461,
          0.0544267444509632,
          0.053493572301910174,
          0.050667207706430135,
          0.051143188601991435,
          0.052328388378740515,
          0.05131775526977554,
          0.050528847787107596,
          0.04987525301586577,
          0.04739772236153953,
          0.04875783954086575,
          0.053863223541072126,
          0.04718457723978432,
          0.04630241562650748,
          0.04996013374731285,
          0.04989797198045603,
          0.04980181813430219,
          0.048285063284214,
          0.04762526946978101,
          0.044393008426222444,
          0.044393008426222444,
          0.04533009008619568,
          0.04147877361742954,
          0.04326805147976676,
          0.043855417868452116,
          0.04304240973837081,
          0.04280930950527058,
          0.04363569639805586,
          0.04329411090022037,
          0.04208313005398115,
          0.04175589801479776,
          0.04162556240059118,
          0.04177917223162036,
          0.0429009174386814,
          0.04238967483513111,
          0.041239440093347075,
          0.04164584867988505,
          0.04134815145547388,
          0.04684265694997937,
          0.04820541192490165,
          0.04622801079495815,
          0.040980916827817425,
          0.04034033914321458,
          0.042860824754405676,
          0.04312398264914252,
          0.04862996032493152,
          0.0520131512081224,
          0.05344172263669383,
          0.05650933085894123,
          0.05426213984770527,
          0.05706797598687475,
          0.05664371483972203,
          0.05485400566746253,
          0.05490553099482602,
          0.05488049522944691,
          0.05644299522944691,
          0.05656973794174095,
          0.05757077126646325,
          0.05574785459979658,
          0.05574098316435372,
          0.05700832920161247,
          0.05698242917571245,
          0.05662969548964543,
          0.05578160350369026,
          0.06165938128146804,
          0.062059898077333676,
          0.06148765201152538,
          0.06599416216466576,
          0.06049965667016028,
          0.059433396759174924,
          0.06184885569637299,
          0.060670898575642576,
          0.06252275042749442,
          0.06031230628434968,
          0.055049148389612834,
          0.04863634023261863,
          0.0481289835608784,
          0.047414697846592684,
          0.04480764972230319,
          0.04698833508055864,
          0.04457009584061397,
          0.04491197618249431,
          0.04663611411352879,
          0.04430148376333424,
          0.04381179304168476,
          0.044184776912652504,
          0.044058034200358455,
          0.0415263886307382,
          0.04219305529740487,
          0.0415196546240042,
          0.041735531378002816,
          0.03995767960015104,
          0.04110406407986886,
          0.04020286515449093,
          0.03354577703188557,
          0.032713161470587844,
          0.033166676209816864,
          0.02926905158619692,
          0.02982771080407402,
          0.03214486617987449,
          0.02972940724267642,
          0.030889948828749923,
          0.029849384454852215,
          0.029302936367420523,
          0.031057322332332805,
          0.032637921854837,
          0.030483241489540198,
          0.031519277525576234,
          0.031159655356462774,
          0.03008272275758922,
          0.03333148949472805,
          0.037976788640027195,
          0.036811309926869804,
          0.04328380183625492,
          0.04571793700234885,
          0.04503022496738824,
          0.046717988680468406,
          0.04798782995030968,
          0.0487634709759507,
          0.04901038455619762,
          0.048134078523167624,
          0.047917628306717405,
          0.04641967813327054,
          0.049223255704649964,
          0.05010038264336402,
          0.04967882287221075,
          0.04955534113628206,
          0.04966761905715914,
          0.04939881491174582,
          0.0471603301937088,
          0.047752046170040155,
          0.046236894654888644,
          0.05133006235675199,
          0.053763152381082896,
          0.053142553264243185,
          0.052021750063368406,
          0.05182396525324182,
          0.04994634505878994,
          0.05176684968989822,
          0.05154028991297246,
          0.04990392627660882,
          0.044702879938791185,
          0.04414422072091409,
          0.03842079248194096,
          0.03636373542488391,
          0.03537843078047783,
          0.034166857543588135,
          0.034195717572448166,
          0.032753409880140465,
          0.03337606151728486,
          0.0336811721198783,
          0.03553302397173015,
          0.03465002176422463,
          0.030702653343172,
          0.02953817008261887,
          0.02872516195253757,
          0.028907949462057755,
          0.02807556367821566,
          0.02778570860575189,
          0.028653420376929008,
          0.0289812446304827,
          0.03164791129714937,
          0.026052098092640516,
          0.026183110632412177,
          0.026169771963611324,
          0.026701947943357635,
          0.029013884627251477,
          0.029338227406356974,
          0.02907772413620954,
          0.029625032578254825,
          0.028801503166490116,
          0.030981888347282962,
          0.03179489647736426,
          0.03368609683335492,
          0.0392616724089305
         ],
         "yaxis": "y"
        },
        {
         "hovertemplate": "party=SPD<br>date=%{x}<br>saliency=%{y}<extra></extra>",
         "legendgroup": "SPD",
         "line": {
          "color": "#e03427",
          "dash": "solid"
         },
         "marker": {
          "symbol": "circle"
         },
         "mode": "lines",
         "name": "SPD",
         "showlegend": true,
         "type": "scattergl",
         "x": [
          "2018-05-15",
          "2018-05-16",
          "2018-05-17",
          "2018-05-18",
          "2018-06-06",
          "2018-06-07",
          "2018-06-08",
          "2018-06-13",
          "2018-06-14",
          "2018-06-15",
          "2018-06-27",
          "2018-06-28",
          "2018-06-29",
          "2018-07-03",
          "2018-07-04",
          "2018-07-05",
          "2018-09-11",
          "2018-09-12",
          "2018-09-13",
          "2018-09-14",
          "2018-09-26",
          "2018-09-27",
          "2018-09-28",
          "2018-10-10",
          "2018-10-11",
          "2018-10-12",
          "2018-10-17",
          "2018-10-18",
          "2018-10-19",
          "2018-11-07",
          "2018-11-08",
          "2018-11-09",
          "2018-11-20",
          "2018-11-21",
          "2018-11-22",
          "2018-11-23",
          "2018-11-28",
          "2018-11-29",
          "2018-11-30",
          "2018-12-12",
          "2018-12-13",
          "2018-12-14",
          "2019-01-16",
          "2019-01-17",
          "2019-01-18",
          "2019-01-30",
          "2019-01-31",
          "2019-02-01",
          "2019-02-13",
          "2019-02-14",
          "2019-02-15",
          "2019-02-20",
          "2019-02-21",
          "2019-02-22",
          "2019-03-13",
          "2019-03-14",
          "2019-03-15",
          "2019-03-20",
          "2019-03-21",
          "2019-03-22",
          "2019-04-03",
          "2019-04-04",
          "2019-04-05",
          "2019-04-10",
          "2019-04-11",
          "2019-04-12",
          "2019-05-08",
          "2019-05-09",
          "2019-05-10",
          "2019-05-15",
          "2019-05-16",
          "2019-05-17",
          "2019-06-05",
          "2019-06-06",
          "2019-06-07",
          "2019-06-26",
          "2019-06-27",
          "2019-06-28",
          "2019-07-24",
          "2019-09-10",
          "2019-09-11",
          "2019-09-12",
          "2019-09-13",
          "2019-09-25",
          "2019-09-26",
          "2019-09-27",
          "2019-10-16",
          "2019-10-17",
          "2019-10-18",
          "2019-10-23",
          "2019-10-24",
          "2019-10-25",
          "2019-11-06",
          "2019-11-07",
          "2019-11-08",
          "2019-11-13",
          "2019-11-14",
          "2019-11-15",
          "2019-11-26",
          "2019-11-27",
          "2019-11-28",
          "2019-11-29",
          "2019-12-11",
          "2019-12-12",
          "2019-12-13",
          "2019-12-18",
          "2019-12-19",
          "2019-12-20",
          "2020-01-15",
          "2020-01-16",
          "2020-01-17",
          "2020-01-29",
          "2020-01-30",
          "2020-01-31",
          "2020-02-12",
          "2020-02-13",
          "2020-02-14",
          "2020-03-04",
          "2020-03-05",
          "2020-03-06",
          "2020-03-11",
          "2020-03-12",
          "2020-03-13",
          "2020-03-25",
          "2020-04-22",
          "2020-04-23",
          "2020-05-06",
          "2020-05-07",
          "2020-05-13",
          "2020-05-14",
          "2020-05-15",
          "2020-05-27",
          "2020-05-28",
          "2020-05-29",
          "2020-06-17",
          "2020-06-18",
          "2020-06-19",
          "2020-06-29",
          "2020-07-01",
          "2020-07-02",
          "2020-07-03",
          "2020-09-09",
          "2020-09-10",
          "2020-09-11",
          "2020-09-16",
          "2020-09-17",
          "2020-09-18",
          "2020-09-29",
          "2020-09-30",
          "2020-10-01",
          "2020-10-02",
          "2020-10-07",
          "2020-10-08",
          "2020-10-09",
          "2020-10-28",
          "2020-10-29",
          "2020-10-30",
          "2020-11-04",
          "2020-11-05",
          "2020-11-06",
          "2020-11-18",
          "2020-11-19",
          "2020-11-20",
          "2020-11-25",
          "2020-11-26",
          "2020-11-27",
          "2020-12-08",
          "2020-12-09",
          "2020-12-10",
          "2020-12-11",
          "2020-12-16",
          "2020-12-17",
          "2021-01-13",
          "2021-01-14",
          "2021-01-27",
          "2021-01-28",
          "2021-01-29",
          "2021-02-10",
          "2021-02-11",
          "2021-02-12",
          "2021-02-24",
          "2021-02-25",
          "2021-02-26",
          "2021-03-03",
          "2021-03-04",
          "2021-03-05",
          "2021-03-24",
          "2021-03-25",
          "2021-03-26",
          "2021-04-13",
          "2021-04-15",
          "2021-04-16",
          "2021-04-21",
          "2021-04-22",
          "2021-04-23",
          "2021-05-05",
          "2021-05-06",
          "2021-05-07",
          "2021-05-19",
          "2021-05-20",
          "2021-05-21",
          "2021-06-09",
          "2021-06-10",
          "2021-06-11",
          "2021-06-23",
          "2021-06-24",
          "2021-06-25",
          "2021-08-25",
          "2021-09-07"
         ],
         "xaxis": "x",
         "y": [
          0.01523784643395218,
          0.015371179767285515,
          0.01545651208927281,
          0.01545651208927281,
          0.016085442906882873,
          0.015891181156617553,
          0.018764744375008358,
          0.018852846220742025,
          0.018947543190438995,
          0.019685550570512796,
          0.019685550570512796,
          0.020499311277890526,
          0.020722375250954495,
          0.021844709706622285,
          0.02187988156913228,
          0.021909515357890156,
          0.024486004890901424,
          0.024729313893334517,
          0.025106672383900557,
          0.025106672383900557,
          0.025106672383900557,
          0.026499381777649607,
          0.026751370123188626,
          0.033688630869513986,
          0.033688630869513986,
          0.03339537573754917,
          0.03339537573754917,
          0.02486935884777523,
          0.024728115909922122,
          0.024728115909922122,
          0.02378565222382516,
          0.024768746322708736,
          0.0257803882335879,
          0.025780388233587897,
          0.02586067727413386,
          0.026783746082320165,
          0.024218824839238,
          0.02432014196183172,
          0.025276969702965453,
          0.024538962322891652,
          0.024538962322891652,
          0.023616976507288816,
          0.023162431052743362,
          0.022365829496098374,
          0.022909605002009434,
          0.022666295999576345,
          0.0212095308421034,
          0.02113288850633698,
          0.023679506623958072,
          0.024188968050450066,
          0.024188968050450066,
          0.022309640651834835,
          0.021733565260437966,
          0.014556105275164937,
          0.014556105275164937,
          0.015160334882415692,
          0.01654202745581811,
          0.01637239217167901,
          0.01672889841053819,
          0.01691104777301542,
          0.016419819702839983,
          0.01624501185631046,
          0.014722892465667072,
          0.014722892465667072,
          0.01435820318459976,
          0.014126918373875698,
          0.016157457685116765,
          0.017885823243269556,
          0.017518059216199533,
          0.018406948105088423,
          0.018613559675336355,
          0.01934455382738314,
          0.029114668769911874,
          0.029822527602155223,
          0.028799135789289727,
          0.029296648227100673,
          0.02843734051822901,
          0.029798451629340122,
          0.02802390030850931,
          0.030847772215350653,
          0.03228455382454606,
          0.033489373101654486,
          0.03369196576662745,
          0.03436857781521309,
          0.03619413562454372,
          0.03574863617602311,
          0.0343669436026207,
          0.03522827004534249,
          0.03559015461108102,
          0.03591305575365429,
          0.03591305575365429,
          0.03727028674267955,
          0.03652290258722365,
          0.03676213703698441,
          0.037299959401072155,
          0.03797041856401406,
          0.03599120847976817,
          0.0377585260365594,
          0.04011709339512677,
          0.040253845531878905,
          0.040169782981238814,
          0.041575540965944166,
          0.031805426023415434,
          0.030943655597991206,
          0.032281104157661986,
          0.03178359171985104,
          0.0326516472754066,
          0.03112386949762882,
          0.0299744442102725,
          0.026740022845287332,
          0.02705762720100421,
          0.02684487141595927,
          0.02744484737994222,
          0.027780570607437386,
          0.02675501279810676,
          0.026679201379011756,
          0.02803283928087301,
          0.027171512838151217,
          0.027258761509887857,
          0.028618512869639217,
          0.02890099874534543,
          0.02676554686344324,
          0.027140078698649237,
          0.02690084424888847,
          0.026018491307712,
          0.024970822371095974,
          0.026716114326686892,
          0.023673256718845397,
          0.021177376763949044,
          0.020541599286066303,
          0.02041905026645846,
          0.019201838359591383,
          0.01929680512122481,
          0.02021341918953255,
          0.01887597062986177,
          0.019906898464913315,
          0.01888700387569869,
          0.01888700387569869,
          0.01888700387569869,
          0.01923854235780097,
          0.017965504166655235,
          0.017620689865530257,
          0.016740601856729376,
          0.015583322194336908,
          0.01589443330544802,
          0.01856283731713561,
          0.017467597348090898,
          0.01968981957031312,
          0.019413280623079305,
          0.01833676704656573,
          0.01838761450419285,
          0.018224215811382394,
          0.018413291061522615,
          0.018547699663673152,
          0.01966814784294486,
          0.019467951286325638,
          0.01846918881999383,
          0.019769928896244113,
          0.019649738268317958,
          0.01958349931602893,
          0.01958349931602893,
          0.019245354434981085,
          0.019150387673347653,
          0.018061952299197995,
          0.018457600172590675,
          0.01742667233753913,
          0.019358911031062142,
          0.019358911031062142,
          0.01976051745676495,
          0.019754511450758943,
          0.01948413414112742,
          0.019244382912699094,
          0.02019676386508005,
          0.019964956491967816,
          0.021365260905970858,
          0.01909702994208772,
          0.018986780157419333,
          0.017152154834421913,
          0.016928864702874902,
          0.016140576414586615,
          0.016057869647669323,
          0.016296818273714722,
          0.015884040750962773,
          0.016549632148812235,
          0.015876011494116042,
          0.017012801138414455,
          0.01590630044685152,
          0.014013902332790937,
          0.014250994790366655,
          0.0139273701948974,
          0.014183780451307658,
          0.013734137408135795,
          0.014051597725596113,
          0.015394409731915228,
          0.01514432226609169,
          0.01514432226609169,
          0.013441915415026392,
          0.014607416580527556,
          0.014875826905243505,
          0.01609426983797215,
          0.017982064805935897,
          0.01757456684342571,
          0.017654177635110804,
          0.01801630630467582,
          0.01595840551879069,
          0.017353248003651546,
          0.01759880064290497,
          0.017211203743680167,
          0.01690539334612665
         ],
         "yaxis": "y"
        }
       ],
       "layout": {
        "autosize": true,
        "legend": {
         "title": {
          "text": "party"
         },
         "tracegroupgap": 0
        },
        "template": {
         "data": {
          "bar": [
           {
            "error_x": {
             "color": "#2a3f5f"
            },
            "error_y": {
             "color": "#2a3f5f"
            },
            "marker": {
             "line": {
              "color": "#E5ECF6",
              "width": 0.5
             },
             "pattern": {
              "fillmode": "overlay",
              "size": 10,
              "solidity": 0.2
             }
            },
            "type": "bar"
           }
          ],
          "barpolar": [
           {
            "marker": {
             "line": {
              "color": "#E5ECF6",
              "width": 0.5
             },
             "pattern": {
              "fillmode": "overlay",
              "size": 10,
              "solidity": 0.2
             }
            },
            "type": "barpolar"
           }
          ],
          "carpet": [
           {
            "aaxis": {
             "endlinecolor": "#2a3f5f",
             "gridcolor": "white",
             "linecolor": "white",
             "minorgridcolor": "white",
             "startlinecolor": "#2a3f5f"
            },
            "baxis": {
             "endlinecolor": "#2a3f5f",
             "gridcolor": "white",
             "linecolor": "white",
             "minorgridcolor": "white",
             "startlinecolor": "#2a3f5f"
            },
            "type": "carpet"
           }
          ],
          "choropleth": [
           {
            "colorbar": {
             "outlinewidth": 0,
             "ticks": ""
            },
            "type": "choropleth"
           }
          ],
          "contour": [
           {
            "colorbar": {
             "outlinewidth": 0,
             "ticks": ""
            },
            "colorscale": [
             [
              0,
              "#0d0887"
             ],
             [
              0.1111111111111111,
              "#46039f"
             ],
             [
              0.2222222222222222,
              "#7201a8"
             ],
             [
              0.3333333333333333,
              "#9c179e"
             ],
             [
              0.4444444444444444,
              "#bd3786"
             ],
             [
              0.5555555555555556,
              "#d8576b"
             ],
             [
              0.6666666666666666,
              "#ed7953"
             ],
             [
              0.7777777777777778,
              "#fb9f3a"
             ],
             [
              0.8888888888888888,
              "#fdca26"
             ],
             [
              1,
              "#f0f921"
             ]
            ],
            "type": "contour"
           }
          ],
          "contourcarpet": [
           {
            "colorbar": {
             "outlinewidth": 0,
             "ticks": ""
            },
            "type": "contourcarpet"
           }
          ],
          "heatmap": [
           {
            "colorbar": {
             "outlinewidth": 0,
             "ticks": ""
            },
            "colorscale": [
             [
              0,
              "#0d0887"
             ],
             [
              0.1111111111111111,
              "#46039f"
             ],
             [
              0.2222222222222222,
              "#7201a8"
             ],
             [
              0.3333333333333333,
              "#9c179e"
             ],
             [
              0.4444444444444444,
              "#bd3786"
             ],
             [
              0.5555555555555556,
              "#d8576b"
             ],
             [
              0.6666666666666666,
              "#ed7953"
             ],
             [
              0.7777777777777778,
              "#fb9f3a"
             ],
             [
              0.8888888888888888,
              "#fdca26"
             ],
             [
              1,
              "#f0f921"
             ]
            ],
            "type": "heatmap"
           }
          ],
          "heatmapgl": [
           {
            "colorbar": {
             "outlinewidth": 0,
             "ticks": ""
            },
            "colorscale": [
             [
              0,
              "#0d0887"
             ],
             [
              0.1111111111111111,
              "#46039f"
             ],
             [
              0.2222222222222222,
              "#7201a8"
             ],
             [
              0.3333333333333333,
              "#9c179e"
             ],
             [
              0.4444444444444444,
              "#bd3786"
             ],
             [
              0.5555555555555556,
              "#d8576b"
             ],
             [
              0.6666666666666666,
              "#ed7953"
             ],
             [
              0.7777777777777778,
              "#fb9f3a"
             ],
             [
              0.8888888888888888,
              "#fdca26"
             ],
             [
              1,
              "#f0f921"
             ]
            ],
            "type": "heatmapgl"
           }
          ],
          "histogram": [
           {
            "marker": {
             "pattern": {
              "fillmode": "overlay",
              "size": 10,
              "solidity": 0.2
             }
            },
            "type": "histogram"
           }
          ],
          "histogram2d": [
           {
            "colorbar": {
             "outlinewidth": 0,
             "ticks": ""
            },
            "colorscale": [
             [
              0,
              "#0d0887"
             ],
             [
              0.1111111111111111,
              "#46039f"
             ],
             [
              0.2222222222222222,
              "#7201a8"
             ],
             [
              0.3333333333333333,
              "#9c179e"
             ],
             [
              0.4444444444444444,
              "#bd3786"
             ],
             [
              0.5555555555555556,
              "#d8576b"
             ],
             [
              0.6666666666666666,
              "#ed7953"
             ],
             [
              0.7777777777777778,
              "#fb9f3a"
             ],
             [
              0.8888888888888888,
              "#fdca26"
             ],
             [
              1,
              "#f0f921"
             ]
            ],
            "type": "histogram2d"
           }
          ],
          "histogram2dcontour": [
           {
            "colorbar": {
             "outlinewidth": 0,
             "ticks": ""
            },
            "colorscale": [
             [
              0,
              "#0d0887"
             ],
             [
              0.1111111111111111,
              "#46039f"
             ],
             [
              0.2222222222222222,
              "#7201a8"
             ],
             [
              0.3333333333333333,
              "#9c179e"
             ],
             [
              0.4444444444444444,
              "#bd3786"
             ],
             [
              0.5555555555555556,
              "#d8576b"
             ],
             [
              0.6666666666666666,
              "#ed7953"
             ],
             [
              0.7777777777777778,
              "#fb9f3a"
             ],
             [
              0.8888888888888888,
              "#fdca26"
             ],
             [
              1,
              "#f0f921"
             ]
            ],
            "type": "histogram2dcontour"
           }
          ],
          "mesh3d": [
           {
            "colorbar": {
             "outlinewidth": 0,
             "ticks": ""
            },
            "type": "mesh3d"
           }
          ],
          "parcoords": [
           {
            "line": {
             "colorbar": {
              "outlinewidth": 0,
              "ticks": ""
             }
            },
            "type": "parcoords"
           }
          ],
          "pie": [
           {
            "automargin": true,
            "type": "pie"
           }
          ],
          "scatter": [
           {
            "fillpattern": {
             "fillmode": "overlay",
             "size": 10,
             "solidity": 0.2
            },
            "type": "scatter"
           }
          ],
          "scatter3d": [
           {
            "line": {
             "colorbar": {
              "outlinewidth": 0,
              "ticks": ""
             }
            },
            "marker": {
             "colorbar": {
              "outlinewidth": 0,
              "ticks": ""
             }
            },
            "type": "scatter3d"
           }
          ],
          "scattercarpet": [
           {
            "marker": {
             "colorbar": {
              "outlinewidth": 0,
              "ticks": ""
             }
            },
            "type": "scattercarpet"
           }
          ],
          "scattergeo": [
           {
            "marker": {
             "colorbar": {
              "outlinewidth": 0,
              "ticks": ""
             }
            },
            "type": "scattergeo"
           }
          ],
          "scattergl": [
           {
            "marker": {
             "colorbar": {
              "outlinewidth": 0,
              "ticks": ""
             }
            },
            "type": "scattergl"
           }
          ],
          "scattermapbox": [
           {
            "marker": {
             "colorbar": {
              "outlinewidth": 0,
              "ticks": ""
             }
            },
            "type": "scattermapbox"
           }
          ],
          "scatterpolar": [
           {
            "marker": {
             "colorbar": {
              "outlinewidth": 0,
              "ticks": ""
             }
            },
            "type": "scatterpolar"
           }
          ],
          "scatterpolargl": [
           {
            "marker": {
             "colorbar": {
              "outlinewidth": 0,
              "ticks": ""
             }
            },
            "type": "scatterpolargl"
           }
          ],
          "scatterternary": [
           {
            "marker": {
             "colorbar": {
              "outlinewidth": 0,
              "ticks": ""
             }
            },
            "type": "scatterternary"
           }
          ],
          "surface": [
           {
            "colorbar": {
             "outlinewidth": 0,
             "ticks": ""
            },
            "colorscale": [
             [
              0,
              "#0d0887"
             ],
             [
              0.1111111111111111,
              "#46039f"
             ],
             [
              0.2222222222222222,
              "#7201a8"
             ],
             [
              0.3333333333333333,
              "#9c179e"
             ],
             [
              0.4444444444444444,
              "#bd3786"
             ],
             [
              0.5555555555555556,
              "#d8576b"
             ],
             [
              0.6666666666666666,
              "#ed7953"
             ],
             [
              0.7777777777777778,
              "#fb9f3a"
             ],
             [
              0.8888888888888888,
              "#fdca26"
             ],
             [
              1,
              "#f0f921"
             ]
            ],
            "type": "surface"
           }
          ],
          "table": [
           {
            "cells": {
             "fill": {
              "color": "#EBF0F8"
             },
             "line": {
              "color": "white"
             }
            },
            "header": {
             "fill": {
              "color": "#C8D4E3"
             },
             "line": {
              "color": "white"
             }
            },
            "type": "table"
           }
          ]
         },
         "layout": {
          "annotationdefaults": {
           "arrowcolor": "#2a3f5f",
           "arrowhead": 0,
           "arrowwidth": 1
          },
          "autotypenumbers": "strict",
          "coloraxis": {
           "colorbar": {
            "outlinewidth": 0,
            "ticks": ""
           }
          },
          "colorscale": {
           "diverging": [
            [
             0,
             "#8e0152"
            ],
            [
             0.1,
             "#c51b7d"
            ],
            [
             0.2,
             "#de77ae"
            ],
            [
             0.3,
             "#f1b6da"
            ],
            [
             0.4,
             "#fde0ef"
            ],
            [
             0.5,
             "#f7f7f7"
            ],
            [
             0.6,
             "#e6f5d0"
            ],
            [
             0.7,
             "#b8e186"
            ],
            [
             0.8,
             "#7fbc41"
            ],
            [
             0.9,
             "#4d9221"
            ],
            [
             1,
             "#276419"
            ]
           ],
           "sequential": [
            [
             0,
             "#0d0887"
            ],
            [
             0.1111111111111111,
             "#46039f"
            ],
            [
             0.2222222222222222,
             "#7201a8"
            ],
            [
             0.3333333333333333,
             "#9c179e"
            ],
            [
             0.4444444444444444,
             "#bd3786"
            ],
            [
             0.5555555555555556,
             "#d8576b"
            ],
            [
             0.6666666666666666,
             "#ed7953"
            ],
            [
             0.7777777777777778,
             "#fb9f3a"
            ],
            [
             0.8888888888888888,
             "#fdca26"
            ],
            [
             1,
             "#f0f921"
            ]
           ],
           "sequentialminus": [
            [
             0,
             "#0d0887"
            ],
            [
             0.1111111111111111,
             "#46039f"
            ],
            [
             0.2222222222222222,
             "#7201a8"
            ],
            [
             0.3333333333333333,
             "#9c179e"
            ],
            [
             0.4444444444444444,
             "#bd3786"
            ],
            [
             0.5555555555555556,
             "#d8576b"
            ],
            [
             0.6666666666666666,
             "#ed7953"
            ],
            [
             0.7777777777777778,
             "#fb9f3a"
            ],
            [
             0.8888888888888888,
             "#fdca26"
            ],
            [
             1,
             "#f0f921"
            ]
           ]
          },
          "colorway": [
           "#636efa",
           "#EF553B",
           "#00cc96",
           "#ab63fa",
           "#FFA15A",
           "#19d3f3",
           "#FF6692",
           "#B6E880",
           "#FF97FF",
           "#FECB52"
          ],
          "font": {
           "color": "#2a3f5f"
          },
          "geo": {
           "bgcolor": "white",
           "lakecolor": "white",
           "landcolor": "#E5ECF6",
           "showlakes": true,
           "showland": true,
           "subunitcolor": "white"
          },
          "hoverlabel": {
           "align": "left"
          },
          "hovermode": "closest",
          "mapbox": {
           "style": "light"
          },
          "paper_bgcolor": "white",
          "plot_bgcolor": "#E5ECF6",
          "polar": {
           "angularaxis": {
            "gridcolor": "white",
            "linecolor": "white",
            "ticks": ""
           },
           "bgcolor": "#E5ECF6",
           "radialaxis": {
            "gridcolor": "white",
            "linecolor": "white",
            "ticks": ""
           }
          },
          "scene": {
           "xaxis": {
            "backgroundcolor": "#E5ECF6",
            "gridcolor": "white",
            "gridwidth": 2,
            "linecolor": "white",
            "showbackground": true,
            "ticks": "",
            "zerolinecolor": "white"
           },
           "yaxis": {
            "backgroundcolor": "#E5ECF6",
            "gridcolor": "white",
            "gridwidth": 2,
            "linecolor": "white",
            "showbackground": true,
            "ticks": "",
            "zerolinecolor": "white"
           },
           "zaxis": {
            "backgroundcolor": "#E5ECF6",
            "gridcolor": "white",
            "gridwidth": 2,
            "linecolor": "white",
            "showbackground": true,
            "ticks": "",
            "zerolinecolor": "white"
           }
          },
          "shapedefaults": {
           "line": {
            "color": "#2a3f5f"
           }
          },
          "ternary": {
           "aaxis": {
            "gridcolor": "white",
            "linecolor": "white",
            "ticks": ""
           },
           "baxis": {
            "gridcolor": "white",
            "linecolor": "white",
            "ticks": ""
           },
           "bgcolor": "#E5ECF6",
           "caxis": {
            "gridcolor": "white",
            "linecolor": "white",
            "ticks": ""
           }
          },
          "title": {
           "x": 0.05
          },
          "xaxis": {
           "automargin": true,
           "gridcolor": "white",
           "linecolor": "white",
           "ticks": "",
           "title": {
            "standoff": 15
           },
           "zerolinecolor": "white",
           "zerolinewidth": 2
          },
          "yaxis": {
           "automargin": true,
           "gridcolor": "white",
           "linecolor": "white",
           "ticks": "",
           "title": {
            "standoff": 15
           },
           "zerolinecolor": "white",
           "zerolinewidth": 2
          }
         }
        },
        "title": {
         "text": "Saliency of climate politics by party over time"
        },
        "xaxis": {
         "anchor": "y",
         "autorange": true,
         "domain": [
          0,
          1
         ],
         "range": [
          "2018-05-15",
          "2021-09-07"
         ],
         "title": {
          "text": "date"
         },
         "type": "date"
        },
        "yaxis": {
         "anchor": "x",
         "domain": [
          0,
          1
         ],
         "range": [
          0,
          0.1
         ],
         "title": {
          "text": "saliency"
         },
         "type": "linear"
        }
       }
      },
      "image/png": "[encoded data removed]",
      "text/html": [
       "<div>                            <div id=\"acfb02fd-9359-440a-83cd-bc39b1c43ad7\" class=\"plotly-graph-div\" style=\"height:525px; width:100%;\"></div>            <script type=\"text/javascript\">                require([\"plotly\"], function(Plotly) {                    window.PLOTLYENV=window.PLOTLYENV || {};                                    if (document.getElementById(\"acfb02fd-9359-440a-83cd-bc39b1c43ad7\")) {                    Plotly.newPlot(                        \"acfb02fd-9359-440a-83cd-bc39b1c43ad7\",                        [{\"hovertemplate\":\"party=AfD\\u003cbr\\u003edate=%{x}\\u003cbr\\u003esaliency=%{y}\\u003cextra\\u003e\\u003c\\u002fextra\\u003e\",\"legendgroup\":\"AfD\",\"line\":{\"color\":\"#59dcff\",\"dash\":\"solid\"},\"marker\":{\"symbol\":\"circle\"},\"mode\":\"lines\",\"name\":\"AfD\",\"showlegend\":true,\"x\":[\"2018-05-15\",\"2018-05-16\",\"2018-05-17\",\"2018-05-18\",\"2018-06-06\",\"2018-06-07\",\"2018-06-08\",\"2018-06-13\",\"2018-06-14\",\"2018-06-15\",\"2018-06-27\",\"2018-06-28\",\"2018-06-29\",\"2018-07-03\",\"2018-07-04\",\"2018-07-05\",\"2018-09-11\",\"2018-09-12\",\"2018-09-13\",\"2018-09-14\",\"2018-09-26\",\"2018-09-27\",\"2018-09-28\",\"2018-10-10\",\"2018-10-11\",\"2018-10-12\",\"2018-10-17\",\"2018-10-18\",\"2018-10-19\",\"2018-11-07\",\"2018-11-08\",\"2018-11-09\",\"2018-11-20\",\"2018-11-21\",\"2018-11-22\",\"2018-11-23\",\"2018-11-28\",\"2018-11-29\",\"2018-11-30\",\"2018-12-12\",\"2018-12-13\",\"2018-12-14\",\"2019-01-16\",\"2019-01-17\",\"2019-01-18\",\"2019-01-30\",\"2019-01-31\",\"2019-02-01\",\"2019-02-13\",\"2019-02-14\",\"2019-02-15\",\"2019-02-20\",\"2019-02-21\",\"2019-02-22\",\"2019-03-13\",\"2019-03-14\",\"2019-03-15\",\"2019-03-20\",\"2019-03-21\",\"2019-03-22\",\"2019-04-03\",\"2019-04-04\",\"2019-04-05\",\"2019-04-10\",\"2019-04-11\",\"2019-04-12\",\"2019-05-08\",\"2019-05-09\",\"2019-05-10\",\"2019-05-15\",\"2019-05-16\",\"2019-05-17\",\"2019-06-05\",\"2019-06-06\",\"2019-06-07\",\"2019-06-26\",\"2019-06-27\",\"2019-06-28\",\"2019-07-24\",\"2019-09-10\",\"2019-09-11\",\"2019-09-12\",\"2019-09-13\",\"2019-09-25\",\"2019-09-26\",\"2019-09-27\",\"2019-10-16\",\"2019-10-17\",\"2019-10-18\",\"2019-10-23\",\"2019-10-24\",\"2019-10-25\",\"2019-11-06\",\"2019-11-07\",\"2019-11-08\",\"2019-11-13\",\"2019-11-14\",\"2019-11-15\",\"2019-11-26\",\"2019-11-27\",\"2019-11-28\",\"2019-11-29\",\"2019-12-11\",\"2019-12-12\",\"2019-12-13\",\"2019-12-18\",\"2019-12-19\",\"2019-12-20\",\"2020-01-15\",\"2020-01-16\",\"2020-01-17\",\"2020-01-29\",\"2020-01-30\",\"2020-01-31\",\"2020-02-12\",\"2020-02-13\",\"2020-02-14\",\"2020-03-04\",\"2020-03-05\",\"2020-03-06\",\"2020-03-11\",\"2020-03-12\",\"2020-03-13\",\"2020-03-25\",\"2020-04-22\",\"2020-04-23\",\"2020-05-06\",\"2020-05-07\",\"2020-05-13\",\"2020-05-14\",\"2020-05-15\",\"2020-05-27\",\"2020-05-28\",\"2020-05-29\",\"2020-06-17\",\"2020-06-18\",\"2020-06-19\",\"2020-06-29\",\"2020-07-01\",\"2020-07-02\",\"2020-07-03\",\"2020-09-09\",\"2020-09-10\",\"2020-09-11\",\"2020-09-16\",\"2020-09-17\",\"2020-09-18\",\"2020-09-29\",\"2020-09-30\",\"2020-10-01\",\"2020-10-02\",\"2020-10-07\",\"2020-10-08\",\"2020-10-09\",\"2020-10-28\",\"2020-10-29\",\"2020-10-30\",\"2020-11-04\",\"2020-11-05\",\"2020-11-06\",\"2020-11-18\",\"2020-11-19\",\"2020-11-20\",\"2020-11-25\",\"2020-11-26\",\"2020-11-27\",\"2020-12-08\",\"2020-12-09\",\"2020-12-10\",\"2020-12-11\",\"2020-12-16\",\"2020-12-17\",\"2021-01-13\",\"2021-01-14\",\"2021-01-27\",\"2021-01-28\",\"2021-01-29\",\"2021-02-10\",\"2021-02-11\",\"2021-02-12\",\"2021-02-24\",\"2021-02-25\",\"2021-02-26\",\"2021-03-03\",\"2021-03-04\",\"2021-03-05\",\"2021-03-24\",\"2021-03-25\",\"2021-03-26\",\"2021-04-13\",\"2021-04-15\",\"2021-04-16\",\"2021-04-21\",\"2021-04-22\",\"2021-04-23\",\"2021-05-05\",\"2021-05-06\",\"2021-05-07\",\"2021-05-19\",\"2021-05-20\",\"2021-05-21\",\"2021-06-09\",\"2021-06-10\",\"2021-06-11\",\"2021-06-23\",\"2021-06-24\",\"2021-06-25\",\"2021-08-25\",\"2021-09-07\"],\"xaxis\":\"x\",\"y\":[0.011647528610624963,0.011791828754925106,0.010557706642634439,0.010557706642634439,0.010044886129813925,0.010044886129813925,0.011221356718049219,0.01285508530829955,0.01285508530829955,0.013020101809949716,0.013020101809949716,0.014076778082764316,0.0146003382921884,0.016293046625521734,0.01646888248917603,0.01624516884264359,0.017969306773678074,0.017925215062919702,0.018341881729586364,0.018341881729586364,0.020096267694498644,0.020889918488149438,0.021366277408088122,0.021441537397141216,0.021609041584745907,0.021609041584745907,0.021609041584745907,0.0168790771842944,0.01697810102723713,0.017855294009693275,0.016780025192488977,0.017582694745158525,0.01842593839719763,0.01856599441960659,0.019300208810208646,0.020295233685830534,0.01911876309759524,0.01720472475498547,0.018973432237978666,0.018808415736328504,0.018808415736328504,0.0177517394635139,0.01722817925408982,0.015665172606878403,0.017686930756674896,0.017686930756674896,0.01616179780076479,0.01623528398536209,0.01654325499985484,0.017168254999854842,0.01584397656182428,0.01505032576817349,0.014533630667027985,0.013144741778139096,0.01375243138898402,0.01396207499485404,0.014931067242916056,0.014754826737162656,0.014771090073098122,0.013893897090641982,0.013893897090641982,0.01369002718135806,0.012441561379314547,0.012301505356905582,0.011952647421024145,0.011444240550268433,0.0124859072169351,0.013127966509788043,0.012219474080558288,0.012219474080558288,0.012219474080558288,0.012219474080558288,0.014479361086208006,0.014906762464152939,0.01249130352695487,0.01285362236753458,0.012730203182281708,0.013357775198742613,0.012633137517583192,0.015152791605633507,0.015516334872402579,0.01585134324761196,0.01670537396911195,0.01670537396911195,0.016647883519944635,0.016755700231534932,0.016342263539028474,0.01611336425471357,0.016357429432407068,0.016357429432407068,0.016357429432407068,0.017524051866943516,0.01843479867932967,0.018594288312503517,0.018598036916148655,0.018111418911282477,0.017298585196560894,0.01815974464086724,0.02031371398426692,0.022014394256375764,0.022176995882392025,0.023426995882392023,0.021167108876742304,0.020739204779083722,0.02148408373625318,0.02133140850154349,0.022191495226291876,0.021358161892958537,0.021358161892958537,0.01849244783280223,0.018443675996320893,0.01810866762111151,0.017335339421907302,0.018509048342095095,0.0177913449928128,0.017821106897574705,0.01816645224292005,0.018627456948019615,0.018809198797256742,0.01968179914629688,0.01968179914629688,0.017772076924074662,0.01667918074921127,0.01651969111603743,0.01613058605767167,0.016902190995943273,0.017625738996379148,0.01575120506647609,0.013070354002646303,0.011473840397204125,0.011311238771187865,0.010284952417720306,0.010284952417720306,0.010920279445195828,0.010175400488026367,0.010802077073315246,0.009866404558695365,0.009866404558695365,0.009866404558695365,0.009684646260636151,0.008939767303466692,0.009727168878269844,0.009557100851058958,0.008857325580160263,0.009320288543123226,0.011005586646104258,0.010272189932808047,0.01073975034326816,0.01072996994204158,0.009999819735451583,0.009999819735451583,0.010212133960504662,0.010559356182726885,0.010559356182726885,0.011609224949131084,0.01083762001085948,0.010440794614034082,0.010975306398545869,0.010880068303307771,0.01098957685031632,0.01098957685031632,0.01099978133243885,0.01099978133243885,0.010910931014230735,0.011209884676413097,0.010373564485254196,0.012659278770968481,0.013142370558408095,0.013142370558408095,0.013045188828573305,0.013045188828573305,0.012359413270030317,0.012876209135663392,0.012402275486374292,0.013173880424645897,0.01197469343277598,0.011807189245171289,0.01106157521008357,0.01059143603026697,0.010678870945288094,0.010941338136889142,0.010729023911836062,0.010381801689613841,0.010961511834541379,0.010139174353688942,0.010299430763945351,0.009743875208389796,0.009070474534989123,0.008832379296893884,0.008848589140689934,0.009167060478269552,0.009137641327119696,0.009380950329552785,0.008873200766387606,0.008752500223634833,0.008988906843020174,0.00680834502838896,0.00787564083784857,0.009191430311532781,0.010181529321433772,0.01087237560813498,0.010770749591874818,0.010952034005473855,0.010952034005473855,0.009894771068778294,0.010142069489393423,0.010344089691413625,0.01102680422969732,0.012600717143816418],\"yaxis\":\"y\",\"type\":\"scattergl\"},{\"hovertemplate\":\"party=CDU\\u003cbr\\u003edate=%{x}\\u003cbr\\u003esaliency=%{y}\\u003cextra\\u003e\\u003c\\u002fextra\\u003e\",\"legendgroup\":\"CDU\",\"line\":{\"color\":\"black\",\"dash\":\"solid\"},\"marker\":{\"symbol\":\"circle\"},\"mode\":\"lines\",\"name\":\"CDU\",\"showlegend\":true,\"x\":[\"2018-05-15\",\"2018-05-16\",\"2018-05-17\",\"2018-05-18\",\"2018-06-06\",\"2018-06-07\",\"2018-06-08\",\"2018-06-13\",\"2018-06-14\",\"2018-06-15\",\"2018-06-27\",\"2018-06-28\",\"2018-06-29\",\"2018-07-03\",\"2018-07-04\",\"2018-07-05\",\"2018-09-11\",\"2018-09-12\",\"2018-09-13\",\"2018-09-14\",\"2018-09-26\",\"2018-09-27\",\"2018-09-28\",\"2018-10-10\",\"2018-10-11\",\"2018-10-12\",\"2018-10-17\",\"2018-10-18\",\"2018-10-19\",\"2018-11-07\",\"2018-11-08\",\"2018-11-09\",\"2018-11-20\",\"2018-11-21\",\"2018-11-22\",\"2018-11-23\",\"2018-11-28\",\"2018-11-29\",\"2018-11-30\",\"2018-12-12\",\"2018-12-13\",\"2018-12-14\",\"2019-01-16\",\"2019-01-17\",\"2019-01-18\",\"2019-01-30\",\"2019-01-31\",\"2019-02-01\",\"2019-02-13\",\"2019-02-14\",\"2019-02-15\",\"2019-02-20\",\"2019-02-21\",\"2019-02-22\",\"2019-03-13\",\"2019-03-14\",\"2019-03-15\",\"2019-03-20\",\"2019-03-21\",\"2019-03-22\",\"2019-04-03\",\"2019-04-04\",\"2019-04-05\",\"2019-04-10\",\"2019-04-11\",\"2019-04-12\",\"2019-05-08\",\"2019-05-09\",\"2019-05-10\",\"2019-05-15\",\"2019-05-16\",\"2019-05-17\",\"2019-06-05\",\"2019-06-06\",\"2019-06-07\",\"2019-06-26\",\"2019-06-27\",\"2019-06-28\",\"2019-07-24\",\"2019-09-10\",\"2019-09-11\",\"2019-09-12\",\"2019-09-13\",\"2019-09-25\",\"2019-09-26\",\"2019-09-27\",\"2019-10-16\",\"2019-10-17\",\"2019-10-18\",\"2019-10-23\",\"2019-10-24\",\"2019-10-25\",\"2019-11-06\",\"2019-11-07\",\"2019-11-08\",\"2019-11-13\",\"2019-11-14\",\"2019-11-15\",\"2019-11-26\",\"2019-11-27\",\"2019-11-28\",\"2019-11-29\",\"2019-12-11\",\"2019-12-12\",\"2019-12-13\",\"2019-12-18\",\"2019-12-19\",\"2019-12-20\",\"2020-01-15\",\"2020-01-16\",\"2020-01-17\",\"2020-01-29\",\"2020-01-30\",\"2020-01-31\",\"2020-02-12\",\"2020-02-13\",\"2020-02-14\",\"2020-03-04\",\"2020-03-05\",\"2020-03-06\",\"2020-03-11\",\"2020-03-12\",\"2020-03-13\",\"2020-03-25\",\"2020-04-22\",\"2020-04-23\",\"2020-05-06\",\"2020-05-07\",\"2020-05-13\",\"2020-05-14\",\"2020-05-15\",\"2020-05-27\",\"2020-05-28\",\"2020-05-29\",\"2020-06-17\",\"2020-06-18\",\"2020-06-19\",\"2020-06-29\",\"2020-07-01\",\"2020-07-02\",\"2020-07-03\",\"2020-09-09\",\"2020-09-10\",\"2020-09-11\",\"2020-09-16\",\"2020-09-17\",\"2020-09-18\",\"2020-09-29\",\"2020-09-30\",\"2020-10-01\",\"2020-10-02\",\"2020-10-07\",\"2020-10-08\",\"2020-10-09\",\"2020-10-28\",\"2020-10-29\",\"2020-10-30\",\"2020-11-04\",\"2020-11-05\",\"2020-11-06\",\"2020-11-18\",\"2020-11-19\",\"2020-11-20\",\"2020-11-25\",\"2020-11-26\",\"2020-11-27\",\"2020-12-08\",\"2020-12-09\",\"2020-12-10\",\"2020-12-11\",\"2020-12-16\",\"2020-12-17\",\"2021-01-13\",\"2021-01-14\",\"2021-01-27\",\"2021-01-28\",\"2021-01-29\",\"2021-02-10\",\"2021-02-11\",\"2021-02-12\",\"2021-02-24\",\"2021-02-25\",\"2021-02-26\",\"2021-03-03\",\"2021-03-04\",\"2021-03-05\",\"2021-03-24\",\"2021-03-25\",\"2021-03-26\",\"2021-04-13\",\"2021-04-15\",\"2021-04-16\",\"2021-04-21\",\"2021-04-22\",\"2021-04-23\",\"2021-05-05\",\"2021-05-06\",\"2021-05-07\",\"2021-05-19\",\"2021-05-20\",\"2021-05-21\",\"2021-06-09\",\"2021-06-10\",\"2021-06-11\",\"2021-06-23\",\"2021-06-24\",\"2021-06-25\",\"2021-08-25\",\"2021-09-07\"],\"xaxis\":\"x\",\"y\":[0.019651438183527214,0.020210097401404305,0.018906559226357752,0.018906559226357752,0.01878445910425763,0.019073685423852717,0.01975861693070203,0.01891013208221718,0.018994095138472427,0.018323874745068643,0.018323874745068643,0.019703685928801395,0.019523505748621214,0.019804404625025706,0.0194065492291119,0.019589699412262088,0.02131113916187085,0.0212119328126645,0.0212119328126645,0.0212119328126645,0.021892204921508042,0.02298879122001517,0.023091355322579273,0.02878336311985023,0.02878336311985023,0.02877361161509217,0.029243095183167287,0.0173562721589035,0.017302702879982108,0.017302702879982108,0.01535233497251313,0.015248738325739562,0.01629448995972649,0.016729272568422143,0.016976186148669057,0.01668695982907397,0.016002028322224655,0.01643380725141291,0.01663474448005795,0.016404063972560834,0.016404063972560834,0.015024252788828081,0.015024252788828081,0.014743353912423587,0.015094363493727466,0.014911213310577284,0.013507233878428837,0.013619467323995615,0.015373853288907896,0.015373853288907896,0.01469358118006436,0.01426187363896029,0.014227060213902963,0.008093726880569628,0.008093726880569628,0.008354314348392894,0.009303270496629833,0.009224281555081652,0.009325251274416585,0.00949445601214924,0.009419041230852104,0.010107338378306185,0.009295504872974229,0.008860722264278578,0.008932787950379351,0.009080280575748082,0.009080280575748082,0.009958902956961137,0.011175504173562353,0.011175504173562353,0.011263921503358995,0.011606387256783651,0.020697296347692743,0.021180388135132355,0.020534393303091012,0.02085490612360383,0.02066816476039188,0.021368939444906403,0.01961455347999412,0.024699299242705985,0.026347650891057634,0.026341104674770646,0.026703461524145596,0.026170128190812263,0.02739667941736349,0.027467354889498814,0.026048915173186755,0.02791673126514078,0.027698390653787066,0.029314900201768697,0.029538114487482985,0.03108533772856663,0.03085141959991166,0.03093331968181174,0.03159185752201342,0.032050425502705295,0.03269392614620594,0.033407334359614155,0.035594897416742426,0.03794621138631366,0.03829832269087825,0.03817660748932997,0.02931245576803539,0.028923260694210803,0.030038087895994527,0.030129097709226563,0.031099700340881282,0.030420561019367583,0.030420561019367583,0.025596911862399842,0.025016175872411183,0.024658349619062544,0.02443722850806379,0.02498667905751434,0.02406042813126341,0.023584237655072938,0.025242612447776088,0.023374796355822063,0.02399536373170859,0.022460276012410345,0.022237061726696056,0.0195464787670548,0.01991891824563953,0.01983701816373945,0.018859501057190087,0.018501271925726755,0.018114181538636365,0.016090372014826843,0.012401307456197068,0.010417911073086471,0.010178185651576641,0.010202533138915948,0.010055330264130394,0.010776927943991415,0.009662100742207691,0.009910644115063495,0.009245052376654966,0.009111183568087362,0.009601379646518736,0.010046165393715785,0.009347553425389695,0.00946965354748982,0.009260667131606852,0.009925791480941725,0.012384111870296598,0.013089579242430639,0.011431204449727487,0.01308514847008372,0.013964581094197194,0.013927629741456369,0.014089442039190998,0.015195287220865565,0.014996007915441005,0.01513785188707221,0.017137851887072213,0.016962800616259505,0.016706390359849253,0.016706390359849253,0.017144986851077324,0.017122492407967295,0.01714391141733811,0.0169849460223946,0.01728275001813168,0.01847226815598396,0.018763813345488333,0.018103747338887675,0.019262220389943845,0.02059555372327718,0.02057985349300713,0.02073977200586682,0.02037076831582992,0.019800951847575955,0.020414448780091292,0.019375312477797096,0.016899177663848134,0.016193710291714097,0.016302642753587736,0.014648698733231501,0.013230598815131583,0.013016923601456369,0.012855111303721741,0.012384186756967812,0.01221102658380764,0.013281303824297645,0.011668900723522451,0.012655850770219577,0.012655850770219577,0.013121400118450489,0.012798143880970976,0.012452720737620373,0.012555701767430672,0.012759424195622258,0.012547903184326536,0.012061877994770369,0.012394552530609317,0.012612417454356593,0.011092785771316682,0.011700091707389738,0.01141498979862235,0.01064497437343451,0.011902836008654636,0.01183773184198797,0.012083341438682256,0.012028239785632664,0.011745753909926448,0.013742281687704225,0.013851928460803267,0.014028295303836777,0.01576457704011851],\"yaxis\":\"y\",\"type\":\"scattergl\"},{\"hovertemplate\":\"party=CSU\\u003cbr\\u003edate=%{x}\\u003cbr\\u003esaliency=%{y}\\u003cextra\\u003e\\u003c\\u002fextra\\u003e\",\"legendgroup\":\"CSU\",\"line\":{\"color\":\"#525060\",\"dash\":\"solid\"},\"marker\":{\"symbol\":\"circle\"},\"mode\":\"lines\",\"name\":\"CSU\",\"showlegend\":true,\"x\":[\"2018-05-16\",\"2018-05-17\",\"2018-05-18\",\"2018-06-06\",\"2018-06-07\",\"2018-06-08\",\"2018-06-13\",\"2018-06-14\",\"2018-06-15\",\"2018-06-27\",\"2018-06-28\",\"2018-06-29\",\"2018-07-03\",\"2018-07-04\",\"2018-07-05\",\"2018-09-11\",\"2018-09-12\",\"2018-09-13\",\"2018-09-14\",\"2018-09-26\",\"2018-09-27\",\"2018-09-28\",\"2018-10-10\",\"2018-10-11\",\"2018-10-12\",\"2018-10-17\",\"2018-10-18\",\"2018-10-19\",\"2018-11-07\",\"2018-11-08\",\"2018-11-09\",\"2018-11-20\",\"2018-11-21\",\"2018-11-22\",\"2018-11-23\",\"2018-11-28\",\"2018-11-29\",\"2018-11-30\",\"2018-12-13\",\"2018-12-14\",\"2019-01-17\",\"2019-01-18\",\"2019-01-30\",\"2019-01-31\",\"2019-02-01\",\"2019-02-13\",\"2019-02-14\",\"2019-02-15\",\"2019-02-20\",\"2019-02-21\",\"2019-02-22\",\"2019-03-13\",\"2019-03-14\",\"2019-03-15\",\"2019-03-20\",\"2019-03-21\",\"2019-03-22\",\"2019-04-04\",\"2019-04-05\",\"2019-04-10\",\"2019-04-11\",\"2019-04-12\",\"2019-05-09\",\"2019-05-10\",\"2019-05-15\",\"2019-05-16\",\"2019-05-17\",\"2019-06-05\",\"2019-06-06\",\"2019-06-07\",\"2019-06-26\",\"2019-06-27\",\"2019-06-28\",\"2019-07-24\",\"2019-09-10\",\"2019-09-11\",\"2019-09-12\",\"2019-09-13\",\"2019-09-25\",\"2019-09-26\",\"2019-09-27\",\"2019-10-16\",\"2019-10-17\",\"2019-10-18\",\"2019-10-23\",\"2019-10-24\",\"2019-10-25\",\"2019-11-07\",\"2019-11-08\",\"2019-11-13\",\"2019-11-14\",\"2019-11-15\",\"2019-11-26\",\"2019-11-27\",\"2019-11-28\",\"2019-11-29\",\"2019-12-11\",\"2019-12-12\",\"2019-12-13\",\"2019-12-18\",\"2019-12-19\",\"2019-12-20\",\"2020-01-15\",\"2020-01-16\",\"2020-01-17\",\"2020-01-29\",\"2020-01-30\",\"2020-01-31\",\"2020-02-12\",\"2020-02-13\",\"2020-02-14\",\"2020-03-04\",\"2020-03-05\",\"2020-03-06\",\"2020-03-11\",\"2020-03-12\",\"2020-03-13\",\"2020-03-25\",\"2020-04-22\",\"2020-04-23\",\"2020-05-06\",\"2020-05-07\",\"2020-05-13\",\"2020-05-14\",\"2020-05-15\",\"2020-05-27\",\"2020-05-28\",\"2020-05-29\",\"2020-06-17\",\"2020-06-18\",\"2020-06-19\",\"2020-06-29\",\"2020-07-01\",\"2020-07-02\",\"2020-07-03\",\"2020-09-09\",\"2020-09-10\",\"2020-09-11\",\"2020-09-16\",\"2020-09-17\",\"2020-09-18\",\"2020-09-29\",\"2020-09-30\",\"2020-10-01\",\"2020-10-02\",\"2020-10-07\",\"2020-10-08\",\"2020-10-09\",\"2020-10-28\",\"2020-10-29\",\"2020-10-30\",\"2020-11-04\",\"2020-11-05\",\"2020-11-06\",\"2020-11-18\",\"2020-11-19\",\"2020-11-20\",\"2020-11-25\",\"2020-11-26\",\"2020-11-27\",\"2020-12-08\",\"2020-12-09\",\"2020-12-10\",\"2020-12-11\",\"2020-12-16\",\"2020-12-17\",\"2021-01-13\",\"2021-01-14\",\"2021-01-27\",\"2021-01-28\",\"2021-01-29\",\"2021-02-10\",\"2021-02-11\",\"2021-02-12\",\"2021-02-24\",\"2021-02-25\",\"2021-02-26\",\"2021-03-03\",\"2021-03-04\",\"2021-03-05\",\"2021-03-24\",\"2021-03-25\",\"2021-03-26\",\"2021-04-13\",\"2021-04-15\",\"2021-04-16\",\"2021-04-21\",\"2021-04-22\",\"2021-04-23\",\"2021-05-05\",\"2021-05-06\",\"2021-05-07\",\"2021-05-19\",\"2021-05-20\",\"2021-05-21\",\"2021-06-09\",\"2021-06-10\",\"2021-06-11\",\"2021-06-23\",\"2021-06-24\",\"2021-06-25\",\"2021-08-25\",\"2021-09-07\"],\"xaxis\":\"x\",\"y\":[0.024108313551749305,0.024108313551749305,0.02211401155744731,0.024197344890780643,0.024197344890780643,0.02446616209508172,0.024129461758381383,0.024129461758381383,0.02554790147469344,0.02554790147469344,0.02817948042206186,0.02748503597761742,0.02748503597761742,0.026367717541863227,0.026367717541863227,0.03228169603648688,0.03228169603648688,0.032587506434040396,0.032587506434040396,0.032587506434040396,0.03379232571114883,0.03379232571114883,0.03898023420788086,0.03898023420788086,0.03878182150946816,0.03878182150946816,0.02703138059236058,0.026586936147916136,0.026586936147916136,0.021378602814582804,0.0223786028145828,0.025099691249956955,0.025099691249956955,0.02301635791662362,0.02301635791662362,0.022747540712322545,0.022986775162083306,0.025764552939861084,0.02434611322354903,0.02434611322354903,0.021909466050059747,0.02493976908036278,0.02493976908036278,0.025168079582645886,0.025168079582645886,0.019254101088022228,0.019254101088022228,0.01925693266577735,0.01925693266577735,0.01925693266577735,0.018052113388668918,0.018052113388668918,0.012845436123168123,0.014768513046245046,0.01628366456139656,0.016283664561396564,0.016129343573742242,0.01652854517054863,0.01789840818424726,0.01789840818424726,0.017072019295358367,0.014350930859984219,0.016901951268147485,0.016901951268147485,0.016901951268147485,0.017168617934814154,0.015414231969901873,0.01930312085879076,0.019978796534466436,0.019978796534466436,0.02045053142725396,0.01768269558855198,0.01872436225521865,0.018496051752935543,0.018496051752935543,0.021363435265480346,0.02326819717024225,0.024241606476984888,0.024241606476984888,0.027252359165156934,0.027558169562710448,0.027558169562710448,0.030215827220368106,0.028292750297291183,0.02677759878213967,0.027102802034172188,0.028790565747252358,0.02886084771852109,0.02900613621997398,0.029006136219973975,0.029273053743224097,0.033132702866031115,0.036783232845464746,0.03726632463290436,0.03726632463290436,0.040703361669941394,0.040703361669941394,0.03403669500327473,0.03450062046720019,0.034870990837570566,0.0367105898350643,0.03644812264346324,0.03601251658285719,0.03642403921660205,0.038070129751581465,0.03699486093437717,0.03509009902961526,0.03522648746387604,0.0357641218724782,0.03297411973618252,0.03336275378307345,0.034156404576724246,0.03166340737784469,0.033276310603651146,0.033276310603651146,0.03295110735161863,0.03126334363853846,0.030793860070463343,0.029278708555311825,0.03184281111941439,0.03266014412027328,0.030626979015731103,0.0244254286281342,0.024316868675900584,0.024316868675900584,0.020613164972196882,0.020804735853422938,0.020804735853422938,0.019665134713821794,0.02053589909522447,0.01802963343106407,0.01802963343106407,0.019431604953517524,0.02046935768209151,0.019887096934346128,0.01851164890567229,0.01851164890567229,0.017093209189360234,0.01826497649015979,0.020917789156674214,0.020223344712229772,0.023596360585245647,0.023925615094066717,0.022312711868260268,0.022312711868260268,0.023213612769161167,0.02401682562056679,0.024601620942204215,0.02511444145502473,0.022728592010351753,0.022451122531994373,0.024624638513729535,0.025114834592160906,0.024740302756954918,0.024740302756954918,0.025442057142919826,0.025250486261693773,0.028149036986331456,0.028149036986331456,0.02734080266745884,0.02734080266745884,0.02734080266745884,0.025332770538944782,0.025433882773525165,0.025145246784740737,0.02495533748768858,0.02733628986864096,0.02779291087320717,0.027709525423968064,0.025109186249293106,0.025109186249293106,0.02094251958262644,0.019772928939351585,0.019772928939351585,0.021007496840586153,0.020786868048528792,0.019983655197123164,0.020633427776720312,0.020537273930566462,0.0209489913126118,0.019968599155749056,0.016147810625283105,0.01623232719052989,0.01623232719052989,0.016532627490830194,0.015830873104865282,0.015830873104865282,0.016472145389077156,0.016472145389077156,0.016039244956176722,0.016525862961042904,0.024025862961042907,0.024025862961042907,0.02350906709540983,0.026189157849805744,0.02596240048019123,0.02769667443668741,0.027560566252634023,0.02593454999247142,0.028924729212158835,0.03127214705253442,0.03178496756535494,0.03314551178304201],\"yaxis\":\"y\",\"type\":\"scattergl\"},{\"hovertemplate\":\"party=DIE LINKE\\u003cbr\\u003edate=%{x}\\u003cbr\\u003esaliency=%{y}\\u003cextra\\u003e\\u003c\\u002fextra\\u003e\",\"legendgroup\":\"DIE LINKE\",\"line\":{\"color\":\"#a33ab5\",\"dash\":\"solid\"},\"marker\":{\"symbol\":\"circle\"},\"mode\":\"lines\",\"name\":\"DIE LINKE\",\"showlegend\":true,\"x\":[\"2018-05-15\",\"2018-05-16\",\"2018-05-17\",\"2018-05-18\",\"2018-06-06\",\"2018-06-07\",\"2018-06-08\",\"2018-06-13\",\"2018-06-14\",\"2018-06-15\",\"2018-06-27\",\"2018-06-28\",\"2018-06-29\",\"2018-07-03\",\"2018-07-04\",\"2018-07-05\",\"2018-09-11\",\"2018-09-12\",\"2018-09-13\",\"2018-09-14\",\"2018-09-26\",\"2018-09-27\",\"2018-09-28\",\"2018-10-10\",\"2018-10-11\",\"2018-10-12\",\"2018-10-17\",\"2018-10-18\",\"2018-10-19\",\"2018-11-07\",\"2018-11-08\",\"2018-11-09\",\"2018-11-20\",\"2018-11-21\",\"2018-11-22\",\"2018-11-23\",\"2018-11-28\",\"2018-11-29\",\"2018-11-30\",\"2018-12-12\",\"2018-12-13\",\"2018-12-14\",\"2019-01-16\",\"2019-01-17\",\"2019-01-18\",\"2019-01-30\",\"2019-01-31\",\"2019-02-01\",\"2019-02-13\",\"2019-02-14\",\"2019-02-15\",\"2019-02-20\",\"2019-02-21\",\"2019-02-22\",\"2019-03-13\",\"2019-03-14\",\"2019-03-15\",\"2019-03-20\",\"2019-03-21\",\"2019-03-22\",\"2019-04-03\",\"2019-04-04\",\"2019-04-05\",\"2019-04-10\",\"2019-04-11\",\"2019-04-12\",\"2019-05-08\",\"2019-05-09\",\"2019-05-10\",\"2019-05-15\",\"2019-05-16\",\"2019-05-17\",\"2019-06-05\",\"2019-06-06\",\"2019-06-07\",\"2019-06-26\",\"2019-06-27\",\"2019-06-28\",\"2019-07-24\",\"2019-09-10\",\"2019-09-11\",\"2019-09-12\",\"2019-09-13\",\"2019-09-25\",\"2019-09-26\",\"2019-09-27\",\"2019-10-16\",\"2019-10-17\",\"2019-10-18\",\"2019-10-23\",\"2019-10-24\",\"2019-10-25\",\"2019-11-06\",\"2019-11-07\",\"2019-11-08\",\"2019-11-13\",\"2019-11-14\",\"2019-11-15\",\"2019-11-26\",\"2019-11-27\",\"2019-11-28\",\"2019-11-29\",\"2019-12-11\",\"2019-12-12\",\"2019-12-13\",\"2019-12-18\",\"2019-12-19\",\"2019-12-20\",\"2020-01-15\",\"2020-01-16\",\"2020-01-17\",\"2020-01-29\",\"2020-01-30\",\"2020-01-31\",\"2020-02-12\",\"2020-02-13\",\"2020-02-14\",\"2020-03-04\",\"2020-03-05\",\"2020-03-06\",\"2020-03-11\",\"2020-03-12\",\"2020-03-13\",\"2020-03-25\",\"2020-04-22\",\"2020-04-23\",\"2020-05-06\",\"2020-05-07\",\"2020-05-13\",\"2020-05-14\",\"2020-05-15\",\"2020-05-27\",\"2020-05-28\",\"2020-05-29\",\"2020-06-17\",\"2020-06-18\",\"2020-06-19\",\"2020-06-29\",\"2020-07-01\",\"2020-07-02\",\"2020-07-03\",\"2020-09-09\",\"2020-09-10\",\"2020-09-11\",\"2020-09-16\",\"2020-09-17\",\"2020-09-18\",\"2020-09-29\",\"2020-09-30\",\"2020-10-01\",\"2020-10-02\",\"2020-10-07\",\"2020-10-08\",\"2020-10-09\",\"2020-10-28\",\"2020-10-29\",\"2020-10-30\",\"2020-11-04\",\"2020-11-05\",\"2020-11-06\",\"2020-11-18\",\"2020-11-19\",\"2020-11-20\",\"2020-11-25\",\"2020-11-26\",\"2020-11-27\",\"2020-12-08\",\"2020-12-09\",\"2020-12-10\",\"2020-12-11\",\"2020-12-16\",\"2020-12-17\",\"2021-01-13\",\"2021-01-14\",\"2021-01-27\",\"2021-01-28\",\"2021-01-29\",\"2021-02-10\",\"2021-02-11\",\"2021-02-12\",\"2021-02-24\",\"2021-02-25\",\"2021-02-26\",\"2021-03-03\",\"2021-03-04\",\"2021-03-05\",\"2021-03-24\",\"2021-03-25\",\"2021-03-26\",\"2021-04-13\",\"2021-04-15\",\"2021-04-16\",\"2021-04-21\",\"2021-04-22\",\"2021-04-23\",\"2021-05-05\",\"2021-05-06\",\"2021-05-07\",\"2021-05-19\",\"2021-05-20\",\"2021-05-21\",\"2021-06-09\",\"2021-06-10\",\"2021-06-11\",\"2021-06-23\",\"2021-06-24\",\"2021-06-25\",\"2021-08-25\",\"2021-09-07\"],\"xaxis\":\"x\",\"y\":[0.01500848052170664,0.015248288675183859,0.014527938790954376,0.015277002461366361,0.01506735885549634,0.015072262876793805,0.016024643829174755,0.01516197992303259,0.01516197992303259,0.015367741239905018,0.015367741239905018,0.01632402539291048,0.01632402539291048,0.017157358726243816,0.016459908028793116,0.016637212993332127,0.018648707246205688,0.018220817234982346,0.018397326194730623,0.018397326194730623,0.018397326194730623,0.019555313756226957,0.019939170258469117,0.022464422783721634,0.022464422783721634,0.022464422783721634,0.022464422783721634,0.018781061522628113,0.018781061522628113,0.01886745174059728,0.01872821215499091,0.019821737334847028,0.020826449702589532,0.020291061245852764,0.020723961678753195,0.02050538244378052,0.017172049110447184,0.01758807573615123,0.019282990990388514,0.01907722967351609,0.01907722967351609,0.018398723298288403,0.018398723298288403,0.01791261218717729,0.019121672487146683,0.018944367522607676,0.017983924320785164,0.018270720857581697,0.01837907160442792,0.01850298734172656,0.01850298734172656,0.0177917688768849,0.01738098456315941,0.014350681532856381,0.014350681532856381,0.014663670578239795,0.014930337244906462,0.015113629607005914,0.015113629607005914,0.015304642298018605,0.014843281283024371,0.013791241901871065,0.011337254171809715,0.011123578958134503,0.01096502694773064,0.01228515896093196,0.012926184601957602,0.013875751447110184,0.013953885838262967,0.01594393558950675,0.01594393558950675,0.01566615781172897,0.022642901997775484,0.022998914656003334,0.02162150418768377,0.02162150418768377,0.020570453136632718,0.021981055113272432,0.021416083361860006,0.024046988561200487,0.02550532189453382,0.024308571784740232,0.025086923666033285,0.025086923666033285,0.02649537437025864,0.026400250248622508,0.02613358358195584,0.027574784670049583,0.02787240371766863,0.027302603147868063,0.027587503432768345,0.02931122201191664,0.02931122201191664,0.029468454716319155,0.029603104248832803,0.030410631810099575,0.030535889693978146,0.029349881439203085,0.028928183145164366,0.02733495879074598,0.02733495879074598,0.02787259319934813,0.021232549350001954,0.0210124062569915,0.023393358637943878,0.023723391641244207,0.024755840018825328,0.02286904756599514,0.023662698359645937,0.021276201548237016,0.022825387011896167,0.024175425861935013,0.023274524961034115,0.02441412610063526,0.023005675396409905,0.023059919316200043,0.024171030427311155,0.022164857587804978,0.023493254800348532,0.025129246620389435,0.02484434633548915,0.02311481589782474,0.02311481589782474,0.022957583193422223,0.022548585238412,0.02111537010838836,0.022339136334727925,0.021858511162433987,0.020507159811082636,0.020647968822859394,0.020647968822859394,0.020110334414257244,0.019773634077556904,0.019777160294983474,0.01739620791403109,0.017587008244064097,0.016554559866482972,0.016554559866482972,0.015760909072832178,0.015523818543402502,0.012940928196516177,0.012095939851527831,0.01241800104315424,0.011915342578712336,0.013521768281523582,0.01576538270842642,0.014654271597315308,0.017630462073505784,0.01701454682344419,0.015378555003403292,0.016019580644428932,0.016118630385971014,0.016443833638003537,0.01670024389441379,0.01738051600325733,0.016831631966382026,0.015056635978579104,0.016056562454573518,0.0167403231383342,0.01648046650750983,0.01648046650750983,0.016820602561931595,0.01707312781445685,0.018943412166493027,0.019259367932685758,0.018738534599352426,0.020629787554435168,0.02151278976194069,0.022017840266991193,0.0228255738073409,0.022400945357234744,0.02194098864727804,0.021985227821951992,0.021523723743283985,0.020590698713873413,0.01821621838128627,0.01821621838128627,0.01577766231369794,0.015308101844137473,0.015308101844137473,0.014667076203111832,0.014694150793608649,0.01436894754157613,0.015394588567217156,0.015367911229615448,0.017000128599824086,0.016785074836383227,0.015561354727251463,0.015307701570372501,0.015604636436272882,0.016245662077298526,0.015905526022876756,0.0156530007703515,0.014900376488315457,0.015014528249004445,0.015014528249004445,0.013270118172042112,0.014422739374205804,0.013917688869155299,0.013820472574755906,0.016446735201018536,0.016149116153399486,0.018221840177343022,0.018512602047052257,0.017839201373651584,0.01831524238641576,0.01831524238641576,0.018302542361015712,0.018362602421075774],\"yaxis\":\"y\",\"type\":\"scattergl\"},{\"hovertemplate\":\"party=FDP\\u003cbr\\u003edate=%{x}\\u003cbr\\u003esaliency=%{y}\\u003cextra\\u003e\\u003c\\u002fextra\\u003e\",\"legendgroup\":\"FDP\",\"line\":{\"color\":\"#ffeb3b\",\"dash\":\"solid\"},\"marker\":{\"symbol\":\"circle\"},\"mode\":\"lines\",\"name\":\"FDP\",\"showlegend\":true,\"x\":[\"2018-05-15\",\"2018-05-16\",\"2018-05-17\",\"2018-05-18\",\"2018-06-06\",\"2018-06-07\",\"2018-06-08\",\"2018-06-13\",\"2018-06-14\",\"2018-06-15\",\"2018-06-27\",\"2018-06-28\",\"2018-06-29\",\"2018-07-03\",\"2018-07-04\",\"2018-07-05\",\"2018-09-11\",\"2018-09-12\",\"2018-09-13\",\"2018-09-14\",\"2018-09-26\",\"2018-09-27\",\"2018-09-28\",\"2018-10-10\",\"2018-10-11\",\"2018-10-12\",\"2018-10-17\",\"2018-10-18\",\"2018-10-19\",\"2018-11-07\",\"2018-11-08\",\"2018-11-09\",\"2018-11-20\",\"2018-11-21\",\"2018-11-22\",\"2018-11-23\",\"2018-11-28\",\"2018-11-29\",\"2018-11-30\",\"2018-12-12\",\"2018-12-13\",\"2018-12-14\",\"2019-01-16\",\"2019-01-17\",\"2019-01-18\",\"2019-01-30\",\"2019-01-31\",\"2019-02-01\",\"2019-02-13\",\"2019-02-14\",\"2019-02-15\",\"2019-02-20\",\"2019-02-21\",\"2019-02-22\",\"2019-03-13\",\"2019-03-14\",\"2019-03-15\",\"2019-03-20\",\"2019-03-21\",\"2019-03-22\",\"2019-04-03\",\"2019-04-04\",\"2019-04-05\",\"2019-04-10\",\"2019-04-11\",\"2019-04-12\",\"2019-05-08\",\"2019-05-09\",\"2019-05-10\",\"2019-05-15\",\"2019-05-16\",\"2019-05-17\",\"2019-06-05\",\"2019-06-06\",\"2019-06-07\",\"2019-06-26\",\"2019-06-27\",\"2019-06-28\",\"2019-07-24\",\"2019-09-10\",\"2019-09-11\",\"2019-09-12\",\"2019-09-13\",\"2019-09-25\",\"2019-09-26\",\"2019-09-27\",\"2019-10-16\",\"2019-10-17\",\"2019-10-18\",\"2019-10-23\",\"2019-10-24\",\"2019-10-25\",\"2019-11-06\",\"2019-11-07\",\"2019-11-08\",\"2019-11-13\",\"2019-11-14\",\"2019-11-15\",\"2019-11-26\",\"2019-11-27\",\"2019-11-28\",\"2019-11-29\",\"2019-12-11\",\"2019-12-12\",\"2019-12-13\",\"2019-12-18\",\"2019-12-19\",\"2019-12-20\",\"2020-01-15\",\"2020-01-16\",\"2020-01-17\",\"2020-01-29\",\"2020-01-30\",\"2020-01-31\",\"2020-02-12\",\"2020-02-13\",\"2020-02-14\",\"2020-03-04\",\"2020-03-05\",\"2020-03-06\",\"2020-03-11\",\"2020-03-12\",\"2020-03-13\",\"2020-03-25\",\"2020-04-22\",\"2020-04-23\",\"2020-05-06\",\"2020-05-07\",\"2020-05-13\",\"2020-05-14\",\"2020-05-15\",\"2020-05-27\",\"2020-05-28\",\"2020-05-29\",\"2020-06-17\",\"2020-06-18\",\"2020-06-19\",\"2020-06-29\",\"2020-07-01\",\"2020-07-02\",\"2020-07-03\",\"2020-09-09\",\"2020-09-10\",\"2020-09-11\",\"2020-09-16\",\"2020-09-17\",\"2020-09-18\",\"2020-09-29\",\"2020-09-30\",\"2020-10-01\",\"2020-10-02\",\"2020-10-07\",\"2020-10-08\",\"2020-10-09\",\"2020-10-28\",\"2020-10-29\",\"2020-10-30\",\"2020-11-04\",\"2020-11-05\",\"2020-11-06\",\"2020-11-18\",\"2020-11-19\",\"2020-11-20\",\"2020-11-25\",\"2020-11-26\",\"2020-11-27\",\"2020-12-08\",\"2020-12-09\",\"2020-12-10\",\"2020-12-11\",\"2020-12-16\",\"2020-12-17\",\"2021-01-13\",\"2021-01-14\",\"2021-01-27\",\"2021-01-28\",\"2021-01-29\",\"2021-02-10\",\"2021-02-11\",\"2021-02-12\",\"2021-02-24\",\"2021-02-25\",\"2021-02-26\",\"2021-03-03\",\"2021-03-04\",\"2021-03-05\",\"2021-03-24\",\"2021-03-25\",\"2021-03-26\",\"2021-04-13\",\"2021-04-15\",\"2021-04-16\",\"2021-04-21\",\"2021-04-22\",\"2021-04-23\",\"2021-05-05\",\"2021-05-06\",\"2021-05-07\",\"2021-05-19\",\"2021-05-20\",\"2021-05-21\",\"2021-06-09\",\"2021-06-10\",\"2021-06-11\",\"2021-06-23\",\"2021-06-24\",\"2021-06-25\",\"2021-08-25\",\"2021-09-07\"],\"xaxis\":\"x\",\"y\":[0.014976483199191488,0.014976483199191488,0.0145350386787996,0.0145350386787996,0.014062225440028915,0.014062225440028915,0.01614555877336225,0.01852581720142015,0.018672660079540562,0.017807275464155947,0.017807275464155947,0.018654733091274592,0.018848531540886993,0.020028472543836846,0.020206592860685487,0.020206592860685487,0.02135601814804181,0.021559270180562133,0.021658383378266883,0.021658383378266883,0.021658383378266883,0.021647259431832964,0.021869481654055185,0.026738059909730213,0.026738059909730213,0.02644307465899275,0.02697217518809328,0.021019794235712326,0.021229437841582346,0.021229437841582346,0.018490640671771027,0.019278042246574176,0.02067078743242281,0.021090074644162852,0.02131995970163412,0.02131995970163412,0.019236626368300782,0.017914898450828186,0.018699154269169595,0.018282487602502933,0.018424331574134138,0.018236939953616152,0.019118410321208052,0.01809067631978027,0.018421891784994687,0.018421891784994687,0.018745023391882002,0.01854177135936168,0.02119728779128656,0.021759875695646618,0.021759875695646618,0.022228905412796637,0.022006683190574413,0.016391002574893797,0.016391002574893797,0.016391002574893797,0.016649303620596415,0.01715435412564692,0.01733841130717847,0.01733841130717847,0.01721262514365646,0.017987723568853312,0.017068183338968257,0.017503596981929066,0.017524338490873845,0.017524338490873845,0.019074726087773067,0.018917599263979578,0.017986500567517754,0.020037782618799804,0.02002125193037662,0.01956822526125008,0.024166715309294002,0.02514658377947005,0.024044655404814406,0.024044655404814406,0.022787848240883597,0.02558896868906287,0.02246396868906287,0.027853761737083767,0.029272201453395822,0.02886120893714015,0.02886120893714015,0.02892133399726521,0.03077925749453297,0.031195924161199637,0.03151963369750759,0.03323680541467931,0.033066818273810174,0.033066818273810174,0.033066818273810174,0.034452164078798836,0.03376250890638504,0.033046696940573085,0.033240514818601484,0.034220906975464226,0.03290280741573109,0.033480266595340806,0.035304478867314276,0.03388212763364229,0.033756814350434275,0.03401273797592311,0.028338979110674883,0.02735841879049192,0.028049265077193127,0.028049265077193127,0.02948251416902399,0.02668139372084472,0.02668139372084472,0.020729012768463766,0.021856869348448008,0.02167078092706547,0.02167078092706547,0.021870981127265668,0.020330517947458222,0.020078867782441723,0.019837321888721914,0.017615099666499694,0.01851860019065969,0.018884900556960054,0.018884900556960054,0.01593705475197139,0.01593705475197139,0.015798165863082504,0.015353721418638059,0.015014354902800954,0.0150965322744399,0.013510088543088213,0.012015909274415077,0.011512291740013034,0.011688658583046544,0.01122569562008358,0.01122569562008358,0.013723187091084986,0.013032340804383778,0.013476785248828223,0.011827786426684524,0.011827786426684524,0.011827786426684524,0.012232644726279666,0.009876824620459558,0.011184014162943217,0.011184014162943217,0.010798628777557833,0.012481168460097518,0.01597112271868127,0.015101557501289964,0.01740924980898227,0.0172015758681749,0.017845376511975545,0.017845376511975545,0.017845376511975545,0.018859869265598732,0.01907218349065181,0.01907218349065181,0.018431157849626168,0.019631843955972655,0.020159996798812738,0.02054835460011011,0.020879662321468297,0.02070329547843479,0.02070329547843479,0.020931605980717895,0.019473075548677523,0.020675824689570996,0.02023138024512655,0.022381917879535154,0.022381917879535154,0.022381917879535154,0.022427510030390462,0.022237033839914273,0.02098306558594602,0.02098306558594602,0.0203995575496078,0.018732890882941125,0.015215094333955494,0.015215094333955495,0.014661787991175467,0.013914959332965713,0.012904858322864702,0.01322231864032502,0.013777874195880578,0.012763381442257388,0.01377655741328274,0.01377655741328274,0.014792817575884364,0.013740629023695815,0.01300963487164903,0.012291244067051328,0.012267523495385551,0.012424018018077259,0.012690684684743925,0.01335126307134971,0.013890346629301192,0.01268759748840772,0.01422016453821615,0.012345108997471458,0.015162010405922162,0.016071101315013072,0.016345288545722043,0.01797572332833074,0.017642389994997405,0.019468874013262246,0.02005238204960047,0.02049424251471675,0.021951271202019187,0.021951271202019187,0.02252246663245575,0.026053458764484148],\"yaxis\":\"y\",\"type\":\"scattergl\"},{\"hovertemplate\":\"party=GRUENE\\u003cbr\\u003edate=%{x}\\u003cbr\\u003esaliency=%{y}\\u003cextra\\u003e\\u003c\\u002fextra\\u003e\",\"legendgroup\":\"GRUENE\",\"line\":{\"color\":\"#52d157\",\"dash\":\"solid\"},\"marker\":{\"symbol\":\"circle\"},\"mode\":\"lines\",\"name\":\"GRUENE\",\"showlegend\":true,\"x\":[\"2018-05-15\",\"2018-05-16\",\"2018-05-17\",\"2018-05-18\",\"2018-06-06\",\"2018-06-07\",\"2018-06-08\",\"2018-06-13\",\"2018-06-14\",\"2018-06-15\",\"2018-06-27\",\"2018-06-28\",\"2018-06-29\",\"2018-07-03\",\"2018-07-04\",\"2018-07-05\",\"2018-09-11\",\"2018-09-12\",\"2018-09-13\",\"2018-09-14\",\"2018-09-26\",\"2018-09-27\",\"2018-09-28\",\"2018-10-10\",\"2018-10-11\",\"2018-10-12\",\"2018-10-17\",\"2018-10-18\",\"2018-10-19\",\"2018-11-07\",\"2018-11-08\",\"2018-11-09\",\"2018-11-20\",\"2018-11-21\",\"2018-11-22\",\"2018-11-23\",\"2018-11-28\",\"2018-11-29\",\"2018-11-30\",\"2018-12-12\",\"2018-12-13\",\"2018-12-14\",\"2019-01-16\",\"2019-01-17\",\"2019-01-18\",\"2019-01-30\",\"2019-01-31\",\"2019-02-01\",\"2019-02-13\",\"2019-02-14\",\"2019-02-15\",\"2019-02-20\",\"2019-02-21\",\"2019-02-22\",\"2019-03-13\",\"2019-03-14\",\"2019-03-15\",\"2019-03-20\",\"2019-03-21\",\"2019-03-22\",\"2019-04-03\",\"2019-04-04\",\"2019-04-05\",\"2019-04-10\",\"2019-04-11\",\"2019-04-12\",\"2019-05-08\",\"2019-05-09\",\"2019-05-10\",\"2019-05-15\",\"2019-05-16\",\"2019-05-17\",\"2019-06-05\",\"2019-06-06\",\"2019-06-07\",\"2019-06-26\",\"2019-06-27\",\"2019-06-28\",\"2019-07-24\",\"2019-09-10\",\"2019-09-11\",\"2019-09-12\",\"2019-09-13\",\"2019-09-25\",\"2019-09-26\",\"2019-09-27\",\"2019-10-16\",\"2019-10-17\",\"2019-10-18\",\"2019-10-23\",\"2019-10-24\",\"2019-10-25\",\"2019-11-06\",\"2019-11-07\",\"2019-11-08\",\"2019-11-13\",\"2019-11-14\",\"2019-11-15\",\"2019-11-26\",\"2019-11-27\",\"2019-11-28\",\"2019-11-29\",\"2019-12-11\",\"2019-12-12\",\"2019-12-13\",\"2019-12-18\",\"2019-12-19\",\"2019-12-20\",\"2020-01-15\",\"2020-01-16\",\"2020-01-17\",\"2020-01-29\",\"2020-01-30\",\"2020-01-31\",\"2020-02-12\",\"2020-02-13\",\"2020-02-14\",\"2020-03-04\",\"2020-03-05\",\"2020-03-06\",\"2020-03-11\",\"2020-03-12\",\"2020-03-13\",\"2020-03-25\",\"2020-04-22\",\"2020-04-23\",\"2020-05-06\",\"2020-05-07\",\"2020-05-13\",\"2020-05-14\",\"2020-05-15\",\"2020-05-27\",\"2020-05-28\",\"2020-05-29\",\"2020-06-17\",\"2020-06-18\",\"2020-06-19\",\"2020-06-29\",\"2020-07-01\",\"2020-07-02\",\"2020-07-03\",\"2020-09-09\",\"2020-09-10\",\"2020-09-11\",\"2020-09-16\",\"2020-09-17\",\"2020-09-18\",\"2020-09-29\",\"2020-09-30\",\"2020-10-01\",\"2020-10-02\",\"2020-10-07\",\"2020-10-08\",\"2020-10-09\",\"2020-10-28\",\"2020-10-29\",\"2020-10-30\",\"2020-11-04\",\"2020-11-05\",\"2020-11-06\",\"2020-11-18\",\"2020-11-19\",\"2020-11-20\",\"2020-11-25\",\"2020-11-26\",\"2020-11-27\",\"2020-12-08\",\"2020-12-09\",\"2020-12-10\",\"2020-12-11\",\"2020-12-16\",\"2020-12-17\",\"2021-01-13\",\"2021-01-14\",\"2021-01-27\",\"2021-01-28\",\"2021-01-29\",\"2021-02-10\",\"2021-02-11\",\"2021-02-12\",\"2021-02-24\",\"2021-02-25\",\"2021-02-26\",\"2021-03-03\",\"2021-03-04\",\"2021-03-05\",\"2021-03-24\",\"2021-03-25\",\"2021-03-26\",\"2021-04-13\",\"2021-04-15\",\"2021-04-16\",\"2021-04-21\",\"2021-04-22\",\"2021-04-23\",\"2021-05-05\",\"2021-05-06\",\"2021-05-07\",\"2021-05-19\",\"2021-05-20\",\"2021-05-21\",\"2021-06-09\",\"2021-06-10\",\"2021-06-11\",\"2021-06-23\",\"2021-06-24\",\"2021-06-25\",\"2021-08-25\",\"2021-09-07\"],\"xaxis\":\"x\",\"y\":[0.024508071378733905,0.025724616390899357,0.024820112506263023,0.02517853544533112,0.026802016791422942,0.026802016791422942,0.02726411879198648,0.029725067804659628,0.030826996179315277,0.03245869781101691,0.03265477624238946,0.03415290358321343,0.03385411740207431,0.03616609789085037,0.03575999002860216,0.03743426704534493,0.045370774981852866,0.046489343214515054,0.047551513048891755,0.048170825485696615,0.04858749215236328,0.049882919034644625,0.04944510808937099,0.05350005871966409,0.05350005871966409,0.053086835579168226,0.05872786122019387,0.054988884147883464,0.05511620869699101,0.05592921682707232,0.05088178900736728,0.0503694693473145,0.05145172042956558,0.052984550445580224,0.05227620681655461,0.0544267444509632,0.053493572301910174,0.050667207706430135,0.051143188601991435,0.052328388378740515,0.05131775526977554,0.050528847787107596,0.04987525301586577,0.04739772236153953,0.04875783954086575,0.053863223541072126,0.04718457723978432,0.04630241562650748,0.04996013374731285,0.04989797198045603,0.04980181813430219,0.048285063284214,0.04762526946978101,0.044393008426222444,0.044393008426222444,0.04533009008619568,0.04147877361742954,0.04326805147976676,0.043855417868452116,0.04304240973837081,0.04280930950527058,0.04363569639805586,0.04329411090022037,0.04208313005398115,0.04175589801479776,0.04162556240059118,0.04177917223162036,0.0429009174386814,0.04238967483513111,0.041239440093347075,0.04164584867988505,0.04134815145547388,0.04684265694997937,0.04820541192490165,0.04622801079495815,0.040980916827817425,0.04034033914321458,0.042860824754405676,0.04312398264914252,0.04862996032493152,0.0520131512081224,0.05344172263669383,0.05650933085894123,0.05426213984770527,0.05706797598687475,0.05664371483972203,0.05485400566746253,0.05490553099482602,0.05488049522944691,0.05644299522944691,0.05656973794174095,0.05757077126646325,0.05574785459979658,0.05574098316435372,0.05700832920161247,0.05698242917571245,0.05662969548964543,0.05578160350369026,0.06165938128146804,0.062059898077333676,0.06148765201152538,0.06599416216466576,0.06049965667016028,0.059433396759174924,0.06184885569637299,0.060670898575642576,0.06252275042749442,0.06031230628434968,0.055049148389612834,0.04863634023261863,0.0481289835608784,0.047414697846592684,0.04480764972230319,0.04698833508055864,0.04457009584061397,0.04491197618249431,0.04663611411352879,0.04430148376333424,0.04381179304168476,0.044184776912652504,0.044058034200358455,0.0415263886307382,0.04219305529740487,0.0415196546240042,0.041735531378002816,0.03995767960015104,0.04110406407986886,0.04020286515449093,0.03354577703188557,0.032713161470587844,0.033166676209816864,0.02926905158619692,0.02982771080407402,0.03214486617987449,0.02972940724267642,0.030889948828749923,0.029849384454852215,0.029302936367420523,0.031057322332332805,0.032637921854837,0.030483241489540198,0.031519277525576234,0.031159655356462774,0.03008272275758922,0.03333148949472805,0.037976788640027195,0.036811309926869804,0.04328380183625492,0.04571793700234885,0.04503022496738824,0.046717988680468406,0.04798782995030968,0.0487634709759507,0.04901038455619762,0.048134078523167624,0.047917628306717405,0.04641967813327054,0.049223255704649964,0.05010038264336402,0.04967882287221075,0.04955534113628206,0.04966761905715914,0.04939881491174582,0.0471603301937088,0.047752046170040155,0.046236894654888644,0.05133006235675199,0.053763152381082896,0.053142553264243185,0.052021750063368406,0.05182396525324182,0.04994634505878994,0.05176684968989822,0.05154028991297246,0.04990392627660882,0.044702879938791185,0.04414422072091409,0.03842079248194096,0.03636373542488391,0.03537843078047783,0.034166857543588135,0.034195717572448166,0.032753409880140465,0.03337606151728486,0.0336811721198783,0.03553302397173015,0.03465002176422463,0.030702653343172,0.02953817008261887,0.02872516195253757,0.028907949462057755,0.02807556367821566,0.02778570860575189,0.028653420376929008,0.0289812446304827,0.03164791129714937,0.026052098092640516,0.026183110632412177,0.026169771963611324,0.026701947943357635,0.029013884627251477,0.029338227406356974,0.02907772413620954,0.029625032578254825,0.028801503166490116,0.030981888347282962,0.03179489647736426,0.03368609683335492,0.0392616724089305],\"yaxis\":\"y\",\"type\":\"scattergl\"},{\"hovertemplate\":\"party=SPD\\u003cbr\\u003edate=%{x}\\u003cbr\\u003esaliency=%{y}\\u003cextra\\u003e\\u003c\\u002fextra\\u003e\",\"legendgroup\":\"SPD\",\"line\":{\"color\":\"#e03427\",\"dash\":\"solid\"},\"marker\":{\"symbol\":\"circle\"},\"mode\":\"lines\",\"name\":\"SPD\",\"showlegend\":true,\"x\":[\"2018-05-15\",\"2018-05-16\",\"2018-05-17\",\"2018-05-18\",\"2018-06-06\",\"2018-06-07\",\"2018-06-08\",\"2018-06-13\",\"2018-06-14\",\"2018-06-15\",\"2018-06-27\",\"2018-06-28\",\"2018-06-29\",\"2018-07-03\",\"2018-07-04\",\"2018-07-05\",\"2018-09-11\",\"2018-09-12\",\"2018-09-13\",\"2018-09-14\",\"2018-09-26\",\"2018-09-27\",\"2018-09-28\",\"2018-10-10\",\"2018-10-11\",\"2018-10-12\",\"2018-10-17\",\"2018-10-18\",\"2018-10-19\",\"2018-11-07\",\"2018-11-08\",\"2018-11-09\",\"2018-11-20\",\"2018-11-21\",\"2018-11-22\",\"2018-11-23\",\"2018-11-28\",\"2018-11-29\",\"2018-11-30\",\"2018-12-12\",\"2018-12-13\",\"2018-12-14\",\"2019-01-16\",\"2019-01-17\",\"2019-01-18\",\"2019-01-30\",\"2019-01-31\",\"2019-02-01\",\"2019-02-13\",\"2019-02-14\",\"2019-02-15\",\"2019-02-20\",\"2019-02-21\",\"2019-02-22\",\"2019-03-13\",\"2019-03-14\",\"2019-03-15\",\"2019-03-20\",\"2019-03-21\",\"2019-03-22\",\"2019-04-03\",\"2019-04-04\",\"2019-04-05\",\"2019-04-10\",\"2019-04-11\",\"2019-04-12\",\"2019-05-08\",\"2019-05-09\",\"2019-05-10\",\"2019-05-15\",\"2019-05-16\",\"2019-05-17\",\"2019-06-05\",\"2019-06-06\",\"2019-06-07\",\"2019-06-26\",\"2019-06-27\",\"2019-06-28\",\"2019-07-24\",\"2019-09-10\",\"2019-09-11\",\"2019-09-12\",\"2019-09-13\",\"2019-09-25\",\"2019-09-26\",\"2019-09-27\",\"2019-10-16\",\"2019-10-17\",\"2019-10-18\",\"2019-10-23\",\"2019-10-24\",\"2019-10-25\",\"2019-11-06\",\"2019-11-07\",\"2019-11-08\",\"2019-11-13\",\"2019-11-14\",\"2019-11-15\",\"2019-11-26\",\"2019-11-27\",\"2019-11-28\",\"2019-11-29\",\"2019-12-11\",\"2019-12-12\",\"2019-12-13\",\"2019-12-18\",\"2019-12-19\",\"2019-12-20\",\"2020-01-15\",\"2020-01-16\",\"2020-01-17\",\"2020-01-29\",\"2020-01-30\",\"2020-01-31\",\"2020-02-12\",\"2020-02-13\",\"2020-02-14\",\"2020-03-04\",\"2020-03-05\",\"2020-03-06\",\"2020-03-11\",\"2020-03-12\",\"2020-03-13\",\"2020-03-25\",\"2020-04-22\",\"2020-04-23\",\"2020-05-06\",\"2020-05-07\",\"2020-05-13\",\"2020-05-14\",\"2020-05-15\",\"2020-05-27\",\"2020-05-28\",\"2020-05-29\",\"2020-06-17\",\"2020-06-18\",\"2020-06-19\",\"2020-06-29\",\"2020-07-01\",\"2020-07-02\",\"2020-07-03\",\"2020-09-09\",\"2020-09-10\",\"2020-09-11\",\"2020-09-16\",\"2020-09-17\",\"2020-09-18\",\"2020-09-29\",\"2020-09-30\",\"2020-10-01\",\"2020-10-02\",\"2020-10-07\",\"2020-10-08\",\"2020-10-09\",\"2020-10-28\",\"2020-10-29\",\"2020-10-30\",\"2020-11-04\",\"2020-11-05\",\"2020-11-06\",\"2020-11-18\",\"2020-11-19\",\"2020-11-20\",\"2020-11-25\",\"2020-11-26\",\"2020-11-27\",\"2020-12-08\",\"2020-12-09\",\"2020-12-10\",\"2020-12-11\",\"2020-12-16\",\"2020-12-17\",\"2021-01-13\",\"2021-01-14\",\"2021-01-27\",\"2021-01-28\",\"2021-01-29\",\"2021-02-10\",\"2021-02-11\",\"2021-02-12\",\"2021-02-24\",\"2021-02-25\",\"2021-02-26\",\"2021-03-03\",\"2021-03-04\",\"2021-03-05\",\"2021-03-24\",\"2021-03-25\",\"2021-03-26\",\"2021-04-13\",\"2021-04-15\",\"2021-04-16\",\"2021-04-21\",\"2021-04-22\",\"2021-04-23\",\"2021-05-05\",\"2021-05-06\",\"2021-05-07\",\"2021-05-19\",\"2021-05-20\",\"2021-05-21\",\"2021-06-09\",\"2021-06-10\",\"2021-06-11\",\"2021-06-23\",\"2021-06-24\",\"2021-06-25\",\"2021-08-25\",\"2021-09-07\"],\"xaxis\":\"x\",\"y\":[0.01523784643395218,0.015371179767285515,0.01545651208927281,0.01545651208927281,0.016085442906882873,0.015891181156617553,0.018764744375008358,0.018852846220742025,0.018947543190438995,0.019685550570512796,0.019685550570512796,0.020499311277890526,0.020722375250954495,0.021844709706622285,0.02187988156913228,0.021909515357890156,0.024486004890901424,0.024729313893334517,0.025106672383900557,0.025106672383900557,0.025106672383900557,0.026499381777649607,0.026751370123188626,0.033688630869513986,0.033688630869513986,0.03339537573754917,0.03339537573754917,0.02486935884777523,0.024728115909922122,0.024728115909922122,0.02378565222382516,0.024768746322708736,0.0257803882335879,0.025780388233587897,0.02586067727413386,0.026783746082320165,0.024218824839238,0.02432014196183172,0.025276969702965453,0.024538962322891652,0.024538962322891652,0.023616976507288816,0.023162431052743362,0.022365829496098374,0.022909605002009434,0.022666295999576345,0.0212095308421034,0.02113288850633698,0.023679506623958072,0.024188968050450066,0.024188968050450066,0.022309640651834835,0.021733565260437966,0.014556105275164937,0.014556105275164937,0.015160334882415692,0.01654202745581811,0.01637239217167901,0.01672889841053819,0.01691104777301542,0.016419819702839983,0.01624501185631046,0.014722892465667072,0.014722892465667072,0.01435820318459976,0.014126918373875698,0.016157457685116765,0.017885823243269556,0.017518059216199533,0.018406948105088423,0.018613559675336355,0.01934455382738314,0.029114668769911874,0.029822527602155223,0.028799135789289727,0.029296648227100673,0.02843734051822901,0.029798451629340122,0.02802390030850931,0.030847772215350653,0.03228455382454606,0.033489373101654486,0.03369196576662745,0.03436857781521309,0.03619413562454372,0.03574863617602311,0.0343669436026207,0.03522827004534249,0.03559015461108102,0.03591305575365429,0.03591305575365429,0.03727028674267955,0.03652290258722365,0.03676213703698441,0.037299959401072155,0.03797041856401406,0.03599120847976817,0.0377585260365594,0.04011709339512677,0.040253845531878905,0.040169782981238814,0.041575540965944166,0.031805426023415434,0.030943655597991206,0.032281104157661986,0.03178359171985104,0.0326516472754066,0.03112386949762882,0.0299744442102725,0.026740022845287332,0.02705762720100421,0.02684487141595927,0.02744484737994222,0.027780570607437386,0.02675501279810676,0.026679201379011756,0.02803283928087301,0.027171512838151217,0.027258761509887857,0.028618512869639217,0.02890099874534543,0.02676554686344324,0.027140078698649237,0.02690084424888847,0.026018491307712,0.024970822371095974,0.026716114326686892,0.023673256718845397,0.021177376763949044,0.020541599286066303,0.02041905026645846,0.019201838359591383,0.01929680512122481,0.02021341918953255,0.01887597062986177,0.019906898464913315,0.01888700387569869,0.01888700387569869,0.01888700387569869,0.01923854235780097,0.017965504166655235,0.017620689865530257,0.016740601856729376,0.015583322194336908,0.01589443330544802,0.01856283731713561,0.017467597348090898,0.01968981957031312,0.019413280623079305,0.01833676704656573,0.01838761450419285,0.018224215811382394,0.018413291061522615,0.018547699663673152,0.01966814784294486,0.019467951286325638,0.01846918881999383,0.019769928896244113,0.019649738268317958,0.01958349931602893,0.01958349931602893,0.019245354434981085,0.019150387673347653,0.018061952299197995,0.018457600172590675,0.01742667233753913,0.019358911031062142,0.019358911031062142,0.01976051745676495,0.019754511450758943,0.01948413414112742,0.019244382912699094,0.02019676386508005,0.019964956491967816,0.021365260905970858,0.01909702994208772,0.018986780157419333,0.017152154834421913,0.016928864702874902,0.016140576414586615,0.016057869647669323,0.016296818273714722,0.015884040750962773,0.016549632148812235,0.015876011494116042,0.017012801138414455,0.01590630044685152,0.014013902332790937,0.014250994790366655,0.0139273701948974,0.014183780451307658,0.013734137408135795,0.014051597725596113,0.015394409731915228,0.01514432226609169,0.01514432226609169,0.013441915415026392,0.014607416580527556,0.014875826905243505,0.01609426983797215,0.017982064805935897,0.01757456684342571,0.017654177635110804,0.01801630630467582,0.01595840551879069,0.017353248003651546,0.01759880064290497,0.017211203743680167,0.01690539334612665],\"yaxis\":\"y\",\"type\":\"scattergl\"}],                        {\"template\":{\"data\":{\"histogram2dcontour\":[{\"type\":\"histogram2dcontour\",\"colorbar\":{\"outlinewidth\":0,\"ticks\":\"\"},\"colorscale\":[[0.0,\"#0d0887\"],[0.1111111111111111,\"#46039f\"],[0.2222222222222222,\"#7201a8\"],[0.3333333333333333,\"#9c179e\"],[0.4444444444444444,\"#bd3786\"],[0.5555555555555556,\"#d8576b\"],[0.6666666666666666,\"#ed7953\"],[0.7777777777777778,\"#fb9f3a\"],[0.8888888888888888,\"#fdca26\"],[1.0,\"#f0f921\"]]}],\"choropleth\":[{\"type\":\"choropleth\",\"colorbar\":{\"outlinewidth\":0,\"ticks\":\"\"}}],\"histogram2d\":[{\"type\":\"histogram2d\",\"colorbar\":{\"outlinewidth\":0,\"ticks\":\"\"},\"colorscale\":[[0.0,\"#0d0887\"],[0.1111111111111111,\"#46039f\"],[0.2222222222222222,\"#7201a8\"],[0.3333333333333333,\"#9c179e\"],[0.4444444444444444,\"#bd3786\"],[0.5555555555555556,\"#d8576b\"],[0.6666666666666666,\"#ed7953\"],[0.7777777777777778,\"#fb9f3a\"],[0.8888888888888888,\"#fdca26\"],[1.0,\"#f0f921\"]]}],\"heatmap\":[{\"type\":\"heatmap\",\"colorbar\":{\"outlinewidth\":0,\"ticks\":\"\"},\"colorscale\":[[0.0,\"#0d0887\"],[0.1111111111111111,\"#46039f\"],[0.2222222222222222,\"#7201a8\"],[0.3333333333333333,\"#9c179e\"],[0.4444444444444444,\"#bd3786\"],[0.5555555555555556,\"#d8576b\"],[0.6666666666666666,\"#ed7953\"],[0.7777777777777778,\"#fb9f3a\"],[0.8888888888888888,\"#fdca26\"],[1.0,\"#f0f921\"]]}],\"heatmapgl\":[{\"type\":\"heatmapgl\",\"colorbar\":{\"outlinewidth\":0,\"ticks\":\"\"},\"colorscale\":[[0.0,\"#0d0887\"],[0.1111111111111111,\"#46039f\"],[0.2222222222222222,\"#7201a8\"],[0.3333333333333333,\"#9c179e\"],[0.4444444444444444,\"#bd3786\"],[0.5555555555555556,\"#d8576b\"],[0.6666666666666666,\"#ed7953\"],[0.7777777777777778,\"#fb9f3a\"],[0.8888888888888888,\"#fdca26\"],[1.0,\"#f0f921\"]]}],\"contourcarpet\":[{\"type\":\"contourcarpet\",\"colorbar\":{\"outlinewidth\":0,\"ticks\":\"\"}}],\"contour\":[{\"type\":\"contour\",\"colorbar\":{\"outlinewidth\":0,\"ticks\":\"\"},\"colorscale\":[[0.0,\"#0d0887\"],[0.1111111111111111,\"#46039f\"],[0.2222222222222222,\"#7201a8\"],[0.3333333333333333,\"#9c179e\"],[0.4444444444444444,\"#bd3786\"],[0.5555555555555556,\"#d8576b\"],[0.6666666666666666,\"#ed7953\"],[0.7777777777777778,\"#fb9f3a\"],[0.8888888888888888,\"#fdca26\"],[1.0,\"#f0f921\"]]}],\"surface\":[{\"type\":\"surface\",\"colorbar\":{\"outlinewidth\":0,\"ticks\":\"\"},\"colorscale\":[[0.0,\"#0d0887\"],[0.1111111111111111,\"#46039f\"],[0.2222222222222222,\"#7201a8\"],[0.3333333333333333,\"#9c179e\"],[0.4444444444444444,\"#bd3786\"],[0.5555555555555556,\"#d8576b\"],[0.6666666666666666,\"#ed7953\"],[0.7777777777777778,\"#fb9f3a\"],[0.8888888888888888,\"#fdca26\"],[1.0,\"#f0f921\"]]}],\"mesh3d\":[{\"type\":\"mesh3d\",\"colorbar\":{\"outlinewidth\":0,\"ticks\":\"\"}}],\"scatter\":[{\"fillpattern\":{\"fillmode\":\"overlay\",\"size\":10,\"solidity\":0.2},\"type\":\"scatter\"}],\"parcoords\":[{\"type\":\"parcoords\",\"line\":{\"colorbar\":{\"outlinewidth\":0,\"ticks\":\"\"}}}],\"scatterpolargl\":[{\"type\":\"scatterpolargl\",\"marker\":{\"colorbar\":{\"outlinewidth\":0,\"ticks\":\"\"}}}],\"bar\":[{\"error_x\":{\"color\":\"#2a3f5f\"},\"error_y\":{\"color\":\"#2a3f5f\"},\"marker\":{\"line\":{\"color\":\"#E5ECF6\",\"width\":0.5},\"pattern\":{\"fillmode\":\"overlay\",\"size\":10,\"solidity\":0.2}},\"type\":\"bar\"}],\"scattergeo\":[{\"type\":\"scattergeo\",\"marker\":{\"colorbar\":{\"outlinewidth\":0,\"ticks\":\"\"}}}],\"scatterpolar\":[{\"type\":\"scatterpolar\",\"marker\":{\"colorbar\":{\"outlinewidth\":0,\"ticks\":\"\"}}}],\"histogram\":[{\"marker\":{\"pattern\":{\"fillmode\":\"overlay\",\"size\":10,\"solidity\":0.2}},\"type\":\"histogram\"}],\"scattergl\":[{\"type\":\"scattergl\",\"marker\":{\"colorbar\":{\"outlinewidth\":0,\"ticks\":\"\"}}}],\"scatter3d\":[{\"type\":\"scatter3d\",\"line\":{\"colorbar\":{\"outlinewidth\":0,\"ticks\":\"\"}},\"marker\":{\"colorbar\":{\"outlinewidth\":0,\"ticks\":\"\"}}}],\"scattermapbox\":[{\"type\":\"scattermapbox\",\"marker\":{\"colorbar\":{\"outlinewidth\":0,\"ticks\":\"\"}}}],\"scatterternary\":[{\"type\":\"scatterternary\",\"marker\":{\"colorbar\":{\"outlinewidth\":0,\"ticks\":\"\"}}}],\"scattercarpet\":[{\"type\":\"scattercarpet\",\"marker\":{\"colorbar\":{\"outlinewidth\":0,\"ticks\":\"\"}}}],\"carpet\":[{\"aaxis\":{\"endlinecolor\":\"#2a3f5f\",\"gridcolor\":\"white\",\"linecolor\":\"white\",\"minorgridcolor\":\"white\",\"startlinecolor\":\"#2a3f5f\"},\"baxis\":{\"endlinecolor\":\"#2a3f5f\",\"gridcolor\":\"white\",\"linecolor\":\"white\",\"minorgridcolor\":\"white\",\"startlinecolor\":\"#2a3f5f\"},\"type\":\"carpet\"}],\"table\":[{\"cells\":{\"fill\":{\"color\":\"#EBF0F8\"},\"line\":{\"color\":\"white\"}},\"header\":{\"fill\":{\"color\":\"#C8D4E3\"},\"line\":{\"color\":\"white\"}},\"type\":\"table\"}],\"barpolar\":[{\"marker\":{\"line\":{\"color\":\"#E5ECF6\",\"width\":0.5},\"pattern\":{\"fillmode\":\"overlay\",\"size\":10,\"solidity\":0.2}},\"type\":\"barpolar\"}],\"pie\":[{\"automargin\":true,\"type\":\"pie\"}]},\"layout\":{\"autotypenumbers\":\"strict\",\"colorway\":[\"#636efa\",\"#EF553B\",\"#00cc96\",\"#ab63fa\",\"#FFA15A\",\"#19d3f3\",\"#FF6692\",\"#B6E880\",\"#FF97FF\",\"#FECB52\"],\"font\":{\"color\":\"#2a3f5f\"},\"hovermode\":\"closest\",\"hoverlabel\":{\"align\":\"left\"},\"paper_bgcolor\":\"white\",\"plot_bgcolor\":\"#E5ECF6\",\"polar\":{\"bgcolor\":\"#E5ECF6\",\"angularaxis\":{\"gridcolor\":\"white\",\"linecolor\":\"white\",\"ticks\":\"\"},\"radialaxis\":{\"gridcolor\":\"white\",\"linecolor\":\"white\",\"ticks\":\"\"}},\"ternary\":{\"bgcolor\":\"#E5ECF6\",\"aaxis\":{\"gridcolor\":\"white\",\"linecolor\":\"white\",\"ticks\":\"\"},\"baxis\":{\"gridcolor\":\"white\",\"linecolor\":\"white\",\"ticks\":\"\"},\"caxis\":{\"gridcolor\":\"white\",\"linecolor\":\"white\",\"ticks\":\"\"}},\"coloraxis\":{\"colorbar\":{\"outlinewidth\":0,\"ticks\":\"\"}},\"colorscale\":{\"sequential\":[[0.0,\"#0d0887\"],[0.1111111111111111,\"#46039f\"],[0.2222222222222222,\"#7201a8\"],[0.3333333333333333,\"#9c179e\"],[0.4444444444444444,\"#bd3786\"],[0.5555555555555556,\"#d8576b\"],[0.6666666666666666,\"#ed7953\"],[0.7777777777777778,\"#fb9f3a\"],[0.8888888888888888,\"#fdca26\"],[1.0,\"#f0f921\"]],\"sequentialminus\":[[0.0,\"#0d0887\"],[0.1111111111111111,\"#46039f\"],[0.2222222222222222,\"#7201a8\"],[0.3333333333333333,\"#9c179e\"],[0.4444444444444444,\"#bd3786\"],[0.5555555555555556,\"#d8576b\"],[0.6666666666666666,\"#ed7953\"],[0.7777777777777778,\"#fb9f3a\"],[0.8888888888888888,\"#fdca26\"],[1.0,\"#f0f921\"]],\"diverging\":[[0,\"#8e0152\"],[0.1,\"#c51b7d\"],[0.2,\"#de77ae\"],[0.3,\"#f1b6da\"],[0.4,\"#fde0ef\"],[0.5,\"#f7f7f7\"],[0.6,\"#e6f5d0\"],[0.7,\"#b8e186\"],[0.8,\"#7fbc41\"],[0.9,\"#4d9221\"],[1,\"#276419\"]]},\"xaxis\":{\"gridcolor\":\"white\",\"linecolor\":\"white\",\"ticks\":\"\",\"title\":{\"standoff\":15},\"zerolinecolor\":\"white\",\"automargin\":true,\"zerolinewidth\":2},\"yaxis\":{\"gridcolor\":\"white\",\"linecolor\":\"white\",\"ticks\":\"\",\"title\":{\"standoff\":15},\"zerolinecolor\":\"white\",\"automargin\":true,\"zerolinewidth\":2},\"scene\":{\"xaxis\":{\"backgroundcolor\":\"#E5ECF6\",\"gridcolor\":\"white\",\"linecolor\":\"white\",\"showbackground\":true,\"ticks\":\"\",\"zerolinecolor\":\"white\",\"gridwidth\":2},\"yaxis\":{\"backgroundcolor\":\"#E5ECF6\",\"gridcolor\":\"white\",\"linecolor\":\"white\",\"showbackground\":true,\"ticks\":\"\",\"zerolinecolor\":\"white\",\"gridwidth\":2},\"zaxis\":{\"backgroundcolor\":\"#E5ECF6\",\"gridcolor\":\"white\",\"linecolor\":\"white\",\"showbackground\":true,\"ticks\":\"\",\"zerolinecolor\":\"white\",\"gridwidth\":2}},\"shapedefaults\":{\"line\":{\"color\":\"#2a3f5f\"}},\"annotationdefaults\":{\"arrowcolor\":\"#2a3f5f\",\"arrowhead\":0,\"arrowwidth\":1},\"geo\":{\"bgcolor\":\"white\",\"landcolor\":\"#E5ECF6\",\"subunitcolor\":\"white\",\"showland\":true,\"showlakes\":true,\"lakecolor\":\"white\"},\"title\":{\"x\":0.05},\"mapbox\":{\"style\":\"light\"}}},\"xaxis\":{\"anchor\":\"y\",\"domain\":[0.0,1.0],\"title\":{\"text\":\"date\"}},\"yaxis\":{\"anchor\":\"x\",\"domain\":[0.0,1.0],\"title\":{\"text\":\"saliency\"},\"range\":[0,0.1]},\"legend\":{\"title\":{\"text\":\"party\"},\"tracegroupgap\":0},\"title\":{\"text\":\"Saliency of climate politics by party over time\"}},                        {\"responsive\": true}                    ).then(function(){\n",
       "                            \n",
       "var gd = document.getElementById('acfb02fd-9359-440a-83cd-bc39b1c43ad7');\n",
       "var x = new MutationObserver(function (mutations, observer) {{\n",
       "        var display = window.getComputedStyle(gd).display;\n",
       "        if (!display || display === 'none') {{\n",
       "            console.log([gd, 'removed!']);\n",
       "            Plotly.purge(gd);\n",
       "            observer.disconnect();\n",
       "        }}\n",
       "}});\n",
       "\n",
       "// Listen for the removal of the full notebook cells\n",
       "var notebookContainer = gd.closest('#notebook-container');\n",
       "if (notebookContainer) {{\n",
       "    x.observe(notebookContainer, {childList: true});\n",
       "}}\n",
       "\n",
       "// Listen for the clearing of the current output cell\n",
       "var outputEl = gd.closest('.output');\n",
       "if (outputEl) {{\n",
       "    x.observe(outputEl, {childList: true});\n",
       "}}\n",
       "\n",
       "                        })                };                });            </script>        </div>"
      ]
     },
     "metadata": {},
     "output_type": "display_data"
    }
   ],
   "source": [
    "import plotly.express as px\n",
    "\n",
    "fig = px.line(rollingdf, x=\"date\", y=\"saliency\", color='party', title=\"Saliency of climate politics by party over time\", range_y=[0,0.1], color_discrete_map=PARTYCOLORS)\n",
    "fig.show()"
   ]
  },
  {
   "cell_type": "code",
   "execution_count": 364,
   "id": "fea54541-c94f-4533-80e3-8bc0a037d02a",
   "metadata": {},
   "outputs": [
    {
     "data": {
      "application/vnd.plotly.v1+json": {
       "config": {
        "plotlyServerURL": "https://plot.ly"
       },
       "data": [
        {
         "fillpattern": {
          "shape": ""
         },
         "hovertemplate": "party=AfD<br>date=%{x}<br>relative_saliency=%{y}<extra></extra>",
         "legendgroup": "AfD",
         "line": {
          "color": "#59dcff"
         },
         "marker": {
          "symbol": "circle"
         },
         "mode": "lines",
         "name": "AfD",
         "orientation": "v",
         "showlegend": true,
         "stackgroup": "1",
         "type": "scatter",
         "x": [
          "2018-05-15",
          "2018-05-16",
          "2018-05-17",
          "2018-05-18",
          "2018-06-06",
          "2018-06-07",
          "2018-06-08",
          "2018-06-13",
          "2018-06-14",
          "2018-06-15",
          "2018-06-27",
          "2018-06-28",
          "2018-06-29",
          "2018-07-03",
          "2018-07-04",
          "2018-07-05",
          "2018-09-11",
          "2018-09-12",
          "2018-09-13",
          "2018-09-14",
          "2018-09-26",
          "2018-09-27",
          "2018-09-28",
          "2018-10-10",
          "2018-10-11",
          "2018-10-12",
          "2018-10-17",
          "2018-10-18",
          "2018-10-19",
          "2018-11-07",
          "2018-11-08",
          "2018-11-09",
          "2018-11-20",
          "2018-11-21",
          "2018-11-22",
          "2018-11-23",
          "2018-11-28",
          "2018-11-29",
          "2018-11-30",
          "2018-12-12",
          "2018-12-13",
          "2018-12-14",
          "2019-01-16",
          "2019-01-17",
          "2019-01-18",
          "2019-01-30",
          "2019-01-31",
          "2019-02-01",
          "2019-02-13",
          "2019-02-14",
          "2019-02-15",
          "2019-02-20",
          "2019-02-21",
          "2019-02-22",
          "2019-03-13",
          "2019-03-14",
          "2019-03-15",
          "2019-03-20",
          "2019-03-21",
          "2019-03-22",
          "2019-04-03",
          "2019-04-04",
          "2019-04-05",
          "2019-04-10",
          "2019-04-11",
          "2019-04-12",
          "2019-05-08",
          "2019-05-09",
          "2019-05-10",
          "2019-05-15",
          "2019-05-16",
          "2019-05-17",
          "2019-06-05",
          "2019-06-06",
          "2019-06-07",
          "2019-06-26",
          "2019-06-27",
          "2019-06-28",
          "2019-07-24",
          "2019-09-10",
          "2019-09-11",
          "2019-09-12",
          "2019-09-13",
          "2019-09-25",
          "2019-09-26",
          "2019-09-27",
          "2019-10-16",
          "2019-10-17",
          "2019-10-18",
          "2019-10-23",
          "2019-10-24",
          "2019-10-25",
          "2019-11-06",
          "2019-11-07",
          "2019-11-08",
          "2019-11-13",
          "2019-11-14",
          "2019-11-15",
          "2019-11-26",
          "2019-11-27",
          "2019-11-28",
          "2019-11-29",
          "2019-12-11",
          "2019-12-12",
          "2019-12-13",
          "2019-12-18",
          "2019-12-19",
          "2019-12-20",
          "2020-01-15",
          "2020-01-16",
          "2020-01-17",
          "2020-01-29",
          "2020-01-30",
          "2020-01-31",
          "2020-02-12",
          "2020-02-13",
          "2020-02-14",
          "2020-03-04",
          "2020-03-05",
          "2020-03-06",
          "2020-03-11",
          "2020-03-12",
          "2020-03-13",
          "2020-03-25",
          "2020-04-22",
          "2020-04-23",
          "2020-05-06",
          "2020-05-07",
          "2020-05-13",
          "2020-05-14",
          "2020-05-15",
          "2020-05-27",
          "2020-05-28",
          "2020-05-29",
          "2020-06-17",
          "2020-06-18",
          "2020-06-19",
          "2020-06-29",
          "2020-07-01",
          "2020-07-02",
          "2020-07-03",
          "2020-09-09",
          "2020-09-10",
          "2020-09-11",
          "2020-09-16",
          "2020-09-17",
          "2020-09-18",
          "2020-09-29",
          "2020-09-30",
          "2020-10-01",
          "2020-10-02",
          "2020-10-07",
          "2020-10-08",
          "2020-10-09",
          "2020-10-28",
          "2020-10-29",
          "2020-10-30",
          "2020-11-04",
          "2020-11-05",
          "2020-11-06",
          "2020-11-18",
          "2020-11-19",
          "2020-11-20",
          "2020-11-25",
          "2020-11-26",
          "2020-11-27",
          "2020-12-08",
          "2020-12-09",
          "2020-12-10",
          "2020-12-11",
          "2020-12-16",
          "2020-12-17",
          "2021-01-13",
          "2021-01-14",
          "2021-01-27",
          "2021-01-28",
          "2021-01-29",
          "2021-02-10",
          "2021-02-11",
          "2021-02-12",
          "2021-02-24",
          "2021-02-25",
          "2021-02-26",
          "2021-03-03",
          "2021-03-04",
          "2021-03-05",
          "2021-03-24",
          "2021-03-25",
          "2021-03-26",
          "2021-04-13",
          "2021-04-15",
          "2021-04-16",
          "2021-04-21",
          "2021-04-22",
          "2021-04-23",
          "2021-05-05",
          "2021-05-06",
          "2021-05-07",
          "2021-05-19",
          "2021-05-20",
          "2021-05-21",
          "2021-06-09",
          "2021-06-10",
          "2021-06-11",
          "2021-06-23",
          "2021-06-24",
          "2021-06-25",
          "2021-08-25",
          "2021-09-07"
         ],
         "xaxis": "x",
         "y": [
          0.11528799462155867,
          0.09253514879168874,
          0.08589634090770977,
          0.08652058977538934,
          0.08033098340041557,
          0.0802668767108029,
          0.08396378314358753,
          0.09304465107909891,
          0.09209317233426484,
          0.09155472296142947,
          0.09142866259547296,
          0.0928602998716202,
          0.09646232827223909,
          0.1026145377302282,
          0.10519918748620076,
          0.10256424642290565,
          0.0990461113925371,
          0.09826472993453263,
          0.09922296015366065,
          0.09889164774238995,
          0.1067100844486754,
          0.1069873815867478,
          0.10886992823528602,
          0.09504383153057633,
          0.095715258660615,
          0.09623085729665007,
          0.09346722195696605,
          0.09329280018529824,
          0.09394566261670688,
          0.09783768026097522,
          0.10145286259904847,
          0.10376452666452367,
          0.10319794772500505,
          0.10283531743964479,
          0.10753789576589591,
          0.11088208253597003,
          0.11116244704235845,
          0.10295102049755699,
          0.10794156536424085,
          0.1258596939531724,
          0.10877143186493787,
          0.10572578670885044,
          0.12063938831214088,
          0.0990934570770797,
          0.10595286171987914,
          0.1031706810415156,
          0.1010363898599012,
          0.10193520466717967,
          0.10063590157666331,
          0.1033323324899626,
          0.09658126326564563,
          0.09454642125630192,
          0.09271018207434391,
          0.10191193327875628,
          0.10612339023275319,
          0.11019188691089578,
          0.11610174923667992,
          0.11163420405218988,
          0.11071423122061687,
          0.10516580557633153,
          0.12124033794822538,
          0.10372365465407427,
          0.0986971849280741,
          0.09881216551420698,
          0.09752413162187573,
          0.0950222910775971,
          0.11197748627955449,
          0.09828609292867173,
          0.09247016125435702,
          0.08989862682059674,
          0.08927364678795553,
          0.09040266971768905,
          0.081690431159488,
          0.08179769952734034,
          0.07191399983157425,
          0.07556385629044082,
          0.07799555013267963,
          0.07691010016755775,
          0.07620805730121559,
          0.07986644768758698,
          0.07669862415391074,
          0.07711240473347193,
          0.07887339059530099,
          0.07964190431801095,
          0.0750466953540031,
          0.0755544893894499,
          0.07537126935820691,
          0.07155411093859863,
          0.07310307164479603,
          0.07264305680265351,
          0.07233464992318621,
          0.07425307285936464,
          0.09008813488961469,
          0.07966474876711514,
          0.0786892284641744,
          0.07585859410223916,
          0.0735092870790687,
          0.07532973892715465,
          0.0785219828344132,
          0.08442469451444937,
          0.08513541173634481,
          0.08620409011795746,
          0.09082275330422977,
          0.09323210134251346,
          0.0927655989426743,
          0.09252053241509389,
          0.09269067566742883,
          0.0931802244440488,
          0.09570830282438561,
          0.09344576693129102,
          0.09157786209542092,
          0.09060329292015293,
          0.08932957560280007,
          0.09264890296424594,
          0.09252966692011153,
          0.09423700868126922,
          0.09294721743443966,
          0.09939329145850394,
          0.10028878028653773,
          0.10238361855562983,
          0.102571634038454,
          0.10006041211542811,
          0.09463555723642637,
          0.094762764408979,
          0.09492761036040699,
          0.10042625653595072,
          0.10149806491915321,
          0.09740205190846987,
          0.09530434783697042,
          0.08717157700117696,
          0.08586772148986352,
          0.08506458590165729,
          0.08481115485919026,
          0.08507502681632317,
          0.08584187250259713,
          0.087743821865353,
          0.08635060100562383,
          0.08686782258748817,
          0.08473933061496702,
          0.080817791726465,
          0.08168578644139729,
          0.08832571361954468,
          0.0878154231718714,
          0.0849571868989822,
          0.0809065210606987,
          0.08256930061507381,
          0.08155025093676867,
          0.07384591344325943,
          0.07251571780632347,
          0.07001150865890261,
          0.0687875450843716,
          0.06863127627800396,
          0.06944539183713361,
          0.06873267918955434,
          0.07342199612094763,
          0.07075209058977096,
          0.06998993673913757,
          0.06967737172875096,
          0.06792456856909689,
          0.06891104590271105,
          0.06903156919116896,
          0.06880726742766817,
          0.06871129132079026,
          0.06769785248809893,
          0.06824161583008098,
          0.06546834948729298,
          0.07319068348257614,
          0.07379395159221855,
          0.0745210521468351,
          0.07401601630951778,
          0.07475440932975799,
          0.0730330193399021,
          0.0733441167305375,
          0.07168985707471624,
          0.07824114170749642,
          0.07956141057995744,
          0.07882951166207902,
          0.08337963496251205,
          0.08398527897820561,
          0.08667866122966104,
          0.08901326132762373,
          0.08732393592551274,
          0.08772395020293183,
          0.08841848215775389,
          0.08376229272726504,
          0.080311808204534,
          0.07892950577490628,
          0.08125682676177191,
          0.08084486603913671,
          0.08188715493255566,
          0.08332418775582082,
          0.08450306071128466,
          0.0863797266393382,
          0.08048562926876546,
          0.0799702957431983,
          0.0790807151618343,
          0.0684006690310819,
          0.0690985869777534,
          0.07946481162405679,
          0.08680086965295514,
          0.08338812704035645,
          0.08331645254122035,
          0.08103334011579591,
          0.08008966155740907,
          0.07572426832322544,
          0.07172064995226428,
          0.07127544579966998,
          0.07422339677720627,
          0.07773713005655675
         ],
         "yaxis": "y"
        },
        {
         "fillpattern": {
          "shape": ""
         },
         "hovertemplate": "party=CDU<br>date=%{x}<br>relative_saliency=%{y}<extra></extra>",
         "legendgroup": "CDU",
         "line": {
          "color": "black"
         },
         "marker": {
          "symbol": "circle"
         },
         "mode": "lines",
         "name": "CDU",
         "orientation": "v",
         "showlegend": true,
         "stackgroup": "1",
         "type": "scatter",
         "x": [
          "2018-05-15",
          "2018-05-16",
          "2018-05-17",
          "2018-05-18",
          "2018-06-06",
          "2018-06-07",
          "2018-06-08",
          "2018-06-13",
          "2018-06-14",
          "2018-06-15",
          "2018-06-27",
          "2018-06-28",
          "2018-06-29",
          "2018-07-03",
          "2018-07-04",
          "2018-07-05",
          "2018-09-11",
          "2018-09-12",
          "2018-09-13",
          "2018-09-14",
          "2018-09-26",
          "2018-09-27",
          "2018-09-28",
          "2018-10-10",
          "2018-10-11",
          "2018-10-12",
          "2018-10-17",
          "2018-10-18",
          "2018-10-19",
          "2018-11-07",
          "2018-11-08",
          "2018-11-09",
          "2018-11-20",
          "2018-11-21",
          "2018-11-22",
          "2018-11-23",
          "2018-11-28",
          "2018-11-29",
          "2018-11-30",
          "2018-12-12",
          "2018-12-13",
          "2018-12-14",
          "2019-01-16",
          "2019-01-17",
          "2019-01-18",
          "2019-01-30",
          "2019-01-31",
          "2019-02-01",
          "2019-02-13",
          "2019-02-14",
          "2019-02-15",
          "2019-02-20",
          "2019-02-21",
          "2019-02-22",
          "2019-03-13",
          "2019-03-14",
          "2019-03-15",
          "2019-03-20",
          "2019-03-21",
          "2019-03-22",
          "2019-04-03",
          "2019-04-04",
          "2019-04-05",
          "2019-04-10",
          "2019-04-11",
          "2019-04-12",
          "2019-05-08",
          "2019-05-09",
          "2019-05-10",
          "2019-05-15",
          "2019-05-16",
          "2019-05-17",
          "2019-06-05",
          "2019-06-06",
          "2019-06-07",
          "2019-06-26",
          "2019-06-27",
          "2019-06-28",
          "2019-07-24",
          "2019-09-10",
          "2019-09-11",
          "2019-09-12",
          "2019-09-13",
          "2019-09-25",
          "2019-09-26",
          "2019-09-27",
          "2019-10-16",
          "2019-10-17",
          "2019-10-18",
          "2019-10-23",
          "2019-10-24",
          "2019-10-25",
          "2019-11-06",
          "2019-11-07",
          "2019-11-08",
          "2019-11-13",
          "2019-11-14",
          "2019-11-15",
          "2019-11-26",
          "2019-11-27",
          "2019-11-28",
          "2019-11-29",
          "2019-12-11",
          "2019-12-12",
          "2019-12-13",
          "2019-12-18",
          "2019-12-19",
          "2019-12-20",
          "2020-01-15",
          "2020-01-16",
          "2020-01-17",
          "2020-01-29",
          "2020-01-30",
          "2020-01-31",
          "2020-02-12",
          "2020-02-13",
          "2020-02-14",
          "2020-03-04",
          "2020-03-05",
          "2020-03-06",
          "2020-03-11",
          "2020-03-12",
          "2020-03-13",
          "2020-03-25",
          "2020-04-22",
          "2020-04-23",
          "2020-05-06",
          "2020-05-07",
          "2020-05-13",
          "2020-05-14",
          "2020-05-15",
          "2020-05-27",
          "2020-05-28",
          "2020-05-29",
          "2020-06-17",
          "2020-06-18",
          "2020-06-19",
          "2020-06-29",
          "2020-07-01",
          "2020-07-02",
          "2020-07-03",
          "2020-09-09",
          "2020-09-10",
          "2020-09-11",
          "2020-09-16",
          "2020-09-17",
          "2020-09-18",
          "2020-09-29",
          "2020-09-30",
          "2020-10-01",
          "2020-10-02",
          "2020-10-07",
          "2020-10-08",
          "2020-10-09",
          "2020-10-28",
          "2020-10-29",
          "2020-10-30",
          "2020-11-04",
          "2020-11-05",
          "2020-11-06",
          "2020-11-18",
          "2020-11-19",
          "2020-11-20",
          "2020-11-25",
          "2020-11-26",
          "2020-11-27",
          "2020-12-08",
          "2020-12-09",
          "2020-12-10",
          "2020-12-11",
          "2020-12-16",
          "2020-12-17",
          "2021-01-13",
          "2021-01-14",
          "2021-01-27",
          "2021-01-28",
          "2021-01-29",
          "2021-02-10",
          "2021-02-11",
          "2021-02-12",
          "2021-02-24",
          "2021-02-25",
          "2021-02-26",
          "2021-03-03",
          "2021-03-04",
          "2021-03-05",
          "2021-03-24",
          "2021-03-25",
          "2021-03-26",
          "2021-04-13",
          "2021-04-15",
          "2021-04-16",
          "2021-04-21",
          "2021-04-22",
          "2021-04-23",
          "2021-05-05",
          "2021-05-06",
          "2021-05-07",
          "2021-05-19",
          "2021-05-20",
          "2021-05-21",
          "2021-06-09",
          "2021-06-10",
          "2021-06-11",
          "2021-06-23",
          "2021-06-24",
          "2021-06-25",
          "2021-08-25",
          "2021-09-07"
         ],
         "xaxis": "x",
         "y": [
          0.19451121137763971,
          0.15859663577223881,
          0.15382168795455348,
          0.15493958207571704,
          0.1502231138301473,
          0.1524143864401761,
          0.14784381861047308,
          0.13687086466190973,
          0.13607272413753807,
          0.1288497816954607,
          0.1286723703057633,
          0.12997933001195802,
          0.12898898524536634,
          0.12472927085570963,
          0.1239642830747814,
          0.12368001695345504,
          0.11746615993113634,
          0.11628227845018772,
          0.11474890064622617,
          0.11436574603256731,
          0.11624641308800555,
          0.11773672452906346,
          0.11765990625362974,
          0.1275879180012155,
          0.12749325486437424,
          0.12813660903849505,
          0.12648737138454266,
          0.09593031732735262,
          0.09574179612385328,
          0.09480976964609641,
          0.09282097688614446,
          0.08999064918858551,
          0.09126036822771641,
          0.09266188582343043,
          0.09458878681107302,
          0.09116844307802204,
          0.093040779723002,
          0.09833794212272126,
          0.09463656001139581,
          0.10977056760750814,
          0.09486676345914213,
          0.08948142513449554,
          0.10520651309458141,
          0.09326229239577266,
          0.09042218969489317,
          0.08697947957007701,
          0.08444123388335062,
          0.08551148168280691,
          0.09352219901404966,
          0.09253218336486542,
          0.08956871570274108,
          0.08959335058545582,
          0.09075456594655035,
          0.06275112647711989,
          0.0624568639456757,
          0.06593415822758997,
          0.07234084213190976,
          0.06979040470609117,
          0.06989585878068943,
          0.07186551825687824,
          0.0821920397514627,
          0.07657910839292452,
          0.07373995397178168,
          0.07117398477266977,
          0.07288447129217311,
          0.07539417405157103,
          0.08143477089163614,
          0.07456003645086307,
          0.08456997954373796,
          0.08221814397311622,
          0.08229252282944284,
          0.08586690285304563,
          0.11677110974801387,
          0.11622289069918769,
          0.11821907564357767,
          0.12260179148058316,
          0.1266299412222496,
          0.12303600328121493,
          0.11832270593592911,
          0.13018362175285536,
          0.13023878316946713,
          0.12814219546432903,
          0.12607874298024419,
          0.12476457271872428,
          0.12350099948038336,
          0.1238552817774291,
          0.12013879211521149,
          0.12396895238091524,
          0.12378701951773488,
          0.13018695690058885,
          0.13062132896077316,
          0.1317150773544132,
          0.150766325078957,
          0.13252968328598538,
          0.1336667361918624,
          0.13424128893066467,
          0.13893085333366573,
          0.13857935919971814,
          0.13759088693061622,
          0.14552284595986245,
          0.14702367662376248,
          0.14047809326169836,
          0.12577239312481645,
          0.13002313256090695,
          0.12970072398584837,
          0.13067867323633722,
          0.12989896391639105,
          0.13271716534900302,
          0.13631792289622127,
          0.12934594066080202,
          0.12421210959547635,
          0.12337338782776411,
          0.1259258442194267,
          0.1250733349771111,
          0.12513406950629355,
          0.12471211925364123,
          0.12915183198255595,
          0.12472437614327167,
          0.12794089674547188,
          0.11683709984112123,
          0.11588837689923934,
          0.11005065582332339,
          0.11301741710617635,
          0.11379212030194352,
          0.11098712480425768,
          0.10992737456938946,
          0.10431076814104272,
          0.09949938710088689,
          0.09042589965040931,
          0.07914923912661909,
          0.07726630376046124,
          0.08438291412165697,
          0.0829176584932118,
          0.08395823920385133,
          0.08151156517090716,
          0.08050283162219223,
          0.08091253752098207,
          0.08021855104827633,
          0.08246311808784686,
          0.08383464719191623,
          0.08541187113000556,
          0.08598739445969841,
          0.08509164187859204,
          0.0952056367731978,
          0.10750261681452682,
          0.09820443363422746,
          0.09075159216121975,
          0.0899727377666356,
          0.09437599801119735,
          0.09751119480534594,
          0.09691956006452192,
          0.1021208651798092,
          0.09862378232719318,
          0.09853490112163549,
          0.10838753666050469,
          0.11073959085622498,
          0.11199139985509249,
          0.10606149196008462,
          0.10703662904654869,
          0.10736799754581025,
          0.10769032541768726,
          0.10624645053269392,
          0.10795851621324408,
          0.11461284862981758,
          0.11422712889494979,
          0.11425411771399477,
          0.11136614504178016,
          0.11564331470612146,
          0.11669373713903074,
          0.11767367442620633,
          0.11673305561570449,
          0.1170058212018132,
          0.11628264953926239,
          0.11199665608438336,
          0.10036609652716202,
          0.10759310378714819,
          0.10884295494731938,
          0.1104185552107662,
          0.10491264162500295,
          0.10565625494339909,
          0.104582763786077,
          0.10079536961997264,
          0.10318049987761443,
          0.10713054393828533,
          0.09639975052342101,
          0.09868645005908325,
          0.1025177380755344,
          0.11754658834926143,
          0.11714445143570319,
          0.11524073003731528,
          0.1141253135566716,
          0.11799657688945077,
          0.11554100692170267,
          0.10940897948006155,
          0.1132471872209561,
          0.11095887515895159,
          0.11144469985183297,
          0.10265320894338958,
          0.09868866795409417,
          0.09075189039650276,
          0.09129147455939324,
          0.09157002628235891,
          0.08940380536132798,
          0.08795970256129629,
          0.08988976243627875,
          0.09717990746365843,
          0.09544603785178164,
          0.09442697147377192,
          0.097255811845256
         ],
         "yaxis": "y"
        },
        {
         "fillpattern": {
          "shape": ""
         },
         "hovertemplate": "party=CSU<br>date=%{x}<br>relative_saliency=%{y}<extra></extra>",
         "legendgroup": "CSU",
         "line": {
          "color": "#525060"
         },
         "marker": {
          "symbol": "circle"
         },
         "mode": "lines",
         "name": "CSU",
         "orientation": "v",
         "showlegend": true,
         "stackgroup": "1",
         "type": "scatter",
         "x": [
          "2018-05-16",
          "2018-05-17",
          "2018-05-18",
          "2018-06-06",
          "2018-06-07",
          "2018-06-08",
          "2018-06-13",
          "2018-06-14",
          "2018-06-15",
          "2018-06-27",
          "2018-06-28",
          "2018-06-29",
          "2018-07-03",
          "2018-07-04",
          "2018-07-05",
          "2018-09-11",
          "2018-09-12",
          "2018-09-13",
          "2018-09-14",
          "2018-09-26",
          "2018-09-27",
          "2018-09-28",
          "2018-10-10",
          "2018-10-11",
          "2018-10-12",
          "2018-10-17",
          "2018-10-18",
          "2018-10-19",
          "2018-11-07",
          "2018-11-08",
          "2018-11-09",
          "2018-11-20",
          "2018-11-21",
          "2018-11-22",
          "2018-11-23",
          "2018-11-28",
          "2018-11-29",
          "2018-11-30",
          "2018-12-13",
          "2018-12-14",
          "2019-01-17",
          "2019-01-18",
          "2019-01-30",
          "2019-01-31",
          "2019-02-01",
          "2019-02-13",
          "2019-02-14",
          "2019-02-15",
          "2019-02-20",
          "2019-02-21",
          "2019-02-22",
          "2019-03-13",
          "2019-03-14",
          "2019-03-15",
          "2019-03-20",
          "2019-03-21",
          "2019-03-22",
          "2019-04-04",
          "2019-04-05",
          "2019-04-10",
          "2019-04-11",
          "2019-04-12",
          "2019-05-09",
          "2019-05-10",
          "2019-05-15",
          "2019-05-16",
          "2019-05-17",
          "2019-06-05",
          "2019-06-06",
          "2019-06-07",
          "2019-06-26",
          "2019-06-27",
          "2019-06-28",
          "2019-07-24",
          "2019-09-10",
          "2019-09-11",
          "2019-09-12",
          "2019-09-13",
          "2019-09-25",
          "2019-09-26",
          "2019-09-27",
          "2019-10-16",
          "2019-10-17",
          "2019-10-18",
          "2019-10-23",
          "2019-10-24",
          "2019-10-25",
          "2019-11-07",
          "2019-11-08",
          "2019-11-13",
          "2019-11-14",
          "2019-11-15",
          "2019-11-26",
          "2019-11-27",
          "2019-11-28",
          "2019-11-29",
          "2019-12-11",
          "2019-12-12",
          "2019-12-13",
          "2019-12-18",
          "2019-12-19",
          "2019-12-20",
          "2020-01-15",
          "2020-01-16",
          "2020-01-17",
          "2020-01-29",
          "2020-01-30",
          "2020-01-31",
          "2020-02-12",
          "2020-02-13",
          "2020-02-14",
          "2020-03-04",
          "2020-03-05",
          "2020-03-06",
          "2020-03-11",
          "2020-03-12",
          "2020-03-13",
          "2020-03-25",
          "2020-04-22",
          "2020-04-23",
          "2020-05-06",
          "2020-05-07",
          "2020-05-13",
          "2020-05-14",
          "2020-05-15",
          "2020-05-27",
          "2020-05-28",
          "2020-05-29",
          "2020-06-17",
          "2020-06-18",
          "2020-06-19",
          "2020-06-29",
          "2020-07-01",
          "2020-07-02",
          "2020-07-03",
          "2020-09-09",
          "2020-09-10",
          "2020-09-11",
          "2020-09-16",
          "2020-09-17",
          "2020-09-18",
          "2020-09-29",
          "2020-09-30",
          "2020-10-01",
          "2020-10-02",
          "2020-10-07",
          "2020-10-08",
          "2020-10-09",
          "2020-10-28",
          "2020-10-29",
          "2020-10-30",
          "2020-11-04",
          "2020-11-05",
          "2020-11-06",
          "2020-11-18",
          "2020-11-19",
          "2020-11-20",
          "2020-11-25",
          "2020-11-26",
          "2020-11-27",
          "2020-12-08",
          "2020-12-09",
          "2020-12-10",
          "2020-12-11",
          "2020-12-16",
          "2020-12-17",
          "2021-01-13",
          "2021-01-14",
          "2021-01-27",
          "2021-01-28",
          "2021-01-29",
          "2021-02-10",
          "2021-02-11",
          "2021-02-12",
          "2021-02-24",
          "2021-02-25",
          "2021-02-26",
          "2021-03-03",
          "2021-03-04",
          "2021-03-05",
          "2021-03-24",
          "2021-03-25",
          "2021-03-26",
          "2021-04-13",
          "2021-04-15",
          "2021-04-16",
          "2021-04-21",
          "2021-04-22",
          "2021-04-23",
          "2021-05-05",
          "2021-05-06",
          "2021-05-07",
          "2021-05-19",
          "2021-05-20",
          "2021-05-21",
          "2021-06-09",
          "2021-06-10",
          "2021-06-11",
          "2021-06-23",
          "2021-06-24",
          "2021-06-25",
          "2021-08-25",
          "2021-09-07"
         ],
         "xaxis": "x",
         "y": [
          0.18918748126290755,
          0.19614258945106397,
          0.18122470977965077,
          0.193511054842733,
          0.19335662684242347,
          0.18306801754221644,
          0.17464818756088338,
          0.1728622274185136,
          0.17964767679266608,
          0.1794003225203009,
          0.18589161431926557,
          0.181589666622022,
          0.17310232556040384,
          0.168430521202197,
          0.16647319001537353,
          0.1779354374568031,
          0.17696591821740562,
          0.17628664823393062,
          0.1756980147723733,
          0.1730378802875992,
          0.17306685268366595,
          0.17218573010212462,
          0.17278755457014006,
          0.17265935581763292,
          0.17270585170312489,
          0.16774594582111005,
          0.14940586862665417,
          0.14711464664729446,
          0.14568251615160424,
          0.1292560904424831,
          0.13206764731600448,
          0.14057556091258666,
          0.1390248568964663,
          0.12824372642223586,
          0.12574882052086353,
          0.13226129100870046,
          0.13755012036438538,
          0.14657686286573207,
          0.14079663235837536,
          0.14500054933506504,
          0.13859309361583613,
          0.1494007038898007,
          0.14547764088849124,
          0.157339668029809,
          0.15802084802766428,
          0.11712651603679765,
          0.11588662769976828,
          0.11738586435197988,
          0.12097240258898288,
          0.12284017493907336,
          0.13995906547713258,
          0.1393027472368396,
          0.10137911772619543,
          0.11483775207745331,
          0.12320130657894265,
          0.12205147991432522,
          0.12208636635811239,
          0.12522992748610332,
          0.1419855955873708,
          0.14376943476676743,
          0.1392941495022426,
          0.11915673420373062,
          0.12654105658926196,
          0.12790453574148214,
          0.12434759463278641,
          0.12543135025660043,
          0.11403827305006374,
          0.10890537616195965,
          0.10962941146838867,
          0.1150204354184745,
          0.12022455410976617,
          0.10833853556849687,
          0.10780931369155412,
          0.1115754633298425,
          0.09748790772015431,
          0.10560136176087594,
          0.11319334958444341,
          0.11445524654833271,
          0.11557045697538117,
          0.12285042080545552,
          0.12426478159950526,
          0.12709954261658352,
          0.13417847563368326,
          0.1264432752443086,
          0.11891884586191925,
          0.11985206509252672,
          0.12199164852540025,
          0.12365045351888436,
          0.1227264194692844,
          0.1214904654772548,
          0.1243940638405198,
          0.13744014060816218,
          0.1421843578344563,
          0.14291549593276018,
          0.14306193265976266,
          0.14977576617651994,
          0.17464791234025526,
          0.15301033148146248,
          0.14896938407166507,
          0.1512456450262271,
          0.15333484027387637,
          0.15901388263199803,
          0.16137609874174744,
          0.18405742225717167,
          0.18902853710076908,
          0.1850967885605247,
          0.18082043725169117,
          0.1763297257908858,
          0.18600292928317239,
          0.1743652863817752,
          0.17069789349186407,
          0.1822534060737616,
          0.16882614405154447,
          0.1731015069536412,
          0.17341938752737573,
          0.18552144441803012,
          0.17738424871058972,
          0.17664442310712825,
          0.1723035869656267,
          0.1891976205375774,
          0.1880738974331451,
          0.1893906267679146,
          0.17810149178602863,
          0.18474544850086125,
          0.1845981814376057,
          0.17048696690724532,
          0.1715587591080273,
          0.16208041831888642,
          0.1658993165759623,
          0.16681035136358477,
          0.1577950380426459,
          0.15874019648087662,
          0.16689171691063165,
          0.1708155611888217,
          0.18171537333957377,
          0.16809151977618308,
          0.170094289847386,
          0.16395366238502906,
          0.158552570366999,
          0.15693549799924067,
          0.16055182457206324,
          0.16224723533226365,
          0.16169506176397938,
          0.1562174780641441,
          0.15348643417552912,
          0.15600851668539698,
          0.15795071565373195,
          0.16013621384697632,
          0.1588351014964704,
          0.14838086215266938,
          0.1505012505106427,
          0.15633095141968667,
          0.15679260982563187,
          0.15513610416059073,
          0.15540743240974225,
          0.15914847548653593,
          0.15772981890124302,
          0.1746532308835299,
          0.17136088581266534,
          0.17254987201753977,
          0.15807314700918482,
          0.1535176519006357,
          0.1436441550606514,
          0.1443072006789406,
          0.14409282192428535,
          0.14746360571917935,
          0.15571011731645937,
          0.1606535679988376,
          0.16456995474835084,
          0.16682867813890392,
          0.16763895700862466,
          0.15785994352801228,
          0.15679034915021053,
          0.16049365310556996,
          0.17090649998337323,
          0.16918511399339234,
          0.16885750911027064,
          0.16643473941070455,
          0.16966363244027435,
          0.16335382128754072,
          0.16175408948417155,
          0.1446583467600356,
          0.14857834713725745,
          0.15021819528883862,
          0.15027366301427747,
          0.1464007158086553,
          0.14577057155418335,
          0.1494129369943476,
          0.15050354808701796,
          0.14110669783781318,
          0.16602861314136272,
          0.210795948635809,
          0.2077163846750957,
          0.20042249098231593,
          0.20086362912494746,
          0.2008305075717101,
          0.20492577347576046,
          0.2015439709556039,
          0.19847602423756627,
          0.20454409043033964,
          0.21547920491567388,
          0.21395031688331062,
          0.20448335843598475
         ],
         "yaxis": "y"
        },
        {
         "fillpattern": {
          "shape": ""
         },
         "hovertemplate": "party=DIE LINKE<br>date=%{x}<br>relative_saliency=%{y}<extra></extra>",
         "legendgroup": "DIE LINKE",
         "line": {
          "color": "#a33ab5"
         },
         "marker": {
          "symbol": "circle"
         },
         "mode": "lines",
         "name": "DIE LINKE",
         "orientation": "v",
         "showlegend": true,
         "stackgroup": "1",
         "type": "scatter",
         "x": [
          "2018-05-15",
          "2018-05-16",
          "2018-05-17",
          "2018-05-18",
          "2018-06-06",
          "2018-06-07",
          "2018-06-08",
          "2018-06-13",
          "2018-06-14",
          "2018-06-15",
          "2018-06-27",
          "2018-06-28",
          "2018-06-29",
          "2018-07-03",
          "2018-07-04",
          "2018-07-05",
          "2018-09-11",
          "2018-09-12",
          "2018-09-13",
          "2018-09-14",
          "2018-09-26",
          "2018-09-27",
          "2018-09-28",
          "2018-10-10",
          "2018-10-11",
          "2018-10-12",
          "2018-10-17",
          "2018-10-18",
          "2018-10-19",
          "2018-11-07",
          "2018-11-08",
          "2018-11-09",
          "2018-11-20",
          "2018-11-21",
          "2018-11-22",
          "2018-11-23",
          "2018-11-28",
          "2018-11-29",
          "2018-11-30",
          "2018-12-12",
          "2018-12-13",
          "2018-12-14",
          "2019-01-16",
          "2019-01-17",
          "2019-01-18",
          "2019-01-30",
          "2019-01-31",
          "2019-02-01",
          "2019-02-13",
          "2019-02-14",
          "2019-02-15",
          "2019-02-20",
          "2019-02-21",
          "2019-02-22",
          "2019-03-13",
          "2019-03-14",
          "2019-03-15",
          "2019-03-20",
          "2019-03-21",
          "2019-03-22",
          "2019-04-03",
          "2019-04-04",
          "2019-04-05",
          "2019-04-10",
          "2019-04-11",
          "2019-04-12",
          "2019-05-08",
          "2019-05-09",
          "2019-05-10",
          "2019-05-15",
          "2019-05-16",
          "2019-05-17",
          "2019-06-05",
          "2019-06-06",
          "2019-06-07",
          "2019-06-26",
          "2019-06-27",
          "2019-06-28",
          "2019-07-24",
          "2019-09-10",
          "2019-09-11",
          "2019-09-12",
          "2019-09-13",
          "2019-09-25",
          "2019-09-26",
          "2019-09-27",
          "2019-10-16",
          "2019-10-17",
          "2019-10-18",
          "2019-10-23",
          "2019-10-24",
          "2019-10-25",
          "2019-11-06",
          "2019-11-07",
          "2019-11-08",
          "2019-11-13",
          "2019-11-14",
          "2019-11-15",
          "2019-11-26",
          "2019-11-27",
          "2019-11-28",
          "2019-11-29",
          "2019-12-11",
          "2019-12-12",
          "2019-12-13",
          "2019-12-18",
          "2019-12-19",
          "2019-12-20",
          "2020-01-15",
          "2020-01-16",
          "2020-01-17",
          "2020-01-29",
          "2020-01-30",
          "2020-01-31",
          "2020-02-12",
          "2020-02-13",
          "2020-02-14",
          "2020-03-04",
          "2020-03-05",
          "2020-03-06",
          "2020-03-11",
          "2020-03-12",
          "2020-03-13",
          "2020-03-25",
          "2020-04-22",
          "2020-04-23",
          "2020-05-06",
          "2020-05-07",
          "2020-05-13",
          "2020-05-14",
          "2020-05-15",
          "2020-05-27",
          "2020-05-28",
          "2020-05-29",
          "2020-06-17",
          "2020-06-18",
          "2020-06-19",
          "2020-06-29",
          "2020-07-01",
          "2020-07-02",
          "2020-07-03",
          "2020-09-09",
          "2020-09-10",
          "2020-09-11",
          "2020-09-16",
          "2020-09-17",
          "2020-09-18",
          "2020-09-29",
          "2020-09-30",
          "2020-10-01",
          "2020-10-02",
          "2020-10-07",
          "2020-10-08",
          "2020-10-09",
          "2020-10-28",
          "2020-10-29",
          "2020-10-30",
          "2020-11-04",
          "2020-11-05",
          "2020-11-06",
          "2020-11-18",
          "2020-11-19",
          "2020-11-20",
          "2020-11-25",
          "2020-11-26",
          "2020-11-27",
          "2020-12-08",
          "2020-12-09",
          "2020-12-10",
          "2020-12-11",
          "2020-12-16",
          "2020-12-17",
          "2021-01-13",
          "2021-01-14",
          "2021-01-27",
          "2021-01-28",
          "2021-01-29",
          "2021-02-10",
          "2021-02-11",
          "2021-02-12",
          "2021-02-24",
          "2021-02-25",
          "2021-02-26",
          "2021-03-03",
          "2021-03-04",
          "2021-03-05",
          "2021-03-24",
          "2021-03-25",
          "2021-03-26",
          "2021-04-13",
          "2021-04-15",
          "2021-04-16",
          "2021-04-21",
          "2021-04-22",
          "2021-04-23",
          "2021-05-05",
          "2021-05-06",
          "2021-05-07",
          "2021-05-19",
          "2021-05-20",
          "2021-05-21",
          "2021-06-09",
          "2021-06-10",
          "2021-06-11",
          "2021-06-23",
          "2021-06-24",
          "2021-06-25",
          "2021-08-25",
          "2021-09-07"
         ],
         "xaxis": "x",
         "y": [
          0.14855491491009457,
          0.11965935824733087,
          0.1181977133210791,
          0.12519530118594702,
          0.12049671230383599,
          0.12043973923145215,
          0.11990437103401917,
          0.10974187240096044,
          0.10861964712742977,
          0.10806284868581012,
          0.10791405852173114,
          0.10768471905894643,
          0.1078504802192003,
          0.10805802467952053,
          0.10514186083146082,
          0.10503942616830339,
          0.10279094004562035,
          0.09988519961948968,
          0.09952289469891921,
          0.09919058078520131,
          0.0976887978262229,
          0.10015222491523325,
          0.1015982332181526,
          0.0995779721827387,
          0.09950409086736979,
          0.10004009917209619,
          0.09716706695328083,
          0.10380530883102203,
          0.10392206210564402,
          0.10338377568769294,
          0.11323169737174221,
          0.11697826880519928,
          0.11664246462650484,
          0.11239030225070802,
          0.11547083520088039,
          0.11203022067936624,
          0.09984364522456808,
          0.10524494703702796,
          0.10970267299559686,
          0.12765850786387456,
          0.11032601664565758,
          0.10957909218688743,
          0.12883605932431497,
          0.1133101250431824,
          0.11454762551828708,
          0.11050550975163347,
          0.11242751649818471,
          0.11471494257283617,
          0.11180353812293198,
          0.1113658225643214,
          0.1127899858144224,
          0.11176821691699948,
          0.11087348236649441,
          0.1112616530294585,
          0.11073990724557921,
          0.11572903960561493,
          0.11609607288116733,
          0.11434888674552905,
          0.11328167891551237,
          0.11584403035580239,
          0.12952481418813291,
          0.1044905165877522,
          0.08993686864994838,
          0.08935044071695823,
          0.08946593115487976,
          0.10200449261727951,
          0.11592603034479362,
          0.10388458830764048,
          0.10559522161776318,
          0.11729947673388012,
          0.11648400453602069,
          0.11590208228783457,
          0.1277479314099163,
          0.12620166954499099,
          0.12447770924437085,
          0.1271084670534534,
          0.1260312805614315,
          0.12656038340198492,
          0.12919024317883504,
          0.12674546076731497,
          0.12607507597639614,
          0.1182544845995901,
          0.11844635940530997,
          0.1196004577890739,
          0.11943802263350256,
          0.11904351353423848,
          0.12052928670173098,
          0.12245048086786207,
          0.12456470219267046,
          0.1212503810287891,
          0.12199547681437527,
          0.12419777801236714,
          0.14323960724072346,
          0.12625366467788177,
          0.12525222118806106,
          0.1273731111943914,
          0.1297604085087649,
          0.1217483477924349,
          0.11182092561284682,
          0.10482893685822978,
          0.10493634862844041,
          0.10256251155888461,
          0.0911035419557921,
          0.09446026549569791,
          0.10100961027570972,
          0.10289526006596725,
          0.10340157410128328,
          0.09977183409793305,
          0.1060351874659087,
          0.10751259049291878,
          0.11333424771000139,
          0.1209571701611415,
          0.11993439450620247,
          0.12220736356878432,
          0.11964848540467012,
          0.12193955343401541,
          0.12366916724850986,
          0.11826832597216924,
          0.12526370178146196,
          0.130720935695372,
          0.12947623239656242,
          0.13014112051110296,
          0.13115053525704454,
          0.13169277998459622,
          0.13269718198939154,
          0.12545933103379964,
          0.12864022951921714,
          0.13516831441783675,
          0.14953087662262676,
          0.1568712777805748,
          0.15674623019442124,
          0.16632816563596872,
          0.16305614977773117,
          0.1540750354320506,
          0.1467581608745677,
          0.14285690687430438,
          0.14488521987419972,
          0.14575305127015278,
          0.13536530726769241,
          0.12954533393124967,
          0.11824579557055756,
          0.10983488954036917,
          0.11410280518620873,
          0.11428889874981293,
          0.11737825767788694,
          0.11827962161603939,
          0.11633931361021271,
          0.12122605597260001,
          0.11498840003428736,
          0.1076695245780406,
          0.11019674903785842,
          0.10832624988283429,
          0.10814565306204997,
          0.1087047814392062,
          0.1099222544280823,
          0.10988327220052657,
          0.10093226029257223,
          0.1019360216660059,
          0.10451030224993389,
          0.10334212130873927,
          0.10352286348342529,
          0.10521842787548721,
          0.10664908906476696,
          0.11753610400394598,
          0.11724388122903195,
          0.11826030809120427,
          0.11927284946691631,
          0.12079356302205177,
          0.1248475391410575,
          0.1295081324923232,
          0.12836682248250814,
          0.12965151445326648,
          0.12522995694863195,
          0.12441528819182832,
          0.12229045080100896,
          0.12103090888997442,
          0.12161875019610159,
          0.11892842558975639,
          0.12138629741355884,
          0.12425337665519891,
          0.11932400503901844,
          0.11959625525350495,
          0.12141445929050967,
          0.12417686310999657,
          0.12695821514829078,
          0.13256179869094845,
          0.13596619752373423,
          0.13940464750472606,
          0.1401150291698932,
          0.14440938111221285,
          0.14766528489206254,
          0.14709109091062778,
          0.14413272431139407,
          0.13515598368364473,
          0.137185516576753,
          0.13209166058616037,
          0.1333194715168513,
          0.12654092938274117,
          0.1203258346899466,
          0.11782405183258815,
          0.12614193013304967,
          0.1249204670575913,
          0.1348221318422053,
          0.1353783262318554,
          0.13652266051439177,
          0.1295180524409482,
          0.12620028489354626,
          0.12319769494362232,
          0.11328371205320725
         ],
         "yaxis": "y"
        },
        {
         "fillpattern": {
          "shape": ""
         },
         "hovertemplate": "party=FDP<br>date=%{x}<br>relative_saliency=%{y}<extra></extra>",
         "legendgroup": "FDP",
         "line": {
          "color": "#ffeb3b"
         },
         "marker": {
          "symbol": "circle"
         },
         "mode": "lines",
         "name": "FDP",
         "orientation": "v",
         "showlegend": true,
         "stackgroup": "1",
         "type": "scatter",
         "x": [
          "2018-05-15",
          "2018-05-16",
          "2018-05-17",
          "2018-05-18",
          "2018-06-06",
          "2018-06-07",
          "2018-06-08",
          "2018-06-13",
          "2018-06-14",
          "2018-06-15",
          "2018-06-27",
          "2018-06-28",
          "2018-06-29",
          "2018-07-03",
          "2018-07-04",
          "2018-07-05",
          "2018-09-11",
          "2018-09-12",
          "2018-09-13",
          "2018-09-14",
          "2018-09-26",
          "2018-09-27",
          "2018-09-28",
          "2018-10-10",
          "2018-10-11",
          "2018-10-12",
          "2018-10-17",
          "2018-10-18",
          "2018-10-19",
          "2018-11-07",
          "2018-11-08",
          "2018-11-09",
          "2018-11-20",
          "2018-11-21",
          "2018-11-22",
          "2018-11-23",
          "2018-11-28",
          "2018-11-29",
          "2018-11-30",
          "2018-12-12",
          "2018-12-13",
          "2018-12-14",
          "2019-01-16",
          "2019-01-17",
          "2019-01-18",
          "2019-01-30",
          "2019-01-31",
          "2019-02-01",
          "2019-02-13",
          "2019-02-14",
          "2019-02-15",
          "2019-02-20",
          "2019-02-21",
          "2019-02-22",
          "2019-03-13",
          "2019-03-14",
          "2019-03-15",
          "2019-03-20",
          "2019-03-21",
          "2019-03-22",
          "2019-04-03",
          "2019-04-04",
          "2019-04-05",
          "2019-04-10",
          "2019-04-11",
          "2019-04-12",
          "2019-05-08",
          "2019-05-09",
          "2019-05-10",
          "2019-05-15",
          "2019-05-16",
          "2019-05-17",
          "2019-06-05",
          "2019-06-06",
          "2019-06-07",
          "2019-06-26",
          "2019-06-27",
          "2019-06-28",
          "2019-07-24",
          "2019-09-10",
          "2019-09-11",
          "2019-09-12",
          "2019-09-13",
          "2019-09-25",
          "2019-09-26",
          "2019-09-27",
          "2019-10-16",
          "2019-10-17",
          "2019-10-18",
          "2019-10-23",
          "2019-10-24",
          "2019-10-25",
          "2019-11-06",
          "2019-11-07",
          "2019-11-08",
          "2019-11-13",
          "2019-11-14",
          "2019-11-15",
          "2019-11-26",
          "2019-11-27",
          "2019-11-28",
          "2019-11-29",
          "2019-12-11",
          "2019-12-12",
          "2019-12-13",
          "2019-12-18",
          "2019-12-19",
          "2019-12-20",
          "2020-01-15",
          "2020-01-16",
          "2020-01-17",
          "2020-01-29",
          "2020-01-30",
          "2020-01-31",
          "2020-02-12",
          "2020-02-13",
          "2020-02-14",
          "2020-03-04",
          "2020-03-05",
          "2020-03-06",
          "2020-03-11",
          "2020-03-12",
          "2020-03-13",
          "2020-03-25",
          "2020-04-22",
          "2020-04-23",
          "2020-05-06",
          "2020-05-07",
          "2020-05-13",
          "2020-05-14",
          "2020-05-15",
          "2020-05-27",
          "2020-05-28",
          "2020-05-29",
          "2020-06-17",
          "2020-06-18",
          "2020-06-19",
          "2020-06-29",
          "2020-07-01",
          "2020-07-02",
          "2020-07-03",
          "2020-09-09",
          "2020-09-10",
          "2020-09-11",
          "2020-09-16",
          "2020-09-17",
          "2020-09-18",
          "2020-09-29",
          "2020-09-30",
          "2020-10-01",
          "2020-10-02",
          "2020-10-07",
          "2020-10-08",
          "2020-10-09",
          "2020-10-28",
          "2020-10-29",
          "2020-10-30",
          "2020-11-04",
          "2020-11-05",
          "2020-11-06",
          "2020-11-18",
          "2020-11-19",
          "2020-11-20",
          "2020-11-25",
          "2020-11-26",
          "2020-11-27",
          "2020-12-08",
          "2020-12-09",
          "2020-12-10",
          "2020-12-11",
          "2020-12-16",
          "2020-12-17",
          "2021-01-13",
          "2021-01-14",
          "2021-01-27",
          "2021-01-28",
          "2021-01-29",
          "2021-02-10",
          "2021-02-11",
          "2021-02-12",
          "2021-02-24",
          "2021-02-25",
          "2021-02-26",
          "2021-03-03",
          "2021-03-04",
          "2021-03-05",
          "2021-03-24",
          "2021-03-25",
          "2021-03-26",
          "2021-04-13",
          "2021-04-15",
          "2021-04-16",
          "2021-04-21",
          "2021-04-22",
          "2021-04-23",
          "2021-05-05",
          "2021-05-06",
          "2021-05-07",
          "2021-05-19",
          "2021-05-20",
          "2021-05-21",
          "2021-06-09",
          "2021-06-10",
          "2021-06-11",
          "2021-06-23",
          "2021-06-24",
          "2021-06-25",
          "2021-08-25",
          "2021-09-07"
         ],
         "xaxis": "x",
         "y": [
          0.1482382033338151,
          0.1175263930655863,
          0.11825547722828005,
          0.11911489506816192,
          0.11245845734806653,
          0.11236871190845704,
          0.1208091169045651,
          0.13408920719868164,
          0.1337699798486787,
          0.12521716002042188,
          0.12504475033465548,
          0.12305970149531682,
          0.12452952805343344,
          0.12614046339921856,
          0.12907476583220992,
          0.1275747879018915,
          0.11771353113579427,
          0.11818635672946239,
          0.11716403707194466,
          0.11677281814865915,
          0.11500483345717619,
          0.1108660910503152,
          0.11143395982112451,
          0.11852170926202722,
          0.11843377274767462,
          0.11775810296882802,
          0.11666478936980264,
          0.11617906845008422,
          0.11746976895755923,
          0.11632622518214483,
          0.1117953284290217,
          0.11376964439909149,
          0.11577064868567523,
          0.11681596319817523,
          0.11879164762791214,
          0.11648062633300041,
          0.11184774083051631,
          0.10720061517336503,
          0.10638117328932074,
          0.12234035692380224,
          0.10655022488694488,
          0.10861554315401552,
          0.13387562856379806,
          0.11443650844947269,
          0.11035561679787247,
          0.10745782564980831,
          0.11718557023807928,
          0.11641676610724404,
          0.12894730619064015,
          0.1309683896436664,
          0.13264323353347549,
          0.13964238964641487,
          0.14038086230436536,
          0.1270803785253957,
          0.12648445306586784,
          0.12936153850731985,
          0.1294624987266692,
          0.12978889572608082,
          0.12995715745835218,
          0.13123805226406401,
          0.1502000825095074,
          0.1362855166576528,
          0.1353995367649935,
          0.1405981033940238,
          0.1429847157178043,
          0.14550574900167534,
          0.17106805630293442,
          0.14163175369624617,
          0.13611179964988812,
          0.1474178945905519,
          0.14627226681784108,
          0.14477053542498344,
          0.13634506257360324,
          0.13798654866062257,
          0.13842809447394921,
          0.14135368486876304,
          0.13961684149405437,
          0.14733367763559757,
          0.13551149986977434,
          0.14680997815942098,
          0.14469509687012347,
          0.14040180632599283,
          0.13626641401507386,
          0.13788078729744702,
          0.13874926249017355,
          0.14066807644335172,
          0.1453699969905204,
          0.1475936386897532,
          0.14777908688676406,
          0.1468491591587406,
          0.14622570947308683,
          0.1459810247612571,
          0.16499238800913404,
          0.1415841663368986,
          0.14064228803398723,
          0.14333222067129608,
          0.1398184816010929,
          0.13888189463649397,
          0.1364682837291212,
          0.1299371784504761,
          0.12958925112636105,
          0.12515634289408398,
          0.12159544903605497,
          0.12298846076386342,
          0.1211132346499338,
          0.12165783326526376,
          0.12314421046598453,
          0.11640413008611947,
          0.11956229767380687,
          0.10474754415376356,
          0.10852529438432339,
          0.10842565302012316,
          0.11167024862228073,
          0.1094773956359728,
          0.10573546040232487,
          0.10617592096827193,
          0.10149608994935112,
          0.09399150620016003,
          0.09873933737178495,
          0.09823819665635533,
          0.09841859955905294,
          0.08972886361009429,
          0.09042482840361149,
          0.0906238415271511,
          0.09035580475500016,
          0.0892094674325001,
          0.08693359258071201,
          0.08354347111908321,
          0.08761571391520656,
          0.08746370797689476,
          0.08873285235174473,
          0.09284526661836677,
          0.09256865476564555,
          0.10691123021518421,
          0.1099436370152439,
          0.1094701172899408,
          0.10351658098291279,
          0.10413662310354241,
          0.10158499973232099,
          0.10208068597927002,
          0.09024800750161945,
          0.10155432114269605,
          0.10276431647890777,
          0.10357766743526536,
          0.10834513483212634,
          0.11982318392684947,
          0.11989028744813915,
          0.11970501300451741,
          0.11625238730569046,
          0.12494042545189263,
          0.12275617699519153,
          0.11993095374728825,
          0.12403511999046782,
          0.12414414729674918,
          0.12062112573444864,
          0.1203255833425093,
          0.13160219766264059,
          0.12798691353048824,
          0.128283948419052,
          0.13092764064217752,
          0.13004877201105786,
          0.12950595521546157,
          0.1307514788600093,
          0.12082244808115684,
          0.12586674405354178,
          0.12768176978906629,
          0.12940293810503906,
          0.12567368704169976,
          0.12691196478096048,
          0.12724959140149147,
          0.12742754066599676,
          0.1239910504865795,
          0.11952154516018272,
          0.11791718114353586,
          0.1112567233737178,
          0.10109105290355568,
          0.10158204728773088,
          0.11051721905642745,
          0.11033930981690063,
          0.10474663927631017,
          0.10757017923796632,
          0.11213864498368496,
          0.107847777441341,
          0.11112539166387503,
          0.11381163737513968,
          0.11534986303495368,
          0.11130490022520181,
          0.11654535194621543,
          0.11250467701319747,
          0.11352686638890291,
          0.11292837136549436,
          0.11736088778182777,
          0.12293833928103301,
          0.12599436422711788,
          0.11592469551486154,
          0.12510317450606206,
          0.12402628115462706,
          0.13302707885767592,
          0.13894323247887147,
          0.13934893430109624,
          0.137868848039391,
          0.13647159245450832,
          0.14404884871611587,
          0.14663837703295016,
          0.15684157910055418,
          0.15523059071264528,
          0.1512541642105153,
          0.15160276200061265,
          0.16073062265283317
         ],
         "yaxis": "y"
        },
        {
         "fillpattern": {
          "shape": ""
         },
         "hovertemplate": "party=GRUENE<br>date=%{x}<br>relative_saliency=%{y}<extra></extra>",
         "legendgroup": "GRUENE",
         "line": {
          "color": "#52d157"
         },
         "marker": {
          "symbol": "circle"
         },
         "mode": "lines",
         "name": "GRUENE",
         "orientation": "v",
         "showlegend": true,
         "stackgroup": "1",
         "type": "scatter",
         "x": [
          "2018-05-15",
          "2018-05-16",
          "2018-05-17",
          "2018-05-18",
          "2018-06-06",
          "2018-06-07",
          "2018-06-08",
          "2018-06-13",
          "2018-06-14",
          "2018-06-15",
          "2018-06-27",
          "2018-06-28",
          "2018-06-29",
          "2018-07-03",
          "2018-07-04",
          "2018-07-05",
          "2018-09-11",
          "2018-09-12",
          "2018-09-13",
          "2018-09-14",
          "2018-09-26",
          "2018-09-27",
          "2018-09-28",
          "2018-10-10",
          "2018-10-11",
          "2018-10-12",
          "2018-10-17",
          "2018-10-18",
          "2018-10-19",
          "2018-11-07",
          "2018-11-08",
          "2018-11-09",
          "2018-11-20",
          "2018-11-21",
          "2018-11-22",
          "2018-11-23",
          "2018-11-28",
          "2018-11-29",
          "2018-11-30",
          "2018-12-12",
          "2018-12-13",
          "2018-12-14",
          "2019-01-16",
          "2019-01-17",
          "2019-01-18",
          "2019-01-30",
          "2019-01-31",
          "2019-02-01",
          "2019-02-13",
          "2019-02-14",
          "2019-02-15",
          "2019-02-20",
          "2019-02-21",
          "2019-02-22",
          "2019-03-13",
          "2019-03-14",
          "2019-03-15",
          "2019-03-20",
          "2019-03-21",
          "2019-03-22",
          "2019-04-03",
          "2019-04-04",
          "2019-04-05",
          "2019-04-10",
          "2019-04-11",
          "2019-04-12",
          "2019-05-08",
          "2019-05-09",
          "2019-05-10",
          "2019-05-15",
          "2019-05-16",
          "2019-05-17",
          "2019-06-05",
          "2019-06-06",
          "2019-06-07",
          "2019-06-26",
          "2019-06-27",
          "2019-06-28",
          "2019-07-24",
          "2019-09-10",
          "2019-09-11",
          "2019-09-12",
          "2019-09-13",
          "2019-09-25",
          "2019-09-26",
          "2019-09-27",
          "2019-10-16",
          "2019-10-17",
          "2019-10-18",
          "2019-10-23",
          "2019-10-24",
          "2019-10-25",
          "2019-11-06",
          "2019-11-07",
          "2019-11-08",
          "2019-11-13",
          "2019-11-14",
          "2019-11-15",
          "2019-11-26",
          "2019-11-27",
          "2019-11-28",
          "2019-11-29",
          "2019-12-11",
          "2019-12-12",
          "2019-12-13",
          "2019-12-18",
          "2019-12-19",
          "2019-12-20",
          "2020-01-15",
          "2020-01-16",
          "2020-01-17",
          "2020-01-29",
          "2020-01-30",
          "2020-01-31",
          "2020-02-12",
          "2020-02-13",
          "2020-02-14",
          "2020-03-04",
          "2020-03-05",
          "2020-03-06",
          "2020-03-11",
          "2020-03-12",
          "2020-03-13",
          "2020-03-25",
          "2020-04-22",
          "2020-04-23",
          "2020-05-06",
          "2020-05-07",
          "2020-05-13",
          "2020-05-14",
          "2020-05-15",
          "2020-05-27",
          "2020-05-28",
          "2020-05-29",
          "2020-06-17",
          "2020-06-18",
          "2020-06-19",
          "2020-06-29",
          "2020-07-01",
          "2020-07-02",
          "2020-07-03",
          "2020-09-09",
          "2020-09-10",
          "2020-09-11",
          "2020-09-16",
          "2020-09-17",
          "2020-09-18",
          "2020-09-29",
          "2020-09-30",
          "2020-10-01",
          "2020-10-02",
          "2020-10-07",
          "2020-10-08",
          "2020-10-09",
          "2020-10-28",
          "2020-10-29",
          "2020-10-30",
          "2020-11-04",
          "2020-11-05",
          "2020-11-06",
          "2020-11-18",
          "2020-11-19",
          "2020-11-20",
          "2020-11-25",
          "2020-11-26",
          "2020-11-27",
          "2020-12-08",
          "2020-12-09",
          "2020-12-10",
          "2020-12-11",
          "2020-12-16",
          "2020-12-17",
          "2021-01-13",
          "2021-01-14",
          "2021-01-27",
          "2021-01-28",
          "2021-01-29",
          "2021-02-10",
          "2021-02-11",
          "2021-02-12",
          "2021-02-24",
          "2021-02-25",
          "2021-02-26",
          "2021-03-03",
          "2021-03-04",
          "2021-03-05",
          "2021-03-24",
          "2021-03-25",
          "2021-03-26",
          "2021-04-13",
          "2021-04-15",
          "2021-04-16",
          "2021-04-21",
          "2021-04-22",
          "2021-04-23",
          "2021-05-05",
          "2021-05-06",
          "2021-05-07",
          "2021-05-19",
          "2021-05-20",
          "2021-05-21",
          "2021-06-09",
          "2021-06-10",
          "2021-06-11",
          "2021-06-23",
          "2021-06-24",
          "2021-06-25",
          "2021-08-25",
          "2021-09-07"
         ],
         "xaxis": "x",
         "y": [
          0.24258248215152017,
          0.20187124955887353,
          0.2019337075152618,
          0.20633853640273223,
          0.21434114216378275,
          0.21417009108871463,
          0.20400372391417293,
          0.2151489854681456,
          0.22084302076599271,
          0.2282429991066166,
          0.22930562009235336,
          0.22529650247927616,
          0.22366926853695088,
          0.22777614904523438,
          0.22842605732332266,
          0.2363421043566588,
          0.2500819252193397,
          0.25485121041911946,
          0.257236523169036,
          0.2597166624244217,
          0.2579969310494093,
          0.25547456762207504,
          0.25194306272734407,
          0.23714953240739414,
          0.23697358064809113,
          0.23640991567880928,
          0.2540200599919529,
          0.30393053632069517,
          0.3049769075265147,
          0.3064628804321692,
          0.3076338139986138,
          0.297256149920164,
          0.288165076903732,
          0.29347650017141236,
          0.29127525691336253,
          0.29735803311243736,
          0.31102830072022863,
          0.30318652657475026,
          0.29095820757023344,
          0.3501642583160304,
          0.29677702784963866,
          0.30093964564789955,
          0.3492487468934909,
          0.2998246035490374,
          0.29208191639941755,
          0.3141927523929839,
          0.2949770440233991,
          0.29071534675514904,
          0.3039174033523407,
          0.30032602796864993,
          0.3035805114687085,
          0.3033276491137723,
          0.3038020921984798,
          0.3441815281834266,
          0.3425675375916161,
          0.35775543121490083,
          0.3225327496573042,
          0.327363687414047,
          0.3287109380645862,
          0.3257969786699455,
          0.3735607884446597,
          0.3306095629923352,
          0.3434461913212869,
          0.33803384964715416,
          0.34069504023200203,
          0.34561981542802167,
          0.3746885672025518,
          0.3211893902197037,
          0.32078140529475596,
          0.3033984123048919,
          0.3042583306549997,
          0.30590377743126296,
          0.26427939880197765,
          0.2645169807801614,
          0.26614045150282767,
          0.24091855364050727,
          0.24715763754604503,
          0.24677989231588338,
          0.2601408348645278,
          0.2563159504481416,
          0.25710563534354763,
          0.2599792131960504,
          0.2668053126710879,
          0.2586916137185526,
          0.2572557048002938,
          0.2554167771384602,
          0.2529891912870665,
          0.24381726831485218,
          0.2452667022797463,
          0.2506623504327264,
          0.25015863324804005,
          0.24393939859778038,
          0.2724315210789012,
          0.23881480942909813,
          0.24120510466410627,
          0.23866749408061014,
          0.24064445130323084,
          0.2313916694299051,
          0.23834227863569557,
          0.2379982785699106,
          0.23604534168933963,
          0.2428380800962121,
          0.2595888472412973,
          0.2671799873141529,
          0.26705565911156154,
          0.2631473602839891,
          0.2611485130954312,
          0.26312724215124145,
          0.24668136662240595,
          0.24576844314285426,
          0.23897347905103686,
          0.23723047148466556,
          0.23089529636748693,
          0.23520483694611036,
          0.23180125641965016,
          0.2374919983213086,
          0.2386099927957506,
          0.23638601340057827,
          0.23360013011067812,
          0.2298467386931831,
          0.22960830597151607,
          0.23380202425459842,
          0.23939804715924562,
          0.23817135694849823,
          0.2456113030655413,
          0.2374130184109985,
          0.23669832880633332,
          0.24860583949739695,
          0.2446038111944772,
          0.2485356058099046,
          0.2517802844709957,
          0.24207790680921304,
          0.2459634714246141,
          0.2504263161015567,
          0.25080368965395006,
          0.2509149072964222,
          0.2612412933192391,
          0.25799492231586846,
          0.2667412114999619,
          0.2723614987952687,
          0.27853605914222435,
          0.2862048264051704,
          0.28631049976983936,
          0.2885457327515931,
          0.28934027571275145,
          0.2849204661637462,
          0.2922426066382872,
          0.29761696331226023,
          0.30897281504581836,
          0.3152690817055278,
          0.3213673683752419,
          0.3225051715967522,
          0.3207012142277289,
          0.3190170859250149,
          0.3044217113630759,
          0.3128244370449169,
          0.3111746237811902,
          0.3124967049563799,
          0.3127780801856338,
          0.3115151465764606,
          0.31128432031873643,
          0.3106873712919326,
          0.3085748943293037,
          0.29261050890887985,
          0.2906967273885347,
          0.29180453669288803,
          0.2967690667899334,
          0.3018782225491641,
          0.30133368751248507,
          0.29516189851588676,
          0.2969730804621618,
          0.29513798955822773,
          0.2948689188273635,
          0.2979224273408407,
          0.2963849709963916,
          0.29701171097890977,
          0.2947244504915365,
          0.28960718444461603,
          0.2883479119942863,
          0.2871609772389961,
          0.2779644848939666,
          0.2783202530594771,
          0.276759139040011,
          0.2692202265806902,
          0.2782487113929746,
          0.27707564345541946,
          0.280679815212037,
          0.275046269542926,
          0.2703698882372906,
          0.2658301509845887,
          0.2627594106444655,
          0.2596371401624745,
          0.25585061529257397,
          0.25990492387770875,
          0.2647973316067149,
          0.2784253416420961,
          0.2617348168710024,
          0.2297230136101668,
          0.22625162013398353,
          0.22764284516984445,
          0.22252850567646193,
          0.22694400333930634,
          0.2151440644308708,
          0.2166409300440252,
          0.22041669673119677,
          0.21909149521598406,
          0.21908118434622695,
          0.22674715892785244,
          0.2422155580080389
         ],
         "yaxis": "y"
        },
        {
         "fillpattern": {
          "shape": ""
         },
         "hovertemplate": "party=SPD<br>date=%{x}<br>relative_saliency=%{y}<extra></extra>",
         "legendgroup": "SPD",
         "line": {
          "color": "#e03427"
         },
         "marker": {
          "symbol": "circle"
         },
         "mode": "lines",
         "name": "SPD",
         "orientation": "v",
         "showlegend": true,
         "stackgroup": "1",
         "type": "scatter",
         "x": [
          "2018-05-15",
          "2018-05-16",
          "2018-05-17",
          "2018-05-18",
          "2018-06-06",
          "2018-06-07",
          "2018-06-08",
          "2018-06-13",
          "2018-06-14",
          "2018-06-15",
          "2018-06-27",
          "2018-06-28",
          "2018-06-29",
          "2018-07-03",
          "2018-07-04",
          "2018-07-05",
          "2018-09-11",
          "2018-09-12",
          "2018-09-13",
          "2018-09-14",
          "2018-09-26",
          "2018-09-27",
          "2018-09-28",
          "2018-10-10",
          "2018-10-11",
          "2018-10-12",
          "2018-10-17",
          "2018-10-18",
          "2018-10-19",
          "2018-11-07",
          "2018-11-08",
          "2018-11-09",
          "2018-11-20",
          "2018-11-21",
          "2018-11-22",
          "2018-11-23",
          "2018-11-28",
          "2018-11-29",
          "2018-11-30",
          "2018-12-12",
          "2018-12-13",
          "2018-12-14",
          "2019-01-16",
          "2019-01-17",
          "2019-01-18",
          "2019-01-30",
          "2019-01-31",
          "2019-02-01",
          "2019-02-13",
          "2019-02-14",
          "2019-02-15",
          "2019-02-20",
          "2019-02-21",
          "2019-02-22",
          "2019-03-13",
          "2019-03-14",
          "2019-03-15",
          "2019-03-20",
          "2019-03-21",
          "2019-03-22",
          "2019-04-03",
          "2019-04-04",
          "2019-04-05",
          "2019-04-10",
          "2019-04-11",
          "2019-04-12",
          "2019-05-08",
          "2019-05-09",
          "2019-05-10",
          "2019-05-15",
          "2019-05-16",
          "2019-05-17",
          "2019-06-05",
          "2019-06-06",
          "2019-06-07",
          "2019-06-26",
          "2019-06-27",
          "2019-06-28",
          "2019-07-24",
          "2019-09-10",
          "2019-09-11",
          "2019-09-12",
          "2019-09-13",
          "2019-09-25",
          "2019-09-26",
          "2019-09-27",
          "2019-10-16",
          "2019-10-17",
          "2019-10-18",
          "2019-10-23",
          "2019-10-24",
          "2019-10-25",
          "2019-11-06",
          "2019-11-07",
          "2019-11-08",
          "2019-11-13",
          "2019-11-14",
          "2019-11-15",
          "2019-11-26",
          "2019-11-27",
          "2019-11-28",
          "2019-11-29",
          "2019-12-11",
          "2019-12-12",
          "2019-12-13",
          "2019-12-18",
          "2019-12-19",
          "2019-12-20",
          "2020-01-15",
          "2020-01-16",
          "2020-01-17",
          "2020-01-29",
          "2020-01-30",
          "2020-01-31",
          "2020-02-12",
          "2020-02-13",
          "2020-02-14",
          "2020-03-04",
          "2020-03-05",
          "2020-03-06",
          "2020-03-11",
          "2020-03-12",
          "2020-03-13",
          "2020-03-25",
          "2020-04-22",
          "2020-04-23",
          "2020-05-06",
          "2020-05-07",
          "2020-05-13",
          "2020-05-14",
          "2020-05-15",
          "2020-05-27",
          "2020-05-28",
          "2020-05-29",
          "2020-06-17",
          "2020-06-18",
          "2020-06-19",
          "2020-06-29",
          "2020-07-01",
          "2020-07-02",
          "2020-07-03",
          "2020-09-09",
          "2020-09-10",
          "2020-09-11",
          "2020-09-16",
          "2020-09-17",
          "2020-09-18",
          "2020-09-29",
          "2020-09-30",
          "2020-10-01",
          "2020-10-02",
          "2020-10-07",
          "2020-10-08",
          "2020-10-09",
          "2020-10-28",
          "2020-10-29",
          "2020-10-30",
          "2020-11-04",
          "2020-11-05",
          "2020-11-06",
          "2020-11-18",
          "2020-11-19",
          "2020-11-20",
          "2020-11-25",
          "2020-11-26",
          "2020-11-27",
          "2020-12-08",
          "2020-12-09",
          "2020-12-10",
          "2020-12-11",
          "2020-12-16",
          "2020-12-17",
          "2021-01-13",
          "2021-01-14",
          "2021-01-27",
          "2021-01-28",
          "2021-01-29",
          "2021-02-10",
          "2021-02-11",
          "2021-02-12",
          "2021-02-24",
          "2021-02-25",
          "2021-02-26",
          "2021-03-03",
          "2021-03-04",
          "2021-03-05",
          "2021-03-24",
          "2021-03-25",
          "2021-03-26",
          "2021-04-13",
          "2021-04-15",
          "2021-04-16",
          "2021-04-21",
          "2021-04-22",
          "2021-04-23",
          "2021-05-05",
          "2021-05-06",
          "2021-05-07",
          "2021-05-19",
          "2021-05-20",
          "2021-05-21",
          "2021-06-09",
          "2021-06-10",
          "2021-06-11",
          "2021-06-23",
          "2021-06-24",
          "2021-06-25",
          "2021-08-25",
          "2021-09-07"
         ],
         "xaxis": "x",
         "y": [
          0.1508251936053717,
          0.12062373330137413,
          0.1257524836220518,
          0.12666638571240163,
          0.1286385361110188,
          0.1269835677779738,
          0.14040716885096577,
          0.13645623163032025,
          0.1357392283675823,
          0.1384248107375951,
          0.1382342156297229,
          0.13522783276361686,
          0.13690974305078804,
          0.13757922872968487,
          0.1397633242498275,
          0.138326228181412,
          0.13496589481876914,
          0.13556430662980254,
          0.1358180360262827,
          0.13536453009438718,
          0.13331505984291145,
          0.13571615761289937,
          0.1363091796423384,
          0.1493314820459081,
          0.14922068639424232,
          0.14871856414199655,
          0.14444754452234493,
          0.13745610025889354,
          0.13682915602242746,
          0.13549715263931716,
          0.1438092302729462,
          0.14617311370643152,
          0.14438793291877977,
          0.14279517422016286,
          0.14409185125864013,
          0.1463317737403404,
          0.14081579545062606,
          0.14552882823019317,
          0.14380295790348024,
          0.16420661533561232,
          0.14191190293530356,
          0.14065795783278645,
          0.16219366381167377,
          0.14147991986961903,
          0.13723908597984985,
          0.13221611070549044,
          0.1325925774672761,
          0.13268541018711996,
          0.14404713570657657,
          0.14558861626876593,
          0.14745042586302703,
          0.14014956989207278,
          0.13863864017069286,
          0.11285431502871048,
          0.11232510068166833,
          0.11964882780748322,
          0.12862833528881631,
          0.12387261477711936,
          0.1253886556459178,
          0.12800324851886594,
          0.1432819371580119,
          0.1230817132291578,
          0.11679466877654458,
          0.11826202118821966,
          0.11715156047902249,
          0.11729674362012472,
          0.14490508897852955,
          0.1339070818076128,
          0.1325668968980157,
          0.13541985094417672,
          0.13598787811713983,
          0.14311575923512054,
          0.16426069014504124,
          0.16364479931930836,
          0.16580023388522594,
          0.17222909255648608,
          0.17423021347504292,
          0.1715706295062073,
          0.1690511955198755,
          0.16259063346452587,
          0.15958542272567897,
          0.16291654609612222,
          0.1590745337846503,
          0.16385020718281007,
          0.16315889443618814,
          0.16119708011756526,
          0.1585019209306803,
          0.15643707317433542,
          0.15905614223397965,
          0.15948924981458226,
          0.1588121364880117,
          0.15792199988941727,
          0.17848202370266963,
          0.15750247398413666,
          0.15781800198852428,
          0.1590368255435437,
          0.15294245433365705,
          0.15662884940613112,
          0.1550712844228507,
          0.15437256971431162,
          0.154208037535989,
          0.15298511589464364,
          0.13646910299755421,
          0.1391057210414029,
          0.1393857889626072,
          0.13785469570712175,
          0.13638122247960477,
          0.13578552123965623,
          0.13431882377552412,
          0.13512229236119866,
          0.13434847006297201,
          0.134313236025628,
          0.14142420343011197,
          0.1390584401168898,
          0.13914813206377735,
          0.14107811295971837,
          0.1434278070975287,
          0.14498308075155517,
          0.1453410096525208,
          0.1488719036046974,
          0.15061746360779948,
          0.15069547926742272,
          0.15398936612690595,
          0.1543127137217037,
          0.15311738805977573,
          0.14836693147978422,
          0.1538451186003966,
          0.14639030918841175,
          0.15441785899428112,
          0.15606314380396852,
          0.15500842629490788,
          0.15881419400589186,
          0.1591241515715799,
          0.15747373391214764,
          0.15924175820677175,
          0.1617010636882027,
          0.1652987292543965,
          0.1662888331937953,
          0.16221431588657917,
          0.1605444811870086,
          0.16415710687462196,
          0.1600013350563382,
          0.15382102366719463,
          0.14947121500611965,
          0.13797462353501078,
          0.1392674960448229,
          0.13867412463330925,
          0.13538608116846362,
          0.13119962003270363,
          0.12838078673614634,
          0.1264861662672854,
          0.12247696662991518,
          0.1210981229016945,
          0.12073019118086369,
          0.12439027419647052,
          0.12709416381338182,
          0.12380833115872415,
          0.12551054473860385,
          0.12267386170410284,
          0.12279994386351063,
          0.12301471716818187,
          0.12038605217022072,
          0.11962491131064279,
          0.11206700700457085,
          0.11236301679119544,
          0.1099810462080138,
          0.11192517010457015,
          0.10869960918810866,
          0.11204786421897966,
          0.11208348617563389,
          0.11165226951958544,
          0.11371699924103167,
          0.1150426954775626,
          0.11540502216585787,
          0.12689066184587233,
          0.1268831347215506,
          0.12676332840660798,
          0.12928903720790963,
          0.13423821102183525,
          0.1310104375508648,
          0.1306388057319747,
          0.13264042716445523,
          0.1342166650373214,
          0.13349375313869447,
          0.13115576039263457,
          0.13266061526752054,
          0.12884775370441476,
          0.12554196913506357,
          0.13044274096752137,
          0.128887521255586,
          0.12892376877120768,
          0.12701052773567922,
          0.12938701599977476,
          0.1396371824683539,
          0.13837142525049814,
          0.13323353510708244,
          0.13504544843324162,
          0.12816123359246412,
          0.12860944844395178,
          0.13720891766469734,
          0.1379174854264002,
          0.13594695075330473,
          0.13062203605792358,
          0.13174903161686005,
          0.12212900865678682,
          0.1227152137841601,
          0.1212636779825861,
          0.11585169899362374,
          0.10429380694812324
         ],
         "yaxis": "y"
        }
       ],
       "layout": {
        "autosize": true,
        "legend": {
         "title": {
          "text": "party"
         },
         "tracegroupgap": 0
        },
        "template": {
         "data": {
          "bar": [
           {
            "error_x": {
             "color": "#2a3f5f"
            },
            "error_y": {
             "color": "#2a3f5f"
            },
            "marker": {
             "line": {
              "color": "#E5ECF6",
              "width": 0.5
             },
             "pattern": {
              "fillmode": "overlay",
              "size": 10,
              "solidity": 0.2
             }
            },
            "type": "bar"
           }
          ],
          "barpolar": [
           {
            "marker": {
             "line": {
              "color": "#E5ECF6",
              "width": 0.5
             },
             "pattern": {
              "fillmode": "overlay",
              "size": 10,
              "solidity": 0.2
             }
            },
            "type": "barpolar"
           }
          ],
          "carpet": [
           {
            "aaxis": {
             "endlinecolor": "#2a3f5f",
             "gridcolor": "white",
             "linecolor": "white",
             "minorgridcolor": "white",
             "startlinecolor": "#2a3f5f"
            },
            "baxis": {
             "endlinecolor": "#2a3f5f",
             "gridcolor": "white",
             "linecolor": "white",
             "minorgridcolor": "white",
             "startlinecolor": "#2a3f5f"
            },
            "type": "carpet"
           }
          ],
          "choropleth": [
           {
            "colorbar": {
             "outlinewidth": 0,
             "ticks": ""
            },
            "type": "choropleth"
           }
          ],
          "contour": [
           {
            "colorbar": {
             "outlinewidth": 0,
             "ticks": ""
            },
            "colorscale": [
             [
              0,
              "#0d0887"
             ],
             [
              0.1111111111111111,
              "#46039f"
             ],
             [
              0.2222222222222222,
              "#7201a8"
             ],
             [
              0.3333333333333333,
              "#9c179e"
             ],
             [
              0.4444444444444444,
              "#bd3786"
             ],
             [
              0.5555555555555556,
              "#d8576b"
             ],
             [
              0.6666666666666666,
              "#ed7953"
             ],
             [
              0.7777777777777778,
              "#fb9f3a"
             ],
             [
              0.8888888888888888,
              "#fdca26"
             ],
             [
              1,
              "#f0f921"
             ]
            ],
            "type": "contour"
           }
          ],
          "contourcarpet": [
           {
            "colorbar": {
             "outlinewidth": 0,
             "ticks": ""
            },
            "type": "contourcarpet"
           }
          ],
          "heatmap": [
           {
            "colorbar": {
             "outlinewidth": 0,
             "ticks": ""
            },
            "colorscale": [
             [
              0,
              "#0d0887"
             ],
             [
              0.1111111111111111,
              "#46039f"
             ],
             [
              0.2222222222222222,
              "#7201a8"
             ],
             [
              0.3333333333333333,
              "#9c179e"
             ],
             [
              0.4444444444444444,
              "#bd3786"
             ],
             [
              0.5555555555555556,
              "#d8576b"
             ],
             [
              0.6666666666666666,
              "#ed7953"
             ],
             [
              0.7777777777777778,
              "#fb9f3a"
             ],
             [
              0.8888888888888888,
              "#fdca26"
             ],
             [
              1,
              "#f0f921"
             ]
            ],
            "type": "heatmap"
           }
          ],
          "heatmapgl": [
           {
            "colorbar": {
             "outlinewidth": 0,
             "ticks": ""
            },
            "colorscale": [
             [
              0,
              "#0d0887"
             ],
             [
              0.1111111111111111,
              "#46039f"
             ],
             [
              0.2222222222222222,
              "#7201a8"
             ],
             [
              0.3333333333333333,
              "#9c179e"
             ],
             [
              0.4444444444444444,
              "#bd3786"
             ],
             [
              0.5555555555555556,
              "#d8576b"
             ],
             [
              0.6666666666666666,
              "#ed7953"
             ],
             [
              0.7777777777777778,
              "#fb9f3a"
             ],
             [
              0.8888888888888888,
              "#fdca26"
             ],
             [
              1,
              "#f0f921"
             ]
            ],
            "type": "heatmapgl"
           }
          ],
          "histogram": [
           {
            "marker": {
             "pattern": {
              "fillmode": "overlay",
              "size": 10,
              "solidity": 0.2
             }
            },
            "type": "histogram"
           }
          ],
          "histogram2d": [
           {
            "colorbar": {
             "outlinewidth": 0,
             "ticks": ""
            },
            "colorscale": [
             [
              0,
              "#0d0887"
             ],
             [
              0.1111111111111111,
              "#46039f"
             ],
             [
              0.2222222222222222,
              "#7201a8"
             ],
             [
              0.3333333333333333,
              "#9c179e"
             ],
             [
              0.4444444444444444,
              "#bd3786"
             ],
             [
              0.5555555555555556,
              "#d8576b"
             ],
             [
              0.6666666666666666,
              "#ed7953"
             ],
             [
              0.7777777777777778,
              "#fb9f3a"
             ],
             [
              0.8888888888888888,
              "#fdca26"
             ],
             [
              1,
              "#f0f921"
             ]
            ],
            "type": "histogram2d"
           }
          ],
          "histogram2dcontour": [
           {
            "colorbar": {
             "outlinewidth": 0,
             "ticks": ""
            },
            "colorscale": [
             [
              0,
              "#0d0887"
             ],
             [
              0.1111111111111111,
              "#46039f"
             ],
             [
              0.2222222222222222,
              "#7201a8"
             ],
             [
              0.3333333333333333,
              "#9c179e"
             ],
             [
              0.4444444444444444,
              "#bd3786"
             ],
             [
              0.5555555555555556,
              "#d8576b"
             ],
             [
              0.6666666666666666,
              "#ed7953"
             ],
             [
              0.7777777777777778,
              "#fb9f3a"
             ],
             [
              0.8888888888888888,
              "#fdca26"
             ],
             [
              1,
              "#f0f921"
             ]
            ],
            "type": "histogram2dcontour"
           }
          ],
          "mesh3d": [
           {
            "colorbar": {
             "outlinewidth": 0,
             "ticks": ""
            },
            "type": "mesh3d"
           }
          ],
          "parcoords": [
           {
            "line": {
             "colorbar": {
              "outlinewidth": 0,
              "ticks": ""
             }
            },
            "type": "parcoords"
           }
          ],
          "pie": [
           {
            "automargin": true,
            "type": "pie"
           }
          ],
          "scatter": [
           {
            "fillpattern": {
             "fillmode": "overlay",
             "size": 10,
             "solidity": 0.2
            },
            "type": "scatter"
           }
          ],
          "scatter3d": [
           {
            "line": {
             "colorbar": {
              "outlinewidth": 0,
              "ticks": ""
             }
            },
            "marker": {
             "colorbar": {
              "outlinewidth": 0,
              "ticks": ""
             }
            },
            "type": "scatter3d"
           }
          ],
          "scattercarpet": [
           {
            "marker": {
             "colorbar": {
              "outlinewidth": 0,
              "ticks": ""
             }
            },
            "type": "scattercarpet"
           }
          ],
          "scattergeo": [
           {
            "marker": {
             "colorbar": {
              "outlinewidth": 0,
              "ticks": ""
             }
            },
            "type": "scattergeo"
           }
          ],
          "scattergl": [
           {
            "marker": {
             "colorbar": {
              "outlinewidth": 0,
              "ticks": ""
             }
            },
            "type": "scattergl"
           }
          ],
          "scattermapbox": [
           {
            "marker": {
             "colorbar": {
              "outlinewidth": 0,
              "ticks": ""
             }
            },
            "type": "scattermapbox"
           }
          ],
          "scatterpolar": [
           {
            "marker": {
             "colorbar": {
              "outlinewidth": 0,
              "ticks": ""
             }
            },
            "type": "scatterpolar"
           }
          ],
          "scatterpolargl": [
           {
            "marker": {
             "colorbar": {
              "outlinewidth": 0,
              "ticks": ""
             }
            },
            "type": "scatterpolargl"
           }
          ],
          "scatterternary": [
           {
            "marker": {
             "colorbar": {
              "outlinewidth": 0,
              "ticks": ""
             }
            },
            "type": "scatterternary"
           }
          ],
          "surface": [
           {
            "colorbar": {
             "outlinewidth": 0,
             "ticks": ""
            },
            "colorscale": [
             [
              0,
              "#0d0887"
             ],
             [
              0.1111111111111111,
              "#46039f"
             ],
             [
              0.2222222222222222,
              "#7201a8"
             ],
             [
              0.3333333333333333,
              "#9c179e"
             ],
             [
              0.4444444444444444,
              "#bd3786"
             ],
             [
              0.5555555555555556,
              "#d8576b"
             ],
             [
              0.6666666666666666,
              "#ed7953"
             ],
             [
              0.7777777777777778,
              "#fb9f3a"
             ],
             [
              0.8888888888888888,
              "#fdca26"
             ],
             [
              1,
              "#f0f921"
             ]
            ],
            "type": "surface"
           }
          ],
          "table": [
           {
            "cells": {
             "fill": {
              "color": "#EBF0F8"
             },
             "line": {
              "color": "white"
             }
            },
            "header": {
             "fill": {
              "color": "#C8D4E3"
             },
             "line": {
              "color": "white"
             }
            },
            "type": "table"
           }
          ]
         },
         "layout": {
          "annotationdefaults": {
           "arrowcolor": "#2a3f5f",
           "arrowhead": 0,
           "arrowwidth": 1
          },
          "autotypenumbers": "strict",
          "coloraxis": {
           "colorbar": {
            "outlinewidth": 0,
            "ticks": ""
           }
          },
          "colorscale": {
           "diverging": [
            [
             0,
             "#8e0152"
            ],
            [
             0.1,
             "#c51b7d"
            ],
            [
             0.2,
             "#de77ae"
            ],
            [
             0.3,
             "#f1b6da"
            ],
            [
             0.4,
             "#fde0ef"
            ],
            [
             0.5,
             "#f7f7f7"
            ],
            [
             0.6,
             "#e6f5d0"
            ],
            [
             0.7,
             "#b8e186"
            ],
            [
             0.8,
             "#7fbc41"
            ],
            [
             0.9,
             "#4d9221"
            ],
            [
             1,
             "#276419"
            ]
           ],
           "sequential": [
            [
             0,
             "#0d0887"
            ],
            [
             0.1111111111111111,
             "#46039f"
            ],
            [
             0.2222222222222222,
             "#7201a8"
            ],
            [
             0.3333333333333333,
             "#9c179e"
            ],
            [
             0.4444444444444444,
             "#bd3786"
            ],
            [
             0.5555555555555556,
             "#d8576b"
            ],
            [
             0.6666666666666666,
             "#ed7953"
            ],
            [
             0.7777777777777778,
             "#fb9f3a"
            ],
            [
             0.8888888888888888,
             "#fdca26"
            ],
            [
             1,
             "#f0f921"
            ]
           ],
           "sequentialminus": [
            [
             0,
             "#0d0887"
            ],
            [
             0.1111111111111111,
             "#46039f"
            ],
            [
             0.2222222222222222,
             "#7201a8"
            ],
            [
             0.3333333333333333,
             "#9c179e"
            ],
            [
             0.4444444444444444,
             "#bd3786"
            ],
            [
             0.5555555555555556,
             "#d8576b"
            ],
            [
             0.6666666666666666,
             "#ed7953"
            ],
            [
             0.7777777777777778,
             "#fb9f3a"
            ],
            [
             0.8888888888888888,
             "#fdca26"
            ],
            [
             1,
             "#f0f921"
            ]
           ]
          },
          "colorway": [
           "#636efa",
           "#EF553B",
           "#00cc96",
           "#ab63fa",
           "#FFA15A",
           "#19d3f3",
           "#FF6692",
           "#B6E880",
           "#FF97FF",
           "#FECB52"
          ],
          "font": {
           "color": "#2a3f5f"
          },
          "geo": {
           "bgcolor": "white",
           "lakecolor": "white",
           "landcolor": "#E5ECF6",
           "showlakes": true,
           "showland": true,
           "subunitcolor": "white"
          },
          "hoverlabel": {
           "align": "left"
          },
          "hovermode": "closest",
          "mapbox": {
           "style": "light"
          },
          "paper_bgcolor": "white",
          "plot_bgcolor": "#E5ECF6",
          "polar": {
           "angularaxis": {
            "gridcolor": "white",
            "linecolor": "white",
            "ticks": ""
           },
           "bgcolor": "#E5ECF6",
           "radialaxis": {
            "gridcolor": "white",
            "linecolor": "white",
            "ticks": ""
           }
          },
          "scene": {
           "xaxis": {
            "backgroundcolor": "#E5ECF6",
            "gridcolor": "white",
            "gridwidth": 2,
            "linecolor": "white",
            "showbackground": true,
            "ticks": "",
            "zerolinecolor": "white"
           },
           "yaxis": {
            "backgroundcolor": "#E5ECF6",
            "gridcolor": "white",
            "gridwidth": 2,
            "linecolor": "white",
            "showbackground": true,
            "ticks": "",
            "zerolinecolor": "white"
           },
           "zaxis": {
            "backgroundcolor": "#E5ECF6",
            "gridcolor": "white",
            "gridwidth": 2,
            "linecolor": "white",
            "showbackground": true,
            "ticks": "",
            "zerolinecolor": "white"
           }
          },
          "shapedefaults": {
           "line": {
            "color": "#2a3f5f"
           }
          },
          "ternary": {
           "aaxis": {
            "gridcolor": "white",
            "linecolor": "white",
            "ticks": ""
           },
           "baxis": {
            "gridcolor": "white",
            "linecolor": "white",
            "ticks": ""
           },
           "bgcolor": "#E5ECF6",
           "caxis": {
            "gridcolor": "white",
            "linecolor": "white",
            "ticks": ""
           }
          },
          "title": {
           "x": 0.05
          },
          "xaxis": {
           "automargin": true,
           "gridcolor": "white",
           "linecolor": "white",
           "ticks": "",
           "title": {
            "standoff": 15
           },
           "zerolinecolor": "white",
           "zerolinewidth": 2
          },
          "yaxis": {
           "automargin": true,
           "gridcolor": "white",
           "linecolor": "white",
           "ticks": "",
           "title": {
            "standoff": 15
           },
           "zerolinecolor": "white",
           "zerolinewidth": 2
          }
         }
        },
        "title": {
         "text": "Relative Saliency of Climate by party over time"
        },
        "xaxis": {
         "anchor": "y",
         "autorange": true,
         "domain": [
          0,
          1
         ],
         "range": [
          "2018-05-15",
          "2021-09-07"
         ],
         "title": {
          "text": "date"
         },
         "type": "date"
        },
        "yaxis": {
         "anchor": "x",
         "domain": [
          0,
          1
         ],
         "range": [
          0,
          1
         ],
         "title": {
          "text": "relative_saliency"
         },
         "type": "linear"
        }
       }
      },
      "image/png": "[encoded data removed]",
      "text/html": [
       "<div>                            <div id=\"5d45c888-261c-454f-ba56-de8d61c26571\" class=\"plotly-graph-div\" style=\"height:525px; width:100%;\"></div>            <script type=\"text/javascript\">                require([\"plotly\"], function(Plotly) {                    window.PLOTLYENV=window.PLOTLYENV || {};                                    if (document.getElementById(\"5d45c888-261c-454f-ba56-de8d61c26571\")) {                    Plotly.newPlot(                        \"5d45c888-261c-454f-ba56-de8d61c26571\",                        [{\"fillpattern\":{\"shape\":\"\"},\"hovertemplate\":\"party=AfD\\u003cbr\\u003edate=%{x}\\u003cbr\\u003erelative_saliency=%{y}\\u003cextra\\u003e\\u003c\\u002fextra\\u003e\",\"legendgroup\":\"AfD\",\"line\":{\"color\":\"#59dcff\"},\"marker\":{\"symbol\":\"circle\"},\"mode\":\"lines\",\"name\":\"AfD\",\"orientation\":\"v\",\"showlegend\":true,\"stackgroup\":\"1\",\"x\":[\"2018-05-15\",\"2018-05-16\",\"2018-05-17\",\"2018-05-18\",\"2018-06-06\",\"2018-06-07\",\"2018-06-08\",\"2018-06-13\",\"2018-06-14\",\"2018-06-15\",\"2018-06-27\",\"2018-06-28\",\"2018-06-29\",\"2018-07-03\",\"2018-07-04\",\"2018-07-05\",\"2018-09-11\",\"2018-09-12\",\"2018-09-13\",\"2018-09-14\",\"2018-09-26\",\"2018-09-27\",\"2018-09-28\",\"2018-10-10\",\"2018-10-11\",\"2018-10-12\",\"2018-10-17\",\"2018-10-18\",\"2018-10-19\",\"2018-11-07\",\"2018-11-08\",\"2018-11-09\",\"2018-11-20\",\"2018-11-21\",\"2018-11-22\",\"2018-11-23\",\"2018-11-28\",\"2018-11-29\",\"2018-11-30\",\"2018-12-12\",\"2018-12-13\",\"2018-12-14\",\"2019-01-16\",\"2019-01-17\",\"2019-01-18\",\"2019-01-30\",\"2019-01-31\",\"2019-02-01\",\"2019-02-13\",\"2019-02-14\",\"2019-02-15\",\"2019-02-20\",\"2019-02-21\",\"2019-02-22\",\"2019-03-13\",\"2019-03-14\",\"2019-03-15\",\"2019-03-20\",\"2019-03-21\",\"2019-03-22\",\"2019-04-03\",\"2019-04-04\",\"2019-04-05\",\"2019-04-10\",\"2019-04-11\",\"2019-04-12\",\"2019-05-08\",\"2019-05-09\",\"2019-05-10\",\"2019-05-15\",\"2019-05-16\",\"2019-05-17\",\"2019-06-05\",\"2019-06-06\",\"2019-06-07\",\"2019-06-26\",\"2019-06-27\",\"2019-06-28\",\"2019-07-24\",\"2019-09-10\",\"2019-09-11\",\"2019-09-12\",\"2019-09-13\",\"2019-09-25\",\"2019-09-26\",\"2019-09-27\",\"2019-10-16\",\"2019-10-17\",\"2019-10-18\",\"2019-10-23\",\"2019-10-24\",\"2019-10-25\",\"2019-11-06\",\"2019-11-07\",\"2019-11-08\",\"2019-11-13\",\"2019-11-14\",\"2019-11-15\",\"2019-11-26\",\"2019-11-27\",\"2019-11-28\",\"2019-11-29\",\"2019-12-11\",\"2019-12-12\",\"2019-12-13\",\"2019-12-18\",\"2019-12-19\",\"2019-12-20\",\"2020-01-15\",\"2020-01-16\",\"2020-01-17\",\"2020-01-29\",\"2020-01-30\",\"2020-01-31\",\"2020-02-12\",\"2020-02-13\",\"2020-02-14\",\"2020-03-04\",\"2020-03-05\",\"2020-03-06\",\"2020-03-11\",\"2020-03-12\",\"2020-03-13\",\"2020-03-25\",\"2020-04-22\",\"2020-04-23\",\"2020-05-06\",\"2020-05-07\",\"2020-05-13\",\"2020-05-14\",\"2020-05-15\",\"2020-05-27\",\"2020-05-28\",\"2020-05-29\",\"2020-06-17\",\"2020-06-18\",\"2020-06-19\",\"2020-06-29\",\"2020-07-01\",\"2020-07-02\",\"2020-07-03\",\"2020-09-09\",\"2020-09-10\",\"2020-09-11\",\"2020-09-16\",\"2020-09-17\",\"2020-09-18\",\"2020-09-29\",\"2020-09-30\",\"2020-10-01\",\"2020-10-02\",\"2020-10-07\",\"2020-10-08\",\"2020-10-09\",\"2020-10-28\",\"2020-10-29\",\"2020-10-30\",\"2020-11-04\",\"2020-11-05\",\"2020-11-06\",\"2020-11-18\",\"2020-11-19\",\"2020-11-20\",\"2020-11-25\",\"2020-11-26\",\"2020-11-27\",\"2020-12-08\",\"2020-12-09\",\"2020-12-10\",\"2020-12-11\",\"2020-12-16\",\"2020-12-17\",\"2021-01-13\",\"2021-01-14\",\"2021-01-27\",\"2021-01-28\",\"2021-01-29\",\"2021-02-10\",\"2021-02-11\",\"2021-02-12\",\"2021-02-24\",\"2021-02-25\",\"2021-02-26\",\"2021-03-03\",\"2021-03-04\",\"2021-03-05\",\"2021-03-24\",\"2021-03-25\",\"2021-03-26\",\"2021-04-13\",\"2021-04-15\",\"2021-04-16\",\"2021-04-21\",\"2021-04-22\",\"2021-04-23\",\"2021-05-05\",\"2021-05-06\",\"2021-05-07\",\"2021-05-19\",\"2021-05-20\",\"2021-05-21\",\"2021-06-09\",\"2021-06-10\",\"2021-06-11\",\"2021-06-23\",\"2021-06-24\",\"2021-06-25\",\"2021-08-25\",\"2021-09-07\"],\"xaxis\":\"x\",\"y\":[0.11528799462155867,0.09253514879168874,0.08589634090770977,0.08652058977538934,0.08033098340041557,0.0802668767108029,0.08396378314358753,0.09304465107909891,0.09209317233426484,0.09155472296142947,0.09142866259547296,0.0928602998716202,0.09646232827223909,0.1026145377302282,0.10519918748620076,0.10256424642290565,0.0990461113925371,0.09826472993453263,0.09922296015366065,0.09889164774238995,0.1067100844486754,0.1069873815867478,0.10886992823528602,0.09504383153057633,0.095715258660615,0.09623085729665007,0.09346722195696605,0.09329280018529824,0.09394566261670688,0.09783768026097522,0.10145286259904847,0.10376452666452367,0.10319794772500505,0.10283531743964479,0.10753789576589591,0.11088208253597003,0.11116244704235845,0.10295102049755699,0.10794156536424085,0.1258596939531724,0.10877143186493787,0.10572578670885044,0.12063938831214088,0.0990934570770797,0.10595286171987914,0.1031706810415156,0.1010363898599012,0.10193520466717967,0.10063590157666331,0.1033323324899626,0.09658126326564563,0.09454642125630192,0.09271018207434391,0.10191193327875628,0.10612339023275319,0.11019188691089578,0.11610174923667992,0.11163420405218988,0.11071423122061687,0.10516580557633153,0.12124033794822538,0.10372365465407427,0.0986971849280741,0.09881216551420698,0.09752413162187573,0.0950222910775971,0.11197748627955449,0.09828609292867173,0.09247016125435702,0.08989862682059674,0.08927364678795553,0.09040266971768905,0.081690431159488,0.08179769952734034,0.07191399983157425,0.07556385629044082,0.07799555013267963,0.07691010016755775,0.07620805730121559,0.07986644768758698,0.07669862415391074,0.07711240473347193,0.07887339059530099,0.07964190431801095,0.0750466953540031,0.0755544893894499,0.07537126935820691,0.07155411093859863,0.07310307164479603,0.07264305680265351,0.07233464992318621,0.07425307285936464,0.09008813488961469,0.07966474876711514,0.0786892284641744,0.07585859410223916,0.0735092870790687,0.07532973892715465,0.0785219828344132,0.08442469451444937,0.08513541173634481,0.08620409011795746,0.09082275330422977,0.09323210134251346,0.0927655989426743,0.09252053241509389,0.09269067566742883,0.0931802244440488,0.09570830282438561,0.09344576693129102,0.09157786209542092,0.09060329292015293,0.08932957560280007,0.09264890296424594,0.09252966692011153,0.09423700868126922,0.09294721743443966,0.09939329145850394,0.10028878028653773,0.10238361855562983,0.102571634038454,0.10006041211542811,0.09463555723642637,0.094762764408979,0.09492761036040699,0.10042625653595072,0.10149806491915321,0.09740205190846987,0.09530434783697042,0.08717157700117696,0.08586772148986352,0.08506458590165729,0.08481115485919026,0.08507502681632317,0.08584187250259713,0.087743821865353,0.08635060100562383,0.08686782258748817,0.08473933061496702,0.080817791726465,0.08168578644139729,0.08832571361954468,0.0878154231718714,0.0849571868989822,0.0809065210606987,0.08256930061507381,0.08155025093676867,0.07384591344325943,0.07251571780632347,0.07001150865890261,0.0687875450843716,0.06863127627800396,0.06944539183713361,0.06873267918955434,0.07342199612094763,0.07075209058977096,0.06998993673913757,0.06967737172875096,0.06792456856909689,0.06891104590271105,0.06903156919116896,0.06880726742766817,0.06871129132079026,0.06769785248809893,0.06824161583008098,0.06546834948729298,0.07319068348257614,0.07379395159221855,0.0745210521468351,0.07401601630951778,0.07475440932975799,0.0730330193399021,0.0733441167305375,0.07168985707471624,0.07824114170749642,0.07956141057995744,0.07882951166207902,0.08337963496251205,0.08398527897820561,0.08667866122966104,0.08901326132762373,0.08732393592551274,0.08772395020293183,0.08841848215775389,0.08376229272726504,0.080311808204534,0.07892950577490628,0.08125682676177191,0.08084486603913671,0.08188715493255566,0.08332418775582082,0.08450306071128466,0.0863797266393382,0.08048562926876546,0.0799702957431983,0.0790807151618343,0.0684006690310819,0.0690985869777534,0.07946481162405679,0.08680086965295514,0.08338812704035645,0.08331645254122035,0.08103334011579591,0.08008966155740907,0.07572426832322544,0.07172064995226428,0.07127544579966998,0.07422339677720627,0.07773713005655675],\"yaxis\":\"y\",\"type\":\"scatter\"},{\"fillpattern\":{\"shape\":\"\"},\"hovertemplate\":\"party=CDU\\u003cbr\\u003edate=%{x}\\u003cbr\\u003erelative_saliency=%{y}\\u003cextra\\u003e\\u003c\\u002fextra\\u003e\",\"legendgroup\":\"CDU\",\"line\":{\"color\":\"black\"},\"marker\":{\"symbol\":\"circle\"},\"mode\":\"lines\",\"name\":\"CDU\",\"orientation\":\"v\",\"showlegend\":true,\"stackgroup\":\"1\",\"x\":[\"2018-05-15\",\"2018-05-16\",\"2018-05-17\",\"2018-05-18\",\"2018-06-06\",\"2018-06-07\",\"2018-06-08\",\"2018-06-13\",\"2018-06-14\",\"2018-06-15\",\"2018-06-27\",\"2018-06-28\",\"2018-06-29\",\"2018-07-03\",\"2018-07-04\",\"2018-07-05\",\"2018-09-11\",\"2018-09-12\",\"2018-09-13\",\"2018-09-14\",\"2018-09-26\",\"2018-09-27\",\"2018-09-28\",\"2018-10-10\",\"2018-10-11\",\"2018-10-12\",\"2018-10-17\",\"2018-10-18\",\"2018-10-19\",\"2018-11-07\",\"2018-11-08\",\"2018-11-09\",\"2018-11-20\",\"2018-11-21\",\"2018-11-22\",\"2018-11-23\",\"2018-11-28\",\"2018-11-29\",\"2018-11-30\",\"2018-12-12\",\"2018-12-13\",\"2018-12-14\",\"2019-01-16\",\"2019-01-17\",\"2019-01-18\",\"2019-01-30\",\"2019-01-31\",\"2019-02-01\",\"2019-02-13\",\"2019-02-14\",\"2019-02-15\",\"2019-02-20\",\"2019-02-21\",\"2019-02-22\",\"2019-03-13\",\"2019-03-14\",\"2019-03-15\",\"2019-03-20\",\"2019-03-21\",\"2019-03-22\",\"2019-04-03\",\"2019-04-04\",\"2019-04-05\",\"2019-04-10\",\"2019-04-11\",\"2019-04-12\",\"2019-05-08\",\"2019-05-09\",\"2019-05-10\",\"2019-05-15\",\"2019-05-16\",\"2019-05-17\",\"2019-06-05\",\"2019-06-06\",\"2019-06-07\",\"2019-06-26\",\"2019-06-27\",\"2019-06-28\",\"2019-07-24\",\"2019-09-10\",\"2019-09-11\",\"2019-09-12\",\"2019-09-13\",\"2019-09-25\",\"2019-09-26\",\"2019-09-27\",\"2019-10-16\",\"2019-10-17\",\"2019-10-18\",\"2019-10-23\",\"2019-10-24\",\"2019-10-25\",\"2019-11-06\",\"2019-11-07\",\"2019-11-08\",\"2019-11-13\",\"2019-11-14\",\"2019-11-15\",\"2019-11-26\",\"2019-11-27\",\"2019-11-28\",\"2019-11-29\",\"2019-12-11\",\"2019-12-12\",\"2019-12-13\",\"2019-12-18\",\"2019-12-19\",\"2019-12-20\",\"2020-01-15\",\"2020-01-16\",\"2020-01-17\",\"2020-01-29\",\"2020-01-30\",\"2020-01-31\",\"2020-02-12\",\"2020-02-13\",\"2020-02-14\",\"2020-03-04\",\"2020-03-05\",\"2020-03-06\",\"2020-03-11\",\"2020-03-12\",\"2020-03-13\",\"2020-03-25\",\"2020-04-22\",\"2020-04-23\",\"2020-05-06\",\"2020-05-07\",\"2020-05-13\",\"2020-05-14\",\"2020-05-15\",\"2020-05-27\",\"2020-05-28\",\"2020-05-29\",\"2020-06-17\",\"2020-06-18\",\"2020-06-19\",\"2020-06-29\",\"2020-07-01\",\"2020-07-02\",\"2020-07-03\",\"2020-09-09\",\"2020-09-10\",\"2020-09-11\",\"2020-09-16\",\"2020-09-17\",\"2020-09-18\",\"2020-09-29\",\"2020-09-30\",\"2020-10-01\",\"2020-10-02\",\"2020-10-07\",\"2020-10-08\",\"2020-10-09\",\"2020-10-28\",\"2020-10-29\",\"2020-10-30\",\"2020-11-04\",\"2020-11-05\",\"2020-11-06\",\"2020-11-18\",\"2020-11-19\",\"2020-11-20\",\"2020-11-25\",\"2020-11-26\",\"2020-11-27\",\"2020-12-08\",\"2020-12-09\",\"2020-12-10\",\"2020-12-11\",\"2020-12-16\",\"2020-12-17\",\"2021-01-13\",\"2021-01-14\",\"2021-01-27\",\"2021-01-28\",\"2021-01-29\",\"2021-02-10\",\"2021-02-11\",\"2021-02-12\",\"2021-02-24\",\"2021-02-25\",\"2021-02-26\",\"2021-03-03\",\"2021-03-04\",\"2021-03-05\",\"2021-03-24\",\"2021-03-25\",\"2021-03-26\",\"2021-04-13\",\"2021-04-15\",\"2021-04-16\",\"2021-04-21\",\"2021-04-22\",\"2021-04-23\",\"2021-05-05\",\"2021-05-06\",\"2021-05-07\",\"2021-05-19\",\"2021-05-20\",\"2021-05-21\",\"2021-06-09\",\"2021-06-10\",\"2021-06-11\",\"2021-06-23\",\"2021-06-24\",\"2021-06-25\",\"2021-08-25\",\"2021-09-07\"],\"xaxis\":\"x\",\"y\":[0.19451121137763971,0.15859663577223881,0.15382168795455348,0.15493958207571704,0.1502231138301473,0.1524143864401761,0.14784381861047308,0.13687086466190973,0.13607272413753807,0.1288497816954607,0.1286723703057633,0.12997933001195802,0.12898898524536634,0.12472927085570963,0.1239642830747814,0.12368001695345504,0.11746615993113634,0.11628227845018772,0.11474890064622617,0.11436574603256731,0.11624641308800555,0.11773672452906346,0.11765990625362974,0.1275879180012155,0.12749325486437424,0.12813660903849505,0.12648737138454266,0.09593031732735262,0.09574179612385328,0.09480976964609641,0.09282097688614446,0.08999064918858551,0.09126036822771641,0.09266188582343043,0.09458878681107302,0.09116844307802204,0.093040779723002,0.09833794212272126,0.09463656001139581,0.10977056760750814,0.09486676345914213,0.08948142513449554,0.10520651309458141,0.09326229239577266,0.09042218969489317,0.08697947957007701,0.08444123388335062,0.08551148168280691,0.09352219901404966,0.09253218336486542,0.08956871570274108,0.08959335058545582,0.09075456594655035,0.06275112647711989,0.0624568639456757,0.06593415822758997,0.07234084213190976,0.06979040470609117,0.06989585878068943,0.07186551825687824,0.0821920397514627,0.07657910839292452,0.07373995397178168,0.07117398477266977,0.07288447129217311,0.07539417405157103,0.08143477089163614,0.07456003645086307,0.08456997954373796,0.08221814397311622,0.08229252282944284,0.08586690285304563,0.11677110974801387,0.11622289069918769,0.11821907564357767,0.12260179148058316,0.1266299412222496,0.12303600328121493,0.11832270593592911,0.13018362175285536,0.13023878316946713,0.12814219546432903,0.12607874298024419,0.12476457271872428,0.12350099948038336,0.1238552817774291,0.12013879211521149,0.12396895238091524,0.12378701951773488,0.13018695690058885,0.13062132896077316,0.1317150773544132,0.150766325078957,0.13252968328598538,0.1336667361918624,0.13424128893066467,0.13893085333366573,0.13857935919971814,0.13759088693061622,0.14552284595986245,0.14702367662376248,0.14047809326169836,0.12577239312481645,0.13002313256090695,0.12970072398584837,0.13067867323633722,0.12989896391639105,0.13271716534900302,0.13631792289622127,0.12934594066080202,0.12421210959547635,0.12337338782776411,0.1259258442194267,0.1250733349771111,0.12513406950629355,0.12471211925364123,0.12915183198255595,0.12472437614327167,0.12794089674547188,0.11683709984112123,0.11588837689923934,0.11005065582332339,0.11301741710617635,0.11379212030194352,0.11098712480425768,0.10992737456938946,0.10431076814104272,0.09949938710088689,0.09042589965040931,0.07914923912661909,0.07726630376046124,0.08438291412165697,0.0829176584932118,0.08395823920385133,0.08151156517090716,0.08050283162219223,0.08091253752098207,0.08021855104827633,0.08246311808784686,0.08383464719191623,0.08541187113000556,0.08598739445969841,0.08509164187859204,0.0952056367731978,0.10750261681452682,0.09820443363422746,0.09075159216121975,0.0899727377666356,0.09437599801119735,0.09751119480534594,0.09691956006452192,0.1021208651798092,0.09862378232719318,0.09853490112163549,0.10838753666050469,0.11073959085622498,0.11199139985509249,0.10606149196008462,0.10703662904654869,0.10736799754581025,0.10769032541768726,0.10624645053269392,0.10795851621324408,0.11461284862981758,0.11422712889494979,0.11425411771399477,0.11136614504178016,0.11564331470612146,0.11669373713903074,0.11767367442620633,0.11673305561570449,0.1170058212018132,0.11628264953926239,0.11199665608438336,0.10036609652716202,0.10759310378714819,0.10884295494731938,0.1104185552107662,0.10491264162500295,0.10565625494339909,0.104582763786077,0.10079536961997264,0.10318049987761443,0.10713054393828533,0.09639975052342101,0.09868645005908325,0.1025177380755344,0.11754658834926143,0.11714445143570319,0.11524073003731528,0.1141253135566716,0.11799657688945077,0.11554100692170267,0.10940897948006155,0.1132471872209561,0.11095887515895159,0.11144469985183297,0.10265320894338958,0.09868866795409417,0.09075189039650276,0.09129147455939324,0.09157002628235891,0.08940380536132798,0.08795970256129629,0.08988976243627875,0.09717990746365843,0.09544603785178164,0.09442697147377192,0.097255811845256],\"yaxis\":\"y\",\"type\":\"scatter\"},{\"fillpattern\":{\"shape\":\"\"},\"hovertemplate\":\"party=CSU\\u003cbr\\u003edate=%{x}\\u003cbr\\u003erelative_saliency=%{y}\\u003cextra\\u003e\\u003c\\u002fextra\\u003e\",\"legendgroup\":\"CSU\",\"line\":{\"color\":\"#525060\"},\"marker\":{\"symbol\":\"circle\"},\"mode\":\"lines\",\"name\":\"CSU\",\"orientation\":\"v\",\"showlegend\":true,\"stackgroup\":\"1\",\"x\":[\"2018-05-16\",\"2018-05-17\",\"2018-05-18\",\"2018-06-06\",\"2018-06-07\",\"2018-06-08\",\"2018-06-13\",\"2018-06-14\",\"2018-06-15\",\"2018-06-27\",\"2018-06-28\",\"2018-06-29\",\"2018-07-03\",\"2018-07-04\",\"2018-07-05\",\"2018-09-11\",\"2018-09-12\",\"2018-09-13\",\"2018-09-14\",\"2018-09-26\",\"2018-09-27\",\"2018-09-28\",\"2018-10-10\",\"2018-10-11\",\"2018-10-12\",\"2018-10-17\",\"2018-10-18\",\"2018-10-19\",\"2018-11-07\",\"2018-11-08\",\"2018-11-09\",\"2018-11-20\",\"2018-11-21\",\"2018-11-22\",\"2018-11-23\",\"2018-11-28\",\"2018-11-29\",\"2018-11-30\",\"2018-12-13\",\"2018-12-14\",\"2019-01-17\",\"2019-01-18\",\"2019-01-30\",\"2019-01-31\",\"2019-02-01\",\"2019-02-13\",\"2019-02-14\",\"2019-02-15\",\"2019-02-20\",\"2019-02-21\",\"2019-02-22\",\"2019-03-13\",\"2019-03-14\",\"2019-03-15\",\"2019-03-20\",\"2019-03-21\",\"2019-03-22\",\"2019-04-04\",\"2019-04-05\",\"2019-04-10\",\"2019-04-11\",\"2019-04-12\",\"2019-05-09\",\"2019-05-10\",\"2019-05-15\",\"2019-05-16\",\"2019-05-17\",\"2019-06-05\",\"2019-06-06\",\"2019-06-07\",\"2019-06-26\",\"2019-06-27\",\"2019-06-28\",\"2019-07-24\",\"2019-09-10\",\"2019-09-11\",\"2019-09-12\",\"2019-09-13\",\"2019-09-25\",\"2019-09-26\",\"2019-09-27\",\"2019-10-16\",\"2019-10-17\",\"2019-10-18\",\"2019-10-23\",\"2019-10-24\",\"2019-10-25\",\"2019-11-07\",\"2019-11-08\",\"2019-11-13\",\"2019-11-14\",\"2019-11-15\",\"2019-11-26\",\"2019-11-27\",\"2019-11-28\",\"2019-11-29\",\"2019-12-11\",\"2019-12-12\",\"2019-12-13\",\"2019-12-18\",\"2019-12-19\",\"2019-12-20\",\"2020-01-15\",\"2020-01-16\",\"2020-01-17\",\"2020-01-29\",\"2020-01-30\",\"2020-01-31\",\"2020-02-12\",\"2020-02-13\",\"2020-02-14\",\"2020-03-04\",\"2020-03-05\",\"2020-03-06\",\"2020-03-11\",\"2020-03-12\",\"2020-03-13\",\"2020-03-25\",\"2020-04-22\",\"2020-04-23\",\"2020-05-06\",\"2020-05-07\",\"2020-05-13\",\"2020-05-14\",\"2020-05-15\",\"2020-05-27\",\"2020-05-28\",\"2020-05-29\",\"2020-06-17\",\"2020-06-18\",\"2020-06-19\",\"2020-06-29\",\"2020-07-01\",\"2020-07-02\",\"2020-07-03\",\"2020-09-09\",\"2020-09-10\",\"2020-09-11\",\"2020-09-16\",\"2020-09-17\",\"2020-09-18\",\"2020-09-29\",\"2020-09-30\",\"2020-10-01\",\"2020-10-02\",\"2020-10-07\",\"2020-10-08\",\"2020-10-09\",\"2020-10-28\",\"2020-10-29\",\"2020-10-30\",\"2020-11-04\",\"2020-11-05\",\"2020-11-06\",\"2020-11-18\",\"2020-11-19\",\"2020-11-20\",\"2020-11-25\",\"2020-11-26\",\"2020-11-27\",\"2020-12-08\",\"2020-12-09\",\"2020-12-10\",\"2020-12-11\",\"2020-12-16\",\"2020-12-17\",\"2021-01-13\",\"2021-01-14\",\"2021-01-27\",\"2021-01-28\",\"2021-01-29\",\"2021-02-10\",\"2021-02-11\",\"2021-02-12\",\"2021-02-24\",\"2021-02-25\",\"2021-02-26\",\"2021-03-03\",\"2021-03-04\",\"2021-03-05\",\"2021-03-24\",\"2021-03-25\",\"2021-03-26\",\"2021-04-13\",\"2021-04-15\",\"2021-04-16\",\"2021-04-21\",\"2021-04-22\",\"2021-04-23\",\"2021-05-05\",\"2021-05-06\",\"2021-05-07\",\"2021-05-19\",\"2021-05-20\",\"2021-05-21\",\"2021-06-09\",\"2021-06-10\",\"2021-06-11\",\"2021-06-23\",\"2021-06-24\",\"2021-06-25\",\"2021-08-25\",\"2021-09-07\"],\"xaxis\":\"x\",\"y\":[0.18918748126290755,0.19614258945106397,0.18122470977965077,0.193511054842733,0.19335662684242347,0.18306801754221644,0.17464818756088338,0.1728622274185136,0.17964767679266608,0.1794003225203009,0.18589161431926557,0.181589666622022,0.17310232556040384,0.168430521202197,0.16647319001537353,0.1779354374568031,0.17696591821740562,0.17628664823393062,0.1756980147723733,0.1730378802875992,0.17306685268366595,0.17218573010212462,0.17278755457014006,0.17265935581763292,0.17270585170312489,0.16774594582111005,0.14940586862665417,0.14711464664729446,0.14568251615160424,0.1292560904424831,0.13206764731600448,0.14057556091258666,0.1390248568964663,0.12824372642223586,0.12574882052086353,0.13226129100870046,0.13755012036438538,0.14657686286573207,0.14079663235837536,0.14500054933506504,0.13859309361583613,0.1494007038898007,0.14547764088849124,0.157339668029809,0.15802084802766428,0.11712651603679765,0.11588662769976828,0.11738586435197988,0.12097240258898288,0.12284017493907336,0.13995906547713258,0.1393027472368396,0.10137911772619543,0.11483775207745331,0.12320130657894265,0.12205147991432522,0.12208636635811239,0.12522992748610332,0.1419855955873708,0.14376943476676743,0.1392941495022426,0.11915673420373062,0.12654105658926196,0.12790453574148214,0.12434759463278641,0.12543135025660043,0.11403827305006374,0.10890537616195965,0.10962941146838867,0.1150204354184745,0.12022455410976617,0.10833853556849687,0.10780931369155412,0.1115754633298425,0.09748790772015431,0.10560136176087594,0.11319334958444341,0.11445524654833271,0.11557045697538117,0.12285042080545552,0.12426478159950526,0.12709954261658352,0.13417847563368326,0.1264432752443086,0.11891884586191925,0.11985206509252672,0.12199164852540025,0.12365045351888436,0.1227264194692844,0.1214904654772548,0.1243940638405198,0.13744014060816218,0.1421843578344563,0.14291549593276018,0.14306193265976266,0.14977576617651994,0.17464791234025526,0.15301033148146248,0.14896938407166507,0.1512456450262271,0.15333484027387637,0.15901388263199803,0.16137609874174744,0.18405742225717167,0.18902853710076908,0.1850967885605247,0.18082043725169117,0.1763297257908858,0.18600292928317239,0.1743652863817752,0.17069789349186407,0.1822534060737616,0.16882614405154447,0.1731015069536412,0.17341938752737573,0.18552144441803012,0.17738424871058972,0.17664442310712825,0.1723035869656267,0.1891976205375774,0.1880738974331451,0.1893906267679146,0.17810149178602863,0.18474544850086125,0.1845981814376057,0.17048696690724532,0.1715587591080273,0.16208041831888642,0.1658993165759623,0.16681035136358477,0.1577950380426459,0.15874019648087662,0.16689171691063165,0.1708155611888217,0.18171537333957377,0.16809151977618308,0.170094289847386,0.16395366238502906,0.158552570366999,0.15693549799924067,0.16055182457206324,0.16224723533226365,0.16169506176397938,0.1562174780641441,0.15348643417552912,0.15600851668539698,0.15795071565373195,0.16013621384697632,0.1588351014964704,0.14838086215266938,0.1505012505106427,0.15633095141968667,0.15679260982563187,0.15513610416059073,0.15540743240974225,0.15914847548653593,0.15772981890124302,0.1746532308835299,0.17136088581266534,0.17254987201753977,0.15807314700918482,0.1535176519006357,0.1436441550606514,0.1443072006789406,0.14409282192428535,0.14746360571917935,0.15571011731645937,0.1606535679988376,0.16456995474835084,0.16682867813890392,0.16763895700862466,0.15785994352801228,0.15679034915021053,0.16049365310556996,0.17090649998337323,0.16918511399339234,0.16885750911027064,0.16643473941070455,0.16966363244027435,0.16335382128754072,0.16175408948417155,0.1446583467600356,0.14857834713725745,0.15021819528883862,0.15027366301427747,0.1464007158086553,0.14577057155418335,0.1494129369943476,0.15050354808701796,0.14110669783781318,0.16602861314136272,0.210795948635809,0.2077163846750957,0.20042249098231593,0.20086362912494746,0.2008305075717101,0.20492577347576046,0.2015439709556039,0.19847602423756627,0.20454409043033964,0.21547920491567388,0.21395031688331062,0.20448335843598475],\"yaxis\":\"y\",\"type\":\"scatter\"},{\"fillpattern\":{\"shape\":\"\"},\"hovertemplate\":\"party=DIE LINKE\\u003cbr\\u003edate=%{x}\\u003cbr\\u003erelative_saliency=%{y}\\u003cextra\\u003e\\u003c\\u002fextra\\u003e\",\"legendgroup\":\"DIE LINKE\",\"line\":{\"color\":\"#a33ab5\"},\"marker\":{\"symbol\":\"circle\"},\"mode\":\"lines\",\"name\":\"DIE LINKE\",\"orientation\":\"v\",\"showlegend\":true,\"stackgroup\":\"1\",\"x\":[\"2018-05-15\",\"2018-05-16\",\"2018-05-17\",\"2018-05-18\",\"2018-06-06\",\"2018-06-07\",\"2018-06-08\",\"2018-06-13\",\"2018-06-14\",\"2018-06-15\",\"2018-06-27\",\"2018-06-28\",\"2018-06-29\",\"2018-07-03\",\"2018-07-04\",\"2018-07-05\",\"2018-09-11\",\"2018-09-12\",\"2018-09-13\",\"2018-09-14\",\"2018-09-26\",\"2018-09-27\",\"2018-09-28\",\"2018-10-10\",\"2018-10-11\",\"2018-10-12\",\"2018-10-17\",\"2018-10-18\",\"2018-10-19\",\"2018-11-07\",\"2018-11-08\",\"2018-11-09\",\"2018-11-20\",\"2018-11-21\",\"2018-11-22\",\"2018-11-23\",\"2018-11-28\",\"2018-11-29\",\"2018-11-30\",\"2018-12-12\",\"2018-12-13\",\"2018-12-14\",\"2019-01-16\",\"2019-01-17\",\"2019-01-18\",\"2019-01-30\",\"2019-01-31\",\"2019-02-01\",\"2019-02-13\",\"2019-02-14\",\"2019-02-15\",\"2019-02-20\",\"2019-02-21\",\"2019-02-22\",\"2019-03-13\",\"2019-03-14\",\"2019-03-15\",\"2019-03-20\",\"2019-03-21\",\"2019-03-22\",\"2019-04-03\",\"2019-04-04\",\"2019-04-05\",\"2019-04-10\",\"2019-04-11\",\"2019-04-12\",\"2019-05-08\",\"2019-05-09\",\"2019-05-10\",\"2019-05-15\",\"2019-05-16\",\"2019-05-17\",\"2019-06-05\",\"2019-06-06\",\"2019-06-07\",\"2019-06-26\",\"2019-06-27\",\"2019-06-28\",\"2019-07-24\",\"2019-09-10\",\"2019-09-11\",\"2019-09-12\",\"2019-09-13\",\"2019-09-25\",\"2019-09-26\",\"2019-09-27\",\"2019-10-16\",\"2019-10-17\",\"2019-10-18\",\"2019-10-23\",\"2019-10-24\",\"2019-10-25\",\"2019-11-06\",\"2019-11-07\",\"2019-11-08\",\"2019-11-13\",\"2019-11-14\",\"2019-11-15\",\"2019-11-26\",\"2019-11-27\",\"2019-11-28\",\"2019-11-29\",\"2019-12-11\",\"2019-12-12\",\"2019-12-13\",\"2019-12-18\",\"2019-12-19\",\"2019-12-20\",\"2020-01-15\",\"2020-01-16\",\"2020-01-17\",\"2020-01-29\",\"2020-01-30\",\"2020-01-31\",\"2020-02-12\",\"2020-02-13\",\"2020-02-14\",\"2020-03-04\",\"2020-03-05\",\"2020-03-06\",\"2020-03-11\",\"2020-03-12\",\"2020-03-13\",\"2020-03-25\",\"2020-04-22\",\"2020-04-23\",\"2020-05-06\",\"2020-05-07\",\"2020-05-13\",\"2020-05-14\",\"2020-05-15\",\"2020-05-27\",\"2020-05-28\",\"2020-05-29\",\"2020-06-17\",\"2020-06-18\",\"2020-06-19\",\"2020-06-29\",\"2020-07-01\",\"2020-07-02\",\"2020-07-03\",\"2020-09-09\",\"2020-09-10\",\"2020-09-11\",\"2020-09-16\",\"2020-09-17\",\"2020-09-18\",\"2020-09-29\",\"2020-09-30\",\"2020-10-01\",\"2020-10-02\",\"2020-10-07\",\"2020-10-08\",\"2020-10-09\",\"2020-10-28\",\"2020-10-29\",\"2020-10-30\",\"2020-11-04\",\"2020-11-05\",\"2020-11-06\",\"2020-11-18\",\"2020-11-19\",\"2020-11-20\",\"2020-11-25\",\"2020-11-26\",\"2020-11-27\",\"2020-12-08\",\"2020-12-09\",\"2020-12-10\",\"2020-12-11\",\"2020-12-16\",\"2020-12-17\",\"2021-01-13\",\"2021-01-14\",\"2021-01-27\",\"2021-01-28\",\"2021-01-29\",\"2021-02-10\",\"2021-02-11\",\"2021-02-12\",\"2021-02-24\",\"2021-02-25\",\"2021-02-26\",\"2021-03-03\",\"2021-03-04\",\"2021-03-05\",\"2021-03-24\",\"2021-03-25\",\"2021-03-26\",\"2021-04-13\",\"2021-04-15\",\"2021-04-16\",\"2021-04-21\",\"2021-04-22\",\"2021-04-23\",\"2021-05-05\",\"2021-05-06\",\"2021-05-07\",\"2021-05-19\",\"2021-05-20\",\"2021-05-21\",\"2021-06-09\",\"2021-06-10\",\"2021-06-11\",\"2021-06-23\",\"2021-06-24\",\"2021-06-25\",\"2021-08-25\",\"2021-09-07\"],\"xaxis\":\"x\",\"y\":[0.14855491491009457,0.11965935824733087,0.1181977133210791,0.12519530118594702,0.12049671230383599,0.12043973923145215,0.11990437103401917,0.10974187240096044,0.10861964712742977,0.10806284868581012,0.10791405852173114,0.10768471905894643,0.1078504802192003,0.10805802467952053,0.10514186083146082,0.10503942616830339,0.10279094004562035,0.09988519961948968,0.09952289469891921,0.09919058078520131,0.0976887978262229,0.10015222491523325,0.1015982332181526,0.0995779721827387,0.09950409086736979,0.10004009917209619,0.09716706695328083,0.10380530883102203,0.10392206210564402,0.10338377568769294,0.11323169737174221,0.11697826880519928,0.11664246462650484,0.11239030225070802,0.11547083520088039,0.11203022067936624,0.09984364522456808,0.10524494703702796,0.10970267299559686,0.12765850786387456,0.11032601664565758,0.10957909218688743,0.12883605932431497,0.1133101250431824,0.11454762551828708,0.11050550975163347,0.11242751649818471,0.11471494257283617,0.11180353812293198,0.1113658225643214,0.1127899858144224,0.11176821691699948,0.11087348236649441,0.1112616530294585,0.11073990724557921,0.11572903960561493,0.11609607288116733,0.11434888674552905,0.11328167891551237,0.11584403035580239,0.12952481418813291,0.1044905165877522,0.08993686864994838,0.08935044071695823,0.08946593115487976,0.10200449261727951,0.11592603034479362,0.10388458830764048,0.10559522161776318,0.11729947673388012,0.11648400453602069,0.11590208228783457,0.1277479314099163,0.12620166954499099,0.12447770924437085,0.1271084670534534,0.1260312805614315,0.12656038340198492,0.12919024317883504,0.12674546076731497,0.12607507597639614,0.1182544845995901,0.11844635940530997,0.1196004577890739,0.11943802263350256,0.11904351353423848,0.12052928670173098,0.12245048086786207,0.12456470219267046,0.1212503810287891,0.12199547681437527,0.12419777801236714,0.14323960724072346,0.12625366467788177,0.12525222118806106,0.1273731111943914,0.1297604085087649,0.1217483477924349,0.11182092561284682,0.10482893685822978,0.10493634862844041,0.10256251155888461,0.0911035419557921,0.09446026549569791,0.10100961027570972,0.10289526006596725,0.10340157410128328,0.09977183409793305,0.1060351874659087,0.10751259049291878,0.11333424771000139,0.1209571701611415,0.11993439450620247,0.12220736356878432,0.11964848540467012,0.12193955343401541,0.12366916724850986,0.11826832597216924,0.12526370178146196,0.130720935695372,0.12947623239656242,0.13014112051110296,0.13115053525704454,0.13169277998459622,0.13269718198939154,0.12545933103379964,0.12864022951921714,0.13516831441783675,0.14953087662262676,0.1568712777805748,0.15674623019442124,0.16632816563596872,0.16305614977773117,0.1540750354320506,0.1467581608745677,0.14285690687430438,0.14488521987419972,0.14575305127015278,0.13536530726769241,0.12954533393124967,0.11824579557055756,0.10983488954036917,0.11410280518620873,0.11428889874981293,0.11737825767788694,0.11827962161603939,0.11633931361021271,0.12122605597260001,0.11498840003428736,0.1076695245780406,0.11019674903785842,0.10832624988283429,0.10814565306204997,0.1087047814392062,0.1099222544280823,0.10988327220052657,0.10093226029257223,0.1019360216660059,0.10451030224993389,0.10334212130873927,0.10352286348342529,0.10521842787548721,0.10664908906476696,0.11753610400394598,0.11724388122903195,0.11826030809120427,0.11927284946691631,0.12079356302205177,0.1248475391410575,0.1295081324923232,0.12836682248250814,0.12965151445326648,0.12522995694863195,0.12441528819182832,0.12229045080100896,0.12103090888997442,0.12161875019610159,0.11892842558975639,0.12138629741355884,0.12425337665519891,0.11932400503901844,0.11959625525350495,0.12141445929050967,0.12417686310999657,0.12695821514829078,0.13256179869094845,0.13596619752373423,0.13940464750472606,0.1401150291698932,0.14440938111221285,0.14766528489206254,0.14709109091062778,0.14413272431139407,0.13515598368364473,0.137185516576753,0.13209166058616037,0.1333194715168513,0.12654092938274117,0.1203258346899466,0.11782405183258815,0.12614193013304967,0.1249204670575913,0.1348221318422053,0.1353783262318554,0.13652266051439177,0.1295180524409482,0.12620028489354626,0.12319769494362232,0.11328371205320725],\"yaxis\":\"y\",\"type\":\"scatter\"},{\"fillpattern\":{\"shape\":\"\"},\"hovertemplate\":\"party=FDP\\u003cbr\\u003edate=%{x}\\u003cbr\\u003erelative_saliency=%{y}\\u003cextra\\u003e\\u003c\\u002fextra\\u003e\",\"legendgroup\":\"FDP\",\"line\":{\"color\":\"#ffeb3b\"},\"marker\":{\"symbol\":\"circle\"},\"mode\":\"lines\",\"name\":\"FDP\",\"orientation\":\"v\",\"showlegend\":true,\"stackgroup\":\"1\",\"x\":[\"2018-05-15\",\"2018-05-16\",\"2018-05-17\",\"2018-05-18\",\"2018-06-06\",\"2018-06-07\",\"2018-06-08\",\"2018-06-13\",\"2018-06-14\",\"2018-06-15\",\"2018-06-27\",\"2018-06-28\",\"2018-06-29\",\"2018-07-03\",\"2018-07-04\",\"2018-07-05\",\"2018-09-11\",\"2018-09-12\",\"2018-09-13\",\"2018-09-14\",\"2018-09-26\",\"2018-09-27\",\"2018-09-28\",\"2018-10-10\",\"2018-10-11\",\"2018-10-12\",\"2018-10-17\",\"2018-10-18\",\"2018-10-19\",\"2018-11-07\",\"2018-11-08\",\"2018-11-09\",\"2018-11-20\",\"2018-11-21\",\"2018-11-22\",\"2018-11-23\",\"2018-11-28\",\"2018-11-29\",\"2018-11-30\",\"2018-12-12\",\"2018-12-13\",\"2018-12-14\",\"2019-01-16\",\"2019-01-17\",\"2019-01-18\",\"2019-01-30\",\"2019-01-31\",\"2019-02-01\",\"2019-02-13\",\"2019-02-14\",\"2019-02-15\",\"2019-02-20\",\"2019-02-21\",\"2019-02-22\",\"2019-03-13\",\"2019-03-14\",\"2019-03-15\",\"2019-03-20\",\"2019-03-21\",\"2019-03-22\",\"2019-04-03\",\"2019-04-04\",\"2019-04-05\",\"2019-04-10\",\"2019-04-11\",\"2019-04-12\",\"2019-05-08\",\"2019-05-09\",\"2019-05-10\",\"2019-05-15\",\"2019-05-16\",\"2019-05-17\",\"2019-06-05\",\"2019-06-06\",\"2019-06-07\",\"2019-06-26\",\"2019-06-27\",\"2019-06-28\",\"2019-07-24\",\"2019-09-10\",\"2019-09-11\",\"2019-09-12\",\"2019-09-13\",\"2019-09-25\",\"2019-09-26\",\"2019-09-27\",\"2019-10-16\",\"2019-10-17\",\"2019-10-18\",\"2019-10-23\",\"2019-10-24\",\"2019-10-25\",\"2019-11-06\",\"2019-11-07\",\"2019-11-08\",\"2019-11-13\",\"2019-11-14\",\"2019-11-15\",\"2019-11-26\",\"2019-11-27\",\"2019-11-28\",\"2019-11-29\",\"2019-12-11\",\"2019-12-12\",\"2019-12-13\",\"2019-12-18\",\"2019-12-19\",\"2019-12-20\",\"2020-01-15\",\"2020-01-16\",\"2020-01-17\",\"2020-01-29\",\"2020-01-30\",\"2020-01-31\",\"2020-02-12\",\"2020-02-13\",\"2020-02-14\",\"2020-03-04\",\"2020-03-05\",\"2020-03-06\",\"2020-03-11\",\"2020-03-12\",\"2020-03-13\",\"2020-03-25\",\"2020-04-22\",\"2020-04-23\",\"2020-05-06\",\"2020-05-07\",\"2020-05-13\",\"2020-05-14\",\"2020-05-15\",\"2020-05-27\",\"2020-05-28\",\"2020-05-29\",\"2020-06-17\",\"2020-06-18\",\"2020-06-19\",\"2020-06-29\",\"2020-07-01\",\"2020-07-02\",\"2020-07-03\",\"2020-09-09\",\"2020-09-10\",\"2020-09-11\",\"2020-09-16\",\"2020-09-17\",\"2020-09-18\",\"2020-09-29\",\"2020-09-30\",\"2020-10-01\",\"2020-10-02\",\"2020-10-07\",\"2020-10-08\",\"2020-10-09\",\"2020-10-28\",\"2020-10-29\",\"2020-10-30\",\"2020-11-04\",\"2020-11-05\",\"2020-11-06\",\"2020-11-18\",\"2020-11-19\",\"2020-11-20\",\"2020-11-25\",\"2020-11-26\",\"2020-11-27\",\"2020-12-08\",\"2020-12-09\",\"2020-12-10\",\"2020-12-11\",\"2020-12-16\",\"2020-12-17\",\"2021-01-13\",\"2021-01-14\",\"2021-01-27\",\"2021-01-28\",\"2021-01-29\",\"2021-02-10\",\"2021-02-11\",\"2021-02-12\",\"2021-02-24\",\"2021-02-25\",\"2021-02-26\",\"2021-03-03\",\"2021-03-04\",\"2021-03-05\",\"2021-03-24\",\"2021-03-25\",\"2021-03-26\",\"2021-04-13\",\"2021-04-15\",\"2021-04-16\",\"2021-04-21\",\"2021-04-22\",\"2021-04-23\",\"2021-05-05\",\"2021-05-06\",\"2021-05-07\",\"2021-05-19\",\"2021-05-20\",\"2021-05-21\",\"2021-06-09\",\"2021-06-10\",\"2021-06-11\",\"2021-06-23\",\"2021-06-24\",\"2021-06-25\",\"2021-08-25\",\"2021-09-07\"],\"xaxis\":\"x\",\"y\":[0.1482382033338151,0.1175263930655863,0.11825547722828005,0.11911489506816192,0.11245845734806653,0.11236871190845704,0.1208091169045651,0.13408920719868164,0.1337699798486787,0.12521716002042188,0.12504475033465548,0.12305970149531682,0.12452952805343344,0.12614046339921856,0.12907476583220992,0.1275747879018915,0.11771353113579427,0.11818635672946239,0.11716403707194466,0.11677281814865915,0.11500483345717619,0.1108660910503152,0.11143395982112451,0.11852170926202722,0.11843377274767462,0.11775810296882802,0.11666478936980264,0.11617906845008422,0.11746976895755923,0.11632622518214483,0.1117953284290217,0.11376964439909149,0.11577064868567523,0.11681596319817523,0.11879164762791214,0.11648062633300041,0.11184774083051631,0.10720061517336503,0.10638117328932074,0.12234035692380224,0.10655022488694488,0.10861554315401552,0.13387562856379806,0.11443650844947269,0.11035561679787247,0.10745782564980831,0.11718557023807928,0.11641676610724404,0.12894730619064015,0.1309683896436664,0.13264323353347549,0.13964238964641487,0.14038086230436536,0.1270803785253957,0.12648445306586784,0.12936153850731985,0.1294624987266692,0.12978889572608082,0.12995715745835218,0.13123805226406401,0.1502000825095074,0.1362855166576528,0.1353995367649935,0.1405981033940238,0.1429847157178043,0.14550574900167534,0.17106805630293442,0.14163175369624617,0.13611179964988812,0.1474178945905519,0.14627226681784108,0.14477053542498344,0.13634506257360324,0.13798654866062257,0.13842809447394921,0.14135368486876304,0.13961684149405437,0.14733367763559757,0.13551149986977434,0.14680997815942098,0.14469509687012347,0.14040180632599283,0.13626641401507386,0.13788078729744702,0.13874926249017355,0.14066807644335172,0.1453699969905204,0.1475936386897532,0.14777908688676406,0.1468491591587406,0.14622570947308683,0.1459810247612571,0.16499238800913404,0.1415841663368986,0.14064228803398723,0.14333222067129608,0.1398184816010929,0.13888189463649397,0.1364682837291212,0.1299371784504761,0.12958925112636105,0.12515634289408398,0.12159544903605497,0.12298846076386342,0.1211132346499338,0.12165783326526376,0.12314421046598453,0.11640413008611947,0.11956229767380687,0.10474754415376356,0.10852529438432339,0.10842565302012316,0.11167024862228073,0.1094773956359728,0.10573546040232487,0.10617592096827193,0.10149608994935112,0.09399150620016003,0.09873933737178495,0.09823819665635533,0.09841859955905294,0.08972886361009429,0.09042482840361149,0.0906238415271511,0.09035580475500016,0.0892094674325001,0.08693359258071201,0.08354347111908321,0.08761571391520656,0.08746370797689476,0.08873285235174473,0.09284526661836677,0.09256865476564555,0.10691123021518421,0.1099436370152439,0.1094701172899408,0.10351658098291279,0.10413662310354241,0.10158499973232099,0.10208068597927002,0.09024800750161945,0.10155432114269605,0.10276431647890777,0.10357766743526536,0.10834513483212634,0.11982318392684947,0.11989028744813915,0.11970501300451741,0.11625238730569046,0.12494042545189263,0.12275617699519153,0.11993095374728825,0.12403511999046782,0.12414414729674918,0.12062112573444864,0.1203255833425093,0.13160219766264059,0.12798691353048824,0.128283948419052,0.13092764064217752,0.13004877201105786,0.12950595521546157,0.1307514788600093,0.12082244808115684,0.12586674405354178,0.12768176978906629,0.12940293810503906,0.12567368704169976,0.12691196478096048,0.12724959140149147,0.12742754066599676,0.1239910504865795,0.11952154516018272,0.11791718114353586,0.1112567233737178,0.10109105290355568,0.10158204728773088,0.11051721905642745,0.11033930981690063,0.10474663927631017,0.10757017923796632,0.11213864498368496,0.107847777441341,0.11112539166387503,0.11381163737513968,0.11534986303495368,0.11130490022520181,0.11654535194621543,0.11250467701319747,0.11352686638890291,0.11292837136549436,0.11736088778182777,0.12293833928103301,0.12599436422711788,0.11592469551486154,0.12510317450606206,0.12402628115462706,0.13302707885767592,0.13894323247887147,0.13934893430109624,0.137868848039391,0.13647159245450832,0.14404884871611587,0.14663837703295016,0.15684157910055418,0.15523059071264528,0.1512541642105153,0.15160276200061265,0.16073062265283317],\"yaxis\":\"y\",\"type\":\"scatter\"},{\"fillpattern\":{\"shape\":\"\"},\"hovertemplate\":\"party=GRUENE\\u003cbr\\u003edate=%{x}\\u003cbr\\u003erelative_saliency=%{y}\\u003cextra\\u003e\\u003c\\u002fextra\\u003e\",\"legendgroup\":\"GRUENE\",\"line\":{\"color\":\"#52d157\"},\"marker\":{\"symbol\":\"circle\"},\"mode\":\"lines\",\"name\":\"GRUENE\",\"orientation\":\"v\",\"showlegend\":true,\"stackgroup\":\"1\",\"x\":[\"2018-05-15\",\"2018-05-16\",\"2018-05-17\",\"2018-05-18\",\"2018-06-06\",\"2018-06-07\",\"2018-06-08\",\"2018-06-13\",\"2018-06-14\",\"2018-06-15\",\"2018-06-27\",\"2018-06-28\",\"2018-06-29\",\"2018-07-03\",\"2018-07-04\",\"2018-07-05\",\"2018-09-11\",\"2018-09-12\",\"2018-09-13\",\"2018-09-14\",\"2018-09-26\",\"2018-09-27\",\"2018-09-28\",\"2018-10-10\",\"2018-10-11\",\"2018-10-12\",\"2018-10-17\",\"2018-10-18\",\"2018-10-19\",\"2018-11-07\",\"2018-11-08\",\"2018-11-09\",\"2018-11-20\",\"2018-11-21\",\"2018-11-22\",\"2018-11-23\",\"2018-11-28\",\"2018-11-29\",\"2018-11-30\",\"2018-12-12\",\"2018-12-13\",\"2018-12-14\",\"2019-01-16\",\"2019-01-17\",\"2019-01-18\",\"2019-01-30\",\"2019-01-31\",\"2019-02-01\",\"2019-02-13\",\"2019-02-14\",\"2019-02-15\",\"2019-02-20\",\"2019-02-21\",\"2019-02-22\",\"2019-03-13\",\"2019-03-14\",\"2019-03-15\",\"2019-03-20\",\"2019-03-21\",\"2019-03-22\",\"2019-04-03\",\"2019-04-04\",\"2019-04-05\",\"2019-04-10\",\"2019-04-11\",\"2019-04-12\",\"2019-05-08\",\"2019-05-09\",\"2019-05-10\",\"2019-05-15\",\"2019-05-16\",\"2019-05-17\",\"2019-06-05\",\"2019-06-06\",\"2019-06-07\",\"2019-06-26\",\"2019-06-27\",\"2019-06-28\",\"2019-07-24\",\"2019-09-10\",\"2019-09-11\",\"2019-09-12\",\"2019-09-13\",\"2019-09-25\",\"2019-09-26\",\"2019-09-27\",\"2019-10-16\",\"2019-10-17\",\"2019-10-18\",\"2019-10-23\",\"2019-10-24\",\"2019-10-25\",\"2019-11-06\",\"2019-11-07\",\"2019-11-08\",\"2019-11-13\",\"2019-11-14\",\"2019-11-15\",\"2019-11-26\",\"2019-11-27\",\"2019-11-28\",\"2019-11-29\",\"2019-12-11\",\"2019-12-12\",\"2019-12-13\",\"2019-12-18\",\"2019-12-19\",\"2019-12-20\",\"2020-01-15\",\"2020-01-16\",\"2020-01-17\",\"2020-01-29\",\"2020-01-30\",\"2020-01-31\",\"2020-02-12\",\"2020-02-13\",\"2020-02-14\",\"2020-03-04\",\"2020-03-05\",\"2020-03-06\",\"2020-03-11\",\"2020-03-12\",\"2020-03-13\",\"2020-03-25\",\"2020-04-22\",\"2020-04-23\",\"2020-05-06\",\"2020-05-07\",\"2020-05-13\",\"2020-05-14\",\"2020-05-15\",\"2020-05-27\",\"2020-05-28\",\"2020-05-29\",\"2020-06-17\",\"2020-06-18\",\"2020-06-19\",\"2020-06-29\",\"2020-07-01\",\"2020-07-02\",\"2020-07-03\",\"2020-09-09\",\"2020-09-10\",\"2020-09-11\",\"2020-09-16\",\"2020-09-17\",\"2020-09-18\",\"2020-09-29\",\"2020-09-30\",\"2020-10-01\",\"2020-10-02\",\"2020-10-07\",\"2020-10-08\",\"2020-10-09\",\"2020-10-28\",\"2020-10-29\",\"2020-10-30\",\"2020-11-04\",\"2020-11-05\",\"2020-11-06\",\"2020-11-18\",\"2020-11-19\",\"2020-11-20\",\"2020-11-25\",\"2020-11-26\",\"2020-11-27\",\"2020-12-08\",\"2020-12-09\",\"2020-12-10\",\"2020-12-11\",\"2020-12-16\",\"2020-12-17\",\"2021-01-13\",\"2021-01-14\",\"2021-01-27\",\"2021-01-28\",\"2021-01-29\",\"2021-02-10\",\"2021-02-11\",\"2021-02-12\",\"2021-02-24\",\"2021-02-25\",\"2021-02-26\",\"2021-03-03\",\"2021-03-04\",\"2021-03-05\",\"2021-03-24\",\"2021-03-25\",\"2021-03-26\",\"2021-04-13\",\"2021-04-15\",\"2021-04-16\",\"2021-04-21\",\"2021-04-22\",\"2021-04-23\",\"2021-05-05\",\"2021-05-06\",\"2021-05-07\",\"2021-05-19\",\"2021-05-20\",\"2021-05-21\",\"2021-06-09\",\"2021-06-10\",\"2021-06-11\",\"2021-06-23\",\"2021-06-24\",\"2021-06-25\",\"2021-08-25\",\"2021-09-07\"],\"xaxis\":\"x\",\"y\":[0.24258248215152017,0.20187124955887353,0.2019337075152618,0.20633853640273223,0.21434114216378275,0.21417009108871463,0.20400372391417293,0.2151489854681456,0.22084302076599271,0.2282429991066166,0.22930562009235336,0.22529650247927616,0.22366926853695088,0.22777614904523438,0.22842605732332266,0.2363421043566588,0.2500819252193397,0.25485121041911946,0.257236523169036,0.2597166624244217,0.2579969310494093,0.25547456762207504,0.25194306272734407,0.23714953240739414,0.23697358064809113,0.23640991567880928,0.2540200599919529,0.30393053632069517,0.3049769075265147,0.3064628804321692,0.3076338139986138,0.297256149920164,0.288165076903732,0.29347650017141236,0.29127525691336253,0.29735803311243736,0.31102830072022863,0.30318652657475026,0.29095820757023344,0.3501642583160304,0.29677702784963866,0.30093964564789955,0.3492487468934909,0.2998246035490374,0.29208191639941755,0.3141927523929839,0.2949770440233991,0.29071534675514904,0.3039174033523407,0.30032602796864993,0.3035805114687085,0.3033276491137723,0.3038020921984798,0.3441815281834266,0.3425675375916161,0.35775543121490083,0.3225327496573042,0.327363687414047,0.3287109380645862,0.3257969786699455,0.3735607884446597,0.3306095629923352,0.3434461913212869,0.33803384964715416,0.34069504023200203,0.34561981542802167,0.3746885672025518,0.3211893902197037,0.32078140529475596,0.3033984123048919,0.3042583306549997,0.30590377743126296,0.26427939880197765,0.2645169807801614,0.26614045150282767,0.24091855364050727,0.24715763754604503,0.24677989231588338,0.2601408348645278,0.2563159504481416,0.25710563534354763,0.2599792131960504,0.2668053126710879,0.2586916137185526,0.2572557048002938,0.2554167771384602,0.2529891912870665,0.24381726831485218,0.2452667022797463,0.2506623504327264,0.25015863324804005,0.24393939859778038,0.2724315210789012,0.23881480942909813,0.24120510466410627,0.23866749408061014,0.24064445130323084,0.2313916694299051,0.23834227863569557,0.2379982785699106,0.23604534168933963,0.2428380800962121,0.2595888472412973,0.2671799873141529,0.26705565911156154,0.2631473602839891,0.2611485130954312,0.26312724215124145,0.24668136662240595,0.24576844314285426,0.23897347905103686,0.23723047148466556,0.23089529636748693,0.23520483694611036,0.23180125641965016,0.2374919983213086,0.2386099927957506,0.23638601340057827,0.23360013011067812,0.2298467386931831,0.22960830597151607,0.23380202425459842,0.23939804715924562,0.23817135694849823,0.2456113030655413,0.2374130184109985,0.23669832880633332,0.24860583949739695,0.2446038111944772,0.2485356058099046,0.2517802844709957,0.24207790680921304,0.2459634714246141,0.2504263161015567,0.25080368965395006,0.2509149072964222,0.2612412933192391,0.25799492231586846,0.2667412114999619,0.2723614987952687,0.27853605914222435,0.2862048264051704,0.28631049976983936,0.2885457327515931,0.28934027571275145,0.2849204661637462,0.2922426066382872,0.29761696331226023,0.30897281504581836,0.3152690817055278,0.3213673683752419,0.3225051715967522,0.3207012142277289,0.3190170859250149,0.3044217113630759,0.3128244370449169,0.3111746237811902,0.3124967049563799,0.3127780801856338,0.3115151465764606,0.31128432031873643,0.3106873712919326,0.3085748943293037,0.29261050890887985,0.2906967273885347,0.29180453669288803,0.2967690667899334,0.3018782225491641,0.30133368751248507,0.29516189851588676,0.2969730804621618,0.29513798955822773,0.2948689188273635,0.2979224273408407,0.2963849709963916,0.29701171097890977,0.2947244504915365,0.28960718444461603,0.2883479119942863,0.2871609772389961,0.2779644848939666,0.2783202530594771,0.276759139040011,0.2692202265806902,0.2782487113929746,0.27707564345541946,0.280679815212037,0.275046269542926,0.2703698882372906,0.2658301509845887,0.2627594106444655,0.2596371401624745,0.25585061529257397,0.25990492387770875,0.2647973316067149,0.2784253416420961,0.2617348168710024,0.2297230136101668,0.22625162013398353,0.22764284516984445,0.22252850567646193,0.22694400333930634,0.2151440644308708,0.2166409300440252,0.22041669673119677,0.21909149521598406,0.21908118434622695,0.22674715892785244,0.2422155580080389],\"yaxis\":\"y\",\"type\":\"scatter\"},{\"fillpattern\":{\"shape\":\"\"},\"hovertemplate\":\"party=SPD\\u003cbr\\u003edate=%{x}\\u003cbr\\u003erelative_saliency=%{y}\\u003cextra\\u003e\\u003c\\u002fextra\\u003e\",\"legendgroup\":\"SPD\",\"line\":{\"color\":\"#e03427\"},\"marker\":{\"symbol\":\"circle\"},\"mode\":\"lines\",\"name\":\"SPD\",\"orientation\":\"v\",\"showlegend\":true,\"stackgroup\":\"1\",\"x\":[\"2018-05-15\",\"2018-05-16\",\"2018-05-17\",\"2018-05-18\",\"2018-06-06\",\"2018-06-07\",\"2018-06-08\",\"2018-06-13\",\"2018-06-14\",\"2018-06-15\",\"2018-06-27\",\"2018-06-28\",\"2018-06-29\",\"2018-07-03\",\"2018-07-04\",\"2018-07-05\",\"2018-09-11\",\"2018-09-12\",\"2018-09-13\",\"2018-09-14\",\"2018-09-26\",\"2018-09-27\",\"2018-09-28\",\"2018-10-10\",\"2018-10-11\",\"2018-10-12\",\"2018-10-17\",\"2018-10-18\",\"2018-10-19\",\"2018-11-07\",\"2018-11-08\",\"2018-11-09\",\"2018-11-20\",\"2018-11-21\",\"2018-11-22\",\"2018-11-23\",\"2018-11-28\",\"2018-11-29\",\"2018-11-30\",\"2018-12-12\",\"2018-12-13\",\"2018-12-14\",\"2019-01-16\",\"2019-01-17\",\"2019-01-18\",\"2019-01-30\",\"2019-01-31\",\"2019-02-01\",\"2019-02-13\",\"2019-02-14\",\"2019-02-15\",\"2019-02-20\",\"2019-02-21\",\"2019-02-22\",\"2019-03-13\",\"2019-03-14\",\"2019-03-15\",\"2019-03-20\",\"2019-03-21\",\"2019-03-22\",\"2019-04-03\",\"2019-04-04\",\"2019-04-05\",\"2019-04-10\",\"2019-04-11\",\"2019-04-12\",\"2019-05-08\",\"2019-05-09\",\"2019-05-10\",\"2019-05-15\",\"2019-05-16\",\"2019-05-17\",\"2019-06-05\",\"2019-06-06\",\"2019-06-07\",\"2019-06-26\",\"2019-06-27\",\"2019-06-28\",\"2019-07-24\",\"2019-09-10\",\"2019-09-11\",\"2019-09-12\",\"2019-09-13\",\"2019-09-25\",\"2019-09-26\",\"2019-09-27\",\"2019-10-16\",\"2019-10-17\",\"2019-10-18\",\"2019-10-23\",\"2019-10-24\",\"2019-10-25\",\"2019-11-06\",\"2019-11-07\",\"2019-11-08\",\"2019-11-13\",\"2019-11-14\",\"2019-11-15\",\"2019-11-26\",\"2019-11-27\",\"2019-11-28\",\"2019-11-29\",\"2019-12-11\",\"2019-12-12\",\"2019-12-13\",\"2019-12-18\",\"2019-12-19\",\"2019-12-20\",\"2020-01-15\",\"2020-01-16\",\"2020-01-17\",\"2020-01-29\",\"2020-01-30\",\"2020-01-31\",\"2020-02-12\",\"2020-02-13\",\"2020-02-14\",\"2020-03-04\",\"2020-03-05\",\"2020-03-06\",\"2020-03-11\",\"2020-03-12\",\"2020-03-13\",\"2020-03-25\",\"2020-04-22\",\"2020-04-23\",\"2020-05-06\",\"2020-05-07\",\"2020-05-13\",\"2020-05-14\",\"2020-05-15\",\"2020-05-27\",\"2020-05-28\",\"2020-05-29\",\"2020-06-17\",\"2020-06-18\",\"2020-06-19\",\"2020-06-29\",\"2020-07-01\",\"2020-07-02\",\"2020-07-03\",\"2020-09-09\",\"2020-09-10\",\"2020-09-11\",\"2020-09-16\",\"2020-09-17\",\"2020-09-18\",\"2020-09-29\",\"2020-09-30\",\"2020-10-01\",\"2020-10-02\",\"2020-10-07\",\"2020-10-08\",\"2020-10-09\",\"2020-10-28\",\"2020-10-29\",\"2020-10-30\",\"2020-11-04\",\"2020-11-05\",\"2020-11-06\",\"2020-11-18\",\"2020-11-19\",\"2020-11-20\",\"2020-11-25\",\"2020-11-26\",\"2020-11-27\",\"2020-12-08\",\"2020-12-09\",\"2020-12-10\",\"2020-12-11\",\"2020-12-16\",\"2020-12-17\",\"2021-01-13\",\"2021-01-14\",\"2021-01-27\",\"2021-01-28\",\"2021-01-29\",\"2021-02-10\",\"2021-02-11\",\"2021-02-12\",\"2021-02-24\",\"2021-02-25\",\"2021-02-26\",\"2021-03-03\",\"2021-03-04\",\"2021-03-05\",\"2021-03-24\",\"2021-03-25\",\"2021-03-26\",\"2021-04-13\",\"2021-04-15\",\"2021-04-16\",\"2021-04-21\",\"2021-04-22\",\"2021-04-23\",\"2021-05-05\",\"2021-05-06\",\"2021-05-07\",\"2021-05-19\",\"2021-05-20\",\"2021-05-21\",\"2021-06-09\",\"2021-06-10\",\"2021-06-11\",\"2021-06-23\",\"2021-06-24\",\"2021-06-25\",\"2021-08-25\",\"2021-09-07\"],\"xaxis\":\"x\",\"y\":[0.1508251936053717,0.12062373330137413,0.1257524836220518,0.12666638571240163,0.1286385361110188,0.1269835677779738,0.14040716885096577,0.13645623163032025,0.1357392283675823,0.1384248107375951,0.1382342156297229,0.13522783276361686,0.13690974305078804,0.13757922872968487,0.1397633242498275,0.138326228181412,0.13496589481876914,0.13556430662980254,0.1358180360262827,0.13536453009438718,0.13331505984291145,0.13571615761289937,0.1363091796423384,0.1493314820459081,0.14922068639424232,0.14871856414199655,0.14444754452234493,0.13745610025889354,0.13682915602242746,0.13549715263931716,0.1438092302729462,0.14617311370643152,0.14438793291877977,0.14279517422016286,0.14409185125864013,0.1463317737403404,0.14081579545062606,0.14552882823019317,0.14380295790348024,0.16420661533561232,0.14191190293530356,0.14065795783278645,0.16219366381167377,0.14147991986961903,0.13723908597984985,0.13221611070549044,0.1325925774672761,0.13268541018711996,0.14404713570657657,0.14558861626876593,0.14745042586302703,0.14014956989207278,0.13863864017069286,0.11285431502871048,0.11232510068166833,0.11964882780748322,0.12862833528881631,0.12387261477711936,0.1253886556459178,0.12800324851886594,0.1432819371580119,0.1230817132291578,0.11679466877654458,0.11826202118821966,0.11715156047902249,0.11729674362012472,0.14490508897852955,0.1339070818076128,0.1325668968980157,0.13541985094417672,0.13598787811713983,0.14311575923512054,0.16426069014504124,0.16364479931930836,0.16580023388522594,0.17222909255648608,0.17423021347504292,0.1715706295062073,0.1690511955198755,0.16259063346452587,0.15958542272567897,0.16291654609612222,0.1590745337846503,0.16385020718281007,0.16315889443618814,0.16119708011756526,0.1585019209306803,0.15643707317433542,0.15905614223397965,0.15948924981458226,0.1588121364880117,0.15792199988941727,0.17848202370266963,0.15750247398413666,0.15781800198852428,0.1590368255435437,0.15294245433365705,0.15662884940613112,0.1550712844228507,0.15437256971431162,0.154208037535989,0.15298511589464364,0.13646910299755421,0.1391057210414029,0.1393857889626072,0.13785469570712175,0.13638122247960477,0.13578552123965623,0.13431882377552412,0.13512229236119866,0.13434847006297201,0.134313236025628,0.14142420343011197,0.1390584401168898,0.13914813206377735,0.14107811295971837,0.1434278070975287,0.14498308075155517,0.1453410096525208,0.1488719036046974,0.15061746360779948,0.15069547926742272,0.15398936612690595,0.1543127137217037,0.15311738805977573,0.14836693147978422,0.1538451186003966,0.14639030918841175,0.15441785899428112,0.15606314380396852,0.15500842629490788,0.15881419400589186,0.1591241515715799,0.15747373391214764,0.15924175820677175,0.1617010636882027,0.1652987292543965,0.1662888331937953,0.16221431588657917,0.1605444811870086,0.16415710687462196,0.1600013350563382,0.15382102366719463,0.14947121500611965,0.13797462353501078,0.1392674960448229,0.13867412463330925,0.13538608116846362,0.13119962003270363,0.12838078673614634,0.1264861662672854,0.12247696662991518,0.1210981229016945,0.12073019118086369,0.12439027419647052,0.12709416381338182,0.12380833115872415,0.12551054473860385,0.12267386170410284,0.12279994386351063,0.12301471716818187,0.12038605217022072,0.11962491131064279,0.11206700700457085,0.11236301679119544,0.1099810462080138,0.11192517010457015,0.10869960918810866,0.11204786421897966,0.11208348617563389,0.11165226951958544,0.11371699924103167,0.1150426954775626,0.11540502216585787,0.12689066184587233,0.1268831347215506,0.12676332840660798,0.12928903720790963,0.13423821102183525,0.1310104375508648,0.1306388057319747,0.13264042716445523,0.1342166650373214,0.13349375313869447,0.13115576039263457,0.13266061526752054,0.12884775370441476,0.12554196913506357,0.13044274096752137,0.128887521255586,0.12892376877120768,0.12701052773567922,0.12938701599977476,0.1396371824683539,0.13837142525049814,0.13323353510708244,0.13504544843324162,0.12816123359246412,0.12860944844395178,0.13720891766469734,0.1379174854264002,0.13594695075330473,0.13062203605792358,0.13174903161686005,0.12212900865678682,0.1227152137841601,0.1212636779825861,0.11585169899362374,0.10429380694812324],\"yaxis\":\"y\",\"type\":\"scatter\"}],                        {\"template\":{\"data\":{\"histogram2dcontour\":[{\"type\":\"histogram2dcontour\",\"colorbar\":{\"outlinewidth\":0,\"ticks\":\"\"},\"colorscale\":[[0.0,\"#0d0887\"],[0.1111111111111111,\"#46039f\"],[0.2222222222222222,\"#7201a8\"],[0.3333333333333333,\"#9c179e\"],[0.4444444444444444,\"#bd3786\"],[0.5555555555555556,\"#d8576b\"],[0.6666666666666666,\"#ed7953\"],[0.7777777777777778,\"#fb9f3a\"],[0.8888888888888888,\"#fdca26\"],[1.0,\"#f0f921\"]]}],\"choropleth\":[{\"type\":\"choropleth\",\"colorbar\":{\"outlinewidth\":0,\"ticks\":\"\"}}],\"histogram2d\":[{\"type\":\"histogram2d\",\"colorbar\":{\"outlinewidth\":0,\"ticks\":\"\"},\"colorscale\":[[0.0,\"#0d0887\"],[0.1111111111111111,\"#46039f\"],[0.2222222222222222,\"#7201a8\"],[0.3333333333333333,\"#9c179e\"],[0.4444444444444444,\"#bd3786\"],[0.5555555555555556,\"#d8576b\"],[0.6666666666666666,\"#ed7953\"],[0.7777777777777778,\"#fb9f3a\"],[0.8888888888888888,\"#fdca26\"],[1.0,\"#f0f921\"]]}],\"heatmap\":[{\"type\":\"heatmap\",\"colorbar\":{\"outlinewidth\":0,\"ticks\":\"\"},\"colorscale\":[[0.0,\"#0d0887\"],[0.1111111111111111,\"#46039f\"],[0.2222222222222222,\"#7201a8\"],[0.3333333333333333,\"#9c179e\"],[0.4444444444444444,\"#bd3786\"],[0.5555555555555556,\"#d8576b\"],[0.6666666666666666,\"#ed7953\"],[0.7777777777777778,\"#fb9f3a\"],[0.8888888888888888,\"#fdca26\"],[1.0,\"#f0f921\"]]}],\"heatmapgl\":[{\"type\":\"heatmapgl\",\"colorbar\":{\"outlinewidth\":0,\"ticks\":\"\"},\"colorscale\":[[0.0,\"#0d0887\"],[0.1111111111111111,\"#46039f\"],[0.2222222222222222,\"#7201a8\"],[0.3333333333333333,\"#9c179e\"],[0.4444444444444444,\"#bd3786\"],[0.5555555555555556,\"#d8576b\"],[0.6666666666666666,\"#ed7953\"],[0.7777777777777778,\"#fb9f3a\"],[0.8888888888888888,\"#fdca26\"],[1.0,\"#f0f921\"]]}],\"contourcarpet\":[{\"type\":\"contourcarpet\",\"colorbar\":{\"outlinewidth\":0,\"ticks\":\"\"}}],\"contour\":[{\"type\":\"contour\",\"colorbar\":{\"outlinewidth\":0,\"ticks\":\"\"},\"colorscale\":[[0.0,\"#0d0887\"],[0.1111111111111111,\"#46039f\"],[0.2222222222222222,\"#7201a8\"],[0.3333333333333333,\"#9c179e\"],[0.4444444444444444,\"#bd3786\"],[0.5555555555555556,\"#d8576b\"],[0.6666666666666666,\"#ed7953\"],[0.7777777777777778,\"#fb9f3a\"],[0.8888888888888888,\"#fdca26\"],[1.0,\"#f0f921\"]]}],\"surface\":[{\"type\":\"surface\",\"colorbar\":{\"outlinewidth\":0,\"ticks\":\"\"},\"colorscale\":[[0.0,\"#0d0887\"],[0.1111111111111111,\"#46039f\"],[0.2222222222222222,\"#7201a8\"],[0.3333333333333333,\"#9c179e\"],[0.4444444444444444,\"#bd3786\"],[0.5555555555555556,\"#d8576b\"],[0.6666666666666666,\"#ed7953\"],[0.7777777777777778,\"#fb9f3a\"],[0.8888888888888888,\"#fdca26\"],[1.0,\"#f0f921\"]]}],\"mesh3d\":[{\"type\":\"mesh3d\",\"colorbar\":{\"outlinewidth\":0,\"ticks\":\"\"}}],\"scatter\":[{\"fillpattern\":{\"fillmode\":\"overlay\",\"size\":10,\"solidity\":0.2},\"type\":\"scatter\"}],\"parcoords\":[{\"type\":\"parcoords\",\"line\":{\"colorbar\":{\"outlinewidth\":0,\"ticks\":\"\"}}}],\"scatterpolargl\":[{\"type\":\"scatterpolargl\",\"marker\":{\"colorbar\":{\"outlinewidth\":0,\"ticks\":\"\"}}}],\"bar\":[{\"error_x\":{\"color\":\"#2a3f5f\"},\"error_y\":{\"color\":\"#2a3f5f\"},\"marker\":{\"line\":{\"color\":\"#E5ECF6\",\"width\":0.5},\"pattern\":{\"fillmode\":\"overlay\",\"size\":10,\"solidity\":0.2}},\"type\":\"bar\"}],\"scattergeo\":[{\"type\":\"scattergeo\",\"marker\":{\"colorbar\":{\"outlinewidth\":0,\"ticks\":\"\"}}}],\"scatterpolar\":[{\"type\":\"scatterpolar\",\"marker\":{\"colorbar\":{\"outlinewidth\":0,\"ticks\":\"\"}}}],\"histogram\":[{\"marker\":{\"pattern\":{\"fillmode\":\"overlay\",\"size\":10,\"solidity\":0.2}},\"type\":\"histogram\"}],\"scattergl\":[{\"type\":\"scattergl\",\"marker\":{\"colorbar\":{\"outlinewidth\":0,\"ticks\":\"\"}}}],\"scatter3d\":[{\"type\":\"scatter3d\",\"line\":{\"colorbar\":{\"outlinewidth\":0,\"ticks\":\"\"}},\"marker\":{\"colorbar\":{\"outlinewidth\":0,\"ticks\":\"\"}}}],\"scattermapbox\":[{\"type\":\"scattermapbox\",\"marker\":{\"colorbar\":{\"outlinewidth\":0,\"ticks\":\"\"}}}],\"scatterternary\":[{\"type\":\"scatterternary\",\"marker\":{\"colorbar\":{\"outlinewidth\":0,\"ticks\":\"\"}}}],\"scattercarpet\":[{\"type\":\"scattercarpet\",\"marker\":{\"colorbar\":{\"outlinewidth\":0,\"ticks\":\"\"}}}],\"carpet\":[{\"aaxis\":{\"endlinecolor\":\"#2a3f5f\",\"gridcolor\":\"white\",\"linecolor\":\"white\",\"minorgridcolor\":\"white\",\"startlinecolor\":\"#2a3f5f\"},\"baxis\":{\"endlinecolor\":\"#2a3f5f\",\"gridcolor\":\"white\",\"linecolor\":\"white\",\"minorgridcolor\":\"white\",\"startlinecolor\":\"#2a3f5f\"},\"type\":\"carpet\"}],\"table\":[{\"cells\":{\"fill\":{\"color\":\"#EBF0F8\"},\"line\":{\"color\":\"white\"}},\"header\":{\"fill\":{\"color\":\"#C8D4E3\"},\"line\":{\"color\":\"white\"}},\"type\":\"table\"}],\"barpolar\":[{\"marker\":{\"line\":{\"color\":\"#E5ECF6\",\"width\":0.5},\"pattern\":{\"fillmode\":\"overlay\",\"size\":10,\"solidity\":0.2}},\"type\":\"barpolar\"}],\"pie\":[{\"automargin\":true,\"type\":\"pie\"}]},\"layout\":{\"autotypenumbers\":\"strict\",\"colorway\":[\"#636efa\",\"#EF553B\",\"#00cc96\",\"#ab63fa\",\"#FFA15A\",\"#19d3f3\",\"#FF6692\",\"#B6E880\",\"#FF97FF\",\"#FECB52\"],\"font\":{\"color\":\"#2a3f5f\"},\"hovermode\":\"closest\",\"hoverlabel\":{\"align\":\"left\"},\"paper_bgcolor\":\"white\",\"plot_bgcolor\":\"#E5ECF6\",\"polar\":{\"bgcolor\":\"#E5ECF6\",\"angularaxis\":{\"gridcolor\":\"white\",\"linecolor\":\"white\",\"ticks\":\"\"},\"radialaxis\":{\"gridcolor\":\"white\",\"linecolor\":\"white\",\"ticks\":\"\"}},\"ternary\":{\"bgcolor\":\"#E5ECF6\",\"aaxis\":{\"gridcolor\":\"white\",\"linecolor\":\"white\",\"ticks\":\"\"},\"baxis\":{\"gridcolor\":\"white\",\"linecolor\":\"white\",\"ticks\":\"\"},\"caxis\":{\"gridcolor\":\"white\",\"linecolor\":\"white\",\"ticks\":\"\"}},\"coloraxis\":{\"colorbar\":{\"outlinewidth\":0,\"ticks\":\"\"}},\"colorscale\":{\"sequential\":[[0.0,\"#0d0887\"],[0.1111111111111111,\"#46039f\"],[0.2222222222222222,\"#7201a8\"],[0.3333333333333333,\"#9c179e\"],[0.4444444444444444,\"#bd3786\"],[0.5555555555555556,\"#d8576b\"],[0.6666666666666666,\"#ed7953\"],[0.7777777777777778,\"#fb9f3a\"],[0.8888888888888888,\"#fdca26\"],[1.0,\"#f0f921\"]],\"sequentialminus\":[[0.0,\"#0d0887\"],[0.1111111111111111,\"#46039f\"],[0.2222222222222222,\"#7201a8\"],[0.3333333333333333,\"#9c179e\"],[0.4444444444444444,\"#bd3786\"],[0.5555555555555556,\"#d8576b\"],[0.6666666666666666,\"#ed7953\"],[0.7777777777777778,\"#fb9f3a\"],[0.8888888888888888,\"#fdca26\"],[1.0,\"#f0f921\"]],\"diverging\":[[0,\"#8e0152\"],[0.1,\"#c51b7d\"],[0.2,\"#de77ae\"],[0.3,\"#f1b6da\"],[0.4,\"#fde0ef\"],[0.5,\"#f7f7f7\"],[0.6,\"#e6f5d0\"],[0.7,\"#b8e186\"],[0.8,\"#7fbc41\"],[0.9,\"#4d9221\"],[1,\"#276419\"]]},\"xaxis\":{\"gridcolor\":\"white\",\"linecolor\":\"white\",\"ticks\":\"\",\"title\":{\"standoff\":15},\"zerolinecolor\":\"white\",\"automargin\":true,\"zerolinewidth\":2},\"yaxis\":{\"gridcolor\":\"white\",\"linecolor\":\"white\",\"ticks\":\"\",\"title\":{\"standoff\":15},\"zerolinecolor\":\"white\",\"automargin\":true,\"zerolinewidth\":2},\"scene\":{\"xaxis\":{\"backgroundcolor\":\"#E5ECF6\",\"gridcolor\":\"white\",\"linecolor\":\"white\",\"showbackground\":true,\"ticks\":\"\",\"zerolinecolor\":\"white\",\"gridwidth\":2},\"yaxis\":{\"backgroundcolor\":\"#E5ECF6\",\"gridcolor\":\"white\",\"linecolor\":\"white\",\"showbackground\":true,\"ticks\":\"\",\"zerolinecolor\":\"white\",\"gridwidth\":2},\"zaxis\":{\"backgroundcolor\":\"#E5ECF6\",\"gridcolor\":\"white\",\"linecolor\":\"white\",\"showbackground\":true,\"ticks\":\"\",\"zerolinecolor\":\"white\",\"gridwidth\":2}},\"shapedefaults\":{\"line\":{\"color\":\"#2a3f5f\"}},\"annotationdefaults\":{\"arrowcolor\":\"#2a3f5f\",\"arrowhead\":0,\"arrowwidth\":1},\"geo\":{\"bgcolor\":\"white\",\"landcolor\":\"#E5ECF6\",\"subunitcolor\":\"white\",\"showland\":true,\"showlakes\":true,\"lakecolor\":\"white\"},\"title\":{\"x\":0.05},\"mapbox\":{\"style\":\"light\"}}},\"xaxis\":{\"anchor\":\"y\",\"domain\":[0.0,1.0],\"title\":{\"text\":\"date\"}},\"yaxis\":{\"anchor\":\"x\",\"domain\":[0.0,1.0],\"title\":{\"text\":\"relative_saliency\"},\"range\":[0,1]},\"legend\":{\"title\":{\"text\":\"party\"},\"tracegroupgap\":0},\"title\":{\"text\":\"Relative Saliency of Climate by party over time\"}},                        {\"responsive\": true}                    ).then(function(){\n",
       "                            \n",
       "var gd = document.getElementById('5d45c888-261c-454f-ba56-de8d61c26571');\n",
       "var x = new MutationObserver(function (mutations, observer) {{\n",
       "        var display = window.getComputedStyle(gd).display;\n",
       "        if (!display || display === 'none') {{\n",
       "            console.log([gd, 'removed!']);\n",
       "            Plotly.purge(gd);\n",
       "            observer.disconnect();\n",
       "        }}\n",
       "}});\n",
       "\n",
       "// Listen for the removal of the full notebook cells\n",
       "var notebookContainer = gd.closest('#notebook-container');\n",
       "if (notebookContainer) {{\n",
       "    x.observe(notebookContainer, {childList: true});\n",
       "}}\n",
       "\n",
       "// Listen for the clearing of the current output cell\n",
       "var outputEl = gd.closest('.output');\n",
       "if (outputEl) {{\n",
       "    x.observe(outputEl, {childList: true});\n",
       "}}\n",
       "\n",
       "                        })                };                });            </script>        </div>"
      ]
     },
     "metadata": {},
     "output_type": "display_data"
    }
   ],
   "source": [
    "import plotly.express as px\n",
    "\n",
    "fig = px.area(rollingdf, x=\"date\", y=\"relative_saliency\", color='party', title=\"Relative Saliency of Climate by party over time\", range_y=[0,1], color_discrete_map=PARTYCOLORS)\n",
    "fig.show()"
   ]
  },
  {
   "cell_type": "code",
   "execution_count": null,
   "id": "81514e38-89f1-4149-b20b-eec88aa2cb01",
   "metadata": {},
   "outputs": [],
   "source": []
  },
  {
   "cell_type": "code",
   "execution_count": 365,
   "id": "cad60d5e-d391-4ce7-a810-f114e73c1102",
   "metadata": {},
   "outputs": [],
   "source": [
    "## Count pargraphs per party again and convert number to dataframe\n",
    "climatecount = dfg.value_counts(\"party\")\n",
    "totals = pd.DataFrame(totalcount.reset_index()).rename(columns={\"party\":\"total_party\", \"index\":\"party\"})\n",
    "climatecount = pd.DataFrame(climatecount.reset_index()).rename(columns={0:\"total_climate\"})"
   ]
  },
  {
   "cell_type": "code",
   "execution_count": 366,
   "id": "c8d575b6-437f-4b7e-b2eb-59e58ca4d9c0",
   "metadata": {},
   "outputs": [
    {
     "data": {
      "text/html": [
       "<div>\n",
       "<style scoped>\n",
       "    .dataframe tbody tr th:only-of-type {\n",
       "        vertical-align: middle;\n",
       "    }\n",
       "\n",
       "    .dataframe tbody tr th {\n",
       "        vertical-align: top;\n",
       "    }\n",
       "\n",
       "    .dataframe thead th {\n",
       "        text-align: right;\n",
       "    }\n",
       "</style>\n",
       "<table border=\"1\" class=\"dataframe\">\n",
       "  <thead>\n",
       "    <tr style=\"text-align: right;\">\n",
       "      <th></th>\n",
       "      <th>party</th>\n",
       "      <th>total_climate</th>\n",
       "      <th>total_party</th>\n",
       "      <th>saliency_climate</th>\n",
       "    </tr>\n",
       "  </thead>\n",
       "  <tbody>\n",
       "    <tr>\n",
       "      <th>0</th>\n",
       "      <td>GRUENE</td>\n",
       "      <td>1343</td>\n",
       "      <td>33504</td>\n",
       "      <td>0.040085</td>\n",
       "    </tr>\n",
       "    <tr>\n",
       "      <th>1</th>\n",
       "      <td>SPD</td>\n",
       "      <td>1093</td>\n",
       "      <td>53429</td>\n",
       "      <td>0.020457</td>\n",
       "    </tr>\n",
       "    <tr>\n",
       "      <th>2</th>\n",
       "      <td>CDU</td>\n",
       "      <td>883</td>\n",
       "      <td>57941</td>\n",
       "      <td>0.015240</td>\n",
       "    </tr>\n",
       "    <tr>\n",
       "      <th>3</th>\n",
       "      <td>FDP</td>\n",
       "      <td>651</td>\n",
       "      <td>34280</td>\n",
       "      <td>0.018991</td>\n",
       "    </tr>\n",
       "    <tr>\n",
       "      <th>4</th>\n",
       "      <td>DIE LINKE</td>\n",
       "      <td>611</td>\n",
       "      <td>32745</td>\n",
       "      <td>0.018659</td>\n",
       "    </tr>\n",
       "    <tr>\n",
       "      <th>5</th>\n",
       "      <td>AfD</td>\n",
       "      <td>600</td>\n",
       "      <td>45268</td>\n",
       "      <td>0.013254</td>\n",
       "    </tr>\n",
       "    <tr>\n",
       "      <th>6</th>\n",
       "      <td>CSU</td>\n",
       "      <td>510</td>\n",
       "      <td>21279</td>\n",
       "      <td>0.023967</td>\n",
       "    </tr>\n",
       "  </tbody>\n",
       "</table>\n",
       "</div>"
      ],
      "text/plain": [
       "       party  total_climate  total_party  saliency_climate\n",
       "0     GRUENE           1343        33504          0.040085\n",
       "1        SPD           1093        53429          0.020457\n",
       "2        CDU            883        57941          0.015240\n",
       "3        FDP            651        34280          0.018991\n",
       "4  DIE LINKE            611        32745          0.018659\n",
       "5        AfD            600        45268          0.013254\n",
       "6        CSU            510        21279          0.023967"
      ]
     },
     "execution_count": 366,
     "metadata": {},
     "output_type": "execute_result"
    }
   ],
   "source": [
    "# Calculate saliency of climate for the entire electoral term\n",
    "climatecount = climatecount.merge(totals)\n",
    "climatecount[\"saliency_climate\"] = climatecount[\"total_climate\"]/climatecount[\"total_party\"]\n",
    "climatecount"
   ]
  },
  {
   "cell_type": "code",
   "execution_count": 367,
   "id": "5b1737cf-e017-43e5-955d-b0760d3c65e1",
   "metadata": {},
   "outputs": [
    {
     "data": {
      "application/vnd.plotly.v1+json": {
       "config": {
        "plotlyServerURL": "https://plot.ly"
       },
       "data": [
        {
         "customdata": [
          [
           "GRUENE"
          ],
          [
           "SPD"
          ],
          [
           "CDU"
          ],
          [
           "FDP"
          ],
          [
           "DIE LINKE"
          ],
          [
           "AfD"
          ],
          [
           "CSU"
          ]
         ],
         "domain": {
          "x": [
           0,
           1
          ],
          "y": [
           0,
           1
          ]
         },
         "hovertemplate": "party=%{customdata[0]}<br>saliency_climate=%{value}<extra></extra>",
         "labels": [
          "GRUENE",
          "SPD",
          "CDU",
          "FDP",
          "DIE LINKE",
          "AfD",
          "CSU"
         ],
         "legendgroup": "",
         "marker": {
          "colors": [
           "#52d157",
           "#e03427",
           "black",
           "#ffeb3b",
           "#a33ab5",
           "#59dcff",
           "#525060"
          ]
         },
         "name": "",
         "showlegend": true,
         "type": "pie",
         "values": [
          0.04008476599808978,
          0.020457055157311572,
          0.015239640323777635,
          0.018990665110851807,
          0.0186593373034051,
          0.013254396041353715,
          0.023967291696038347
         ]
        }
       ],
       "layout": {
        "autosize": true,
        "legend": {
         "tracegroupgap": 0
        },
        "template": {
         "data": {
          "bar": [
           {
            "error_x": {
             "color": "#2a3f5f"
            },
            "error_y": {
             "color": "#2a3f5f"
            },
            "marker": {
             "line": {
              "color": "#E5ECF6",
              "width": 0.5
             },
             "pattern": {
              "fillmode": "overlay",
              "size": 10,
              "solidity": 0.2
             }
            },
            "type": "bar"
           }
          ],
          "barpolar": [
           {
            "marker": {
             "line": {
              "color": "#E5ECF6",
              "width": 0.5
             },
             "pattern": {
              "fillmode": "overlay",
              "size": 10,
              "solidity": 0.2
             }
            },
            "type": "barpolar"
           }
          ],
          "carpet": [
           {
            "aaxis": {
             "endlinecolor": "#2a3f5f",
             "gridcolor": "white",
             "linecolor": "white",
             "minorgridcolor": "white",
             "startlinecolor": "#2a3f5f"
            },
            "baxis": {
             "endlinecolor": "#2a3f5f",
             "gridcolor": "white",
             "linecolor": "white",
             "minorgridcolor": "white",
             "startlinecolor": "#2a3f5f"
            },
            "type": "carpet"
           }
          ],
          "choropleth": [
           {
            "colorbar": {
             "outlinewidth": 0,
             "ticks": ""
            },
            "type": "choropleth"
           }
          ],
          "contour": [
           {
            "colorbar": {
             "outlinewidth": 0,
             "ticks": ""
            },
            "colorscale": [
             [
              0,
              "#0d0887"
             ],
             [
              0.1111111111111111,
              "#46039f"
             ],
             [
              0.2222222222222222,
              "#7201a8"
             ],
             [
              0.3333333333333333,
              "#9c179e"
             ],
             [
              0.4444444444444444,
              "#bd3786"
             ],
             [
              0.5555555555555556,
              "#d8576b"
             ],
             [
              0.6666666666666666,
              "#ed7953"
             ],
             [
              0.7777777777777778,
              "#fb9f3a"
             ],
             [
              0.8888888888888888,
              "#fdca26"
             ],
             [
              1,
              "#f0f921"
             ]
            ],
            "type": "contour"
           }
          ],
          "contourcarpet": [
           {
            "colorbar": {
             "outlinewidth": 0,
             "ticks": ""
            },
            "type": "contourcarpet"
           }
          ],
          "heatmap": [
           {
            "colorbar": {
             "outlinewidth": 0,
             "ticks": ""
            },
            "colorscale": [
             [
              0,
              "#0d0887"
             ],
             [
              0.1111111111111111,
              "#46039f"
             ],
             [
              0.2222222222222222,
              "#7201a8"
             ],
             [
              0.3333333333333333,
              "#9c179e"
             ],
             [
              0.4444444444444444,
              "#bd3786"
             ],
             [
              0.5555555555555556,
              "#d8576b"
             ],
             [
              0.6666666666666666,
              "#ed7953"
             ],
             [
              0.7777777777777778,
              "#fb9f3a"
             ],
             [
              0.8888888888888888,
              "#fdca26"
             ],
             [
              1,
              "#f0f921"
             ]
            ],
            "type": "heatmap"
           }
          ],
          "heatmapgl": [
           {
            "colorbar": {
             "outlinewidth": 0,
             "ticks": ""
            },
            "colorscale": [
             [
              0,
              "#0d0887"
             ],
             [
              0.1111111111111111,
              "#46039f"
             ],
             [
              0.2222222222222222,
              "#7201a8"
             ],
             [
              0.3333333333333333,
              "#9c179e"
             ],
             [
              0.4444444444444444,
              "#bd3786"
             ],
             [
              0.5555555555555556,
              "#d8576b"
             ],
             [
              0.6666666666666666,
              "#ed7953"
             ],
             [
              0.7777777777777778,
              "#fb9f3a"
             ],
             [
              0.8888888888888888,
              "#fdca26"
             ],
             [
              1,
              "#f0f921"
             ]
            ],
            "type": "heatmapgl"
           }
          ],
          "histogram": [
           {
            "marker": {
             "pattern": {
              "fillmode": "overlay",
              "size": 10,
              "solidity": 0.2
             }
            },
            "type": "histogram"
           }
          ],
          "histogram2d": [
           {
            "colorbar": {
             "outlinewidth": 0,
             "ticks": ""
            },
            "colorscale": [
             [
              0,
              "#0d0887"
             ],
             [
              0.1111111111111111,
              "#46039f"
             ],
             [
              0.2222222222222222,
              "#7201a8"
             ],
             [
              0.3333333333333333,
              "#9c179e"
             ],
             [
              0.4444444444444444,
              "#bd3786"
             ],
             [
              0.5555555555555556,
              "#d8576b"
             ],
             [
              0.6666666666666666,
              "#ed7953"
             ],
             [
              0.7777777777777778,
              "#fb9f3a"
             ],
             [
              0.8888888888888888,
              "#fdca26"
             ],
             [
              1,
              "#f0f921"
             ]
            ],
            "type": "histogram2d"
           }
          ],
          "histogram2dcontour": [
           {
            "colorbar": {
             "outlinewidth": 0,
             "ticks": ""
            },
            "colorscale": [
             [
              0,
              "#0d0887"
             ],
             [
              0.1111111111111111,
              "#46039f"
             ],
             [
              0.2222222222222222,
              "#7201a8"
             ],
             [
              0.3333333333333333,
              "#9c179e"
             ],
             [
              0.4444444444444444,
              "#bd3786"
             ],
             [
              0.5555555555555556,
              "#d8576b"
             ],
             [
              0.6666666666666666,
              "#ed7953"
             ],
             [
              0.7777777777777778,
              "#fb9f3a"
             ],
             [
              0.8888888888888888,
              "#fdca26"
             ],
             [
              1,
              "#f0f921"
             ]
            ],
            "type": "histogram2dcontour"
           }
          ],
          "mesh3d": [
           {
            "colorbar": {
             "outlinewidth": 0,
             "ticks": ""
            },
            "type": "mesh3d"
           }
          ],
          "parcoords": [
           {
            "line": {
             "colorbar": {
              "outlinewidth": 0,
              "ticks": ""
             }
            },
            "type": "parcoords"
           }
          ],
          "pie": [
           {
            "automargin": true,
            "type": "pie"
           }
          ],
          "scatter": [
           {
            "fillpattern": {
             "fillmode": "overlay",
             "size": 10,
             "solidity": 0.2
            },
            "type": "scatter"
           }
          ],
          "scatter3d": [
           {
            "line": {
             "colorbar": {
              "outlinewidth": 0,
              "ticks": ""
             }
            },
            "marker": {
             "colorbar": {
              "outlinewidth": 0,
              "ticks": ""
             }
            },
            "type": "scatter3d"
           }
          ],
          "scattercarpet": [
           {
            "marker": {
             "colorbar": {
              "outlinewidth": 0,
              "ticks": ""
             }
            },
            "type": "scattercarpet"
           }
          ],
          "scattergeo": [
           {
            "marker": {
             "colorbar": {
              "outlinewidth": 0,
              "ticks": ""
             }
            },
            "type": "scattergeo"
           }
          ],
          "scattergl": [
           {
            "marker": {
             "colorbar": {
              "outlinewidth": 0,
              "ticks": ""
             }
            },
            "type": "scattergl"
           }
          ],
          "scattermapbox": [
           {
            "marker": {
             "colorbar": {
              "outlinewidth": 0,
              "ticks": ""
             }
            },
            "type": "scattermapbox"
           }
          ],
          "scatterpolar": [
           {
            "marker": {
             "colorbar": {
              "outlinewidth": 0,
              "ticks": ""
             }
            },
            "type": "scatterpolar"
           }
          ],
          "scatterpolargl": [
           {
            "marker": {
             "colorbar": {
              "outlinewidth": 0,
              "ticks": ""
             }
            },
            "type": "scatterpolargl"
           }
          ],
          "scatterternary": [
           {
            "marker": {
             "colorbar": {
              "outlinewidth": 0,
              "ticks": ""
             }
            },
            "type": "scatterternary"
           }
          ],
          "surface": [
           {
            "colorbar": {
             "outlinewidth": 0,
             "ticks": ""
            },
            "colorscale": [
             [
              0,
              "#0d0887"
             ],
             [
              0.1111111111111111,
              "#46039f"
             ],
             [
              0.2222222222222222,
              "#7201a8"
             ],
             [
              0.3333333333333333,
              "#9c179e"
             ],
             [
              0.4444444444444444,
              "#bd3786"
             ],
             [
              0.5555555555555556,
              "#d8576b"
             ],
             [
              0.6666666666666666,
              "#ed7953"
             ],
             [
              0.7777777777777778,
              "#fb9f3a"
             ],
             [
              0.8888888888888888,
              "#fdca26"
             ],
             [
              1,
              "#f0f921"
             ]
            ],
            "type": "surface"
           }
          ],
          "table": [
           {
            "cells": {
             "fill": {
              "color": "#EBF0F8"
             },
             "line": {
              "color": "white"
             }
            },
            "header": {
             "fill": {
              "color": "#C8D4E3"
             },
             "line": {
              "color": "white"
             }
            },
            "type": "table"
           }
          ]
         },
         "layout": {
          "annotationdefaults": {
           "arrowcolor": "#2a3f5f",
           "arrowhead": 0,
           "arrowwidth": 1
          },
          "autotypenumbers": "strict",
          "coloraxis": {
           "colorbar": {
            "outlinewidth": 0,
            "ticks": ""
           }
          },
          "colorscale": {
           "diverging": [
            [
             0,
             "#8e0152"
            ],
            [
             0.1,
             "#c51b7d"
            ],
            [
             0.2,
             "#de77ae"
            ],
            [
             0.3,
             "#f1b6da"
            ],
            [
             0.4,
             "#fde0ef"
            ],
            [
             0.5,
             "#f7f7f7"
            ],
            [
             0.6,
             "#e6f5d0"
            ],
            [
             0.7,
             "#b8e186"
            ],
            [
             0.8,
             "#7fbc41"
            ],
            [
             0.9,
             "#4d9221"
            ],
            [
             1,
             "#276419"
            ]
           ],
           "sequential": [
            [
             0,
             "#0d0887"
            ],
            [
             0.1111111111111111,
             "#46039f"
            ],
            [
             0.2222222222222222,
             "#7201a8"
            ],
            [
             0.3333333333333333,
             "#9c179e"
            ],
            [
             0.4444444444444444,
             "#bd3786"
            ],
            [
             0.5555555555555556,
             "#d8576b"
            ],
            [
             0.6666666666666666,
             "#ed7953"
            ],
            [
             0.7777777777777778,
             "#fb9f3a"
            ],
            [
             0.8888888888888888,
             "#fdca26"
            ],
            [
             1,
             "#f0f921"
            ]
           ],
           "sequentialminus": [
            [
             0,
             "#0d0887"
            ],
            [
             0.1111111111111111,
             "#46039f"
            ],
            [
             0.2222222222222222,
             "#7201a8"
            ],
            [
             0.3333333333333333,
             "#9c179e"
            ],
            [
             0.4444444444444444,
             "#bd3786"
            ],
            [
             0.5555555555555556,
             "#d8576b"
            ],
            [
             0.6666666666666666,
             "#ed7953"
            ],
            [
             0.7777777777777778,
             "#fb9f3a"
            ],
            [
             0.8888888888888888,
             "#fdca26"
            ],
            [
             1,
             "#f0f921"
            ]
           ]
          },
          "colorway": [
           "#636efa",
           "#EF553B",
           "#00cc96",
           "#ab63fa",
           "#FFA15A",
           "#19d3f3",
           "#FF6692",
           "#B6E880",
           "#FF97FF",
           "#FECB52"
          ],
          "font": {
           "color": "#2a3f5f"
          },
          "geo": {
           "bgcolor": "white",
           "lakecolor": "white",
           "landcolor": "#E5ECF6",
           "showlakes": true,
           "showland": true,
           "subunitcolor": "white"
          },
          "hoverlabel": {
           "align": "left"
          },
          "hovermode": "closest",
          "mapbox": {
           "style": "light"
          },
          "paper_bgcolor": "white",
          "plot_bgcolor": "#E5ECF6",
          "polar": {
           "angularaxis": {
            "gridcolor": "white",
            "linecolor": "white",
            "ticks": ""
           },
           "bgcolor": "#E5ECF6",
           "radialaxis": {
            "gridcolor": "white",
            "linecolor": "white",
            "ticks": ""
           }
          },
          "scene": {
           "xaxis": {
            "backgroundcolor": "#E5ECF6",
            "gridcolor": "white",
            "gridwidth": 2,
            "linecolor": "white",
            "showbackground": true,
            "ticks": "",
            "zerolinecolor": "white"
           },
           "yaxis": {
            "backgroundcolor": "#E5ECF6",
            "gridcolor": "white",
            "gridwidth": 2,
            "linecolor": "white",
            "showbackground": true,
            "ticks": "",
            "zerolinecolor": "white"
           },
           "zaxis": {
            "backgroundcolor": "#E5ECF6",
            "gridcolor": "white",
            "gridwidth": 2,
            "linecolor": "white",
            "showbackground": true,
            "ticks": "",
            "zerolinecolor": "white"
           }
          },
          "shapedefaults": {
           "line": {
            "color": "#2a3f5f"
           }
          },
          "ternary": {
           "aaxis": {
            "gridcolor": "white",
            "linecolor": "white",
            "ticks": ""
           },
           "baxis": {
            "gridcolor": "white",
            "linecolor": "white",
            "ticks": ""
           },
           "bgcolor": "#E5ECF6",
           "caxis": {
            "gridcolor": "white",
            "linecolor": "white",
            "ticks": ""
           }
          },
          "title": {
           "x": 0.05
          },
          "xaxis": {
           "automargin": true,
           "gridcolor": "white",
           "linecolor": "white",
           "ticks": "",
           "title": {
            "standoff": 15
           },
           "zerolinecolor": "white",
           "zerolinewidth": 2
          },
          "yaxis": {
           "automargin": true,
           "gridcolor": "white",
           "linecolor": "white",
           "ticks": "",
           "title": {
            "standoff": 15
           },
           "zerolinecolor": "white",
           "zerolinewidth": 2
          }
         }
        },
        "title": {
         "text": "Saliency Climate"
        }
       }
      },
      "image/png": "[encoded data removed]",
      "text/html": [
       "<div>                            <div id=\"a44f5bb2-e67b-44ec-92b4-e46850d341a0\" class=\"plotly-graph-div\" style=\"height:525px; width:100%;\"></div>            <script type=\"text/javascript\">                require([\"plotly\"], function(Plotly) {                    window.PLOTLYENV=window.PLOTLYENV || {};                                    if (document.getElementById(\"a44f5bb2-e67b-44ec-92b4-e46850d341a0\")) {                    Plotly.newPlot(                        \"a44f5bb2-e67b-44ec-92b4-e46850d341a0\",                        [{\"customdata\":[[\"GRUENE\"],[\"SPD\"],[\"CDU\"],[\"FDP\"],[\"DIE LINKE\"],[\"AfD\"],[\"CSU\"]],\"domain\":{\"x\":[0.0,1.0],\"y\":[0.0,1.0]},\"hovertemplate\":\"party=%{customdata[0]}\\u003cbr\\u003esaliency_climate=%{value}\\u003cextra\\u003e\\u003c\\u002fextra\\u003e\",\"labels\":[\"GRUENE\",\"SPD\",\"CDU\",\"FDP\",\"DIE LINKE\",\"AfD\",\"CSU\"],\"legendgroup\":\"\",\"marker\":{\"colors\":[\"#52d157\",\"#e03427\",\"black\",\"#ffeb3b\",\"#a33ab5\",\"#59dcff\",\"#525060\"]},\"name\":\"\",\"showlegend\":true,\"values\":[0.04008476599808978,0.020457055157311572,0.015239640323777635,0.018990665110851807,0.0186593373034051,0.013254396041353715,0.023967291696038347],\"type\":\"pie\"}],                        {\"template\":{\"data\":{\"histogram2dcontour\":[{\"type\":\"histogram2dcontour\",\"colorbar\":{\"outlinewidth\":0,\"ticks\":\"\"},\"colorscale\":[[0.0,\"#0d0887\"],[0.1111111111111111,\"#46039f\"],[0.2222222222222222,\"#7201a8\"],[0.3333333333333333,\"#9c179e\"],[0.4444444444444444,\"#bd3786\"],[0.5555555555555556,\"#d8576b\"],[0.6666666666666666,\"#ed7953\"],[0.7777777777777778,\"#fb9f3a\"],[0.8888888888888888,\"#fdca26\"],[1.0,\"#f0f921\"]]}],\"choropleth\":[{\"type\":\"choropleth\",\"colorbar\":{\"outlinewidth\":0,\"ticks\":\"\"}}],\"histogram2d\":[{\"type\":\"histogram2d\",\"colorbar\":{\"outlinewidth\":0,\"ticks\":\"\"},\"colorscale\":[[0.0,\"#0d0887\"],[0.1111111111111111,\"#46039f\"],[0.2222222222222222,\"#7201a8\"],[0.3333333333333333,\"#9c179e\"],[0.4444444444444444,\"#bd3786\"],[0.5555555555555556,\"#d8576b\"],[0.6666666666666666,\"#ed7953\"],[0.7777777777777778,\"#fb9f3a\"],[0.8888888888888888,\"#fdca26\"],[1.0,\"#f0f921\"]]}],\"heatmap\":[{\"type\":\"heatmap\",\"colorbar\":{\"outlinewidth\":0,\"ticks\":\"\"},\"colorscale\":[[0.0,\"#0d0887\"],[0.1111111111111111,\"#46039f\"],[0.2222222222222222,\"#7201a8\"],[0.3333333333333333,\"#9c179e\"],[0.4444444444444444,\"#bd3786\"],[0.5555555555555556,\"#d8576b\"],[0.6666666666666666,\"#ed7953\"],[0.7777777777777778,\"#fb9f3a\"],[0.8888888888888888,\"#fdca26\"],[1.0,\"#f0f921\"]]}],\"heatmapgl\":[{\"type\":\"heatmapgl\",\"colorbar\":{\"outlinewidth\":0,\"ticks\":\"\"},\"colorscale\":[[0.0,\"#0d0887\"],[0.1111111111111111,\"#46039f\"],[0.2222222222222222,\"#7201a8\"],[0.3333333333333333,\"#9c179e\"],[0.4444444444444444,\"#bd3786\"],[0.5555555555555556,\"#d8576b\"],[0.6666666666666666,\"#ed7953\"],[0.7777777777777778,\"#fb9f3a\"],[0.8888888888888888,\"#fdca26\"],[1.0,\"#f0f921\"]]}],\"contourcarpet\":[{\"type\":\"contourcarpet\",\"colorbar\":{\"outlinewidth\":0,\"ticks\":\"\"}}],\"contour\":[{\"type\":\"contour\",\"colorbar\":{\"outlinewidth\":0,\"ticks\":\"\"},\"colorscale\":[[0.0,\"#0d0887\"],[0.1111111111111111,\"#46039f\"],[0.2222222222222222,\"#7201a8\"],[0.3333333333333333,\"#9c179e\"],[0.4444444444444444,\"#bd3786\"],[0.5555555555555556,\"#d8576b\"],[0.6666666666666666,\"#ed7953\"],[0.7777777777777778,\"#fb9f3a\"],[0.8888888888888888,\"#fdca26\"],[1.0,\"#f0f921\"]]}],\"surface\":[{\"type\":\"surface\",\"colorbar\":{\"outlinewidth\":0,\"ticks\":\"\"},\"colorscale\":[[0.0,\"#0d0887\"],[0.1111111111111111,\"#46039f\"],[0.2222222222222222,\"#7201a8\"],[0.3333333333333333,\"#9c179e\"],[0.4444444444444444,\"#bd3786\"],[0.5555555555555556,\"#d8576b\"],[0.6666666666666666,\"#ed7953\"],[0.7777777777777778,\"#fb9f3a\"],[0.8888888888888888,\"#fdca26\"],[1.0,\"#f0f921\"]]}],\"mesh3d\":[{\"type\":\"mesh3d\",\"colorbar\":{\"outlinewidth\":0,\"ticks\":\"\"}}],\"scatter\":[{\"fillpattern\":{\"fillmode\":\"overlay\",\"size\":10,\"solidity\":0.2},\"type\":\"scatter\"}],\"parcoords\":[{\"type\":\"parcoords\",\"line\":{\"colorbar\":{\"outlinewidth\":0,\"ticks\":\"\"}}}],\"scatterpolargl\":[{\"type\":\"scatterpolargl\",\"marker\":{\"colorbar\":{\"outlinewidth\":0,\"ticks\":\"\"}}}],\"bar\":[{\"error_x\":{\"color\":\"#2a3f5f\"},\"error_y\":{\"color\":\"#2a3f5f\"},\"marker\":{\"line\":{\"color\":\"#E5ECF6\",\"width\":0.5},\"pattern\":{\"fillmode\":\"overlay\",\"size\":10,\"solidity\":0.2}},\"type\":\"bar\"}],\"scattergeo\":[{\"type\":\"scattergeo\",\"marker\":{\"colorbar\":{\"outlinewidth\":0,\"ticks\":\"\"}}}],\"scatterpolar\":[{\"type\":\"scatterpolar\",\"marker\":{\"colorbar\":{\"outlinewidth\":0,\"ticks\":\"\"}}}],\"histogram\":[{\"marker\":{\"pattern\":{\"fillmode\":\"overlay\",\"size\":10,\"solidity\":0.2}},\"type\":\"histogram\"}],\"scattergl\":[{\"type\":\"scattergl\",\"marker\":{\"colorbar\":{\"outlinewidth\":0,\"ticks\":\"\"}}}],\"scatter3d\":[{\"type\":\"scatter3d\",\"line\":{\"colorbar\":{\"outlinewidth\":0,\"ticks\":\"\"}},\"marker\":{\"colorbar\":{\"outlinewidth\":0,\"ticks\":\"\"}}}],\"scattermapbox\":[{\"type\":\"scattermapbox\",\"marker\":{\"colorbar\":{\"outlinewidth\":0,\"ticks\":\"\"}}}],\"scatterternary\":[{\"type\":\"scatterternary\",\"marker\":{\"colorbar\":{\"outlinewidth\":0,\"ticks\":\"\"}}}],\"scattercarpet\":[{\"type\":\"scattercarpet\",\"marker\":{\"colorbar\":{\"outlinewidth\":0,\"ticks\":\"\"}}}],\"carpet\":[{\"aaxis\":{\"endlinecolor\":\"#2a3f5f\",\"gridcolor\":\"white\",\"linecolor\":\"white\",\"minorgridcolor\":\"white\",\"startlinecolor\":\"#2a3f5f\"},\"baxis\":{\"endlinecolor\":\"#2a3f5f\",\"gridcolor\":\"white\",\"linecolor\":\"white\",\"minorgridcolor\":\"white\",\"startlinecolor\":\"#2a3f5f\"},\"type\":\"carpet\"}],\"table\":[{\"cells\":{\"fill\":{\"color\":\"#EBF0F8\"},\"line\":{\"color\":\"white\"}},\"header\":{\"fill\":{\"color\":\"#C8D4E3\"},\"line\":{\"color\":\"white\"}},\"type\":\"table\"}],\"barpolar\":[{\"marker\":{\"line\":{\"color\":\"#E5ECF6\",\"width\":0.5},\"pattern\":{\"fillmode\":\"overlay\",\"size\":10,\"solidity\":0.2}},\"type\":\"barpolar\"}],\"pie\":[{\"automargin\":true,\"type\":\"pie\"}]},\"layout\":{\"autotypenumbers\":\"strict\",\"colorway\":[\"#636efa\",\"#EF553B\",\"#00cc96\",\"#ab63fa\",\"#FFA15A\",\"#19d3f3\",\"#FF6692\",\"#B6E880\",\"#FF97FF\",\"#FECB52\"],\"font\":{\"color\":\"#2a3f5f\"},\"hovermode\":\"closest\",\"hoverlabel\":{\"align\":\"left\"},\"paper_bgcolor\":\"white\",\"plot_bgcolor\":\"#E5ECF6\",\"polar\":{\"bgcolor\":\"#E5ECF6\",\"angularaxis\":{\"gridcolor\":\"white\",\"linecolor\":\"white\",\"ticks\":\"\"},\"radialaxis\":{\"gridcolor\":\"white\",\"linecolor\":\"white\",\"ticks\":\"\"}},\"ternary\":{\"bgcolor\":\"#E5ECF6\",\"aaxis\":{\"gridcolor\":\"white\",\"linecolor\":\"white\",\"ticks\":\"\"},\"baxis\":{\"gridcolor\":\"white\",\"linecolor\":\"white\",\"ticks\":\"\"},\"caxis\":{\"gridcolor\":\"white\",\"linecolor\":\"white\",\"ticks\":\"\"}},\"coloraxis\":{\"colorbar\":{\"outlinewidth\":0,\"ticks\":\"\"}},\"colorscale\":{\"sequential\":[[0.0,\"#0d0887\"],[0.1111111111111111,\"#46039f\"],[0.2222222222222222,\"#7201a8\"],[0.3333333333333333,\"#9c179e\"],[0.4444444444444444,\"#bd3786\"],[0.5555555555555556,\"#d8576b\"],[0.6666666666666666,\"#ed7953\"],[0.7777777777777778,\"#fb9f3a\"],[0.8888888888888888,\"#fdca26\"],[1.0,\"#f0f921\"]],\"sequentialminus\":[[0.0,\"#0d0887\"],[0.1111111111111111,\"#46039f\"],[0.2222222222222222,\"#7201a8\"],[0.3333333333333333,\"#9c179e\"],[0.4444444444444444,\"#bd3786\"],[0.5555555555555556,\"#d8576b\"],[0.6666666666666666,\"#ed7953\"],[0.7777777777777778,\"#fb9f3a\"],[0.8888888888888888,\"#fdca26\"],[1.0,\"#f0f921\"]],\"diverging\":[[0,\"#8e0152\"],[0.1,\"#c51b7d\"],[0.2,\"#de77ae\"],[0.3,\"#f1b6da\"],[0.4,\"#fde0ef\"],[0.5,\"#f7f7f7\"],[0.6,\"#e6f5d0\"],[0.7,\"#b8e186\"],[0.8,\"#7fbc41\"],[0.9,\"#4d9221\"],[1,\"#276419\"]]},\"xaxis\":{\"gridcolor\":\"white\",\"linecolor\":\"white\",\"ticks\":\"\",\"title\":{\"standoff\":15},\"zerolinecolor\":\"white\",\"automargin\":true,\"zerolinewidth\":2},\"yaxis\":{\"gridcolor\":\"white\",\"linecolor\":\"white\",\"ticks\":\"\",\"title\":{\"standoff\":15},\"zerolinecolor\":\"white\",\"automargin\":true,\"zerolinewidth\":2},\"scene\":{\"xaxis\":{\"backgroundcolor\":\"#E5ECF6\",\"gridcolor\":\"white\",\"linecolor\":\"white\",\"showbackground\":true,\"ticks\":\"\",\"zerolinecolor\":\"white\",\"gridwidth\":2},\"yaxis\":{\"backgroundcolor\":\"#E5ECF6\",\"gridcolor\":\"white\",\"linecolor\":\"white\",\"showbackground\":true,\"ticks\":\"\",\"zerolinecolor\":\"white\",\"gridwidth\":2},\"zaxis\":{\"backgroundcolor\":\"#E5ECF6\",\"gridcolor\":\"white\",\"linecolor\":\"white\",\"showbackground\":true,\"ticks\":\"\",\"zerolinecolor\":\"white\",\"gridwidth\":2}},\"shapedefaults\":{\"line\":{\"color\":\"#2a3f5f\"}},\"annotationdefaults\":{\"arrowcolor\":\"#2a3f5f\",\"arrowhead\":0,\"arrowwidth\":1},\"geo\":{\"bgcolor\":\"white\",\"landcolor\":\"#E5ECF6\",\"subunitcolor\":\"white\",\"showland\":true,\"showlakes\":true,\"lakecolor\":\"white\"},\"title\":{\"x\":0.05},\"mapbox\":{\"style\":\"light\"}}},\"legend\":{\"tracegroupgap\":0},\"title\":{\"text\":\"Saliency Climate\"}},                        {\"responsive\": true}                    ).then(function(){\n",
       "                            \n",
       "var gd = document.getElementById('a44f5bb2-e67b-44ec-92b4-e46850d341a0');\n",
       "var x = new MutationObserver(function (mutations, observer) {{\n",
       "        var display = window.getComputedStyle(gd).display;\n",
       "        if (!display || display === 'none') {{\n",
       "            console.log([gd, 'removed!']);\n",
       "            Plotly.purge(gd);\n",
       "            observer.disconnect();\n",
       "        }}\n",
       "}});\n",
       "\n",
       "// Listen for the removal of the full notebook cells\n",
       "var notebookContainer = gd.closest('#notebook-container');\n",
       "if (notebookContainer) {{\n",
       "    x.observe(notebookContainer, {childList: true});\n",
       "}}\n",
       "\n",
       "// Listen for the clearing of the current output cell\n",
       "var outputEl = gd.closest('.output');\n",
       "if (outputEl) {{\n",
       "    x.observe(outputEl, {childList: true});\n",
       "}}\n",
       "\n",
       "                        })                };                });            </script>        </div>"
      ]
     },
     "metadata": {},
     "output_type": "display_data"
    }
   ],
   "source": [
    "import plotly.express as px\n",
    "fig = px.pie(climatecount, values='saliency_climate', names='party', title='Saliency Climate', color=\"party\", color_discrete_map=PARTYCOLORS)\n",
    "fig.show()"
   ]
  },
  {
   "cell_type": "code",
   "execution_count": 373,
   "id": "f759e9fa-d736-4502-8b53-caa0ede6ce5f",
   "metadata": {},
   "outputs": [
    {
     "data": {
      "text/html": [
       "<div>\n",
       "<style scoped>\n",
       "    .dataframe tbody tr th:only-of-type {\n",
       "        vertical-align: middle;\n",
       "    }\n",
       "\n",
       "    .dataframe tbody tr th {\n",
       "        vertical-align: top;\n",
       "    }\n",
       "\n",
       "    .dataframe thead th {\n",
       "        text-align: right;\n",
       "    }\n",
       "</style>\n",
       "<table border=\"1\" class=\"dataframe\">\n",
       "  <thead>\n",
       "    <tr style=\"text-align: right;\">\n",
       "      <th></th>\n",
       "      <th>0</th>\n",
       "      <th>category</th>\n",
       "    </tr>\n",
       "    <tr>\n",
       "      <th>date</th>\n",
       "      <th></th>\n",
       "      <th></th>\n",
       "    </tr>\n",
       "  </thead>\n",
       "  <tbody>\n",
       "    <tr>\n",
       "      <th>2017-10-24</th>\n",
       "      <td>110</td>\n",
       "      <td>total</td>\n",
       "    </tr>\n",
       "    <tr>\n",
       "      <th>2017-11-21</th>\n",
       "      <td>1150</td>\n",
       "      <td>total</td>\n",
       "    </tr>\n",
       "    <tr>\n",
       "      <th>2017-11-22</th>\n",
       "      <td>708</td>\n",
       "      <td>total</td>\n",
       "    </tr>\n",
       "    <tr>\n",
       "      <th>2017-12-12</th>\n",
       "      <td>1278</td>\n",
       "      <td>total</td>\n",
       "    </tr>\n",
       "    <tr>\n",
       "      <th>2017-12-13</th>\n",
       "      <td>1227</td>\n",
       "      <td>total</td>\n",
       "    </tr>\n",
       "  </tbody>\n",
       "</table>\n",
       "</div>"
      ],
      "text/plain": [
       "               0 category\n",
       "date                     \n",
       "2017-10-24   110    total\n",
       "2017-11-21  1150    total\n",
       "2017-11-22   708    total\n",
       "2017-12-12  1278    total\n",
       "2017-12-13  1227    total"
      ]
     },
     "execution_count": 373,
     "metadata": {},
     "output_type": "execute_result"
    }
   ],
   "source": [
    "pg_count = pd.DataFrame(pg_count)\n",
    "pg_count[\"category\"] = \"total\"\n",
    "pg_count.head()"
   ]
  },
  {
   "cell_type": "code",
   "execution_count": 372,
   "id": "b93ab765-1016-4df5-bac8-bf82234ae58f",
   "metadata": {},
   "outputs": [
    {
     "data": {
      "text/html": [
       "<div>\n",
       "<style scoped>\n",
       "    .dataframe tbody tr th:only-of-type {\n",
       "        vertical-align: middle;\n",
       "    }\n",
       "\n",
       "    .dataframe tbody tr th {\n",
       "        vertical-align: top;\n",
       "    }\n",
       "\n",
       "    .dataframe thead th {\n",
       "        text-align: right;\n",
       "    }\n",
       "</style>\n",
       "<table border=\"1\" class=\"dataframe\">\n",
       "  <thead>\n",
       "    <tr style=\"text-align: right;\">\n",
       "      <th></th>\n",
       "      <th>0</th>\n",
       "      <th>category</th>\n",
       "    </tr>\n",
       "    <tr>\n",
       "      <th>date</th>\n",
       "      <th></th>\n",
       "      <th></th>\n",
       "    </tr>\n",
       "  </thead>\n",
       "  <tbody>\n",
       "    <tr>\n",
       "      <th>2017-11-21</th>\n",
       "      <td>54</td>\n",
       "      <td>climate</td>\n",
       "    </tr>\n",
       "    <tr>\n",
       "      <th>2017-12-12</th>\n",
       "      <td>8</td>\n",
       "      <td>climate</td>\n",
       "    </tr>\n",
       "    <tr>\n",
       "      <th>2017-12-13</th>\n",
       "      <td>3</td>\n",
       "      <td>climate</td>\n",
       "    </tr>\n",
       "    <tr>\n",
       "      <th>2018-01-17</th>\n",
       "      <td>5</td>\n",
       "      <td>climate</td>\n",
       "    </tr>\n",
       "    <tr>\n",
       "      <th>2018-01-18</th>\n",
       "      <td>46</td>\n",
       "      <td>climate</td>\n",
       "    </tr>\n",
       "  </tbody>\n",
       "</table>\n",
       "</div>"
      ],
      "text/plain": [
       "             0 category\n",
       "date                   \n",
       "2017-11-21  54  climate\n",
       "2017-12-12   8  climate\n",
       "2017-12-13   3  climate\n",
       "2018-01-17   5  climate\n",
       "2018-01-18  46  climate"
      ]
     },
     "execution_count": 372,
     "metadata": {},
     "output_type": "execute_result"
    }
   ],
   "source": [
    "pg_count_cl = dfg.value_counts(\"date\", sort=False)\n",
    "pg_count_cl = pd.DataFrame(pg_count_cl)\n",
    "pg_count_cl[\"category\"] = \"climate\"\n",
    "pg_count_cl.head()"
   ]
  },
  {
   "cell_type": "code",
   "execution_count": 374,
   "id": "02cea68d-8df2-430d-9dc8-25557f355583",
   "metadata": {},
   "outputs": [
    {
     "name": "stderr",
     "output_type": "stream",
     "text": [
      "/tmp/ipykernel_61387/1448626636.py:1: FutureWarning:\n",
      "\n",
      "The frame.append method is deprecated and will be removed from pandas in a future version. Use pandas.concat instead.\n",
      "\n"
     ]
    }
   ],
   "source": [
    "pg_count = pg_count.concat(pg_count_cl)"
   ]
  },
  {
   "cell_type": "code",
   "execution_count": 379,
   "id": "965e0b80-da1c-4377-8a2d-60156370d2e6",
   "metadata": {},
   "outputs": [],
   "source": [
    "pg_count = pg_count.reset_index()"
   ]
  },
  {
   "cell_type": "code",
   "execution_count": 381,
   "id": "df4216c9-9352-4372-bcb1-b79961e6c6f7",
   "metadata": {},
   "outputs": [
    {
     "data": {
      "text/html": [
       "<div>\n",
       "<style scoped>\n",
       "    .dataframe tbody tr th:only-of-type {\n",
       "        vertical-align: middle;\n",
       "    }\n",
       "\n",
       "    .dataframe tbody tr th {\n",
       "        vertical-align: top;\n",
       "    }\n",
       "\n",
       "    .dataframe thead th {\n",
       "        text-align: right;\n",
       "    }\n",
       "</style>\n",
       "<table border=\"1\" class=\"dataframe\">\n",
       "  <thead>\n",
       "    <tr style=\"text-align: right;\">\n",
       "      <th></th>\n",
       "      <th>date</th>\n",
       "      <th>0</th>\n",
       "      <th>category</th>\n",
       "    </tr>\n",
       "  </thead>\n",
       "  <tbody>\n",
       "    <tr>\n",
       "      <th>0</th>\n",
       "      <td>2017-10-24</td>\n",
       "      <td>110</td>\n",
       "      <td>total</td>\n",
       "    </tr>\n",
       "    <tr>\n",
       "      <th>1</th>\n",
       "      <td>2017-11-21</td>\n",
       "      <td>1150</td>\n",
       "      <td>total</td>\n",
       "    </tr>\n",
       "    <tr>\n",
       "      <th>2</th>\n",
       "      <td>2017-11-22</td>\n",
       "      <td>708</td>\n",
       "      <td>total</td>\n",
       "    </tr>\n",
       "    <tr>\n",
       "      <th>3</th>\n",
       "      <td>2017-12-12</td>\n",
       "      <td>1278</td>\n",
       "      <td>total</td>\n",
       "    </tr>\n",
       "    <tr>\n",
       "      <th>4</th>\n",
       "      <td>2017-12-13</td>\n",
       "      <td>1227</td>\n",
       "      <td>total</td>\n",
       "    </tr>\n",
       "    <tr>\n",
       "      <th>...</th>\n",
       "      <td>...</td>\n",
       "      <td>...</td>\n",
       "      <td>...</td>\n",
       "    </tr>\n",
       "    <tr>\n",
       "      <th>461</th>\n",
       "      <td>2021-06-23</td>\n",
       "      <td>8</td>\n",
       "      <td>climate</td>\n",
       "    </tr>\n",
       "    <tr>\n",
       "      <th>462</th>\n",
       "      <td>2021-06-24</td>\n",
       "      <td>103</td>\n",
       "      <td>climate</td>\n",
       "    </tr>\n",
       "    <tr>\n",
       "      <th>463</th>\n",
       "      <td>2021-06-25</td>\n",
       "      <td>14</td>\n",
       "      <td>climate</td>\n",
       "    </tr>\n",
       "    <tr>\n",
       "      <th>464</th>\n",
       "      <td>2021-08-25</td>\n",
       "      <td>22</td>\n",
       "      <td>climate</td>\n",
       "    </tr>\n",
       "    <tr>\n",
       "      <th>465</th>\n",
       "      <td>2021-09-07</td>\n",
       "      <td>43</td>\n",
       "      <td>climate</td>\n",
       "    </tr>\n",
       "  </tbody>\n",
       "</table>\n",
       "<p>466 rows × 3 columns</p>\n",
       "</div>"
      ],
      "text/plain": [
       "           date     0 category\n",
       "0    2017-10-24   110    total\n",
       "1    2017-11-21  1150    total\n",
       "2    2017-11-22   708    total\n",
       "3    2017-12-12  1278    total\n",
       "4    2017-12-13  1227    total\n",
       "..          ...   ...      ...\n",
       "461  2021-06-23     8  climate\n",
       "462  2021-06-24   103  climate\n",
       "463  2021-06-25    14  climate\n",
       "464  2021-08-25    22  climate\n",
       "465  2021-09-07    43  climate\n",
       "\n",
       "[466 rows x 3 columns]"
      ]
     },
     "execution_count": 381,
     "metadata": {},
     "output_type": "execute_result"
    }
   ],
   "source": [
    "pg_count"
   ]
  },
  {
   "cell_type": "code",
   "execution_count": 385,
   "id": "f05b0cbf-62dd-4bd6-9e16-e837a49f2122",
   "metadata": {},
   "outputs": [
    {
     "data": {
      "application/vnd.plotly.v1+json": {
       "config": {
        "plotlyServerURL": "https://plot.ly"
       },
       "data": [
        {
         "alignmentgroup": "True",
         "hovertemplate": "date=%{x}<br>0=%{y}<extra></extra>",
         "legendgroup": "",
         "marker": {
          "color": "#636efa",
          "pattern": {
           "shape": ""
          }
         },
         "name": "",
         "offsetgroup": "",
         "orientation": "v",
         "showlegend": false,
         "textposition": "auto",
         "type": "bar",
         "x": [
          "2017-11-21",
          "2017-12-12",
          "2017-12-13",
          "2018-01-17",
          "2018-01-18",
          "2018-01-22",
          "2018-01-31",
          "2018-02-01",
          "2018-02-02",
          "2018-02-21",
          "2018-02-22",
          "2018-02-23",
          "2018-03-01",
          "2018-03-02",
          "2018-03-15",
          "2018-03-21",
          "2018-03-22",
          "2018-03-23",
          "2018-04-19",
          "2018-04-25",
          "2018-04-26",
          "2018-04-27",
          "2018-05-15",
          "2018-05-16",
          "2018-05-17",
          "2018-05-18",
          "2018-06-06",
          "2018-06-07",
          "2018-06-08",
          "2018-06-13",
          "2018-06-14",
          "2018-06-15",
          "2018-06-27",
          "2018-06-28",
          "2018-06-29",
          "2018-07-03",
          "2018-07-04",
          "2018-07-05",
          "2018-09-11",
          "2018-09-12",
          "2018-09-13",
          "2018-09-14",
          "2018-09-26",
          "2018-09-27",
          "2018-09-28",
          "2018-10-10",
          "2018-10-11",
          "2018-10-12",
          "2018-10-17",
          "2018-10-18",
          "2018-10-19",
          "2018-11-07",
          "2018-11-08",
          "2018-11-09",
          "2018-11-20",
          "2018-11-21",
          "2018-11-22",
          "2018-11-23",
          "2018-11-28",
          "2018-11-29",
          "2018-11-30",
          "2018-12-12",
          "2018-12-13",
          "2018-12-14",
          "2019-01-16",
          "2019-01-17",
          "2019-01-18",
          "2019-01-30",
          "2019-01-31",
          "2019-02-01",
          "2019-02-13",
          "2019-02-14",
          "2019-02-15",
          "2019-02-20",
          "2019-02-21",
          "2019-02-22",
          "2019-03-13",
          "2019-03-14",
          "2019-03-15",
          "2019-03-20",
          "2019-03-21",
          "2019-03-22",
          "2019-04-04",
          "2019-04-05",
          "2019-04-10",
          "2019-04-11",
          "2019-04-12",
          "2019-05-08",
          "2019-05-09",
          "2019-05-10",
          "2019-05-15",
          "2019-05-16",
          "2019-05-17",
          "2019-06-05",
          "2019-06-06",
          "2019-06-26",
          "2019-06-27",
          "2019-06-28",
          "2019-07-24",
          "2019-09-10",
          "2019-09-11",
          "2019-09-12",
          "2019-09-13",
          "2019-09-25",
          "2019-09-26",
          "2019-09-27",
          "2019-10-16",
          "2019-10-17",
          "2019-10-18",
          "2019-10-23",
          "2019-10-24",
          "2019-10-25",
          "2019-11-06",
          "2019-11-07",
          "2019-11-08",
          "2019-11-13",
          "2019-11-14",
          "2019-11-15",
          "2019-11-26",
          "2019-11-27",
          "2019-11-28",
          "2019-11-29",
          "2019-12-11",
          "2019-12-12",
          "2019-12-13",
          "2019-12-18",
          "2019-12-19",
          "2019-12-20",
          "2020-01-15",
          "2020-01-16",
          "2020-01-17",
          "2020-01-29",
          "2020-01-30",
          "2020-01-31",
          "2020-02-12",
          "2020-02-13",
          "2020-02-14",
          "2020-03-04",
          "2020-03-05",
          "2020-03-06",
          "2020-03-11",
          "2020-03-12",
          "2020-03-13",
          "2020-04-22",
          "2020-04-23",
          "2020-05-06",
          "2020-05-07",
          "2020-05-13",
          "2020-05-14",
          "2020-05-15",
          "2020-05-27",
          "2020-05-28",
          "2020-05-29",
          "2020-06-18",
          "2020-06-19",
          "2020-07-01",
          "2020-07-02",
          "2020-07-03",
          "2020-09-09",
          "2020-09-10",
          "2020-09-11",
          "2020-09-16",
          "2020-09-17",
          "2020-09-18",
          "2020-09-29",
          "2020-09-30",
          "2020-10-01",
          "2020-10-02",
          "2020-10-07",
          "2020-10-08",
          "2020-10-09",
          "2020-10-28",
          "2020-10-29",
          "2020-10-30",
          "2020-11-04",
          "2020-11-05",
          "2020-11-06",
          "2020-11-18",
          "2020-11-19",
          "2020-11-20",
          "2020-11-25",
          "2020-11-26",
          "2020-11-27",
          "2020-12-08",
          "2020-12-09",
          "2020-12-10",
          "2020-12-11",
          "2020-12-16",
          "2020-12-17",
          "2021-01-13",
          "2021-01-14",
          "2021-01-27",
          "2021-01-28",
          "2021-01-29",
          "2021-02-10",
          "2021-02-11",
          "2021-02-12",
          "2021-02-24",
          "2021-02-25",
          "2021-02-26",
          "2021-03-03",
          "2021-03-04",
          "2021-03-05",
          "2021-03-24",
          "2021-03-25",
          "2021-03-26",
          "2021-04-13",
          "2021-04-15",
          "2021-04-16",
          "2021-04-21",
          "2021-04-22",
          "2021-04-23",
          "2021-05-05",
          "2021-05-06",
          "2021-05-07",
          "2021-05-19",
          "2021-05-20",
          "2021-05-21",
          "2021-06-09",
          "2021-06-10",
          "2021-06-11",
          "2021-06-23",
          "2021-06-24",
          "2021-06-25",
          "2021-08-25",
          "2021-09-07"
         ],
         "xaxis": "x",
         "y": [
          54,
          8,
          3,
          5,
          46,
          2,
          2,
          1,
          8,
          1,
          39,
          2,
          5,
          3,
          3,
          14,
          14,
          31,
          11,
          56,
          9,
          1,
          63,
          11,
          24,
          3,
          6,
          7,
          70,
          19,
          11,
          23,
          3,
          83,
          10,
          54,
          17,
          16,
          83,
          10,
          17,
          3,
          4,
          80,
          17,
          55,
          2,
          1,
          13,
          17,
          4,
          5,
          15,
          30,
          67,
          15,
          21,
          8,
          5,
          60,
          55,
          6,
          2,
          5,
          1,
          10,
          44,
          12,
          45,
          6,
          26,
          25,
          4,
          6,
          6,
          12,
          1,
          25,
          41,
          9,
          18,
          4,
          55,
          21,
          4,
          24,
          18,
          14,
          126,
          27,
          14,
          10,
          11,
          70,
          54,
          9,
          14,
          50,
          4,
          115,
          61,
          34,
          18,
          2,
          121,
          12,
          3,
          100,
          13,
          7,
          8,
          82,
          2,
          14,
          41,
          15,
          38,
          87,
          136,
          49,
          5,
          23,
          2,
          11,
          56,
          6,
          83,
          3,
          3,
          10,
          69,
          26,
          14,
          37,
          7,
          13,
          36,
          3,
          42,
          48,
          1,
          2,
          6,
          6,
          27,
          24,
          34,
          5,
          25,
          5,
          9,
          6,
          45,
          50,
          11,
          11,
          40,
          18,
          21,
          4,
          26,
          43,
          133,
          6,
          79,
          39,
          23,
          8,
          14,
          36,
          7,
          25,
          5,
          25,
          32,
          32,
          11,
          2,
          20,
          6,
          29,
          21,
          1,
          83,
          26,
          14,
          11,
          4,
          17,
          19,
          12,
          28,
          18,
          2,
          8,
          13,
          2,
          6,
          22,
          1,
          24,
          29,
          48,
          1,
          17,
          9,
          3,
          19,
          6,
          8,
          80,
          13,
          14,
          17,
          83,
          18,
          58,
          86,
          4,
          76,
          16,
          8,
          103,
          14,
          22,
          43
         ],
         "yaxis": "y"
        }
       ],
       "layout": {
        "autosize": true,
        "barmode": "relative",
        "legend": {
         "tracegroupgap": 0
        },
        "template": {
         "data": {
          "bar": [
           {
            "error_x": {
             "color": "#2a3f5f"
            },
            "error_y": {
             "color": "#2a3f5f"
            },
            "marker": {
             "line": {
              "color": "#E5ECF6",
              "width": 0.5
             },
             "pattern": {
              "fillmode": "overlay",
              "size": 10,
              "solidity": 0.2
             }
            },
            "type": "bar"
           }
          ],
          "barpolar": [
           {
            "marker": {
             "line": {
              "color": "#E5ECF6",
              "width": 0.5
             },
             "pattern": {
              "fillmode": "overlay",
              "size": 10,
              "solidity": 0.2
             }
            },
            "type": "barpolar"
           }
          ],
          "carpet": [
           {
            "aaxis": {
             "endlinecolor": "#2a3f5f",
             "gridcolor": "white",
             "linecolor": "white",
             "minorgridcolor": "white",
             "startlinecolor": "#2a3f5f"
            },
            "baxis": {
             "endlinecolor": "#2a3f5f",
             "gridcolor": "white",
             "linecolor": "white",
             "minorgridcolor": "white",
             "startlinecolor": "#2a3f5f"
            },
            "type": "carpet"
           }
          ],
          "choropleth": [
           {
            "colorbar": {
             "outlinewidth": 0,
             "ticks": ""
            },
            "type": "choropleth"
           }
          ],
          "contour": [
           {
            "colorbar": {
             "outlinewidth": 0,
             "ticks": ""
            },
            "colorscale": [
             [
              0,
              "#0d0887"
             ],
             [
              0.1111111111111111,
              "#46039f"
             ],
             [
              0.2222222222222222,
              "#7201a8"
             ],
             [
              0.3333333333333333,
              "#9c179e"
             ],
             [
              0.4444444444444444,
              "#bd3786"
             ],
             [
              0.5555555555555556,
              "#d8576b"
             ],
             [
              0.6666666666666666,
              "#ed7953"
             ],
             [
              0.7777777777777778,
              "#fb9f3a"
             ],
             [
              0.8888888888888888,
              "#fdca26"
             ],
             [
              1,
              "#f0f921"
             ]
            ],
            "type": "contour"
           }
          ],
          "contourcarpet": [
           {
            "colorbar": {
             "outlinewidth": 0,
             "ticks": ""
            },
            "type": "contourcarpet"
           }
          ],
          "heatmap": [
           {
            "colorbar": {
             "outlinewidth": 0,
             "ticks": ""
            },
            "colorscale": [
             [
              0,
              "#0d0887"
             ],
             [
              0.1111111111111111,
              "#46039f"
             ],
             [
              0.2222222222222222,
              "#7201a8"
             ],
             [
              0.3333333333333333,
              "#9c179e"
             ],
             [
              0.4444444444444444,
              "#bd3786"
             ],
             [
              0.5555555555555556,
              "#d8576b"
             ],
             [
              0.6666666666666666,
              "#ed7953"
             ],
             [
              0.7777777777777778,
              "#fb9f3a"
             ],
             [
              0.8888888888888888,
              "#fdca26"
             ],
             [
              1,
              "#f0f921"
             ]
            ],
            "type": "heatmap"
           }
          ],
          "heatmapgl": [
           {
            "colorbar": {
             "outlinewidth": 0,
             "ticks": ""
            },
            "colorscale": [
             [
              0,
              "#0d0887"
             ],
             [
              0.1111111111111111,
              "#46039f"
             ],
             [
              0.2222222222222222,
              "#7201a8"
             ],
             [
              0.3333333333333333,
              "#9c179e"
             ],
             [
              0.4444444444444444,
              "#bd3786"
             ],
             [
              0.5555555555555556,
              "#d8576b"
             ],
             [
              0.6666666666666666,
              "#ed7953"
             ],
             [
              0.7777777777777778,
              "#fb9f3a"
             ],
             [
              0.8888888888888888,
              "#fdca26"
             ],
             [
              1,
              "#f0f921"
             ]
            ],
            "type": "heatmapgl"
           }
          ],
          "histogram": [
           {
            "marker": {
             "pattern": {
              "fillmode": "overlay",
              "size": 10,
              "solidity": 0.2
             }
            },
            "type": "histogram"
           }
          ],
          "histogram2d": [
           {
            "colorbar": {
             "outlinewidth": 0,
             "ticks": ""
            },
            "colorscale": [
             [
              0,
              "#0d0887"
             ],
             [
              0.1111111111111111,
              "#46039f"
             ],
             [
              0.2222222222222222,
              "#7201a8"
             ],
             [
              0.3333333333333333,
              "#9c179e"
             ],
             [
              0.4444444444444444,
              "#bd3786"
             ],
             [
              0.5555555555555556,
              "#d8576b"
             ],
             [
              0.6666666666666666,
              "#ed7953"
             ],
             [
              0.7777777777777778,
              "#fb9f3a"
             ],
             [
              0.8888888888888888,
              "#fdca26"
             ],
             [
              1,
              "#f0f921"
             ]
            ],
            "type": "histogram2d"
           }
          ],
          "histogram2dcontour": [
           {
            "colorbar": {
             "outlinewidth": 0,
             "ticks": ""
            },
            "colorscale": [
             [
              0,
              "#0d0887"
             ],
             [
              0.1111111111111111,
              "#46039f"
             ],
             [
              0.2222222222222222,
              "#7201a8"
             ],
             [
              0.3333333333333333,
              "#9c179e"
             ],
             [
              0.4444444444444444,
              "#bd3786"
             ],
             [
              0.5555555555555556,
              "#d8576b"
             ],
             [
              0.6666666666666666,
              "#ed7953"
             ],
             [
              0.7777777777777778,
              "#fb9f3a"
             ],
             [
              0.8888888888888888,
              "#fdca26"
             ],
             [
              1,
              "#f0f921"
             ]
            ],
            "type": "histogram2dcontour"
           }
          ],
          "mesh3d": [
           {
            "colorbar": {
             "outlinewidth": 0,
             "ticks": ""
            },
            "type": "mesh3d"
           }
          ],
          "parcoords": [
           {
            "line": {
             "colorbar": {
              "outlinewidth": 0,
              "ticks": ""
             }
            },
            "type": "parcoords"
           }
          ],
          "pie": [
           {
            "automargin": true,
            "type": "pie"
           }
          ],
          "scatter": [
           {
            "fillpattern": {
             "fillmode": "overlay",
             "size": 10,
             "solidity": 0.2
            },
            "type": "scatter"
           }
          ],
          "scatter3d": [
           {
            "line": {
             "colorbar": {
              "outlinewidth": 0,
              "ticks": ""
             }
            },
            "marker": {
             "colorbar": {
              "outlinewidth": 0,
              "ticks": ""
             }
            },
            "type": "scatter3d"
           }
          ],
          "scattercarpet": [
           {
            "marker": {
             "colorbar": {
              "outlinewidth": 0,
              "ticks": ""
             }
            },
            "type": "scattercarpet"
           }
          ],
          "scattergeo": [
           {
            "marker": {
             "colorbar": {
              "outlinewidth": 0,
              "ticks": ""
             }
            },
            "type": "scattergeo"
           }
          ],
          "scattergl": [
           {
            "marker": {
             "colorbar": {
              "outlinewidth": 0,
              "ticks": ""
             }
            },
            "type": "scattergl"
           }
          ],
          "scattermapbox": [
           {
            "marker": {
             "colorbar": {
              "outlinewidth": 0,
              "ticks": ""
             }
            },
            "type": "scattermapbox"
           }
          ],
          "scatterpolar": [
           {
            "marker": {
             "colorbar": {
              "outlinewidth": 0,
              "ticks": ""
             }
            },
            "type": "scatterpolar"
           }
          ],
          "scatterpolargl": [
           {
            "marker": {
             "colorbar": {
              "outlinewidth": 0,
              "ticks": ""
             }
            },
            "type": "scatterpolargl"
           }
          ],
          "scatterternary": [
           {
            "marker": {
             "colorbar": {
              "outlinewidth": 0,
              "ticks": ""
             }
            },
            "type": "scatterternary"
           }
          ],
          "surface": [
           {
            "colorbar": {
             "outlinewidth": 0,
             "ticks": ""
            },
            "colorscale": [
             [
              0,
              "#0d0887"
             ],
             [
              0.1111111111111111,
              "#46039f"
             ],
             [
              0.2222222222222222,
              "#7201a8"
             ],
             [
              0.3333333333333333,
              "#9c179e"
             ],
             [
              0.4444444444444444,
              "#bd3786"
             ],
             [
              0.5555555555555556,
              "#d8576b"
             ],
             [
              0.6666666666666666,
              "#ed7953"
             ],
             [
              0.7777777777777778,
              "#fb9f3a"
             ],
             [
              0.8888888888888888,
              "#fdca26"
             ],
             [
              1,
              "#f0f921"
             ]
            ],
            "type": "surface"
           }
          ],
          "table": [
           {
            "cells": {
             "fill": {
              "color": "#EBF0F8"
             },
             "line": {
              "color": "white"
             }
            },
            "header": {
             "fill": {
              "color": "#C8D4E3"
             },
             "line": {
              "color": "white"
             }
            },
            "type": "table"
           }
          ]
         },
         "layout": {
          "annotationdefaults": {
           "arrowcolor": "#2a3f5f",
           "arrowhead": 0,
           "arrowwidth": 1
          },
          "autotypenumbers": "strict",
          "coloraxis": {
           "colorbar": {
            "outlinewidth": 0,
            "ticks": ""
           }
          },
          "colorscale": {
           "diverging": [
            [
             0,
             "#8e0152"
            ],
            [
             0.1,
             "#c51b7d"
            ],
            [
             0.2,
             "#de77ae"
            ],
            [
             0.3,
             "#f1b6da"
            ],
            [
             0.4,
             "#fde0ef"
            ],
            [
             0.5,
             "#f7f7f7"
            ],
            [
             0.6,
             "#e6f5d0"
            ],
            [
             0.7,
             "#b8e186"
            ],
            [
             0.8,
             "#7fbc41"
            ],
            [
             0.9,
             "#4d9221"
            ],
            [
             1,
             "#276419"
            ]
           ],
           "sequential": [
            [
             0,
             "#0d0887"
            ],
            [
             0.1111111111111111,
             "#46039f"
            ],
            [
             0.2222222222222222,
             "#7201a8"
            ],
            [
             0.3333333333333333,
             "#9c179e"
            ],
            [
             0.4444444444444444,
             "#bd3786"
            ],
            [
             0.5555555555555556,
             "#d8576b"
            ],
            [
             0.6666666666666666,
             "#ed7953"
            ],
            [
             0.7777777777777778,
             "#fb9f3a"
            ],
            [
             0.8888888888888888,
             "#fdca26"
            ],
            [
             1,
             "#f0f921"
            ]
           ],
           "sequentialminus": [
            [
             0,
             "#0d0887"
            ],
            [
             0.1111111111111111,
             "#46039f"
            ],
            [
             0.2222222222222222,
             "#7201a8"
            ],
            [
             0.3333333333333333,
             "#9c179e"
            ],
            [
             0.4444444444444444,
             "#bd3786"
            ],
            [
             0.5555555555555556,
             "#d8576b"
            ],
            [
             0.6666666666666666,
             "#ed7953"
            ],
            [
             0.7777777777777778,
             "#fb9f3a"
            ],
            [
             0.8888888888888888,
             "#fdca26"
            ],
            [
             1,
             "#f0f921"
            ]
           ]
          },
          "colorway": [
           "#636efa",
           "#EF553B",
           "#00cc96",
           "#ab63fa",
           "#FFA15A",
           "#19d3f3",
           "#FF6692",
           "#B6E880",
           "#FF97FF",
           "#FECB52"
          ],
          "font": {
           "color": "#2a3f5f"
          },
          "geo": {
           "bgcolor": "white",
           "lakecolor": "white",
           "landcolor": "#E5ECF6",
           "showlakes": true,
           "showland": true,
           "subunitcolor": "white"
          },
          "hoverlabel": {
           "align": "left"
          },
          "hovermode": "closest",
          "mapbox": {
           "style": "light"
          },
          "paper_bgcolor": "white",
          "plot_bgcolor": "#E5ECF6",
          "polar": {
           "angularaxis": {
            "gridcolor": "white",
            "linecolor": "white",
            "ticks": ""
           },
           "bgcolor": "#E5ECF6",
           "radialaxis": {
            "gridcolor": "white",
            "linecolor": "white",
            "ticks": ""
           }
          },
          "scene": {
           "xaxis": {
            "backgroundcolor": "#E5ECF6",
            "gridcolor": "white",
            "gridwidth": 2,
            "linecolor": "white",
            "showbackground": true,
            "ticks": "",
            "zerolinecolor": "white"
           },
           "yaxis": {
            "backgroundcolor": "#E5ECF6",
            "gridcolor": "white",
            "gridwidth": 2,
            "linecolor": "white",
            "showbackground": true,
            "ticks": "",
            "zerolinecolor": "white"
           },
           "zaxis": {
            "backgroundcolor": "#E5ECF6",
            "gridcolor": "white",
            "gridwidth": 2,
            "linecolor": "white",
            "showbackground": true,
            "ticks": "",
            "zerolinecolor": "white"
           }
          },
          "shapedefaults": {
           "line": {
            "color": "#2a3f5f"
           }
          },
          "ternary": {
           "aaxis": {
            "gridcolor": "white",
            "linecolor": "white",
            "ticks": ""
           },
           "baxis": {
            "gridcolor": "white",
            "linecolor": "white",
            "ticks": ""
           },
           "bgcolor": "#E5ECF6",
           "caxis": {
            "gridcolor": "white",
            "linecolor": "white",
            "ticks": ""
           }
          },
          "title": {
           "x": 0.05
          },
          "xaxis": {
           "automargin": true,
           "gridcolor": "white",
           "linecolor": "white",
           "ticks": "",
           "title": {
            "standoff": 15
           },
           "zerolinecolor": "white",
           "zerolinewidth": 2
          },
          "yaxis": {
           "automargin": true,
           "gridcolor": "white",
           "linecolor": "white",
           "ticks": "",
           "title": {
            "standoff": 15
           },
           "zerolinecolor": "white",
           "zerolinewidth": 2
          }
         }
        },
        "title": {
         "text": "Mention Klimawandel"
        },
        "xaxis": {
         "anchor": "y",
         "autorange": true,
         "domain": [
          0,
          1
         ],
         "range": [
          "2017-11-20 12:00",
          "2021-09-07 12:00"
         ],
         "title": {
          "text": "date"
         },
         "type": "date"
        },
        "yaxis": {
         "anchor": "x",
         "autorange": true,
         "domain": [
          0,
          1
         ],
         "range": [
          0,
          143.1578947368421
         ],
         "title": {
          "text": "0"
         },
         "type": "linear"
        }
       }
      },
      "image/png": "[encoded data removed]",
      "text/html": [
       "<div>                            <div id=\"03ba6d1c-bb65-470d-a06e-3564f15ed92d\" class=\"plotly-graph-div\" style=\"height:525px; width:100%;\"></div>            <script type=\"text/javascript\">                require([\"plotly\"], function(Plotly) {                    window.PLOTLYENV=window.PLOTLYENV || {};                                    if (document.getElementById(\"03ba6d1c-bb65-470d-a06e-3564f15ed92d\")) {                    Plotly.newPlot(                        \"03ba6d1c-bb65-470d-a06e-3564f15ed92d\",                        [{\"alignmentgroup\":\"True\",\"hovertemplate\":\"date=%{x}\\u003cbr\\u003e0=%{y}\\u003cextra\\u003e\\u003c\\u002fextra\\u003e\",\"legendgroup\":\"\",\"marker\":{\"color\":\"#636efa\",\"pattern\":{\"shape\":\"\"}},\"name\":\"\",\"offsetgroup\":\"\",\"orientation\":\"v\",\"showlegend\":false,\"textposition\":\"auto\",\"x\":[\"2017-11-21\",\"2017-12-12\",\"2017-12-13\",\"2018-01-17\",\"2018-01-18\",\"2018-01-22\",\"2018-01-31\",\"2018-02-01\",\"2018-02-02\",\"2018-02-21\",\"2018-02-22\",\"2018-02-23\",\"2018-03-01\",\"2018-03-02\",\"2018-03-15\",\"2018-03-21\",\"2018-03-22\",\"2018-03-23\",\"2018-04-19\",\"2018-04-25\",\"2018-04-26\",\"2018-04-27\",\"2018-05-15\",\"2018-05-16\",\"2018-05-17\",\"2018-05-18\",\"2018-06-06\",\"2018-06-07\",\"2018-06-08\",\"2018-06-13\",\"2018-06-14\",\"2018-06-15\",\"2018-06-27\",\"2018-06-28\",\"2018-06-29\",\"2018-07-03\",\"2018-07-04\",\"2018-07-05\",\"2018-09-11\",\"2018-09-12\",\"2018-09-13\",\"2018-09-14\",\"2018-09-26\",\"2018-09-27\",\"2018-09-28\",\"2018-10-10\",\"2018-10-11\",\"2018-10-12\",\"2018-10-17\",\"2018-10-18\",\"2018-10-19\",\"2018-11-07\",\"2018-11-08\",\"2018-11-09\",\"2018-11-20\",\"2018-11-21\",\"2018-11-22\",\"2018-11-23\",\"2018-11-28\",\"2018-11-29\",\"2018-11-30\",\"2018-12-12\",\"2018-12-13\",\"2018-12-14\",\"2019-01-16\",\"2019-01-17\",\"2019-01-18\",\"2019-01-30\",\"2019-01-31\",\"2019-02-01\",\"2019-02-13\",\"2019-02-14\",\"2019-02-15\",\"2019-02-20\",\"2019-02-21\",\"2019-02-22\",\"2019-03-13\",\"2019-03-14\",\"2019-03-15\",\"2019-03-20\",\"2019-03-21\",\"2019-03-22\",\"2019-04-04\",\"2019-04-05\",\"2019-04-10\",\"2019-04-11\",\"2019-04-12\",\"2019-05-08\",\"2019-05-09\",\"2019-05-10\",\"2019-05-15\",\"2019-05-16\",\"2019-05-17\",\"2019-06-05\",\"2019-06-06\",\"2019-06-26\",\"2019-06-27\",\"2019-06-28\",\"2019-07-24\",\"2019-09-10\",\"2019-09-11\",\"2019-09-12\",\"2019-09-13\",\"2019-09-25\",\"2019-09-26\",\"2019-09-27\",\"2019-10-16\",\"2019-10-17\",\"2019-10-18\",\"2019-10-23\",\"2019-10-24\",\"2019-10-25\",\"2019-11-06\",\"2019-11-07\",\"2019-11-08\",\"2019-11-13\",\"2019-11-14\",\"2019-11-15\",\"2019-11-26\",\"2019-11-27\",\"2019-11-28\",\"2019-11-29\",\"2019-12-11\",\"2019-12-12\",\"2019-12-13\",\"2019-12-18\",\"2019-12-19\",\"2019-12-20\",\"2020-01-15\",\"2020-01-16\",\"2020-01-17\",\"2020-01-29\",\"2020-01-30\",\"2020-01-31\",\"2020-02-12\",\"2020-02-13\",\"2020-02-14\",\"2020-03-04\",\"2020-03-05\",\"2020-03-06\",\"2020-03-11\",\"2020-03-12\",\"2020-03-13\",\"2020-04-22\",\"2020-04-23\",\"2020-05-06\",\"2020-05-07\",\"2020-05-13\",\"2020-05-14\",\"2020-05-15\",\"2020-05-27\",\"2020-05-28\",\"2020-05-29\",\"2020-06-18\",\"2020-06-19\",\"2020-07-01\",\"2020-07-02\",\"2020-07-03\",\"2020-09-09\",\"2020-09-10\",\"2020-09-11\",\"2020-09-16\",\"2020-09-17\",\"2020-09-18\",\"2020-09-29\",\"2020-09-30\",\"2020-10-01\",\"2020-10-02\",\"2020-10-07\",\"2020-10-08\",\"2020-10-09\",\"2020-10-28\",\"2020-10-29\",\"2020-10-30\",\"2020-11-04\",\"2020-11-05\",\"2020-11-06\",\"2020-11-18\",\"2020-11-19\",\"2020-11-20\",\"2020-11-25\",\"2020-11-26\",\"2020-11-27\",\"2020-12-08\",\"2020-12-09\",\"2020-12-10\",\"2020-12-11\",\"2020-12-16\",\"2020-12-17\",\"2021-01-13\",\"2021-01-14\",\"2021-01-27\",\"2021-01-28\",\"2021-01-29\",\"2021-02-10\",\"2021-02-11\",\"2021-02-12\",\"2021-02-24\",\"2021-02-25\",\"2021-02-26\",\"2021-03-03\",\"2021-03-04\",\"2021-03-05\",\"2021-03-24\",\"2021-03-25\",\"2021-03-26\",\"2021-04-13\",\"2021-04-15\",\"2021-04-16\",\"2021-04-21\",\"2021-04-22\",\"2021-04-23\",\"2021-05-05\",\"2021-05-06\",\"2021-05-07\",\"2021-05-19\",\"2021-05-20\",\"2021-05-21\",\"2021-06-09\",\"2021-06-10\",\"2021-06-11\",\"2021-06-23\",\"2021-06-24\",\"2021-06-25\",\"2021-08-25\",\"2021-09-07\"],\"xaxis\":\"x\",\"y\":[54,8,3,5,46,2,2,1,8,1,39,2,5,3,3,14,14,31,11,56,9,1,63,11,24,3,6,7,70,19,11,23,3,83,10,54,17,16,83,10,17,3,4,80,17,55,2,1,13,17,4,5,15,30,67,15,21,8,5,60,55,6,2,5,1,10,44,12,45,6,26,25,4,6,6,12,1,25,41,9,18,4,55,21,4,24,18,14,126,27,14,10,11,70,54,9,14,50,4,115,61,34,18,2,121,12,3,100,13,7,8,82,2,14,41,15,38,87,136,49,5,23,2,11,56,6,83,3,3,10,69,26,14,37,7,13,36,3,42,48,1,2,6,6,27,24,34,5,25,5,9,6,45,50,11,11,40,18,21,4,26,43,133,6,79,39,23,8,14,36,7,25,5,25,32,32,11,2,20,6,29,21,1,83,26,14,11,4,17,19,12,28,18,2,8,13,2,6,22,1,24,29,48,1,17,9,3,19,6,8,80,13,14,17,83,18,58,86,4,76,16,8,103,14,22,43],\"yaxis\":\"y\",\"type\":\"bar\"}],                        {\"template\":{\"data\":{\"histogram2dcontour\":[{\"type\":\"histogram2dcontour\",\"colorbar\":{\"outlinewidth\":0,\"ticks\":\"\"},\"colorscale\":[[0.0,\"#0d0887\"],[0.1111111111111111,\"#46039f\"],[0.2222222222222222,\"#7201a8\"],[0.3333333333333333,\"#9c179e\"],[0.4444444444444444,\"#bd3786\"],[0.5555555555555556,\"#d8576b\"],[0.6666666666666666,\"#ed7953\"],[0.7777777777777778,\"#fb9f3a\"],[0.8888888888888888,\"#fdca26\"],[1.0,\"#f0f921\"]]}],\"choropleth\":[{\"type\":\"choropleth\",\"colorbar\":{\"outlinewidth\":0,\"ticks\":\"\"}}],\"histogram2d\":[{\"type\":\"histogram2d\",\"colorbar\":{\"outlinewidth\":0,\"ticks\":\"\"},\"colorscale\":[[0.0,\"#0d0887\"],[0.1111111111111111,\"#46039f\"],[0.2222222222222222,\"#7201a8\"],[0.3333333333333333,\"#9c179e\"],[0.4444444444444444,\"#bd3786\"],[0.5555555555555556,\"#d8576b\"],[0.6666666666666666,\"#ed7953\"],[0.7777777777777778,\"#fb9f3a\"],[0.8888888888888888,\"#fdca26\"],[1.0,\"#f0f921\"]]}],\"heatmap\":[{\"type\":\"heatmap\",\"colorbar\":{\"outlinewidth\":0,\"ticks\":\"\"},\"colorscale\":[[0.0,\"#0d0887\"],[0.1111111111111111,\"#46039f\"],[0.2222222222222222,\"#7201a8\"],[0.3333333333333333,\"#9c179e\"],[0.4444444444444444,\"#bd3786\"],[0.5555555555555556,\"#d8576b\"],[0.6666666666666666,\"#ed7953\"],[0.7777777777777778,\"#fb9f3a\"],[0.8888888888888888,\"#fdca26\"],[1.0,\"#f0f921\"]]}],\"heatmapgl\":[{\"type\":\"heatmapgl\",\"colorbar\":{\"outlinewidth\":0,\"ticks\":\"\"},\"colorscale\":[[0.0,\"#0d0887\"],[0.1111111111111111,\"#46039f\"],[0.2222222222222222,\"#7201a8\"],[0.3333333333333333,\"#9c179e\"],[0.4444444444444444,\"#bd3786\"],[0.5555555555555556,\"#d8576b\"],[0.6666666666666666,\"#ed7953\"],[0.7777777777777778,\"#fb9f3a\"],[0.8888888888888888,\"#fdca26\"],[1.0,\"#f0f921\"]]}],\"contourcarpet\":[{\"type\":\"contourcarpet\",\"colorbar\":{\"outlinewidth\":0,\"ticks\":\"\"}}],\"contour\":[{\"type\":\"contour\",\"colorbar\":{\"outlinewidth\":0,\"ticks\":\"\"},\"colorscale\":[[0.0,\"#0d0887\"],[0.1111111111111111,\"#46039f\"],[0.2222222222222222,\"#7201a8\"],[0.3333333333333333,\"#9c179e\"],[0.4444444444444444,\"#bd3786\"],[0.5555555555555556,\"#d8576b\"],[0.6666666666666666,\"#ed7953\"],[0.7777777777777778,\"#fb9f3a\"],[0.8888888888888888,\"#fdca26\"],[1.0,\"#f0f921\"]]}],\"surface\":[{\"type\":\"surface\",\"colorbar\":{\"outlinewidth\":0,\"ticks\":\"\"},\"colorscale\":[[0.0,\"#0d0887\"],[0.1111111111111111,\"#46039f\"],[0.2222222222222222,\"#7201a8\"],[0.3333333333333333,\"#9c179e\"],[0.4444444444444444,\"#bd3786\"],[0.5555555555555556,\"#d8576b\"],[0.6666666666666666,\"#ed7953\"],[0.7777777777777778,\"#fb9f3a\"],[0.8888888888888888,\"#fdca26\"],[1.0,\"#f0f921\"]]}],\"mesh3d\":[{\"type\":\"mesh3d\",\"colorbar\":{\"outlinewidth\":0,\"ticks\":\"\"}}],\"scatter\":[{\"fillpattern\":{\"fillmode\":\"overlay\",\"size\":10,\"solidity\":0.2},\"type\":\"scatter\"}],\"parcoords\":[{\"type\":\"parcoords\",\"line\":{\"colorbar\":{\"outlinewidth\":0,\"ticks\":\"\"}}}],\"scatterpolargl\":[{\"type\":\"scatterpolargl\",\"marker\":{\"colorbar\":{\"outlinewidth\":0,\"ticks\":\"\"}}}],\"bar\":[{\"error_x\":{\"color\":\"#2a3f5f\"},\"error_y\":{\"color\":\"#2a3f5f\"},\"marker\":{\"line\":{\"color\":\"#E5ECF6\",\"width\":0.5},\"pattern\":{\"fillmode\":\"overlay\",\"size\":10,\"solidity\":0.2}},\"type\":\"bar\"}],\"scattergeo\":[{\"type\":\"scattergeo\",\"marker\":{\"colorbar\":{\"outlinewidth\":0,\"ticks\":\"\"}}}],\"scatterpolar\":[{\"type\":\"scatterpolar\",\"marker\":{\"colorbar\":{\"outlinewidth\":0,\"ticks\":\"\"}}}],\"histogram\":[{\"marker\":{\"pattern\":{\"fillmode\":\"overlay\",\"size\":10,\"solidity\":0.2}},\"type\":\"histogram\"}],\"scattergl\":[{\"type\":\"scattergl\",\"marker\":{\"colorbar\":{\"outlinewidth\":0,\"ticks\":\"\"}}}],\"scatter3d\":[{\"type\":\"scatter3d\",\"line\":{\"colorbar\":{\"outlinewidth\":0,\"ticks\":\"\"}},\"marker\":{\"colorbar\":{\"outlinewidth\":0,\"ticks\":\"\"}}}],\"scattermapbox\":[{\"type\":\"scattermapbox\",\"marker\":{\"colorbar\":{\"outlinewidth\":0,\"ticks\":\"\"}}}],\"scatterternary\":[{\"type\":\"scatterternary\",\"marker\":{\"colorbar\":{\"outlinewidth\":0,\"ticks\":\"\"}}}],\"scattercarpet\":[{\"type\":\"scattercarpet\",\"marker\":{\"colorbar\":{\"outlinewidth\":0,\"ticks\":\"\"}}}],\"carpet\":[{\"aaxis\":{\"endlinecolor\":\"#2a3f5f\",\"gridcolor\":\"white\",\"linecolor\":\"white\",\"minorgridcolor\":\"white\",\"startlinecolor\":\"#2a3f5f\"},\"baxis\":{\"endlinecolor\":\"#2a3f5f\",\"gridcolor\":\"white\",\"linecolor\":\"white\",\"minorgridcolor\":\"white\",\"startlinecolor\":\"#2a3f5f\"},\"type\":\"carpet\"}],\"table\":[{\"cells\":{\"fill\":{\"color\":\"#EBF0F8\"},\"line\":{\"color\":\"white\"}},\"header\":{\"fill\":{\"color\":\"#C8D4E3\"},\"line\":{\"color\":\"white\"}},\"type\":\"table\"}],\"barpolar\":[{\"marker\":{\"line\":{\"color\":\"#E5ECF6\",\"width\":0.5},\"pattern\":{\"fillmode\":\"overlay\",\"size\":10,\"solidity\":0.2}},\"type\":\"barpolar\"}],\"pie\":[{\"automargin\":true,\"type\":\"pie\"}]},\"layout\":{\"autotypenumbers\":\"strict\",\"colorway\":[\"#636efa\",\"#EF553B\",\"#00cc96\",\"#ab63fa\",\"#FFA15A\",\"#19d3f3\",\"#FF6692\",\"#B6E880\",\"#FF97FF\",\"#FECB52\"],\"font\":{\"color\":\"#2a3f5f\"},\"hovermode\":\"closest\",\"hoverlabel\":{\"align\":\"left\"},\"paper_bgcolor\":\"white\",\"plot_bgcolor\":\"#E5ECF6\",\"polar\":{\"bgcolor\":\"#E5ECF6\",\"angularaxis\":{\"gridcolor\":\"white\",\"linecolor\":\"white\",\"ticks\":\"\"},\"radialaxis\":{\"gridcolor\":\"white\",\"linecolor\":\"white\",\"ticks\":\"\"}},\"ternary\":{\"bgcolor\":\"#E5ECF6\",\"aaxis\":{\"gridcolor\":\"white\",\"linecolor\":\"white\",\"ticks\":\"\"},\"baxis\":{\"gridcolor\":\"white\",\"linecolor\":\"white\",\"ticks\":\"\"},\"caxis\":{\"gridcolor\":\"white\",\"linecolor\":\"white\",\"ticks\":\"\"}},\"coloraxis\":{\"colorbar\":{\"outlinewidth\":0,\"ticks\":\"\"}},\"colorscale\":{\"sequential\":[[0.0,\"#0d0887\"],[0.1111111111111111,\"#46039f\"],[0.2222222222222222,\"#7201a8\"],[0.3333333333333333,\"#9c179e\"],[0.4444444444444444,\"#bd3786\"],[0.5555555555555556,\"#d8576b\"],[0.6666666666666666,\"#ed7953\"],[0.7777777777777778,\"#fb9f3a\"],[0.8888888888888888,\"#fdca26\"],[1.0,\"#f0f921\"]],\"sequentialminus\":[[0.0,\"#0d0887\"],[0.1111111111111111,\"#46039f\"],[0.2222222222222222,\"#7201a8\"],[0.3333333333333333,\"#9c179e\"],[0.4444444444444444,\"#bd3786\"],[0.5555555555555556,\"#d8576b\"],[0.6666666666666666,\"#ed7953\"],[0.7777777777777778,\"#fb9f3a\"],[0.8888888888888888,\"#fdca26\"],[1.0,\"#f0f921\"]],\"diverging\":[[0,\"#8e0152\"],[0.1,\"#c51b7d\"],[0.2,\"#de77ae\"],[0.3,\"#f1b6da\"],[0.4,\"#fde0ef\"],[0.5,\"#f7f7f7\"],[0.6,\"#e6f5d0\"],[0.7,\"#b8e186\"],[0.8,\"#7fbc41\"],[0.9,\"#4d9221\"],[1,\"#276419\"]]},\"xaxis\":{\"gridcolor\":\"white\",\"linecolor\":\"white\",\"ticks\":\"\",\"title\":{\"standoff\":15},\"zerolinecolor\":\"white\",\"automargin\":true,\"zerolinewidth\":2},\"yaxis\":{\"gridcolor\":\"white\",\"linecolor\":\"white\",\"ticks\":\"\",\"title\":{\"standoff\":15},\"zerolinecolor\":\"white\",\"automargin\":true,\"zerolinewidth\":2},\"scene\":{\"xaxis\":{\"backgroundcolor\":\"#E5ECF6\",\"gridcolor\":\"white\",\"linecolor\":\"white\",\"showbackground\":true,\"ticks\":\"\",\"zerolinecolor\":\"white\",\"gridwidth\":2},\"yaxis\":{\"backgroundcolor\":\"#E5ECF6\",\"gridcolor\":\"white\",\"linecolor\":\"white\",\"showbackground\":true,\"ticks\":\"\",\"zerolinecolor\":\"white\",\"gridwidth\":2},\"zaxis\":{\"backgroundcolor\":\"#E5ECF6\",\"gridcolor\":\"white\",\"linecolor\":\"white\",\"showbackground\":true,\"ticks\":\"\",\"zerolinecolor\":\"white\",\"gridwidth\":2}},\"shapedefaults\":{\"line\":{\"color\":\"#2a3f5f\"}},\"annotationdefaults\":{\"arrowcolor\":\"#2a3f5f\",\"arrowhead\":0,\"arrowwidth\":1},\"geo\":{\"bgcolor\":\"white\",\"landcolor\":\"#E5ECF6\",\"subunitcolor\":\"white\",\"showland\":true,\"showlakes\":true,\"lakecolor\":\"white\"},\"title\":{\"x\":0.05},\"mapbox\":{\"style\":\"light\"}}},\"xaxis\":{\"anchor\":\"y\",\"domain\":[0.0,1.0],\"title\":{\"text\":\"date\"}},\"yaxis\":{\"anchor\":\"x\",\"domain\":[0.0,1.0],\"title\":{\"text\":\"0\"}},\"legend\":{\"tracegroupgap\":0},\"title\":{\"text\":\"Mention Klimawandel\"},\"barmode\":\"relative\"},                        {\"responsive\": true}                    ).then(function(){\n",
       "                            \n",
       "var gd = document.getElementById('03ba6d1c-bb65-470d-a06e-3564f15ed92d');\n",
       "var x = new MutationObserver(function (mutations, observer) {{\n",
       "        var display = window.getComputedStyle(gd).display;\n",
       "        if (!display || display === 'none') {{\n",
       "            console.log([gd, 'removed!']);\n",
       "            Plotly.purge(gd);\n",
       "            observer.disconnect();\n",
       "        }}\n",
       "}});\n",
       "\n",
       "// Listen for the removal of the full notebook cells\n",
       "var notebookContainer = gd.closest('#notebook-container');\n",
       "if (notebookContainer) {{\n",
       "    x.observe(notebookContainer, {childList: true});\n",
       "}}\n",
       "\n",
       "// Listen for the clearing of the current output cell\n",
       "var outputEl = gd.closest('.output');\n",
       "if (outputEl) {{\n",
       "    x.observe(outputEl, {childList: true});\n",
       "}}\n",
       "\n",
       "                        })                };                });            </script>        </div>"
      ]
     },
     "metadata": {},
     "output_type": "display_data"
    }
   ],
   "source": [
    "import plotly.express as px\n",
    "\n",
    "fig = px.bar(pg_count_cl.reset_index(), x=\"date\", y=0, title='Mention Klimawandel')\n",
    "fig.show()"
   ]
  }
 ],
 "metadata": {
  "kernelspec": {
   "display_name": "Python 3 (ipykernel)",
   "language": "python",
   "name": "python3"
  },
  "language_info": {
   "codemirror_mode": {
    "name": "ipython",
    "version": 3
   },
   "file_extension": ".py",
   "mimetype": "text/x-python",
   "name": "python",
   "nbconvert_exporter": "python",
   "pygments_lexer": "ipython3",
   "version": "3.12.2"
  }
 },
 "nbformat": 4,
 "nbformat_minor": 5
}
