{
 "cells": [
  {
   "attachments": {},
   "cell_type": "markdown",
   "metadata": {},
   "source": [
    "# Generate sentences from Speeches"
   ]
  },
  {
   "cell_type": "code",
   "execution_count": 1,
   "metadata": {},
   "outputs": [],
   "source": [
    "## 01-create_examples.ipynb as a reference\n",
    "import re\n",
    "\n",
    "import pandas as pd\n",
    "import spacy\n",
    "from tqdm import tqdm\n",
    "import plotly.express as px\n",
    "\n",
    "# setup\n",
    "pd.set_option(\"display.max_colwidth\", 2000)\n",
    "pd.set_option(\"display.max_rows\", 50)\n",
    "\n",
    "PARTYCOLORS =  {'AfD': '#59dcff', \"CSU\":\"#525060\", \"CDU\":\"black\", \"CDU/CSU\":\"black\", \"SPD\":\"#e03427\", \"GRUENE\":\"#52d157\", \"DIE LINKE\":\"#a33ab5\", \"FDP\":\"#ffeb3b\",}"
   ]
  },
  {
   "cell_type": "code",
   "execution_count": 2,
   "metadata": {},
   "outputs": [
    {
     "data": {
      "text/plain": [
       "Index(['name', 'electoral_term', 'session', 'party', 'speech', 'role', 'date',\n",
       "       'url', 'speech_id'],\n",
       "      dtype='object')"
      ]
     },
     "execution_count": 2,
     "metadata": {},
     "output_type": "execute_result"
    }
   ],
   "source": [
    "# get speeches\n",
    "df = pd.read_feather(\"data/Bundestag1819.feather\")\n",
    "# Select only speeches by mps\n",
    "df = df[(df[\"role\"]==\"mp\")]\n",
    "df.columns\n",
    "#df.head(1)"
   ]
  },
  {
   "cell_type": "code",
   "execution_count": 3,
   "metadata": {},
   "outputs": [],
   "source": [
    "df = df[(df[\"party\"].isin(PARTYCOLORS.keys()))]"
   ]
  },
  {
   "cell_type": "code",
   "execution_count": 4,
   "metadata": {},
   "outputs": [
    {
     "data": {
      "text/plain": [
       "55359"
      ]
     },
     "execution_count": 4,
     "metadata": {},
     "output_type": "execute_result"
    }
   ],
   "source": [
    "df.shape[0]"
   ]
  },
  {
   "cell_type": "code",
   "execution_count": 5,
   "metadata": {},
   "outputs": [],
   "source": [
    "# Fix all co2 compound terms\n",
    "df[\"speech\"] = df[\"speech\"].str.replace(r\"[C|c][O|o]\\s?2\", 'CO2 ', regex=True)\n",
    "df[\"speech\"] = df[\"speech\"].str.replace(r\"CO2  \", 'CO2 ', regex=True)\n",
    "df[\"speech\"] = df[\"speech\"].str.replace(r'CO2 -', 'CO2-', regex=True)"
   ]
  },
  {
   "cell_type": "code",
   "execution_count": 6,
   "metadata": {},
   "outputs": [],
   "source": [
    "# Fix speakers included in speeches\n",
    "for i in range(df.shape[0]):\n",
    "    u = df.iloc[i]\n",
    "    sname = u[\"name\"]\n",
    "    regexp = re.compile(fr'\\w{sname} ')\n",
    "    if regexp.search(u[\"speech\"]):\n",
    "        df.iloc[i,4] = df.iloc[i].speech.replace(f\"{sname} \", '')"
   ]
  },
  {
   "attachments": {},
   "cell_type": "markdown",
   "metadata": {},
   "source": [
    "### Clean Text and create sentence_df\n",
    "\n",
    "Speeches contain many linebreaks and inline references to contributions of other speakers (table contributions in db). These have to be removed.\n"
   ]
  },
  {
   "cell_type": "code",
   "execution_count": 7,
   "metadata": {},
   "outputs": [],
   "source": [
    "# load Spacy\n",
    "# if model not yet installed, run: python -m spacy download de_core_news_md\n",
    "\n",
    "nlp = spacy.load(\"de_core_news_md\")\n",
    "nlp.disable_pipes(\n",
    "    [\n",
    "        \"tok2vec\",\n",
    "        \"tagger\",\n",
    "        \"morphologizer\",\n",
    "        \"parser\",\n",
    "        \"lemmatizer\",\n",
    "        \"attribute_ruler\",\n",
    "        \"ner\",\n",
    "    ]\n",
    ")\n",
    "nlp.enable_pipe(\"senter\")"
   ]
  },
  {
   "cell_type": "code",
   "execution_count": 8,
   "metadata": {},
   "outputs": [
    {
     "name": "stderr",
     "output_type": "stream",
     "text": [
      "100%|███████████████████████████████████████████████████████████████████████████████████████████| 55359/55359 [08:15<00:00, 111.83it/s]\n"
     ]
    }
   ],
   "source": [
    "# iterate over all speeches\n",
    "sent_id = -1\n",
    "all_sents = []\n",
    "for index, speech in tqdm(df.iterrows(), total=df.shape[0]):\n",
    "    # extract doc-level information\n",
    "    text = speech.speech\n",
    "#    text = clean_speech(text)\n",
    "    doc = nlp(text)\n",
    "\n",
    "    # get sentences of doc to iterate over\n",
    "    sents = list(doc.sents)\n",
    "    n_sentences = len(list(doc.sents))\n",
    "\n",
    "    # skip very short speeches\n",
    "    if n_sentences < 3:\n",
    "        continue\n",
    "\n",
    "    # iterate over sentences + add 1 row per sentence to all_sents\n",
    "    for sent_no, sent in enumerate(sents, 1):\n",
    "        sent_id += 1\n",
    "        # do not use first and last sentence\n",
    "        if not 1 < sent_no < n_sentences:\n",
    "            continue\n",
    "\n",
    "        sent_length = len([tok for tok in sent if not tok.is_punct])\n",
    "        # skip very short sentences\n",
    "        if sent_length < 3:\n",
    "            continue\n",
    "\n",
    "        data = {\n",
    "            \"sent_id\": sent_id,\n",
    "            \"speech_id\": speech.speech_id,\n",
    "            \"name\": speech[\"name\"],\n",
    "            \"electoral_term\": speech.electoral_term,\n",
    "            \"party\": speech.party,\n",
    "            \"role\": speech.role,\n",
    "            \"date\": speech.date,\n",
    "            \"session\": speech.session,\n",
    "            \"sentence_no\": sent_no,\n",
    "            \"sentence_length\": sent_length,\n",
    "            \"sentence\": str(sent),\n",
    "        }\n",
    "        all_sents.append(data)\n",
    "\n",
    "sentence_df = pd.DataFrame(all_sents)"
   ]
  },
  {
   "cell_type": "code",
   "execution_count": 9,
   "metadata": {},
   "outputs": [],
   "source": [
    "%%capture --no-display\n",
    "\n",
    "# Clean bad endings\n",
    "sentence_df.loc[sentence_df.sentence.str.contains(\"^(– |- )\", case=True), \"sentence\"] = sentence_df.loc[sentence_df.sentence.str.contains(\"^(– |- )\", case=True), \"sentence\"].str.split(\" \", n=1, expand=True)[1] # Fix sentences that start with – and a space\n",
    "\n",
    "# Make all references to CO2 spelled identical\n",
    "sentence_df[\"sentence\"] = sentence_df[\"sentence\"].str.replace(r'[C|c][O|o]\\W2', 'CO2', regex=True)\n",
    "\n",
    "# remove some sentences that have some issues\n",
    "sentence_df = sentence_df[\n",
    "    ~sentence_df.sentence.str.contains(\n",
    "        \"^((meine )?sehr (geehrt|verehrt)|liebe|(meine )?damen und)\", case=False\n",
    "    )  # introductions\n",
    "    & ~sentence_df.sentence.str.contains(\"(:|;)$\", case=False)  # bad endings\n",
    "    & ~sentence_df.sentence.str.contains(\"^([a-z]|-|–)\", case=True)  # lowercase sent starts / dashes\n",
    "]\n",
    "\n",
    "print(sentence_df.shape)\n",
    "sentence_df = sentence_df[~(sentence_df.sentence_length < 5) & ~(sentence_df.sentence.str.contains(\": \"))]\n",
    "print(sentence_df.shape)"
   ]
  },
  {
   "cell_type": "code",
   "execution_count": 10,
   "metadata": {},
   "outputs": [
    {
     "data": {
      "text/html": [
       "<div>\n",
       "<style scoped>\n",
       "    .dataframe tbody tr th:only-of-type {\n",
       "        vertical-align: middle;\n",
       "    }\n",
       "\n",
       "    .dataframe tbody tr th {\n",
       "        vertical-align: top;\n",
       "    }\n",
       "\n",
       "    .dataframe thead th {\n",
       "        text-align: right;\n",
       "    }\n",
       "</style>\n",
       "<table border=\"1\" class=\"dataframe\">\n",
       "  <thead>\n",
       "    <tr style=\"text-align: right;\">\n",
       "      <th></th>\n",
       "      <th>sent_id</th>\n",
       "      <th>speech_id</th>\n",
       "      <th>name</th>\n",
       "      <th>electoral_term</th>\n",
       "      <th>party</th>\n",
       "      <th>role</th>\n",
       "      <th>date</th>\n",
       "      <th>session</th>\n",
       "      <th>sentence_no</th>\n",
       "      <th>sentence_length</th>\n",
       "      <th>sentence</th>\n",
       "    </tr>\n",
       "  </thead>\n",
       "  <tbody>\n",
       "    <tr>\n",
       "      <th>1460978</th>\n",
       "      <td>1590053</td>\n",
       "      <td>65605</td>\n",
       "      <td>Rüdiger Kruse</td>\n",
       "      <td>19</td>\n",
       "      <td>CDU</td>\n",
       "      <td>mp</td>\n",
       "      <td>2021-05-06</td>\n",
       "      <td>227</td>\n",
       "      <td>39</td>\n",
       "      <td>5</td>\n",
       "      <td>Wir haben 114 Punkte zusammengetragen.</td>\n",
       "    </tr>\n",
       "    <tr>\n",
       "      <th>418052</th>\n",
       "      <td>451246</td>\n",
       "      <td>16830</td>\n",
       "      <td>Georg Kippels</td>\n",
       "      <td>18</td>\n",
       "      <td>CDU/CSU</td>\n",
       "      <td>mp</td>\n",
       "      <td>2016-01-14</td>\n",
       "      <td>149</td>\n",
       "      <td>29</td>\n",
       "      <td>43</td>\n",
       "      <td>Herr Kollege Weinberg, in Ihrem Antrag heißt es, es habe ein Geschmäckle, dass das Volumen in der Ausschreibung jetzt auf 9 Millionen Euro erweitert worden ist, und sei deshalb überhaupt nicht verwunderlich, dass der neue Anbieter auch ein erhöhtes Angebotsvolumen präsentieren kann.</td>\n",
       "    </tr>\n",
       "    <tr>\n",
       "      <th>805282</th>\n",
       "      <td>872452</td>\n",
       "      <td>34080</td>\n",
       "      <td>Andreas Mrosek</td>\n",
       "      <td>19</td>\n",
       "      <td>AfD</td>\n",
       "      <td>mp</td>\n",
       "      <td>2018-06-27</td>\n",
       "      <td>41</td>\n",
       "      <td>9</td>\n",
       "      <td>6</td>\n",
       "      <td>Ich spreche also aus beruflicher Erfahrung.</td>\n",
       "    </tr>\n",
       "  </tbody>\n",
       "</table>\n",
       "</div>"
      ],
      "text/plain": [
       "         sent_id  speech_id            name  electoral_term    party role  \\\n",
       "1460978  1590053      65605   Rüdiger Kruse              19      CDU   mp   \n",
       "418052    451246      16830   Georg Kippels              18  CDU/CSU   mp   \n",
       "805282    872452      34080  Andreas Mrosek              19      AfD   mp   \n",
       "\n",
       "              date  session  sentence_no  sentence_length  \\\n",
       "1460978 2021-05-06      227           39                5   \n",
       "418052  2016-01-14      149           29               43   \n",
       "805282  2018-06-27       41            9                6   \n",
       "\n",
       "                                                                                                                                                                                                                                                                                                   sentence  \n",
       "1460978                                                                                                                                                                                                                                                              Wir haben 114 Punkte zusammengetragen.  \n",
       "418052   Herr Kollege Weinberg, in Ihrem Antrag heißt es, es habe ein Geschmäckle, dass das Volumen in der Ausschreibung jetzt auf 9 Millionen Euro erweitert worden ist, und sei deshalb überhaupt nicht verwunderlich, dass der neue Anbieter auch ein erhöhtes Angebotsvolumen präsentieren kann.     \n",
       "805282                                                                                                                                                                                                                                                          Ich spreche also aus beruflicher Erfahrung.  "
      ]
     },
     "execution_count": 10,
     "metadata": {},
     "output_type": "execute_result"
    }
   ],
   "source": [
    "sentence_df.sample(3)"
   ]
  },
  {
   "cell_type": "code",
   "execution_count": 11,
   "metadata": {},
   "outputs": [
    {
     "data": {
      "text/plain": [
       "(1117882, 11)"
      ]
     },
     "execution_count": 11,
     "metadata": {},
     "output_type": "execute_result"
    }
   ],
   "source": [
    "sentence_df.shape"
   ]
  },
  {
   "cell_type": "code",
   "execution_count": 12,
   "metadata": {},
   "outputs": [
    {
     "data": {
      "text/plain": [
       "party\n",
       "SPD          252524\n",
       "CDU/CSU      202017\n",
       "GRUENE       168448\n",
       "DIE LINKE    157805\n",
       "CDU          129406\n",
       "AfD           85574\n",
       "FDP           74585\n",
       "CSU           47523\n",
       "Name: count, dtype: int64"
      ]
     },
     "execution_count": 12,
     "metadata": {},
     "output_type": "execute_result"
    }
   ],
   "source": [
    "stc_per_party = sentence_df[\"party\"].value_counts()\n",
    "stc_per_party"
   ]
  },
  {
   "cell_type": "code",
   "execution_count": 13,
   "metadata": {},
   "outputs": [],
   "source": [
    "sentence_df = sentence_df.reset_index()\n",
    "del sentence_df[\"index\"]\n",
    "sentence_df.to_feather(\"data/sentences_all.feather\")"
   ]
  }
 ],
 "metadata": {
  "kernelspec": {
   "display_name": "Python 3 (ipykernel)",
   "language": "python",
   "name": "python3"
  },
  "language_info": {
   "codemirror_mode": {
    "name": "ipython",
    "version": 3
   },
   "file_extension": ".py",
   "mimetype": "text/x-python",
   "name": "python",
   "nbconvert_exporter": "python",
   "pygments_lexer": "ipython3",
   "version": "3.12.2"
  },
  "vscode": {
   "interpreter": {
    "hash": "05b0f58c2bcdc36936de25f1aaac0724cceaad7ddc88039a552f8d696c8fb19b"
   }
  }
 },
 "nbformat": 4,
 "nbformat_minor": 4
}
