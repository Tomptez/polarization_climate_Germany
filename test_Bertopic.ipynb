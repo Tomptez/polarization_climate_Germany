{
 "cells": [
  {
   "cell_type": "code",
   "execution_count": 2,
   "id": "92645ad4-88db-42e5-aaa2-c9625a9d7de1",
   "metadata": {},
   "outputs": [
    {
     "name": "stderr",
     "output_type": "stream",
     "text": [
      "/tmp/ipykernel_557713/1480787089.py:8: FutureWarning: Passing a negative integer is deprecated in version 1.0 and will not be supported in future version. Instead, use None to not limit the column width.\n",
      "  pd.set_option(\"display.max_colwidth\", -1) # -1 for all of it\n"
     ]
    }
   ],
   "source": [
    "%matplotlib inline\n",
    "import pandas as pd\n",
    "import numpy as np\n",
    "import datetime\n",
    "from matplotlib import pyplot as plt\n",
    "pd.set_option(\"display.max_columns\", 200)\n",
    "pd.set_option(\"display.max_rows\", 400)\n",
    "pd.set_option(\"display.max_colwidth\", -1) # -1 for all of it"
   ]
  },
  {
   "cell_type": "code",
   "execution_count": 5,
   "id": "dc51c176-3d9e-4c20-8eff-199869da78f8",
   "metadata": {},
   "outputs": [],
   "source": [
    "kl = pd.read_feather(\"politicians.feather\")\n",
    "kl[\"name\"] = kl[\"first_name\"] + \" \" + kl[\"last_name\"]\n",
    "kl = kl[[\"id\", \"name\"]]\n",
    "#kl.head(1)"
   ]
  },
  {
   "cell_type": "code",
   "execution_count": 113,
   "id": "b042bd47-bf59-4e4d-a9c1-32878ed3f7c0",
   "metadata": {},
   "outputs": [
    {
     "name": "stdout",
     "output_type": "stream",
     "text": [
      "(129464, 16)\n"
     ]
    }
   ],
   "source": [
    "df = pd.read_feather(\"germaparl.feather\")\n",
    "df[\"id\"] = df[\"date\"]+\"_\"+df[\"agenda_no\"]\n",
    "print(df.shape)\n",
    "#df.head(1)"
   ]
  },
  {
   "cell_type": "code",
   "execution_count": 114,
   "id": "3da71a4a-675f-45d6-a924-7fac0748b65c",
   "metadata": {},
   "outputs": [
    {
     "data": {
      "text/plain": [
       "Index(['name', 'position', 'party', 'role', 'group', 'who', 'speech',\n",
       "       'agenda_no', 'agenda_type', 'description_agenda', 'title',\n",
       "       'electoral_term', 'session', 'date', 'url', 'id'],\n",
       "      dtype='object')"
      ]
     },
     "execution_count": 114,
     "metadata": {},
     "output_type": "execute_result"
    }
   ],
   "source": [
    "df.columns"
   ]
  },
  {
   "cell_type": "code",
   "execution_count": 7,
   "id": "0b6fb79b-3d77-4010-97a2-24abc2b09b44",
   "metadata": {},
   "outputs": [
    {
     "data": {
      "text/plain": [
       "presidency                    58749\n",
       "mp                            57445\n",
       "government                    13154\n",
       "misc                          59   \n",
       "federal_council               37   \n",
       "parliamentary_commissioner    20   \n",
       "Name: role, dtype: int64"
      ]
     },
     "execution_count": 7,
     "metadata": {},
     "output_type": "execute_result"
    }
   ],
   "source": [
    "df[\"role\"].value_counts()"
   ]
  },
  {
   "cell_type": "code",
   "execution_count": 178,
   "id": "14855a21-1ceb-4cb7-9048-fe3e57b71e0e",
   "metadata": {},
   "outputs": [],
   "source": [
    "dfg = df\n",
    "dfg[\"date\"] = pd.to_datetime(dfg[\"date\"])"
   ]
  },
  {
   "cell_type": "code",
   "execution_count": 51,
   "id": "347035d3-14e4-469a-8ad2-9b37312a8065",
   "metadata": {},
   "outputs": [
    {
     "data": {
      "text/plain": [
       "(2812, 15)"
      ]
     },
     "execution_count": 51,
     "metadata": {},
     "output_type": "execute_result"
    }
   ],
   "source": [
    "dfg.loc[dfg[\"speech\"].str.contains(\"Energiewende|Solar|rneuerbar\")].shape"
   ]
  },
  {
   "cell_type": "code",
   "execution_count": 179,
   "id": "2d1657c3-6ba9-4316-b892-b37de4b45efb",
   "metadata": {},
   "outputs": [],
   "source": [
    "#dfg.loc[dfg[\"speech\"].str.contains(\"Energiewende\")].groupby(\"date\").agg({\"agenda_no\": [\"count\", \"min\", \"max\"]})\n",
    "l = dfg.loc[dfg[\"speech\"].str.contains(\"nergiewende|Solar|rneuerbar|indkraft\", case=False)]\n",
    "lg = l.groupby([\"date\",\"agenda_no\"]).agg({\"session\": [\"count\"]})"
   ]
  },
  {
   "cell_type": "code",
   "execution_count": 183,
   "id": "76d6d577-64f2-47e0-a31a-824a4f642c44",
   "metadata": {},
   "outputs": [
    {
     "data": {
      "text/html": [
       "<div>\n",
       "<style scoped>\n",
       "    .dataframe tbody tr th:only-of-type {\n",
       "        vertical-align: middle;\n",
       "    }\n",
       "\n",
       "    .dataframe tbody tr th {\n",
       "        vertical-align: top;\n",
       "    }\n",
       "\n",
       "    .dataframe thead tr th {\n",
       "        text-align: left;\n",
       "    }\n",
       "\n",
       "    .dataframe thead tr:last-of-type th {\n",
       "        text-align: right;\n",
       "    }\n",
       "</style>\n",
       "<table border=\"1\" class=\"dataframe\">\n",
       "  <thead>\n",
       "    <tr>\n",
       "      <th></th>\n",
       "      <th></th>\n",
       "      <th>session</th>\n",
       "    </tr>\n",
       "    <tr>\n",
       "      <th></th>\n",
       "      <th></th>\n",
       "      <th>count</th>\n",
       "    </tr>\n",
       "    <tr>\n",
       "      <th>date</th>\n",
       "      <th>agenda_no</th>\n",
       "      <th></th>\n",
       "    </tr>\n",
       "  </thead>\n",
       "  <tbody>\n",
       "    <tr>\n",
       "      <th>2013-10-22</th>\n",
       "      <th>1</th>\n",
       "      <td>1</td>\n",
       "    </tr>\n",
       "    <tr>\n",
       "      <th rowspan=\"2\" valign=\"top\">2013-11-18</th>\n",
       "      <th>1</th>\n",
       "      <td>1</td>\n",
       "    </tr>\n",
       "    <tr>\n",
       "      <th>2</th>\n",
       "      <td>1</td>\n",
       "    </tr>\n",
       "    <tr>\n",
       "      <th rowspan=\"2\" valign=\"top\">2013-11-28</th>\n",
       "      <th>10</th>\n",
       "      <td>1</td>\n",
       "    </tr>\n",
       "    <tr>\n",
       "      <th>6</th>\n",
       "      <td>7</td>\n",
       "    </tr>\n",
       "  </tbody>\n",
       "</table>\n",
       "</div>"
      ],
      "text/plain": [
       "                     session\n",
       "                       count\n",
       "date       agenda_no        \n",
       "2013-10-22 1          1     \n",
       "2013-11-18 1          1     \n",
       "           2          1     \n",
       "2013-11-28 10         1     \n",
       "           6          7     "
      ]
     },
     "execution_count": 183,
     "metadata": {},
     "output_type": "execute_result"
    }
   ],
   "source": [
    "lg.head()"
   ]
  },
  {
   "cell_type": "code",
   "execution_count": 184,
   "id": "7ead7d3a-b104-4c1c-959f-d42b889b42ec",
   "metadata": {},
   "outputs": [
    {
     "data": {
      "text/plain": [
       "(257, 1)"
      ]
     },
     "execution_count": 184,
     "metadata": {},
     "output_type": "execute_result"
    }
   ],
   "source": [
    "kg = lg[lg[\"session\"][\"count\"]>3]\n",
    "#kg.head(3)\n",
    "kg.shape"
   ]
  },
  {
   "cell_type": "code",
   "execution_count": 185,
   "id": "f92d57f9-6760-4a88-ab19-b7b24850c531",
   "metadata": {},
   "outputs": [
    {
     "data": {
      "text/plain": [
       "2052"
      ]
     },
     "execution_count": 185,
     "metadata": {},
     "output_type": "execute_result"
    }
   ],
   "source": [
    "kg[\"session\"][\"count\"].sum()"
   ]
  },
  {
   "cell_type": "code",
   "execution_count": 186,
   "id": "2768d29f-a54e-44da-9f59-1608d31308db",
   "metadata": {},
   "outputs": [],
   "source": [
    "#kg.plot.bar()"
   ]
  },
  {
   "cell_type": "code",
   "execution_count": 187,
   "id": "7451687b-034f-497b-a9ec-9edface8b78c",
   "metadata": {},
   "outputs": [],
   "source": [
    "kg.columns = ['_'.join(col) for col in kg.columns.values]\n",
    "kg = kg.reset_index()\n",
    "kg[\"id\"] = kg[\"date\"].dt.strftime('%Y-%m-%d')+\"_\"+kg[\"agenda_no\"]"
   ]
  },
  {
   "cell_type": "code",
   "execution_count": 192,
   "id": "01cd3d20-720c-4a14-9944-91ea2050bcab",
   "metadata": {},
   "outputs": [
    {
     "data": {
      "text/plain": [
       "(5926, 3)"
      ]
     },
     "execution_count": 192,
     "metadata": {},
     "output_type": "execute_result"
    }
   ],
   "source": [
    "df[(df[\"id\"].isin(kg[\"id\"].to_list())) & (df[\"role\"] == \"mp\")][[\"name\",\"id\", \"role\"]].shape"
   ]
  },
  {
   "cell_type": "code",
   "execution_count": 193,
   "id": "b309c077-eedc-472c-9a31-98af10260bb8",
   "metadata": {},
   "outputs": [
    {
     "data": {
      "text/plain": [
       "(2052, 3)"
      ]
     },
     "execution_count": 193,
     "metadata": {},
     "output_type": "execute_result"
    }
   ],
   "source": [
    "l[(l[\"id\"].isin(kg[\"id\"].to_list()))][[\"name\",\"id\", \"role\"]].shape"
   ]
  },
  {
   "cell_type": "code",
   "execution_count": 32,
   "id": "f97e9ffc-5106-42da-933f-175b0abce57a",
   "metadata": {},
   "outputs": [
    {
     "data": {
      "text/plain": [
       "52686    \\n\\nHerr Bundespräsident! Verehrte Kolleginnen und Kollegen!\\n\\n({0})\\n\\n– Muss ich selber drücken?\\n\\n({1})\\n\\nAller Anfang ist schwer; also fangen wir noch einmal von vorne an.\\n\\nHerr Bundespräsident! Liebe Kolleginnen und Kollegen! Meine sehr verehrten Damen und Herren! Ich habe zunächst zu danken. Ich danke Ihnen für das Vertrauen, das Sie mir mit der Wahl zum Bundestagspräsidenten entgegenbringen. Ich danke Hermann Otto Solms. Mit seiner langen parlamentarischen Erfahrung hat er die von mir übernommene Aufgabe, diesen 19. Deutschen Bundestag als dienstältester Abgeordneter zu eröffnen, mit großer Umsicht wahrgenommen. Und er hat die Herausforderungen für unser Parlament klar umrissen.\\n\\nIch möchte den vielen ausgeschiedenen Kolleginnen und Kollegen danken. Sie schauen zum Teil auf jahrzehntelanges parlamentarisches Wirken zurück. Ich nenne stellvertretend Heinz Riesenhuber. Er war gleich zweimal Alterspräsident, bei den konstituierenden Sitzungen der beiden zurückliegenden Legislaturperioden. Ich danke aus dem Präsidium des 18. Deutschen Bundestages den ausgeschiedenen Vizepräsidenten Edelgard Bulmahn und Johannes Singhammer. Ich danke natürlich auch den beiden Vizepräsidentinnen, die dem nächsten Präsidium vermutlich nicht angehören werden. Damit nehme ich jetzt die Wahl vorweg; das ist ein bisschen schwierig.\\n\\nVor allen Dingen aber, meine sehr verehrten Damen und Herren, möchte ich Norbert Lammert danken. Er war zwölf Jahre ein großartiger Bundestagspräsident.\\n\\n({2})\\n\\nLieber Herr Lammert, Sie hatten eine ganz besondere Begabung als Redner, und Sie hatten immer klare Vorstellungen davon, was dieses Parlament leisten soll und was es leisten kann, wenn es denn will.\\n\\nLiebe Kolleginnen und Kollegen, ich freue mich auf die neue Aufgabe. Im Parlament schlägt das Herz unserer Demokratie. Ich freue mich auf die Zusammenarbeit mit Ihnen, liebe Kolleginnen und Kollegen, wie mit allen Mitarbeiterinnen und Mitarbeitern, die diesem Haus dienen.\\n\\nIch bin Parlamentarier aus Leidenschaft. Ich habe meine Abgeordnetentätigkeit immer als hohe Verantwortung und das Mandat als meine demokratische Legitimation verstanden. Ich habe im Übrigen im Deutschen Bundestag beides erlebt: Abgeordneter zu sein in der Opposition wie in einer Regierungsfraktion.\\n\\nZunächst war ich zehn Jahre in der Opposition. Als ich 1972 zum ersten Mal als Abgeordneter im Deutschen Bundestag saß, wurde um die Ostverträge gestritten – mit leidenschaftlichen Debatten, damals in Bonn. Die Stimmung war aufgeladen. Überhaupt prägte seinerzeit eine extrem spannungsvolle Atmosphäre dieses Land. Die Gesellschaft der Bundesrepublik hatte sich seit Mitte der 60er-Jahre in einem bis dahin nicht gekannten Maße politisiert, mobilisiert und polarisiert. Geschadet hat es nicht, genauso wenig wie die Erregung Anfang der 80er-Jahre. Da war ich Abgeordneter in der großen Regierungsfraktion, als es etwa um den NATO-Doppelbeschluss ging. Sieben Jahre später fiel dann die Mauer. Veränderung war also immer, und vieles wird im Übrigen in der Rückschau anders bewertet als mitten im Streit. Auch deshalb, also weil ich aus eigenem Erleben weiß, dass Erregung und Krisengefühle so neu nicht wirklich sind, sehe ich mit Gelassenheit den Auseinandersetzungen entgegen, die wir in den kommenden Jahren führen werden und die wir im Parlament zu führen haben, stellvertretend für die Gesellschaft, aus der heraus wir gewählt sind. Denn diese Gesellschaft müssen wir nicht nur in ihrem Grundkonsens, sondern auch in ihrer Vielheit und Verschiedenheit repräsentieren. Wir dürfen das eine nicht gegen das andere ausspielen.\\n\\n({3})\\n\\nIn einem demokratischen Gemeinwesen ist kein Thema es wert, über den Streit das Gemeinsame in Vergessenheit geraten zu lassen. 289 Abgeordnete ziehen heute erstmals ins Parlament ein – das sind gut 40 Prozent aller Mitglieder dieses Hauses. Selten unterschied sich ein Bundestag so sehr von seinem Vorgänger wie dieser. Sieben Parteien und sechs Fraktionen – so viele gab es seit 60 Jahren nicht mehr.\\n\\nDiese neue Konstellation hier im Haus spiegelt die Veränderungen wider, die unsere Gesellschaft erlebt: Verunsicherungen wachsen angesichts des raschen Wandels durch Globalisierung und Digitalisierung. Zusammenhänge lösen sich auf, Zugehörigkeiten brechen auf und neue entstehen. Alte Gewissheiten und Identitäten werden infrage gestellt, und neue, vermeintliche Gewissheiten werden in Stellung gebracht gegen zunehmende Sorgen und Zweifel.\\n\\nDas menschliche Bedürfnis nach Geborgenheit in vertrauten Lebensräumen trifft auf eine zunehmend als ungemütlich empfundene Welt voller Konflikte, Krisen, Kriege und medial präsentem Schrecken. Vor diesem Hintergrund verschärft sich die Tonlage der gesellschaftlichen Debatten. All das können wir übrigens vielerorts in Europa beobachten.\\n\\nMit dem ungeheuer schnellen gesellschaftlichen Wandel, den wir erleben, geht eine Fragmentierung unserer Debatten und Aufmerksamkeiten einher. Das stellt die politische Ordnung, die demokratischen Institutionen und Verfahren vor große Herausforderungen. Jedem erscheint etwas anderes wichtig. Jeder scheint gelegentlich nur noch seine eigenen Probleme wahrzunehmen. Es gibt nicht mehr das eine Thema.\\n\\nDas Überhandnehmen von Möglichkeiten und Optionen kann auch überfordern. Über dieses „Unbehagen im Kapitalismus“ hat Uwe Jean Heuser schon 2000 geschrieben. Wie alles ist auch Freiheit durch Übermaß gefährdet. Deswegen müssen wir immer wieder die richtige Balance auch im Umgang mit Freiheit lernen.\\n\\nHinzu kommt der Wandel der Medien und ihrer Nutzung durch die Veränderungen in der Informationstechnologie. Die Zersplitterung in viele Teilöffentlichkeiten führt dazu, dass uns eine erkennbar gemeinsame Sicht auf politische Prioritäten verloren geht. Da kann dieses Parlament ein Ort der Bündelung, der Fokussierung, der Konzentration auf die wichtigen Fragen unserer gesellschaftlichen Zukunft in Deutschland wie in Europa sein.\\n\\nWir Abgeordnete, liebe Kolleginnen und Kollegen, sind für die Mitbürger im Wahlkreis manchmal fast eine Art Ombudsmann. Mit unserer Arbeit und unseren Begegnungen vor Ort vermitteln wir diese Wirklichkeit auf die Ebene der Bundespolitik. Unsere Vielzahl an Erfahrungen und Qualifikationen aus beruflicher, sozialer, ehrenamtlicher Tätigkeit bildet eine ganze Menge Expertise. Vielleicht wissen und fühlen wir Abgeordnete durch unsere Verwurzelung bei den Menschen manchmal besser als die Forschungsinstitute, was die Menschen wirklich bewegt.\\n\\n({4})\\n\\nZugleich sind wir alle, wie Artikel 38 unseres Grundgesetzes sagt, Abgeordnete des ganzen Volkes. Dazu müssen wir diese Vielzahl von Interessen, Meinungen, Befindlichkeiten mit den Begrenztheiten und der Endlichkeit der Realität zusammenbringen, und das zwingt zu Kompromissen und zu Entscheidungen durch Mehrheit. Je besser das gelingt, umso weniger fühlen sich Menschen in der demokratischen Wirklichkeit zurückgelassen.\\n\\nImmanuel Kant, dem wir viele Gedanken von Rechtsstaat und Republik verdanken, hat gesagt – ich drücke es halb mit meinen Worten aus –: Handle stets so, dass das Prinzip Deiner Handlung immer auch das Prinzip der Handlungen aller anderen sein könnte, dass es immer auch allgemeines Gesetz sein könnte. – Also: Handle so, dass menschliches Miteinander nicht zusammenbräche, wenn alle so handelten wie Du selbst.\\n\\nDas, verehrte Kolleginnen und Kollegen, gilt gerade auch für Parlamentsabgeordnete, und das ist eine gute Maxime für unser repräsentatives System.\\n\\n({5})\\n\\nAuch die Vertretung partikularer Interessen darf, wie alles, nicht exzessiv werden. Andere Demokratien in der Welt sind da übrigens schon weit auf die abschüssige Bahn geraten.\\n\\nWas aber sehr wohl sein darf und sein muss, ist, dass der parlamentarische Prozess hier im Hause sichtbar macht, wie schwierig sowohl die Durchsetzung als auch der Ausgleich von Interessen in einer liberalen Demokratie sind. Da darf Streit nicht nur sein; das geht nur über Streit. Den müssen wir führen, und den müssen wir aushalten, ertragen. Demokratischer Streit ist notwendig, aber es ist ein Streit nach Regeln, und es ist mit der Bereitschaft verbunden, die demokratischen Verfahren zu achten und die dann und so zustandegekommenen Mehrheitsentscheidungen nicht als illegitim oder verräterisch oder sonst wie zu denunzieren,\\n\\n({6})\\n\\nsondern die Beschlüsse der Mehrheit zu akzeptieren. Das ist parlamentarische Kultur.\\n\\nUnd da kommt es dann auch auf den Stil an, in dem wir uns hier streiten und in dem wir füreinander Respekt signalisieren können.\\n\\nEs gab in den vergangenen Monaten in unserem Land Töne der Verächtlichmachung und Erniedrigung. Ich finde, das hat keinen Platz in einem zivilisierten Miteinander.\\n\\n({7})\\n\\nDie überwältigende Mehrheit der Bürgerinnen und Bürger in diesem Land will ein zivilisiertes Miteinander. In aufgewühlten Zeiten wie unseren wächst das Bedürfnis nach Formen des Verhaltens, über die man lange nicht mehr geredet hat, weil man sie als selbstverständlich ansah. Es wird wieder über Anstand gesprochen – sogar Bücher werden darüber geschrieben und kommen auf die Bestsellerlisten –, und es wird auch über die Frage gesprochen, wie wir in der Gesellschaft miteinander umgehen sollen: Respekt füreinander haben, nicht jeden persönlichen Spielraum maximal ausnutzen, ein offenes Ohr haben für die Argumente des anderen, ihn anerkennen mit seiner anderen Meinung.\\n\\nEs geht um Fairness. Hundertprozentige Gerechtigkeit gibt es nicht, aber Fairness ist möglich in dem Sinne, dass sich möglichst alle angesprochen fühlen und nicht ausgeschlossen bleiben.\\n\\n({8})\\n\\nDie Art, wie wir hier miteinander reden, kann vorbildlich sein für die gesellschaftliche Debatte. Prügeln sollten wir uns hier nicht, wie es ja zum Teil auch in Europa in anderen Parlamenten bisweilen geschieht.\\n\\n({9})\\n\\nWir sollten das übrigens auch nicht verbal tun. Wir können vielmehr zeigen, dass man sich streiten kann, ohne dass es unanständig wird. Dazu müssen wir zeigen, dass auch ein Bundestag mit sechs Fraktionen schafft, wozu er da ist: Entscheidungen herbeizuführen, die als legitim empfunden werden.\\n\\nDas Parlament besteht aus Abgeordneten, und diese Abgeordneten sind nicht „abgehoben“, wie so gern oberflächlich dahingeredet wird. Wir sind aus der Mitte der Bürgerinnen und Bürger gewählt.\\n\\nAber niemand vertritt alleine das Volk. So etwas wie Volkswille entsteht überhaupt erst in und mit unseren parlamentarischen Entscheidungen.\\n\\n({10})\\n\\nDeswegen haben wir die Pflicht, diesen Ort wertzuhalten, als Ort des nachvollziehbaren sachlichen wie auch emotionalen Streits – ja, auch Gefühle gehören dazu –, stellvertretend für die Mitbürgerinnen und Mitbürger die Dinge, die alle angehen, argumentativ gegeneinander oder miteinander auszumachen und dann mit Mehrheit zu entscheiden.\\n\\nWir müssen das Vertrauen in das repräsentative Prinzip wieder stärken. Das ist übrigens keine nur nationale Frage. Die europäischen oder westlichen Werte, die Grundlage unserer verfassungsmäßigen Ordnung sind, wirken vielerorts fragil und erfreuen sich doch zugleich weltweit großer Attraktivität. Freiheit, Rechtsstaatlichkeit, sozialer Zusammenhalt, ökologische Nachhaltigkeit: Ohne Parlamentarismus geht all das nicht.\\n\\nNach ernsthaftem Streit der Meinungen stellvertretend für alle Bürgerinnen und Bürger Entscheidungen zu treffen: Die befriedende Wirkung, die das hat, wenn es gelingt, brauchen wir überall in der Welt – in einer Welt, wo ja überall immer mehr Menschen nicht nur Anspruch auf wirtschaftliche Teilhabe, sondern auch auf politische Mitsprache erheben.\\n\\nIn Zeiten zunehmender Globalisierung heißt das auch, die Kompliziertheit unserer Welt auszuhalten. Aber wir haben zugleich auch die Chance, der Welt, die sich uns nähert, zu zeigen, dass der Parlamentarismus etwas taugt, dass er funktioniert und dass er zu Lösungen für die Probleme und Herausforderungen fähig ist.\\n\\nNorbert Lammert hat immer sehr elegant die Tage, an denen er sprach, danach befragt, was an ihnen in vergangenen Jahren und Jahrhunderten geschah und an was uns das erinnern sollte. Ich will das heute noch einmal im Sinne einer kleinen Hommage tun. Um es chronologisch rückwärts zu machen: Dieser 24. Oktober ist der Tag der Vereinten Nationen. 1945 trat am 24. Oktober die Charta der Vereinten Nationen in Kraft. Am 24. Oktober 1929 endete am Schwarzen Donnerstag die jahrelange Hausse der New Yorker Börse, und es begann die Weltwirtschaftskrise mit all ihren Folgen.\\n\\nUnd am 24. Oktober 1648 wurde der Westfälische Frieden zur Beendigung des Dreißigjährigen Krieges unterzeichnet, eines Krieges, an dessen Beginn wir uns kommendes Jahr erinnern. Herfried Münkler hat ihm gerade ein Opus Magnum gewidmet, in dem er zeigt, dass dieser bis heute längste Krieg auf deutschem Boden – zugleich übrigens der erste im vollen Sinne europäische Krieg – uns besser als alle späteren Konflikte die Kriege unserer Gegenwart verstehen lässt. Wer es nicht glaubt, der lese noch einmal im „Simplicissimus“ von ­Grimmelshausen nach. Er ist übrigens in meinem Wahlkreis geschrieben worden.\\n\\n({11})\\n\\nAll das, liebe Kolleginnen und Kollegen, erinnert uns an den Charakter der Aufgaben, die vor uns liegen. Es erinnert uns daran, dass wir die Entscheidungen, die wir hier treffen, in weltpolitische Zusammenhänge einzubetten haben.\\n\\nEuropa und die Globalisierung: Das ist heute der Rahmen für das, was wir hier debattieren und entscheiden. Das hat nichts mit einem Aufgeben nationaler Selbstbestimmung zu tun, schon gar nichts mit einem Aufgeben des Anspruchs, dass dies hier der Ort ist, an dem immer wieder neu die Souveränität des deutschen Volkes greifbar und wirklich wird. Vielmehr beschreibt es die Aufgabe, der wir gerecht werden müssen, den Weg einer selbstbewussten Einordnung in immer weitere Zusammenhänge zu finden, mit dem Ziel, dazu beizutragen, in dieser Welt unsere Zukunft gestalten zu können.\\n\\n({12})\\n\\nDass wir uns in solcher Öffnung zur Welt und Einordnung noch selbst erkennen, dass wir bleiben, was wir irgendwie fühlen, das wir sind – im Guten, wie zum Beispiel unserer parlamentarischen Ordnung, wie im Schlechten, das wir als nationale Schicksalsgemeinschaft nicht werden abstreifen können und aus dem wir doch immer wieder neues Gutes zu entwickeln uns bemühen –, dass wir all das bleiben, ohne uns abzuschotten oder uns bequem rauszuhalten, darum, liebe Kolleginnen und Kollegen, geht es.\\n\\n({13})\\n\\nIn der Präambel unseres Grundgesetzes von 1949, die wir 1990 im wiedervereinten Deutschland fortgeschrieben haben, heißt es:\\n\\n… von dem Willen beseelt, als gleichberechtigtes Glied in einem vereinten Europa dem Frieden der Welt zu dienen, hat sich das Deutsche Volk kraft seiner verfassungsgebenden Gewalt dieses Grundgesetz gegeben.\\n\\nDies hier, liebe Kolleginnen und Kollegen, ist der Ort, an dem wir diesem Willen Gestalt geben.\\n\\n({14})\\n\\nDafür hat uns eine wieder gewachsene Zahl von Bürgerinnen und Bürgern gewählt. Der Trend zur höheren Wahlbeteiligung bei den letzten Landtagswahlen hat sich auch im Bund fortgesetzt. Ich denke, das zeigt, dass Erwartungen gestiegen sind. Wenn wir diese Erwartungen einigermaßen erfüllen, können wir unserem Land einen großen Dienst erweisen. Steigende Erwartungen sind also eine Chance, auch wenn es zur Wahrheit gehört, dass in dieser Welt immer neuer Akteure und immer dichterer Verflechtungen die Realität komplizierter wird und unsere Handlungsspielräume nicht immer nur wachsen. Zwischen beidem müssen wir als Parlament unseren Weg finden.\\n\\nIch freue mich auf unsere Arbeit hier in den kommenden vier Jahren.\\n\\nHerzlichen Dank.\\n\\n({15})\n",
       "Name: speech_content, dtype: object"
      ]
     },
     "execution_count": 32,
     "metadata": {},
     "output_type": "execute_result"
    }
   ],
   "source": [
    "dfg.loc[[52686]].speech_content"
   ]
  },
  {
   "cell_type": "code",
   "execution_count": 351,
   "id": "00add3ed-89cd-4cdc-b565-72b0790be086",
   "metadata": {},
   "outputs": [
    {
     "data": {
      "text/plain": [
       "1584"
      ]
     },
     "execution_count": 351,
     "metadata": {},
     "output_type": "execute_result"
    }
   ],
   "source": [
    "dfq = df[df['speech'].str.contains(\"Energiewende\")] \n",
    "len(dfq)"
   ]
  },
  {
   "cell_type": "code",
   "execution_count": 352,
   "id": "c55414ad-afed-43d8-8800-da4a582fc19c",
   "metadata": {},
   "outputs": [
    {
     "data": {
      "text/plain": [
       "SPD           446\n",
       "CDU           314\n",
       "GRUENE        292\n",
       "DIE LINKE     167\n",
       "AfD           158\n",
       "CSU           119\n",
       "FDP           63 \n",
       "parteilos     11 \n",
       "LKR           7  \n",
       "LINKE         5  \n",
       "Die PARTEI    1  \n",
       "NA            1  \n",
       "Name: party, dtype: int64"
      ]
     },
     "execution_count": 352,
     "metadata": {},
     "output_type": "execute_result"
    }
   ],
   "source": [
    "dfq[\"party\"].value_counts()"
   ]
  },
  {
   "cell_type": "code",
   "execution_count": 61,
   "id": "87b3ed72-affd-46a5-92e4-123b993ddddc",
   "metadata": {},
   "outputs": [],
   "source": [
    "#dfq.groupby(['date'])[\"date\"].size()"
   ]
  },
  {
   "cell_type": "code",
   "execution_count": 62,
   "id": "9bda8827-ce5d-4605-8f3d-e35be66888b3",
   "metadata": {},
   "outputs": [],
   "source": [
    "from IPython.core.display import HTML\n",
    "\n",
    "showdf = df[df['date'] == datetime.date(2022, 4, 28)][[\"speech_content\", \"date\", \"session\", \"faction_id\"]]\n",
    "#display(HTML(showdf.to_html()))"
   ]
  },
  {
   "cell_type": "code",
   "execution_count": null,
   "id": "3ac13db2-3a77-40d2-b187-3ebdfabd31c7",
   "metadata": {},
   "outputs": [],
   "source": [
    "speeches = dfq[\"speech_content\"].to_list()"
   ]
  },
  {
   "cell_type": "code",
   "execution_count": 73,
   "id": "a5409068-e840-44e7-8cdd-c2ba70c6fcd3",
   "metadata": {},
   "outputs": [],
   "source": [
    "from bertopic import BERTopic\n",
    "from bertopic.representation import KeyBERTInspired\n",
    "\n",
    "# Create your representation model\n",
    "representation_model = KeyBERTInspired()\n",
    "\n",
    "topic_model = BERTopic(representation_model=representation_model, language = \"multilingual\", nr_topics=35)"
   ]
  },
  {
   "cell_type": "code",
   "execution_count": 74,
   "id": "4e314dde-a9c4-4d31-890a-702f0bbc3c3f",
   "metadata": {},
   "outputs": [],
   "source": [
    "topics, probs = topic_model.fit_transform(speeches)"
   ]
  },
  {
   "cell_type": "code",
   "execution_count": 75,
   "id": "c7c571fe-20ed-4928-ac14-40015189acb1",
   "metadata": {},
   "outputs": [
    {
     "data": {
      "application/vnd.plotly.v1+json": {
       "config": {
        "plotlyServerURL": "https://plot.ly"
       },
       "data": [
        {
         "coloraxis": "coloraxis",
         "hovertemplate": "x: %{x}<br>y: %{y}<br>Similarity Score: %{z}<extra></extra>",
         "name": "0",
         "type": "heatmap",
         "x": [
          "0_klimaschutz_dazu_uns",
          "1_klimaschutz_deutschland_uns",
          "2_haushalt_jetzt_milliarden",
          "3_europäische_europäischen_...",
          "4_energiepolitik_kernenergi...",
          "5_gesagt_doch_sagen",
          "6_petitionsausschusses_auss...",
          "7_verkehrspolitik_mobilität...",
          "8_wohnraum_wohnungen_wohngeld",
          "9_konferenz_klimaschutz_kioto",
          "10_forstwirtschaft_wäldern_...",
          "11_ukraine_russland_europa",
          "12_krise_bundesregierung_mi...",
          "13_entwicklungspolitik_weil...",
          "14_innovationen_technologie...",
          "15_konferenz_ländern_afrika",
          "16_pandemie_coronapandemie_...",
          "17_senioren_abgeordneten_ab...",
          "18_fukushima_katastrophe_ts...",
          "19_energieversorgung_energi...",
          "20_weil_uns_haben",
          "21_stadtentwicklungspolitik...",
          "22_maritime_maritimen_meere...",
          "23_biokraftstoffstrategie_b...",
          "24_energiegewinnung_energie...",
          "25_luftverkehrswirtschaft_l...",
          "26_klimafinanzierung_klimas...",
          "27_gesagt_minister_sagen",
          "28_biodiversität_naturschut...",
          "29_bali_konferenz_entwicklu...",
          "30_tourismuspolitik_tourism...",
          "31_flüchtlinge_europäische_...",
          "32_großbritannien_briten_br...",
          "33_demokratie_wahlrecht_bun..."
         ],
         "xaxis": "x",
         "y": [
          "0_klimaschutz_dazu_uns",
          "1_klimaschutz_deutschland_uns",
          "2_haushalt_jetzt_milliarden",
          "3_europäische_europäischen_...",
          "4_energiepolitik_kernenergi...",
          "5_gesagt_doch_sagen",
          "6_petitionsausschusses_auss...",
          "7_verkehrspolitik_mobilität...",
          "8_wohnraum_wohnungen_wohngeld",
          "9_konferenz_klimaschutz_kioto",
          "10_forstwirtschaft_wäldern_...",
          "11_ukraine_russland_europa",
          "12_krise_bundesregierung_mi...",
          "13_entwicklungspolitik_weil...",
          "14_innovationen_technologie...",
          "15_konferenz_ländern_afrika",
          "16_pandemie_coronapandemie_...",
          "17_senioren_abgeordneten_ab...",
          "18_fukushima_katastrophe_ts...",
          "19_energieversorgung_energi...",
          "20_weil_uns_haben",
          "21_stadtentwicklungspolitik...",
          "22_maritime_maritimen_meere...",
          "23_biokraftstoffstrategie_b...",
          "24_energiegewinnung_energie...",
          "25_luftverkehrswirtschaft_l...",
          "26_klimafinanzierung_klimas...",
          "27_gesagt_minister_sagen",
          "28_biodiversität_naturschut...",
          "29_bali_konferenz_entwicklu...",
          "30_tourismuspolitik_tourism...",
          "31_flüchtlinge_europäische_...",
          "32_großbritannien_briten_br...",
          "33_demokratie_wahlrecht_bun..."
         ],
         "yaxis": "y",
         "z": [
          [
           1,
           0.8719442987910965,
           0.8509129239274758,
           0.764429044077882,
           0.8802585163853198,
           0.8033573967846268,
           0.7360154063495734,
           0.7467076629620004,
           0.7347491356310594,
           0.8235630545875698,
           0.7687403883433979,
           0.6884267043276691,
           0.7759875715548497,
           0.8254294794105703,
           0.7625612591987005,
           0.7804198986634806,
           0.7747656748454763,
           0.48982163218737496,
           0.6212647951610489,
           0.7818904500668489,
           0.6773383310528083,
           0.725038677281712,
           0.6802390584076553,
           0.7498017702320987,
           0.6403896765323085,
           0.7026023747139662,
           0.705601106232361,
           0.8001570024233655,
           0.6999479857814859,
           0.7154508128175645,
           0.5800377689321788,
           0.6280296130439581,
           0.666236517010852,
           0.7717620568911446
          ],
          [
           0.8719442987910965,
           1.0000000000000009,
           0.7747886884755795,
           0.830229777520108,
           0.8837585667296426,
           0.6268253300121325,
           0.6718402175929046,
           0.76858536738483,
           0.7224199238173946,
           0.8106886775887967,
           0.7188351847125016,
           0.6598011635825765,
           0.6805666327837278,
           0.6775981088242937,
           0.7786140190905024,
           0.6733850667715586,
           0.7240341086843898,
           0.458664809342431,
           0.5524691400918489,
           0.7779129122341821,
           0.5722433331253414,
           0.6627090724127653,
           0.6919221175517076,
           0.8246529204169807,
           0.7186765353353362,
           0.7713355838751024,
           0.7966877718160741,
           0.7355057613428653,
           0.6928107750565187,
           0.647802741545985,
           0.5784909418152601,
           0.620837800974145,
           0.6182006065000101,
           0.6328391594031761
          ],
          [
           0.8509129239274758,
           0.7747886884755795,
           0.9999999999999994,
           0.7738752488243739,
           0.8290388400800609,
           0.7706872702028433,
           0.725494902270495,
           0.7181746758765193,
           0.7281400280965123,
           0.732346916559232,
           0.6329128257175615,
           0.653971856103341,
           0.8427644807435952,
           0.8216787515939419,
           0.6860267306505595,
           0.6855676579664531,
           0.6838052736018742,
           0.49085390109836335,
           0.6048330302221946,
           0.7325509232607098,
           0.6250224998359777,
           0.677831849241326,
           0.6254784428962377,
           0.6736050331503368,
           0.5686608775288053,
           0.630759463627988,
           0.7497793743805855,
           0.7094521283754296,
           0.564794111438866,
           0.6161170127096055,
           0.5168422073895231,
           0.5874827376055504,
           0.6294062985687324,
           0.7265496709497923
          ],
          [
           0.764429044077882,
           0.830229777520108,
           0.7738752488243739,
           1.0000000000000004,
           0.7215755849001437,
           0.7584128473570806,
           0.6342283005816178,
           0.7538017076592447,
           0.7190380832166277,
           0.7546424595989518,
           0.5512767377177027,
           0.770156471868422,
           0.7678389726952644,
           0.7732720629359289,
           0.7490535173269539,
           0.7300416526077234,
           0.6988754824238138,
           0.5739712864376412,
           0.563964339868924,
           0.6283648489483377,
           0.6689941846663007,
           0.6857356580823021,
           0.7697599377246331,
           0.616321123643663,
           0.40631833201977263,
           0.6885318833197145,
           0.6290198768660477,
           0.7254647115169535,
           0.5699473629485705,
           0.6136918868978621,
           0.609539563864101,
           0.7744453612886649,
           0.7805003953320688,
           0.6556190329722902
          ],
          [
           0.8802585163853198,
           0.8837585667296426,
           0.8290388400800609,
           0.7215755849001437,
           1.0000000000000002,
           0.732981671259634,
           0.69869818145138,
           0.7439448784679472,
           0.7079997530858433,
           0.7741176512594365,
           0.6746788620739975,
           0.6577406997216266,
           0.7202141154853418,
           0.7734696674840442,
           0.7793621013844256,
           0.6775775242110909,
           0.7056594733712147,
           0.4712374231347359,
           0.6691549684369601,
           0.8274901577404272,
           0.5697054500246262,
           0.6537675073008486,
           0.6252801781843231,
           0.8028956933567397,
           0.805340897363583,
           0.6817320017292515,
           0.6671659380512418,
           0.7787486127436176,
           0.5961010339550481,
           0.6215849860626758,
           0.49629116190612355,
           0.5458949872977727,
           0.5881066384103343,
           0.6978474723265862
          ],
          [
           0.8033573967846268,
           0.6268253300121325,
           0.7706872702028433,
           0.7584128473570806,
           0.732981671259634,
           0.9999999999999993,
           0.7392739971359188,
           0.6541533990791311,
           0.6568262160826448,
           0.6969481655083729,
           0.5130412987973283,
           0.7284805956114289,
           0.6822111942224351,
           0.8701050383506472,
           0.613040577572382,
           0.7330665848452895,
           0.6414106963689342,
           0.6527570874170026,
           0.5741869482959384,
           0.671275088774406,
           0.7051174921002037,
           0.6088995068199138,
           0.6234325300712694,
           0.5010065548827711,
           0.3152038045160984,
           0.5718738138176269,
           0.4191915920142911,
           0.808302609227717,
           0.3596465949891665,
           0.6429776766834899,
           0.491574185826696,
           0.6354362388529318,
           0.7146367875860085,
           0.7449734428879685
          ],
          [
           0.7360154063495734,
           0.6718402175929046,
           0.725494902270495,
           0.6342283005816178,
           0.69869818145138,
           0.7392739971359188,
           0.9999999999999993,
           0.6000103389656525,
           0.6048784107617233,
           0.6513047935500409,
           0.5145430012211123,
           0.4998781786901012,
           0.5079765761513196,
           0.7398404782157374,
           0.5269335249960625,
           0.5845943895944963,
           0.5103899066569586,
           0.5479866358769391,
           0.4275842040050961,
           0.6425539412341426,
           0.5125378954112184,
           0.5456759615635639,
           0.5530431654048622,
           0.5615260959258532,
           0.3762383932650919,
           0.5827284077935702,
           0.5473725367079696,
           0.6494305906660705,
           0.3882727051205668,
           0.567012746639798,
           0.34227957513017515,
           0.4792542509185562,
           0.541059187946725,
           0.6574899713900513
          ],
          [
           0.7467076629620004,
           0.76858536738483,
           0.7181746758765193,
           0.7538017076592447,
           0.7439448784679472,
           0.6541533990791311,
           0.6000103389656525,
           1,
           0.7385533799213013,
           0.6346474114146664,
           0.600806806393759,
           0.6111634595599977,
           0.6799489221562416,
           0.7460208734225215,
           0.7254179648283872,
           0.5949889818953082,
           0.6212097765298108,
           0.39905837085340334,
           0.5113826029315249,
           0.6642714671843184,
           0.552255542154038,
           0.7361923367643498,
           0.6944719761926489,
           0.6377560381206211,
           0.5722677482078136,
           0.7761489656797596,
           0.5502414344022835,
           0.6546346137318606,
           0.5473885916709047,
           0.5258642827696298,
           0.6748684075921381,
           0.6732438172311175,
           0.6440803140017887,
           0.632489802079911
          ],
          [
           0.7347491356310594,
           0.7224199238173946,
           0.7281400280965123,
           0.7190380832166277,
           0.7079997530858433,
           0.6568262160826448,
           0.6048784107617233,
           0.7385533799213013,
           0.9999999999999997,
           0.5645981436135495,
           0.5852384678292822,
           0.5732598729611288,
           0.6671435258875995,
           0.7151394282932808,
           0.6388594438636107,
           0.5744856652190687,
           0.6235078090369686,
           0.43335553038988506,
           0.46811980667195163,
           0.5927641824652048,
           0.5885193976687375,
           0.7790779195332063,
           0.5647483209791695,
           0.5854679143607119,
           0.5244861446775979,
           0.5935484362172192,
           0.5387578039123073,
           0.6016418808649684,
           0.5261039190296541,
           0.46218902065554957,
           0.5682038723982227,
           0.6393778830970651,
           0.5692836385410138,
           0.6666854879888887
          ],
          [
           0.8235630545875698,
           0.8106886775887967,
           0.732346916559232,
           0.7546424595989518,
           0.7741176512594365,
           0.6969481655083729,
           0.6513047935500409,
           0.6346474114146664,
           0.5645981436135495,
           1,
           0.6051153240629571,
           0.6845479293453682,
           0.6690769976870581,
           0.686583053425847,
           0.640281435978937,
           0.8130962151449977,
           0.6957781728779631,
           0.5027427275571162,
           0.616129489028793,
           0.7012971380970957,
           0.6074138030117491,
           0.5881761781799709,
           0.6811604535880376,
           0.6185791719382034,
           0.5011616752041116,
           0.6659093805271776,
           0.6997546446755349,
           0.6717043518763892,
           0.5552240002787082,
           0.7550130313579027,
           0.5167770112265806,
           0.5976007012672486,
           0.6550012844734515,
           0.6209314131588921
          ],
          [
           0.7687403883433979,
           0.7188351847125016,
           0.6329128257175615,
           0.5512767377177027,
           0.6746788620739975,
           0.5130412987973283,
           0.5145430012211123,
           0.600806806393759,
           0.5852384678292822,
           0.6051153240629571,
           1.0000000000000004,
           0.49854084401380366,
           0.5898090671635282,
           0.5672917455985249,
           0.5822559018895752,
           0.6015037908248146,
           0.5867389120875791,
           0.289781193834343,
           0.47178610384103525,
           0.5998048050740309,
           0.587621554786761,
           0.5961010389055891,
           0.4794347531475962,
           0.6358091384288886,
           0.5782829074582913,
           0.5474767083091885,
           0.6390014109533422,
           0.5481726794613377,
           0.7240345084269469,
           0.5169558232670899,
           0.4980962316787699,
           0.4836615105169072,
           0.4472163103188572,
           0.5402274397800532
          ],
          [
           0.6884267043276691,
           0.6598011635825765,
           0.653971856103341,
           0.770156471868422,
           0.6577406997216266,
           0.7284805956114289,
           0.4998781786901012,
           0.6111634595599977,
           0.5732598729611288,
           0.6845479293453682,
           0.49854084401380366,
           1.0000000000000004,
           0.6794195473123945,
           0.7127257203905268,
           0.5805704527768576,
           0.6917007782749418,
           0.6996327252342964,
           0.48454413521595996,
           0.6720682249125909,
           0.5265575669325123,
           0.6871361355741735,
           0.5416580479921148,
           0.5860093375102917,
           0.5379219789970533,
           0.3809034302446893,
           0.5498683904754342,
           0.5045675521691126,
           0.6551618322271229,
           0.5048885936343834,
           0.558031888501237,
           0.4951163726582323,
           0.6852905203884778,
           0.6204458050243147,
           0.6068447820441016
          ],
          [
           0.7759875715548497,
           0.6805666327837278,
           0.8427644807435952,
           0.7678389726952644,
           0.7202141154853418,
           0.6822111942224351,
           0.5079765761513196,
           0.6799489221562416,
           0.6671435258875995,
           0.6690769976870581,
           0.5898090671635282,
           0.6794195473123945,
           0.9999999999999997,
           0.7514243851372451,
           0.6858717988740904,
           0.7216822216915261,
           0.7785544097587612,
           0.37842439749018686,
           0.658555142626444,
           0.609907523476433,
           0.7095429713827904,
           0.6511462436936443,
           0.6041349517852237,
           0.5762396742533558,
           0.5137816868606576,
           0.5797194859477615,
           0.6020111669814319,
           0.6289987890298564,
           0.6955793246258868,
           0.5617630136095084,
           0.5853116933619418,
           0.7327765304516538,
           0.6523450758469722,
           0.7091364119012032
          ],
          [
           0.8254294794105703,
           0.6775981088242937,
           0.8216787515939419,
           0.7732720629359289,
           0.7734696674840442,
           0.8701050383506472,
           0.7398404782157374,
           0.7460208734225215,
           0.7151394282932808,
           0.686583053425847,
           0.5672917455985249,
           0.7127257203905268,
           0.7514243851372451,
           1.0000000000000004,
           0.6983113411458597,
           0.729346216618219,
           0.6618532899406849,
           0.514880509220174,
           0.5484294621632493,
           0.658813897599178,
           0.6377987819790356,
           0.7415348822748231,
           0.6133665476399964,
           0.5429751704069206,
           0.4412853035913548,
           0.5936309333735014,
           0.5087177941478144,
           0.7417380521057322,
           0.45029435984484456,
           0.5904536874655817,
           0.515869900564984,
           0.6317700380201297,
           0.7041971568586638,
           0.7682050441710722
          ],
          [
           0.7625612591987005,
           0.7786140190905024,
           0.6860267306505595,
           0.7490535173269539,
           0.7793621013844256,
           0.613040577572382,
           0.5269335249960625,
           0.7254179648283872,
           0.6388594438636107,
           0.640281435978937,
           0.5822559018895752,
           0.5805704527768576,
           0.6858717988740904,
           0.6983113411458597,
           0.9999999999999996,
           0.6111266119316877,
           0.6714269741847432,
           0.3781537684052333,
           0.5163210699446041,
           0.7169958680142792,
           0.4821753033844166,
           0.6859425893083149,
           0.6565026424421861,
           0.7279412435196282,
           0.6312398944893908,
           0.6689430760080837,
           0.5708557316480452,
           0.6722113044218679,
           0.6381594769660573,
           0.5393562915315085,
           0.5521623676464675,
           0.5410233174236568,
           0.5325444174161432,
           0.6293482949750634
          ],
          [
           0.7804198986634806,
           0.6733850667715586,
           0.6855676579664531,
           0.7300416526077234,
           0.6775775242110909,
           0.7330665848452895,
           0.5845943895944963,
           0.5949889818953082,
           0.5744856652190687,
           0.8130962151449977,
           0.6015037908248146,
           0.6917007782749418,
           0.7216822216915261,
           0.729346216618219,
           0.6111266119316877,
           1.0000000000000004,
           0.7021598217449778,
           0.49139037205880176,
           0.5462603288619368,
           0.620068111600945,
           0.7072578300338264,
           0.6325615413140426,
           0.6493471203040085,
           0.5192270214121515,
           0.41742681182040736,
           0.592662249179896,
           0.5911808502184893,
           0.635941469656608,
           0.562237741048338,
           0.7506040189171639,
           0.6002787935340239,
           0.6841454643889867,
           0.6427598182204519,
           0.6354176872476172
          ],
          [
           0.7747656748454763,
           0.7240341086843898,
           0.6838052736018742,
           0.6988754824238138,
           0.7056594733712147,
           0.6414106963689342,
           0.5103899066569586,
           0.6212097765298108,
           0.6235078090369686,
           0.6957781728779631,
           0.5867389120875791,
           0.6996327252342964,
           0.7785544097587612,
           0.6618532899406849,
           0.6714269741847432,
           0.7021598217449778,
           1.0000000000000009,
           0.3815593515496637,
           0.6557353158379988,
           0.6780814797295078,
           0.7087101785785003,
           0.5802128096761127,
           0.6074979558725779,
           0.5932206969897482,
           0.515852027182379,
           0.6302010348297359,
           0.5787723096879269,
           0.6409154168074558,
           0.6834203051177907,
           0.6315224878454267,
           0.535741108105013,
           0.6918265908212422,
           0.5455036883601073,
           0.6753108121409845
          ],
          [
           0.48982163218737496,
           0.458664809342431,
           0.49085390109836335,
           0.5739712864376412,
           0.4712374231347359,
           0.6527570874170026,
           0.5479866358769391,
           0.39905837085340334,
           0.43335553038988506,
           0.5027427275571162,
           0.289781193834343,
           0.48454413521595996,
           0.37842439749018686,
           0.514880509220174,
           0.3781537684052333,
           0.49139037205880176,
           0.3815593515496637,
           1.0000000000000007,
           0.43057653219575864,
           0.45263570336112274,
           0.5244336637047236,
           0.4454389969233735,
           0.48507501633708316,
           0.3133212068087756,
           0.14135620761930145,
           0.3761988007321782,
           0.33124107608924547,
           0.5534133557488542,
           0.1644657521256994,
           0.4545389822541595,
           0.3850847943289918,
           0.4277810329417123,
           0.4518464632141549,
           0.5091493682940025
          ],
          [
           0.6212647951610489,
           0.5524691400918489,
           0.6048330302221946,
           0.563964339868924,
           0.6691549684369601,
           0.5741869482959384,
           0.4275842040050961,
           0.5113826029315249,
           0.46811980667195163,
           0.616129489028793,
           0.47178610384103525,
           0.6720682249125909,
           0.658555142626444,
           0.5484294621632493,
           0.5163210699446041,
           0.5462603288619368,
           0.6557353158379988,
           0.43057653219575864,
           1.0000000000000016,
           0.5310553489962929,
           0.7332525972716063,
           0.4772350858624016,
           0.5272935498636818,
           0.4829668814416107,
           0.41289104362140766,
           0.4027819343777955,
           0.4641945019259182,
           0.5801713663170109,
           0.5907469683477797,
           0.4791277503229314,
           0.39062622741239716,
           0.5805693844422669,
           0.49012541812094074,
           0.5200709902805318
          ],
          [
           0.7818904500668489,
           0.7779129122341821,
           0.7325509232607098,
           0.6283648489483377,
           0.8274901577404272,
           0.671275088774406,
           0.6425539412341426,
           0.6642714671843184,
           0.5927641824652048,
           0.7012971380970957,
           0.5998048050740309,
           0.5265575669325123,
           0.609907523476433,
           0.658813897599178,
           0.7169958680142792,
           0.620068111600945,
           0.6780814797295078,
           0.45263570336112274,
           0.5310553489962929,
           1.0000000000000002,
           0.5090651194717547,
           0.5523618154998743,
           0.5892235172862619,
           0.6885542711008501,
           0.644435113334745,
           0.6437396842124219,
           0.6119898914287485,
           0.7057398516397912,
           0.5232865976047838,
           0.6274688837899066,
           0.44502041440086404,
           0.4741049851785242,
           0.5260817765324681,
           0.6311334550631993
          ],
          [
           0.6773383310528083,
           0.5722433331253414,
           0.6250224998359777,
           0.6689941846663007,
           0.5697054500246262,
           0.7051174921002037,
           0.5125378954112184,
           0.552255542154038,
           0.5885193976687375,
           0.6074138030117491,
           0.587621554786761,
           0.6871361355741735,
           0.7095429713827904,
           0.6377987819790356,
           0.4821753033844166,
           0.7072578300338264,
           0.7087101785785003,
           0.5244336637047236,
           0.7332525972716063,
           0.5090651194717547,
           1.000000000000001,
           0.5854862284488711,
           0.5699799974185124,
           0.4139846245278068,
           0.29369418040301404,
           0.45542948393289795,
           0.4841953923752742,
           0.5861422865989754,
           0.6052313906920188,
           0.5797727466062217,
           0.5113912186020078,
           0.7321046971208084,
           0.6197201156540754,
           0.6179235882805061
          ],
          [
           0.725038677281712,
           0.6627090724127653,
           0.677831849241326,
           0.6857356580823021,
           0.6537675073008486,
           0.6088995068199138,
           0.5456759615635639,
           0.7361923367643498,
           0.7790779195332063,
           0.5881761781799709,
           0.5961010389055891,
           0.5416580479921148,
           0.6511462436936443,
           0.7415348822748231,
           0.6859425893083149,
           0.6325615413140426,
           0.5802128096761127,
           0.4454389969233735,
           0.4772350858624016,
           0.5523618154998743,
           0.5854862284488711,
           1.000000000000001,
           0.5558017041530705,
           0.4946377209233031,
           0.4694279242824485,
           0.5593648237535356,
           0.4959139726540448,
           0.5837424854363038,
           0.5252291179533489,
           0.5041442944077497,
           0.6159653127357806,
           0.5481618680776759,
           0.5438320862059579,
           0.663518441525658
          ],
          [
           0.6802390584076553,
           0.6919221175517076,
           0.6254784428962377,
           0.7697599377246331,
           0.6252801781843231,
           0.6234325300712694,
           0.5530431654048622,
           0.6944719761926489,
           0.5647483209791695,
           0.6811604535880376,
           0.4794347531475962,
           0.5860093375102917,
           0.6041349517852237,
           0.6133665476399964,
           0.6565026424421861,
           0.6493471203040085,
           0.6074979558725779,
           0.48507501633708316,
           0.5272935498636818,
           0.5892235172862619,
           0.5699799974185124,
           0.5558017041530705,
           1,
           0.5847554432868094,
           0.4157579239012248,
           0.6899654993808857,
           0.5592065123164751,
           0.60882783450729,
           0.5773501687561823,
           0.6036851950803096,
           0.5886258314324313,
           0.6340480393028884,
           0.6126404629411752,
           0.5363071298488766
          ],
          [
           0.7498017702320987,
           0.8246529204169807,
           0.6736050331503368,
           0.616321123643663,
           0.8028956933567397,
           0.5010065548827711,
           0.5615260959258532,
           0.6377560381206211,
           0.5854679143607119,
           0.6185791719382034,
           0.6358091384288886,
           0.5379219789970533,
           0.5762396742533558,
           0.5429751704069206,
           0.7279412435196282,
           0.5192270214121515,
           0.5932206969897482,
           0.3133212068087756,
           0.4829668814416107,
           0.6885542711008501,
           0.4139846245278068,
           0.4946377209233031,
           0.5847554432868094,
           1.0000000000000009,
           0.7197557447699539,
           0.6525142978414568,
           0.6608586468061581,
           0.6229417549496152,
           0.6734125584856883,
           0.4692931554367043,
           0.43870402013696175,
           0.46040783493059545,
           0.43582193473966385,
           0.4970185320658139
          ],
          [
           0.6403896765323085,
           0.7186765353353362,
           0.5686608775288053,
           0.40631833201977263,
           0.805340897363583,
           0.3152038045160984,
           0.3762383932650919,
           0.5722677482078136,
           0.5244861446775979,
           0.5011616752041116,
           0.5782829074582913,
           0.3809034302446893,
           0.5137816868606576,
           0.4412853035913548,
           0.6312398944893908,
           0.41742681182040736,
           0.515852027182379,
           0.14135620761930145,
           0.41289104362140766,
           0.644435113334745,
           0.29369418040301404,
           0.4694279242824485,
           0.4157579239012248,
           0.7197557447699539,
           1.0000000000000013,
           0.5459752883073785,
           0.5742941466066707,
           0.45291093369981694,
           0.5643685864154813,
           0.42678673091321107,
           0.3759617679055331,
           0.28420546080818804,
           0.2905962633975409,
           0.47730946383722783
          ],
          [
           0.7026023747139662,
           0.7713355838751024,
           0.630759463627988,
           0.6885318833197145,
           0.6817320017292515,
           0.5718738138176269,
           0.5827284077935702,
           0.7761489656797596,
           0.5935484362172192,
           0.6659093805271776,
           0.5474767083091885,
           0.5498683904754342,
           0.5797194859477615,
           0.5936309333735014,
           0.6689430760080837,
           0.592662249179896,
           0.6302010348297359,
           0.3761988007321782,
           0.4027819343777955,
           0.6437396842124219,
           0.45542948393289795,
           0.5593648237535356,
           0.6899654993808857,
           0.6525142978414568,
           0.5459752883073785,
           1.0000000000000004,
           0.6082878808924763,
           0.6006851339400658,
           0.5287510124931915,
           0.6065025397093823,
           0.6259070107704526,
           0.5944026271275455,
           0.567245759748181,
           0.5610143498582307
          ],
          [
           0.705601106232361,
           0.7966877718160741,
           0.7497793743805855,
           0.6290198768660477,
           0.6671659380512418,
           0.4191915920142911,
           0.5473725367079696,
           0.5502414344022835,
           0.5387578039123073,
           0.6997546446755349,
           0.6390014109533422,
           0.5045675521691126,
           0.6020111669814319,
           0.5087177941478144,
           0.5708557316480452,
           0.5911808502184893,
           0.5787723096879269,
           0.33124107608924547,
           0.4641945019259182,
           0.6119898914287485,
           0.4841953923752742,
           0.4959139726540448,
           0.5592065123164751,
           0.6608586468061581,
           0.5742941466066707,
           0.6082878808924763,
           1.0000000000000013,
           0.49411183929073865,
           0.6471148054888243,
           0.5975387532390414,
           0.48557213934855126,
           0.497728153815088,
           0.41745970821633915,
           0.47040406777865407
          ],
          [
           0.8001570024233655,
           0.7355057613428653,
           0.7094521283754296,
           0.7254647115169535,
           0.7787486127436176,
           0.808302609227717,
           0.6494305906660705,
           0.6546346137318606,
           0.6016418808649684,
           0.6717043518763892,
           0.5481726794613377,
           0.6551618322271229,
           0.6289987890298564,
           0.7417380521057322,
           0.6722113044218679,
           0.635941469656608,
           0.6409154168074558,
           0.5534133557488542,
           0.5801713663170109,
           0.7057398516397912,
           0.5861422865989754,
           0.5837424854363038,
           0.60882783450729,
           0.6229417549496152,
           0.45291093369981694,
           0.6006851339400658,
           0.49411183929073865,
           1.0000000000000007,
           0.45998752615167504,
           0.6152396020870398,
           0.4878875346523717,
           0.5553356328782517,
           0.5969772415541217,
           0.6268220017424894
          ],
          [
           0.6999479857814859,
           0.6928107750565187,
           0.564794111438866,
           0.5699473629485705,
           0.5961010339550481,
           0.3596465949891665,
           0.3882727051205668,
           0.5473885916709047,
           0.5261039190296541,
           0.5552240002787082,
           0.7240345084269469,
           0.5048885936343834,
           0.6955793246258868,
           0.45029435984484456,
           0.6381594769660573,
           0.562237741048338,
           0.6834203051177907,
           0.1644657521256994,
           0.5907469683477797,
           0.5232865976047838,
           0.6052313906920188,
           0.5252291179533489,
           0.5773501687561823,
           0.6734125584856883,
           0.5643685864154813,
           0.5287510124931915,
           0.6471148054888243,
           0.45998752615167504,
           1.0000000000000004,
           0.45893870220288013,
           0.5220497112462192,
           0.5969183380114873,
           0.42359213865874634,
           0.4737583481907499
          ],
          [
           0.7154508128175645,
           0.647802741545985,
           0.6161170127096055,
           0.6136918868978621,
           0.6215849860626758,
           0.6429776766834899,
           0.567012746639798,
           0.5258642827696298,
           0.46218902065554957,
           0.7550130313579027,
           0.5169558232670899,
           0.558031888501237,
           0.5617630136095084,
           0.5904536874655817,
           0.5393562915315085,
           0.7506040189171639,
           0.6315224878454267,
           0.4545389822541595,
           0.4791277503229314,
           0.6274688837899066,
           0.5797727466062217,
           0.5041442944077497,
           0.6036851950803096,
           0.4692931554367043,
           0.42678673091321107,
           0.6065025397093823,
           0.5975387532390414,
           0.6152396020870398,
           0.45893870220288013,
           1.0000000000000004,
           0.50790740574114,
           0.4926243701361165,
           0.5233962917971499,
           0.5581081219539142
          ],
          [
           0.5800377689321788,
           0.5784909418152601,
           0.5168422073895231,
           0.609539563864101,
           0.49629116190612355,
           0.491574185826696,
           0.34227957513017515,
           0.6748684075921381,
           0.5682038723982227,
           0.5167770112265806,
           0.4980962316787699,
           0.4951163726582323,
           0.5853116933619418,
           0.515869900564984,
           0.5521623676464675,
           0.6002787935340239,
           0.535741108105013,
           0.3850847943289918,
           0.39062622741239716,
           0.44502041440086404,
           0.5113912186020078,
           0.6159653127357806,
           0.5886258314324313,
           0.43870402013696175,
           0.3759617679055331,
           0.6259070107704526,
           0.48557213934855126,
           0.4878875346523717,
           0.5220497112462192,
           0.50790740574114,
           1.0000000000000009,
           0.6173496606199941,
           0.4963726292547992,
           0.550017196737052
          ],
          [
           0.6280296130439581,
           0.620837800974145,
           0.5874827376055504,
           0.7744453612886649,
           0.5458949872977727,
           0.6354362388529318,
           0.4792542509185562,
           0.6732438172311175,
           0.6393778830970651,
           0.5976007012672486,
           0.4836615105169072,
           0.6852905203884778,
           0.7327765304516538,
           0.6317700380201297,
           0.5410233174236568,
           0.6841454643889867,
           0.6918265908212422,
           0.4277810329417123,
           0.5805693844422669,
           0.4741049851785242,
           0.7321046971208084,
           0.5481618680776759,
           0.6340480393028884,
           0.46040783493059545,
           0.28420546080818804,
           0.5944026271275455,
           0.497728153815088,
           0.5553356328782517,
           0.5969183380114873,
           0.4926243701361165,
           0.6173496606199941,
           1.0000000000000007,
           0.700372475256132,
           0.6004473239822363
          ],
          [
           0.666236517010852,
           0.6182006065000101,
           0.6294062985687324,
           0.7805003953320688,
           0.5881066384103343,
           0.7146367875860085,
           0.541059187946725,
           0.6440803140017887,
           0.5692836385410138,
           0.6550012844734515,
           0.4472163103188572,
           0.6204458050243147,
           0.6523450758469722,
           0.7041971568586638,
           0.5325444174161432,
           0.6427598182204519,
           0.5455036883601073,
           0.4518464632141549,
           0.49012541812094074,
           0.5260817765324681,
           0.6197201156540754,
           0.5438320862059579,
           0.6126404629411752,
           0.43582193473966385,
           0.2905962633975409,
           0.567245759748181,
           0.41745970821633915,
           0.5969772415541217,
           0.42359213865874634,
           0.5233962917971499,
           0.4963726292547992,
           0.700372475256132,
           1.0000000000000013,
           0.5869626935458294
          ],
          [
           0.7717620568911446,
           0.6328391594031761,
           0.7265496709497923,
           0.6556190329722902,
           0.6978474723265862,
           0.7449734428879685,
           0.6574899713900513,
           0.632489802079911,
           0.6666854879888887,
           0.6209314131588921,
           0.5402274397800532,
           0.6068447820441016,
           0.7091364119012032,
           0.7682050441710722,
           0.6293482949750634,
           0.6354176872476172,
           0.6753108121409845,
           0.5091493682940025,
           0.5200709902805318,
           0.6311334550631993,
           0.6179235882805061,
           0.663518441525658,
           0.5363071298488766,
           0.4970185320658139,
           0.47730946383722783,
           0.5610143498582307,
           0.47040406777865407,
           0.6268220017424894,
           0.4737583481907499,
           0.5581081219539142,
           0.550017196737052,
           0.6004473239822363,
           0.5869626935458294,
           1
          ]
         ]
        }
       ],
       "layout": {
        "coloraxis": {
         "colorbar": {
          "title": {
           "text": "Similarity Score"
          }
         },
         "colorscale": [
          [
           0,
           "rgb(247,252,240)"
          ],
          [
           0.125,
           "rgb(224,243,219)"
          ],
          [
           0.25,
           "rgb(204,235,197)"
          ],
          [
           0.375,
           "rgb(168,221,181)"
          ],
          [
           0.5,
           "rgb(123,204,196)"
          ],
          [
           0.625,
           "rgb(78,179,211)"
          ],
          [
           0.75,
           "rgb(43,140,190)"
          ],
          [
           0.875,
           "rgb(8,104,172)"
          ],
          [
           1,
           "rgb(8,64,129)"
          ]
         ]
        },
        "height": 800,
        "hoverlabel": {
         "bgcolor": "white",
         "font": {
          "family": "Rockwell",
          "size": 16
         }
        },
        "legend": {
         "title": {
          "text": "Trend"
         }
        },
        "margin": {
         "t": 60
        },
        "showlegend": true,
        "template": {
         "data": {
          "bar": [
           {
            "error_x": {
             "color": "#2a3f5f"
            },
            "error_y": {
             "color": "#2a3f5f"
            },
            "marker": {
             "line": {
              "color": "#E5ECF6",
              "width": 0.5
             },
             "pattern": {
              "fillmode": "overlay",
              "size": 10,
              "solidity": 0.2
             }
            },
            "type": "bar"
           }
          ],
          "barpolar": [
           {
            "marker": {
             "line": {
              "color": "#E5ECF6",
              "width": 0.5
             },
             "pattern": {
              "fillmode": "overlay",
              "size": 10,
              "solidity": 0.2
             }
            },
            "type": "barpolar"
           }
          ],
          "carpet": [
           {
            "aaxis": {
             "endlinecolor": "#2a3f5f",
             "gridcolor": "white",
             "linecolor": "white",
             "minorgridcolor": "white",
             "startlinecolor": "#2a3f5f"
            },
            "baxis": {
             "endlinecolor": "#2a3f5f",
             "gridcolor": "white",
             "linecolor": "white",
             "minorgridcolor": "white",
             "startlinecolor": "#2a3f5f"
            },
            "type": "carpet"
           }
          ],
          "choropleth": [
           {
            "colorbar": {
             "outlinewidth": 0,
             "ticks": ""
            },
            "type": "choropleth"
           }
          ],
          "contour": [
           {
            "colorbar": {
             "outlinewidth": 0,
             "ticks": ""
            },
            "colorscale": [
             [
              0,
              "#0d0887"
             ],
             [
              0.1111111111111111,
              "#46039f"
             ],
             [
              0.2222222222222222,
              "#7201a8"
             ],
             [
              0.3333333333333333,
              "#9c179e"
             ],
             [
              0.4444444444444444,
              "#bd3786"
             ],
             [
              0.5555555555555556,
              "#d8576b"
             ],
             [
              0.6666666666666666,
              "#ed7953"
             ],
             [
              0.7777777777777778,
              "#fb9f3a"
             ],
             [
              0.8888888888888888,
              "#fdca26"
             ],
             [
              1,
              "#f0f921"
             ]
            ],
            "type": "contour"
           }
          ],
          "contourcarpet": [
           {
            "colorbar": {
             "outlinewidth": 0,
             "ticks": ""
            },
            "type": "contourcarpet"
           }
          ],
          "heatmap": [
           {
            "colorbar": {
             "outlinewidth": 0,
             "ticks": ""
            },
            "colorscale": [
             [
              0,
              "#0d0887"
             ],
             [
              0.1111111111111111,
              "#46039f"
             ],
             [
              0.2222222222222222,
              "#7201a8"
             ],
             [
              0.3333333333333333,
              "#9c179e"
             ],
             [
              0.4444444444444444,
              "#bd3786"
             ],
             [
              0.5555555555555556,
              "#d8576b"
             ],
             [
              0.6666666666666666,
              "#ed7953"
             ],
             [
              0.7777777777777778,
              "#fb9f3a"
             ],
             [
              0.8888888888888888,
              "#fdca26"
             ],
             [
              1,
              "#f0f921"
             ]
            ],
            "type": "heatmap"
           }
          ],
          "heatmapgl": [
           {
            "colorbar": {
             "outlinewidth": 0,
             "ticks": ""
            },
            "colorscale": [
             [
              0,
              "#0d0887"
             ],
             [
              0.1111111111111111,
              "#46039f"
             ],
             [
              0.2222222222222222,
              "#7201a8"
             ],
             [
              0.3333333333333333,
              "#9c179e"
             ],
             [
              0.4444444444444444,
              "#bd3786"
             ],
             [
              0.5555555555555556,
              "#d8576b"
             ],
             [
              0.6666666666666666,
              "#ed7953"
             ],
             [
              0.7777777777777778,
              "#fb9f3a"
             ],
             [
              0.8888888888888888,
              "#fdca26"
             ],
             [
              1,
              "#f0f921"
             ]
            ],
            "type": "heatmapgl"
           }
          ],
          "histogram": [
           {
            "marker": {
             "pattern": {
              "fillmode": "overlay",
              "size": 10,
              "solidity": 0.2
             }
            },
            "type": "histogram"
           }
          ],
          "histogram2d": [
           {
            "colorbar": {
             "outlinewidth": 0,
             "ticks": ""
            },
            "colorscale": [
             [
              0,
              "#0d0887"
             ],
             [
              0.1111111111111111,
              "#46039f"
             ],
             [
              0.2222222222222222,
              "#7201a8"
             ],
             [
              0.3333333333333333,
              "#9c179e"
             ],
             [
              0.4444444444444444,
              "#bd3786"
             ],
             [
              0.5555555555555556,
              "#d8576b"
             ],
             [
              0.6666666666666666,
              "#ed7953"
             ],
             [
              0.7777777777777778,
              "#fb9f3a"
             ],
             [
              0.8888888888888888,
              "#fdca26"
             ],
             [
              1,
              "#f0f921"
             ]
            ],
            "type": "histogram2d"
           }
          ],
          "histogram2dcontour": [
           {
            "colorbar": {
             "outlinewidth": 0,
             "ticks": ""
            },
            "colorscale": [
             [
              0,
              "#0d0887"
             ],
             [
              0.1111111111111111,
              "#46039f"
             ],
             [
              0.2222222222222222,
              "#7201a8"
             ],
             [
              0.3333333333333333,
              "#9c179e"
             ],
             [
              0.4444444444444444,
              "#bd3786"
             ],
             [
              0.5555555555555556,
              "#d8576b"
             ],
             [
              0.6666666666666666,
              "#ed7953"
             ],
             [
              0.7777777777777778,
              "#fb9f3a"
             ],
             [
              0.8888888888888888,
              "#fdca26"
             ],
             [
              1,
              "#f0f921"
             ]
            ],
            "type": "histogram2dcontour"
           }
          ],
          "mesh3d": [
           {
            "colorbar": {
             "outlinewidth": 0,
             "ticks": ""
            },
            "type": "mesh3d"
           }
          ],
          "parcoords": [
           {
            "line": {
             "colorbar": {
              "outlinewidth": 0,
              "ticks": ""
             }
            },
            "type": "parcoords"
           }
          ],
          "pie": [
           {
            "automargin": true,
            "type": "pie"
           }
          ],
          "scatter": [
           {
            "fillpattern": {
             "fillmode": "overlay",
             "size": 10,
             "solidity": 0.2
            },
            "type": "scatter"
           }
          ],
          "scatter3d": [
           {
            "line": {
             "colorbar": {
              "outlinewidth": 0,
              "ticks": ""
             }
            },
            "marker": {
             "colorbar": {
              "outlinewidth": 0,
              "ticks": ""
             }
            },
            "type": "scatter3d"
           }
          ],
          "scattercarpet": [
           {
            "marker": {
             "colorbar": {
              "outlinewidth": 0,
              "ticks": ""
             }
            },
            "type": "scattercarpet"
           }
          ],
          "scattergeo": [
           {
            "marker": {
             "colorbar": {
              "outlinewidth": 0,
              "ticks": ""
             }
            },
            "type": "scattergeo"
           }
          ],
          "scattergl": [
           {
            "marker": {
             "colorbar": {
              "outlinewidth": 0,
              "ticks": ""
             }
            },
            "type": "scattergl"
           }
          ],
          "scattermapbox": [
           {
            "marker": {
             "colorbar": {
              "outlinewidth": 0,
              "ticks": ""
             }
            },
            "type": "scattermapbox"
           }
          ],
          "scatterpolar": [
           {
            "marker": {
             "colorbar": {
              "outlinewidth": 0,
              "ticks": ""
             }
            },
            "type": "scatterpolar"
           }
          ],
          "scatterpolargl": [
           {
            "marker": {
             "colorbar": {
              "outlinewidth": 0,
              "ticks": ""
             }
            },
            "type": "scatterpolargl"
           }
          ],
          "scatterternary": [
           {
            "marker": {
             "colorbar": {
              "outlinewidth": 0,
              "ticks": ""
             }
            },
            "type": "scatterternary"
           }
          ],
          "surface": [
           {
            "colorbar": {
             "outlinewidth": 0,
             "ticks": ""
            },
            "colorscale": [
             [
              0,
              "#0d0887"
             ],
             [
              0.1111111111111111,
              "#46039f"
             ],
             [
              0.2222222222222222,
              "#7201a8"
             ],
             [
              0.3333333333333333,
              "#9c179e"
             ],
             [
              0.4444444444444444,
              "#bd3786"
             ],
             [
              0.5555555555555556,
              "#d8576b"
             ],
             [
              0.6666666666666666,
              "#ed7953"
             ],
             [
              0.7777777777777778,
              "#fb9f3a"
             ],
             [
              0.8888888888888888,
              "#fdca26"
             ],
             [
              1,
              "#f0f921"
             ]
            ],
            "type": "surface"
           }
          ],
          "table": [
           {
            "cells": {
             "fill": {
              "color": "#EBF0F8"
             },
             "line": {
              "color": "white"
             }
            },
            "header": {
             "fill": {
              "color": "#C8D4E3"
             },
             "line": {
              "color": "white"
             }
            },
            "type": "table"
           }
          ]
         },
         "layout": {
          "annotationdefaults": {
           "arrowcolor": "#2a3f5f",
           "arrowhead": 0,
           "arrowwidth": 1
          },
          "autotypenumbers": "strict",
          "coloraxis": {
           "colorbar": {
            "outlinewidth": 0,
            "ticks": ""
           }
          },
          "colorscale": {
           "diverging": [
            [
             0,
             "#8e0152"
            ],
            [
             0.1,
             "#c51b7d"
            ],
            [
             0.2,
             "#de77ae"
            ],
            [
             0.3,
             "#f1b6da"
            ],
            [
             0.4,
             "#fde0ef"
            ],
            [
             0.5,
             "#f7f7f7"
            ],
            [
             0.6,
             "#e6f5d0"
            ],
            [
             0.7,
             "#b8e186"
            ],
            [
             0.8,
             "#7fbc41"
            ],
            [
             0.9,
             "#4d9221"
            ],
            [
             1,
             "#276419"
            ]
           ],
           "sequential": [
            [
             0,
             "#0d0887"
            ],
            [
             0.1111111111111111,
             "#46039f"
            ],
            [
             0.2222222222222222,
             "#7201a8"
            ],
            [
             0.3333333333333333,
             "#9c179e"
            ],
            [
             0.4444444444444444,
             "#bd3786"
            ],
            [
             0.5555555555555556,
             "#d8576b"
            ],
            [
             0.6666666666666666,
             "#ed7953"
            ],
            [
             0.7777777777777778,
             "#fb9f3a"
            ],
            [
             0.8888888888888888,
             "#fdca26"
            ],
            [
             1,
             "#f0f921"
            ]
           ],
           "sequentialminus": [
            [
             0,
             "#0d0887"
            ],
            [
             0.1111111111111111,
             "#46039f"
            ],
            [
             0.2222222222222222,
             "#7201a8"
            ],
            [
             0.3333333333333333,
             "#9c179e"
            ],
            [
             0.4444444444444444,
             "#bd3786"
            ],
            [
             0.5555555555555556,
             "#d8576b"
            ],
            [
             0.6666666666666666,
             "#ed7953"
            ],
            [
             0.7777777777777778,
             "#fb9f3a"
            ],
            [
             0.8888888888888888,
             "#fdca26"
            ],
            [
             1,
             "#f0f921"
            ]
           ]
          },
          "colorway": [
           "#636efa",
           "#EF553B",
           "#00cc96",
           "#ab63fa",
           "#FFA15A",
           "#19d3f3",
           "#FF6692",
           "#B6E880",
           "#FF97FF",
           "#FECB52"
          ],
          "font": {
           "color": "#2a3f5f"
          },
          "geo": {
           "bgcolor": "white",
           "lakecolor": "white",
           "landcolor": "#E5ECF6",
           "showlakes": true,
           "showland": true,
           "subunitcolor": "white"
          },
          "hoverlabel": {
           "align": "left"
          },
          "hovermode": "closest",
          "mapbox": {
           "style": "light"
          },
          "paper_bgcolor": "white",
          "plot_bgcolor": "#E5ECF6",
          "polar": {
           "angularaxis": {
            "gridcolor": "white",
            "linecolor": "white",
            "ticks": ""
           },
           "bgcolor": "#E5ECF6",
           "radialaxis": {
            "gridcolor": "white",
            "linecolor": "white",
            "ticks": ""
           }
          },
          "scene": {
           "xaxis": {
            "backgroundcolor": "#E5ECF6",
            "gridcolor": "white",
            "gridwidth": 2,
            "linecolor": "white",
            "showbackground": true,
            "ticks": "",
            "zerolinecolor": "white"
           },
           "yaxis": {
            "backgroundcolor": "#E5ECF6",
            "gridcolor": "white",
            "gridwidth": 2,
            "linecolor": "white",
            "showbackground": true,
            "ticks": "",
            "zerolinecolor": "white"
           },
           "zaxis": {
            "backgroundcolor": "#E5ECF6",
            "gridcolor": "white",
            "gridwidth": 2,
            "linecolor": "white",
            "showbackground": true,
            "ticks": "",
            "zerolinecolor": "white"
           }
          },
          "shapedefaults": {
           "line": {
            "color": "#2a3f5f"
           }
          },
          "ternary": {
           "aaxis": {
            "gridcolor": "white",
            "linecolor": "white",
            "ticks": ""
           },
           "baxis": {
            "gridcolor": "white",
            "linecolor": "white",
            "ticks": ""
           },
           "bgcolor": "#E5ECF6",
           "caxis": {
            "gridcolor": "white",
            "linecolor": "white",
            "ticks": ""
           }
          },
          "title": {
           "x": 0.05
          },
          "xaxis": {
           "automargin": true,
           "gridcolor": "white",
           "linecolor": "white",
           "ticks": "",
           "title": {
            "standoff": 15
           },
           "zerolinecolor": "white",
           "zerolinewidth": 2
          },
          "yaxis": {
           "automargin": true,
           "gridcolor": "white",
           "linecolor": "white",
           "ticks": "",
           "title": {
            "standoff": 15
           },
           "zerolinecolor": "white",
           "zerolinewidth": 2
          }
         }
        },
        "title": {
         "font": {
          "color": "Black",
          "size": 22
         },
         "text": "<b>Similarity Matrix</b>",
         "x": 0.55,
         "xanchor": "center",
         "y": 0.95,
         "yanchor": "top"
        },
        "width": 800,
        "xaxis": {
         "anchor": "y",
         "autorange": true,
         "constrain": "domain",
         "domain": [
          0.0008474576271185752,
          0.9991525423728814
         ],
         "range": [
          -0.5,
          33.5
         ],
         "scaleanchor": "y",
         "type": "category"
        },
        "yaxis": {
         "anchor": "x",
         "autorange": true,
         "constrain": "domain",
         "domain": [
          0.1288135593220338,
          0.8711864406779661
         ],
         "range": [
          33.5,
          -0.5
         ],
         "type": "category"
        }
       }
      },
      "image/png": "[encoded data removed]",
      "text/html": [
       "<div>                            <div id=\"3191aa67-54ac-4556-bea3-bf229596c24a\" class=\"plotly-graph-div\" style=\"height:800px; width:800px;\"></div>            <script type=\"text/javascript\">                require([\"plotly\"], function(Plotly) {                    window.PLOTLYENV=window.PLOTLYENV || {};                                    if (document.getElementById(\"3191aa67-54ac-4556-bea3-bf229596c24a\")) {                    Plotly.newPlot(                        \"3191aa67-54ac-4556-bea3-bf229596c24a\",                        [{\"coloraxis\":\"coloraxis\",\"name\":\"0\",\"x\":[\"0_klimaschutz_dazu_uns\",\"1_klimaschutz_deutschland_uns\",\"2_haushalt_jetzt_milliarden\",\"3_europ\\u00e4ische_europ\\u00e4ischen_...\",\"4_energiepolitik_kernenergi...\",\"5_gesagt_doch_sagen\",\"6_petitionsausschusses_auss...\",\"7_verkehrspolitik_mobilit\\u00e4t...\",\"8_wohnraum_wohnungen_wohngeld\",\"9_konferenz_klimaschutz_kioto\",\"10_forstwirtschaft_w\\u00e4ldern_...\",\"11_ukraine_russland_europa\",\"12_krise_bundesregierung_mi...\",\"13_entwicklungspolitik_weil...\",\"14_innovationen_technologie...\",\"15_konferenz_l\\u00e4ndern_afrika\",\"16_pandemie_coronapandemie_...\",\"17_senioren_abgeordneten_ab...\",\"18_fukushima_katastrophe_ts...\",\"19_energieversorgung_energi...\",\"20_weil_uns_haben\",\"21_stadtentwicklungspolitik...\",\"22_maritime_maritimen_meere...\",\"23_biokraftstoffstrategie_b...\",\"24_energiegewinnung_energie...\",\"25_luftverkehrswirtschaft_l...\",\"26_klimafinanzierung_klimas...\",\"27_gesagt_minister_sagen\",\"28_biodiversit\\u00e4t_naturschut...\",\"29_bali_konferenz_entwicklu...\",\"30_tourismuspolitik_tourism...\",\"31_fl\\u00fcchtlinge_europ\\u00e4ische_...\",\"32_gro\\u00dfbritannien_briten_br...\",\"33_demokratie_wahlrecht_bun...\"],\"y\":[\"0_klimaschutz_dazu_uns\",\"1_klimaschutz_deutschland_uns\",\"2_haushalt_jetzt_milliarden\",\"3_europ\\u00e4ische_europ\\u00e4ischen_...\",\"4_energiepolitik_kernenergi...\",\"5_gesagt_doch_sagen\",\"6_petitionsausschusses_auss...\",\"7_verkehrspolitik_mobilit\\u00e4t...\",\"8_wohnraum_wohnungen_wohngeld\",\"9_konferenz_klimaschutz_kioto\",\"10_forstwirtschaft_w\\u00e4ldern_...\",\"11_ukraine_russland_europa\",\"12_krise_bundesregierung_mi...\",\"13_entwicklungspolitik_weil...\",\"14_innovationen_technologie...\",\"15_konferenz_l\\u00e4ndern_afrika\",\"16_pandemie_coronapandemie_...\",\"17_senioren_abgeordneten_ab...\",\"18_fukushima_katastrophe_ts...\",\"19_energieversorgung_energi...\",\"20_weil_uns_haben\",\"21_stadtentwicklungspolitik...\",\"22_maritime_maritimen_meere...\",\"23_biokraftstoffstrategie_b...\",\"24_energiegewinnung_energie...\",\"25_luftverkehrswirtschaft_l...\",\"26_klimafinanzierung_klimas...\",\"27_gesagt_minister_sagen\",\"28_biodiversit\\u00e4t_naturschut...\",\"29_bali_konferenz_entwicklu...\",\"30_tourismuspolitik_tourism...\",\"31_fl\\u00fcchtlinge_europ\\u00e4ische_...\",\"32_gro\\u00dfbritannien_briten_br...\",\"33_demokratie_wahlrecht_bun...\"],\"z\":[[1.0,0.8719442987910965,0.8509129239274758,0.764429044077882,0.8802585163853198,0.8033573967846268,0.7360154063495734,0.7467076629620004,0.7347491356310594,0.8235630545875698,0.7687403883433979,0.6884267043276691,0.7759875715548497,0.8254294794105703,0.7625612591987005,0.7804198986634806,0.7747656748454763,0.48982163218737496,0.6212647951610489,0.7818904500668489,0.6773383310528083,0.725038677281712,0.6802390584076553,0.7498017702320987,0.6403896765323085,0.7026023747139662,0.705601106232361,0.8001570024233655,0.6999479857814859,0.7154508128175645,0.5800377689321788,0.6280296130439581,0.666236517010852,0.7717620568911446],[0.8719442987910965,1.0000000000000009,0.7747886884755795,0.830229777520108,0.8837585667296426,0.6268253300121325,0.6718402175929046,0.76858536738483,0.7224199238173946,0.8106886775887967,0.7188351847125016,0.6598011635825765,0.6805666327837278,0.6775981088242937,0.7786140190905024,0.6733850667715586,0.7240341086843898,0.458664809342431,0.5524691400918489,0.7779129122341821,0.5722433331253414,0.6627090724127653,0.6919221175517076,0.8246529204169807,0.7186765353353362,0.7713355838751024,0.7966877718160741,0.7355057613428653,0.6928107750565187,0.647802741545985,0.5784909418152601,0.620837800974145,0.6182006065000101,0.6328391594031761],[0.8509129239274758,0.7747886884755795,0.9999999999999994,0.7738752488243739,0.8290388400800609,0.7706872702028433,0.725494902270495,0.7181746758765193,0.7281400280965123,0.732346916559232,0.6329128257175615,0.653971856103341,0.8427644807435952,0.8216787515939419,0.6860267306505595,0.6855676579664531,0.6838052736018742,0.49085390109836335,0.6048330302221946,0.7325509232607098,0.6250224998359777,0.677831849241326,0.6254784428962377,0.6736050331503368,0.5686608775288053,0.630759463627988,0.7497793743805855,0.7094521283754296,0.564794111438866,0.6161170127096055,0.5168422073895231,0.5874827376055504,0.6294062985687324,0.7265496709497923],[0.764429044077882,0.830229777520108,0.7738752488243739,1.0000000000000004,0.7215755849001437,0.7584128473570806,0.6342283005816178,0.7538017076592447,0.7190380832166277,0.7546424595989518,0.5512767377177027,0.770156471868422,0.7678389726952644,0.7732720629359289,0.7490535173269539,0.7300416526077234,0.6988754824238138,0.5739712864376412,0.563964339868924,0.6283648489483377,0.6689941846663007,0.6857356580823021,0.7697599377246331,0.616321123643663,0.40631833201977263,0.6885318833197145,0.6290198768660477,0.7254647115169535,0.5699473629485705,0.6136918868978621,0.609539563864101,0.7744453612886649,0.7805003953320688,0.6556190329722902],[0.8802585163853198,0.8837585667296426,0.8290388400800609,0.7215755849001437,1.0000000000000002,0.732981671259634,0.69869818145138,0.7439448784679472,0.7079997530858433,0.7741176512594365,0.6746788620739975,0.6577406997216266,0.7202141154853418,0.7734696674840442,0.7793621013844256,0.6775775242110909,0.7056594733712147,0.4712374231347359,0.6691549684369601,0.8274901577404272,0.5697054500246262,0.6537675073008486,0.6252801781843231,0.8028956933567397,0.805340897363583,0.6817320017292515,0.6671659380512418,0.7787486127436176,0.5961010339550481,0.6215849860626758,0.49629116190612355,0.5458949872977727,0.5881066384103343,0.6978474723265862],[0.8033573967846268,0.6268253300121325,0.7706872702028433,0.7584128473570806,0.732981671259634,0.9999999999999993,0.7392739971359188,0.6541533990791311,0.6568262160826448,0.6969481655083729,0.5130412987973283,0.7284805956114289,0.6822111942224351,0.8701050383506472,0.613040577572382,0.7330665848452895,0.6414106963689342,0.6527570874170026,0.5741869482959384,0.671275088774406,0.7051174921002037,0.6088995068199138,0.6234325300712694,0.5010065548827711,0.3152038045160984,0.5718738138176269,0.4191915920142911,0.808302609227717,0.3596465949891665,0.6429776766834899,0.491574185826696,0.6354362388529318,0.7146367875860085,0.7449734428879685],[0.7360154063495734,0.6718402175929046,0.725494902270495,0.6342283005816178,0.69869818145138,0.7392739971359188,0.9999999999999993,0.6000103389656525,0.6048784107617233,0.6513047935500409,0.5145430012211123,0.4998781786901012,0.5079765761513196,0.7398404782157374,0.5269335249960625,0.5845943895944963,0.5103899066569586,0.5479866358769391,0.4275842040050961,0.6425539412341426,0.5125378954112184,0.5456759615635639,0.5530431654048622,0.5615260959258532,0.3762383932650919,0.5827284077935702,0.5473725367079696,0.6494305906660705,0.3882727051205668,0.567012746639798,0.34227957513017515,0.4792542509185562,0.541059187946725,0.6574899713900513],[0.7467076629620004,0.76858536738483,0.7181746758765193,0.7538017076592447,0.7439448784679472,0.6541533990791311,0.6000103389656525,1.0,0.7385533799213013,0.6346474114146664,0.600806806393759,0.6111634595599977,0.6799489221562416,0.7460208734225215,0.7254179648283872,0.5949889818953082,0.6212097765298108,0.39905837085340334,0.5113826029315249,0.6642714671843184,0.552255542154038,0.7361923367643498,0.6944719761926489,0.6377560381206211,0.5722677482078136,0.7761489656797596,0.5502414344022835,0.6546346137318606,0.5473885916709047,0.5258642827696298,0.6748684075921381,0.6732438172311175,0.6440803140017887,0.632489802079911],[0.7347491356310594,0.7224199238173946,0.7281400280965123,0.7190380832166277,0.7079997530858433,0.6568262160826448,0.6048784107617233,0.7385533799213013,0.9999999999999997,0.5645981436135495,0.5852384678292822,0.5732598729611288,0.6671435258875995,0.7151394282932808,0.6388594438636107,0.5744856652190687,0.6235078090369686,0.43335553038988506,0.46811980667195163,0.5927641824652048,0.5885193976687375,0.7790779195332063,0.5647483209791695,0.5854679143607119,0.5244861446775979,0.5935484362172192,0.5387578039123073,0.6016418808649684,0.5261039190296541,0.46218902065554957,0.5682038723982227,0.6393778830970651,0.5692836385410138,0.6666854879888887],[0.8235630545875698,0.8106886775887967,0.732346916559232,0.7546424595989518,0.7741176512594365,0.6969481655083729,0.6513047935500409,0.6346474114146664,0.5645981436135495,1.0,0.6051153240629571,0.6845479293453682,0.6690769976870581,0.686583053425847,0.640281435978937,0.8130962151449977,0.6957781728779631,0.5027427275571162,0.616129489028793,0.7012971380970957,0.6074138030117491,0.5881761781799709,0.6811604535880376,0.6185791719382034,0.5011616752041116,0.6659093805271776,0.6997546446755349,0.6717043518763892,0.5552240002787082,0.7550130313579027,0.5167770112265806,0.5976007012672486,0.6550012844734515,0.6209314131588921],[0.7687403883433979,0.7188351847125016,0.6329128257175615,0.5512767377177027,0.6746788620739975,0.5130412987973283,0.5145430012211123,0.600806806393759,0.5852384678292822,0.6051153240629571,1.0000000000000004,0.49854084401380366,0.5898090671635282,0.5672917455985249,0.5822559018895752,0.6015037908248146,0.5867389120875791,0.289781193834343,0.47178610384103525,0.5998048050740309,0.587621554786761,0.5961010389055891,0.4794347531475962,0.6358091384288886,0.5782829074582913,0.5474767083091885,0.6390014109533422,0.5481726794613377,0.7240345084269469,0.5169558232670899,0.4980962316787699,0.4836615105169072,0.4472163103188572,0.5402274397800532],[0.6884267043276691,0.6598011635825765,0.653971856103341,0.770156471868422,0.6577406997216266,0.7284805956114289,0.4998781786901012,0.6111634595599977,0.5732598729611288,0.6845479293453682,0.49854084401380366,1.0000000000000004,0.6794195473123945,0.7127257203905268,0.5805704527768576,0.6917007782749418,0.6996327252342964,0.48454413521595996,0.6720682249125909,0.5265575669325123,0.6871361355741735,0.5416580479921148,0.5860093375102917,0.5379219789970533,0.3809034302446893,0.5498683904754342,0.5045675521691126,0.6551618322271229,0.5048885936343834,0.558031888501237,0.4951163726582323,0.6852905203884778,0.6204458050243147,0.6068447820441016],[0.7759875715548497,0.6805666327837278,0.8427644807435952,0.7678389726952644,0.7202141154853418,0.6822111942224351,0.5079765761513196,0.6799489221562416,0.6671435258875995,0.6690769976870581,0.5898090671635282,0.6794195473123945,0.9999999999999997,0.7514243851372451,0.6858717988740904,0.7216822216915261,0.7785544097587612,0.37842439749018686,0.658555142626444,0.609907523476433,0.7095429713827904,0.6511462436936443,0.6041349517852237,0.5762396742533558,0.5137816868606576,0.5797194859477615,0.6020111669814319,0.6289987890298564,0.6955793246258868,0.5617630136095084,0.5853116933619418,0.7327765304516538,0.6523450758469722,0.7091364119012032],[0.8254294794105703,0.6775981088242937,0.8216787515939419,0.7732720629359289,0.7734696674840442,0.8701050383506472,0.7398404782157374,0.7460208734225215,0.7151394282932808,0.686583053425847,0.5672917455985249,0.7127257203905268,0.7514243851372451,1.0000000000000004,0.6983113411458597,0.729346216618219,0.6618532899406849,0.514880509220174,0.5484294621632493,0.658813897599178,0.6377987819790356,0.7415348822748231,0.6133665476399964,0.5429751704069206,0.4412853035913548,0.5936309333735014,0.5087177941478144,0.7417380521057322,0.45029435984484456,0.5904536874655817,0.515869900564984,0.6317700380201297,0.7041971568586638,0.7682050441710722],[0.7625612591987005,0.7786140190905024,0.6860267306505595,0.7490535173269539,0.7793621013844256,0.613040577572382,0.5269335249960625,0.7254179648283872,0.6388594438636107,0.640281435978937,0.5822559018895752,0.5805704527768576,0.6858717988740904,0.6983113411458597,0.9999999999999996,0.6111266119316877,0.6714269741847432,0.3781537684052333,0.5163210699446041,0.7169958680142792,0.4821753033844166,0.6859425893083149,0.6565026424421861,0.7279412435196282,0.6312398944893908,0.6689430760080837,0.5708557316480452,0.6722113044218679,0.6381594769660573,0.5393562915315085,0.5521623676464675,0.5410233174236568,0.5325444174161432,0.6293482949750634],[0.7804198986634806,0.6733850667715586,0.6855676579664531,0.7300416526077234,0.6775775242110909,0.7330665848452895,0.5845943895944963,0.5949889818953082,0.5744856652190687,0.8130962151449977,0.6015037908248146,0.6917007782749418,0.7216822216915261,0.729346216618219,0.6111266119316877,1.0000000000000004,0.7021598217449778,0.49139037205880176,0.5462603288619368,0.620068111600945,0.7072578300338264,0.6325615413140426,0.6493471203040085,0.5192270214121515,0.41742681182040736,0.592662249179896,0.5911808502184893,0.635941469656608,0.562237741048338,0.7506040189171639,0.6002787935340239,0.6841454643889867,0.6427598182204519,0.6354176872476172],[0.7747656748454763,0.7240341086843898,0.6838052736018742,0.6988754824238138,0.7056594733712147,0.6414106963689342,0.5103899066569586,0.6212097765298108,0.6235078090369686,0.6957781728779631,0.5867389120875791,0.6996327252342964,0.7785544097587612,0.6618532899406849,0.6714269741847432,0.7021598217449778,1.0000000000000009,0.3815593515496637,0.6557353158379988,0.6780814797295078,0.7087101785785003,0.5802128096761127,0.6074979558725779,0.5932206969897482,0.515852027182379,0.6302010348297359,0.5787723096879269,0.6409154168074558,0.6834203051177907,0.6315224878454267,0.535741108105013,0.6918265908212422,0.5455036883601073,0.6753108121409845],[0.48982163218737496,0.458664809342431,0.49085390109836335,0.5739712864376412,0.4712374231347359,0.6527570874170026,0.5479866358769391,0.39905837085340334,0.43335553038988506,0.5027427275571162,0.289781193834343,0.48454413521595996,0.37842439749018686,0.514880509220174,0.3781537684052333,0.49139037205880176,0.3815593515496637,1.0000000000000007,0.43057653219575864,0.45263570336112274,0.5244336637047236,0.4454389969233735,0.48507501633708316,0.3133212068087756,0.14135620761930145,0.3761988007321782,0.33124107608924547,0.5534133557488542,0.1644657521256994,0.4545389822541595,0.3850847943289918,0.4277810329417123,0.4518464632141549,0.5091493682940025],[0.6212647951610489,0.5524691400918489,0.6048330302221946,0.563964339868924,0.6691549684369601,0.5741869482959384,0.4275842040050961,0.5113826029315249,0.46811980667195163,0.616129489028793,0.47178610384103525,0.6720682249125909,0.658555142626444,0.5484294621632493,0.5163210699446041,0.5462603288619368,0.6557353158379988,0.43057653219575864,1.0000000000000016,0.5310553489962929,0.7332525972716063,0.4772350858624016,0.5272935498636818,0.4829668814416107,0.41289104362140766,0.4027819343777955,0.4641945019259182,0.5801713663170109,0.5907469683477797,0.4791277503229314,0.39062622741239716,0.5805693844422669,0.49012541812094074,0.5200709902805318],[0.7818904500668489,0.7779129122341821,0.7325509232607098,0.6283648489483377,0.8274901577404272,0.671275088774406,0.6425539412341426,0.6642714671843184,0.5927641824652048,0.7012971380970957,0.5998048050740309,0.5265575669325123,0.609907523476433,0.658813897599178,0.7169958680142792,0.620068111600945,0.6780814797295078,0.45263570336112274,0.5310553489962929,1.0000000000000002,0.5090651194717547,0.5523618154998743,0.5892235172862619,0.6885542711008501,0.644435113334745,0.6437396842124219,0.6119898914287485,0.7057398516397912,0.5232865976047838,0.6274688837899066,0.44502041440086404,0.4741049851785242,0.5260817765324681,0.6311334550631993],[0.6773383310528083,0.5722433331253414,0.6250224998359777,0.6689941846663007,0.5697054500246262,0.7051174921002037,0.5125378954112184,0.552255542154038,0.5885193976687375,0.6074138030117491,0.587621554786761,0.6871361355741735,0.7095429713827904,0.6377987819790356,0.4821753033844166,0.7072578300338264,0.7087101785785003,0.5244336637047236,0.7332525972716063,0.5090651194717547,1.000000000000001,0.5854862284488711,0.5699799974185124,0.4139846245278068,0.29369418040301404,0.45542948393289795,0.4841953923752742,0.5861422865989754,0.6052313906920188,0.5797727466062217,0.5113912186020078,0.7321046971208084,0.6197201156540754,0.6179235882805061],[0.725038677281712,0.6627090724127653,0.677831849241326,0.6857356580823021,0.6537675073008486,0.6088995068199138,0.5456759615635639,0.7361923367643498,0.7790779195332063,0.5881761781799709,0.5961010389055891,0.5416580479921148,0.6511462436936443,0.7415348822748231,0.6859425893083149,0.6325615413140426,0.5802128096761127,0.4454389969233735,0.4772350858624016,0.5523618154998743,0.5854862284488711,1.000000000000001,0.5558017041530705,0.4946377209233031,0.4694279242824485,0.5593648237535356,0.4959139726540448,0.5837424854363038,0.5252291179533489,0.5041442944077497,0.6159653127357806,0.5481618680776759,0.5438320862059579,0.663518441525658],[0.6802390584076553,0.6919221175517076,0.6254784428962377,0.7697599377246331,0.6252801781843231,0.6234325300712694,0.5530431654048622,0.6944719761926489,0.5647483209791695,0.6811604535880376,0.4794347531475962,0.5860093375102917,0.6041349517852237,0.6133665476399964,0.6565026424421861,0.6493471203040085,0.6074979558725779,0.48507501633708316,0.5272935498636818,0.5892235172862619,0.5699799974185124,0.5558017041530705,1.0,0.5847554432868094,0.4157579239012248,0.6899654993808857,0.5592065123164751,0.60882783450729,0.5773501687561823,0.6036851950803096,0.5886258314324313,0.6340480393028884,0.6126404629411752,0.5363071298488766],[0.7498017702320987,0.8246529204169807,0.6736050331503368,0.616321123643663,0.8028956933567397,0.5010065548827711,0.5615260959258532,0.6377560381206211,0.5854679143607119,0.6185791719382034,0.6358091384288886,0.5379219789970533,0.5762396742533558,0.5429751704069206,0.7279412435196282,0.5192270214121515,0.5932206969897482,0.3133212068087756,0.4829668814416107,0.6885542711008501,0.4139846245278068,0.4946377209233031,0.5847554432868094,1.0000000000000009,0.7197557447699539,0.6525142978414568,0.6608586468061581,0.6229417549496152,0.6734125584856883,0.4692931554367043,0.43870402013696175,0.46040783493059545,0.43582193473966385,0.4970185320658139],[0.6403896765323085,0.7186765353353362,0.5686608775288053,0.40631833201977263,0.805340897363583,0.3152038045160984,0.3762383932650919,0.5722677482078136,0.5244861446775979,0.5011616752041116,0.5782829074582913,0.3809034302446893,0.5137816868606576,0.4412853035913548,0.6312398944893908,0.41742681182040736,0.515852027182379,0.14135620761930145,0.41289104362140766,0.644435113334745,0.29369418040301404,0.4694279242824485,0.4157579239012248,0.7197557447699539,1.0000000000000013,0.5459752883073785,0.5742941466066707,0.45291093369981694,0.5643685864154813,0.42678673091321107,0.3759617679055331,0.28420546080818804,0.2905962633975409,0.47730946383722783],[0.7026023747139662,0.7713355838751024,0.630759463627988,0.6885318833197145,0.6817320017292515,0.5718738138176269,0.5827284077935702,0.7761489656797596,0.5935484362172192,0.6659093805271776,0.5474767083091885,0.5498683904754342,0.5797194859477615,0.5936309333735014,0.6689430760080837,0.592662249179896,0.6302010348297359,0.3761988007321782,0.4027819343777955,0.6437396842124219,0.45542948393289795,0.5593648237535356,0.6899654993808857,0.6525142978414568,0.5459752883073785,1.0000000000000004,0.6082878808924763,0.6006851339400658,0.5287510124931915,0.6065025397093823,0.6259070107704526,0.5944026271275455,0.567245759748181,0.5610143498582307],[0.705601106232361,0.7966877718160741,0.7497793743805855,0.6290198768660477,0.6671659380512418,0.4191915920142911,0.5473725367079696,0.5502414344022835,0.5387578039123073,0.6997546446755349,0.6390014109533422,0.5045675521691126,0.6020111669814319,0.5087177941478144,0.5708557316480452,0.5911808502184893,0.5787723096879269,0.33124107608924547,0.4641945019259182,0.6119898914287485,0.4841953923752742,0.4959139726540448,0.5592065123164751,0.6608586468061581,0.5742941466066707,0.6082878808924763,1.0000000000000013,0.49411183929073865,0.6471148054888243,0.5975387532390414,0.48557213934855126,0.497728153815088,0.41745970821633915,0.47040406777865407],[0.8001570024233655,0.7355057613428653,0.7094521283754296,0.7254647115169535,0.7787486127436176,0.808302609227717,0.6494305906660705,0.6546346137318606,0.6016418808649684,0.6717043518763892,0.5481726794613377,0.6551618322271229,0.6289987890298564,0.7417380521057322,0.6722113044218679,0.635941469656608,0.6409154168074558,0.5534133557488542,0.5801713663170109,0.7057398516397912,0.5861422865989754,0.5837424854363038,0.60882783450729,0.6229417549496152,0.45291093369981694,0.6006851339400658,0.49411183929073865,1.0000000000000007,0.45998752615167504,0.6152396020870398,0.4878875346523717,0.5553356328782517,0.5969772415541217,0.6268220017424894],[0.6999479857814859,0.6928107750565187,0.564794111438866,0.5699473629485705,0.5961010339550481,0.3596465949891665,0.3882727051205668,0.5473885916709047,0.5261039190296541,0.5552240002787082,0.7240345084269469,0.5048885936343834,0.6955793246258868,0.45029435984484456,0.6381594769660573,0.562237741048338,0.6834203051177907,0.1644657521256994,0.5907469683477797,0.5232865976047838,0.6052313906920188,0.5252291179533489,0.5773501687561823,0.6734125584856883,0.5643685864154813,0.5287510124931915,0.6471148054888243,0.45998752615167504,1.0000000000000004,0.45893870220288013,0.5220497112462192,0.5969183380114873,0.42359213865874634,0.4737583481907499],[0.7154508128175645,0.647802741545985,0.6161170127096055,0.6136918868978621,0.6215849860626758,0.6429776766834899,0.567012746639798,0.5258642827696298,0.46218902065554957,0.7550130313579027,0.5169558232670899,0.558031888501237,0.5617630136095084,0.5904536874655817,0.5393562915315085,0.7506040189171639,0.6315224878454267,0.4545389822541595,0.4791277503229314,0.6274688837899066,0.5797727466062217,0.5041442944077497,0.6036851950803096,0.4692931554367043,0.42678673091321107,0.6065025397093823,0.5975387532390414,0.6152396020870398,0.45893870220288013,1.0000000000000004,0.50790740574114,0.4926243701361165,0.5233962917971499,0.5581081219539142],[0.5800377689321788,0.5784909418152601,0.5168422073895231,0.609539563864101,0.49629116190612355,0.491574185826696,0.34227957513017515,0.6748684075921381,0.5682038723982227,0.5167770112265806,0.4980962316787699,0.4951163726582323,0.5853116933619418,0.515869900564984,0.5521623676464675,0.6002787935340239,0.535741108105013,0.3850847943289918,0.39062622741239716,0.44502041440086404,0.5113912186020078,0.6159653127357806,0.5886258314324313,0.43870402013696175,0.3759617679055331,0.6259070107704526,0.48557213934855126,0.4878875346523717,0.5220497112462192,0.50790740574114,1.0000000000000009,0.6173496606199941,0.4963726292547992,0.550017196737052],[0.6280296130439581,0.620837800974145,0.5874827376055504,0.7744453612886649,0.5458949872977727,0.6354362388529318,0.4792542509185562,0.6732438172311175,0.6393778830970651,0.5976007012672486,0.4836615105169072,0.6852905203884778,0.7327765304516538,0.6317700380201297,0.5410233174236568,0.6841454643889867,0.6918265908212422,0.4277810329417123,0.5805693844422669,0.4741049851785242,0.7321046971208084,0.5481618680776759,0.6340480393028884,0.46040783493059545,0.28420546080818804,0.5944026271275455,0.497728153815088,0.5553356328782517,0.5969183380114873,0.4926243701361165,0.6173496606199941,1.0000000000000007,0.700372475256132,0.6004473239822363],[0.666236517010852,0.6182006065000101,0.6294062985687324,0.7805003953320688,0.5881066384103343,0.7146367875860085,0.541059187946725,0.6440803140017887,0.5692836385410138,0.6550012844734515,0.4472163103188572,0.6204458050243147,0.6523450758469722,0.7041971568586638,0.5325444174161432,0.6427598182204519,0.5455036883601073,0.4518464632141549,0.49012541812094074,0.5260817765324681,0.6197201156540754,0.5438320862059579,0.6126404629411752,0.43582193473966385,0.2905962633975409,0.567245759748181,0.41745970821633915,0.5969772415541217,0.42359213865874634,0.5233962917971499,0.4963726292547992,0.700372475256132,1.0000000000000013,0.5869626935458294],[0.7717620568911446,0.6328391594031761,0.7265496709497923,0.6556190329722902,0.6978474723265862,0.7449734428879685,0.6574899713900513,0.632489802079911,0.6666854879888887,0.6209314131588921,0.5402274397800532,0.6068447820441016,0.7091364119012032,0.7682050441710722,0.6293482949750634,0.6354176872476172,0.6753108121409845,0.5091493682940025,0.5200709902805318,0.6311334550631993,0.6179235882805061,0.663518441525658,0.5363071298488766,0.4970185320658139,0.47730946383722783,0.5610143498582307,0.47040406777865407,0.6268220017424894,0.4737583481907499,0.5581081219539142,0.550017196737052,0.6004473239822363,0.5869626935458294,1.0]],\"type\":\"heatmap\",\"xaxis\":\"x\",\"yaxis\":\"y\",\"hovertemplate\":\"x: %{x}\\u003cbr\\u003ey: %{y}\\u003cbr\\u003eSimilarity Score: %{z}\\u003cextra\\u003e\\u003c\\u002fextra\\u003e\"}],                        {\"template\":{\"data\":{\"histogram2dcontour\":[{\"type\":\"histogram2dcontour\",\"colorbar\":{\"outlinewidth\":0,\"ticks\":\"\"},\"colorscale\":[[0.0,\"#0d0887\"],[0.1111111111111111,\"#46039f\"],[0.2222222222222222,\"#7201a8\"],[0.3333333333333333,\"#9c179e\"],[0.4444444444444444,\"#bd3786\"],[0.5555555555555556,\"#d8576b\"],[0.6666666666666666,\"#ed7953\"],[0.7777777777777778,\"#fb9f3a\"],[0.8888888888888888,\"#fdca26\"],[1.0,\"#f0f921\"]]}],\"choropleth\":[{\"type\":\"choropleth\",\"colorbar\":{\"outlinewidth\":0,\"ticks\":\"\"}}],\"histogram2d\":[{\"type\":\"histogram2d\",\"colorbar\":{\"outlinewidth\":0,\"ticks\":\"\"},\"colorscale\":[[0.0,\"#0d0887\"],[0.1111111111111111,\"#46039f\"],[0.2222222222222222,\"#7201a8\"],[0.3333333333333333,\"#9c179e\"],[0.4444444444444444,\"#bd3786\"],[0.5555555555555556,\"#d8576b\"],[0.6666666666666666,\"#ed7953\"],[0.7777777777777778,\"#fb9f3a\"],[0.8888888888888888,\"#fdca26\"],[1.0,\"#f0f921\"]]}],\"heatmap\":[{\"type\":\"heatmap\",\"colorbar\":{\"outlinewidth\":0,\"ticks\":\"\"},\"colorscale\":[[0.0,\"#0d0887\"],[0.1111111111111111,\"#46039f\"],[0.2222222222222222,\"#7201a8\"],[0.3333333333333333,\"#9c179e\"],[0.4444444444444444,\"#bd3786\"],[0.5555555555555556,\"#d8576b\"],[0.6666666666666666,\"#ed7953\"],[0.7777777777777778,\"#fb9f3a\"],[0.8888888888888888,\"#fdca26\"],[1.0,\"#f0f921\"]]}],\"heatmapgl\":[{\"type\":\"heatmapgl\",\"colorbar\":{\"outlinewidth\":0,\"ticks\":\"\"},\"colorscale\":[[0.0,\"#0d0887\"],[0.1111111111111111,\"#46039f\"],[0.2222222222222222,\"#7201a8\"],[0.3333333333333333,\"#9c179e\"],[0.4444444444444444,\"#bd3786\"],[0.5555555555555556,\"#d8576b\"],[0.6666666666666666,\"#ed7953\"],[0.7777777777777778,\"#fb9f3a\"],[0.8888888888888888,\"#fdca26\"],[1.0,\"#f0f921\"]]}],\"contourcarpet\":[{\"type\":\"contourcarpet\",\"colorbar\":{\"outlinewidth\":0,\"ticks\":\"\"}}],\"contour\":[{\"type\":\"contour\",\"colorbar\":{\"outlinewidth\":0,\"ticks\":\"\"},\"colorscale\":[[0.0,\"#0d0887\"],[0.1111111111111111,\"#46039f\"],[0.2222222222222222,\"#7201a8\"],[0.3333333333333333,\"#9c179e\"],[0.4444444444444444,\"#bd3786\"],[0.5555555555555556,\"#d8576b\"],[0.6666666666666666,\"#ed7953\"],[0.7777777777777778,\"#fb9f3a\"],[0.8888888888888888,\"#fdca26\"],[1.0,\"#f0f921\"]]}],\"surface\":[{\"type\":\"surface\",\"colorbar\":{\"outlinewidth\":0,\"ticks\":\"\"},\"colorscale\":[[0.0,\"#0d0887\"],[0.1111111111111111,\"#46039f\"],[0.2222222222222222,\"#7201a8\"],[0.3333333333333333,\"#9c179e\"],[0.4444444444444444,\"#bd3786\"],[0.5555555555555556,\"#d8576b\"],[0.6666666666666666,\"#ed7953\"],[0.7777777777777778,\"#fb9f3a\"],[0.8888888888888888,\"#fdca26\"],[1.0,\"#f0f921\"]]}],\"mesh3d\":[{\"type\":\"mesh3d\",\"colorbar\":{\"outlinewidth\":0,\"ticks\":\"\"}}],\"scatter\":[{\"fillpattern\":{\"fillmode\":\"overlay\",\"size\":10,\"solidity\":0.2},\"type\":\"scatter\"}],\"parcoords\":[{\"type\":\"parcoords\",\"line\":{\"colorbar\":{\"outlinewidth\":0,\"ticks\":\"\"}}}],\"scatterpolargl\":[{\"type\":\"scatterpolargl\",\"marker\":{\"colorbar\":{\"outlinewidth\":0,\"ticks\":\"\"}}}],\"bar\":[{\"error_x\":{\"color\":\"#2a3f5f\"},\"error_y\":{\"color\":\"#2a3f5f\"},\"marker\":{\"line\":{\"color\":\"#E5ECF6\",\"width\":0.5},\"pattern\":{\"fillmode\":\"overlay\",\"size\":10,\"solidity\":0.2}},\"type\":\"bar\"}],\"scattergeo\":[{\"type\":\"scattergeo\",\"marker\":{\"colorbar\":{\"outlinewidth\":0,\"ticks\":\"\"}}}],\"scatterpolar\":[{\"type\":\"scatterpolar\",\"marker\":{\"colorbar\":{\"outlinewidth\":0,\"ticks\":\"\"}}}],\"histogram\":[{\"marker\":{\"pattern\":{\"fillmode\":\"overlay\",\"size\":10,\"solidity\":0.2}},\"type\":\"histogram\"}],\"scattergl\":[{\"type\":\"scattergl\",\"marker\":{\"colorbar\":{\"outlinewidth\":0,\"ticks\":\"\"}}}],\"scatter3d\":[{\"type\":\"scatter3d\",\"line\":{\"colorbar\":{\"outlinewidth\":0,\"ticks\":\"\"}},\"marker\":{\"colorbar\":{\"outlinewidth\":0,\"ticks\":\"\"}}}],\"scattermapbox\":[{\"type\":\"scattermapbox\",\"marker\":{\"colorbar\":{\"outlinewidth\":0,\"ticks\":\"\"}}}],\"scatterternary\":[{\"type\":\"scatterternary\",\"marker\":{\"colorbar\":{\"outlinewidth\":0,\"ticks\":\"\"}}}],\"scattercarpet\":[{\"type\":\"scattercarpet\",\"marker\":{\"colorbar\":{\"outlinewidth\":0,\"ticks\":\"\"}}}],\"carpet\":[{\"aaxis\":{\"endlinecolor\":\"#2a3f5f\",\"gridcolor\":\"white\",\"linecolor\":\"white\",\"minorgridcolor\":\"white\",\"startlinecolor\":\"#2a3f5f\"},\"baxis\":{\"endlinecolor\":\"#2a3f5f\",\"gridcolor\":\"white\",\"linecolor\":\"white\",\"minorgridcolor\":\"white\",\"startlinecolor\":\"#2a3f5f\"},\"type\":\"carpet\"}],\"table\":[{\"cells\":{\"fill\":{\"color\":\"#EBF0F8\"},\"line\":{\"color\":\"white\"}},\"header\":{\"fill\":{\"color\":\"#C8D4E3\"},\"line\":{\"color\":\"white\"}},\"type\":\"table\"}],\"barpolar\":[{\"marker\":{\"line\":{\"color\":\"#E5ECF6\",\"width\":0.5},\"pattern\":{\"fillmode\":\"overlay\",\"size\":10,\"solidity\":0.2}},\"type\":\"barpolar\"}],\"pie\":[{\"automargin\":true,\"type\":\"pie\"}]},\"layout\":{\"autotypenumbers\":\"strict\",\"colorway\":[\"#636efa\",\"#EF553B\",\"#00cc96\",\"#ab63fa\",\"#FFA15A\",\"#19d3f3\",\"#FF6692\",\"#B6E880\",\"#FF97FF\",\"#FECB52\"],\"font\":{\"color\":\"#2a3f5f\"},\"hovermode\":\"closest\",\"hoverlabel\":{\"align\":\"left\"},\"paper_bgcolor\":\"white\",\"plot_bgcolor\":\"#E5ECF6\",\"polar\":{\"bgcolor\":\"#E5ECF6\",\"angularaxis\":{\"gridcolor\":\"white\",\"linecolor\":\"white\",\"ticks\":\"\"},\"radialaxis\":{\"gridcolor\":\"white\",\"linecolor\":\"white\",\"ticks\":\"\"}},\"ternary\":{\"bgcolor\":\"#E5ECF6\",\"aaxis\":{\"gridcolor\":\"white\",\"linecolor\":\"white\",\"ticks\":\"\"},\"baxis\":{\"gridcolor\":\"white\",\"linecolor\":\"white\",\"ticks\":\"\"},\"caxis\":{\"gridcolor\":\"white\",\"linecolor\":\"white\",\"ticks\":\"\"}},\"coloraxis\":{\"colorbar\":{\"outlinewidth\":0,\"ticks\":\"\"}},\"colorscale\":{\"sequential\":[[0.0,\"#0d0887\"],[0.1111111111111111,\"#46039f\"],[0.2222222222222222,\"#7201a8\"],[0.3333333333333333,\"#9c179e\"],[0.4444444444444444,\"#bd3786\"],[0.5555555555555556,\"#d8576b\"],[0.6666666666666666,\"#ed7953\"],[0.7777777777777778,\"#fb9f3a\"],[0.8888888888888888,\"#fdca26\"],[1.0,\"#f0f921\"]],\"sequentialminus\":[[0.0,\"#0d0887\"],[0.1111111111111111,\"#46039f\"],[0.2222222222222222,\"#7201a8\"],[0.3333333333333333,\"#9c179e\"],[0.4444444444444444,\"#bd3786\"],[0.5555555555555556,\"#d8576b\"],[0.6666666666666666,\"#ed7953\"],[0.7777777777777778,\"#fb9f3a\"],[0.8888888888888888,\"#fdca26\"],[1.0,\"#f0f921\"]],\"diverging\":[[0,\"#8e0152\"],[0.1,\"#c51b7d\"],[0.2,\"#de77ae\"],[0.3,\"#f1b6da\"],[0.4,\"#fde0ef\"],[0.5,\"#f7f7f7\"],[0.6,\"#e6f5d0\"],[0.7,\"#b8e186\"],[0.8,\"#7fbc41\"],[0.9,\"#4d9221\"],[1,\"#276419\"]]},\"xaxis\":{\"gridcolor\":\"white\",\"linecolor\":\"white\",\"ticks\":\"\",\"title\":{\"standoff\":15},\"zerolinecolor\":\"white\",\"automargin\":true,\"zerolinewidth\":2},\"yaxis\":{\"gridcolor\":\"white\",\"linecolor\":\"white\",\"ticks\":\"\",\"title\":{\"standoff\":15},\"zerolinecolor\":\"white\",\"automargin\":true,\"zerolinewidth\":2},\"scene\":{\"xaxis\":{\"backgroundcolor\":\"#E5ECF6\",\"gridcolor\":\"white\",\"linecolor\":\"white\",\"showbackground\":true,\"ticks\":\"\",\"zerolinecolor\":\"white\",\"gridwidth\":2},\"yaxis\":{\"backgroundcolor\":\"#E5ECF6\",\"gridcolor\":\"white\",\"linecolor\":\"white\",\"showbackground\":true,\"ticks\":\"\",\"zerolinecolor\":\"white\",\"gridwidth\":2},\"zaxis\":{\"backgroundcolor\":\"#E5ECF6\",\"gridcolor\":\"white\",\"linecolor\":\"white\",\"showbackground\":true,\"ticks\":\"\",\"zerolinecolor\":\"white\",\"gridwidth\":2}},\"shapedefaults\":{\"line\":{\"color\":\"#2a3f5f\"}},\"annotationdefaults\":{\"arrowcolor\":\"#2a3f5f\",\"arrowhead\":0,\"arrowwidth\":1},\"geo\":{\"bgcolor\":\"white\",\"landcolor\":\"#E5ECF6\",\"subunitcolor\":\"white\",\"showland\":true,\"showlakes\":true,\"lakecolor\":\"white\"},\"title\":{\"x\":0.05},\"mapbox\":{\"style\":\"light\"}}},\"xaxis\":{\"anchor\":\"y\",\"domain\":[0.0,1.0],\"scaleanchor\":\"y\",\"constrain\":\"domain\"},\"yaxis\":{\"anchor\":\"x\",\"domain\":[0.0,1.0],\"autorange\":\"reversed\",\"constrain\":\"domain\"},\"coloraxis\":{\"colorbar\":{\"title\":{\"text\":\"Similarity Score\"}},\"colorscale\":[[0.0,\"rgb(247,252,240)\"],[0.125,\"rgb(224,243,219)\"],[0.25,\"rgb(204,235,197)\"],[0.375,\"rgb(168,221,181)\"],[0.5,\"rgb(123,204,196)\"],[0.625,\"rgb(78,179,211)\"],[0.75,\"rgb(43,140,190)\"],[0.875,\"rgb(8,104,172)\"],[1.0,\"rgb(8,64,129)\"]]},\"margin\":{\"t\":60},\"title\":{\"font\":{\"size\":22,\"color\":\"Black\"},\"text\":\"\\u003cb\\u003eSimilarity Matrix\\u003c\\u002fb\\u003e\",\"y\":0.95,\"x\":0.55,\"xanchor\":\"center\",\"yanchor\":\"top\"},\"hoverlabel\":{\"font\":{\"size\":16,\"family\":\"Rockwell\"},\"bgcolor\":\"white\"},\"width\":800,\"height\":800,\"showlegend\":true,\"legend\":{\"title\":{\"text\":\"Trend\"}}},                        {\"responsive\": true}                    ).then(function(){\n",
       "                            \n",
       "var gd = document.getElementById('3191aa67-54ac-4556-bea3-bf229596c24a');\n",
       "var x = new MutationObserver(function (mutations, observer) {{\n",
       "        var display = window.getComputedStyle(gd).display;\n",
       "        if (!display || display === 'none') {{\n",
       "            console.log([gd, 'removed!']);\n",
       "            Plotly.purge(gd);\n",
       "            observer.disconnect();\n",
       "        }}\n",
       "}});\n",
       "\n",
       "// Listen for the removal of the full notebook cells\n",
       "var notebookContainer = gd.closest('#notebook-container');\n",
       "if (notebookContainer) {{\n",
       "    x.observe(notebookContainer, {childList: true});\n",
       "}}\n",
       "\n",
       "// Listen for the clearing of the current output cell\n",
       "var outputEl = gd.closest('.output');\n",
       "if (outputEl) {{\n",
       "    x.observe(outputEl, {childList: true});\n",
       "}}\n",
       "\n",
       "                        })                };                });            </script>        </div>"
      ]
     },
     "metadata": {},
     "output_type": "display_data"
    }
   ],
   "source": [
    "topic_model.visualize_heatmap()"
   ]
  },
  {
   "cell_type": "code",
   "execution_count": 76,
   "id": "de86c903-1517-4309-9488-773ea8f7f915",
   "metadata": {},
   "outputs": [
    {
     "data": {
      "application/vnd.plotly.v1+json": {
       "config": {
        "plotlyServerURL": "https://plot.ly"
       },
       "data": [
        {
         "customdata": [
          [
           0,
           "klimaschutz | dazu | uns | sagen | müssen",
           615
          ],
          [
           1,
           "klimaschutz | deutschland | uns | bundesregierung | emissionshandel",
           565
          ],
          [
           2,
           "haushalt | jetzt | milliarden | uns | geld",
           394
          ],
          [
           3,
           "europäische | europäischen | deutschland | europa | euro",
           342
          ],
          [
           4,
           "energiepolitik | kernenergie | atomenergie | erneuerbaren | energien",
           288
          ],
          [
           5,
           "gesagt | doch | sagen | weil | sondern",
           264
          ],
          [
           6,
           "petitionsausschusses | ausschusses | ausschuss | gegenstimmen | gesetzentwurf",
           195
          ],
          [
           7,
           "verkehrspolitik | mobilität | verkehr | uns | bundesregierung",
           167
          ],
          [
           8,
           "wohnraum | wohnungen | wohngeld | uns | deutschland",
           90
          ],
          [
           9,
           "konferenz | klimaschutz | kioto | bundesregierung | internationalen",
           87
          ],
          [
           10,
           "forstwirtschaft | wäldern | wälder | urwälder | wald",
           61
          ],
          [
           11,
           "ukraine | russland | europa | krieg | deutschland",
           50
          ],
          [
           12,
           "krise | bundesregierung | milliarden | uns | jetzt",
           48
          ],
          [
           13,
           "entwicklungspolitik | weil | uns | aber | sondern",
           46
          ],
          [
           14,
           "innovationen | technologien | bundesregierung | hightech | industrie",
           44
          ],
          [
           15,
           "konferenz | ländern | afrika | entwicklungsländern | entwicklungsländer",
           33
          ],
          [
           16,
           "pandemie | coronapandemie | krise | klimaschutz | uns",
           32
          ],
          [
           17,
           "senioren | abgeordneten | abgeordnete | abgeordneter | geburtstag",
           26
          ],
          [
           18,
           "fukushima | katastrophe | tschernobyl | atomausstieg | kernkraftwerke",
           24
          ],
          [
           19,
           "energieversorgung | energiewende | energien | können | erneuerbaren",
           24
          ],
          [
           20,
           "weil | uns | haben | länder | heute",
           23
          ],
          [
           21,
           "stadtentwicklungspolitik | städtebauförderung | stadtentwicklung | stadtsanierung | städten",
           23
          ],
          [
           22,
           "maritime | maritimen | meerespolitik | schiffbau | ozeane",
           20
          ],
          [
           23,
           "biokraftstoffstrategie | biokraftstoff | biokraftstoffe | biokraftstoffen | biodiesel",
           18
          ],
          [
           24,
           "energiegewinnung | energieeffizienz | energiewende | energien | energie",
           15
          ],
          [
           25,
           "luftverkehrswirtschaft | luftverkehr | luftverkehrsstandort | flugverkehrs | flughafen",
           15
          ],
          [
           26,
           "klimafinanzierung | klimaschutzinitiative | klimaschutzmaßnahmen | klimaschutz | milliarden",
           15
          ],
          [
           27,
           "gesagt | minister | sagen | diesem | einem",
           14
          ],
          [
           28,
           "biodiversität | naturschutz | natur | biologischen | biologische",
           13
          ],
          [
           29,
           "bali | konferenz | entwicklungsländer | klimaschutz | bundesregierung",
           13
          ],
          [
           30,
           "tourismuspolitik | tourismuswirtschaft | tourismusbranche | tourismusstrategie | tourismus",
           13
          ],
          [
           31,
           "flüchtlinge | europäische | europäischen | europa | migration",
           13
          ],
          [
           32,
           "großbritannien | briten | brexit | europäische | europäischen",
           13
          ],
          [
           33,
           "demokratie | wahlrecht | bundesregierung | wir | uns",
           12
          ]
         ],
         "hovertemplate": "<b>Topic %{customdata[0]}</b><br>%{customdata[1]}<br>Size: %{customdata[2]}",
         "legendgroup": "",
         "marker": {
          "color": [
           "#B0BEC5",
           "#B0BEC5",
           "#B0BEC5",
           "#B0BEC5",
           "#B0BEC5",
           "#B0BEC5",
           "#B0BEC5",
           "#B0BEC5",
           "#B0BEC5",
           "#B0BEC5",
           "#B0BEC5",
           "#B0BEC5",
           "#B0BEC5",
           "#B0BEC5",
           "#B0BEC5",
           "#B0BEC5",
           "#B0BEC5",
           "#B0BEC5",
           "#B0BEC5",
           "#B0BEC5",
           "#B0BEC5",
           "red",
           "#B0BEC5",
           "#B0BEC5",
           "#B0BEC5",
           "#B0BEC5",
           "#B0BEC5",
           "#B0BEC5",
           "#B0BEC5",
           "#B0BEC5",
           "#B0BEC5",
           "#B0BEC5",
           "#B0BEC5",
           "#B0BEC5"
          ],
          "line": {
           "color": "DarkSlateGrey",
           "width": 2
          },
          "size": [
           615,
           565,
           394,
           342,
           288,
           264,
           195,
           167,
           90,
           87,
           61,
           50,
           48,
           46,
           44,
           33,
           32,
           26,
           24,
           24,
           23,
           23,
           20,
           18,
           15,
           15,
           15,
           14,
           13,
           13,
           13,
           13,
           13,
           12
          ],
          "sizemode": "area",
          "sizeref": 0.384375,
          "symbol": "circle"
         },
         "mode": "markers",
         "name": "",
         "orientation": "v",
         "showlegend": false,
         "type": "scatter",
         "x": [
          1.542293667793274,
          3.939021110534668,
          0.8464638590812683,
          4.137564182281494,
          1.962207317352295,
          6.03488826751709,
          5.495652198791504,
          -3.214756727218628,
          13.416950225830078,
          2.463954210281372,
          1.3932799100875854,
          4.017868518829346,
          0.4549834728240967,
          5.614626884460449,
          1.9169665575027466,
          2.8863730430603027,
          0.2364584356546402,
          6.271947860717773,
          10.599156379699707,
          2.081876039505005,
          10.599119186401367,
          13.416716575622559,
          4.222426414489746,
          3.804426908493042,
          2.3590645790100098,
          -2.942131519317627,
          3.8994905948638916,
          6.0416083335876465,
          1.2424427270889282,
          2.656390905380249,
          -3.1681981086730957,
          4.297644138336182,
          4.62709903717041,
          1.6269760131835938
         ],
         "xaxis": "x",
         "y": [
          0.6073582172393799,
          -2.5303664207458496,
          0.4204595685005188,
          -3.4789726734161377,
          -0.6006982922554016,
          13.258854866027832,
          13.793021202087402,
          10.848738670349121,
          2.3713526725769043,
          0.6985535025596619,
          1.1730341911315918,
          -3.6668875217437744,
          0.2183539867401123,
          13.674736022949219,
          -0.7590209245681763,
          0.5893741250038147,
          0.012835354544222355,
          13.020875930786133,
          -12.152700424194336,
          -0.36972829699516296,
          -12.15264892578125,
          2.371115207672119,
          -3.2395503520965576,
          -2.3573193550109863,
          -0.7073212265968323,
          11.121621131896973,
          -2.4322690963745117,
          13.252416610717773,
          1.4913136959075928,
          0.8547795414924622,
          10.894977569580078,
          -3.261423349380493,
          -3.541541337966919,
          0.5371429920196533
         ],
         "yaxis": "y"
        }
       ],
       "layout": {
        "annotations": [
         {
          "showarrow": false,
          "text": "D1",
          "x": -3.6969702363014223,
          "y": 0.9431844472885134,
          "yshift": 10
         },
         {
          "showarrow": false,
          "text": "D2",
          "x": 5.866261261701585,
          "xshift": 10,
          "y": 15.861974382400513
         }
        ],
        "height": 650,
        "hoverlabel": {
         "bgcolor": "white",
         "font": {
          "family": "Rockwell",
          "size": 16
         }
        },
        "legend": {
         "itemsizing": "constant",
         "tracegroupgap": 0
        },
        "margin": {
         "t": 60
        },
        "shapes": [
         {
          "line": {
           "color": "#CFD8DC",
           "width": 2
          },
          "type": "line",
          "x0": 5.866261261701585,
          "x1": 5.866261261701585,
          "y0": -13.975605487823486,
          "y1": 15.861974382400513
         },
         {
          "line": {
           "color": "#9E9E9E",
           "width": 2
          },
          "type": "line",
          "x0": -3.6969702363014223,
          "x1": 15.42949275970459,
          "y0": 0.9431844472885134,
          "y1": 0.9431844472885134
         }
        ],
        "sliders": [
         {
          "active": 21,
          "pad": {
           "t": 50
          },
          "steps": [
           {
            "args": [
             {
              "marker.color": [
               [
                "red",
                "#B0BEC5",
                "#B0BEC5",
                "#B0BEC5",
                "#B0BEC5",
                "#B0BEC5",
                "#B0BEC5",
                "#B0BEC5",
                "#B0BEC5",
                "#B0BEC5",
                "#B0BEC5",
                "#B0BEC5",
                "#B0BEC5",
                "#B0BEC5",
                "#B0BEC5",
                "#B0BEC5",
                "#B0BEC5",
                "#B0BEC5",
                "#B0BEC5",
                "#B0BEC5",
                "#B0BEC5",
                "#B0BEC5",
                "#B0BEC5",
                "#B0BEC5",
                "#B0BEC5",
                "#B0BEC5",
                "#B0BEC5",
                "#B0BEC5",
                "#B0BEC5",
                "#B0BEC5",
                "#B0BEC5",
                "#B0BEC5",
                "#B0BEC5",
                "#B0BEC5"
               ]
              ]
             }
            ],
            "label": "Topic 0",
            "method": "update"
           },
           {
            "args": [
             {
              "marker.color": [
               [
                "#B0BEC5",
                "red",
                "#B0BEC5",
                "#B0BEC5",
                "#B0BEC5",
                "#B0BEC5",
                "#B0BEC5",
                "#B0BEC5",
                "#B0BEC5",
                "#B0BEC5",
                "#B0BEC5",
                "#B0BEC5",
                "#B0BEC5",
                "#B0BEC5",
                "#B0BEC5",
                "#B0BEC5",
                "#B0BEC5",
                "#B0BEC5",
                "#B0BEC5",
                "#B0BEC5",
                "#B0BEC5",
                "#B0BEC5",
                "#B0BEC5",
                "#B0BEC5",
                "#B0BEC5",
                "#B0BEC5",
                "#B0BEC5",
                "#B0BEC5",
                "#B0BEC5",
                "#B0BEC5",
                "#B0BEC5",
                "#B0BEC5",
                "#B0BEC5",
                "#B0BEC5"
               ]
              ]
             }
            ],
            "label": "Topic 1",
            "method": "update"
           },
           {
            "args": [
             {
              "marker.color": [
               [
                "#B0BEC5",
                "#B0BEC5",
                "red",
                "#B0BEC5",
                "#B0BEC5",
                "#B0BEC5",
                "#B0BEC5",
                "#B0BEC5",
                "#B0BEC5",
                "#B0BEC5",
                "#B0BEC5",
                "#B0BEC5",
                "#B0BEC5",
                "#B0BEC5",
                "#B0BEC5",
                "#B0BEC5",
                "#B0BEC5",
                "#B0BEC5",
                "#B0BEC5",
                "#B0BEC5",
                "#B0BEC5",
                "#B0BEC5",
                "#B0BEC5",
                "#B0BEC5",
                "#B0BEC5",
                "#B0BEC5",
                "#B0BEC5",
                "#B0BEC5",
                "#B0BEC5",
                "#B0BEC5",
                "#B0BEC5",
                "#B0BEC5",
                "#B0BEC5",
                "#B0BEC5"
               ]
              ]
             }
            ],
            "label": "Topic 2",
            "method": "update"
           },
           {
            "args": [
             {
              "marker.color": [
               [
                "#B0BEC5",
                "#B0BEC5",
                "#B0BEC5",
                "red",
                "#B0BEC5",
                "#B0BEC5",
                "#B0BEC5",
                "#B0BEC5",
                "#B0BEC5",
                "#B0BEC5",
                "#B0BEC5",
                "#B0BEC5",
                "#B0BEC5",
                "#B0BEC5",
                "#B0BEC5",
                "#B0BEC5",
                "#B0BEC5",
                "#B0BEC5",
                "#B0BEC5",
                "#B0BEC5",
                "#B0BEC5",
                "#B0BEC5",
                "#B0BEC5",
                "#B0BEC5",
                "#B0BEC5",
                "#B0BEC5",
                "#B0BEC5",
                "#B0BEC5",
                "#B0BEC5",
                "#B0BEC5",
                "#B0BEC5",
                "#B0BEC5",
                "#B0BEC5",
                "#B0BEC5"
               ]
              ]
             }
            ],
            "label": "Topic 3",
            "method": "update"
           },
           {
            "args": [
             {
              "marker.color": [
               [
                "#B0BEC5",
                "#B0BEC5",
                "#B0BEC5",
                "#B0BEC5",
                "red",
                "#B0BEC5",
                "#B0BEC5",
                "#B0BEC5",
                "#B0BEC5",
                "#B0BEC5",
                "#B0BEC5",
                "#B0BEC5",
                "#B0BEC5",
                "#B0BEC5",
                "#B0BEC5",
                "#B0BEC5",
                "#B0BEC5",
                "#B0BEC5",
                "#B0BEC5",
                "#B0BEC5",
                "#B0BEC5",
                "#B0BEC5",
                "#B0BEC5",
                "#B0BEC5",
                "#B0BEC5",
                "#B0BEC5",
                "#B0BEC5",
                "#B0BEC5",
                "#B0BEC5",
                "#B0BEC5",
                "#B0BEC5",
                "#B0BEC5",
                "#B0BEC5",
                "#B0BEC5"
               ]
              ]
             }
            ],
            "label": "Topic 4",
            "method": "update"
           },
           {
            "args": [
             {
              "marker.color": [
               [
                "#B0BEC5",
                "#B0BEC5",
                "#B0BEC5",
                "#B0BEC5",
                "#B0BEC5",
                "red",
                "#B0BEC5",
                "#B0BEC5",
                "#B0BEC5",
                "#B0BEC5",
                "#B0BEC5",
                "#B0BEC5",
                "#B0BEC5",
                "#B0BEC5",
                "#B0BEC5",
                "#B0BEC5",
                "#B0BEC5",
                "#B0BEC5",
                "#B0BEC5",
                "#B0BEC5",
                "#B0BEC5",
                "#B0BEC5",
                "#B0BEC5",
                "#B0BEC5",
                "#B0BEC5",
                "#B0BEC5",
                "#B0BEC5",
                "#B0BEC5",
                "#B0BEC5",
                "#B0BEC5",
                "#B0BEC5",
                "#B0BEC5",
                "#B0BEC5",
                "#B0BEC5"
               ]
              ]
             }
            ],
            "label": "Topic 5",
            "method": "update"
           },
           {
            "args": [
             {
              "marker.color": [
               [
                "#B0BEC5",
                "#B0BEC5",
                "#B0BEC5",
                "#B0BEC5",
                "#B0BEC5",
                "#B0BEC5",
                "red",
                "#B0BEC5",
                "#B0BEC5",
                "#B0BEC5",
                "#B0BEC5",
                "#B0BEC5",
                "#B0BEC5",
                "#B0BEC5",
                "#B0BEC5",
                "#B0BEC5",
                "#B0BEC5",
                "#B0BEC5",
                "#B0BEC5",
                "#B0BEC5",
                "#B0BEC5",
                "#B0BEC5",
                "#B0BEC5",
                "#B0BEC5",
                "#B0BEC5",
                "#B0BEC5",
                "#B0BEC5",
                "#B0BEC5",
                "#B0BEC5",
                "#B0BEC5",
                "#B0BEC5",
                "#B0BEC5",
                "#B0BEC5",
                "#B0BEC5"
               ]
              ]
             }
            ],
            "label": "Topic 6",
            "method": "update"
           },
           {
            "args": [
             {
              "marker.color": [
               [
                "#B0BEC5",
                "#B0BEC5",
                "#B0BEC5",
                "#B0BEC5",
                "#B0BEC5",
                "#B0BEC5",
                "#B0BEC5",
                "red",
                "#B0BEC5",
                "#B0BEC5",
                "#B0BEC5",
                "#B0BEC5",
                "#B0BEC5",
                "#B0BEC5",
                "#B0BEC5",
                "#B0BEC5",
                "#B0BEC5",
                "#B0BEC5",
                "#B0BEC5",
                "#B0BEC5",
                "#B0BEC5",
                "#B0BEC5",
                "#B0BEC5",
                "#B0BEC5",
                "#B0BEC5",
                "#B0BEC5",
                "#B0BEC5",
                "#B0BEC5",
                "#B0BEC5",
                "#B0BEC5",
                "#B0BEC5",
                "#B0BEC5",
                "#B0BEC5",
                "#B0BEC5"
               ]
              ]
             }
            ],
            "label": "Topic 7",
            "method": "update"
           },
           {
            "args": [
             {
              "marker.color": [
               [
                "#B0BEC5",
                "#B0BEC5",
                "#B0BEC5",
                "#B0BEC5",
                "#B0BEC5",
                "#B0BEC5",
                "#B0BEC5",
                "#B0BEC5",
                "red",
                "#B0BEC5",
                "#B0BEC5",
                "#B0BEC5",
                "#B0BEC5",
                "#B0BEC5",
                "#B0BEC5",
                "#B0BEC5",
                "#B0BEC5",
                "#B0BEC5",
                "#B0BEC5",
                "#B0BEC5",
                "#B0BEC5",
                "#B0BEC5",
                "#B0BEC5",
                "#B0BEC5",
                "#B0BEC5",
                "#B0BEC5",
                "#B0BEC5",
                "#B0BEC5",
                "#B0BEC5",
                "#B0BEC5",
                "#B0BEC5",
                "#B0BEC5",
                "#B0BEC5",
                "#B0BEC5"
               ]
              ]
             }
            ],
            "label": "Topic 8",
            "method": "update"
           },
           {
            "args": [
             {
              "marker.color": [
               [
                "#B0BEC5",
                "#B0BEC5",
                "#B0BEC5",
                "#B0BEC5",
                "#B0BEC5",
                "#B0BEC5",
                "#B0BEC5",
                "#B0BEC5",
                "#B0BEC5",
                "red",
                "#B0BEC5",
                "#B0BEC5",
                "#B0BEC5",
                "#B0BEC5",
                "#B0BEC5",
                "#B0BEC5",
                "#B0BEC5",
                "#B0BEC5",
                "#B0BEC5",
                "#B0BEC5",
                "#B0BEC5",
                "#B0BEC5",
                "#B0BEC5",
                "#B0BEC5",
                "#B0BEC5",
                "#B0BEC5",
                "#B0BEC5",
                "#B0BEC5",
                "#B0BEC5",
                "#B0BEC5",
                "#B0BEC5",
                "#B0BEC5",
                "#B0BEC5",
                "#B0BEC5"
               ]
              ]
             }
            ],
            "label": "Topic 9",
            "method": "update"
           },
           {
            "args": [
             {
              "marker.color": [
               [
                "#B0BEC5",
                "#B0BEC5",
                "#B0BEC5",
                "#B0BEC5",
                "#B0BEC5",
                "#B0BEC5",
                "#B0BEC5",
                "#B0BEC5",
                "#B0BEC5",
                "#B0BEC5",
                "red",
                "#B0BEC5",
                "#B0BEC5",
                "#B0BEC5",
                "#B0BEC5",
                "#B0BEC5",
                "#B0BEC5",
                "#B0BEC5",
                "#B0BEC5",
                "#B0BEC5",
                "#B0BEC5",
                "#B0BEC5",
                "#B0BEC5",
                "#B0BEC5",
                "#B0BEC5",
                "#B0BEC5",
                "#B0BEC5",
                "#B0BEC5",
                "#B0BEC5",
                "#B0BEC5",
                "#B0BEC5",
                "#B0BEC5",
                "#B0BEC5",
                "#B0BEC5"
               ]
              ]
             }
            ],
            "label": "Topic 10",
            "method": "update"
           },
           {
            "args": [
             {
              "marker.color": [
               [
                "#B0BEC5",
                "#B0BEC5",
                "#B0BEC5",
                "#B0BEC5",
                "#B0BEC5",
                "#B0BEC5",
                "#B0BEC5",
                "#B0BEC5",
                "#B0BEC5",
                "#B0BEC5",
                "#B0BEC5",
                "red",
                "#B0BEC5",
                "#B0BEC5",
                "#B0BEC5",
                "#B0BEC5",
                "#B0BEC5",
                "#B0BEC5",
                "#B0BEC5",
                "#B0BEC5",
                "#B0BEC5",
                "#B0BEC5",
                "#B0BEC5",
                "#B0BEC5",
                "#B0BEC5",
                "#B0BEC5",
                "#B0BEC5",
                "#B0BEC5",
                "#B0BEC5",
                "#B0BEC5",
                "#B0BEC5",
                "#B0BEC5",
                "#B0BEC5",
                "#B0BEC5"
               ]
              ]
             }
            ],
            "label": "Topic 11",
            "method": "update"
           },
           {
            "args": [
             {
              "marker.color": [
               [
                "#B0BEC5",
                "#B0BEC5",
                "#B0BEC5",
                "#B0BEC5",
                "#B0BEC5",
                "#B0BEC5",
                "#B0BEC5",
                "#B0BEC5",
                "#B0BEC5",
                "#B0BEC5",
                "#B0BEC5",
                "#B0BEC5",
                "red",
                "#B0BEC5",
                "#B0BEC5",
                "#B0BEC5",
                "#B0BEC5",
                "#B0BEC5",
                "#B0BEC5",
                "#B0BEC5",
                "#B0BEC5",
                "#B0BEC5",
                "#B0BEC5",
                "#B0BEC5",
                "#B0BEC5",
                "#B0BEC5",
                "#B0BEC5",
                "#B0BEC5",
                "#B0BEC5",
                "#B0BEC5",
                "#B0BEC5",
                "#B0BEC5",
                "#B0BEC5",
                "#B0BEC5"
               ]
              ]
             }
            ],
            "label": "Topic 12",
            "method": "update"
           },
           {
            "args": [
             {
              "marker.color": [
               [
                "#B0BEC5",
                "#B0BEC5",
                "#B0BEC5",
                "#B0BEC5",
                "#B0BEC5",
                "#B0BEC5",
                "#B0BEC5",
                "#B0BEC5",
                "#B0BEC5",
                "#B0BEC5",
                "#B0BEC5",
                "#B0BEC5",
                "#B0BEC5",
                "red",
                "#B0BEC5",
                "#B0BEC5",
                "#B0BEC5",
                "#B0BEC5",
                "#B0BEC5",
                "#B0BEC5",
                "#B0BEC5",
                "#B0BEC5",
                "#B0BEC5",
                "#B0BEC5",
                "#B0BEC5",
                "#B0BEC5",
                "#B0BEC5",
                "#B0BEC5",
                "#B0BEC5",
                "#B0BEC5",
                "#B0BEC5",
                "#B0BEC5",
                "#B0BEC5",
                "#B0BEC5"
               ]
              ]
             }
            ],
            "label": "Topic 13",
            "method": "update"
           },
           {
            "args": [
             {
              "marker.color": [
               [
                "#B0BEC5",
                "#B0BEC5",
                "#B0BEC5",
                "#B0BEC5",
                "#B0BEC5",
                "#B0BEC5",
                "#B0BEC5",
                "#B0BEC5",
                "#B0BEC5",
                "#B0BEC5",
                "#B0BEC5",
                "#B0BEC5",
                "#B0BEC5",
                "#B0BEC5",
                "red",
                "#B0BEC5",
                "#B0BEC5",
                "#B0BEC5",
                "#B0BEC5",
                "#B0BEC5",
                "#B0BEC5",
                "#B0BEC5",
                "#B0BEC5",
                "#B0BEC5",
                "#B0BEC5",
                "#B0BEC5",
                "#B0BEC5",
                "#B0BEC5",
                "#B0BEC5",
                "#B0BEC5",
                "#B0BEC5",
                "#B0BEC5",
                "#B0BEC5",
                "#B0BEC5"
               ]
              ]
             }
            ],
            "label": "Topic 14",
            "method": "update"
           },
           {
            "args": [
             {
              "marker.color": [
               [
                "#B0BEC5",
                "#B0BEC5",
                "#B0BEC5",
                "#B0BEC5",
                "#B0BEC5",
                "#B0BEC5",
                "#B0BEC5",
                "#B0BEC5",
                "#B0BEC5",
                "#B0BEC5",
                "#B0BEC5",
                "#B0BEC5",
                "#B0BEC5",
                "#B0BEC5",
                "#B0BEC5",
                "red",
                "#B0BEC5",
                "#B0BEC5",
                "#B0BEC5",
                "#B0BEC5",
                "#B0BEC5",
                "#B0BEC5",
                "#B0BEC5",
                "#B0BEC5",
                "#B0BEC5",
                "#B0BEC5",
                "#B0BEC5",
                "#B0BEC5",
                "#B0BEC5",
                "#B0BEC5",
                "#B0BEC5",
                "#B0BEC5",
                "#B0BEC5",
                "#B0BEC5"
               ]
              ]
             }
            ],
            "label": "Topic 15",
            "method": "update"
           },
           {
            "args": [
             {
              "marker.color": [
               [
                "#B0BEC5",
                "#B0BEC5",
                "#B0BEC5",
                "#B0BEC5",
                "#B0BEC5",
                "#B0BEC5",
                "#B0BEC5",
                "#B0BEC5",
                "#B0BEC5",
                "#B0BEC5",
                "#B0BEC5",
                "#B0BEC5",
                "#B0BEC5",
                "#B0BEC5",
                "#B0BEC5",
                "#B0BEC5",
                "red",
                "#B0BEC5",
                "#B0BEC5",
                "#B0BEC5",
                "#B0BEC5",
                "#B0BEC5",
                "#B0BEC5",
                "#B0BEC5",
                "#B0BEC5",
                "#B0BEC5",
                "#B0BEC5",
                "#B0BEC5",
                "#B0BEC5",
                "#B0BEC5",
                "#B0BEC5",
                "#B0BEC5",
                "#B0BEC5",
                "#B0BEC5"
               ]
              ]
             }
            ],
            "label": "Topic 16",
            "method": "update"
           },
           {
            "args": [
             {
              "marker.color": [
               [
                "#B0BEC5",
                "#B0BEC5",
                "#B0BEC5",
                "#B0BEC5",
                "#B0BEC5",
                "#B0BEC5",
                "#B0BEC5",
                "#B0BEC5",
                "#B0BEC5",
                "#B0BEC5",
                "#B0BEC5",
                "#B0BEC5",
                "#B0BEC5",
                "#B0BEC5",
                "#B0BEC5",
                "#B0BEC5",
                "#B0BEC5",
                "red",
                "#B0BEC5",
                "#B0BEC5",
                "#B0BEC5",
                "#B0BEC5",
                "#B0BEC5",
                "#B0BEC5",
                "#B0BEC5",
                "#B0BEC5",
                "#B0BEC5",
                "#B0BEC5",
                "#B0BEC5",
                "#B0BEC5",
                "#B0BEC5",
                "#B0BEC5",
                "#B0BEC5",
                "#B0BEC5"
               ]
              ]
             }
            ],
            "label": "Topic 17",
            "method": "update"
           },
           {
            "args": [
             {
              "marker.color": [
               [
                "#B0BEC5",
                "#B0BEC5",
                "#B0BEC5",
                "#B0BEC5",
                "#B0BEC5",
                "#B0BEC5",
                "#B0BEC5",
                "#B0BEC5",
                "#B0BEC5",
                "#B0BEC5",
                "#B0BEC5",
                "#B0BEC5",
                "#B0BEC5",
                "#B0BEC5",
                "#B0BEC5",
                "#B0BEC5",
                "#B0BEC5",
                "#B0BEC5",
                "red",
                "#B0BEC5",
                "#B0BEC5",
                "#B0BEC5",
                "#B0BEC5",
                "#B0BEC5",
                "#B0BEC5",
                "#B0BEC5",
                "#B0BEC5",
                "#B0BEC5",
                "#B0BEC5",
                "#B0BEC5",
                "#B0BEC5",
                "#B0BEC5",
                "#B0BEC5",
                "#B0BEC5"
               ]
              ]
             }
            ],
            "label": "Topic 18",
            "method": "update"
           },
           {
            "args": [
             {
              "marker.color": [
               [
                "#B0BEC5",
                "#B0BEC5",
                "#B0BEC5",
                "#B0BEC5",
                "#B0BEC5",
                "#B0BEC5",
                "#B0BEC5",
                "#B0BEC5",
                "#B0BEC5",
                "#B0BEC5",
                "#B0BEC5",
                "#B0BEC5",
                "#B0BEC5",
                "#B0BEC5",
                "#B0BEC5",
                "#B0BEC5",
                "#B0BEC5",
                "#B0BEC5",
                "#B0BEC5",
                "red",
                "#B0BEC5",
                "#B0BEC5",
                "#B0BEC5",
                "#B0BEC5",
                "#B0BEC5",
                "#B0BEC5",
                "#B0BEC5",
                "#B0BEC5",
                "#B0BEC5",
                "#B0BEC5",
                "#B0BEC5",
                "#B0BEC5",
                "#B0BEC5",
                "#B0BEC5"
               ]
              ]
             }
            ],
            "label": "Topic 19",
            "method": "update"
           },
           {
            "args": [
             {
              "marker.color": [
               [
                "#B0BEC5",
                "#B0BEC5",
                "#B0BEC5",
                "#B0BEC5",
                "#B0BEC5",
                "#B0BEC5",
                "#B0BEC5",
                "#B0BEC5",
                "#B0BEC5",
                "#B0BEC5",
                "#B0BEC5",
                "#B0BEC5",
                "#B0BEC5",
                "#B0BEC5",
                "#B0BEC5",
                "#B0BEC5",
                "#B0BEC5",
                "#B0BEC5",
                "#B0BEC5",
                "#B0BEC5",
                "red",
                "#B0BEC5",
                "#B0BEC5",
                "#B0BEC5",
                "#B0BEC5",
                "#B0BEC5",
                "#B0BEC5",
                "#B0BEC5",
                "#B0BEC5",
                "#B0BEC5",
                "#B0BEC5",
                "#B0BEC5",
                "#B0BEC5",
                "#B0BEC5"
               ]
              ]
             }
            ],
            "label": "Topic 20",
            "method": "update"
           },
           {
            "args": [
             {
              "marker.color": [
               [
                "#B0BEC5",
                "#B0BEC5",
                "#B0BEC5",
                "#B0BEC5",
                "#B0BEC5",
                "#B0BEC5",
                "#B0BEC5",
                "#B0BEC5",
                "#B0BEC5",
                "#B0BEC5",
                "#B0BEC5",
                "#B0BEC5",
                "#B0BEC5",
                "#B0BEC5",
                "#B0BEC5",
                "#B0BEC5",
                "#B0BEC5",
                "#B0BEC5",
                "#B0BEC5",
                "#B0BEC5",
                "#B0BEC5",
                "red",
                "#B0BEC5",
                "#B0BEC5",
                "#B0BEC5",
                "#B0BEC5",
                "#B0BEC5",
                "#B0BEC5",
                "#B0BEC5",
                "#B0BEC5",
                "#B0BEC5",
                "#B0BEC5",
                "#B0BEC5",
                "#B0BEC5"
               ]
              ]
             }
            ],
            "label": "Topic 21",
            "method": "update"
           },
           {
            "args": [
             {
              "marker.color": [
               [
                "#B0BEC5",
                "#B0BEC5",
                "#B0BEC5",
                "#B0BEC5",
                "#B0BEC5",
                "#B0BEC5",
                "#B0BEC5",
                "#B0BEC5",
                "#B0BEC5",
                "#B0BEC5",
                "#B0BEC5",
                "#B0BEC5",
                "#B0BEC5",
                "#B0BEC5",
                "#B0BEC5",
                "#B0BEC5",
                "#B0BEC5",
                "#B0BEC5",
                "#B0BEC5",
                "#B0BEC5",
                "#B0BEC5",
                "#B0BEC5",
                "red",
                "#B0BEC5",
                "#B0BEC5",
                "#B0BEC5",
                "#B0BEC5",
                "#B0BEC5",
                "#B0BEC5",
                "#B0BEC5",
                "#B0BEC5",
                "#B0BEC5",
                "#B0BEC5",
                "#B0BEC5"
               ]
              ]
             }
            ],
            "label": "Topic 22",
            "method": "update"
           },
           {
            "args": [
             {
              "marker.color": [
               [
                "#B0BEC5",
                "#B0BEC5",
                "#B0BEC5",
                "#B0BEC5",
                "#B0BEC5",
                "#B0BEC5",
                "#B0BEC5",
                "#B0BEC5",
                "#B0BEC5",
                "#B0BEC5",
                "#B0BEC5",
                "#B0BEC5",
                "#B0BEC5",
                "#B0BEC5",
                "#B0BEC5",
                "#B0BEC5",
                "#B0BEC5",
                "#B0BEC5",
                "#B0BEC5",
                "#B0BEC5",
                "#B0BEC5",
                "#B0BEC5",
                "#B0BEC5",
                "red",
                "#B0BEC5",
                "#B0BEC5",
                "#B0BEC5",
                "#B0BEC5",
                "#B0BEC5",
                "#B0BEC5",
                "#B0BEC5",
                "#B0BEC5",
                "#B0BEC5",
                "#B0BEC5"
               ]
              ]
             }
            ],
            "label": "Topic 23",
            "method": "update"
           },
           {
            "args": [
             {
              "marker.color": [
               [
                "#B0BEC5",
                "#B0BEC5",
                "#B0BEC5",
                "#B0BEC5",
                "#B0BEC5",
                "#B0BEC5",
                "#B0BEC5",
                "#B0BEC5",
                "#B0BEC5",
                "#B0BEC5",
                "#B0BEC5",
                "#B0BEC5",
                "#B0BEC5",
                "#B0BEC5",
                "#B0BEC5",
                "#B0BEC5",
                "#B0BEC5",
                "#B0BEC5",
                "#B0BEC5",
                "#B0BEC5",
                "#B0BEC5",
                "#B0BEC5",
                "#B0BEC5",
                "#B0BEC5",
                "red",
                "#B0BEC5",
                "#B0BEC5",
                "#B0BEC5",
                "#B0BEC5",
                "#B0BEC5",
                "#B0BEC5",
                "#B0BEC5",
                "#B0BEC5",
                "#B0BEC5"
               ]
              ]
             }
            ],
            "label": "Topic 24",
            "method": "update"
           },
           {
            "args": [
             {
              "marker.color": [
               [
                "#B0BEC5",
                "#B0BEC5",
                "#B0BEC5",
                "#B0BEC5",
                "#B0BEC5",
                "#B0BEC5",
                "#B0BEC5",
                "#B0BEC5",
                "#B0BEC5",
                "#B0BEC5",
                "#B0BEC5",
                "#B0BEC5",
                "#B0BEC5",
                "#B0BEC5",
                "#B0BEC5",
                "#B0BEC5",
                "#B0BEC5",
                "#B0BEC5",
                "#B0BEC5",
                "#B0BEC5",
                "#B0BEC5",
                "#B0BEC5",
                "#B0BEC5",
                "#B0BEC5",
                "#B0BEC5",
                "red",
                "#B0BEC5",
                "#B0BEC5",
                "#B0BEC5",
                "#B0BEC5",
                "#B0BEC5",
                "#B0BEC5",
                "#B0BEC5",
                "#B0BEC5"
               ]
              ]
             }
            ],
            "label": "Topic 25",
            "method": "update"
           },
           {
            "args": [
             {
              "marker.color": [
               [
                "#B0BEC5",
                "#B0BEC5",
                "#B0BEC5",
                "#B0BEC5",
                "#B0BEC5",
                "#B0BEC5",
                "#B0BEC5",
                "#B0BEC5",
                "#B0BEC5",
                "#B0BEC5",
                "#B0BEC5",
                "#B0BEC5",
                "#B0BEC5",
                "#B0BEC5",
                "#B0BEC5",
                "#B0BEC5",
                "#B0BEC5",
                "#B0BEC5",
                "#B0BEC5",
                "#B0BEC5",
                "#B0BEC5",
                "#B0BEC5",
                "#B0BEC5",
                "#B0BEC5",
                "#B0BEC5",
                "#B0BEC5",
                "red",
                "#B0BEC5",
                "#B0BEC5",
                "#B0BEC5",
                "#B0BEC5",
                "#B0BEC5",
                "#B0BEC5",
                "#B0BEC5"
               ]
              ]
             }
            ],
            "label": "Topic 26",
            "method": "update"
           },
           {
            "args": [
             {
              "marker.color": [
               [
                "#B0BEC5",
                "#B0BEC5",
                "#B0BEC5",
                "#B0BEC5",
                "#B0BEC5",
                "#B0BEC5",
                "#B0BEC5",
                "#B0BEC5",
                "#B0BEC5",
                "#B0BEC5",
                "#B0BEC5",
                "#B0BEC5",
                "#B0BEC5",
                "#B0BEC5",
                "#B0BEC5",
                "#B0BEC5",
                "#B0BEC5",
                "#B0BEC5",
                "#B0BEC5",
                "#B0BEC5",
                "#B0BEC5",
                "#B0BEC5",
                "#B0BEC5",
                "#B0BEC5",
                "#B0BEC5",
                "#B0BEC5",
                "#B0BEC5",
                "red",
                "#B0BEC5",
                "#B0BEC5",
                "#B0BEC5",
                "#B0BEC5",
                "#B0BEC5",
                "#B0BEC5"
               ]
              ]
             }
            ],
            "label": "Topic 27",
            "method": "update"
           },
           {
            "args": [
             {
              "marker.color": [
               [
                "#B0BEC5",
                "#B0BEC5",
                "#B0BEC5",
                "#B0BEC5",
                "#B0BEC5",
                "#B0BEC5",
                "#B0BEC5",
                "#B0BEC5",
                "#B0BEC5",
                "#B0BEC5",
                "#B0BEC5",
                "#B0BEC5",
                "#B0BEC5",
                "#B0BEC5",
                "#B0BEC5",
                "#B0BEC5",
                "#B0BEC5",
                "#B0BEC5",
                "#B0BEC5",
                "#B0BEC5",
                "#B0BEC5",
                "#B0BEC5",
                "#B0BEC5",
                "#B0BEC5",
                "#B0BEC5",
                "#B0BEC5",
                "#B0BEC5",
                "#B0BEC5",
                "red",
                "#B0BEC5",
                "#B0BEC5",
                "#B0BEC5",
                "#B0BEC5",
                "#B0BEC5"
               ]
              ]
             }
            ],
            "label": "Topic 28",
            "method": "update"
           },
           {
            "args": [
             {
              "marker.color": [
               [
                "#B0BEC5",
                "#B0BEC5",
                "#B0BEC5",
                "#B0BEC5",
                "#B0BEC5",
                "#B0BEC5",
                "#B0BEC5",
                "#B0BEC5",
                "#B0BEC5",
                "#B0BEC5",
                "#B0BEC5",
                "#B0BEC5",
                "#B0BEC5",
                "#B0BEC5",
                "#B0BEC5",
                "#B0BEC5",
                "#B0BEC5",
                "#B0BEC5",
                "#B0BEC5",
                "#B0BEC5",
                "#B0BEC5",
                "#B0BEC5",
                "#B0BEC5",
                "#B0BEC5",
                "#B0BEC5",
                "#B0BEC5",
                "#B0BEC5",
                "#B0BEC5",
                "#B0BEC5",
                "red",
                "#B0BEC5",
                "#B0BEC5",
                "#B0BEC5",
                "#B0BEC5"
               ]
              ]
             }
            ],
            "label": "Topic 29",
            "method": "update"
           },
           {
            "args": [
             {
              "marker.color": [
               [
                "#B0BEC5",
                "#B0BEC5",
                "#B0BEC5",
                "#B0BEC5",
                "#B0BEC5",
                "#B0BEC5",
                "#B0BEC5",
                "#B0BEC5",
                "#B0BEC5",
                "#B0BEC5",
                "#B0BEC5",
                "#B0BEC5",
                "#B0BEC5",
                "#B0BEC5",
                "#B0BEC5",
                "#B0BEC5",
                "#B0BEC5",
                "#B0BEC5",
                "#B0BEC5",
                "#B0BEC5",
                "#B0BEC5",
                "#B0BEC5",
                "#B0BEC5",
                "#B0BEC5",
                "#B0BEC5",
                "#B0BEC5",
                "#B0BEC5",
                "#B0BEC5",
                "#B0BEC5",
                "#B0BEC5",
                "red",
                "#B0BEC5",
                "#B0BEC5",
                "#B0BEC5"
               ]
              ]
             }
            ],
            "label": "Topic 30",
            "method": "update"
           },
           {
            "args": [
             {
              "marker.color": [
               [
                "#B0BEC5",
                "#B0BEC5",
                "#B0BEC5",
                "#B0BEC5",
                "#B0BEC5",
                "#B0BEC5",
                "#B0BEC5",
                "#B0BEC5",
                "#B0BEC5",
                "#B0BEC5",
                "#B0BEC5",
                "#B0BEC5",
                "#B0BEC5",
                "#B0BEC5",
                "#B0BEC5",
                "#B0BEC5",
                "#B0BEC5",
                "#B0BEC5",
                "#B0BEC5",
                "#B0BEC5",
                "#B0BEC5",
                "#B0BEC5",
                "#B0BEC5",
                "#B0BEC5",
                "#B0BEC5",
                "#B0BEC5",
                "#B0BEC5",
                "#B0BEC5",
                "#B0BEC5",
                "#B0BEC5",
                "#B0BEC5",
                "red",
                "#B0BEC5",
                "#B0BEC5"
               ]
              ]
             }
            ],
            "label": "Topic 31",
            "method": "update"
           },
           {
            "args": [
             {
              "marker.color": [
               [
                "#B0BEC5",
                "#B0BEC5",
                "#B0BEC5",
                "#B0BEC5",
                "#B0BEC5",
                "#B0BEC5",
                "#B0BEC5",
                "#B0BEC5",
                "#B0BEC5",
                "#B0BEC5",
                "#B0BEC5",
                "#B0BEC5",
                "#B0BEC5",
                "#B0BEC5",
                "#B0BEC5",
                "#B0BEC5",
                "#B0BEC5",
                "#B0BEC5",
                "#B0BEC5",
                "#B0BEC5",
                "#B0BEC5",
                "#B0BEC5",
                "#B0BEC5",
                "#B0BEC5",
                "#B0BEC5",
                "#B0BEC5",
                "#B0BEC5",
                "#B0BEC5",
                "#B0BEC5",
                "#B0BEC5",
                "#B0BEC5",
                "#B0BEC5",
                "red",
                "#B0BEC5"
               ]
              ]
             }
            ],
            "label": "Topic 32",
            "method": "update"
           },
           {
            "args": [
             {
              "marker.color": [
               [
                "#B0BEC5",
                "#B0BEC5",
                "#B0BEC5",
                "#B0BEC5",
                "#B0BEC5",
                "#B0BEC5",
                "#B0BEC5",
                "#B0BEC5",
                "#B0BEC5",
                "#B0BEC5",
                "#B0BEC5",
                "#B0BEC5",
                "#B0BEC5",
                "#B0BEC5",
                "#B0BEC5",
                "#B0BEC5",
                "#B0BEC5",
                "#B0BEC5",
                "#B0BEC5",
                "#B0BEC5",
                "#B0BEC5",
                "#B0BEC5",
                "#B0BEC5",
                "#B0BEC5",
                "#B0BEC5",
                "#B0BEC5",
                "#B0BEC5",
                "#B0BEC5",
                "#B0BEC5",
                "#B0BEC5",
                "#B0BEC5",
                "#B0BEC5",
                "#B0BEC5",
                "red"
               ]
              ]
             }
            ],
            "label": "Topic 33",
            "method": "update"
           }
          ]
         }
        ],
        "template": {
         "data": {
          "bar": [
           {
            "error_x": {
             "color": "rgb(36,36,36)"
            },
            "error_y": {
             "color": "rgb(36,36,36)"
            },
            "marker": {
             "line": {
              "color": "white",
              "width": 0.5
             },
             "pattern": {
              "fillmode": "overlay",
              "size": 10,
              "solidity": 0.2
             }
            },
            "type": "bar"
           }
          ],
          "barpolar": [
           {
            "marker": {
             "line": {
              "color": "white",
              "width": 0.5
             },
             "pattern": {
              "fillmode": "overlay",
              "size": 10,
              "solidity": 0.2
             }
            },
            "type": "barpolar"
           }
          ],
          "carpet": [
           {
            "aaxis": {
             "endlinecolor": "rgb(36,36,36)",
             "gridcolor": "white",
             "linecolor": "white",
             "minorgridcolor": "white",
             "startlinecolor": "rgb(36,36,36)"
            },
            "baxis": {
             "endlinecolor": "rgb(36,36,36)",
             "gridcolor": "white",
             "linecolor": "white",
             "minorgridcolor": "white",
             "startlinecolor": "rgb(36,36,36)"
            },
            "type": "carpet"
           }
          ],
          "choropleth": [
           {
            "colorbar": {
             "outlinewidth": 1,
             "tickcolor": "rgb(36,36,36)",
             "ticks": "outside"
            },
            "type": "choropleth"
           }
          ],
          "contour": [
           {
            "colorbar": {
             "outlinewidth": 1,
             "tickcolor": "rgb(36,36,36)",
             "ticks": "outside"
            },
            "colorscale": [
             [
              0,
              "#440154"
             ],
             [
              0.1111111111111111,
              "#482878"
             ],
             [
              0.2222222222222222,
              "#3e4989"
             ],
             [
              0.3333333333333333,
              "#31688e"
             ],
             [
              0.4444444444444444,
              "#26828e"
             ],
             [
              0.5555555555555556,
              "#1f9e89"
             ],
             [
              0.6666666666666666,
              "#35b779"
             ],
             [
              0.7777777777777778,
              "#6ece58"
             ],
             [
              0.8888888888888888,
              "#b5de2b"
             ],
             [
              1,
              "#fde725"
             ]
            ],
            "type": "contour"
           }
          ],
          "contourcarpet": [
           {
            "colorbar": {
             "outlinewidth": 1,
             "tickcolor": "rgb(36,36,36)",
             "ticks": "outside"
            },
            "type": "contourcarpet"
           }
          ],
          "heatmap": [
           {
            "colorbar": {
             "outlinewidth": 1,
             "tickcolor": "rgb(36,36,36)",
             "ticks": "outside"
            },
            "colorscale": [
             [
              0,
              "#440154"
             ],
             [
              0.1111111111111111,
              "#482878"
             ],
             [
              0.2222222222222222,
              "#3e4989"
             ],
             [
              0.3333333333333333,
              "#31688e"
             ],
             [
              0.4444444444444444,
              "#26828e"
             ],
             [
              0.5555555555555556,
              "#1f9e89"
             ],
             [
              0.6666666666666666,
              "#35b779"
             ],
             [
              0.7777777777777778,
              "#6ece58"
             ],
             [
              0.8888888888888888,
              "#b5de2b"
             ],
             [
              1,
              "#fde725"
             ]
            ],
            "type": "heatmap"
           }
          ],
          "heatmapgl": [
           {
            "colorbar": {
             "outlinewidth": 1,
             "tickcolor": "rgb(36,36,36)",
             "ticks": "outside"
            },
            "colorscale": [
             [
              0,
              "#440154"
             ],
             [
              0.1111111111111111,
              "#482878"
             ],
             [
              0.2222222222222222,
              "#3e4989"
             ],
             [
              0.3333333333333333,
              "#31688e"
             ],
             [
              0.4444444444444444,
              "#26828e"
             ],
             [
              0.5555555555555556,
              "#1f9e89"
             ],
             [
              0.6666666666666666,
              "#35b779"
             ],
             [
              0.7777777777777778,
              "#6ece58"
             ],
             [
              0.8888888888888888,
              "#b5de2b"
             ],
             [
              1,
              "#fde725"
             ]
            ],
            "type": "heatmapgl"
           }
          ],
          "histogram": [
           {
            "marker": {
             "line": {
              "color": "white",
              "width": 0.6
             }
            },
            "type": "histogram"
           }
          ],
          "histogram2d": [
           {
            "colorbar": {
             "outlinewidth": 1,
             "tickcolor": "rgb(36,36,36)",
             "ticks": "outside"
            },
            "colorscale": [
             [
              0,
              "#440154"
             ],
             [
              0.1111111111111111,
              "#482878"
             ],
             [
              0.2222222222222222,
              "#3e4989"
             ],
             [
              0.3333333333333333,
              "#31688e"
             ],
             [
              0.4444444444444444,
              "#26828e"
             ],
             [
              0.5555555555555556,
              "#1f9e89"
             ],
             [
              0.6666666666666666,
              "#35b779"
             ],
             [
              0.7777777777777778,
              "#6ece58"
             ],
             [
              0.8888888888888888,
              "#b5de2b"
             ],
             [
              1,
              "#fde725"
             ]
            ],
            "type": "histogram2d"
           }
          ],
          "histogram2dcontour": [
           {
            "colorbar": {
             "outlinewidth": 1,
             "tickcolor": "rgb(36,36,36)",
             "ticks": "outside"
            },
            "colorscale": [
             [
              0,
              "#440154"
             ],
             [
              0.1111111111111111,
              "#482878"
             ],
             [
              0.2222222222222222,
              "#3e4989"
             ],
             [
              0.3333333333333333,
              "#31688e"
             ],
             [
              0.4444444444444444,
              "#26828e"
             ],
             [
              0.5555555555555556,
              "#1f9e89"
             ],
             [
              0.6666666666666666,
              "#35b779"
             ],
             [
              0.7777777777777778,
              "#6ece58"
             ],
             [
              0.8888888888888888,
              "#b5de2b"
             ],
             [
              1,
              "#fde725"
             ]
            ],
            "type": "histogram2dcontour"
           }
          ],
          "mesh3d": [
           {
            "colorbar": {
             "outlinewidth": 1,
             "tickcolor": "rgb(36,36,36)",
             "ticks": "outside"
            },
            "type": "mesh3d"
           }
          ],
          "parcoords": [
           {
            "line": {
             "colorbar": {
              "outlinewidth": 1,
              "tickcolor": "rgb(36,36,36)",
              "ticks": "outside"
             }
            },
            "type": "parcoords"
           }
          ],
          "pie": [
           {
            "automargin": true,
            "type": "pie"
           }
          ],
          "scatter": [
           {
            "fillpattern": {
             "fillmode": "overlay",
             "size": 10,
             "solidity": 0.2
            },
            "type": "scatter"
           }
          ],
          "scatter3d": [
           {
            "line": {
             "colorbar": {
              "outlinewidth": 1,
              "tickcolor": "rgb(36,36,36)",
              "ticks": "outside"
             }
            },
            "marker": {
             "colorbar": {
              "outlinewidth": 1,
              "tickcolor": "rgb(36,36,36)",
              "ticks": "outside"
             }
            },
            "type": "scatter3d"
           }
          ],
          "scattercarpet": [
           {
            "marker": {
             "colorbar": {
              "outlinewidth": 1,
              "tickcolor": "rgb(36,36,36)",
              "ticks": "outside"
             }
            },
            "type": "scattercarpet"
           }
          ],
          "scattergeo": [
           {
            "marker": {
             "colorbar": {
              "outlinewidth": 1,
              "tickcolor": "rgb(36,36,36)",
              "ticks": "outside"
             }
            },
            "type": "scattergeo"
           }
          ],
          "scattergl": [
           {
            "marker": {
             "colorbar": {
              "outlinewidth": 1,
              "tickcolor": "rgb(36,36,36)",
              "ticks": "outside"
             }
            },
            "type": "scattergl"
           }
          ],
          "scattermapbox": [
           {
            "marker": {
             "colorbar": {
              "outlinewidth": 1,
              "tickcolor": "rgb(36,36,36)",
              "ticks": "outside"
             }
            },
            "type": "scattermapbox"
           }
          ],
          "scatterpolar": [
           {
            "marker": {
             "colorbar": {
              "outlinewidth": 1,
              "tickcolor": "rgb(36,36,36)",
              "ticks": "outside"
             }
            },
            "type": "scatterpolar"
           }
          ],
          "scatterpolargl": [
           {
            "marker": {
             "colorbar": {
              "outlinewidth": 1,
              "tickcolor": "rgb(36,36,36)",
              "ticks": "outside"
             }
            },
            "type": "scatterpolargl"
           }
          ],
          "scatterternary": [
           {
            "marker": {
             "colorbar": {
              "outlinewidth": 1,
              "tickcolor": "rgb(36,36,36)",
              "ticks": "outside"
             }
            },
            "type": "scatterternary"
           }
          ],
          "surface": [
           {
            "colorbar": {
             "outlinewidth": 1,
             "tickcolor": "rgb(36,36,36)",
             "ticks": "outside"
            },
            "colorscale": [
             [
              0,
              "#440154"
             ],
             [
              0.1111111111111111,
              "#482878"
             ],
             [
              0.2222222222222222,
              "#3e4989"
             ],
             [
              0.3333333333333333,
              "#31688e"
             ],
             [
              0.4444444444444444,
              "#26828e"
             ],
             [
              0.5555555555555556,
              "#1f9e89"
             ],
             [
              0.6666666666666666,
              "#35b779"
             ],
             [
              0.7777777777777778,
              "#6ece58"
             ],
             [
              0.8888888888888888,
              "#b5de2b"
             ],
             [
              1,
              "#fde725"
             ]
            ],
            "type": "surface"
           }
          ],
          "table": [
           {
            "cells": {
             "fill": {
              "color": "rgb(237,237,237)"
             },
             "line": {
              "color": "white"
             }
            },
            "header": {
             "fill": {
              "color": "rgb(217,217,217)"
             },
             "line": {
              "color": "white"
             }
            },
            "type": "table"
           }
          ]
         },
         "layout": {
          "annotationdefaults": {
           "arrowhead": 0,
           "arrowwidth": 1
          },
          "autotypenumbers": "strict",
          "coloraxis": {
           "colorbar": {
            "outlinewidth": 1,
            "tickcolor": "rgb(36,36,36)",
            "ticks": "outside"
           }
          },
          "colorscale": {
           "diverging": [
            [
             0,
             "rgb(103,0,31)"
            ],
            [
             0.1,
             "rgb(178,24,43)"
            ],
            [
             0.2,
             "rgb(214,96,77)"
            ],
            [
             0.3,
             "rgb(244,165,130)"
            ],
            [
             0.4,
             "rgb(253,219,199)"
            ],
            [
             0.5,
             "rgb(247,247,247)"
            ],
            [
             0.6,
             "rgb(209,229,240)"
            ],
            [
             0.7,
             "rgb(146,197,222)"
            ],
            [
             0.8,
             "rgb(67,147,195)"
            ],
            [
             0.9,
             "rgb(33,102,172)"
            ],
            [
             1,
             "rgb(5,48,97)"
            ]
           ],
           "sequential": [
            [
             0,
             "#440154"
            ],
            [
             0.1111111111111111,
             "#482878"
            ],
            [
             0.2222222222222222,
             "#3e4989"
            ],
            [
             0.3333333333333333,
             "#31688e"
            ],
            [
             0.4444444444444444,
             "#26828e"
            ],
            [
             0.5555555555555556,
             "#1f9e89"
            ],
            [
             0.6666666666666666,
             "#35b779"
            ],
            [
             0.7777777777777778,
             "#6ece58"
            ],
            [
             0.8888888888888888,
             "#b5de2b"
            ],
            [
             1,
             "#fde725"
            ]
           ],
           "sequentialminus": [
            [
             0,
             "#440154"
            ],
            [
             0.1111111111111111,
             "#482878"
            ],
            [
             0.2222222222222222,
             "#3e4989"
            ],
            [
             0.3333333333333333,
             "#31688e"
            ],
            [
             0.4444444444444444,
             "#26828e"
            ],
            [
             0.5555555555555556,
             "#1f9e89"
            ],
            [
             0.6666666666666666,
             "#35b779"
            ],
            [
             0.7777777777777778,
             "#6ece58"
            ],
            [
             0.8888888888888888,
             "#b5de2b"
            ],
            [
             1,
             "#fde725"
            ]
           ]
          },
          "colorway": [
           "#1F77B4",
           "#FF7F0E",
           "#2CA02C",
           "#D62728",
           "#9467BD",
           "#8C564B",
           "#E377C2",
           "#7F7F7F",
           "#BCBD22",
           "#17BECF"
          ],
          "font": {
           "color": "rgb(36,36,36)"
          },
          "geo": {
           "bgcolor": "white",
           "lakecolor": "white",
           "landcolor": "white",
           "showlakes": true,
           "showland": true,
           "subunitcolor": "white"
          },
          "hoverlabel": {
           "align": "left"
          },
          "hovermode": "closest",
          "mapbox": {
           "style": "light"
          },
          "paper_bgcolor": "white",
          "plot_bgcolor": "white",
          "polar": {
           "angularaxis": {
            "gridcolor": "rgb(232,232,232)",
            "linecolor": "rgb(36,36,36)",
            "showgrid": false,
            "showline": true,
            "ticks": "outside"
           },
           "bgcolor": "white",
           "radialaxis": {
            "gridcolor": "rgb(232,232,232)",
            "linecolor": "rgb(36,36,36)",
            "showgrid": false,
            "showline": true,
            "ticks": "outside"
           }
          },
          "scene": {
           "xaxis": {
            "backgroundcolor": "white",
            "gridcolor": "rgb(232,232,232)",
            "gridwidth": 2,
            "linecolor": "rgb(36,36,36)",
            "showbackground": true,
            "showgrid": false,
            "showline": true,
            "ticks": "outside",
            "zeroline": false,
            "zerolinecolor": "rgb(36,36,36)"
           },
           "yaxis": {
            "backgroundcolor": "white",
            "gridcolor": "rgb(232,232,232)",
            "gridwidth": 2,
            "linecolor": "rgb(36,36,36)",
            "showbackground": true,
            "showgrid": false,
            "showline": true,
            "ticks": "outside",
            "zeroline": false,
            "zerolinecolor": "rgb(36,36,36)"
           },
           "zaxis": {
            "backgroundcolor": "white",
            "gridcolor": "rgb(232,232,232)",
            "gridwidth": 2,
            "linecolor": "rgb(36,36,36)",
            "showbackground": true,
            "showgrid": false,
            "showline": true,
            "ticks": "outside",
            "zeroline": false,
            "zerolinecolor": "rgb(36,36,36)"
           }
          },
          "shapedefaults": {
           "fillcolor": "black",
           "line": {
            "width": 0
           },
           "opacity": 0.3
          },
          "ternary": {
           "aaxis": {
            "gridcolor": "rgb(232,232,232)",
            "linecolor": "rgb(36,36,36)",
            "showgrid": false,
            "showline": true,
            "ticks": "outside"
           },
           "baxis": {
            "gridcolor": "rgb(232,232,232)",
            "linecolor": "rgb(36,36,36)",
            "showgrid": false,
            "showline": true,
            "ticks": "outside"
           },
           "bgcolor": "white",
           "caxis": {
            "gridcolor": "rgb(232,232,232)",
            "linecolor": "rgb(36,36,36)",
            "showgrid": false,
            "showline": true,
            "ticks": "outside"
           }
          },
          "title": {
           "x": 0.05
          },
          "xaxis": {
           "automargin": true,
           "gridcolor": "rgb(232,232,232)",
           "linecolor": "rgb(36,36,36)",
           "showgrid": false,
           "showline": true,
           "ticks": "outside",
           "title": {
            "standoff": 15
           },
           "zeroline": false,
           "zerolinecolor": "rgb(36,36,36)"
          },
          "yaxis": {
           "automargin": true,
           "gridcolor": "rgb(232,232,232)",
           "linecolor": "rgb(36,36,36)",
           "showgrid": false,
           "showline": true,
           "ticks": "outside",
           "title": {
            "standoff": 15
           },
           "zeroline": false,
           "zerolinecolor": "rgb(36,36,36)"
          }
         }
        },
        "title": {
         "font": {
          "color": "Black",
          "size": 22
         },
         "text": "<b>Intertopic Distance Map</b>",
         "x": 0.5,
         "xanchor": "center",
         "y": 0.95,
         "yanchor": "top"
        },
        "width": 650,
        "xaxis": {
         "anchor": "y",
         "autorange": false,
         "domain": [
          0,
          1
         ],
         "range": [
          -3.6969702363014223,
          15.42949275970459
         ],
         "title": {
          "text": ""
         },
         "type": "linear",
         "visible": false
        },
        "yaxis": {
         "anchor": "x",
         "autorange": false,
         "domain": [
          0,
          1
         ],
         "range": [
          -13.975605487823486,
          15.861974382400513
         ],
         "title": {
          "text": ""
         },
         "type": "linear",
         "visible": false
        }
       }
      },
      "image/png": "[encoded data removed]",
      "text/html": [
       "<div>                            <div id=\"761d8a9e-1566-42ee-bb0a-0df3a715760b\" class=\"plotly-graph-div\" style=\"height:650px; width:650px;\"></div>            <script type=\"text/javascript\">                require([\"plotly\"], function(Plotly) {                    window.PLOTLYENV=window.PLOTLYENV || {};                                    if (document.getElementById(\"761d8a9e-1566-42ee-bb0a-0df3a715760b\")) {                    Plotly.newPlot(                        \"761d8a9e-1566-42ee-bb0a-0df3a715760b\",                        [{\"customdata\":[[0,\"klimaschutz | dazu | uns | sagen | m\\u00fcssen\",615],[1,\"klimaschutz | deutschland | uns | bundesregierung | emissionshandel\",565],[2,\"haushalt | jetzt | milliarden | uns | geld\",394],[3,\"europ\\u00e4ische | europ\\u00e4ischen | deutschland | europa | euro\",342],[4,\"energiepolitik | kernenergie | atomenergie | erneuerbaren | energien\",288],[5,\"gesagt | doch | sagen | weil | sondern\",264],[6,\"petitionsausschusses | ausschusses | ausschuss | gegenstimmen | gesetzentwurf\",195],[7,\"verkehrspolitik | mobilit\\u00e4t | verkehr | uns | bundesregierung\",167],[8,\"wohnraum | wohnungen | wohngeld | uns | deutschland\",90],[9,\"konferenz | klimaschutz | kioto | bundesregierung | internationalen\",87],[10,\"forstwirtschaft | w\\u00e4ldern | w\\u00e4lder | urw\\u00e4lder | wald\",61],[11,\"ukraine | russland | europa | krieg | deutschland\",50],[12,\"krise | bundesregierung | milliarden | uns | jetzt\",48],[13,\"entwicklungspolitik | weil | uns | aber | sondern\",46],[14,\"innovationen | technologien | bundesregierung | hightech | industrie\",44],[15,\"konferenz | l\\u00e4ndern | afrika | entwicklungsl\\u00e4ndern | entwicklungsl\\u00e4nder\",33],[16,\"pandemie | coronapandemie | krise | klimaschutz | uns\",32],[17,\"senioren | abgeordneten | abgeordnete | abgeordneter | geburtstag\",26],[18,\"fukushima | katastrophe | tschernobyl | atomausstieg | kernkraftwerke\",24],[19,\"energieversorgung | energiewende | energien | k\\u00f6nnen | erneuerbaren\",24],[20,\"weil | uns | haben | l\\u00e4nder | heute\",23],[21,\"stadtentwicklungspolitik | st\\u00e4dtebauf\\u00f6rderung | stadtentwicklung | stadtsanierung | st\\u00e4dten\",23],[22,\"maritime | maritimen | meerespolitik | schiffbau | ozeane\",20],[23,\"biokraftstoffstrategie | biokraftstoff | biokraftstoffe | biokraftstoffen | biodiesel\",18],[24,\"energiegewinnung | energieeffizienz | energiewende | energien | energie\",15],[25,\"luftverkehrswirtschaft | luftverkehr | luftverkehrsstandort | flugverkehrs | flughafen\",15],[26,\"klimafinanzierung | klimaschutzinitiative | klimaschutzma\\u00dfnahmen | klimaschutz | milliarden\",15],[27,\"gesagt | minister | sagen | diesem | einem\",14],[28,\"biodiversit\\u00e4t | naturschutz | natur | biologischen | biologische\",13],[29,\"bali | konferenz | entwicklungsl\\u00e4nder | klimaschutz | bundesregierung\",13],[30,\"tourismuspolitik | tourismuswirtschaft | tourismusbranche | tourismusstrategie | tourismus\",13],[31,\"fl\\u00fcchtlinge | europ\\u00e4ische | europ\\u00e4ischen | europa | migration\",13],[32,\"gro\\u00dfbritannien | briten | brexit | europ\\u00e4ische | europ\\u00e4ischen\",13],[33,\"demokratie | wahlrecht | bundesregierung | wir | uns\",12]],\"hovertemplate\":\"\\u003cb\\u003eTopic %{customdata[0]}\\u003c\\u002fb\\u003e\\u003cbr\\u003e%{customdata[1]}\\u003cbr\\u003eSize: %{customdata[2]}\",\"legendgroup\":\"\",\"marker\":{\"color\":\"#B0BEC5\",\"size\":[615,565,394,342,288,264,195,167,90,87,61,50,48,46,44,33,32,26,24,24,23,23,20,18,15,15,15,14,13,13,13,13,13,12],\"sizemode\":\"area\",\"sizeref\":0.384375,\"symbol\":\"circle\",\"line\":{\"color\":\"DarkSlateGrey\",\"width\":2}},\"mode\":\"markers\",\"name\":\"\",\"orientation\":\"v\",\"showlegend\":false,\"x\":[1.542293667793274,3.939021110534668,0.8464638590812683,4.137564182281494,1.962207317352295,6.03488826751709,5.495652198791504,-3.214756727218628,13.416950225830078,2.463954210281372,1.3932799100875854,4.017868518829346,0.4549834728240967,5.614626884460449,1.9169665575027466,2.8863730430603027,0.2364584356546402,6.271947860717773,10.599156379699707,2.081876039505005,10.599119186401367,13.416716575622559,4.222426414489746,3.804426908493042,2.3590645790100098,-2.942131519317627,3.8994905948638916,6.0416083335876465,1.2424427270889282,2.656390905380249,-3.1681981086730957,4.297644138336182,4.62709903717041,1.6269760131835938],\"xaxis\":\"x\",\"y\":[0.6073582172393799,-2.5303664207458496,0.4204595685005188,-3.4789726734161377,-0.6006982922554016,13.258854866027832,13.793021202087402,10.848738670349121,2.3713526725769043,0.6985535025596619,1.1730341911315918,-3.6668875217437744,0.2183539867401123,13.674736022949219,-0.7590209245681763,0.5893741250038147,0.012835354544222355,13.020875930786133,-12.152700424194336,-0.36972829699516296,-12.15264892578125,2.371115207672119,-3.2395503520965576,-2.3573193550109863,-0.7073212265968323,11.121621131896973,-2.4322690963745117,13.252416610717773,1.4913136959075928,0.8547795414924622,10.894977569580078,-3.261423349380493,-3.541541337966919,0.5371429920196533],\"yaxis\":\"y\",\"type\":\"scatter\"}],                        {\"template\":{\"data\":{\"barpolar\":[{\"marker\":{\"line\":{\"color\":\"white\",\"width\":0.5},\"pattern\":{\"fillmode\":\"overlay\",\"size\":10,\"solidity\":0.2}},\"type\":\"barpolar\"}],\"bar\":[{\"error_x\":{\"color\":\"rgb(36,36,36)\"},\"error_y\":{\"color\":\"rgb(36,36,36)\"},\"marker\":{\"line\":{\"color\":\"white\",\"width\":0.5},\"pattern\":{\"fillmode\":\"overlay\",\"size\":10,\"solidity\":0.2}},\"type\":\"bar\"}],\"carpet\":[{\"aaxis\":{\"endlinecolor\":\"rgb(36,36,36)\",\"gridcolor\":\"white\",\"linecolor\":\"white\",\"minorgridcolor\":\"white\",\"startlinecolor\":\"rgb(36,36,36)\"},\"baxis\":{\"endlinecolor\":\"rgb(36,36,36)\",\"gridcolor\":\"white\",\"linecolor\":\"white\",\"minorgridcolor\":\"white\",\"startlinecolor\":\"rgb(36,36,36)\"},\"type\":\"carpet\"}],\"choropleth\":[{\"colorbar\":{\"outlinewidth\":1,\"tickcolor\":\"rgb(36,36,36)\",\"ticks\":\"outside\"},\"type\":\"choropleth\"}],\"contourcarpet\":[{\"colorbar\":{\"outlinewidth\":1,\"tickcolor\":\"rgb(36,36,36)\",\"ticks\":\"outside\"},\"type\":\"contourcarpet\"}],\"contour\":[{\"colorbar\":{\"outlinewidth\":1,\"tickcolor\":\"rgb(36,36,36)\",\"ticks\":\"outside\"},\"colorscale\":[[0.0,\"#440154\"],[0.1111111111111111,\"#482878\"],[0.2222222222222222,\"#3e4989\"],[0.3333333333333333,\"#31688e\"],[0.4444444444444444,\"#26828e\"],[0.5555555555555556,\"#1f9e89\"],[0.6666666666666666,\"#35b779\"],[0.7777777777777778,\"#6ece58\"],[0.8888888888888888,\"#b5de2b\"],[1.0,\"#fde725\"]],\"type\":\"contour\"}],\"heatmapgl\":[{\"colorbar\":{\"outlinewidth\":1,\"tickcolor\":\"rgb(36,36,36)\",\"ticks\":\"outside\"},\"colorscale\":[[0.0,\"#440154\"],[0.1111111111111111,\"#482878\"],[0.2222222222222222,\"#3e4989\"],[0.3333333333333333,\"#31688e\"],[0.4444444444444444,\"#26828e\"],[0.5555555555555556,\"#1f9e89\"],[0.6666666666666666,\"#35b779\"],[0.7777777777777778,\"#6ece58\"],[0.8888888888888888,\"#b5de2b\"],[1.0,\"#fde725\"]],\"type\":\"heatmapgl\"}],\"heatmap\":[{\"colorbar\":{\"outlinewidth\":1,\"tickcolor\":\"rgb(36,36,36)\",\"ticks\":\"outside\"},\"colorscale\":[[0.0,\"#440154\"],[0.1111111111111111,\"#482878\"],[0.2222222222222222,\"#3e4989\"],[0.3333333333333333,\"#31688e\"],[0.4444444444444444,\"#26828e\"],[0.5555555555555556,\"#1f9e89\"],[0.6666666666666666,\"#35b779\"],[0.7777777777777778,\"#6ece58\"],[0.8888888888888888,\"#b5de2b\"],[1.0,\"#fde725\"]],\"type\":\"heatmap\"}],\"histogram2dcontour\":[{\"colorbar\":{\"outlinewidth\":1,\"tickcolor\":\"rgb(36,36,36)\",\"ticks\":\"outside\"},\"colorscale\":[[0.0,\"#440154\"],[0.1111111111111111,\"#482878\"],[0.2222222222222222,\"#3e4989\"],[0.3333333333333333,\"#31688e\"],[0.4444444444444444,\"#26828e\"],[0.5555555555555556,\"#1f9e89\"],[0.6666666666666666,\"#35b779\"],[0.7777777777777778,\"#6ece58\"],[0.8888888888888888,\"#b5de2b\"],[1.0,\"#fde725\"]],\"type\":\"histogram2dcontour\"}],\"histogram2d\":[{\"colorbar\":{\"outlinewidth\":1,\"tickcolor\":\"rgb(36,36,36)\",\"ticks\":\"outside\"},\"colorscale\":[[0.0,\"#440154\"],[0.1111111111111111,\"#482878\"],[0.2222222222222222,\"#3e4989\"],[0.3333333333333333,\"#31688e\"],[0.4444444444444444,\"#26828e\"],[0.5555555555555556,\"#1f9e89\"],[0.6666666666666666,\"#35b779\"],[0.7777777777777778,\"#6ece58\"],[0.8888888888888888,\"#b5de2b\"],[1.0,\"#fde725\"]],\"type\":\"histogram2d\"}],\"histogram\":[{\"marker\":{\"line\":{\"color\":\"white\",\"width\":0.6}},\"type\":\"histogram\"}],\"mesh3d\":[{\"colorbar\":{\"outlinewidth\":1,\"tickcolor\":\"rgb(36,36,36)\",\"ticks\":\"outside\"},\"type\":\"mesh3d\"}],\"parcoords\":[{\"line\":{\"colorbar\":{\"outlinewidth\":1,\"tickcolor\":\"rgb(36,36,36)\",\"ticks\":\"outside\"}},\"type\":\"parcoords\"}],\"pie\":[{\"automargin\":true,\"type\":\"pie\"}],\"scatter3d\":[{\"line\":{\"colorbar\":{\"outlinewidth\":1,\"tickcolor\":\"rgb(36,36,36)\",\"ticks\":\"outside\"}},\"marker\":{\"colorbar\":{\"outlinewidth\":1,\"tickcolor\":\"rgb(36,36,36)\",\"ticks\":\"outside\"}},\"type\":\"scatter3d\"}],\"scattercarpet\":[{\"marker\":{\"colorbar\":{\"outlinewidth\":1,\"tickcolor\":\"rgb(36,36,36)\",\"ticks\":\"outside\"}},\"type\":\"scattercarpet\"}],\"scattergeo\":[{\"marker\":{\"colorbar\":{\"outlinewidth\":1,\"tickcolor\":\"rgb(36,36,36)\",\"ticks\":\"outside\"}},\"type\":\"scattergeo\"}],\"scattergl\":[{\"marker\":{\"colorbar\":{\"outlinewidth\":1,\"tickcolor\":\"rgb(36,36,36)\",\"ticks\":\"outside\"}},\"type\":\"scattergl\"}],\"scattermapbox\":[{\"marker\":{\"colorbar\":{\"outlinewidth\":1,\"tickcolor\":\"rgb(36,36,36)\",\"ticks\":\"outside\"}},\"type\":\"scattermapbox\"}],\"scatterpolargl\":[{\"marker\":{\"colorbar\":{\"outlinewidth\":1,\"tickcolor\":\"rgb(36,36,36)\",\"ticks\":\"outside\"}},\"type\":\"scatterpolargl\"}],\"scatterpolar\":[{\"marker\":{\"colorbar\":{\"outlinewidth\":1,\"tickcolor\":\"rgb(36,36,36)\",\"ticks\":\"outside\"}},\"type\":\"scatterpolar\"}],\"scatter\":[{\"fillpattern\":{\"fillmode\":\"overlay\",\"size\":10,\"solidity\":0.2},\"type\":\"scatter\"}],\"scatterternary\":[{\"marker\":{\"colorbar\":{\"outlinewidth\":1,\"tickcolor\":\"rgb(36,36,36)\",\"ticks\":\"outside\"}},\"type\":\"scatterternary\"}],\"surface\":[{\"colorbar\":{\"outlinewidth\":1,\"tickcolor\":\"rgb(36,36,36)\",\"ticks\":\"outside\"},\"colorscale\":[[0.0,\"#440154\"],[0.1111111111111111,\"#482878\"],[0.2222222222222222,\"#3e4989\"],[0.3333333333333333,\"#31688e\"],[0.4444444444444444,\"#26828e\"],[0.5555555555555556,\"#1f9e89\"],[0.6666666666666666,\"#35b779\"],[0.7777777777777778,\"#6ece58\"],[0.8888888888888888,\"#b5de2b\"],[1.0,\"#fde725\"]],\"type\":\"surface\"}],\"table\":[{\"cells\":{\"fill\":{\"color\":\"rgb(237,237,237)\"},\"line\":{\"color\":\"white\"}},\"header\":{\"fill\":{\"color\":\"rgb(217,217,217)\"},\"line\":{\"color\":\"white\"}},\"type\":\"table\"}]},\"layout\":{\"annotationdefaults\":{\"arrowhead\":0,\"arrowwidth\":1},\"autotypenumbers\":\"strict\",\"coloraxis\":{\"colorbar\":{\"outlinewidth\":1,\"tickcolor\":\"rgb(36,36,36)\",\"ticks\":\"outside\"}},\"colorscale\":{\"diverging\":[[0.0,\"rgb(103,0,31)\"],[0.1,\"rgb(178,24,43)\"],[0.2,\"rgb(214,96,77)\"],[0.3,\"rgb(244,165,130)\"],[0.4,\"rgb(253,219,199)\"],[0.5,\"rgb(247,247,247)\"],[0.6,\"rgb(209,229,240)\"],[0.7,\"rgb(146,197,222)\"],[0.8,\"rgb(67,147,195)\"],[0.9,\"rgb(33,102,172)\"],[1.0,\"rgb(5,48,97)\"]],\"sequential\":[[0.0,\"#440154\"],[0.1111111111111111,\"#482878\"],[0.2222222222222222,\"#3e4989\"],[0.3333333333333333,\"#31688e\"],[0.4444444444444444,\"#26828e\"],[0.5555555555555556,\"#1f9e89\"],[0.6666666666666666,\"#35b779\"],[0.7777777777777778,\"#6ece58\"],[0.8888888888888888,\"#b5de2b\"],[1.0,\"#fde725\"]],\"sequentialminus\":[[0.0,\"#440154\"],[0.1111111111111111,\"#482878\"],[0.2222222222222222,\"#3e4989\"],[0.3333333333333333,\"#31688e\"],[0.4444444444444444,\"#26828e\"],[0.5555555555555556,\"#1f9e89\"],[0.6666666666666666,\"#35b779\"],[0.7777777777777778,\"#6ece58\"],[0.8888888888888888,\"#b5de2b\"],[1.0,\"#fde725\"]]},\"colorway\":[\"#1F77B4\",\"#FF7F0E\",\"#2CA02C\",\"#D62728\",\"#9467BD\",\"#8C564B\",\"#E377C2\",\"#7F7F7F\",\"#BCBD22\",\"#17BECF\"],\"font\":{\"color\":\"rgb(36,36,36)\"},\"geo\":{\"bgcolor\":\"white\",\"lakecolor\":\"white\",\"landcolor\":\"white\",\"showlakes\":true,\"showland\":true,\"subunitcolor\":\"white\"},\"hoverlabel\":{\"align\":\"left\"},\"hovermode\":\"closest\",\"mapbox\":{\"style\":\"light\"},\"paper_bgcolor\":\"white\",\"plot_bgcolor\":\"white\",\"polar\":{\"angularaxis\":{\"gridcolor\":\"rgb(232,232,232)\",\"linecolor\":\"rgb(36,36,36)\",\"showgrid\":false,\"showline\":true,\"ticks\":\"outside\"},\"bgcolor\":\"white\",\"radialaxis\":{\"gridcolor\":\"rgb(232,232,232)\",\"linecolor\":\"rgb(36,36,36)\",\"showgrid\":false,\"showline\":true,\"ticks\":\"outside\"}},\"scene\":{\"xaxis\":{\"backgroundcolor\":\"white\",\"gridcolor\":\"rgb(232,232,232)\",\"gridwidth\":2,\"linecolor\":\"rgb(36,36,36)\",\"showbackground\":true,\"showgrid\":false,\"showline\":true,\"ticks\":\"outside\",\"zeroline\":false,\"zerolinecolor\":\"rgb(36,36,36)\"},\"yaxis\":{\"backgroundcolor\":\"white\",\"gridcolor\":\"rgb(232,232,232)\",\"gridwidth\":2,\"linecolor\":\"rgb(36,36,36)\",\"showbackground\":true,\"showgrid\":false,\"showline\":true,\"ticks\":\"outside\",\"zeroline\":false,\"zerolinecolor\":\"rgb(36,36,36)\"},\"zaxis\":{\"backgroundcolor\":\"white\",\"gridcolor\":\"rgb(232,232,232)\",\"gridwidth\":2,\"linecolor\":\"rgb(36,36,36)\",\"showbackground\":true,\"showgrid\":false,\"showline\":true,\"ticks\":\"outside\",\"zeroline\":false,\"zerolinecolor\":\"rgb(36,36,36)\"}},\"shapedefaults\":{\"fillcolor\":\"black\",\"line\":{\"width\":0},\"opacity\":0.3},\"ternary\":{\"aaxis\":{\"gridcolor\":\"rgb(232,232,232)\",\"linecolor\":\"rgb(36,36,36)\",\"showgrid\":false,\"showline\":true,\"ticks\":\"outside\"},\"baxis\":{\"gridcolor\":\"rgb(232,232,232)\",\"linecolor\":\"rgb(36,36,36)\",\"showgrid\":false,\"showline\":true,\"ticks\":\"outside\"},\"bgcolor\":\"white\",\"caxis\":{\"gridcolor\":\"rgb(232,232,232)\",\"linecolor\":\"rgb(36,36,36)\",\"showgrid\":false,\"showline\":true,\"ticks\":\"outside\"}},\"title\":{\"x\":0.05},\"xaxis\":{\"automargin\":true,\"gridcolor\":\"rgb(232,232,232)\",\"linecolor\":\"rgb(36,36,36)\",\"showgrid\":false,\"showline\":true,\"ticks\":\"outside\",\"title\":{\"standoff\":15},\"zeroline\":false,\"zerolinecolor\":\"rgb(36,36,36)\"},\"yaxis\":{\"automargin\":true,\"gridcolor\":\"rgb(232,232,232)\",\"linecolor\":\"rgb(36,36,36)\",\"showgrid\":false,\"showline\":true,\"ticks\":\"outside\",\"title\":{\"standoff\":15},\"zeroline\":false,\"zerolinecolor\":\"rgb(36,36,36)\"}}},\"xaxis\":{\"anchor\":\"y\",\"domain\":[0.0,1.0],\"title\":{\"text\":\"\"},\"visible\":false,\"range\":[-3.6969702363014223,15.42949275970459]},\"yaxis\":{\"anchor\":\"x\",\"domain\":[0.0,1.0],\"title\":{\"text\":\"\"},\"visible\":false,\"range\":[-13.975605487823486,15.861974382400513]},\"legend\":{\"tracegroupgap\":0,\"itemsizing\":\"constant\"},\"margin\":{\"t\":60},\"title\":{\"font\":{\"size\":22,\"color\":\"Black\"},\"text\":\"\\u003cb\\u003eIntertopic Distance Map\\u003c\\u002fb\\u003e\",\"y\":0.95,\"x\":0.5,\"xanchor\":\"center\",\"yanchor\":\"top\"},\"hoverlabel\":{\"font\":{\"size\":16,\"family\":\"Rockwell\"},\"bgcolor\":\"white\"},\"width\":650,\"height\":650,\"sliders\":[{\"active\":0,\"pad\":{\"t\":50},\"steps\":[{\"args\":[{\"marker.color\":[[\"red\",\"#B0BEC5\",\"#B0BEC5\",\"#B0BEC5\",\"#B0BEC5\",\"#B0BEC5\",\"#B0BEC5\",\"#B0BEC5\",\"#B0BEC5\",\"#B0BEC5\",\"#B0BEC5\",\"#B0BEC5\",\"#B0BEC5\",\"#B0BEC5\",\"#B0BEC5\",\"#B0BEC5\",\"#B0BEC5\",\"#B0BEC5\",\"#B0BEC5\",\"#B0BEC5\",\"#B0BEC5\",\"#B0BEC5\",\"#B0BEC5\",\"#B0BEC5\",\"#B0BEC5\",\"#B0BEC5\",\"#B0BEC5\",\"#B0BEC5\",\"#B0BEC5\",\"#B0BEC5\",\"#B0BEC5\",\"#B0BEC5\",\"#B0BEC5\",\"#B0BEC5\"]]}],\"label\":\"Topic 0\",\"method\":\"update\"},{\"args\":[{\"marker.color\":[[\"#B0BEC5\",\"red\",\"#B0BEC5\",\"#B0BEC5\",\"#B0BEC5\",\"#B0BEC5\",\"#B0BEC5\",\"#B0BEC5\",\"#B0BEC5\",\"#B0BEC5\",\"#B0BEC5\",\"#B0BEC5\",\"#B0BEC5\",\"#B0BEC5\",\"#B0BEC5\",\"#B0BEC5\",\"#B0BEC5\",\"#B0BEC5\",\"#B0BEC5\",\"#B0BEC5\",\"#B0BEC5\",\"#B0BEC5\",\"#B0BEC5\",\"#B0BEC5\",\"#B0BEC5\",\"#B0BEC5\",\"#B0BEC5\",\"#B0BEC5\",\"#B0BEC5\",\"#B0BEC5\",\"#B0BEC5\",\"#B0BEC5\",\"#B0BEC5\",\"#B0BEC5\"]]}],\"label\":\"Topic 1\",\"method\":\"update\"},{\"args\":[{\"marker.color\":[[\"#B0BEC5\",\"#B0BEC5\",\"red\",\"#B0BEC5\",\"#B0BEC5\",\"#B0BEC5\",\"#B0BEC5\",\"#B0BEC5\",\"#B0BEC5\",\"#B0BEC5\",\"#B0BEC5\",\"#B0BEC5\",\"#B0BEC5\",\"#B0BEC5\",\"#B0BEC5\",\"#B0BEC5\",\"#B0BEC5\",\"#B0BEC5\",\"#B0BEC5\",\"#B0BEC5\",\"#B0BEC5\",\"#B0BEC5\",\"#B0BEC5\",\"#B0BEC5\",\"#B0BEC5\",\"#B0BEC5\",\"#B0BEC5\",\"#B0BEC5\",\"#B0BEC5\",\"#B0BEC5\",\"#B0BEC5\",\"#B0BEC5\",\"#B0BEC5\",\"#B0BEC5\"]]}],\"label\":\"Topic 2\",\"method\":\"update\"},{\"args\":[{\"marker.color\":[[\"#B0BEC5\",\"#B0BEC5\",\"#B0BEC5\",\"red\",\"#B0BEC5\",\"#B0BEC5\",\"#B0BEC5\",\"#B0BEC5\",\"#B0BEC5\",\"#B0BEC5\",\"#B0BEC5\",\"#B0BEC5\",\"#B0BEC5\",\"#B0BEC5\",\"#B0BEC5\",\"#B0BEC5\",\"#B0BEC5\",\"#B0BEC5\",\"#B0BEC5\",\"#B0BEC5\",\"#B0BEC5\",\"#B0BEC5\",\"#B0BEC5\",\"#B0BEC5\",\"#B0BEC5\",\"#B0BEC5\",\"#B0BEC5\",\"#B0BEC5\",\"#B0BEC5\",\"#B0BEC5\",\"#B0BEC5\",\"#B0BEC5\",\"#B0BEC5\",\"#B0BEC5\"]]}],\"label\":\"Topic 3\",\"method\":\"update\"},{\"args\":[{\"marker.color\":[[\"#B0BEC5\",\"#B0BEC5\",\"#B0BEC5\",\"#B0BEC5\",\"red\",\"#B0BEC5\",\"#B0BEC5\",\"#B0BEC5\",\"#B0BEC5\",\"#B0BEC5\",\"#B0BEC5\",\"#B0BEC5\",\"#B0BEC5\",\"#B0BEC5\",\"#B0BEC5\",\"#B0BEC5\",\"#B0BEC5\",\"#B0BEC5\",\"#B0BEC5\",\"#B0BEC5\",\"#B0BEC5\",\"#B0BEC5\",\"#B0BEC5\",\"#B0BEC5\",\"#B0BEC5\",\"#B0BEC5\",\"#B0BEC5\",\"#B0BEC5\",\"#B0BEC5\",\"#B0BEC5\",\"#B0BEC5\",\"#B0BEC5\",\"#B0BEC5\",\"#B0BEC5\"]]}],\"label\":\"Topic 4\",\"method\":\"update\"},{\"args\":[{\"marker.color\":[[\"#B0BEC5\",\"#B0BEC5\",\"#B0BEC5\",\"#B0BEC5\",\"#B0BEC5\",\"red\",\"#B0BEC5\",\"#B0BEC5\",\"#B0BEC5\",\"#B0BEC5\",\"#B0BEC5\",\"#B0BEC5\",\"#B0BEC5\",\"#B0BEC5\",\"#B0BEC5\",\"#B0BEC5\",\"#B0BEC5\",\"#B0BEC5\",\"#B0BEC5\",\"#B0BEC5\",\"#B0BEC5\",\"#B0BEC5\",\"#B0BEC5\",\"#B0BEC5\",\"#B0BEC5\",\"#B0BEC5\",\"#B0BEC5\",\"#B0BEC5\",\"#B0BEC5\",\"#B0BEC5\",\"#B0BEC5\",\"#B0BEC5\",\"#B0BEC5\",\"#B0BEC5\"]]}],\"label\":\"Topic 5\",\"method\":\"update\"},{\"args\":[{\"marker.color\":[[\"#B0BEC5\",\"#B0BEC5\",\"#B0BEC5\",\"#B0BEC5\",\"#B0BEC5\",\"#B0BEC5\",\"red\",\"#B0BEC5\",\"#B0BEC5\",\"#B0BEC5\",\"#B0BEC5\",\"#B0BEC5\",\"#B0BEC5\",\"#B0BEC5\",\"#B0BEC5\",\"#B0BEC5\",\"#B0BEC5\",\"#B0BEC5\",\"#B0BEC5\",\"#B0BEC5\",\"#B0BEC5\",\"#B0BEC5\",\"#B0BEC5\",\"#B0BEC5\",\"#B0BEC5\",\"#B0BEC5\",\"#B0BEC5\",\"#B0BEC5\",\"#B0BEC5\",\"#B0BEC5\",\"#B0BEC5\",\"#B0BEC5\",\"#B0BEC5\",\"#B0BEC5\"]]}],\"label\":\"Topic 6\",\"method\":\"update\"},{\"args\":[{\"marker.color\":[[\"#B0BEC5\",\"#B0BEC5\",\"#B0BEC5\",\"#B0BEC5\",\"#B0BEC5\",\"#B0BEC5\",\"#B0BEC5\",\"red\",\"#B0BEC5\",\"#B0BEC5\",\"#B0BEC5\",\"#B0BEC5\",\"#B0BEC5\",\"#B0BEC5\",\"#B0BEC5\",\"#B0BEC5\",\"#B0BEC5\",\"#B0BEC5\",\"#B0BEC5\",\"#B0BEC5\",\"#B0BEC5\",\"#B0BEC5\",\"#B0BEC5\",\"#B0BEC5\",\"#B0BEC5\",\"#B0BEC5\",\"#B0BEC5\",\"#B0BEC5\",\"#B0BEC5\",\"#B0BEC5\",\"#B0BEC5\",\"#B0BEC5\",\"#B0BEC5\",\"#B0BEC5\"]]}],\"label\":\"Topic 7\",\"method\":\"update\"},{\"args\":[{\"marker.color\":[[\"#B0BEC5\",\"#B0BEC5\",\"#B0BEC5\",\"#B0BEC5\",\"#B0BEC5\",\"#B0BEC5\",\"#B0BEC5\",\"#B0BEC5\",\"red\",\"#B0BEC5\",\"#B0BEC5\",\"#B0BEC5\",\"#B0BEC5\",\"#B0BEC5\",\"#B0BEC5\",\"#B0BEC5\",\"#B0BEC5\",\"#B0BEC5\",\"#B0BEC5\",\"#B0BEC5\",\"#B0BEC5\",\"#B0BEC5\",\"#B0BEC5\",\"#B0BEC5\",\"#B0BEC5\",\"#B0BEC5\",\"#B0BEC5\",\"#B0BEC5\",\"#B0BEC5\",\"#B0BEC5\",\"#B0BEC5\",\"#B0BEC5\",\"#B0BEC5\",\"#B0BEC5\"]]}],\"label\":\"Topic 8\",\"method\":\"update\"},{\"args\":[{\"marker.color\":[[\"#B0BEC5\",\"#B0BEC5\",\"#B0BEC5\",\"#B0BEC5\",\"#B0BEC5\",\"#B0BEC5\",\"#B0BEC5\",\"#B0BEC5\",\"#B0BEC5\",\"red\",\"#B0BEC5\",\"#B0BEC5\",\"#B0BEC5\",\"#B0BEC5\",\"#B0BEC5\",\"#B0BEC5\",\"#B0BEC5\",\"#B0BEC5\",\"#B0BEC5\",\"#B0BEC5\",\"#B0BEC5\",\"#B0BEC5\",\"#B0BEC5\",\"#B0BEC5\",\"#B0BEC5\",\"#B0BEC5\",\"#B0BEC5\",\"#B0BEC5\",\"#B0BEC5\",\"#B0BEC5\",\"#B0BEC5\",\"#B0BEC5\",\"#B0BEC5\",\"#B0BEC5\"]]}],\"label\":\"Topic 9\",\"method\":\"update\"},{\"args\":[{\"marker.color\":[[\"#B0BEC5\",\"#B0BEC5\",\"#B0BEC5\",\"#B0BEC5\",\"#B0BEC5\",\"#B0BEC5\",\"#B0BEC5\",\"#B0BEC5\",\"#B0BEC5\",\"#B0BEC5\",\"red\",\"#B0BEC5\",\"#B0BEC5\",\"#B0BEC5\",\"#B0BEC5\",\"#B0BEC5\",\"#B0BEC5\",\"#B0BEC5\",\"#B0BEC5\",\"#B0BEC5\",\"#B0BEC5\",\"#B0BEC5\",\"#B0BEC5\",\"#B0BEC5\",\"#B0BEC5\",\"#B0BEC5\",\"#B0BEC5\",\"#B0BEC5\",\"#B0BEC5\",\"#B0BEC5\",\"#B0BEC5\",\"#B0BEC5\",\"#B0BEC5\",\"#B0BEC5\"]]}],\"label\":\"Topic 10\",\"method\":\"update\"},{\"args\":[{\"marker.color\":[[\"#B0BEC5\",\"#B0BEC5\",\"#B0BEC5\",\"#B0BEC5\",\"#B0BEC5\",\"#B0BEC5\",\"#B0BEC5\",\"#B0BEC5\",\"#B0BEC5\",\"#B0BEC5\",\"#B0BEC5\",\"red\",\"#B0BEC5\",\"#B0BEC5\",\"#B0BEC5\",\"#B0BEC5\",\"#B0BEC5\",\"#B0BEC5\",\"#B0BEC5\",\"#B0BEC5\",\"#B0BEC5\",\"#B0BEC5\",\"#B0BEC5\",\"#B0BEC5\",\"#B0BEC5\",\"#B0BEC5\",\"#B0BEC5\",\"#B0BEC5\",\"#B0BEC5\",\"#B0BEC5\",\"#B0BEC5\",\"#B0BEC5\",\"#B0BEC5\",\"#B0BEC5\"]]}],\"label\":\"Topic 11\",\"method\":\"update\"},{\"args\":[{\"marker.color\":[[\"#B0BEC5\",\"#B0BEC5\",\"#B0BEC5\",\"#B0BEC5\",\"#B0BEC5\",\"#B0BEC5\",\"#B0BEC5\",\"#B0BEC5\",\"#B0BEC5\",\"#B0BEC5\",\"#B0BEC5\",\"#B0BEC5\",\"red\",\"#B0BEC5\",\"#B0BEC5\",\"#B0BEC5\",\"#B0BEC5\",\"#B0BEC5\",\"#B0BEC5\",\"#B0BEC5\",\"#B0BEC5\",\"#B0BEC5\",\"#B0BEC5\",\"#B0BEC5\",\"#B0BEC5\",\"#B0BEC5\",\"#B0BEC5\",\"#B0BEC5\",\"#B0BEC5\",\"#B0BEC5\",\"#B0BEC5\",\"#B0BEC5\",\"#B0BEC5\",\"#B0BEC5\"]]}],\"label\":\"Topic 12\",\"method\":\"update\"},{\"args\":[{\"marker.color\":[[\"#B0BEC5\",\"#B0BEC5\",\"#B0BEC5\",\"#B0BEC5\",\"#B0BEC5\",\"#B0BEC5\",\"#B0BEC5\",\"#B0BEC5\",\"#B0BEC5\",\"#B0BEC5\",\"#B0BEC5\",\"#B0BEC5\",\"#B0BEC5\",\"red\",\"#B0BEC5\",\"#B0BEC5\",\"#B0BEC5\",\"#B0BEC5\",\"#B0BEC5\",\"#B0BEC5\",\"#B0BEC5\",\"#B0BEC5\",\"#B0BEC5\",\"#B0BEC5\",\"#B0BEC5\",\"#B0BEC5\",\"#B0BEC5\",\"#B0BEC5\",\"#B0BEC5\",\"#B0BEC5\",\"#B0BEC5\",\"#B0BEC5\",\"#B0BEC5\",\"#B0BEC5\"]]}],\"label\":\"Topic 13\",\"method\":\"update\"},{\"args\":[{\"marker.color\":[[\"#B0BEC5\",\"#B0BEC5\",\"#B0BEC5\",\"#B0BEC5\",\"#B0BEC5\",\"#B0BEC5\",\"#B0BEC5\",\"#B0BEC5\",\"#B0BEC5\",\"#B0BEC5\",\"#B0BEC5\",\"#B0BEC5\",\"#B0BEC5\",\"#B0BEC5\",\"red\",\"#B0BEC5\",\"#B0BEC5\",\"#B0BEC5\",\"#B0BEC5\",\"#B0BEC5\",\"#B0BEC5\",\"#B0BEC5\",\"#B0BEC5\",\"#B0BEC5\",\"#B0BEC5\",\"#B0BEC5\",\"#B0BEC5\",\"#B0BEC5\",\"#B0BEC5\",\"#B0BEC5\",\"#B0BEC5\",\"#B0BEC5\",\"#B0BEC5\",\"#B0BEC5\"]]}],\"label\":\"Topic 14\",\"method\":\"update\"},{\"args\":[{\"marker.color\":[[\"#B0BEC5\",\"#B0BEC5\",\"#B0BEC5\",\"#B0BEC5\",\"#B0BEC5\",\"#B0BEC5\",\"#B0BEC5\",\"#B0BEC5\",\"#B0BEC5\",\"#B0BEC5\",\"#B0BEC5\",\"#B0BEC5\",\"#B0BEC5\",\"#B0BEC5\",\"#B0BEC5\",\"red\",\"#B0BEC5\",\"#B0BEC5\",\"#B0BEC5\",\"#B0BEC5\",\"#B0BEC5\",\"#B0BEC5\",\"#B0BEC5\",\"#B0BEC5\",\"#B0BEC5\",\"#B0BEC5\",\"#B0BEC5\",\"#B0BEC5\",\"#B0BEC5\",\"#B0BEC5\",\"#B0BEC5\",\"#B0BEC5\",\"#B0BEC5\",\"#B0BEC5\"]]}],\"label\":\"Topic 15\",\"method\":\"update\"},{\"args\":[{\"marker.color\":[[\"#B0BEC5\",\"#B0BEC5\",\"#B0BEC5\",\"#B0BEC5\",\"#B0BEC5\",\"#B0BEC5\",\"#B0BEC5\",\"#B0BEC5\",\"#B0BEC5\",\"#B0BEC5\",\"#B0BEC5\",\"#B0BEC5\",\"#B0BEC5\",\"#B0BEC5\",\"#B0BEC5\",\"#B0BEC5\",\"red\",\"#B0BEC5\",\"#B0BEC5\",\"#B0BEC5\",\"#B0BEC5\",\"#B0BEC5\",\"#B0BEC5\",\"#B0BEC5\",\"#B0BEC5\",\"#B0BEC5\",\"#B0BEC5\",\"#B0BEC5\",\"#B0BEC5\",\"#B0BEC5\",\"#B0BEC5\",\"#B0BEC5\",\"#B0BEC5\",\"#B0BEC5\"]]}],\"label\":\"Topic 16\",\"method\":\"update\"},{\"args\":[{\"marker.color\":[[\"#B0BEC5\",\"#B0BEC5\",\"#B0BEC5\",\"#B0BEC5\",\"#B0BEC5\",\"#B0BEC5\",\"#B0BEC5\",\"#B0BEC5\",\"#B0BEC5\",\"#B0BEC5\",\"#B0BEC5\",\"#B0BEC5\",\"#B0BEC5\",\"#B0BEC5\",\"#B0BEC5\",\"#B0BEC5\",\"#B0BEC5\",\"red\",\"#B0BEC5\",\"#B0BEC5\",\"#B0BEC5\",\"#B0BEC5\",\"#B0BEC5\",\"#B0BEC5\",\"#B0BEC5\",\"#B0BEC5\",\"#B0BEC5\",\"#B0BEC5\",\"#B0BEC5\",\"#B0BEC5\",\"#B0BEC5\",\"#B0BEC5\",\"#B0BEC5\",\"#B0BEC5\"]]}],\"label\":\"Topic 17\",\"method\":\"update\"},{\"args\":[{\"marker.color\":[[\"#B0BEC5\",\"#B0BEC5\",\"#B0BEC5\",\"#B0BEC5\",\"#B0BEC5\",\"#B0BEC5\",\"#B0BEC5\",\"#B0BEC5\",\"#B0BEC5\",\"#B0BEC5\",\"#B0BEC5\",\"#B0BEC5\",\"#B0BEC5\",\"#B0BEC5\",\"#B0BEC5\",\"#B0BEC5\",\"#B0BEC5\",\"#B0BEC5\",\"red\",\"#B0BEC5\",\"#B0BEC5\",\"#B0BEC5\",\"#B0BEC5\",\"#B0BEC5\",\"#B0BEC5\",\"#B0BEC5\",\"#B0BEC5\",\"#B0BEC5\",\"#B0BEC5\",\"#B0BEC5\",\"#B0BEC5\",\"#B0BEC5\",\"#B0BEC5\",\"#B0BEC5\"]]}],\"label\":\"Topic 18\",\"method\":\"update\"},{\"args\":[{\"marker.color\":[[\"#B0BEC5\",\"#B0BEC5\",\"#B0BEC5\",\"#B0BEC5\",\"#B0BEC5\",\"#B0BEC5\",\"#B0BEC5\",\"#B0BEC5\",\"#B0BEC5\",\"#B0BEC5\",\"#B0BEC5\",\"#B0BEC5\",\"#B0BEC5\",\"#B0BEC5\",\"#B0BEC5\",\"#B0BEC5\",\"#B0BEC5\",\"#B0BEC5\",\"#B0BEC5\",\"red\",\"#B0BEC5\",\"#B0BEC5\",\"#B0BEC5\",\"#B0BEC5\",\"#B0BEC5\",\"#B0BEC5\",\"#B0BEC5\",\"#B0BEC5\",\"#B0BEC5\",\"#B0BEC5\",\"#B0BEC5\",\"#B0BEC5\",\"#B0BEC5\",\"#B0BEC5\"]]}],\"label\":\"Topic 19\",\"method\":\"update\"},{\"args\":[{\"marker.color\":[[\"#B0BEC5\",\"#B0BEC5\",\"#B0BEC5\",\"#B0BEC5\",\"#B0BEC5\",\"#B0BEC5\",\"#B0BEC5\",\"#B0BEC5\",\"#B0BEC5\",\"#B0BEC5\",\"#B0BEC5\",\"#B0BEC5\",\"#B0BEC5\",\"#B0BEC5\",\"#B0BEC5\",\"#B0BEC5\",\"#B0BEC5\",\"#B0BEC5\",\"#B0BEC5\",\"#B0BEC5\",\"red\",\"#B0BEC5\",\"#B0BEC5\",\"#B0BEC5\",\"#B0BEC5\",\"#B0BEC5\",\"#B0BEC5\",\"#B0BEC5\",\"#B0BEC5\",\"#B0BEC5\",\"#B0BEC5\",\"#B0BEC5\",\"#B0BEC5\",\"#B0BEC5\"]]}],\"label\":\"Topic 20\",\"method\":\"update\"},{\"args\":[{\"marker.color\":[[\"#B0BEC5\",\"#B0BEC5\",\"#B0BEC5\",\"#B0BEC5\",\"#B0BEC5\",\"#B0BEC5\",\"#B0BEC5\",\"#B0BEC5\",\"#B0BEC5\",\"#B0BEC5\",\"#B0BEC5\",\"#B0BEC5\",\"#B0BEC5\",\"#B0BEC5\",\"#B0BEC5\",\"#B0BEC5\",\"#B0BEC5\",\"#B0BEC5\",\"#B0BEC5\",\"#B0BEC5\",\"#B0BEC5\",\"red\",\"#B0BEC5\",\"#B0BEC5\",\"#B0BEC5\",\"#B0BEC5\",\"#B0BEC5\",\"#B0BEC5\",\"#B0BEC5\",\"#B0BEC5\",\"#B0BEC5\",\"#B0BEC5\",\"#B0BEC5\",\"#B0BEC5\"]]}],\"label\":\"Topic 21\",\"method\":\"update\"},{\"args\":[{\"marker.color\":[[\"#B0BEC5\",\"#B0BEC5\",\"#B0BEC5\",\"#B0BEC5\",\"#B0BEC5\",\"#B0BEC5\",\"#B0BEC5\",\"#B0BEC5\",\"#B0BEC5\",\"#B0BEC5\",\"#B0BEC5\",\"#B0BEC5\",\"#B0BEC5\",\"#B0BEC5\",\"#B0BEC5\",\"#B0BEC5\",\"#B0BEC5\",\"#B0BEC5\",\"#B0BEC5\",\"#B0BEC5\",\"#B0BEC5\",\"#B0BEC5\",\"red\",\"#B0BEC5\",\"#B0BEC5\",\"#B0BEC5\",\"#B0BEC5\",\"#B0BEC5\",\"#B0BEC5\",\"#B0BEC5\",\"#B0BEC5\",\"#B0BEC5\",\"#B0BEC5\",\"#B0BEC5\"]]}],\"label\":\"Topic 22\",\"method\":\"update\"},{\"args\":[{\"marker.color\":[[\"#B0BEC5\",\"#B0BEC5\",\"#B0BEC5\",\"#B0BEC5\",\"#B0BEC5\",\"#B0BEC5\",\"#B0BEC5\",\"#B0BEC5\",\"#B0BEC5\",\"#B0BEC5\",\"#B0BEC5\",\"#B0BEC5\",\"#B0BEC5\",\"#B0BEC5\",\"#B0BEC5\",\"#B0BEC5\",\"#B0BEC5\",\"#B0BEC5\",\"#B0BEC5\",\"#B0BEC5\",\"#B0BEC5\",\"#B0BEC5\",\"#B0BEC5\",\"red\",\"#B0BEC5\",\"#B0BEC5\",\"#B0BEC5\",\"#B0BEC5\",\"#B0BEC5\",\"#B0BEC5\",\"#B0BEC5\",\"#B0BEC5\",\"#B0BEC5\",\"#B0BEC5\"]]}],\"label\":\"Topic 23\",\"method\":\"update\"},{\"args\":[{\"marker.color\":[[\"#B0BEC5\",\"#B0BEC5\",\"#B0BEC5\",\"#B0BEC5\",\"#B0BEC5\",\"#B0BEC5\",\"#B0BEC5\",\"#B0BEC5\",\"#B0BEC5\",\"#B0BEC5\",\"#B0BEC5\",\"#B0BEC5\",\"#B0BEC5\",\"#B0BEC5\",\"#B0BEC5\",\"#B0BEC5\",\"#B0BEC5\",\"#B0BEC5\",\"#B0BEC5\",\"#B0BEC5\",\"#B0BEC5\",\"#B0BEC5\",\"#B0BEC5\",\"#B0BEC5\",\"red\",\"#B0BEC5\",\"#B0BEC5\",\"#B0BEC5\",\"#B0BEC5\",\"#B0BEC5\",\"#B0BEC5\",\"#B0BEC5\",\"#B0BEC5\",\"#B0BEC5\"]]}],\"label\":\"Topic 24\",\"method\":\"update\"},{\"args\":[{\"marker.color\":[[\"#B0BEC5\",\"#B0BEC5\",\"#B0BEC5\",\"#B0BEC5\",\"#B0BEC5\",\"#B0BEC5\",\"#B0BEC5\",\"#B0BEC5\",\"#B0BEC5\",\"#B0BEC5\",\"#B0BEC5\",\"#B0BEC5\",\"#B0BEC5\",\"#B0BEC5\",\"#B0BEC5\",\"#B0BEC5\",\"#B0BEC5\",\"#B0BEC5\",\"#B0BEC5\",\"#B0BEC5\",\"#B0BEC5\",\"#B0BEC5\",\"#B0BEC5\",\"#B0BEC5\",\"#B0BEC5\",\"red\",\"#B0BEC5\",\"#B0BEC5\",\"#B0BEC5\",\"#B0BEC5\",\"#B0BEC5\",\"#B0BEC5\",\"#B0BEC5\",\"#B0BEC5\"]]}],\"label\":\"Topic 25\",\"method\":\"update\"},{\"args\":[{\"marker.color\":[[\"#B0BEC5\",\"#B0BEC5\",\"#B0BEC5\",\"#B0BEC5\",\"#B0BEC5\",\"#B0BEC5\",\"#B0BEC5\",\"#B0BEC5\",\"#B0BEC5\",\"#B0BEC5\",\"#B0BEC5\",\"#B0BEC5\",\"#B0BEC5\",\"#B0BEC5\",\"#B0BEC5\",\"#B0BEC5\",\"#B0BEC5\",\"#B0BEC5\",\"#B0BEC5\",\"#B0BEC5\",\"#B0BEC5\",\"#B0BEC5\",\"#B0BEC5\",\"#B0BEC5\",\"#B0BEC5\",\"#B0BEC5\",\"red\",\"#B0BEC5\",\"#B0BEC5\",\"#B0BEC5\",\"#B0BEC5\",\"#B0BEC5\",\"#B0BEC5\",\"#B0BEC5\"]]}],\"label\":\"Topic 26\",\"method\":\"update\"},{\"args\":[{\"marker.color\":[[\"#B0BEC5\",\"#B0BEC5\",\"#B0BEC5\",\"#B0BEC5\",\"#B0BEC5\",\"#B0BEC5\",\"#B0BEC5\",\"#B0BEC5\",\"#B0BEC5\",\"#B0BEC5\",\"#B0BEC5\",\"#B0BEC5\",\"#B0BEC5\",\"#B0BEC5\",\"#B0BEC5\",\"#B0BEC5\",\"#B0BEC5\",\"#B0BEC5\",\"#B0BEC5\",\"#B0BEC5\",\"#B0BEC5\",\"#B0BEC5\",\"#B0BEC5\",\"#B0BEC5\",\"#B0BEC5\",\"#B0BEC5\",\"#B0BEC5\",\"red\",\"#B0BEC5\",\"#B0BEC5\",\"#B0BEC5\",\"#B0BEC5\",\"#B0BEC5\",\"#B0BEC5\"]]}],\"label\":\"Topic 27\",\"method\":\"update\"},{\"args\":[{\"marker.color\":[[\"#B0BEC5\",\"#B0BEC5\",\"#B0BEC5\",\"#B0BEC5\",\"#B0BEC5\",\"#B0BEC5\",\"#B0BEC5\",\"#B0BEC5\",\"#B0BEC5\",\"#B0BEC5\",\"#B0BEC5\",\"#B0BEC5\",\"#B0BEC5\",\"#B0BEC5\",\"#B0BEC5\",\"#B0BEC5\",\"#B0BEC5\",\"#B0BEC5\",\"#B0BEC5\",\"#B0BEC5\",\"#B0BEC5\",\"#B0BEC5\",\"#B0BEC5\",\"#B0BEC5\",\"#B0BEC5\",\"#B0BEC5\",\"#B0BEC5\",\"#B0BEC5\",\"red\",\"#B0BEC5\",\"#B0BEC5\",\"#B0BEC5\",\"#B0BEC5\",\"#B0BEC5\"]]}],\"label\":\"Topic 28\",\"method\":\"update\"},{\"args\":[{\"marker.color\":[[\"#B0BEC5\",\"#B0BEC5\",\"#B0BEC5\",\"#B0BEC5\",\"#B0BEC5\",\"#B0BEC5\",\"#B0BEC5\",\"#B0BEC5\",\"#B0BEC5\",\"#B0BEC5\",\"#B0BEC5\",\"#B0BEC5\",\"#B0BEC5\",\"#B0BEC5\",\"#B0BEC5\",\"#B0BEC5\",\"#B0BEC5\",\"#B0BEC5\",\"#B0BEC5\",\"#B0BEC5\",\"#B0BEC5\",\"#B0BEC5\",\"#B0BEC5\",\"#B0BEC5\",\"#B0BEC5\",\"#B0BEC5\",\"#B0BEC5\",\"#B0BEC5\",\"#B0BEC5\",\"red\",\"#B0BEC5\",\"#B0BEC5\",\"#B0BEC5\",\"#B0BEC5\"]]}],\"label\":\"Topic 29\",\"method\":\"update\"},{\"args\":[{\"marker.color\":[[\"#B0BEC5\",\"#B0BEC5\",\"#B0BEC5\",\"#B0BEC5\",\"#B0BEC5\",\"#B0BEC5\",\"#B0BEC5\",\"#B0BEC5\",\"#B0BEC5\",\"#B0BEC5\",\"#B0BEC5\",\"#B0BEC5\",\"#B0BEC5\",\"#B0BEC5\",\"#B0BEC5\",\"#B0BEC5\",\"#B0BEC5\",\"#B0BEC5\",\"#B0BEC5\",\"#B0BEC5\",\"#B0BEC5\",\"#B0BEC5\",\"#B0BEC5\",\"#B0BEC5\",\"#B0BEC5\",\"#B0BEC5\",\"#B0BEC5\",\"#B0BEC5\",\"#B0BEC5\",\"#B0BEC5\",\"red\",\"#B0BEC5\",\"#B0BEC5\",\"#B0BEC5\"]]}],\"label\":\"Topic 30\",\"method\":\"update\"},{\"args\":[{\"marker.color\":[[\"#B0BEC5\",\"#B0BEC5\",\"#B0BEC5\",\"#B0BEC5\",\"#B0BEC5\",\"#B0BEC5\",\"#B0BEC5\",\"#B0BEC5\",\"#B0BEC5\",\"#B0BEC5\",\"#B0BEC5\",\"#B0BEC5\",\"#B0BEC5\",\"#B0BEC5\",\"#B0BEC5\",\"#B0BEC5\",\"#B0BEC5\",\"#B0BEC5\",\"#B0BEC5\",\"#B0BEC5\",\"#B0BEC5\",\"#B0BEC5\",\"#B0BEC5\",\"#B0BEC5\",\"#B0BEC5\",\"#B0BEC5\",\"#B0BEC5\",\"#B0BEC5\",\"#B0BEC5\",\"#B0BEC5\",\"#B0BEC5\",\"red\",\"#B0BEC5\",\"#B0BEC5\"]]}],\"label\":\"Topic 31\",\"method\":\"update\"},{\"args\":[{\"marker.color\":[[\"#B0BEC5\",\"#B0BEC5\",\"#B0BEC5\",\"#B0BEC5\",\"#B0BEC5\",\"#B0BEC5\",\"#B0BEC5\",\"#B0BEC5\",\"#B0BEC5\",\"#B0BEC5\",\"#B0BEC5\",\"#B0BEC5\",\"#B0BEC5\",\"#B0BEC5\",\"#B0BEC5\",\"#B0BEC5\",\"#B0BEC5\",\"#B0BEC5\",\"#B0BEC5\",\"#B0BEC5\",\"#B0BEC5\",\"#B0BEC5\",\"#B0BEC5\",\"#B0BEC5\",\"#B0BEC5\",\"#B0BEC5\",\"#B0BEC5\",\"#B0BEC5\",\"#B0BEC5\",\"#B0BEC5\",\"#B0BEC5\",\"#B0BEC5\",\"red\",\"#B0BEC5\"]]}],\"label\":\"Topic 32\",\"method\":\"update\"},{\"args\":[{\"marker.color\":[[\"#B0BEC5\",\"#B0BEC5\",\"#B0BEC5\",\"#B0BEC5\",\"#B0BEC5\",\"#B0BEC5\",\"#B0BEC5\",\"#B0BEC5\",\"#B0BEC5\",\"#B0BEC5\",\"#B0BEC5\",\"#B0BEC5\",\"#B0BEC5\",\"#B0BEC5\",\"#B0BEC5\",\"#B0BEC5\",\"#B0BEC5\",\"#B0BEC5\",\"#B0BEC5\",\"#B0BEC5\",\"#B0BEC5\",\"#B0BEC5\",\"#B0BEC5\",\"#B0BEC5\",\"#B0BEC5\",\"#B0BEC5\",\"#B0BEC5\",\"#B0BEC5\",\"#B0BEC5\",\"#B0BEC5\",\"#B0BEC5\",\"#B0BEC5\",\"#B0BEC5\",\"red\"]]}],\"label\":\"Topic 33\",\"method\":\"update\"}]}],\"shapes\":[{\"line\":{\"color\":\"#CFD8DC\",\"width\":2},\"type\":\"line\",\"x0\":5.866261261701585,\"x1\":5.866261261701585,\"y0\":-13.975605487823486,\"y1\":15.861974382400513},{\"line\":{\"color\":\"#9E9E9E\",\"width\":2},\"type\":\"line\",\"x0\":-3.6969702363014223,\"x1\":15.42949275970459,\"y0\":0.9431844472885134,\"y1\":0.9431844472885134}],\"annotations\":[{\"showarrow\":false,\"text\":\"D1\",\"x\":-3.6969702363014223,\"y\":0.9431844472885134,\"yshift\":10},{\"showarrow\":false,\"text\":\"D2\",\"x\":5.866261261701585,\"xshift\":10,\"y\":15.861974382400513}]},                        {\"responsive\": true}                    ).then(function(){\n",
       "                            \n",
       "var gd = document.getElementById('761d8a9e-1566-42ee-bb0a-0df3a715760b');\n",
       "var x = new MutationObserver(function (mutations, observer) {{\n",
       "        var display = window.getComputedStyle(gd).display;\n",
       "        if (!display || display === 'none') {{\n",
       "            console.log([gd, 'removed!']);\n",
       "            Plotly.purge(gd);\n",
       "            observer.disconnect();\n",
       "        }}\n",
       "}});\n",
       "\n",
       "// Listen for the removal of the full notebook cells\n",
       "var notebookContainer = gd.closest('#notebook-container');\n",
       "if (notebookContainer) {{\n",
       "    x.observe(notebookContainer, {childList: true});\n",
       "}}\n",
       "\n",
       "// Listen for the clearing of the current output cell\n",
       "var outputEl = gd.closest('.output');\n",
       "if (outputEl) {{\n",
       "    x.observe(outputEl, {childList: true});\n",
       "}}\n",
       "\n",
       "                        })                };                });            </script>        </div>"
      ]
     },
     "metadata": {},
     "output_type": "display_data"
    }
   ],
   "source": [
    "topic_model.visualize_topics()"
   ]
  },
  {
   "cell_type": "code",
   "execution_count": 77,
   "id": "ef20e958-4d53-4d2d-9b5e-06f29626a913",
   "metadata": {},
   "outputs": [],
   "source": [
    "topic_model.save(\"klimaschutz\", serialization=\"pickle\")"
   ]
  },
  {
   "cell_type": "code",
   "execution_count": 78,
   "id": "29fcd525-61cc-46c0-84f3-6ab91d362906",
   "metadata": {},
   "outputs": [
    {
     "data": {
      "application/vnd.plotly.v1+json": {
       "config": {
        "plotlyServerURL": "https://plot.ly"
       },
       "data": [
        {
         "marker": {
          "color": "#D55E00"
         },
         "orientation": "h",
         "type": "bar",
         "x": [
          0.3849170506000519,
          0.39463216066360474,
          0.3971552550792694,
          0.39877554774284363,
          0.5546424388885498
         ],
         "xaxis": "x",
         "y": [
          "müssen  ",
          "sagen  ",
          "uns  ",
          "dazu  ",
          "klimaschutz  "
         ],
         "yaxis": "y"
        },
        {
         "marker": {
          "color": "#0072B2"
         },
         "orientation": "h",
         "type": "bar",
         "x": [
          0.32823073863983154,
          0.35083943605422974,
          0.353337824344635,
          0.41040754318237305,
          0.5752217173576355
         ],
         "xaxis": "x2",
         "y": [
          "emissionshandel  ",
          "bundesregierung  ",
          "uns  ",
          "deutschland  ",
          "klimaschutz  "
         ],
         "yaxis": "y2"
        },
        {
         "marker": {
          "color": "#CC79A7"
         },
         "orientation": "h",
         "type": "bar",
         "x": [
          0.3621818423271179,
          0.3671674430370331,
          0.3784934878349304,
          0.4010358452796936,
          0.4157310724258423
         ],
         "xaxis": "x3",
         "y": [
          "geld  ",
          "uns  ",
          "milliarden  ",
          "jetzt  ",
          "haushalt  "
         ],
         "yaxis": "y3"
        },
        {
         "marker": {
          "color": "#E69F00"
         },
         "orientation": "h",
         "type": "bar",
         "x": [
          0.4754193425178528,
          0.49696093797683716,
          0.5378376841545105,
          0.5431375503540039,
          0.551692008972168
         ],
         "xaxis": "x4",
         "y": [
          "euro  ",
          "europa  ",
          "deutschland  ",
          "europäischen  ",
          "europäische  "
         ],
         "yaxis": "y4"
        },
        {
         "marker": {
          "color": "#56B4E9"
         },
         "orientation": "h",
         "type": "bar",
         "x": [
          0.4660150408744812,
          0.47225192189216614,
          0.5695807933807373,
          0.5883545875549316,
          0.6971213221549988
         ],
         "xaxis": "x5",
         "y": [
          "energien  ",
          "erneuerbaren  ",
          "atomenergie  ",
          "kernenergie  ",
          "energiepolitik  "
         ],
         "yaxis": "y5"
        },
        {
         "marker": {
          "color": "#009E73"
         },
         "orientation": "h",
         "type": "bar",
         "x": [
          0.4360595941543579,
          0.4363868236541748,
          0.45029890537261963,
          0.4575869143009186,
          0.49384552240371704
         ],
         "xaxis": "x6",
         "y": [
          "sondern  ",
          "weil  ",
          "sagen  ",
          "doch  ",
          "gesagt  "
         ],
         "yaxis": "y6"
        },
        {
         "marker": {
          "color": "#F0E442"
         },
         "orientation": "h",
         "type": "bar",
         "x": [
          0.5604723691940308,
          0.5628792643547058,
          0.6104590892791748,
          0.6471381187438965,
          0.6489673852920532
         ],
         "xaxis": "x7",
         "y": [
          "gesetzentwurf  ",
          "gegenstimmen  ",
          "ausschuss  ",
          "ausschusses  ",
          "petitionsausschusses  "
         ],
         "yaxis": "y7"
        },
        {
         "marker": {
          "color": "#D55E00"
         },
         "orientation": "h",
         "type": "bar",
         "x": [
          0.380240797996521,
          0.3852783739566803,
          0.46383798122406006,
          0.4708256721496582,
          0.6197506189346313
         ],
         "xaxis": "x8",
         "y": [
          "bundesregierung  ",
          "uns  ",
          "verkehr  ",
          "mobilität  ",
          "verkehrspolitik  "
         ],
         "yaxis": "y8"
        }
       ],
       "layout": {
        "annotations": [
         {
          "font": {
           "size": 16
          },
          "showarrow": false,
          "text": "Topic 0",
          "x": 0.0875,
          "xanchor": "center",
          "xref": "paper",
          "y": 1,
          "yanchor": "bottom",
          "yref": "paper"
         },
         {
          "font": {
           "size": 16
          },
          "showarrow": false,
          "text": "Topic 1",
          "x": 0.36250000000000004,
          "xanchor": "center",
          "xref": "paper",
          "y": 1,
          "yanchor": "bottom",
          "yref": "paper"
         },
         {
          "font": {
           "size": 16
          },
          "showarrow": false,
          "text": "Topic 2",
          "x": 0.6375000000000001,
          "xanchor": "center",
          "xref": "paper",
          "y": 1,
          "yanchor": "bottom",
          "yref": "paper"
         },
         {
          "font": {
           "size": 16
          },
          "showarrow": false,
          "text": "Topic 3",
          "x": 0.9125,
          "xanchor": "center",
          "xref": "paper",
          "y": 1,
          "yanchor": "bottom",
          "yref": "paper"
         },
         {
          "font": {
           "size": 16
          },
          "showarrow": false,
          "text": "Topic 4",
          "x": 0.0875,
          "xanchor": "center",
          "xref": "paper",
          "y": 0.4,
          "yanchor": "bottom",
          "yref": "paper"
         },
         {
          "font": {
           "size": 16
          },
          "showarrow": false,
          "text": "Topic 5",
          "x": 0.36250000000000004,
          "xanchor": "center",
          "xref": "paper",
          "y": 0.4,
          "yanchor": "bottom",
          "yref": "paper"
         },
         {
          "font": {
           "size": 16
          },
          "showarrow": false,
          "text": "Topic 6",
          "x": 0.6375000000000001,
          "xanchor": "center",
          "xref": "paper",
          "y": 0.4,
          "yanchor": "bottom",
          "yref": "paper"
         },
         {
          "font": {
           "size": 16
          },
          "showarrow": false,
          "text": "Topic 7",
          "x": 0.9125,
          "xanchor": "center",
          "xref": "paper",
          "y": 0.4,
          "yanchor": "bottom",
          "yref": "paper"
         }
        ],
        "dragmode": "pan",
        "height": 500,
        "hoverlabel": {
         "bgcolor": "white",
         "font": {
          "family": "Rockwell",
          "size": 16
         }
        },
        "showlegend": false,
        "template": {
         "data": {
          "bar": [
           {
            "error_x": {
             "color": "#2a3f5f"
            },
            "error_y": {
             "color": "#2a3f5f"
            },
            "marker": {
             "line": {
              "color": "white",
              "width": 0.5
             },
             "pattern": {
              "fillmode": "overlay",
              "size": 10,
              "solidity": 0.2
             }
            },
            "type": "bar"
           }
          ],
          "barpolar": [
           {
            "marker": {
             "line": {
              "color": "white",
              "width": 0.5
             },
             "pattern": {
              "fillmode": "overlay",
              "size": 10,
              "solidity": 0.2
             }
            },
            "type": "barpolar"
           }
          ],
          "carpet": [
           {
            "aaxis": {
             "endlinecolor": "#2a3f5f",
             "gridcolor": "#C8D4E3",
             "linecolor": "#C8D4E3",
             "minorgridcolor": "#C8D4E3",
             "startlinecolor": "#2a3f5f"
            },
            "baxis": {
             "endlinecolor": "#2a3f5f",
             "gridcolor": "#C8D4E3",
             "linecolor": "#C8D4E3",
             "minorgridcolor": "#C8D4E3",
             "startlinecolor": "#2a3f5f"
            },
            "type": "carpet"
           }
          ],
          "choropleth": [
           {
            "colorbar": {
             "outlinewidth": 0,
             "ticks": ""
            },
            "type": "choropleth"
           }
          ],
          "contour": [
           {
            "colorbar": {
             "outlinewidth": 0,
             "ticks": ""
            },
            "colorscale": [
             [
              0,
              "#0d0887"
             ],
             [
              0.1111111111111111,
              "#46039f"
             ],
             [
              0.2222222222222222,
              "#7201a8"
             ],
             [
              0.3333333333333333,
              "#9c179e"
             ],
             [
              0.4444444444444444,
              "#bd3786"
             ],
             [
              0.5555555555555556,
              "#d8576b"
             ],
             [
              0.6666666666666666,
              "#ed7953"
             ],
             [
              0.7777777777777778,
              "#fb9f3a"
             ],
             [
              0.8888888888888888,
              "#fdca26"
             ],
             [
              1,
              "#f0f921"
             ]
            ],
            "type": "contour"
           }
          ],
          "contourcarpet": [
           {
            "colorbar": {
             "outlinewidth": 0,
             "ticks": ""
            },
            "type": "contourcarpet"
           }
          ],
          "heatmap": [
           {
            "colorbar": {
             "outlinewidth": 0,
             "ticks": ""
            },
            "colorscale": [
             [
              0,
              "#0d0887"
             ],
             [
              0.1111111111111111,
              "#46039f"
             ],
             [
              0.2222222222222222,
              "#7201a8"
             ],
             [
              0.3333333333333333,
              "#9c179e"
             ],
             [
              0.4444444444444444,
              "#bd3786"
             ],
             [
              0.5555555555555556,
              "#d8576b"
             ],
             [
              0.6666666666666666,
              "#ed7953"
             ],
             [
              0.7777777777777778,
              "#fb9f3a"
             ],
             [
              0.8888888888888888,
              "#fdca26"
             ],
             [
              1,
              "#f0f921"
             ]
            ],
            "type": "heatmap"
           }
          ],
          "heatmapgl": [
           {
            "colorbar": {
             "outlinewidth": 0,
             "ticks": ""
            },
            "colorscale": [
             [
              0,
              "#0d0887"
             ],
             [
              0.1111111111111111,
              "#46039f"
             ],
             [
              0.2222222222222222,
              "#7201a8"
             ],
             [
              0.3333333333333333,
              "#9c179e"
             ],
             [
              0.4444444444444444,
              "#bd3786"
             ],
             [
              0.5555555555555556,
              "#d8576b"
             ],
             [
              0.6666666666666666,
              "#ed7953"
             ],
             [
              0.7777777777777778,
              "#fb9f3a"
             ],
             [
              0.8888888888888888,
              "#fdca26"
             ],
             [
              1,
              "#f0f921"
             ]
            ],
            "type": "heatmapgl"
           }
          ],
          "histogram": [
           {
            "marker": {
             "pattern": {
              "fillmode": "overlay",
              "size": 10,
              "solidity": 0.2
             }
            },
            "type": "histogram"
           }
          ],
          "histogram2d": [
           {
            "colorbar": {
             "outlinewidth": 0,
             "ticks": ""
            },
            "colorscale": [
             [
              0,
              "#0d0887"
             ],
             [
              0.1111111111111111,
              "#46039f"
             ],
             [
              0.2222222222222222,
              "#7201a8"
             ],
             [
              0.3333333333333333,
              "#9c179e"
             ],
             [
              0.4444444444444444,
              "#bd3786"
             ],
             [
              0.5555555555555556,
              "#d8576b"
             ],
             [
              0.6666666666666666,
              "#ed7953"
             ],
             [
              0.7777777777777778,
              "#fb9f3a"
             ],
             [
              0.8888888888888888,
              "#fdca26"
             ],
             [
              1,
              "#f0f921"
             ]
            ],
            "type": "histogram2d"
           }
          ],
          "histogram2dcontour": [
           {
            "colorbar": {
             "outlinewidth": 0,
             "ticks": ""
            },
            "colorscale": [
             [
              0,
              "#0d0887"
             ],
             [
              0.1111111111111111,
              "#46039f"
             ],
             [
              0.2222222222222222,
              "#7201a8"
             ],
             [
              0.3333333333333333,
              "#9c179e"
             ],
             [
              0.4444444444444444,
              "#bd3786"
             ],
             [
              0.5555555555555556,
              "#d8576b"
             ],
             [
              0.6666666666666666,
              "#ed7953"
             ],
             [
              0.7777777777777778,
              "#fb9f3a"
             ],
             [
              0.8888888888888888,
              "#fdca26"
             ],
             [
              1,
              "#f0f921"
             ]
            ],
            "type": "histogram2dcontour"
           }
          ],
          "mesh3d": [
           {
            "colorbar": {
             "outlinewidth": 0,
             "ticks": ""
            },
            "type": "mesh3d"
           }
          ],
          "parcoords": [
           {
            "line": {
             "colorbar": {
              "outlinewidth": 0,
              "ticks": ""
             }
            },
            "type": "parcoords"
           }
          ],
          "pie": [
           {
            "automargin": true,
            "type": "pie"
           }
          ],
          "scatter": [
           {
            "fillpattern": {
             "fillmode": "overlay",
             "size": 10,
             "solidity": 0.2
            },
            "type": "scatter"
           }
          ],
          "scatter3d": [
           {
            "line": {
             "colorbar": {
              "outlinewidth": 0,
              "ticks": ""
             }
            },
            "marker": {
             "colorbar": {
              "outlinewidth": 0,
              "ticks": ""
             }
            },
            "type": "scatter3d"
           }
          ],
          "scattercarpet": [
           {
            "marker": {
             "colorbar": {
              "outlinewidth": 0,
              "ticks": ""
             }
            },
            "type": "scattercarpet"
           }
          ],
          "scattergeo": [
           {
            "marker": {
             "colorbar": {
              "outlinewidth": 0,
              "ticks": ""
             }
            },
            "type": "scattergeo"
           }
          ],
          "scattergl": [
           {
            "marker": {
             "colorbar": {
              "outlinewidth": 0,
              "ticks": ""
             }
            },
            "type": "scattergl"
           }
          ],
          "scattermapbox": [
           {
            "marker": {
             "colorbar": {
              "outlinewidth": 0,
              "ticks": ""
             }
            },
            "type": "scattermapbox"
           }
          ],
          "scatterpolar": [
           {
            "marker": {
             "colorbar": {
              "outlinewidth": 0,
              "ticks": ""
             }
            },
            "type": "scatterpolar"
           }
          ],
          "scatterpolargl": [
           {
            "marker": {
             "colorbar": {
              "outlinewidth": 0,
              "ticks": ""
             }
            },
            "type": "scatterpolargl"
           }
          ],
          "scatterternary": [
           {
            "marker": {
             "colorbar": {
              "outlinewidth": 0,
              "ticks": ""
             }
            },
            "type": "scatterternary"
           }
          ],
          "surface": [
           {
            "colorbar": {
             "outlinewidth": 0,
             "ticks": ""
            },
            "colorscale": [
             [
              0,
              "#0d0887"
             ],
             [
              0.1111111111111111,
              "#46039f"
             ],
             [
              0.2222222222222222,
              "#7201a8"
             ],
             [
              0.3333333333333333,
              "#9c179e"
             ],
             [
              0.4444444444444444,
              "#bd3786"
             ],
             [
              0.5555555555555556,
              "#d8576b"
             ],
             [
              0.6666666666666666,
              "#ed7953"
             ],
             [
              0.7777777777777778,
              "#fb9f3a"
             ],
             [
              0.8888888888888888,
              "#fdca26"
             ],
             [
              1,
              "#f0f921"
             ]
            ],
            "type": "surface"
           }
          ],
          "table": [
           {
            "cells": {
             "fill": {
              "color": "#EBF0F8"
             },
             "line": {
              "color": "white"
             }
            },
            "header": {
             "fill": {
              "color": "#C8D4E3"
             },
             "line": {
              "color": "white"
             }
            },
            "type": "table"
           }
          ]
         },
         "layout": {
          "annotationdefaults": {
           "arrowcolor": "#2a3f5f",
           "arrowhead": 0,
           "arrowwidth": 1
          },
          "autotypenumbers": "strict",
          "coloraxis": {
           "colorbar": {
            "outlinewidth": 0,
            "ticks": ""
           }
          },
          "colorscale": {
           "diverging": [
            [
             0,
             "#8e0152"
            ],
            [
             0.1,
             "#c51b7d"
            ],
            [
             0.2,
             "#de77ae"
            ],
            [
             0.3,
             "#f1b6da"
            ],
            [
             0.4,
             "#fde0ef"
            ],
            [
             0.5,
             "#f7f7f7"
            ],
            [
             0.6,
             "#e6f5d0"
            ],
            [
             0.7,
             "#b8e186"
            ],
            [
             0.8,
             "#7fbc41"
            ],
            [
             0.9,
             "#4d9221"
            ],
            [
             1,
             "#276419"
            ]
           ],
           "sequential": [
            [
             0,
             "#0d0887"
            ],
            [
             0.1111111111111111,
             "#46039f"
            ],
            [
             0.2222222222222222,
             "#7201a8"
            ],
            [
             0.3333333333333333,
             "#9c179e"
            ],
            [
             0.4444444444444444,
             "#bd3786"
            ],
            [
             0.5555555555555556,
             "#d8576b"
            ],
            [
             0.6666666666666666,
             "#ed7953"
            ],
            [
             0.7777777777777778,
             "#fb9f3a"
            ],
            [
             0.8888888888888888,
             "#fdca26"
            ],
            [
             1,
             "#f0f921"
            ]
           ],
           "sequentialminus": [
            [
             0,
             "#0d0887"
            ],
            [
             0.1111111111111111,
             "#46039f"
            ],
            [
             0.2222222222222222,
             "#7201a8"
            ],
            [
             0.3333333333333333,
             "#9c179e"
            ],
            [
             0.4444444444444444,
             "#bd3786"
            ],
            [
             0.5555555555555556,
             "#d8576b"
            ],
            [
             0.6666666666666666,
             "#ed7953"
            ],
            [
             0.7777777777777778,
             "#fb9f3a"
            ],
            [
             0.8888888888888888,
             "#fdca26"
            ],
            [
             1,
             "#f0f921"
            ]
           ]
          },
          "colorway": [
           "#636efa",
           "#EF553B",
           "#00cc96",
           "#ab63fa",
           "#FFA15A",
           "#19d3f3",
           "#FF6692",
           "#B6E880",
           "#FF97FF",
           "#FECB52"
          ],
          "font": {
           "color": "#2a3f5f"
          },
          "geo": {
           "bgcolor": "white",
           "lakecolor": "white",
           "landcolor": "white",
           "showlakes": true,
           "showland": true,
           "subunitcolor": "#C8D4E3"
          },
          "hoverlabel": {
           "align": "left"
          },
          "hovermode": "closest",
          "mapbox": {
           "style": "light"
          },
          "paper_bgcolor": "white",
          "plot_bgcolor": "white",
          "polar": {
           "angularaxis": {
            "gridcolor": "#EBF0F8",
            "linecolor": "#EBF0F8",
            "ticks": ""
           },
           "bgcolor": "white",
           "radialaxis": {
            "gridcolor": "#EBF0F8",
            "linecolor": "#EBF0F8",
            "ticks": ""
           }
          },
          "scene": {
           "xaxis": {
            "backgroundcolor": "white",
            "gridcolor": "#DFE8F3",
            "gridwidth": 2,
            "linecolor": "#EBF0F8",
            "showbackground": true,
            "ticks": "",
            "zerolinecolor": "#EBF0F8"
           },
           "yaxis": {
            "backgroundcolor": "white",
            "gridcolor": "#DFE8F3",
            "gridwidth": 2,
            "linecolor": "#EBF0F8",
            "showbackground": true,
            "ticks": "",
            "zerolinecolor": "#EBF0F8"
           },
           "zaxis": {
            "backgroundcolor": "white",
            "gridcolor": "#DFE8F3",
            "gridwidth": 2,
            "linecolor": "#EBF0F8",
            "showbackground": true,
            "ticks": "",
            "zerolinecolor": "#EBF0F8"
           }
          },
          "shapedefaults": {
           "line": {
            "color": "#2a3f5f"
           }
          },
          "ternary": {
           "aaxis": {
            "gridcolor": "#DFE8F3",
            "linecolor": "#A2B1C6",
            "ticks": ""
           },
           "baxis": {
            "gridcolor": "#DFE8F3",
            "linecolor": "#A2B1C6",
            "ticks": ""
           },
           "bgcolor": "white",
           "caxis": {
            "gridcolor": "#DFE8F3",
            "linecolor": "#A2B1C6",
            "ticks": ""
           }
          },
          "title": {
           "x": 0.05
          },
          "xaxis": {
           "automargin": true,
           "gridcolor": "#EBF0F8",
           "linecolor": "#EBF0F8",
           "ticks": "",
           "title": {
            "standoff": 15
           },
           "zerolinecolor": "#EBF0F8",
           "zerolinewidth": 2
          },
          "yaxis": {
           "automargin": true,
           "gridcolor": "#EBF0F8",
           "linecolor": "#EBF0F8",
           "ticks": "",
           "title": {
            "standoff": 15
           },
           "zerolinecolor": "#EBF0F8",
           "zerolinewidth": 2
          }
         }
        },
        "title": {
         "font": {
          "color": "Black",
          "size": 22
         },
         "text": "Topic Word Scores",
         "x": 0.5,
         "xanchor": "center",
         "yanchor": "top"
        },
        "width": 1000,
        "xaxis": {
         "anchor": "y",
         "autorange": false,
         "domain": [
          0,
          0.175
         ],
         "range": [
          -8.326672684688674e-17,
          0.5838341461984735
         ],
         "showgrid": true,
         "type": "linear"
        },
        "xaxis2": {
         "anchor": "y2",
         "autorange": false,
         "domain": [
          0.275,
          0.45
         ],
         "range": [
          5.551115123125783e-17,
          0.6054965445869849
         ],
         "showgrid": true,
         "type": "linear"
        },
        "xaxis3": {
         "anchor": "y3",
         "autorange": false,
         "domain": [
          0.55,
          0.7250000000000001
         ],
         "range": [
          2.220446049250313e-16,
          0.4376116551850973
         ],
         "showgrid": true,
         "type": "linear"
        },
        "xaxis4": {
         "anchor": "y4",
         "autorange": false,
         "domain": [
          0.825,
          1
         ],
         "range": [
          5.551115123125783e-17,
          0.580728430497019
         ],
         "showgrid": true,
         "type": "linear"
        },
        "xaxis5": {
         "anchor": "y5",
         "autorange": false,
         "domain": [
          0,
          0.175
         ],
         "range": [
          5.551115123125783e-17,
          0.7338119180578937
         ],
         "showgrid": true,
         "type": "linear"
        },
        "xaxis6": {
         "anchor": "y6",
         "autorange": false,
         "domain": [
          0.275,
          0.45
         ],
         "range": [
          2.7755575615628914e-17,
          0.5198373920039125
         ],
         "showgrid": true,
         "type": "linear"
        },
        "xaxis7": {
         "anchor": "y7",
         "autorange": false,
         "domain": [
          0.55,
          0.7250000000000001
         ],
         "range": [
          -2.220446049250313e-16,
          0.6831235634653189
         ],
         "showgrid": true,
         "type": "linear"
        },
        "xaxis8": {
         "anchor": "y8",
         "autorange": false,
         "domain": [
          0.825,
          1
         ],
         "range": [
          0,
          0.65236907256277
         ],
         "showgrid": true,
         "type": "linear"
        },
        "yaxis": {
         "anchor": "x",
         "autorange": false,
         "domain": [
          0.6000000000000001,
          1
         ],
         "range": [
          -0.5,
          4.5
         ],
         "showgrid": true,
         "type": "category"
        },
        "yaxis2": {
         "anchor": "x2",
         "autorange": false,
         "domain": [
          0.6000000000000001,
          1
         ],
         "range": [
          -0.5,
          4.5
         ],
         "showgrid": true,
         "type": "category"
        },
        "yaxis3": {
         "anchor": "x3",
         "autorange": false,
         "domain": [
          0.6000000000000001,
          1
         ],
         "range": [
          -0.5,
          4.5
         ],
         "showgrid": true,
         "type": "category"
        },
        "yaxis4": {
         "anchor": "x4",
         "autorange": false,
         "domain": [
          0.6000000000000001,
          1
         ],
         "range": [
          -0.5,
          4.5
         ],
         "showgrid": true,
         "type": "category"
        },
        "yaxis5": {
         "anchor": "x5",
         "autorange": false,
         "domain": [
          0,
          0.4
         ],
         "range": [
          -0.5,
          4.5
         ],
         "showgrid": true,
         "type": "category"
        },
        "yaxis6": {
         "anchor": "x6",
         "autorange": false,
         "domain": [
          0,
          0.4
         ],
         "range": [
          -0.5,
          4.5
         ],
         "showgrid": true,
         "type": "category"
        },
        "yaxis7": {
         "anchor": "x7",
         "autorange": false,
         "domain": [
          0,
          0.4
         ],
         "range": [
          -0.5,
          4.5
         ],
         "showgrid": true,
         "type": "category"
        },
        "yaxis8": {
         "anchor": "x8",
         "autorange": false,
         "domain": [
          0,
          0.4
         ],
         "range": [
          -0.5,
          8.267123287671232
         ],
         "showgrid": true,
         "type": "category"
        }
       }
      },
      "image/png": "[encoded data removed]",
      "text/html": [
       "<div>                            <div id=\"8f9100a7-eaa4-4f5f-a8f2-927e64ab0f19\" class=\"plotly-graph-div\" style=\"height:500px; width:1000px;\"></div>            <script type=\"text/javascript\">                require([\"plotly\"], function(Plotly) {                    window.PLOTLYENV=window.PLOTLYENV || {};                                    if (document.getElementById(\"8f9100a7-eaa4-4f5f-a8f2-927e64ab0f19\")) {                    Plotly.newPlot(                        \"8f9100a7-eaa4-4f5f-a8f2-927e64ab0f19\",                        [{\"marker\":{\"color\":\"#D55E00\"},\"orientation\":\"h\",\"x\":[0.3849170506000519,0.39463216066360474,0.3971552550792694,0.39877554774284363,0.5546424388885498],\"y\":[\"m\\u00fcssen  \",\"sagen  \",\"uns  \",\"dazu  \",\"klimaschutz  \"],\"type\":\"bar\",\"xaxis\":\"x\",\"yaxis\":\"y\"},{\"marker\":{\"color\":\"#0072B2\"},\"orientation\":\"h\",\"x\":[0.32823073863983154,0.35083943605422974,0.353337824344635,0.41040754318237305,0.5752217173576355],\"y\":[\"emissionshandel  \",\"bundesregierung  \",\"uns  \",\"deutschland  \",\"klimaschutz  \"],\"type\":\"bar\",\"xaxis\":\"x2\",\"yaxis\":\"y2\"},{\"marker\":{\"color\":\"#CC79A7\"},\"orientation\":\"h\",\"x\":[0.3621818423271179,0.3671674430370331,0.3784934878349304,0.4010358452796936,0.4157310724258423],\"y\":[\"geld  \",\"uns  \",\"milliarden  \",\"jetzt  \",\"haushalt  \"],\"type\":\"bar\",\"xaxis\":\"x3\",\"yaxis\":\"y3\"},{\"marker\":{\"color\":\"#E69F00\"},\"orientation\":\"h\",\"x\":[0.4754193425178528,0.49696093797683716,0.5378376841545105,0.5431375503540039,0.551692008972168],\"y\":[\"euro  \",\"europa  \",\"deutschland  \",\"europ\\u00e4ischen  \",\"europ\\u00e4ische  \"],\"type\":\"bar\",\"xaxis\":\"x4\",\"yaxis\":\"y4\"},{\"marker\":{\"color\":\"#56B4E9\"},\"orientation\":\"h\",\"x\":[0.4660150408744812,0.47225192189216614,0.5695807933807373,0.5883545875549316,0.6971213221549988],\"y\":[\"energien  \",\"erneuerbaren  \",\"atomenergie  \",\"kernenergie  \",\"energiepolitik  \"],\"type\":\"bar\",\"xaxis\":\"x5\",\"yaxis\":\"y5\"},{\"marker\":{\"color\":\"#009E73\"},\"orientation\":\"h\",\"x\":[0.4360595941543579,0.4363868236541748,0.45029890537261963,0.4575869143009186,0.49384552240371704],\"y\":[\"sondern  \",\"weil  \",\"sagen  \",\"doch  \",\"gesagt  \"],\"type\":\"bar\",\"xaxis\":\"x6\",\"yaxis\":\"y6\"},{\"marker\":{\"color\":\"#F0E442\"},\"orientation\":\"h\",\"x\":[0.5604723691940308,0.5628792643547058,0.6104590892791748,0.6471381187438965,0.6489673852920532],\"y\":[\"gesetzentwurf  \",\"gegenstimmen  \",\"ausschuss  \",\"ausschusses  \",\"petitionsausschusses  \"],\"type\":\"bar\",\"xaxis\":\"x7\",\"yaxis\":\"y7\"},{\"marker\":{\"color\":\"#D55E00\"},\"orientation\":\"h\",\"x\":[0.380240797996521,0.3852783739566803,0.46383798122406006,0.4708256721496582,0.6197506189346313],\"y\":[\"bundesregierung  \",\"uns  \",\"verkehr  \",\"mobilit\\u00e4t  \",\"verkehrspolitik  \"],\"type\":\"bar\",\"xaxis\":\"x8\",\"yaxis\":\"y8\"}],                        {\"template\":{\"data\":{\"barpolar\":[{\"marker\":{\"line\":{\"color\":\"white\",\"width\":0.5},\"pattern\":{\"fillmode\":\"overlay\",\"size\":10,\"solidity\":0.2}},\"type\":\"barpolar\"}],\"bar\":[{\"error_x\":{\"color\":\"#2a3f5f\"},\"error_y\":{\"color\":\"#2a3f5f\"},\"marker\":{\"line\":{\"color\":\"white\",\"width\":0.5},\"pattern\":{\"fillmode\":\"overlay\",\"size\":10,\"solidity\":0.2}},\"type\":\"bar\"}],\"carpet\":[{\"aaxis\":{\"endlinecolor\":\"#2a3f5f\",\"gridcolor\":\"#C8D4E3\",\"linecolor\":\"#C8D4E3\",\"minorgridcolor\":\"#C8D4E3\",\"startlinecolor\":\"#2a3f5f\"},\"baxis\":{\"endlinecolor\":\"#2a3f5f\",\"gridcolor\":\"#C8D4E3\",\"linecolor\":\"#C8D4E3\",\"minorgridcolor\":\"#C8D4E3\",\"startlinecolor\":\"#2a3f5f\"},\"type\":\"carpet\"}],\"choropleth\":[{\"colorbar\":{\"outlinewidth\":0,\"ticks\":\"\"},\"type\":\"choropleth\"}],\"contourcarpet\":[{\"colorbar\":{\"outlinewidth\":0,\"ticks\":\"\"},\"type\":\"contourcarpet\"}],\"contour\":[{\"colorbar\":{\"outlinewidth\":0,\"ticks\":\"\"},\"colorscale\":[[0.0,\"#0d0887\"],[0.1111111111111111,\"#46039f\"],[0.2222222222222222,\"#7201a8\"],[0.3333333333333333,\"#9c179e\"],[0.4444444444444444,\"#bd3786\"],[0.5555555555555556,\"#d8576b\"],[0.6666666666666666,\"#ed7953\"],[0.7777777777777778,\"#fb9f3a\"],[0.8888888888888888,\"#fdca26\"],[1.0,\"#f0f921\"]],\"type\":\"contour\"}],\"heatmapgl\":[{\"colorbar\":{\"outlinewidth\":0,\"ticks\":\"\"},\"colorscale\":[[0.0,\"#0d0887\"],[0.1111111111111111,\"#46039f\"],[0.2222222222222222,\"#7201a8\"],[0.3333333333333333,\"#9c179e\"],[0.4444444444444444,\"#bd3786\"],[0.5555555555555556,\"#d8576b\"],[0.6666666666666666,\"#ed7953\"],[0.7777777777777778,\"#fb9f3a\"],[0.8888888888888888,\"#fdca26\"],[1.0,\"#f0f921\"]],\"type\":\"heatmapgl\"}],\"heatmap\":[{\"colorbar\":{\"outlinewidth\":0,\"ticks\":\"\"},\"colorscale\":[[0.0,\"#0d0887\"],[0.1111111111111111,\"#46039f\"],[0.2222222222222222,\"#7201a8\"],[0.3333333333333333,\"#9c179e\"],[0.4444444444444444,\"#bd3786\"],[0.5555555555555556,\"#d8576b\"],[0.6666666666666666,\"#ed7953\"],[0.7777777777777778,\"#fb9f3a\"],[0.8888888888888888,\"#fdca26\"],[1.0,\"#f0f921\"]],\"type\":\"heatmap\"}],\"histogram2dcontour\":[{\"colorbar\":{\"outlinewidth\":0,\"ticks\":\"\"},\"colorscale\":[[0.0,\"#0d0887\"],[0.1111111111111111,\"#46039f\"],[0.2222222222222222,\"#7201a8\"],[0.3333333333333333,\"#9c179e\"],[0.4444444444444444,\"#bd3786\"],[0.5555555555555556,\"#d8576b\"],[0.6666666666666666,\"#ed7953\"],[0.7777777777777778,\"#fb9f3a\"],[0.8888888888888888,\"#fdca26\"],[1.0,\"#f0f921\"]],\"type\":\"histogram2dcontour\"}],\"histogram2d\":[{\"colorbar\":{\"outlinewidth\":0,\"ticks\":\"\"},\"colorscale\":[[0.0,\"#0d0887\"],[0.1111111111111111,\"#46039f\"],[0.2222222222222222,\"#7201a8\"],[0.3333333333333333,\"#9c179e\"],[0.4444444444444444,\"#bd3786\"],[0.5555555555555556,\"#d8576b\"],[0.6666666666666666,\"#ed7953\"],[0.7777777777777778,\"#fb9f3a\"],[0.8888888888888888,\"#fdca26\"],[1.0,\"#f0f921\"]],\"type\":\"histogram2d\"}],\"histogram\":[{\"marker\":{\"pattern\":{\"fillmode\":\"overlay\",\"size\":10,\"solidity\":0.2}},\"type\":\"histogram\"}],\"mesh3d\":[{\"colorbar\":{\"outlinewidth\":0,\"ticks\":\"\"},\"type\":\"mesh3d\"}],\"parcoords\":[{\"line\":{\"colorbar\":{\"outlinewidth\":0,\"ticks\":\"\"}},\"type\":\"parcoords\"}],\"pie\":[{\"automargin\":true,\"type\":\"pie\"}],\"scatter3d\":[{\"line\":{\"colorbar\":{\"outlinewidth\":0,\"ticks\":\"\"}},\"marker\":{\"colorbar\":{\"outlinewidth\":0,\"ticks\":\"\"}},\"type\":\"scatter3d\"}],\"scattercarpet\":[{\"marker\":{\"colorbar\":{\"outlinewidth\":0,\"ticks\":\"\"}},\"type\":\"scattercarpet\"}],\"scattergeo\":[{\"marker\":{\"colorbar\":{\"outlinewidth\":0,\"ticks\":\"\"}},\"type\":\"scattergeo\"}],\"scattergl\":[{\"marker\":{\"colorbar\":{\"outlinewidth\":0,\"ticks\":\"\"}},\"type\":\"scattergl\"}],\"scattermapbox\":[{\"marker\":{\"colorbar\":{\"outlinewidth\":0,\"ticks\":\"\"}},\"type\":\"scattermapbox\"}],\"scatterpolargl\":[{\"marker\":{\"colorbar\":{\"outlinewidth\":0,\"ticks\":\"\"}},\"type\":\"scatterpolargl\"}],\"scatterpolar\":[{\"marker\":{\"colorbar\":{\"outlinewidth\":0,\"ticks\":\"\"}},\"type\":\"scatterpolar\"}],\"scatter\":[{\"fillpattern\":{\"fillmode\":\"overlay\",\"size\":10,\"solidity\":0.2},\"type\":\"scatter\"}],\"scatterternary\":[{\"marker\":{\"colorbar\":{\"outlinewidth\":0,\"ticks\":\"\"}},\"type\":\"scatterternary\"}],\"surface\":[{\"colorbar\":{\"outlinewidth\":0,\"ticks\":\"\"},\"colorscale\":[[0.0,\"#0d0887\"],[0.1111111111111111,\"#46039f\"],[0.2222222222222222,\"#7201a8\"],[0.3333333333333333,\"#9c179e\"],[0.4444444444444444,\"#bd3786\"],[0.5555555555555556,\"#d8576b\"],[0.6666666666666666,\"#ed7953\"],[0.7777777777777778,\"#fb9f3a\"],[0.8888888888888888,\"#fdca26\"],[1.0,\"#f0f921\"]],\"type\":\"surface\"}],\"table\":[{\"cells\":{\"fill\":{\"color\":\"#EBF0F8\"},\"line\":{\"color\":\"white\"}},\"header\":{\"fill\":{\"color\":\"#C8D4E3\"},\"line\":{\"color\":\"white\"}},\"type\":\"table\"}]},\"layout\":{\"annotationdefaults\":{\"arrowcolor\":\"#2a3f5f\",\"arrowhead\":0,\"arrowwidth\":1},\"autotypenumbers\":\"strict\",\"coloraxis\":{\"colorbar\":{\"outlinewidth\":0,\"ticks\":\"\"}},\"colorscale\":{\"diverging\":[[0,\"#8e0152\"],[0.1,\"#c51b7d\"],[0.2,\"#de77ae\"],[0.3,\"#f1b6da\"],[0.4,\"#fde0ef\"],[0.5,\"#f7f7f7\"],[0.6,\"#e6f5d0\"],[0.7,\"#b8e186\"],[0.8,\"#7fbc41\"],[0.9,\"#4d9221\"],[1,\"#276419\"]],\"sequential\":[[0.0,\"#0d0887\"],[0.1111111111111111,\"#46039f\"],[0.2222222222222222,\"#7201a8\"],[0.3333333333333333,\"#9c179e\"],[0.4444444444444444,\"#bd3786\"],[0.5555555555555556,\"#d8576b\"],[0.6666666666666666,\"#ed7953\"],[0.7777777777777778,\"#fb9f3a\"],[0.8888888888888888,\"#fdca26\"],[1.0,\"#f0f921\"]],\"sequentialminus\":[[0.0,\"#0d0887\"],[0.1111111111111111,\"#46039f\"],[0.2222222222222222,\"#7201a8\"],[0.3333333333333333,\"#9c179e\"],[0.4444444444444444,\"#bd3786\"],[0.5555555555555556,\"#d8576b\"],[0.6666666666666666,\"#ed7953\"],[0.7777777777777778,\"#fb9f3a\"],[0.8888888888888888,\"#fdca26\"],[1.0,\"#f0f921\"]]},\"colorway\":[\"#636efa\",\"#EF553B\",\"#00cc96\",\"#ab63fa\",\"#FFA15A\",\"#19d3f3\",\"#FF6692\",\"#B6E880\",\"#FF97FF\",\"#FECB52\"],\"font\":{\"color\":\"#2a3f5f\"},\"geo\":{\"bgcolor\":\"white\",\"lakecolor\":\"white\",\"landcolor\":\"white\",\"showlakes\":true,\"showland\":true,\"subunitcolor\":\"#C8D4E3\"},\"hoverlabel\":{\"align\":\"left\"},\"hovermode\":\"closest\",\"mapbox\":{\"style\":\"light\"},\"paper_bgcolor\":\"white\",\"plot_bgcolor\":\"white\",\"polar\":{\"angularaxis\":{\"gridcolor\":\"#EBF0F8\",\"linecolor\":\"#EBF0F8\",\"ticks\":\"\"},\"bgcolor\":\"white\",\"radialaxis\":{\"gridcolor\":\"#EBF0F8\",\"linecolor\":\"#EBF0F8\",\"ticks\":\"\"}},\"scene\":{\"xaxis\":{\"backgroundcolor\":\"white\",\"gridcolor\":\"#DFE8F3\",\"gridwidth\":2,\"linecolor\":\"#EBF0F8\",\"showbackground\":true,\"ticks\":\"\",\"zerolinecolor\":\"#EBF0F8\"},\"yaxis\":{\"backgroundcolor\":\"white\",\"gridcolor\":\"#DFE8F3\",\"gridwidth\":2,\"linecolor\":\"#EBF0F8\",\"showbackground\":true,\"ticks\":\"\",\"zerolinecolor\":\"#EBF0F8\"},\"zaxis\":{\"backgroundcolor\":\"white\",\"gridcolor\":\"#DFE8F3\",\"gridwidth\":2,\"linecolor\":\"#EBF0F8\",\"showbackground\":true,\"ticks\":\"\",\"zerolinecolor\":\"#EBF0F8\"}},\"shapedefaults\":{\"line\":{\"color\":\"#2a3f5f\"}},\"ternary\":{\"aaxis\":{\"gridcolor\":\"#DFE8F3\",\"linecolor\":\"#A2B1C6\",\"ticks\":\"\"},\"baxis\":{\"gridcolor\":\"#DFE8F3\",\"linecolor\":\"#A2B1C6\",\"ticks\":\"\"},\"bgcolor\":\"white\",\"caxis\":{\"gridcolor\":\"#DFE8F3\",\"linecolor\":\"#A2B1C6\",\"ticks\":\"\"}},\"title\":{\"x\":0.05},\"xaxis\":{\"automargin\":true,\"gridcolor\":\"#EBF0F8\",\"linecolor\":\"#EBF0F8\",\"ticks\":\"\",\"title\":{\"standoff\":15},\"zerolinecolor\":\"#EBF0F8\",\"zerolinewidth\":2},\"yaxis\":{\"automargin\":true,\"gridcolor\":\"#EBF0F8\",\"linecolor\":\"#EBF0F8\",\"ticks\":\"\",\"title\":{\"standoff\":15},\"zerolinecolor\":\"#EBF0F8\",\"zerolinewidth\":2}}},\"xaxis\":{\"anchor\":\"y\",\"domain\":[0.0,0.175],\"showgrid\":true},\"yaxis\":{\"anchor\":\"x\",\"domain\":[0.6000000000000001,1.0],\"showgrid\":true},\"xaxis2\":{\"anchor\":\"y2\",\"domain\":[0.275,0.45],\"showgrid\":true},\"yaxis2\":{\"anchor\":\"x2\",\"domain\":[0.6000000000000001,1.0],\"showgrid\":true},\"xaxis3\":{\"anchor\":\"y3\",\"domain\":[0.55,0.7250000000000001],\"showgrid\":true},\"yaxis3\":{\"anchor\":\"x3\",\"domain\":[0.6000000000000001,1.0],\"showgrid\":true},\"xaxis4\":{\"anchor\":\"y4\",\"domain\":[0.825,1.0],\"showgrid\":true},\"yaxis4\":{\"anchor\":\"x4\",\"domain\":[0.6000000000000001,1.0],\"showgrid\":true},\"xaxis5\":{\"anchor\":\"y5\",\"domain\":[0.0,0.175],\"showgrid\":true},\"yaxis5\":{\"anchor\":\"x5\",\"domain\":[0.0,0.4],\"showgrid\":true},\"xaxis6\":{\"anchor\":\"y6\",\"domain\":[0.275,0.45],\"showgrid\":true},\"yaxis6\":{\"anchor\":\"x6\",\"domain\":[0.0,0.4],\"showgrid\":true},\"xaxis7\":{\"anchor\":\"y7\",\"domain\":[0.55,0.7250000000000001],\"showgrid\":true},\"yaxis7\":{\"anchor\":\"x7\",\"domain\":[0.0,0.4],\"showgrid\":true},\"xaxis8\":{\"anchor\":\"y8\",\"domain\":[0.825,1.0],\"showgrid\":true},\"yaxis8\":{\"anchor\":\"x8\",\"domain\":[0.0,0.4],\"showgrid\":true},\"annotations\":[{\"font\":{\"size\":16},\"showarrow\":false,\"text\":\"Topic 0\",\"x\":0.0875,\"xanchor\":\"center\",\"xref\":\"paper\",\"y\":1.0,\"yanchor\":\"bottom\",\"yref\":\"paper\"},{\"font\":{\"size\":16},\"showarrow\":false,\"text\":\"Topic 1\",\"x\":0.36250000000000004,\"xanchor\":\"center\",\"xref\":\"paper\",\"y\":1.0,\"yanchor\":\"bottom\",\"yref\":\"paper\"},{\"font\":{\"size\":16},\"showarrow\":false,\"text\":\"Topic 2\",\"x\":0.6375000000000001,\"xanchor\":\"center\",\"xref\":\"paper\",\"y\":1.0,\"yanchor\":\"bottom\",\"yref\":\"paper\"},{\"font\":{\"size\":16},\"showarrow\":false,\"text\":\"Topic 3\",\"x\":0.9125,\"xanchor\":\"center\",\"xref\":\"paper\",\"y\":1.0,\"yanchor\":\"bottom\",\"yref\":\"paper\"},{\"font\":{\"size\":16},\"showarrow\":false,\"text\":\"Topic 4\",\"x\":0.0875,\"xanchor\":\"center\",\"xref\":\"paper\",\"y\":0.4,\"yanchor\":\"bottom\",\"yref\":\"paper\"},{\"font\":{\"size\":16},\"showarrow\":false,\"text\":\"Topic 5\",\"x\":0.36250000000000004,\"xanchor\":\"center\",\"xref\":\"paper\",\"y\":0.4,\"yanchor\":\"bottom\",\"yref\":\"paper\"},{\"font\":{\"size\":16},\"showarrow\":false,\"text\":\"Topic 6\",\"x\":0.6375000000000001,\"xanchor\":\"center\",\"xref\":\"paper\",\"y\":0.4,\"yanchor\":\"bottom\",\"yref\":\"paper\"},{\"font\":{\"size\":16},\"showarrow\":false,\"text\":\"Topic 7\",\"x\":0.9125,\"xanchor\":\"center\",\"xref\":\"paper\",\"y\":0.4,\"yanchor\":\"bottom\",\"yref\":\"paper\"}],\"title\":{\"font\":{\"size\":22,\"color\":\"Black\"},\"text\":\"Topic Word Scores\",\"x\":0.5,\"xanchor\":\"center\",\"yanchor\":\"top\"},\"hoverlabel\":{\"font\":{\"size\":16,\"family\":\"Rockwell\"},\"bgcolor\":\"white\"},\"showlegend\":false,\"width\":1000,\"height\":500},                        {\"responsive\": true}                    ).then(function(){\n",
       "                            \n",
       "var gd = document.getElementById('8f9100a7-eaa4-4f5f-a8f2-927e64ab0f19');\n",
       "var x = new MutationObserver(function (mutations, observer) {{\n",
       "        var display = window.getComputedStyle(gd).display;\n",
       "        if (!display || display === 'none') {{\n",
       "            console.log([gd, 'removed!']);\n",
       "            Plotly.purge(gd);\n",
       "            observer.disconnect();\n",
       "        }}\n",
       "}});\n",
       "\n",
       "// Listen for the removal of the full notebook cells\n",
       "var notebookContainer = gd.closest('#notebook-container');\n",
       "if (notebookContainer) {{\n",
       "    x.observe(notebookContainer, {childList: true});\n",
       "}}\n",
       "\n",
       "// Listen for the clearing of the current output cell\n",
       "var outputEl = gd.closest('.output');\n",
       "if (outputEl) {{\n",
       "    x.observe(outputEl, {childList: true});\n",
       "}}\n",
       "\n",
       "                        })                };                });            </script>        </div>"
      ]
     },
     "metadata": {},
     "output_type": "display_data"
    }
   ],
   "source": [
    "topic_model.visualize_barchart()"
   ]
  },
  {
   "cell_type": "code",
   "execution_count": 80,
   "id": "4c0eb0f9-9c9b-4373-92be-636be735bf7c",
   "metadata": {},
   "outputs": [],
   "source": [
    "dftm = pd.DataFrame({\"Document\": speeches, \"Topic\": topic_model.topics_})"
   ]
  },
  {
   "cell_type": "code",
   "execution_count": 98,
   "id": "73611c3d-7ebe-44a8-a7f0-62f05be99b7e",
   "metadata": {},
   "outputs": [
    {
     "data": {
      "text/plain": [
       "90"
      ]
     },
     "execution_count": 98,
     "metadata": {},
     "output_type": "execute_result"
    }
   ],
   "source": [
    "x = dftm[dftm[\"Topic\"] == 8]\n",
    "len(x)"
   ]
  },
  {
   "cell_type": "code",
   "execution_count": 105,
   "id": "07f66c2e-3178-4b47-b6b7-e2ffaaa7922f",
   "metadata": {},
   "outputs": [],
   "source": [
    "docs = x.Document.to_list()"
   ]
  },
  {
   "cell_type": "code",
   "execution_count": 106,
   "id": "9cbb04b8-b0ee-4c10-b7fb-2bd4d660d797",
   "metadata": {},
   "outputs": [],
   "source": [
    "representation_model = KeyBERTInspired()\n",
    "\n",
    "topic_model = BERTopic(representation_model=representation_model, language = \"multilingual\", nr_topics=15)\n",
    "topics, probs = topic_model.fit_transform(docs)"
   ]
  },
  {
   "cell_type": "code",
   "execution_count": 112,
   "id": "5cf9fa12-b647-4792-8b46-01414b492081",
   "metadata": {},
   "outputs": [
    {
     "data": {
      "text/plain": [
       "Topic\n",
       " 1    50\n",
       " 0    39\n",
       "-1     1\n",
       "Name: count, dtype: int64"
      ]
     },
     "execution_count": 112,
     "metadata": {},
     "output_type": "execute_result"
    }
   ],
   "source": [
    "pd.DataFrame({\"Document\": texts, \"Topic\": topic_model.topics_})[\"Topic\"].value_counts()"
   ]
  },
  {
   "cell_type": "code",
   "execution_count": 11,
   "id": "3b553971-c5f9-48cc-8349-997709cf2902",
   "metadata": {},
   "outputs": [],
   "source": [
    "#topic_model.visualize_topics()"
   ]
  },
  {
   "cell_type": "code",
   "execution_count": null,
   "id": "61d7be26-8144-4f4c-8ea4-84f2187140bc",
   "metadata": {},
   "outputs": [],
   "source": []
  }
 ],
 "metadata": {
  "kernelspec": {
   "display_name": "Python 3 (ipykernel)",
   "language": "python",
   "name": "python3"
  },
  "language_info": {
   "codemirror_mode": {
    "name": "ipython",
    "version": 3
   },
   "file_extension": ".py",
   "mimetype": "text/x-python",
   "name": "python",
   "nbconvert_exporter": "python",
   "pygments_lexer": "ipython3",
   "version": "3.11.7"
  }
 },
 "nbformat": 4,
 "nbformat_minor": 5
}
