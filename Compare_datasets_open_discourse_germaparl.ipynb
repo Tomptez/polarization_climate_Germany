{
 "cells": [
  {
   "cell_type": "code",
   "execution_count": 1,
   "id": "92645ad4-88db-42e5-aaa2-c9625a9d7de1",
   "metadata": {},
   "outputs": [],
   "source": [
    "%matplotlib inline\n",
    "import pandas as pd\n",
    "import numpy as np\n",
    "import datetime\n",
    "from matplotlib import pyplot as plt\n",
    "import plotly.express as px\n",
    "pd.set_option(\"display.max_columns\", 200)\n",
    "pd.set_option(\"display.max_rows\", 400)\n",
    "pd.set_option(\"display.max_colwidth\", None) # -1 for all of it"
   ]
  },
  {
   "cell_type": "code",
   "execution_count": 4,
   "id": "eb7bc973-aabc-463e-a58e-fd7593689a6a",
   "metadata": {},
   "outputs": [],
   "source": [
    "dfo = pd.read_feather(\"data/open_discourse_1819.feather\")\n",
    "dfo[\"speech_content\"] = dfo[\"speech_content\"].str.normalize('NFKD')\n",
    "dfo.sort_index(inplace=True)"
   ]
  },
  {
   "cell_type": "code",
   "execution_count": 6,
   "id": "b042bd47-bf59-4e4d-a9c1-32878ed3f7c0",
   "metadata": {},
   "outputs": [],
   "source": [
    "dfg = pd.read_feather(\"data/germaparl.feather\")\n",
    "dfg[\"last_name\"] = dfg.name.str.split().str[-1]\n",
    "dfg[\"speech\"] = dfg[\"speech\"].str.normalize('NFKD')\n",
    "#dfg.head(1)"
   ]
  },
  {
   "cell_type": "code",
   "execution_count": 18,
   "id": "b0e40369-14ac-4a57-b03c-86ffd112b9ca",
   "metadata": {},
   "outputs": [],
   "source": [
    "# calculate difference of speeches in each session\n",
    "dfoo = dfo[dfo[\"electoral_term\"] == 18]\n",
    "dfgg = dfg[dfg[\"electoral_term\"] == 18]\n",
    "x = dfgg.value_counts(\"session\", sort=False)\n",
    "y = dfoo.value_counts(\"session\", sort=False)\n",
    "x18 = x-y\n",
    "dfoo = dfo[dfo[\"electoral_term\"] == 19]\n",
    "dfgg = dfg[dfg[\"electoral_term\"] == 19]\n",
    "x = dfgg.value_counts(\"session\", sort=False)\n",
    "y = dfoo.value_counts(\"session\", sort=False)\n",
    "x19 = x-y"
   ]
  },
  {
   "cell_type": "markdown",
   "id": "55a46769-d2fd-456f-ab20-87eaa819693c",
   "metadata": {},
   "source": [
    "## Difference in number of speeches\n",
    "### Numbers in \"diff\" show germanparl source minus open discourse"
   ]
  },
  {
   "cell_type": "code",
   "execution_count": 19,
   "id": "4d5739a3-2cd4-4799-8ba1-b6cba7c27412",
   "metadata": {},
   "outputs": [
    {
     "name": "stdout",
     "output_type": "stream",
     "text": [
      "18   -22\n",
      "19     0\n",
      "dtype: int64 \n",
      " 18    134\n",
      "19    295\n",
      "dtype: int64\n"
     ]
    }
   ],
   "source": [
    "# Calculate differences\n",
    "diff = pd.concat([x18, x19.astype(int)], axis=1)\n",
    "diff.columns = [\"18\", \"19\"]\n",
    "diff[\"19\"] = diff[\"19\"].fillna(0)\n",
    "diff[\"19\"] = diff[\"19\"].astype(int)\n",
    "print(diff.min(), \"\\n\", diff.max())"
   ]
  },
  {
   "cell_type": "markdown",
   "id": "ceb2dad6-f736-4a07-840e-8121c0d35dfe",
   "metadata": {},
   "source": [
    "# Electoral Term 18"
   ]
  },
  {
   "cell_type": "code",
   "execution_count": 21,
   "id": "cccd2b1e-0c3d-40ea-88d5-78999ae36fcd",
   "metadata": {
    "scrolled": true
   },
   "outputs": [
    {
     "data": {
      "application/vnd.plotly.v1+json": {
       "config": {
        "plotlyServerURL": "https://plot.ly"
       },
       "data": [
        {
         "alignmentgroup": "True",
         "hovertemplate": "=%{x}<br>18=%{y}<extra></extra>",
         "legendgroup": "",
         "marker": {
          "color": "#636efa",
          "pattern": {
           "shape": ""
          }
         },
         "name": "",
         "offsetgroup": "",
         "orientation": "v",
         "showlegend": false,
         "textposition": "auto",
         "type": "bar",
         "x": [
          1,
          2,
          3,
          4,
          5,
          6,
          7,
          8,
          9,
          10,
          11,
          12,
          13,
          14,
          15,
          16,
          17,
          18,
          19,
          20,
          21,
          22,
          23,
          24,
          25,
          26,
          27,
          28,
          29,
          30,
          31,
          32,
          33,
          34,
          35,
          36,
          37,
          38,
          39,
          40,
          41,
          42,
          43,
          44,
          45,
          46,
          47,
          48,
          49,
          50,
          51,
          52,
          53,
          54,
          55,
          56,
          57,
          58,
          59,
          60,
          61,
          62,
          63,
          64,
          65,
          66,
          67,
          68,
          69,
          70,
          71,
          72,
          73,
          74,
          75,
          76,
          77,
          78,
          79,
          80,
          81,
          82,
          83,
          84,
          85,
          86,
          87,
          88,
          89,
          90,
          91,
          92,
          93,
          94,
          95,
          96,
          97,
          98,
          99,
          100,
          101,
          102,
          103,
          104,
          105,
          106,
          107,
          108,
          109,
          110,
          111,
          112,
          113,
          114,
          115,
          116,
          117,
          118,
          119,
          120,
          121,
          122,
          123,
          124,
          125,
          126,
          127,
          128,
          129,
          130,
          131,
          132,
          133,
          134,
          135,
          136,
          137,
          138,
          139,
          140,
          141,
          142,
          143,
          144,
          145,
          146,
          147,
          148,
          149,
          150,
          151,
          152,
          153,
          154,
          155,
          156,
          157,
          158,
          159,
          160,
          161,
          162,
          163,
          164,
          165,
          166,
          167,
          168,
          169,
          170,
          171,
          172,
          173,
          174,
          175,
          176,
          177,
          178,
          179,
          180,
          181,
          182,
          183,
          184,
          185,
          186,
          187,
          188,
          189,
          190,
          191,
          192,
          193,
          194,
          195,
          196,
          197,
          198,
          199,
          200,
          201,
          202,
          203,
          204,
          205,
          206,
          207,
          208,
          209,
          210,
          211,
          212,
          213,
          214,
          215,
          216,
          217,
          218,
          219,
          220,
          221,
          222,
          223,
          224,
          225,
          226,
          227,
          228,
          229,
          230,
          231,
          232,
          233,
          234,
          235,
          236,
          237,
          238,
          239,
          240,
          241,
          242,
          243,
          244,
          245
         ],
         "xaxis": "x",
         "y": [
          0,
          0,
          0,
          0,
          0,
          3,
          1,
          0,
          -1,
          1,
          -1,
          0,
          0,
          0,
          0,
          0,
          -4,
          0,
          -1,
          4,
          0,
          0,
          7,
          -2,
          0,
          5,
          0,
          0,
          1,
          -1,
          -1,
          -1,
          8,
          -1,
          0,
          0,
          0,
          1,
          -1,
          -1,
          -1,
          2,
          0,
          0,
          0,
          38,
          0,
          -1,
          0,
          0,
          0,
          0,
          1,
          -4,
          0,
          0,
          0,
          1,
          0,
          6,
          0,
          -9,
          -3,
          0,
          0,
          34,
          -1,
          0,
          0,
          -2,
          0,
          -10,
          -1,
          0,
          -1,
          28,
          0,
          0,
          -3,
          0,
          2,
          2,
          0,
          -14,
          -1,
          0,
          0,
          -3,
          -1,
          0,
          0,
          0,
          -1,
          0,
          0,
          0,
          -1,
          31,
          -3,
          0,
          1,
          0,
          16,
          1,
          0,
          -1,
          -1,
          3,
          -2,
          0,
          0,
          -1,
          -1,
          0,
          0,
          0,
          0,
          1,
          -22,
          0,
          0,
          0,
          4,
          20,
          -2,
          -5,
          0,
          0,
          3,
          49,
          7,
          0,
          34,
          0,
          7,
          39,
          0,
          0,
          0,
          -2,
          0,
          0,
          2,
          64,
          22,
          26,
          0,
          -1,
          0,
          0,
          0,
          20,
          1,
          2,
          1,
          5,
          9,
          61,
          0,
          4,
          2,
          0,
          1,
          3,
          1,
          0,
          99,
          7,
          1,
          10,
          5,
          1,
          40,
          1,
          4,
          41,
          0,
          6,
          37,
          19,
          -1,
          0,
          81,
          10,
          0,
          0,
          -2,
          0,
          1,
          23,
          0,
          1,
          28,
          0,
          0,
          -3,
          0,
          -4,
          77,
          11,
          0,
          0,
          -1,
          0,
          20,
          53,
          11,
          0,
          72,
          0,
          3,
          31,
          1,
          0,
          49,
          0,
          18,
          32,
          0,
          0,
          92,
          0,
          1,
          26,
          50,
          28,
          0,
          72,
          0,
          14,
          -2,
          3,
          -2,
          -2,
          2,
          3,
          134,
          -2,
          1,
          32,
          9,
          24,
          42,
          76,
          0
         ],
         "yaxis": "y"
        }
       ],
       "layout": {
        "autosize": true,
        "barmode": "relative",
        "legend": {
         "tracegroupgap": 0
        },
        "template": {
         "data": {
          "bar": [
           {
            "error_x": {
             "color": "#2a3f5f"
            },
            "error_y": {
             "color": "#2a3f5f"
            },
            "marker": {
             "line": {
              "color": "#E5ECF6",
              "width": 0.5
             },
             "pattern": {
              "fillmode": "overlay",
              "size": 10,
              "solidity": 0.2
             }
            },
            "type": "bar"
           }
          ],
          "barpolar": [
           {
            "marker": {
             "line": {
              "color": "#E5ECF6",
              "width": 0.5
             },
             "pattern": {
              "fillmode": "overlay",
              "size": 10,
              "solidity": 0.2
             }
            },
            "type": "barpolar"
           }
          ],
          "carpet": [
           {
            "aaxis": {
             "endlinecolor": "#2a3f5f",
             "gridcolor": "white",
             "linecolor": "white",
             "minorgridcolor": "white",
             "startlinecolor": "#2a3f5f"
            },
            "baxis": {
             "endlinecolor": "#2a3f5f",
             "gridcolor": "white",
             "linecolor": "white",
             "minorgridcolor": "white",
             "startlinecolor": "#2a3f5f"
            },
            "type": "carpet"
           }
          ],
          "choropleth": [
           {
            "colorbar": {
             "outlinewidth": 0,
             "ticks": ""
            },
            "type": "choropleth"
           }
          ],
          "contour": [
           {
            "colorbar": {
             "outlinewidth": 0,
             "ticks": ""
            },
            "colorscale": [
             [
              0,
              "#0d0887"
             ],
             [
              0.1111111111111111,
              "#46039f"
             ],
             [
              0.2222222222222222,
              "#7201a8"
             ],
             [
              0.3333333333333333,
              "#9c179e"
             ],
             [
              0.4444444444444444,
              "#bd3786"
             ],
             [
              0.5555555555555556,
              "#d8576b"
             ],
             [
              0.6666666666666666,
              "#ed7953"
             ],
             [
              0.7777777777777778,
              "#fb9f3a"
             ],
             [
              0.8888888888888888,
              "#fdca26"
             ],
             [
              1,
              "#f0f921"
             ]
            ],
            "type": "contour"
           }
          ],
          "contourcarpet": [
           {
            "colorbar": {
             "outlinewidth": 0,
             "ticks": ""
            },
            "type": "contourcarpet"
           }
          ],
          "heatmap": [
           {
            "colorbar": {
             "outlinewidth": 0,
             "ticks": ""
            },
            "colorscale": [
             [
              0,
              "#0d0887"
             ],
             [
              0.1111111111111111,
              "#46039f"
             ],
             [
              0.2222222222222222,
              "#7201a8"
             ],
             [
              0.3333333333333333,
              "#9c179e"
             ],
             [
              0.4444444444444444,
              "#bd3786"
             ],
             [
              0.5555555555555556,
              "#d8576b"
             ],
             [
              0.6666666666666666,
              "#ed7953"
             ],
             [
              0.7777777777777778,
              "#fb9f3a"
             ],
             [
              0.8888888888888888,
              "#fdca26"
             ],
             [
              1,
              "#f0f921"
             ]
            ],
            "type": "heatmap"
           }
          ],
          "heatmapgl": [
           {
            "colorbar": {
             "outlinewidth": 0,
             "ticks": ""
            },
            "colorscale": [
             [
              0,
              "#0d0887"
             ],
             [
              0.1111111111111111,
              "#46039f"
             ],
             [
              0.2222222222222222,
              "#7201a8"
             ],
             [
              0.3333333333333333,
              "#9c179e"
             ],
             [
              0.4444444444444444,
              "#bd3786"
             ],
             [
              0.5555555555555556,
              "#d8576b"
             ],
             [
              0.6666666666666666,
              "#ed7953"
             ],
             [
              0.7777777777777778,
              "#fb9f3a"
             ],
             [
              0.8888888888888888,
              "#fdca26"
             ],
             [
              1,
              "#f0f921"
             ]
            ],
            "type": "heatmapgl"
           }
          ],
          "histogram": [
           {
            "marker": {
             "pattern": {
              "fillmode": "overlay",
              "size": 10,
              "solidity": 0.2
             }
            },
            "type": "histogram"
           }
          ],
          "histogram2d": [
           {
            "colorbar": {
             "outlinewidth": 0,
             "ticks": ""
            },
            "colorscale": [
             [
              0,
              "#0d0887"
             ],
             [
              0.1111111111111111,
              "#46039f"
             ],
             [
              0.2222222222222222,
              "#7201a8"
             ],
             [
              0.3333333333333333,
              "#9c179e"
             ],
             [
              0.4444444444444444,
              "#bd3786"
             ],
             [
              0.5555555555555556,
              "#d8576b"
             ],
             [
              0.6666666666666666,
              "#ed7953"
             ],
             [
              0.7777777777777778,
              "#fb9f3a"
             ],
             [
              0.8888888888888888,
              "#fdca26"
             ],
             [
              1,
              "#f0f921"
             ]
            ],
            "type": "histogram2d"
           }
          ],
          "histogram2dcontour": [
           {
            "colorbar": {
             "outlinewidth": 0,
             "ticks": ""
            },
            "colorscale": [
             [
              0,
              "#0d0887"
             ],
             [
              0.1111111111111111,
              "#46039f"
             ],
             [
              0.2222222222222222,
              "#7201a8"
             ],
             [
              0.3333333333333333,
              "#9c179e"
             ],
             [
              0.4444444444444444,
              "#bd3786"
             ],
             [
              0.5555555555555556,
              "#d8576b"
             ],
             [
              0.6666666666666666,
              "#ed7953"
             ],
             [
              0.7777777777777778,
              "#fb9f3a"
             ],
             [
              0.8888888888888888,
              "#fdca26"
             ],
             [
              1,
              "#f0f921"
             ]
            ],
            "type": "histogram2dcontour"
           }
          ],
          "mesh3d": [
           {
            "colorbar": {
             "outlinewidth": 0,
             "ticks": ""
            },
            "type": "mesh3d"
           }
          ],
          "parcoords": [
           {
            "line": {
             "colorbar": {
              "outlinewidth": 0,
              "ticks": ""
             }
            },
            "type": "parcoords"
           }
          ],
          "pie": [
           {
            "automargin": true,
            "type": "pie"
           }
          ],
          "scatter": [
           {
            "fillpattern": {
             "fillmode": "overlay",
             "size": 10,
             "solidity": 0.2
            },
            "type": "scatter"
           }
          ],
          "scatter3d": [
           {
            "line": {
             "colorbar": {
              "outlinewidth": 0,
              "ticks": ""
             }
            },
            "marker": {
             "colorbar": {
              "outlinewidth": 0,
              "ticks": ""
             }
            },
            "type": "scatter3d"
           }
          ],
          "scattercarpet": [
           {
            "marker": {
             "colorbar": {
              "outlinewidth": 0,
              "ticks": ""
             }
            },
            "type": "scattercarpet"
           }
          ],
          "scattergeo": [
           {
            "marker": {
             "colorbar": {
              "outlinewidth": 0,
              "ticks": ""
             }
            },
            "type": "scattergeo"
           }
          ],
          "scattergl": [
           {
            "marker": {
             "colorbar": {
              "outlinewidth": 0,
              "ticks": ""
             }
            },
            "type": "scattergl"
           }
          ],
          "scattermapbox": [
           {
            "marker": {
             "colorbar": {
              "outlinewidth": 0,
              "ticks": ""
             }
            },
            "type": "scattermapbox"
           }
          ],
          "scatterpolar": [
           {
            "marker": {
             "colorbar": {
              "outlinewidth": 0,
              "ticks": ""
             }
            },
            "type": "scatterpolar"
           }
          ],
          "scatterpolargl": [
           {
            "marker": {
             "colorbar": {
              "outlinewidth": 0,
              "ticks": ""
             }
            },
            "type": "scatterpolargl"
           }
          ],
          "scatterternary": [
           {
            "marker": {
             "colorbar": {
              "outlinewidth": 0,
              "ticks": ""
             }
            },
            "type": "scatterternary"
           }
          ],
          "surface": [
           {
            "colorbar": {
             "outlinewidth": 0,
             "ticks": ""
            },
            "colorscale": [
             [
              0,
              "#0d0887"
             ],
             [
              0.1111111111111111,
              "#46039f"
             ],
             [
              0.2222222222222222,
              "#7201a8"
             ],
             [
              0.3333333333333333,
              "#9c179e"
             ],
             [
              0.4444444444444444,
              "#bd3786"
             ],
             [
              0.5555555555555556,
              "#d8576b"
             ],
             [
              0.6666666666666666,
              "#ed7953"
             ],
             [
              0.7777777777777778,
              "#fb9f3a"
             ],
             [
              0.8888888888888888,
              "#fdca26"
             ],
             [
              1,
              "#f0f921"
             ]
            ],
            "type": "surface"
           }
          ],
          "table": [
           {
            "cells": {
             "fill": {
              "color": "#EBF0F8"
             },
             "line": {
              "color": "white"
             }
            },
            "header": {
             "fill": {
              "color": "#C8D4E3"
             },
             "line": {
              "color": "white"
             }
            },
            "type": "table"
           }
          ]
         },
         "layout": {
          "annotationdefaults": {
           "arrowcolor": "#2a3f5f",
           "arrowhead": 0,
           "arrowwidth": 1
          },
          "autotypenumbers": "strict",
          "coloraxis": {
           "colorbar": {
            "outlinewidth": 0,
            "ticks": ""
           }
          },
          "colorscale": {
           "diverging": [
            [
             0,
             "#8e0152"
            ],
            [
             0.1,
             "#c51b7d"
            ],
            [
             0.2,
             "#de77ae"
            ],
            [
             0.3,
             "#f1b6da"
            ],
            [
             0.4,
             "#fde0ef"
            ],
            [
             0.5,
             "#f7f7f7"
            ],
            [
             0.6,
             "#e6f5d0"
            ],
            [
             0.7,
             "#b8e186"
            ],
            [
             0.8,
             "#7fbc41"
            ],
            [
             0.9,
             "#4d9221"
            ],
            [
             1,
             "#276419"
            ]
           ],
           "sequential": [
            [
             0,
             "#0d0887"
            ],
            [
             0.1111111111111111,
             "#46039f"
            ],
            [
             0.2222222222222222,
             "#7201a8"
            ],
            [
             0.3333333333333333,
             "#9c179e"
            ],
            [
             0.4444444444444444,
             "#bd3786"
            ],
            [
             0.5555555555555556,
             "#d8576b"
            ],
            [
             0.6666666666666666,
             "#ed7953"
            ],
            [
             0.7777777777777778,
             "#fb9f3a"
            ],
            [
             0.8888888888888888,
             "#fdca26"
            ],
            [
             1,
             "#f0f921"
            ]
           ],
           "sequentialminus": [
            [
             0,
             "#0d0887"
            ],
            [
             0.1111111111111111,
             "#46039f"
            ],
            [
             0.2222222222222222,
             "#7201a8"
            ],
            [
             0.3333333333333333,
             "#9c179e"
            ],
            [
             0.4444444444444444,
             "#bd3786"
            ],
            [
             0.5555555555555556,
             "#d8576b"
            ],
            [
             0.6666666666666666,
             "#ed7953"
            ],
            [
             0.7777777777777778,
             "#fb9f3a"
            ],
            [
             0.8888888888888888,
             "#fdca26"
            ],
            [
             1,
             "#f0f921"
            ]
           ]
          },
          "colorway": [
           "#636efa",
           "#EF553B",
           "#00cc96",
           "#ab63fa",
           "#FFA15A",
           "#19d3f3",
           "#FF6692",
           "#B6E880",
           "#FF97FF",
           "#FECB52"
          ],
          "font": {
           "color": "#2a3f5f"
          },
          "geo": {
           "bgcolor": "white",
           "lakecolor": "white",
           "landcolor": "#E5ECF6",
           "showlakes": true,
           "showland": true,
           "subunitcolor": "white"
          },
          "hoverlabel": {
           "align": "left"
          },
          "hovermode": "closest",
          "mapbox": {
           "style": "light"
          },
          "paper_bgcolor": "white",
          "plot_bgcolor": "#E5ECF6",
          "polar": {
           "angularaxis": {
            "gridcolor": "white",
            "linecolor": "white",
            "ticks": ""
           },
           "bgcolor": "#E5ECF6",
           "radialaxis": {
            "gridcolor": "white",
            "linecolor": "white",
            "ticks": ""
           }
          },
          "scene": {
           "xaxis": {
            "backgroundcolor": "#E5ECF6",
            "gridcolor": "white",
            "gridwidth": 2,
            "linecolor": "white",
            "showbackground": true,
            "ticks": "",
            "zerolinecolor": "white"
           },
           "yaxis": {
            "backgroundcolor": "#E5ECF6",
            "gridcolor": "white",
            "gridwidth": 2,
            "linecolor": "white",
            "showbackground": true,
            "ticks": "",
            "zerolinecolor": "white"
           },
           "zaxis": {
            "backgroundcolor": "#E5ECF6",
            "gridcolor": "white",
            "gridwidth": 2,
            "linecolor": "white",
            "showbackground": true,
            "ticks": "",
            "zerolinecolor": "white"
           }
          },
          "shapedefaults": {
           "line": {
            "color": "#2a3f5f"
           }
          },
          "ternary": {
           "aaxis": {
            "gridcolor": "white",
            "linecolor": "white",
            "ticks": ""
           },
           "baxis": {
            "gridcolor": "white",
            "linecolor": "white",
            "ticks": ""
           },
           "bgcolor": "#E5ECF6",
           "caxis": {
            "gridcolor": "white",
            "linecolor": "white",
            "ticks": ""
           }
          },
          "title": {
           "x": 0.05
          },
          "xaxis": {
           "automargin": true,
           "gridcolor": "white",
           "linecolor": "white",
           "ticks": "",
           "title": {
            "standoff": 15
           },
           "zerolinecolor": "white",
           "zerolinewidth": 2
          },
          "yaxis": {
           "automargin": true,
           "gridcolor": "white",
           "linecolor": "white",
           "ticks": "",
           "title": {
            "standoff": 15
           },
           "zerolinecolor": "white",
           "zerolinewidth": 2
          }
         }
        },
        "title": {
         "text": "Differences in speeches per Session (18th electoral term)"
        },
        "xaxis": {
         "anchor": "y",
         "autorange": true,
         "domain": [
          0,
          1
         ],
         "range": [
          0.5,
          245.5
         ],
         "title": {
          "text": ""
         },
         "type": "linear"
        },
        "yaxis": {
         "anchor": "x",
         "domain": [
          0,
          1
         ],
         "range": [
          -30,
          300
         ],
         "title": {
          "text": "18"
         },
         "type": "linear"
        }
       }
      },
      "image/png": "[encoded data removed]",
      "text/html": [
       "<div>                            <div id=\"3954c88e-aed6-4abe-bbfa-88f0ca248e2a\" class=\"plotly-graph-div\" style=\"height:525px; width:100%;\"></div>            <script type=\"text/javascript\">                require([\"plotly\"], function(Plotly) {                    window.PLOTLYENV=window.PLOTLYENV || {};                                    if (document.getElementById(\"3954c88e-aed6-4abe-bbfa-88f0ca248e2a\")) {                    Plotly.newPlot(                        \"3954c88e-aed6-4abe-bbfa-88f0ca248e2a\",                        [{\"alignmentgroup\":\"True\",\"hovertemplate\":\"=%{x}\\u003cbr\\u003e18=%{y}\\u003cextra\\u003e\\u003c\\u002fextra\\u003e\",\"legendgroup\":\"\",\"marker\":{\"color\":\"#636efa\",\"pattern\":{\"shape\":\"\"}},\"name\":\"\",\"offsetgroup\":\"\",\"orientation\":\"v\",\"showlegend\":false,\"textposition\":\"auto\",\"x\":[1,2,3,4,5,6,7,8,9,10,11,12,13,14,15,16,17,18,19,20,21,22,23,24,25,26,27,28,29,30,31,32,33,34,35,36,37,38,39,40,41,42,43,44,45,46,47,48,49,50,51,52,53,54,55,56,57,58,59,60,61,62,63,64,65,66,67,68,69,70,71,72,73,74,75,76,77,78,79,80,81,82,83,84,85,86,87,88,89,90,91,92,93,94,95,96,97,98,99,100,101,102,103,104,105,106,107,108,109,110,111,112,113,114,115,116,117,118,119,120,121,122,123,124,125,126,127,128,129,130,131,132,133,134,135,136,137,138,139,140,141,142,143,144,145,146,147,148,149,150,151,152,153,154,155,156,157,158,159,160,161,162,163,164,165,166,167,168,169,170,171,172,173,174,175,176,177,178,179,180,181,182,183,184,185,186,187,188,189,190,191,192,193,194,195,196,197,198,199,200,201,202,203,204,205,206,207,208,209,210,211,212,213,214,215,216,217,218,219,220,221,222,223,224,225,226,227,228,229,230,231,232,233,234,235,236,237,238,239,240,241,242,243,244,245],\"xaxis\":\"x\",\"y\":[0,0,0,0,0,3,1,0,-1,1,-1,0,0,0,0,0,-4,0,-1,4,0,0,7,-2,0,5,0,0,1,-1,-1,-1,8,-1,0,0,0,1,-1,-1,-1,2,0,0,0,38,0,-1,0,0,0,0,1,-4,0,0,0,1,0,6,0,-9,-3,0,0,34,-1,0,0,-2,0,-10,-1,0,-1,28,0,0,-3,0,2,2,0,-14,-1,0,0,-3,-1,0,0,0,-1,0,0,0,-1,31,-3,0,1,0,16,1,0,-1,-1,3,-2,0,0,-1,-1,0,0,0,0,1,-22,0,0,0,4,20,-2,-5,0,0,3,49,7,0,34,0,7,39,0,0,0,-2,0,0,2,64,22,26,0,-1,0,0,0,20,1,2,1,5,9,61,0,4,2,0,1,3,1,0,99,7,1,10,5,1,40,1,4,41,0,6,37,19,-1,0,81,10,0,0,-2,0,1,23,0,1,28,0,0,-3,0,-4,77,11,0,0,-1,0,20,53,11,0,72,0,3,31,1,0,49,0,18,32,0,0,92,0,1,26,50,28,0,72,0,14,-2,3,-2,-2,2,3,134,-2,1,32,9,24,42,76,0],\"yaxis\":\"y\",\"type\":\"bar\"}],                        {\"template\":{\"data\":{\"histogram2dcontour\":[{\"type\":\"histogram2dcontour\",\"colorbar\":{\"outlinewidth\":0,\"ticks\":\"\"},\"colorscale\":[[0.0,\"#0d0887\"],[0.1111111111111111,\"#46039f\"],[0.2222222222222222,\"#7201a8\"],[0.3333333333333333,\"#9c179e\"],[0.4444444444444444,\"#bd3786\"],[0.5555555555555556,\"#d8576b\"],[0.6666666666666666,\"#ed7953\"],[0.7777777777777778,\"#fb9f3a\"],[0.8888888888888888,\"#fdca26\"],[1.0,\"#f0f921\"]]}],\"choropleth\":[{\"type\":\"choropleth\",\"colorbar\":{\"outlinewidth\":0,\"ticks\":\"\"}}],\"histogram2d\":[{\"type\":\"histogram2d\",\"colorbar\":{\"outlinewidth\":0,\"ticks\":\"\"},\"colorscale\":[[0.0,\"#0d0887\"],[0.1111111111111111,\"#46039f\"],[0.2222222222222222,\"#7201a8\"],[0.3333333333333333,\"#9c179e\"],[0.4444444444444444,\"#bd3786\"],[0.5555555555555556,\"#d8576b\"],[0.6666666666666666,\"#ed7953\"],[0.7777777777777778,\"#fb9f3a\"],[0.8888888888888888,\"#fdca26\"],[1.0,\"#f0f921\"]]}],\"heatmap\":[{\"type\":\"heatmap\",\"colorbar\":{\"outlinewidth\":0,\"ticks\":\"\"},\"colorscale\":[[0.0,\"#0d0887\"],[0.1111111111111111,\"#46039f\"],[0.2222222222222222,\"#7201a8\"],[0.3333333333333333,\"#9c179e\"],[0.4444444444444444,\"#bd3786\"],[0.5555555555555556,\"#d8576b\"],[0.6666666666666666,\"#ed7953\"],[0.7777777777777778,\"#fb9f3a\"],[0.8888888888888888,\"#fdca26\"],[1.0,\"#f0f921\"]]}],\"heatmapgl\":[{\"type\":\"heatmapgl\",\"colorbar\":{\"outlinewidth\":0,\"ticks\":\"\"},\"colorscale\":[[0.0,\"#0d0887\"],[0.1111111111111111,\"#46039f\"],[0.2222222222222222,\"#7201a8\"],[0.3333333333333333,\"#9c179e\"],[0.4444444444444444,\"#bd3786\"],[0.5555555555555556,\"#d8576b\"],[0.6666666666666666,\"#ed7953\"],[0.7777777777777778,\"#fb9f3a\"],[0.8888888888888888,\"#fdca26\"],[1.0,\"#f0f921\"]]}],\"contourcarpet\":[{\"type\":\"contourcarpet\",\"colorbar\":{\"outlinewidth\":0,\"ticks\":\"\"}}],\"contour\":[{\"type\":\"contour\",\"colorbar\":{\"outlinewidth\":0,\"ticks\":\"\"},\"colorscale\":[[0.0,\"#0d0887\"],[0.1111111111111111,\"#46039f\"],[0.2222222222222222,\"#7201a8\"],[0.3333333333333333,\"#9c179e\"],[0.4444444444444444,\"#bd3786\"],[0.5555555555555556,\"#d8576b\"],[0.6666666666666666,\"#ed7953\"],[0.7777777777777778,\"#fb9f3a\"],[0.8888888888888888,\"#fdca26\"],[1.0,\"#f0f921\"]]}],\"surface\":[{\"type\":\"surface\",\"colorbar\":{\"outlinewidth\":0,\"ticks\":\"\"},\"colorscale\":[[0.0,\"#0d0887\"],[0.1111111111111111,\"#46039f\"],[0.2222222222222222,\"#7201a8\"],[0.3333333333333333,\"#9c179e\"],[0.4444444444444444,\"#bd3786\"],[0.5555555555555556,\"#d8576b\"],[0.6666666666666666,\"#ed7953\"],[0.7777777777777778,\"#fb9f3a\"],[0.8888888888888888,\"#fdca26\"],[1.0,\"#f0f921\"]]}],\"mesh3d\":[{\"type\":\"mesh3d\",\"colorbar\":{\"outlinewidth\":0,\"ticks\":\"\"}}],\"scatter\":[{\"fillpattern\":{\"fillmode\":\"overlay\",\"size\":10,\"solidity\":0.2},\"type\":\"scatter\"}],\"parcoords\":[{\"type\":\"parcoords\",\"line\":{\"colorbar\":{\"outlinewidth\":0,\"ticks\":\"\"}}}],\"scatterpolargl\":[{\"type\":\"scatterpolargl\",\"marker\":{\"colorbar\":{\"outlinewidth\":0,\"ticks\":\"\"}}}],\"bar\":[{\"error_x\":{\"color\":\"#2a3f5f\"},\"error_y\":{\"color\":\"#2a3f5f\"},\"marker\":{\"line\":{\"color\":\"#E5ECF6\",\"width\":0.5},\"pattern\":{\"fillmode\":\"overlay\",\"size\":10,\"solidity\":0.2}},\"type\":\"bar\"}],\"scattergeo\":[{\"type\":\"scattergeo\",\"marker\":{\"colorbar\":{\"outlinewidth\":0,\"ticks\":\"\"}}}],\"scatterpolar\":[{\"type\":\"scatterpolar\",\"marker\":{\"colorbar\":{\"outlinewidth\":0,\"ticks\":\"\"}}}],\"histogram\":[{\"marker\":{\"pattern\":{\"fillmode\":\"overlay\",\"size\":10,\"solidity\":0.2}},\"type\":\"histogram\"}],\"scattergl\":[{\"type\":\"scattergl\",\"marker\":{\"colorbar\":{\"outlinewidth\":0,\"ticks\":\"\"}}}],\"scatter3d\":[{\"type\":\"scatter3d\",\"line\":{\"colorbar\":{\"outlinewidth\":0,\"ticks\":\"\"}},\"marker\":{\"colorbar\":{\"outlinewidth\":0,\"ticks\":\"\"}}}],\"scattermapbox\":[{\"type\":\"scattermapbox\",\"marker\":{\"colorbar\":{\"outlinewidth\":0,\"ticks\":\"\"}}}],\"scatterternary\":[{\"type\":\"scatterternary\",\"marker\":{\"colorbar\":{\"outlinewidth\":0,\"ticks\":\"\"}}}],\"scattercarpet\":[{\"type\":\"scattercarpet\",\"marker\":{\"colorbar\":{\"outlinewidth\":0,\"ticks\":\"\"}}}],\"carpet\":[{\"aaxis\":{\"endlinecolor\":\"#2a3f5f\",\"gridcolor\":\"white\",\"linecolor\":\"white\",\"minorgridcolor\":\"white\",\"startlinecolor\":\"#2a3f5f\"},\"baxis\":{\"endlinecolor\":\"#2a3f5f\",\"gridcolor\":\"white\",\"linecolor\":\"white\",\"minorgridcolor\":\"white\",\"startlinecolor\":\"#2a3f5f\"},\"type\":\"carpet\"}],\"table\":[{\"cells\":{\"fill\":{\"color\":\"#EBF0F8\"},\"line\":{\"color\":\"white\"}},\"header\":{\"fill\":{\"color\":\"#C8D4E3\"},\"line\":{\"color\":\"white\"}},\"type\":\"table\"}],\"barpolar\":[{\"marker\":{\"line\":{\"color\":\"#E5ECF6\",\"width\":0.5},\"pattern\":{\"fillmode\":\"overlay\",\"size\":10,\"solidity\":0.2}},\"type\":\"barpolar\"}],\"pie\":[{\"automargin\":true,\"type\":\"pie\"}]},\"layout\":{\"autotypenumbers\":\"strict\",\"colorway\":[\"#636efa\",\"#EF553B\",\"#00cc96\",\"#ab63fa\",\"#FFA15A\",\"#19d3f3\",\"#FF6692\",\"#B6E880\",\"#FF97FF\",\"#FECB52\"],\"font\":{\"color\":\"#2a3f5f\"},\"hovermode\":\"closest\",\"hoverlabel\":{\"align\":\"left\"},\"paper_bgcolor\":\"white\",\"plot_bgcolor\":\"#E5ECF6\",\"polar\":{\"bgcolor\":\"#E5ECF6\",\"angularaxis\":{\"gridcolor\":\"white\",\"linecolor\":\"white\",\"ticks\":\"\"},\"radialaxis\":{\"gridcolor\":\"white\",\"linecolor\":\"white\",\"ticks\":\"\"}},\"ternary\":{\"bgcolor\":\"#E5ECF6\",\"aaxis\":{\"gridcolor\":\"white\",\"linecolor\":\"white\",\"ticks\":\"\"},\"baxis\":{\"gridcolor\":\"white\",\"linecolor\":\"white\",\"ticks\":\"\"},\"caxis\":{\"gridcolor\":\"white\",\"linecolor\":\"white\",\"ticks\":\"\"}},\"coloraxis\":{\"colorbar\":{\"outlinewidth\":0,\"ticks\":\"\"}},\"colorscale\":{\"sequential\":[[0.0,\"#0d0887\"],[0.1111111111111111,\"#46039f\"],[0.2222222222222222,\"#7201a8\"],[0.3333333333333333,\"#9c179e\"],[0.4444444444444444,\"#bd3786\"],[0.5555555555555556,\"#d8576b\"],[0.6666666666666666,\"#ed7953\"],[0.7777777777777778,\"#fb9f3a\"],[0.8888888888888888,\"#fdca26\"],[1.0,\"#f0f921\"]],\"sequentialminus\":[[0.0,\"#0d0887\"],[0.1111111111111111,\"#46039f\"],[0.2222222222222222,\"#7201a8\"],[0.3333333333333333,\"#9c179e\"],[0.4444444444444444,\"#bd3786\"],[0.5555555555555556,\"#d8576b\"],[0.6666666666666666,\"#ed7953\"],[0.7777777777777778,\"#fb9f3a\"],[0.8888888888888888,\"#fdca26\"],[1.0,\"#f0f921\"]],\"diverging\":[[0,\"#8e0152\"],[0.1,\"#c51b7d\"],[0.2,\"#de77ae\"],[0.3,\"#f1b6da\"],[0.4,\"#fde0ef\"],[0.5,\"#f7f7f7\"],[0.6,\"#e6f5d0\"],[0.7,\"#b8e186\"],[0.8,\"#7fbc41\"],[0.9,\"#4d9221\"],[1,\"#276419\"]]},\"xaxis\":{\"gridcolor\":\"white\",\"linecolor\":\"white\",\"ticks\":\"\",\"title\":{\"standoff\":15},\"zerolinecolor\":\"white\",\"automargin\":true,\"zerolinewidth\":2},\"yaxis\":{\"gridcolor\":\"white\",\"linecolor\":\"white\",\"ticks\":\"\",\"title\":{\"standoff\":15},\"zerolinecolor\":\"white\",\"automargin\":true,\"zerolinewidth\":2},\"scene\":{\"xaxis\":{\"backgroundcolor\":\"#E5ECF6\",\"gridcolor\":\"white\",\"linecolor\":\"white\",\"showbackground\":true,\"ticks\":\"\",\"zerolinecolor\":\"white\",\"gridwidth\":2},\"yaxis\":{\"backgroundcolor\":\"#E5ECF6\",\"gridcolor\":\"white\",\"linecolor\":\"white\",\"showbackground\":true,\"ticks\":\"\",\"zerolinecolor\":\"white\",\"gridwidth\":2},\"zaxis\":{\"backgroundcolor\":\"#E5ECF6\",\"gridcolor\":\"white\",\"linecolor\":\"white\",\"showbackground\":true,\"ticks\":\"\",\"zerolinecolor\":\"white\",\"gridwidth\":2}},\"shapedefaults\":{\"line\":{\"color\":\"#2a3f5f\"}},\"annotationdefaults\":{\"arrowcolor\":\"#2a3f5f\",\"arrowhead\":0,\"arrowwidth\":1},\"geo\":{\"bgcolor\":\"white\",\"landcolor\":\"#E5ECF6\",\"subunitcolor\":\"white\",\"showland\":true,\"showlakes\":true,\"lakecolor\":\"white\"},\"title\":{\"x\":0.05},\"mapbox\":{\"style\":\"light\"}}},\"xaxis\":{\"anchor\":\"y\",\"domain\":[0.0,1.0],\"title\":{\"text\":\"\"}},\"yaxis\":{\"anchor\":\"x\",\"domain\":[0.0,1.0],\"title\":{\"text\":\"18\"},\"range\":[-30,300]},\"legend\":{\"tracegroupgap\":0},\"title\":{\"text\":\"Differences in speeches per Session (18th electoral term)\"},\"barmode\":\"relative\"},                        {\"responsive\": true}                    ).then(function(){\n",
       "                            \n",
       "var gd = document.getElementById('3954c88e-aed6-4abe-bbfa-88f0ca248e2a');\n",
       "var x = new MutationObserver(function (mutations, observer) {{\n",
       "        var display = window.getComputedStyle(gd).display;\n",
       "        if (!display || display === 'none') {{\n",
       "            console.log([gd, 'removed!']);\n",
       "            Plotly.purge(gd);\n",
       "            observer.disconnect();\n",
       "        }}\n",
       "}});\n",
       "\n",
       "// Listen for the removal of the full notebook cells\n",
       "var notebookContainer = gd.closest('#notebook-container');\n",
       "if (notebookContainer) {{\n",
       "    x.observe(notebookContainer, {childList: true});\n",
       "}}\n",
       "\n",
       "// Listen for the clearing of the current output cell\n",
       "var outputEl = gd.closest('.output');\n",
       "if (outputEl) {{\n",
       "    x.observe(outputEl, {childList: true});\n",
       "}}\n",
       "\n",
       "                        })                };                });            </script>        </div>"
      ]
     },
     "metadata": {},
     "output_type": "display_data"
    },
    {
     "data": {
      "application/vnd.plotly.v1+json": {
       "config": {
        "plotlyServerURL": "https://plot.ly"
       },
       "data": [
        {
         "alignmentgroup": "True",
         "hovertemplate": "=%{x}<br>18=%{y}<extra></extra>",
         "legendgroup": "",
         "marker": {
          "color": "#636efa",
          "pattern": {
           "shape": ""
          }
         },
         "name": "",
         "offsetgroup": "",
         "orientation": "v",
         "showlegend": false,
         "textposition": "auto",
         "type": "bar",
         "x": [
          1,
          2,
          3,
          4,
          5,
          6,
          7,
          8,
          9,
          10,
          11,
          12,
          13,
          14,
          15,
          16,
          17,
          18,
          19,
          20,
          21,
          22,
          23,
          24,
          25,
          26,
          27,
          28,
          29,
          30,
          31,
          32,
          33,
          34,
          35,
          36,
          37,
          38,
          39,
          40,
          41,
          42,
          43,
          44,
          45,
          46,
          47,
          48,
          49,
          50,
          51,
          52,
          53,
          54,
          55,
          56,
          57,
          58,
          59,
          60,
          61,
          62,
          63,
          64,
          65,
          66,
          67,
          68,
          69,
          70,
          71,
          72,
          73,
          74,
          75,
          76,
          77,
          78,
          79,
          80,
          81,
          82,
          83,
          84,
          85,
          86,
          87,
          88,
          89,
          90,
          91,
          92,
          93,
          94,
          95,
          96,
          97,
          98,
          99,
          100,
          101,
          102,
          103,
          104,
          105,
          106,
          107,
          108,
          109,
          110,
          111,
          112,
          113,
          114,
          115,
          116,
          117,
          118,
          119,
          120,
          121,
          122,
          123,
          124,
          125,
          126,
          127,
          128,
          129,
          130,
          131,
          132,
          133,
          134,
          135,
          136,
          137,
          138,
          139,
          140,
          141,
          142,
          143,
          144,
          145,
          146,
          147,
          148,
          149,
          150,
          151,
          152,
          153,
          154,
          155,
          156,
          157,
          158,
          159,
          160,
          161,
          162,
          163,
          164,
          165,
          166,
          167,
          168,
          169,
          170,
          171,
          172,
          173,
          174,
          175,
          176,
          177,
          178,
          179,
          180,
          181,
          182,
          183,
          184,
          185,
          186,
          187,
          188,
          189,
          190,
          191,
          192,
          193,
          194,
          195,
          196,
          197,
          198,
          199,
          200,
          201,
          202,
          203,
          204,
          205,
          206,
          207,
          208,
          209,
          210,
          211,
          212,
          213,
          214,
          215,
          216,
          217,
          218,
          219,
          220,
          221,
          222,
          223,
          224,
          225,
          226,
          227,
          228,
          229,
          230,
          231,
          232,
          233,
          234,
          235,
          236,
          237,
          238,
          239,
          240,
          241,
          242,
          243,
          244,
          245
         ],
         "xaxis": "x",
         "y": [
          0,
          0,
          0,
          0,
          0,
          3,
          1,
          0,
          -1,
          1,
          -1,
          0,
          0,
          0,
          0,
          0,
          -4,
          0,
          -1,
          4,
          0,
          0,
          7,
          -2,
          0,
          5,
          0,
          0,
          1,
          -1,
          -1,
          -1,
          8,
          -1,
          0,
          0,
          0,
          1,
          -1,
          -1,
          -1,
          2,
          0,
          0,
          0,
          38,
          0,
          -1,
          0,
          0,
          0,
          0,
          1,
          -4,
          0,
          0,
          0,
          1,
          0,
          6,
          0,
          -9,
          -3,
          0,
          0,
          34,
          -1,
          0,
          0,
          -2,
          0,
          -10,
          -1,
          0,
          -1,
          28,
          0,
          0,
          -3,
          0,
          2,
          2,
          0,
          -14,
          -1,
          0,
          0,
          -3,
          -1,
          0,
          0,
          0,
          -1,
          0,
          0,
          0,
          -1,
          31,
          -3,
          0,
          1,
          0,
          16,
          1,
          0,
          -1,
          -1,
          3,
          -2,
          0,
          0,
          -1,
          -1,
          0,
          0,
          0,
          0,
          1,
          -22,
          0,
          0,
          0,
          4,
          20,
          -2,
          -5,
          0,
          0,
          3,
          49,
          7,
          0,
          34,
          0,
          7,
          39,
          0,
          0,
          0,
          -2,
          0,
          0,
          2,
          64,
          22,
          26,
          0,
          -1,
          0,
          0,
          0,
          20,
          1,
          2,
          1,
          5,
          9,
          61,
          0,
          4,
          2,
          0,
          1,
          3,
          1,
          0,
          99,
          7,
          1,
          10,
          5,
          1,
          40,
          1,
          4,
          41,
          0,
          6,
          37,
          19,
          -1,
          0,
          81,
          10,
          0,
          0,
          -2,
          0,
          1,
          23,
          0,
          1,
          28,
          0,
          0,
          -3,
          0,
          -4,
          77,
          11,
          0,
          0,
          -1,
          0,
          20,
          53,
          11,
          0,
          72,
          0,
          3,
          31,
          1,
          0,
          49,
          0,
          18,
          32,
          0,
          0,
          92,
          0,
          1,
          26,
          50,
          28,
          0,
          72,
          0,
          14,
          -2,
          3,
          -2,
          -2,
          2,
          3,
          134,
          -2,
          1,
          32,
          9,
          24,
          42,
          76,
          0
         ],
         "yaxis": "y"
        }
       ],
       "layout": {
        "autosize": true,
        "barmode": "relative",
        "legend": {
         "tracegroupgap": 0
        },
        "template": {
         "data": {
          "bar": [
           {
            "error_x": {
             "color": "#2a3f5f"
            },
            "error_y": {
             "color": "#2a3f5f"
            },
            "marker": {
             "line": {
              "color": "#E5ECF6",
              "width": 0.5
             },
             "pattern": {
              "fillmode": "overlay",
              "size": 10,
              "solidity": 0.2
             }
            },
            "type": "bar"
           }
          ],
          "barpolar": [
           {
            "marker": {
             "line": {
              "color": "#E5ECF6",
              "width": 0.5
             },
             "pattern": {
              "fillmode": "overlay",
              "size": 10,
              "solidity": 0.2
             }
            },
            "type": "barpolar"
           }
          ],
          "carpet": [
           {
            "aaxis": {
             "endlinecolor": "#2a3f5f",
             "gridcolor": "white",
             "linecolor": "white",
             "minorgridcolor": "white",
             "startlinecolor": "#2a3f5f"
            },
            "baxis": {
             "endlinecolor": "#2a3f5f",
             "gridcolor": "white",
             "linecolor": "white",
             "minorgridcolor": "white",
             "startlinecolor": "#2a3f5f"
            },
            "type": "carpet"
           }
          ],
          "choropleth": [
           {
            "colorbar": {
             "outlinewidth": 0,
             "ticks": ""
            },
            "type": "choropleth"
           }
          ],
          "contour": [
           {
            "colorbar": {
             "outlinewidth": 0,
             "ticks": ""
            },
            "colorscale": [
             [
              0,
              "#0d0887"
             ],
             [
              0.1111111111111111,
              "#46039f"
             ],
             [
              0.2222222222222222,
              "#7201a8"
             ],
             [
              0.3333333333333333,
              "#9c179e"
             ],
             [
              0.4444444444444444,
              "#bd3786"
             ],
             [
              0.5555555555555556,
              "#d8576b"
             ],
             [
              0.6666666666666666,
              "#ed7953"
             ],
             [
              0.7777777777777778,
              "#fb9f3a"
             ],
             [
              0.8888888888888888,
              "#fdca26"
             ],
             [
              1,
              "#f0f921"
             ]
            ],
            "type": "contour"
           }
          ],
          "contourcarpet": [
           {
            "colorbar": {
             "outlinewidth": 0,
             "ticks": ""
            },
            "type": "contourcarpet"
           }
          ],
          "heatmap": [
           {
            "colorbar": {
             "outlinewidth": 0,
             "ticks": ""
            },
            "colorscale": [
             [
              0,
              "#0d0887"
             ],
             [
              0.1111111111111111,
              "#46039f"
             ],
             [
              0.2222222222222222,
              "#7201a8"
             ],
             [
              0.3333333333333333,
              "#9c179e"
             ],
             [
              0.4444444444444444,
              "#bd3786"
             ],
             [
              0.5555555555555556,
              "#d8576b"
             ],
             [
              0.6666666666666666,
              "#ed7953"
             ],
             [
              0.7777777777777778,
              "#fb9f3a"
             ],
             [
              0.8888888888888888,
              "#fdca26"
             ],
             [
              1,
              "#f0f921"
             ]
            ],
            "type": "heatmap"
           }
          ],
          "heatmapgl": [
           {
            "colorbar": {
             "outlinewidth": 0,
             "ticks": ""
            },
            "colorscale": [
             [
              0,
              "#0d0887"
             ],
             [
              0.1111111111111111,
              "#46039f"
             ],
             [
              0.2222222222222222,
              "#7201a8"
             ],
             [
              0.3333333333333333,
              "#9c179e"
             ],
             [
              0.4444444444444444,
              "#bd3786"
             ],
             [
              0.5555555555555556,
              "#d8576b"
             ],
             [
              0.6666666666666666,
              "#ed7953"
             ],
             [
              0.7777777777777778,
              "#fb9f3a"
             ],
             [
              0.8888888888888888,
              "#fdca26"
             ],
             [
              1,
              "#f0f921"
             ]
            ],
            "type": "heatmapgl"
           }
          ],
          "histogram": [
           {
            "marker": {
             "pattern": {
              "fillmode": "overlay",
              "size": 10,
              "solidity": 0.2
             }
            },
            "type": "histogram"
           }
          ],
          "histogram2d": [
           {
            "colorbar": {
             "outlinewidth": 0,
             "ticks": ""
            },
            "colorscale": [
             [
              0,
              "#0d0887"
             ],
             [
              0.1111111111111111,
              "#46039f"
             ],
             [
              0.2222222222222222,
              "#7201a8"
             ],
             [
              0.3333333333333333,
              "#9c179e"
             ],
             [
              0.4444444444444444,
              "#bd3786"
             ],
             [
              0.5555555555555556,
              "#d8576b"
             ],
             [
              0.6666666666666666,
              "#ed7953"
             ],
             [
              0.7777777777777778,
              "#fb9f3a"
             ],
             [
              0.8888888888888888,
              "#fdca26"
             ],
             [
              1,
              "#f0f921"
             ]
            ],
            "type": "histogram2d"
           }
          ],
          "histogram2dcontour": [
           {
            "colorbar": {
             "outlinewidth": 0,
             "ticks": ""
            },
            "colorscale": [
             [
              0,
              "#0d0887"
             ],
             [
              0.1111111111111111,
              "#46039f"
             ],
             [
              0.2222222222222222,
              "#7201a8"
             ],
             [
              0.3333333333333333,
              "#9c179e"
             ],
             [
              0.4444444444444444,
              "#bd3786"
             ],
             [
              0.5555555555555556,
              "#d8576b"
             ],
             [
              0.6666666666666666,
              "#ed7953"
             ],
             [
              0.7777777777777778,
              "#fb9f3a"
             ],
             [
              0.8888888888888888,
              "#fdca26"
             ],
             [
              1,
              "#f0f921"
             ]
            ],
            "type": "histogram2dcontour"
           }
          ],
          "mesh3d": [
           {
            "colorbar": {
             "outlinewidth": 0,
             "ticks": ""
            },
            "type": "mesh3d"
           }
          ],
          "parcoords": [
           {
            "line": {
             "colorbar": {
              "outlinewidth": 0,
              "ticks": ""
             }
            },
            "type": "parcoords"
           }
          ],
          "pie": [
           {
            "automargin": true,
            "type": "pie"
           }
          ],
          "scatter": [
           {
            "fillpattern": {
             "fillmode": "overlay",
             "size": 10,
             "solidity": 0.2
            },
            "type": "scatter"
           }
          ],
          "scatter3d": [
           {
            "line": {
             "colorbar": {
              "outlinewidth": 0,
              "ticks": ""
             }
            },
            "marker": {
             "colorbar": {
              "outlinewidth": 0,
              "ticks": ""
             }
            },
            "type": "scatter3d"
           }
          ],
          "scattercarpet": [
           {
            "marker": {
             "colorbar": {
              "outlinewidth": 0,
              "ticks": ""
             }
            },
            "type": "scattercarpet"
           }
          ],
          "scattergeo": [
           {
            "marker": {
             "colorbar": {
              "outlinewidth": 0,
              "ticks": ""
             }
            },
            "type": "scattergeo"
           }
          ],
          "scattergl": [
           {
            "marker": {
             "colorbar": {
              "outlinewidth": 0,
              "ticks": ""
             }
            },
            "type": "scattergl"
           }
          ],
          "scattermapbox": [
           {
            "marker": {
             "colorbar": {
              "outlinewidth": 0,
              "ticks": ""
             }
            },
            "type": "scattermapbox"
           }
          ],
          "scatterpolar": [
           {
            "marker": {
             "colorbar": {
              "outlinewidth": 0,
              "ticks": ""
             }
            },
            "type": "scatterpolar"
           }
          ],
          "scatterpolargl": [
           {
            "marker": {
             "colorbar": {
              "outlinewidth": 0,
              "ticks": ""
             }
            },
            "type": "scatterpolargl"
           }
          ],
          "scatterternary": [
           {
            "marker": {
             "colorbar": {
              "outlinewidth": 0,
              "ticks": ""
             }
            },
            "type": "scatterternary"
           }
          ],
          "surface": [
           {
            "colorbar": {
             "outlinewidth": 0,
             "ticks": ""
            },
            "colorscale": [
             [
              0,
              "#0d0887"
             ],
             [
              0.1111111111111111,
              "#46039f"
             ],
             [
              0.2222222222222222,
              "#7201a8"
             ],
             [
              0.3333333333333333,
              "#9c179e"
             ],
             [
              0.4444444444444444,
              "#bd3786"
             ],
             [
              0.5555555555555556,
              "#d8576b"
             ],
             [
              0.6666666666666666,
              "#ed7953"
             ],
             [
              0.7777777777777778,
              "#fb9f3a"
             ],
             [
              0.8888888888888888,
              "#fdca26"
             ],
             [
              1,
              "#f0f921"
             ]
            ],
            "type": "surface"
           }
          ],
          "table": [
           {
            "cells": {
             "fill": {
              "color": "#EBF0F8"
             },
             "line": {
              "color": "white"
             }
            },
            "header": {
             "fill": {
              "color": "#C8D4E3"
             },
             "line": {
              "color": "white"
             }
            },
            "type": "table"
           }
          ]
         },
         "layout": {
          "annotationdefaults": {
           "arrowcolor": "#2a3f5f",
           "arrowhead": 0,
           "arrowwidth": 1
          },
          "autotypenumbers": "strict",
          "coloraxis": {
           "colorbar": {
            "outlinewidth": 0,
            "ticks": ""
           }
          },
          "colorscale": {
           "diverging": [
            [
             0,
             "#8e0152"
            ],
            [
             0.1,
             "#c51b7d"
            ],
            [
             0.2,
             "#de77ae"
            ],
            [
             0.3,
             "#f1b6da"
            ],
            [
             0.4,
             "#fde0ef"
            ],
            [
             0.5,
             "#f7f7f7"
            ],
            [
             0.6,
             "#e6f5d0"
            ],
            [
             0.7,
             "#b8e186"
            ],
            [
             0.8,
             "#7fbc41"
            ],
            [
             0.9,
             "#4d9221"
            ],
            [
             1,
             "#276419"
            ]
           ],
           "sequential": [
            [
             0,
             "#0d0887"
            ],
            [
             0.1111111111111111,
             "#46039f"
            ],
            [
             0.2222222222222222,
             "#7201a8"
            ],
            [
             0.3333333333333333,
             "#9c179e"
            ],
            [
             0.4444444444444444,
             "#bd3786"
            ],
            [
             0.5555555555555556,
             "#d8576b"
            ],
            [
             0.6666666666666666,
             "#ed7953"
            ],
            [
             0.7777777777777778,
             "#fb9f3a"
            ],
            [
             0.8888888888888888,
             "#fdca26"
            ],
            [
             1,
             "#f0f921"
            ]
           ],
           "sequentialminus": [
            [
             0,
             "#0d0887"
            ],
            [
             0.1111111111111111,
             "#46039f"
            ],
            [
             0.2222222222222222,
             "#7201a8"
            ],
            [
             0.3333333333333333,
             "#9c179e"
            ],
            [
             0.4444444444444444,
             "#bd3786"
            ],
            [
             0.5555555555555556,
             "#d8576b"
            ],
            [
             0.6666666666666666,
             "#ed7953"
            ],
            [
             0.7777777777777778,
             "#fb9f3a"
            ],
            [
             0.8888888888888888,
             "#fdca26"
            ],
            [
             1,
             "#f0f921"
            ]
           ]
          },
          "colorway": [
           "#636efa",
           "#EF553B",
           "#00cc96",
           "#ab63fa",
           "#FFA15A",
           "#19d3f3",
           "#FF6692",
           "#B6E880",
           "#FF97FF",
           "#FECB52"
          ],
          "font": {
           "color": "#2a3f5f"
          },
          "geo": {
           "bgcolor": "white",
           "lakecolor": "white",
           "landcolor": "#E5ECF6",
           "showlakes": true,
           "showland": true,
           "subunitcolor": "white"
          },
          "hoverlabel": {
           "align": "left"
          },
          "hovermode": "closest",
          "mapbox": {
           "style": "light"
          },
          "paper_bgcolor": "white",
          "plot_bgcolor": "#E5ECF6",
          "polar": {
           "angularaxis": {
            "gridcolor": "white",
            "linecolor": "white",
            "ticks": ""
           },
           "bgcolor": "#E5ECF6",
           "radialaxis": {
            "gridcolor": "white",
            "linecolor": "white",
            "ticks": ""
           }
          },
          "scene": {
           "xaxis": {
            "backgroundcolor": "#E5ECF6",
            "gridcolor": "white",
            "gridwidth": 2,
            "linecolor": "white",
            "showbackground": true,
            "ticks": "",
            "zerolinecolor": "white"
           },
           "yaxis": {
            "backgroundcolor": "#E5ECF6",
            "gridcolor": "white",
            "gridwidth": 2,
            "linecolor": "white",
            "showbackground": true,
            "ticks": "",
            "zerolinecolor": "white"
           },
           "zaxis": {
            "backgroundcolor": "#E5ECF6",
            "gridcolor": "white",
            "gridwidth": 2,
            "linecolor": "white",
            "showbackground": true,
            "ticks": "",
            "zerolinecolor": "white"
           }
          },
          "shapedefaults": {
           "line": {
            "color": "#2a3f5f"
           }
          },
          "ternary": {
           "aaxis": {
            "gridcolor": "white",
            "linecolor": "white",
            "ticks": ""
           },
           "baxis": {
            "gridcolor": "white",
            "linecolor": "white",
            "ticks": ""
           },
           "bgcolor": "#E5ECF6",
           "caxis": {
            "gridcolor": "white",
            "linecolor": "white",
            "ticks": ""
           }
          },
          "title": {
           "x": 0.05
          },
          "xaxis": {
           "automargin": true,
           "gridcolor": "white",
           "linecolor": "white",
           "ticks": "",
           "title": {
            "standoff": 15
           },
           "zerolinecolor": "white",
           "zerolinewidth": 2
          },
          "yaxis": {
           "automargin": true,
           "gridcolor": "white",
           "linecolor": "white",
           "ticks": "",
           "title": {
            "standoff": 15
           },
           "zerolinecolor": "white",
           "zerolinewidth": 2
          }
         }
        },
        "title": {
         "text": "Differences in speeches per Session (18th electoral term)"
        },
        "xaxis": {
         "anchor": "y",
         "autorange": true,
         "domain": [
          0,
          1
         ],
         "range": [
          0.5,
          245.5
         ],
         "title": {
          "text": ""
         },
         "type": "linear"
        },
        "yaxis": {
         "anchor": "x",
         "domain": [
          0,
          1
         ],
         "range": [
          -30,
          300
         ],
         "title": {
          "text": "18"
         },
         "type": "linear"
        }
       }
      },
      "image/png": "[encoded data removed]",
      "text/html": [
       "<div>                            <div id=\"10643a4d-8726-4bce-b9de-1488df522ff7\" class=\"plotly-graph-div\" style=\"height:525px; width:100%;\"></div>            <script type=\"text/javascript\">                require([\"plotly\"], function(Plotly) {                    window.PLOTLYENV=window.PLOTLYENV || {};                                    if (document.getElementById(\"10643a4d-8726-4bce-b9de-1488df522ff7\")) {                    Plotly.newPlot(                        \"10643a4d-8726-4bce-b9de-1488df522ff7\",                        [{\"alignmentgroup\":\"True\",\"hovertemplate\":\"=%{x}\\u003cbr\\u003e18=%{y}\\u003cextra\\u003e\\u003c\\u002fextra\\u003e\",\"legendgroup\":\"\",\"marker\":{\"color\":\"#636efa\",\"pattern\":{\"shape\":\"\"}},\"name\":\"\",\"offsetgroup\":\"\",\"orientation\":\"v\",\"showlegend\":false,\"textposition\":\"auto\",\"x\":[1,2,3,4,5,6,7,8,9,10,11,12,13,14,15,16,17,18,19,20,21,22,23,24,25,26,27,28,29,30,31,32,33,34,35,36,37,38,39,40,41,42,43,44,45,46,47,48,49,50,51,52,53,54,55,56,57,58,59,60,61,62,63,64,65,66,67,68,69,70,71,72,73,74,75,76,77,78,79,80,81,82,83,84,85,86,87,88,89,90,91,92,93,94,95,96,97,98,99,100,101,102,103,104,105,106,107,108,109,110,111,112,113,114,115,116,117,118,119,120,121,122,123,124,125,126,127,128,129,130,131,132,133,134,135,136,137,138,139,140,141,142,143,144,145,146,147,148,149,150,151,152,153,154,155,156,157,158,159,160,161,162,163,164,165,166,167,168,169,170,171,172,173,174,175,176,177,178,179,180,181,182,183,184,185,186,187,188,189,190,191,192,193,194,195,196,197,198,199,200,201,202,203,204,205,206,207,208,209,210,211,212,213,214,215,216,217,218,219,220,221,222,223,224,225,226,227,228,229,230,231,232,233,234,235,236,237,238,239,240,241,242,243,244,245],\"xaxis\":\"x\",\"y\":[0,0,0,0,0,3,1,0,-1,1,-1,0,0,0,0,0,-4,0,-1,4,0,0,7,-2,0,5,0,0,1,-1,-1,-1,8,-1,0,0,0,1,-1,-1,-1,2,0,0,0,38,0,-1,0,0,0,0,1,-4,0,0,0,1,0,6,0,-9,-3,0,0,34,-1,0,0,-2,0,-10,-1,0,-1,28,0,0,-3,0,2,2,0,-14,-1,0,0,-3,-1,0,0,0,-1,0,0,0,-1,31,-3,0,1,0,16,1,0,-1,-1,3,-2,0,0,-1,-1,0,0,0,0,1,-22,0,0,0,4,20,-2,-5,0,0,3,49,7,0,34,0,7,39,0,0,0,-2,0,0,2,64,22,26,0,-1,0,0,0,20,1,2,1,5,9,61,0,4,2,0,1,3,1,0,99,7,1,10,5,1,40,1,4,41,0,6,37,19,-1,0,81,10,0,0,-2,0,1,23,0,1,28,0,0,-3,0,-4,77,11,0,0,-1,0,20,53,11,0,72,0,3,31,1,0,49,0,18,32,0,0,92,0,1,26,50,28,0,72,0,14,-2,3,-2,-2,2,3,134,-2,1,32,9,24,42,76,0],\"yaxis\":\"y\",\"type\":\"bar\"}],                        {\"template\":{\"data\":{\"histogram2dcontour\":[{\"type\":\"histogram2dcontour\",\"colorbar\":{\"outlinewidth\":0,\"ticks\":\"\"},\"colorscale\":[[0.0,\"#0d0887\"],[0.1111111111111111,\"#46039f\"],[0.2222222222222222,\"#7201a8\"],[0.3333333333333333,\"#9c179e\"],[0.4444444444444444,\"#bd3786\"],[0.5555555555555556,\"#d8576b\"],[0.6666666666666666,\"#ed7953\"],[0.7777777777777778,\"#fb9f3a\"],[0.8888888888888888,\"#fdca26\"],[1.0,\"#f0f921\"]]}],\"choropleth\":[{\"type\":\"choropleth\",\"colorbar\":{\"outlinewidth\":0,\"ticks\":\"\"}}],\"histogram2d\":[{\"type\":\"histogram2d\",\"colorbar\":{\"outlinewidth\":0,\"ticks\":\"\"},\"colorscale\":[[0.0,\"#0d0887\"],[0.1111111111111111,\"#46039f\"],[0.2222222222222222,\"#7201a8\"],[0.3333333333333333,\"#9c179e\"],[0.4444444444444444,\"#bd3786\"],[0.5555555555555556,\"#d8576b\"],[0.6666666666666666,\"#ed7953\"],[0.7777777777777778,\"#fb9f3a\"],[0.8888888888888888,\"#fdca26\"],[1.0,\"#f0f921\"]]}],\"heatmap\":[{\"type\":\"heatmap\",\"colorbar\":{\"outlinewidth\":0,\"ticks\":\"\"},\"colorscale\":[[0.0,\"#0d0887\"],[0.1111111111111111,\"#46039f\"],[0.2222222222222222,\"#7201a8\"],[0.3333333333333333,\"#9c179e\"],[0.4444444444444444,\"#bd3786\"],[0.5555555555555556,\"#d8576b\"],[0.6666666666666666,\"#ed7953\"],[0.7777777777777778,\"#fb9f3a\"],[0.8888888888888888,\"#fdca26\"],[1.0,\"#f0f921\"]]}],\"heatmapgl\":[{\"type\":\"heatmapgl\",\"colorbar\":{\"outlinewidth\":0,\"ticks\":\"\"},\"colorscale\":[[0.0,\"#0d0887\"],[0.1111111111111111,\"#46039f\"],[0.2222222222222222,\"#7201a8\"],[0.3333333333333333,\"#9c179e\"],[0.4444444444444444,\"#bd3786\"],[0.5555555555555556,\"#d8576b\"],[0.6666666666666666,\"#ed7953\"],[0.7777777777777778,\"#fb9f3a\"],[0.8888888888888888,\"#fdca26\"],[1.0,\"#f0f921\"]]}],\"contourcarpet\":[{\"type\":\"contourcarpet\",\"colorbar\":{\"outlinewidth\":0,\"ticks\":\"\"}}],\"contour\":[{\"type\":\"contour\",\"colorbar\":{\"outlinewidth\":0,\"ticks\":\"\"},\"colorscale\":[[0.0,\"#0d0887\"],[0.1111111111111111,\"#46039f\"],[0.2222222222222222,\"#7201a8\"],[0.3333333333333333,\"#9c179e\"],[0.4444444444444444,\"#bd3786\"],[0.5555555555555556,\"#d8576b\"],[0.6666666666666666,\"#ed7953\"],[0.7777777777777778,\"#fb9f3a\"],[0.8888888888888888,\"#fdca26\"],[1.0,\"#f0f921\"]]}],\"surface\":[{\"type\":\"surface\",\"colorbar\":{\"outlinewidth\":0,\"ticks\":\"\"},\"colorscale\":[[0.0,\"#0d0887\"],[0.1111111111111111,\"#46039f\"],[0.2222222222222222,\"#7201a8\"],[0.3333333333333333,\"#9c179e\"],[0.4444444444444444,\"#bd3786\"],[0.5555555555555556,\"#d8576b\"],[0.6666666666666666,\"#ed7953\"],[0.7777777777777778,\"#fb9f3a\"],[0.8888888888888888,\"#fdca26\"],[1.0,\"#f0f921\"]]}],\"mesh3d\":[{\"type\":\"mesh3d\",\"colorbar\":{\"outlinewidth\":0,\"ticks\":\"\"}}],\"scatter\":[{\"fillpattern\":{\"fillmode\":\"overlay\",\"size\":10,\"solidity\":0.2},\"type\":\"scatter\"}],\"parcoords\":[{\"type\":\"parcoords\",\"line\":{\"colorbar\":{\"outlinewidth\":0,\"ticks\":\"\"}}}],\"scatterpolargl\":[{\"type\":\"scatterpolargl\",\"marker\":{\"colorbar\":{\"outlinewidth\":0,\"ticks\":\"\"}}}],\"bar\":[{\"error_x\":{\"color\":\"#2a3f5f\"},\"error_y\":{\"color\":\"#2a3f5f\"},\"marker\":{\"line\":{\"color\":\"#E5ECF6\",\"width\":0.5},\"pattern\":{\"fillmode\":\"overlay\",\"size\":10,\"solidity\":0.2}},\"type\":\"bar\"}],\"scattergeo\":[{\"type\":\"scattergeo\",\"marker\":{\"colorbar\":{\"outlinewidth\":0,\"ticks\":\"\"}}}],\"scatterpolar\":[{\"type\":\"scatterpolar\",\"marker\":{\"colorbar\":{\"outlinewidth\":0,\"ticks\":\"\"}}}],\"histogram\":[{\"marker\":{\"pattern\":{\"fillmode\":\"overlay\",\"size\":10,\"solidity\":0.2}},\"type\":\"histogram\"}],\"scattergl\":[{\"type\":\"scattergl\",\"marker\":{\"colorbar\":{\"outlinewidth\":0,\"ticks\":\"\"}}}],\"scatter3d\":[{\"type\":\"scatter3d\",\"line\":{\"colorbar\":{\"outlinewidth\":0,\"ticks\":\"\"}},\"marker\":{\"colorbar\":{\"outlinewidth\":0,\"ticks\":\"\"}}}],\"scattermapbox\":[{\"type\":\"scattermapbox\",\"marker\":{\"colorbar\":{\"outlinewidth\":0,\"ticks\":\"\"}}}],\"scatterternary\":[{\"type\":\"scatterternary\",\"marker\":{\"colorbar\":{\"outlinewidth\":0,\"ticks\":\"\"}}}],\"scattercarpet\":[{\"type\":\"scattercarpet\",\"marker\":{\"colorbar\":{\"outlinewidth\":0,\"ticks\":\"\"}}}],\"carpet\":[{\"aaxis\":{\"endlinecolor\":\"#2a3f5f\",\"gridcolor\":\"white\",\"linecolor\":\"white\",\"minorgridcolor\":\"white\",\"startlinecolor\":\"#2a3f5f\"},\"baxis\":{\"endlinecolor\":\"#2a3f5f\",\"gridcolor\":\"white\",\"linecolor\":\"white\",\"minorgridcolor\":\"white\",\"startlinecolor\":\"#2a3f5f\"},\"type\":\"carpet\"}],\"table\":[{\"cells\":{\"fill\":{\"color\":\"#EBF0F8\"},\"line\":{\"color\":\"white\"}},\"header\":{\"fill\":{\"color\":\"#C8D4E3\"},\"line\":{\"color\":\"white\"}},\"type\":\"table\"}],\"barpolar\":[{\"marker\":{\"line\":{\"color\":\"#E5ECF6\",\"width\":0.5},\"pattern\":{\"fillmode\":\"overlay\",\"size\":10,\"solidity\":0.2}},\"type\":\"barpolar\"}],\"pie\":[{\"automargin\":true,\"type\":\"pie\"}]},\"layout\":{\"autotypenumbers\":\"strict\",\"colorway\":[\"#636efa\",\"#EF553B\",\"#00cc96\",\"#ab63fa\",\"#FFA15A\",\"#19d3f3\",\"#FF6692\",\"#B6E880\",\"#FF97FF\",\"#FECB52\"],\"font\":{\"color\":\"#2a3f5f\"},\"hovermode\":\"closest\",\"hoverlabel\":{\"align\":\"left\"},\"paper_bgcolor\":\"white\",\"plot_bgcolor\":\"#E5ECF6\",\"polar\":{\"bgcolor\":\"#E5ECF6\",\"angularaxis\":{\"gridcolor\":\"white\",\"linecolor\":\"white\",\"ticks\":\"\"},\"radialaxis\":{\"gridcolor\":\"white\",\"linecolor\":\"white\",\"ticks\":\"\"}},\"ternary\":{\"bgcolor\":\"#E5ECF6\",\"aaxis\":{\"gridcolor\":\"white\",\"linecolor\":\"white\",\"ticks\":\"\"},\"baxis\":{\"gridcolor\":\"white\",\"linecolor\":\"white\",\"ticks\":\"\"},\"caxis\":{\"gridcolor\":\"white\",\"linecolor\":\"white\",\"ticks\":\"\"}},\"coloraxis\":{\"colorbar\":{\"outlinewidth\":0,\"ticks\":\"\"}},\"colorscale\":{\"sequential\":[[0.0,\"#0d0887\"],[0.1111111111111111,\"#46039f\"],[0.2222222222222222,\"#7201a8\"],[0.3333333333333333,\"#9c179e\"],[0.4444444444444444,\"#bd3786\"],[0.5555555555555556,\"#d8576b\"],[0.6666666666666666,\"#ed7953\"],[0.7777777777777778,\"#fb9f3a\"],[0.8888888888888888,\"#fdca26\"],[1.0,\"#f0f921\"]],\"sequentialminus\":[[0.0,\"#0d0887\"],[0.1111111111111111,\"#46039f\"],[0.2222222222222222,\"#7201a8\"],[0.3333333333333333,\"#9c179e\"],[0.4444444444444444,\"#bd3786\"],[0.5555555555555556,\"#d8576b\"],[0.6666666666666666,\"#ed7953\"],[0.7777777777777778,\"#fb9f3a\"],[0.8888888888888888,\"#fdca26\"],[1.0,\"#f0f921\"]],\"diverging\":[[0,\"#8e0152\"],[0.1,\"#c51b7d\"],[0.2,\"#de77ae\"],[0.3,\"#f1b6da\"],[0.4,\"#fde0ef\"],[0.5,\"#f7f7f7\"],[0.6,\"#e6f5d0\"],[0.7,\"#b8e186\"],[0.8,\"#7fbc41\"],[0.9,\"#4d9221\"],[1,\"#276419\"]]},\"xaxis\":{\"gridcolor\":\"white\",\"linecolor\":\"white\",\"ticks\":\"\",\"title\":{\"standoff\":15},\"zerolinecolor\":\"white\",\"automargin\":true,\"zerolinewidth\":2},\"yaxis\":{\"gridcolor\":\"white\",\"linecolor\":\"white\",\"ticks\":\"\",\"title\":{\"standoff\":15},\"zerolinecolor\":\"white\",\"automargin\":true,\"zerolinewidth\":2},\"scene\":{\"xaxis\":{\"backgroundcolor\":\"#E5ECF6\",\"gridcolor\":\"white\",\"linecolor\":\"white\",\"showbackground\":true,\"ticks\":\"\",\"zerolinecolor\":\"white\",\"gridwidth\":2},\"yaxis\":{\"backgroundcolor\":\"#E5ECF6\",\"gridcolor\":\"white\",\"linecolor\":\"white\",\"showbackground\":true,\"ticks\":\"\",\"zerolinecolor\":\"white\",\"gridwidth\":2},\"zaxis\":{\"backgroundcolor\":\"#E5ECF6\",\"gridcolor\":\"white\",\"linecolor\":\"white\",\"showbackground\":true,\"ticks\":\"\",\"zerolinecolor\":\"white\",\"gridwidth\":2}},\"shapedefaults\":{\"line\":{\"color\":\"#2a3f5f\"}},\"annotationdefaults\":{\"arrowcolor\":\"#2a3f5f\",\"arrowhead\":0,\"arrowwidth\":1},\"geo\":{\"bgcolor\":\"white\",\"landcolor\":\"#E5ECF6\",\"subunitcolor\":\"white\",\"showland\":true,\"showlakes\":true,\"lakecolor\":\"white\"},\"title\":{\"x\":0.05},\"mapbox\":{\"style\":\"light\"}}},\"xaxis\":{\"anchor\":\"y\",\"domain\":[0.0,1.0],\"title\":{\"text\":\"\"}},\"yaxis\":{\"anchor\":\"x\",\"domain\":[0.0,1.0],\"title\":{\"text\":\"18\"},\"range\":[-30,300]},\"legend\":{\"tracegroupgap\":0},\"title\":{\"text\":\"Differences in speeches per Session (18th electoral term)\"},\"barmode\":\"relative\"},                        {\"responsive\": true}                    ).then(function(){\n",
       "                            \n",
       "var gd = document.getElementById('10643a4d-8726-4bce-b9de-1488df522ff7');\n",
       "var x = new MutationObserver(function (mutations, observer) {{\n",
       "        var display = window.getComputedStyle(gd).display;\n",
       "        if (!display || display === 'none') {{\n",
       "            console.log([gd, 'removed!']);\n",
       "            Plotly.purge(gd);\n",
       "            observer.disconnect();\n",
       "        }}\n",
       "}});\n",
       "\n",
       "// Listen for the removal of the full notebook cells\n",
       "var notebookContainer = gd.closest('#notebook-container');\n",
       "if (notebookContainer) {{\n",
       "    x.observe(notebookContainer, {childList: true});\n",
       "}}\n",
       "\n",
       "// Listen for the clearing of the current output cell\n",
       "var outputEl = gd.closest('.output');\n",
       "if (outputEl) {{\n",
       "    x.observe(outputEl, {childList: true});\n",
       "}}\n",
       "\n",
       "                        })                };                });            </script>        </div>"
      ]
     },
     "metadata": {},
     "output_type": "display_data"
    }
   ],
   "source": [
    "fig = px.bar(diff, x=diff.index, y=\"18\", title='Differences in speeches per Session (18th electoral term)', range_y=[-30,300],\n",
    "            labels={\n",
    "                     \"session\": \"\",\n",
    "                     \"19\": \"\"})\n",
    "fig.show()\n",
    "fig.show()"
   ]
  },
  {
   "cell_type": "code",
   "execution_count": null,
   "id": "2369763a-e456-479c-bc63-a04b91dfab42",
   "metadata": {},
   "outputs": [],
   "source": [
    "diff[\"18\"].describe()"
   ]
  },
  {
   "cell_type": "markdown",
   "id": "949183ed-0646-4224-8517-be7974646630",
   "metadata": {},
   "source": [
    "## Session 18 237 (Diff 134) due to GermaParl coding Anhang Erklärungen nach § 31 GO"
   ]
  },
  {
   "cell_type": "code",
   "execution_count": null,
   "id": "0a95e18b-7019-47ea-b530-8eaf152956cc",
   "metadata": {},
   "outputs": [],
   "source": [
    "sess = 237\n",
    "dfoo = dfo[dfo[\"electoral_term\"] == 18]\n",
    "dfoo = dfoo[dfoo[\"session\"] == sess]\n",
    "dfoo[\"speech_content\"] = dfoo[\"speech_content\"].str[:40]\n",
    "dfgg = dfg[dfg[\"electoral_term\"] == 18]\n",
    "dfgg = dfgg[dfgg[\"session\"] == sess]\n",
    "dfgg[\"speech\"] = dfgg[\"speech\"].str[:40]\n",
    "dfoo = dfoo[[\"name\", \"speech_content\", \"faction_id\", \"date\", \"document_url\"]]\n",
    "dfgg = dfgg[[\"name\", \"speech\", \"party\", \"date\", \"agenda_no\", \"description_agenda\", \"speech_id\"]]\n",
    "print(len(dfgg), len(dfoo), \"Difference:\", len(dfgg)-len(dfoo))"
   ]
  },
  {
   "cell_type": "code",
   "execution_count": null,
   "id": "1b9e377b-2678-40a9-8784-8e4a2f865683",
   "metadata": {},
   "outputs": [],
   "source": [
    "fil = pd.concat([dfoo.value_counts(\"name\"), dfgg.value_counts(\"name\"), dfoo.value_counts(\"name\") - dfgg.value_counts(\"name\")], axis=1)[0].isna()\n",
    "names = pd.concat([dfoo.value_counts(\"name\"), dfgg.value_counts(\"name\"), dfoo.value_counts(\"name\") - dfgg.value_counts(\"name\")], axis=1)[fil].index\n",
    "dfgg[dfgg[\"name\"].isin(names.tolist()) & ~(dfgg[\"name\"].str.contains(\"Noll\"))].value_counts(\"description_agenda\")"
   ]
  },
  {
   "cell_type": "code",
   "execution_count": null,
   "id": "36ffda9d-b270-426b-8db5-0bb92d857633",
   "metadata": {},
   "outputs": [],
   "source": [
    "# the difference comes from the Anhang which is mistakenly labelled (Tagesordnungspunkt 9)\n",
    "dfgg[(dfgg.index >= 127376) & (dfgg.index <= 127509)].shape"
   ]
  },
  {
   "cell_type": "markdown",
   "id": "04409cf0-76aa-4ccb-8dd2-d93dc741a762",
   "metadata": {},
   "source": [
    "## Term 18 Session 46 (Diff 38) (GermaParl includes Erklärungen nach § 31 GO)"
   ]
  },
  {
   "cell_type": "code",
   "execution_count": 26,
   "id": "0728f266-0e8c-490a-a798-d3aee36d70bc",
   "metadata": {},
   "outputs": [
    {
     "name": "stdout",
     "output_type": "stream",
     "text": [
      "426 388 Difference: 38\n"
     ]
    }
   ],
   "source": [
    "term, sess = 18, 46\n",
    "dfoo = dfo[dfo[\"electoral_term\"] == term]\n",
    "dfoo = dfoo[dfoo[\"session\"] == sess]\n",
    "dfoo[\"speech_content\"] = dfoo[\"speech_content\"].str[:40]\n",
    "dfgg = dfg[dfg[\"electoral_term\"] == term]\n",
    "dfgg = dfgg[dfgg[\"session\"] == sess]\n",
    "dfgg[\"speech\"] = dfgg[\"speech\"].str[:40]\n",
    "dfoo = dfoo[[\"name\", \"speech_content\", \"faction_id\", \"date\", \"document_url\"]]\n",
    "dfgg = dfgg[[\"name\", \"speech\", \"party\", \"date\", \"agenda_no\", \"description_agenda\", \"speech_id\"]]\n",
    "print(len(dfgg), len(dfoo), \"Difference:\", len(dfgg)-len(dfoo))"
   ]
  },
  {
   "cell_type": "code",
   "execution_count": 27,
   "id": "f6cc5276-0bbc-4633-8d7f-faf32ec2825a",
   "metadata": {},
   "outputs": [],
   "source": [
    "diffs = pd.concat([dfoo.value_counts(\"name\"), dfgg.value_counts(\"name\"), dfoo.value_counts(\"name\") - dfgg.value_counts(\"name\")], axis=1)"
   ]
  },
  {
   "cell_type": "code",
   "execution_count": 34,
   "id": "8bd7d148-bced-45ea-ae68-186a738680a6",
   "metadata": {},
   "outputs": [
    {
     "data": {
      "text/html": [
       "<div>\n",
       "<style scoped>\n",
       "    .dataframe tbody tr th:only-of-type {\n",
       "        vertical-align: middle;\n",
       "    }\n",
       "\n",
       "    .dataframe tbody tr th {\n",
       "        vertical-align: top;\n",
       "    }\n",
       "\n",
       "    .dataframe thead th {\n",
       "        text-align: right;\n",
       "    }\n",
       "</style>\n",
       "<table border=\"1\" class=\"dataframe\">\n",
       "  <thead>\n",
       "    <tr style=\"text-align: right;\">\n",
       "      <th></th>\n",
       "      <th>count</th>\n",
       "      <th>count</th>\n",
       "      <th>count</th>\n",
       "    </tr>\n",
       "    <tr>\n",
       "      <th>name</th>\n",
       "      <th></th>\n",
       "      <th></th>\n",
       "      <th></th>\n",
       "    </tr>\n",
       "  </thead>\n",
       "  <tbody>\n",
       "    <tr>\n",
       "      <th>Not found</th>\n",
       "      <td>7.0</td>\n",
       "      <td>NaN</td>\n",
       "      <td>NaN</td>\n",
       "    </tr>\n",
       "    <tr>\n",
       "      <th>Philipp Lerchenfeld</th>\n",
       "      <td>1.0</td>\n",
       "      <td>NaN</td>\n",
       "      <td>NaN</td>\n",
       "    </tr>\n",
       "    <tr>\n",
       "      <th>Erika Steinbach-Hermann</th>\n",
       "      <td>1.0</td>\n",
       "      <td>NaN</td>\n",
       "      <td>NaN</td>\n",
       "    </tr>\n",
       "    <tr>\n",
       "      <th>Dorothee Mantel</th>\n",
       "      <td>1.0</td>\n",
       "      <td>NaN</td>\n",
       "      <td>NaN</td>\n",
       "    </tr>\n",
       "    <tr>\n",
       "      <th>Marieluise Beck-Oberdorf</th>\n",
       "      <td>1.0</td>\n",
       "      <td>NaN</td>\n",
       "      <td>NaN</td>\n",
       "    </tr>\n",
       "    <tr>\n",
       "      <th>Klaus Peter Schulze</th>\n",
       "      <td>1.0</td>\n",
       "      <td>NaN</td>\n",
       "      <td>NaN</td>\n",
       "    </tr>\n",
       "    <tr>\n",
       "      <th>Jörg Diether Dehm-Desoi</th>\n",
       "      <td>1.0</td>\n",
       "      <td>NaN</td>\n",
       "      <td>NaN</td>\n",
       "    </tr>\n",
       "    <tr>\n",
       "      <th>Thomas de Maizière</th>\n",
       "      <td>NaN</td>\n",
       "      <td>4.0</td>\n",
       "      <td>NaN</td>\n",
       "    </tr>\n",
       "    <tr>\n",
       "      <th>Veronika Bellmann</th>\n",
       "      <td>NaN</td>\n",
       "      <td>1.0</td>\n",
       "      <td>NaN</td>\n",
       "    </tr>\n",
       "    <tr>\n",
       "      <th>Robert Hochbaum</th>\n",
       "      <td>NaN</td>\n",
       "      <td>1.0</td>\n",
       "      <td>NaN</td>\n",
       "    </tr>\n",
       "    <tr>\n",
       "      <th>Michael Groß</th>\n",
       "      <td>NaN</td>\n",
       "      <td>1.0</td>\n",
       "      <td>NaN</td>\n",
       "    </tr>\n",
       "    <tr>\n",
       "      <th>Mechthild Rawert</th>\n",
       "      <td>NaN</td>\n",
       "      <td>1.0</td>\n",
       "      <td>NaN</td>\n",
       "    </tr>\n",
       "    <tr>\n",
       "      <th>Matthias Schmidt</th>\n",
       "      <td>NaN</td>\n",
       "      <td>1.0</td>\n",
       "      <td>NaN</td>\n",
       "    </tr>\n",
       "    <tr>\n",
       "      <th>Yvonne Magwas</th>\n",
       "      <td>NaN</td>\n",
       "      <td>1.0</td>\n",
       "      <td>NaN</td>\n",
       "    </tr>\n",
       "    <tr>\n",
       "      <th>Philipp Graf Lerchenfeld</th>\n",
       "      <td>NaN</td>\n",
       "      <td>1.0</td>\n",
       "      <td>NaN</td>\n",
       "    </tr>\n",
       "    <tr>\n",
       "      <th>Susann Rüthrich</th>\n",
       "      <td>NaN</td>\n",
       "      <td>1.0</td>\n",
       "      <td>NaN</td>\n",
       "    </tr>\n",
       "    <tr>\n",
       "      <th>Tankred Schipanski</th>\n",
       "      <td>NaN</td>\n",
       "      <td>1.0</td>\n",
       "      <td>NaN</td>\n",
       "    </tr>\n",
       "    <tr>\n",
       "      <th>Thomas Feist</th>\n",
       "      <td>NaN</td>\n",
       "      <td>1.0</td>\n",
       "      <td>NaN</td>\n",
       "    </tr>\n",
       "    <tr>\n",
       "      <th>Uda Heller</th>\n",
       "      <td>NaN</td>\n",
       "      <td>1.0</td>\n",
       "      <td>NaN</td>\n",
       "    </tr>\n",
       "    <tr>\n",
       "      <th>Sebastian Hartmann</th>\n",
       "      <td>NaN</td>\n",
       "      <td>1.0</td>\n",
       "      <td>NaN</td>\n",
       "    </tr>\n",
       "    <tr>\n",
       "      <th>Martin Patzelt</th>\n",
       "      <td>NaN</td>\n",
       "      <td>1.0</td>\n",
       "      <td>NaN</td>\n",
       "    </tr>\n",
       "    <tr>\n",
       "      <th>Christoph Bergner</th>\n",
       "      <td>NaN</td>\n",
       "      <td>1.0</td>\n",
       "      <td>NaN</td>\n",
       "    </tr>\n",
       "    <tr>\n",
       "      <th>Bärbel Bas</th>\n",
       "      <td>NaN</td>\n",
       "      <td>1.0</td>\n",
       "      <td>NaN</td>\n",
       "    </tr>\n",
       "    <tr>\n",
       "      <th>Carsten Körber</th>\n",
       "      <td>NaN</td>\n",
       "      <td>1.0</td>\n",
       "      <td>NaN</td>\n",
       "    </tr>\n",
       "    <tr>\n",
       "      <th>Carsten Linnemann</th>\n",
       "      <td>NaN</td>\n",
       "      <td>1.0</td>\n",
       "      <td>NaN</td>\n",
       "    </tr>\n",
       "    <tr>\n",
       "      <th>Carsten Sieling</th>\n",
       "      <td>NaN</td>\n",
       "      <td>1.0</td>\n",
       "      <td>NaN</td>\n",
       "    </tr>\n",
       "    <tr>\n",
       "      <th>Christel Voßbeck-Kayser</th>\n",
       "      <td>NaN</td>\n",
       "      <td>1.0</td>\n",
       "      <td>NaN</td>\n",
       "    </tr>\n",
       "    <tr>\n",
       "      <th>Dietrich Monstadt</th>\n",
       "      <td>NaN</td>\n",
       "      <td>1.0</td>\n",
       "      <td>NaN</td>\n",
       "    </tr>\n",
       "    <tr>\n",
       "      <th>Aydan Özoguz</th>\n",
       "      <td>NaN</td>\n",
       "      <td>1.0</td>\n",
       "      <td>NaN</td>\n",
       "    </tr>\n",
       "    <tr>\n",
       "      <th>Armin Schuster</th>\n",
       "      <td>NaN</td>\n",
       "      <td>1.0</td>\n",
       "      <td>NaN</td>\n",
       "    </tr>\n",
       "    <tr>\n",
       "      <th>Andreas Lenz</th>\n",
       "      <td>NaN</td>\n",
       "      <td>1.0</td>\n",
       "      <td>NaN</td>\n",
       "    </tr>\n",
       "    <tr>\n",
       "      <th>Diether Dehm</th>\n",
       "      <td>NaN</td>\n",
       "      <td>1.0</td>\n",
       "      <td>NaN</td>\n",
       "    </tr>\n",
       "    <tr>\n",
       "      <th>Dorothee Bär</th>\n",
       "      <td>NaN</td>\n",
       "      <td>1.0</td>\n",
       "      <td>NaN</td>\n",
       "    </tr>\n",
       "    <tr>\n",
       "      <th>Klaus Brähmig</th>\n",
       "      <td>NaN</td>\n",
       "      <td>1.0</td>\n",
       "      <td>NaN</td>\n",
       "    </tr>\n",
       "    <tr>\n",
       "      <th>Karl Holmeier</th>\n",
       "      <td>NaN</td>\n",
       "      <td>1.0</td>\n",
       "      <td>NaN</td>\n",
       "    </tr>\n",
       "    <tr>\n",
       "      <th>Karl-Heinz Brunner</th>\n",
       "      <td>NaN</td>\n",
       "      <td>1.0</td>\n",
       "      <td>NaN</td>\n",
       "    </tr>\n",
       "    <tr>\n",
       "      <th>Katharina Landgraf</th>\n",
       "      <td>NaN</td>\n",
       "      <td>1.0</td>\n",
       "      <td>NaN</td>\n",
       "    </tr>\n",
       "    <tr>\n",
       "      <th>Klaus-Peter Schulze</th>\n",
       "      <td>NaN</td>\n",
       "      <td>1.0</td>\n",
       "      <td>NaN</td>\n",
       "    </tr>\n",
       "    <tr>\n",
       "      <th>Erika Steinbach</th>\n",
       "      <td>NaN</td>\n",
       "      <td>1.0</td>\n",
       "      <td>NaN</td>\n",
       "    </tr>\n",
       "    <tr>\n",
       "      <th>Lars Castellucci</th>\n",
       "      <td>NaN</td>\n",
       "      <td>1.0</td>\n",
       "      <td>NaN</td>\n",
       "    </tr>\n",
       "    <tr>\n",
       "      <th>Maria Michalk</th>\n",
       "      <td>NaN</td>\n",
       "      <td>1.0</td>\n",
       "      <td>NaN</td>\n",
       "    </tr>\n",
       "    <tr>\n",
       "      <th>Marieluise Beck</th>\n",
       "      <td>NaN</td>\n",
       "      <td>1.0</td>\n",
       "      <td>NaN</td>\n",
       "    </tr>\n",
       "    <tr>\n",
       "      <th>Mark Hauptmann</th>\n",
       "      <td>NaN</td>\n",
       "      <td>1.0</td>\n",
       "      <td>NaN</td>\n",
       "    </tr>\n",
       "    <tr>\n",
       "      <th>Irene Mihalic</th>\n",
       "      <td>NaN</td>\n",
       "      <td>1.0</td>\n",
       "      <td>NaN</td>\n",
       "    </tr>\n",
       "    <tr>\n",
       "      <th>Heike Baehrens</th>\n",
       "      <td>NaN</td>\n",
       "      <td>1.0</td>\n",
       "      <td>NaN</td>\n",
       "    </tr>\n",
       "    <tr>\n",
       "      <th>Günter Krings</th>\n",
       "      <td>NaN</td>\n",
       "      <td>1.0</td>\n",
       "      <td>NaN</td>\n",
       "    </tr>\n",
       "    <tr>\n",
       "      <th>Günter Baumann</th>\n",
       "      <td>NaN</td>\n",
       "      <td>1.0</td>\n",
       "      <td>NaN</td>\n",
       "    </tr>\n",
       "  </tbody>\n",
       "</table>\n",
       "</div>"
      ],
      "text/plain": [
       "                          count  count  count\n",
       "name                                         \n",
       "Not found                   7.0    NaN    NaN\n",
       "Philipp Lerchenfeld         1.0    NaN    NaN\n",
       "Erika Steinbach-Hermann     1.0    NaN    NaN\n",
       "Dorothee Mantel             1.0    NaN    NaN\n",
       "Marieluise Beck-Oberdorf    1.0    NaN    NaN\n",
       "Klaus Peter Schulze         1.0    NaN    NaN\n",
       "Jörg Diether Dehm-Desoi     1.0    NaN    NaN\n",
       "Thomas de Maizière          NaN    4.0    NaN\n",
       "Veronika Bellmann           NaN    1.0    NaN\n",
       "Robert Hochbaum             NaN    1.0    NaN\n",
       "Michael Groß                NaN    1.0    NaN\n",
       "Mechthild Rawert            NaN    1.0    NaN\n",
       "Matthias Schmidt            NaN    1.0    NaN\n",
       "Yvonne Magwas               NaN    1.0    NaN\n",
       "Philipp Graf Lerchenfeld    NaN    1.0    NaN\n",
       "Susann Rüthrich             NaN    1.0    NaN\n",
       "Tankred Schipanski          NaN    1.0    NaN\n",
       "Thomas Feist                NaN    1.0    NaN\n",
       "Uda Heller                  NaN    1.0    NaN\n",
       "Sebastian Hartmann          NaN    1.0    NaN\n",
       "Martin Patzelt              NaN    1.0    NaN\n",
       "Christoph Bergner           NaN    1.0    NaN\n",
       "Bärbel Bas                  NaN    1.0    NaN\n",
       "Carsten Körber              NaN    1.0    NaN\n",
       "Carsten Linnemann           NaN    1.0    NaN\n",
       "Carsten Sieling             NaN    1.0    NaN\n",
       "Christel Voßbeck-Kayser     NaN    1.0    NaN\n",
       "Dietrich Monstadt           NaN    1.0    NaN\n",
       "Aydan Özoguz                NaN    1.0    NaN\n",
       "Armin Schuster              NaN    1.0    NaN\n",
       "Andreas Lenz                NaN    1.0    NaN\n",
       "Diether Dehm                NaN    1.0    NaN\n",
       "Dorothee Bär                NaN    1.0    NaN\n",
       "Klaus Brähmig               NaN    1.0    NaN\n",
       "Karl Holmeier               NaN    1.0    NaN\n",
       "Karl-Heinz Brunner          NaN    1.0    NaN\n",
       "Katharina Landgraf          NaN    1.0    NaN\n",
       "Klaus-Peter Schulze         NaN    1.0    NaN\n",
       "Erika Steinbach             NaN    1.0    NaN\n",
       "Lars Castellucci            NaN    1.0    NaN\n",
       "Maria Michalk               NaN    1.0    NaN\n",
       "Marieluise Beck             NaN    1.0    NaN\n",
       "Mark Hauptmann              NaN    1.0    NaN\n",
       "Irene Mihalic               NaN    1.0    NaN\n",
       "Heike Baehrens              NaN    1.0    NaN\n",
       "Günter Krings               NaN    1.0    NaN\n",
       "Günter Baumann              NaN    1.0    NaN"
      ]
     },
     "execution_count": 34,
     "metadata": {},
     "output_type": "execute_result"
    }
   ],
   "source": [
    "diffs = diffs[diffs.iloc[:,2] != 0.0]\n",
    "diffs[diffs.iloc[:,2].isna()]"
   ]
  },
  {
   "cell_type": "code",
   "execution_count": 35,
   "id": "fe772fa3-0775-4481-b1a6-2c8c923def56",
   "metadata": {},
   "outputs": [
    {
     "data": {
      "text/plain": [
       "84639    zur namentlichen Abstimmung über den von der Bundesregierung eingebrachten Entwu...\n",
       "Name: description_agenda, dtype: object"
      ]
     },
     "execution_count": 35,
     "metadata": {},
     "output_type": "execute_result"
    }
   ],
   "source": [
    "dfgg[dfgg[\"name\"].str.contains(\"Heller\")].description_agenda"
   ]
  },
  {
   "cell_type": "markdown",
   "id": "e1f51434-4fe6-4da9-b6da-e5dd8f61cc0e",
   "metadata": {},
   "source": [
    "#### Conclusion:\n",
    "Difference largely stems from GermanParl mistakenly coding\n",
    "\n",
    "\"\"\"Anlage 6\n",
    "Erklärungen nach § 31 GO zur namentlichen Abstimmung über den von der Bundesregierung eingebrachten Entwurf ei-\n",
    "nes Gesetzes zur Stärkung der Tarifautonomie (Tarifautonomiestärkungsgesetz) (Tagesordnungspunkt 4 a)\"\"\"\n",
    "\n",
    "as speeches"
   ]
  },
  {
   "cell_type": "markdown",
   "id": "15520bdc-a34d-47df-b3be-fd6e41cebf37",
   "metadata": {},
   "source": [
    "## Other Session also include Erklärungen nach § 31 GO:\n",
    "\n",
    "18, 193"
   ]
  },
  {
   "cell_type": "markdown",
   "id": "184b1d0d-f561-4c99-a081-2e9f25141c7b",
   "metadata": {},
   "source": [
    "## Term 18 Session 119, (Diff -22) Problem of GermaParl not able to handle large paragraphs"
   ]
  },
  {
   "cell_type": "markdown",
   "id": "ee067547-b0cf-42f7-97a1-7ece73600ef5",
   "metadata": {},
   "source": [
    "See https://github.com/PolMine/GermaParl2/issues/6"
   ]
  },
  {
   "cell_type": "code",
   "execution_count": 18,
   "id": "243a5ab8-ecaa-4147-85e5-4c4b5ecca590",
   "metadata": {},
   "outputs": [
    {
     "name": "stdout",
     "output_type": "stream",
     "text": [
      "102 124 Difference: -22\n"
     ]
    }
   ],
   "source": [
    "## Example of Germanparl 22 less speeches\n",
    "dfoo = dfo[dfo[\"electoral_term\"] == 18]\n",
    "dfoo = dfoo[dfoo[\"session\"] == 119]\n",
    "#dfoo = dfo[dfo[\"date\"] == datetime.date(2018, 1, 31)]\n",
    "dfoo[\"speech_content\"] = dfoo[\"speech_content\"].str[:50]\n",
    "dfgg = dfg[dfg[\"electoral_term\"] == 18]\n",
    "dfgg = dfgg[dfgg[\"session\"] == 119]\n",
    "dfgg[\"speech\"] = dfgg[\"speech\"].str[:]\n",
    "dfoo = dfoo[[\"name\", \"speech_content\", \"faction_id\", \"date\", \"document_url\"]]\n",
    "dfgg = dfgg[[\"name\", \"speech\", \"party\", \"date\"]]\n",
    "print(len(dfgg), len(dfoo), \"Difference:\", len(dfgg)-len(dfoo))"
   ]
  },
  {
   "cell_type": "code",
   "execution_count": 32,
   "id": "384eb80a-3525-40d9-8bc9-654a7bdff1d8",
   "metadata": {},
   "outputs": [
    {
     "name": "stdout",
     "output_type": "stream",
     "text": [
      "Speech contains call for next speaker:\n",
      "\n"
     ]
    },
    {
     "data": {
      "text/plain": [
       "100243    ts- und verbraucherpolitischen Themen am Ende nicht herunterfallen werden . Vielen Dank . (C) (D) (A) Vizepräsident Johannes Singhammer: Der Kollege Harald Petzold, Die Linke, spricht als Nächster .\n",
       "Name: speech, dtype: object"
      ]
     },
     "execution_count": 32,
     "metadata": {},
     "output_type": "execute_result"
    }
   ],
   "source": [
    "print(\"Speech contains call for next speaker:\\n\")\n",
    "dfgg[dfgg[\"name\"].str.contains(\"Rohde\")].speech.str[-200:]"
   ]
  },
  {
   "cell_type": "code",
   "execution_count": 17,
   "id": "c39e72d0-26ad-4c9a-b712-a3d48a5e19b6",
   "metadata": {},
   "outputs": [
    {
     "data": {
      "text/html": [
       "<div>\n",
       "<style scoped>\n",
       "    .dataframe tbody tr th:only-of-type {\n",
       "        vertical-align: middle;\n",
       "    }\n",
       "\n",
       "    .dataframe tbody tr th {\n",
       "        vertical-align: top;\n",
       "    }\n",
       "\n",
       "    .dataframe thead th {\n",
       "        text-align: right;\n",
       "    }\n",
       "</style>\n",
       "<table border=\"1\" class=\"dataframe\">\n",
       "  <thead>\n",
       "    <tr style=\"text-align: right;\">\n",
       "      <th></th>\n",
       "      <th>0</th>\n",
       "      <th>1</th>\n",
       "      <th>2</th>\n",
       "    </tr>\n",
       "    <tr>\n",
       "      <th>name</th>\n",
       "      <th></th>\n",
       "      <th></th>\n",
       "      <th></th>\n",
       "    </tr>\n",
       "  </thead>\n",
       "  <tbody>\n",
       "    <tr>\n",
       "      <th>Ulla Schmidt</th>\n",
       "      <td>16.0</td>\n",
       "      <td>18.0</td>\n",
       "      <td>-2.0</td>\n",
       "    </tr>\n",
       "    <tr>\n",
       "      <th>Johannes Singhammer</th>\n",
       "      <td>12.0</td>\n",
       "      <td>16.0</td>\n",
       "      <td>-4.0</td>\n",
       "    </tr>\n",
       "    <tr>\n",
       "      <th>Petra Pau</th>\n",
       "      <td>8.0</td>\n",
       "      <td>9.0</td>\n",
       "      <td>-1.0</td>\n",
       "    </tr>\n",
       "    <tr>\n",
       "      <th>Norbert Lammert</th>\n",
       "      <td>7.0</td>\n",
       "      <td>9.0</td>\n",
       "      <td>-2.0</td>\n",
       "    </tr>\n",
       "    <tr>\n",
       "      <th>Georg Nüßlein</th>\n",
       "      <td>4.0</td>\n",
       "      <td>6.0</td>\n",
       "      <td>-2.0</td>\n",
       "    </tr>\n",
       "    <tr>\n",
       "      <th>Volker Ullrich</th>\n",
       "      <td>3.0</td>\n",
       "      <td>4.0</td>\n",
       "      <td>-1.0</td>\n",
       "    </tr>\n",
       "    <tr>\n",
       "      <th>Gesine Lötzsch</th>\n",
       "      <td>1.0</td>\n",
       "      <td>2.0</td>\n",
       "      <td>-1.0</td>\n",
       "    </tr>\n",
       "  </tbody>\n",
       "</table>\n",
       "</div>"
      ],
      "text/plain": [
       "                        0     1    2\n",
       "name                                \n",
       "Ulla Schmidt         16.0  18.0 -2.0\n",
       "Johannes Singhammer  12.0  16.0 -4.0\n",
       "Petra Pau            8.0   9.0  -1.0\n",
       "Norbert Lammert      7.0   9.0  -2.0\n",
       "Georg Nüßlein        4.0   6.0  -2.0\n",
       "Volker Ullrich       3.0   4.0  -1.0\n",
       "Gesine Lötzsch       1.0   2.0  -1.0"
      ]
     },
     "execution_count": 17,
     "metadata": {},
     "output_type": "execute_result"
    }
   ],
   "source": [
    "diffs = pd.concat([dfgg.value_counts(\"name\"), dfoo.value_counts(\"name\"), dfgg.value_counts(\"name\") - dfoo.value_counts(\"name\")], axis=1)\n",
    "diffs = diffs[(diffs[2] < 0)]\n",
    "diffs"
   ]
  },
  {
   "cell_type": "markdown",
   "id": "093ed119-2089-4929-9378-673598449c1a",
   "metadata": {},
   "source": [
    "# open discourse misformating"
   ]
  },
  {
   "cell_type": "code",
   "execution_count": 36,
   "id": "5faed2a3-f296-4d0f-8faa-da9c6198d16c",
   "metadata": {},
   "outputs": [
    {
     "name": "stdout",
     "output_type": "stream",
     "text": [
      "[119, 120, 121, 122, 123, 124, 125, 126, 127, 128, 129, 131, 132, 133, 135, 137, 138, 139, 140, 142, 143, 144, 145, 146, 147, 148, 150, 151, 152, 153, 155, 156, 159, 161, 162, 163, 165, 166, 167, 168, 169]\n"
     ]
    }
   ],
   "source": [
    "testdf = dfo[dfo[\"electoral_term\"] == 18]\n",
    "sessionlist = []\n",
    "for session in range(170):\n",
    "    try:\n",
    "        tmp = testdf[testdf[\"session\"] == session]\n",
    "    except:\n",
    "        print(session)\n",
    "    if len(tmp) > 0:  \n",
    "        sample = tmp.sample()\n",
    "        txt = sample[\"speech_content\"].values[0]\n",
    "        for x in range(0,len(txt),300):\n",
    "            if \" . \" in txt[x:x+299]:\n",
    "                sessionlist.append(session)\n",
    "                break\n",
    "                \n",
    "print(sessionlist)        "
   ]
  },
  {
   "cell_type": "code",
   "execution_count": null,
   "id": "3daf1239-4d3a-49ca-b1e4-b331f0777620",
   "metadata": {},
   "outputs": [],
   "source": []
  },
  {
   "cell_type": "markdown",
   "id": "3b25a424-55a3-4941-a3ad-cb922e87646c",
   "metadata": {},
   "source": [
    "# Electoral term 19"
   ]
  },
  {
   "cell_type": "code",
   "execution_count": 15,
   "id": "ca1198ab-c694-4812-b351-b446bdf77fae",
   "metadata": {},
   "outputs": [
    {
     "data": {
      "application/vnd.plotly.v1+json": {
       "config": {
        "plotlyServerURL": "https://plot.ly"
       },
       "data": [
        {
         "alignmentgroup": "True",
         "hovertemplate": "=%{y}<extra></extra>",
         "legendgroup": "",
         "marker": {
          "color": "#636efa",
          "pattern": {
           "shape": ""
          }
         },
         "name": "",
         "offsetgroup": "",
         "orientation": "v",
         "showlegend": false,
         "textposition": "auto",
         "type": "bar",
         "x": [
          1,
          2,
          3,
          4,
          5,
          6,
          7,
          8,
          9,
          10,
          11,
          12,
          13,
          14,
          15,
          16,
          17,
          18,
          19,
          20,
          21,
          22,
          23,
          24,
          25,
          26,
          27,
          28,
          29,
          30,
          31,
          32,
          33,
          34,
          35,
          36,
          37,
          38,
          39,
          40,
          41,
          42,
          43,
          44,
          45,
          46,
          47,
          48,
          49,
          50,
          51,
          52,
          53,
          54,
          55,
          56,
          57,
          58,
          59,
          60,
          61,
          62,
          63,
          64,
          65,
          66,
          67,
          68,
          69,
          70,
          71,
          72,
          73,
          74,
          75,
          76,
          77,
          78,
          79,
          80,
          81,
          82,
          83,
          84,
          85,
          86,
          87,
          88,
          89,
          90,
          91,
          92,
          93,
          94,
          95,
          96,
          97,
          98,
          99,
          100,
          101,
          102,
          103,
          104,
          105,
          106,
          107,
          108,
          109,
          110,
          111,
          112,
          113,
          114,
          115,
          116,
          117,
          118,
          119,
          120,
          121,
          122,
          123,
          124,
          125,
          126,
          127,
          128,
          129,
          130,
          131,
          132,
          133,
          134,
          135,
          136,
          137,
          138,
          139,
          140,
          141,
          142,
          143,
          144,
          145,
          146,
          147,
          148,
          149,
          150,
          151,
          152,
          153,
          154,
          155,
          156,
          157,
          158,
          159,
          160,
          161,
          162,
          163,
          164,
          165,
          166,
          167,
          168,
          169,
          170,
          171,
          172,
          173,
          174,
          175,
          176,
          177,
          178,
          179,
          180,
          181,
          182,
          183,
          184,
          185,
          186,
          187,
          188,
          189,
          190,
          191,
          192,
          193,
          194,
          195,
          196,
          197,
          198,
          199,
          200,
          201,
          202,
          203,
          204,
          205,
          206,
          207,
          208,
          209,
          210,
          211,
          212,
          213,
          214,
          215,
          216,
          217,
          218,
          219,
          220,
          221,
          222,
          223,
          224,
          225,
          226,
          227,
          228,
          229,
          230,
          231,
          232,
          233,
          234,
          235,
          236,
          237,
          238,
          239,
          240,
          241,
          242,
          243,
          244,
          245
         ],
         "xaxis": "x",
         "y": [
          1,
          1,
          1,
          6,
          97,
          246,
          1,
          2,
          1,
          264,
          5,
          1,
          174,
          3,
          1,
          273,
          2,
          1,
          1,
          1,
          2,
          30,
          7,
          1,
          201,
          2,
          1,
          231,
          5,
          1,
          1,
          1,
          2,
          1,
          295,
          1,
          1,
          163,
          7,
          3,
          148,
          3,
          2,
          1,
          3,
          3,
          1,
          1,
          1,
          1,
          230,
          2,
          1,
          193,
          1,
          1,
          186,
          8,
          4,
          205,
          10,
          6,
          1,
          2,
          1,
          3,
          125,
          11,
          6,
          205,
          5,
          1,
          131,
          1,
          3,
          202,
          1,
          2,
          171,
          4,
          1,
          242,
          5,
          1,
          163,
          4,
          4,
          122,
          6,
          2,
          183,
          6,
          1,
          127,
          2,
          1,
          225,
          7,
          3,
          170,
          7,
          2,
          190,
          4,
          5,
          119,
          2,
          4,
          1,
          1,
          1,
          2,
          1,
          168,
          16,
          3,
          180,
          16,
          10,
          160,
          10,
          1,
          162,
          10,
          3,
          200,
          11,
          4,
          7,
          5,
          3,
          4,
          126,
          5,
          1,
          88,
          5,
          3,
          101,
          6,
          2,
          143,
          1,
          2,
          151,
          2,
          1,
          119,
          4,
          1,
          129,
          2,
          2,
          5,
          82,
          1,
          127,
          5,
          96,
          9,
          2,
          114,
          2,
          3,
          111,
          16,
          4,
          2,
          100,
          13,
          8,
          110,
          14,
          5,
          156,
          9,
          4,
          7,
          6,
          4,
          4,
          98,
          10,
          5,
          122,
          5,
          4,
          121,
          22,
          1,
          101,
          8,
          3,
          177,
          10,
          1,
          4,
          1,
          6,
          2,
          86,
          9,
          66,
          9,
          104,
          13,
          8,
          110,
          1,
          2,
          113,
          11,
          4,
          151,
          27,
          8,
          134,
          16,
          8,
          113,
          2,
          4,
          89,
          11,
          2,
          134,
          20,
          2,
          156,
          30,
          4,
          109,
          24,
          24,
          115,
          31,
          13,
          12,
          24,
          0,
          0,
          0,
          0,
          0,
          0
         ],
         "yaxis": "y"
        }
       ],
       "layout": {
        "autosize": true,
        "barmode": "relative",
        "legend": {
         "tracegroupgap": 0
        },
        "template": {
         "data": {
          "bar": [
           {
            "error_x": {
             "color": "#2a3f5f"
            },
            "error_y": {
             "color": "#2a3f5f"
            },
            "marker": {
             "line": {
              "color": "#E5ECF6",
              "width": 0.5
             },
             "pattern": {
              "fillmode": "overlay",
              "size": 10,
              "solidity": 0.2
             }
            },
            "type": "bar"
           }
          ],
          "barpolar": [
           {
            "marker": {
             "line": {
              "color": "#E5ECF6",
              "width": 0.5
             },
             "pattern": {
              "fillmode": "overlay",
              "size": 10,
              "solidity": 0.2
             }
            },
            "type": "barpolar"
           }
          ],
          "carpet": [
           {
            "aaxis": {
             "endlinecolor": "#2a3f5f",
             "gridcolor": "white",
             "linecolor": "white",
             "minorgridcolor": "white",
             "startlinecolor": "#2a3f5f"
            },
            "baxis": {
             "endlinecolor": "#2a3f5f",
             "gridcolor": "white",
             "linecolor": "white",
             "minorgridcolor": "white",
             "startlinecolor": "#2a3f5f"
            },
            "type": "carpet"
           }
          ],
          "choropleth": [
           {
            "colorbar": {
             "outlinewidth": 0,
             "ticks": ""
            },
            "type": "choropleth"
           }
          ],
          "contour": [
           {
            "colorbar": {
             "outlinewidth": 0,
             "ticks": ""
            },
            "colorscale": [
             [
              0,
              "#0d0887"
             ],
             [
              0.1111111111111111,
              "#46039f"
             ],
             [
              0.2222222222222222,
              "#7201a8"
             ],
             [
              0.3333333333333333,
              "#9c179e"
             ],
             [
              0.4444444444444444,
              "#bd3786"
             ],
             [
              0.5555555555555556,
              "#d8576b"
             ],
             [
              0.6666666666666666,
              "#ed7953"
             ],
             [
              0.7777777777777778,
              "#fb9f3a"
             ],
             [
              0.8888888888888888,
              "#fdca26"
             ],
             [
              1,
              "#f0f921"
             ]
            ],
            "type": "contour"
           }
          ],
          "contourcarpet": [
           {
            "colorbar": {
             "outlinewidth": 0,
             "ticks": ""
            },
            "type": "contourcarpet"
           }
          ],
          "heatmap": [
           {
            "colorbar": {
             "outlinewidth": 0,
             "ticks": ""
            },
            "colorscale": [
             [
              0,
              "#0d0887"
             ],
             [
              0.1111111111111111,
              "#46039f"
             ],
             [
              0.2222222222222222,
              "#7201a8"
             ],
             [
              0.3333333333333333,
              "#9c179e"
             ],
             [
              0.4444444444444444,
              "#bd3786"
             ],
             [
              0.5555555555555556,
              "#d8576b"
             ],
             [
              0.6666666666666666,
              "#ed7953"
             ],
             [
              0.7777777777777778,
              "#fb9f3a"
             ],
             [
              0.8888888888888888,
              "#fdca26"
             ],
             [
              1,
              "#f0f921"
             ]
            ],
            "type": "heatmap"
           }
          ],
          "heatmapgl": [
           {
            "colorbar": {
             "outlinewidth": 0,
             "ticks": ""
            },
            "colorscale": [
             [
              0,
              "#0d0887"
             ],
             [
              0.1111111111111111,
              "#46039f"
             ],
             [
              0.2222222222222222,
              "#7201a8"
             ],
             [
              0.3333333333333333,
              "#9c179e"
             ],
             [
              0.4444444444444444,
              "#bd3786"
             ],
             [
              0.5555555555555556,
              "#d8576b"
             ],
             [
              0.6666666666666666,
              "#ed7953"
             ],
             [
              0.7777777777777778,
              "#fb9f3a"
             ],
             [
              0.8888888888888888,
              "#fdca26"
             ],
             [
              1,
              "#f0f921"
             ]
            ],
            "type": "heatmapgl"
           }
          ],
          "histogram": [
           {
            "marker": {
             "pattern": {
              "fillmode": "overlay",
              "size": 10,
              "solidity": 0.2
             }
            },
            "type": "histogram"
           }
          ],
          "histogram2d": [
           {
            "colorbar": {
             "outlinewidth": 0,
             "ticks": ""
            },
            "colorscale": [
             [
              0,
              "#0d0887"
             ],
             [
              0.1111111111111111,
              "#46039f"
             ],
             [
              0.2222222222222222,
              "#7201a8"
             ],
             [
              0.3333333333333333,
              "#9c179e"
             ],
             [
              0.4444444444444444,
              "#bd3786"
             ],
             [
              0.5555555555555556,
              "#d8576b"
             ],
             [
              0.6666666666666666,
              "#ed7953"
             ],
             [
              0.7777777777777778,
              "#fb9f3a"
             ],
             [
              0.8888888888888888,
              "#fdca26"
             ],
             [
              1,
              "#f0f921"
             ]
            ],
            "type": "histogram2d"
           }
          ],
          "histogram2dcontour": [
           {
            "colorbar": {
             "outlinewidth": 0,
             "ticks": ""
            },
            "colorscale": [
             [
              0,
              "#0d0887"
             ],
             [
              0.1111111111111111,
              "#46039f"
             ],
             [
              0.2222222222222222,
              "#7201a8"
             ],
             [
              0.3333333333333333,
              "#9c179e"
             ],
             [
              0.4444444444444444,
              "#bd3786"
             ],
             [
              0.5555555555555556,
              "#d8576b"
             ],
             [
              0.6666666666666666,
              "#ed7953"
             ],
             [
              0.7777777777777778,
              "#fb9f3a"
             ],
             [
              0.8888888888888888,
              "#fdca26"
             ],
             [
              1,
              "#f0f921"
             ]
            ],
            "type": "histogram2dcontour"
           }
          ],
          "mesh3d": [
           {
            "colorbar": {
             "outlinewidth": 0,
             "ticks": ""
            },
            "type": "mesh3d"
           }
          ],
          "parcoords": [
           {
            "line": {
             "colorbar": {
              "outlinewidth": 0,
              "ticks": ""
             }
            },
            "type": "parcoords"
           }
          ],
          "pie": [
           {
            "automargin": true,
            "type": "pie"
           }
          ],
          "scatter": [
           {
            "fillpattern": {
             "fillmode": "overlay",
             "size": 10,
             "solidity": 0.2
            },
            "type": "scatter"
           }
          ],
          "scatter3d": [
           {
            "line": {
             "colorbar": {
              "outlinewidth": 0,
              "ticks": ""
             }
            },
            "marker": {
             "colorbar": {
              "outlinewidth": 0,
              "ticks": ""
             }
            },
            "type": "scatter3d"
           }
          ],
          "scattercarpet": [
           {
            "marker": {
             "colorbar": {
              "outlinewidth": 0,
              "ticks": ""
             }
            },
            "type": "scattercarpet"
           }
          ],
          "scattergeo": [
           {
            "marker": {
             "colorbar": {
              "outlinewidth": 0,
              "ticks": ""
             }
            },
            "type": "scattergeo"
           }
          ],
          "scattergl": [
           {
            "marker": {
             "colorbar": {
              "outlinewidth": 0,
              "ticks": ""
             }
            },
            "type": "scattergl"
           }
          ],
          "scattermapbox": [
           {
            "marker": {
             "colorbar": {
              "outlinewidth": 0,
              "ticks": ""
             }
            },
            "type": "scattermapbox"
           }
          ],
          "scatterpolar": [
           {
            "marker": {
             "colorbar": {
              "outlinewidth": 0,
              "ticks": ""
             }
            },
            "type": "scatterpolar"
           }
          ],
          "scatterpolargl": [
           {
            "marker": {
             "colorbar": {
              "outlinewidth": 0,
              "ticks": ""
             }
            },
            "type": "scatterpolargl"
           }
          ],
          "scatterternary": [
           {
            "marker": {
             "colorbar": {
              "outlinewidth": 0,
              "ticks": ""
             }
            },
            "type": "scatterternary"
           }
          ],
          "surface": [
           {
            "colorbar": {
             "outlinewidth": 0,
             "ticks": ""
            },
            "colorscale": [
             [
              0,
              "#0d0887"
             ],
             [
              0.1111111111111111,
              "#46039f"
             ],
             [
              0.2222222222222222,
              "#7201a8"
             ],
             [
              0.3333333333333333,
              "#9c179e"
             ],
             [
              0.4444444444444444,
              "#bd3786"
             ],
             [
              0.5555555555555556,
              "#d8576b"
             ],
             [
              0.6666666666666666,
              "#ed7953"
             ],
             [
              0.7777777777777778,
              "#fb9f3a"
             ],
             [
              0.8888888888888888,
              "#fdca26"
             ],
             [
              1,
              "#f0f921"
             ]
            ],
            "type": "surface"
           }
          ],
          "table": [
           {
            "cells": {
             "fill": {
              "color": "#EBF0F8"
             },
             "line": {
              "color": "white"
             }
            },
            "header": {
             "fill": {
              "color": "#C8D4E3"
             },
             "line": {
              "color": "white"
             }
            },
            "type": "table"
           }
          ]
         },
         "layout": {
          "annotationdefaults": {
           "arrowcolor": "#2a3f5f",
           "arrowhead": 0,
           "arrowwidth": 1
          },
          "autotypenumbers": "strict",
          "coloraxis": {
           "colorbar": {
            "outlinewidth": 0,
            "ticks": ""
           }
          },
          "colorscale": {
           "diverging": [
            [
             0,
             "#8e0152"
            ],
            [
             0.1,
             "#c51b7d"
            ],
            [
             0.2,
             "#de77ae"
            ],
            [
             0.3,
             "#f1b6da"
            ],
            [
             0.4,
             "#fde0ef"
            ],
            [
             0.5,
             "#f7f7f7"
            ],
            [
             0.6,
             "#e6f5d0"
            ],
            [
             0.7,
             "#b8e186"
            ],
            [
             0.8,
             "#7fbc41"
            ],
            [
             0.9,
             "#4d9221"
            ],
            [
             1,
             "#276419"
            ]
           ],
           "sequential": [
            [
             0,
             "#0d0887"
            ],
            [
             0.1111111111111111,
             "#46039f"
            ],
            [
             0.2222222222222222,
             "#7201a8"
            ],
            [
             0.3333333333333333,
             "#9c179e"
            ],
            [
             0.4444444444444444,
             "#bd3786"
            ],
            [
             0.5555555555555556,
             "#d8576b"
            ],
            [
             0.6666666666666666,
             "#ed7953"
            ],
            [
             0.7777777777777778,
             "#fb9f3a"
            ],
            [
             0.8888888888888888,
             "#fdca26"
            ],
            [
             1,
             "#f0f921"
            ]
           ],
           "sequentialminus": [
            [
             0,
             "#0d0887"
            ],
            [
             0.1111111111111111,
             "#46039f"
            ],
            [
             0.2222222222222222,
             "#7201a8"
            ],
            [
             0.3333333333333333,
             "#9c179e"
            ],
            [
             0.4444444444444444,
             "#bd3786"
            ],
            [
             0.5555555555555556,
             "#d8576b"
            ],
            [
             0.6666666666666666,
             "#ed7953"
            ],
            [
             0.7777777777777778,
             "#fb9f3a"
            ],
            [
             0.8888888888888888,
             "#fdca26"
            ],
            [
             1,
             "#f0f921"
            ]
           ]
          },
          "colorway": [
           "#636efa",
           "#EF553B",
           "#00cc96",
           "#ab63fa",
           "#FFA15A",
           "#19d3f3",
           "#FF6692",
           "#B6E880",
           "#FF97FF",
           "#FECB52"
          ],
          "font": {
           "color": "#2a3f5f"
          },
          "geo": {
           "bgcolor": "white",
           "lakecolor": "white",
           "landcolor": "#E5ECF6",
           "showlakes": true,
           "showland": true,
           "subunitcolor": "white"
          },
          "hoverlabel": {
           "align": "left"
          },
          "hovermode": "closest",
          "mapbox": {
           "style": "light"
          },
          "paper_bgcolor": "white",
          "plot_bgcolor": "#E5ECF6",
          "polar": {
           "angularaxis": {
            "gridcolor": "white",
            "linecolor": "white",
            "ticks": ""
           },
           "bgcolor": "#E5ECF6",
           "radialaxis": {
            "gridcolor": "white",
            "linecolor": "white",
            "ticks": ""
           }
          },
          "scene": {
           "xaxis": {
            "backgroundcolor": "#E5ECF6",
            "gridcolor": "white",
            "gridwidth": 2,
            "linecolor": "white",
            "showbackground": true,
            "ticks": "",
            "zerolinecolor": "white"
           },
           "yaxis": {
            "backgroundcolor": "#E5ECF6",
            "gridcolor": "white",
            "gridwidth": 2,
            "linecolor": "white",
            "showbackground": true,
            "ticks": "",
            "zerolinecolor": "white"
           },
           "zaxis": {
            "backgroundcolor": "#E5ECF6",
            "gridcolor": "white",
            "gridwidth": 2,
            "linecolor": "white",
            "showbackground": true,
            "ticks": "",
            "zerolinecolor": "white"
           }
          },
          "shapedefaults": {
           "line": {
            "color": "#2a3f5f"
           }
          },
          "ternary": {
           "aaxis": {
            "gridcolor": "white",
            "linecolor": "white",
            "ticks": ""
           },
           "baxis": {
            "gridcolor": "white",
            "linecolor": "white",
            "ticks": ""
           },
           "bgcolor": "#E5ECF6",
           "caxis": {
            "gridcolor": "white",
            "linecolor": "white",
            "ticks": ""
           }
          },
          "title": {
           "x": 0.05
          },
          "xaxis": {
           "automargin": true,
           "gridcolor": "white",
           "linecolor": "white",
           "ticks": "",
           "title": {
            "standoff": 15
           },
           "zerolinecolor": "white",
           "zerolinewidth": 2
          },
          "yaxis": {
           "automargin": true,
           "gridcolor": "white",
           "linecolor": "white",
           "ticks": "",
           "title": {
            "standoff": 15
           },
           "zerolinecolor": "white",
           "zerolinewidth": 2
          }
         }
        },
        "title": {
         "text": "Differences in speeches per Session (19th electoral term)"
        },
        "xaxis": {
         "anchor": "y",
         "autorange": true,
         "domain": [
          0,
          1
         ],
         "range": [
          0.5,
          245.5
         ],
         "title": {
          "text": ""
         },
         "type": "linear"
        },
        "yaxis": {
         "anchor": "x",
         "domain": [
          0,
          1
         ],
         "range": [
          -30,
          300
         ],
         "title": {
          "text": ""
         },
         "type": "linear"
        }
       }
      },
      "image/png": "[encoded data removed]",
      "text/html": [
       "<div>                            <div id=\"834d8a17-1ede-469d-910d-85d312eb0282\" class=\"plotly-graph-div\" style=\"height:525px; width:100%;\"></div>            <script type=\"text/javascript\">                require([\"plotly\"], function(Plotly) {                    window.PLOTLYENV=window.PLOTLYENV || {};                                    if (document.getElementById(\"834d8a17-1ede-469d-910d-85d312eb0282\")) {                    Plotly.newPlot(                        \"834d8a17-1ede-469d-910d-85d312eb0282\",                        [{\"alignmentgroup\":\"True\",\"hovertemplate\":\"=%{y}\\u003cextra\\u003e\\u003c\\u002fextra\\u003e\",\"legendgroup\":\"\",\"marker\":{\"color\":\"#636efa\",\"pattern\":{\"shape\":\"\"}},\"name\":\"\",\"offsetgroup\":\"\",\"orientation\":\"v\",\"showlegend\":false,\"textposition\":\"auto\",\"x\":[1,2,3,4,5,6,7,8,9,10,11,12,13,14,15,16,17,18,19,20,21,22,23,24,25,26,27,28,29,30,31,32,33,34,35,36,37,38,39,40,41,42,43,44,45,46,47,48,49,50,51,52,53,54,55,56,57,58,59,60,61,62,63,64,65,66,67,68,69,70,71,72,73,74,75,76,77,78,79,80,81,82,83,84,85,86,87,88,89,90,91,92,93,94,95,96,97,98,99,100,101,102,103,104,105,106,107,108,109,110,111,112,113,114,115,116,117,118,119,120,121,122,123,124,125,126,127,128,129,130,131,132,133,134,135,136,137,138,139,140,141,142,143,144,145,146,147,148,149,150,151,152,153,154,155,156,157,158,159,160,161,162,163,164,165,166,167,168,169,170,171,172,173,174,175,176,177,178,179,180,181,182,183,184,185,186,187,188,189,190,191,192,193,194,195,196,197,198,199,200,201,202,203,204,205,206,207,208,209,210,211,212,213,214,215,216,217,218,219,220,221,222,223,224,225,226,227,228,229,230,231,232,233,234,235,236,237,238,239,240,241,242,243,244,245],\"xaxis\":\"x\",\"y\":[1,1,1,6,97,246,1,2,1,264,5,1,174,3,1,273,2,1,1,1,2,30,7,1,201,2,1,231,5,1,1,1,2,1,295,1,1,163,7,3,148,3,2,1,3,3,1,1,1,1,230,2,1,193,1,1,186,8,4,205,10,6,1,2,1,3,125,11,6,205,5,1,131,1,3,202,1,2,171,4,1,242,5,1,163,4,4,122,6,2,183,6,1,127,2,1,225,7,3,170,7,2,190,4,5,119,2,4,1,1,1,2,1,168,16,3,180,16,10,160,10,1,162,10,3,200,11,4,7,5,3,4,126,5,1,88,5,3,101,6,2,143,1,2,151,2,1,119,4,1,129,2,2,5,82,1,127,5,96,9,2,114,2,3,111,16,4,2,100,13,8,110,14,5,156,9,4,7,6,4,4,98,10,5,122,5,4,121,22,1,101,8,3,177,10,1,4,1,6,2,86,9,66,9,104,13,8,110,1,2,113,11,4,151,27,8,134,16,8,113,2,4,89,11,2,134,20,2,156,30,4,109,24,24,115,31,13,12,24,0,0,0,0,0,0],\"yaxis\":\"y\",\"type\":\"bar\"}],                        {\"template\":{\"data\":{\"histogram2dcontour\":[{\"type\":\"histogram2dcontour\",\"colorbar\":{\"outlinewidth\":0,\"ticks\":\"\"},\"colorscale\":[[0.0,\"#0d0887\"],[0.1111111111111111,\"#46039f\"],[0.2222222222222222,\"#7201a8\"],[0.3333333333333333,\"#9c179e\"],[0.4444444444444444,\"#bd3786\"],[0.5555555555555556,\"#d8576b\"],[0.6666666666666666,\"#ed7953\"],[0.7777777777777778,\"#fb9f3a\"],[0.8888888888888888,\"#fdca26\"],[1.0,\"#f0f921\"]]}],\"choropleth\":[{\"type\":\"choropleth\",\"colorbar\":{\"outlinewidth\":0,\"ticks\":\"\"}}],\"histogram2d\":[{\"type\":\"histogram2d\",\"colorbar\":{\"outlinewidth\":0,\"ticks\":\"\"},\"colorscale\":[[0.0,\"#0d0887\"],[0.1111111111111111,\"#46039f\"],[0.2222222222222222,\"#7201a8\"],[0.3333333333333333,\"#9c179e\"],[0.4444444444444444,\"#bd3786\"],[0.5555555555555556,\"#d8576b\"],[0.6666666666666666,\"#ed7953\"],[0.7777777777777778,\"#fb9f3a\"],[0.8888888888888888,\"#fdca26\"],[1.0,\"#f0f921\"]]}],\"heatmap\":[{\"type\":\"heatmap\",\"colorbar\":{\"outlinewidth\":0,\"ticks\":\"\"},\"colorscale\":[[0.0,\"#0d0887\"],[0.1111111111111111,\"#46039f\"],[0.2222222222222222,\"#7201a8\"],[0.3333333333333333,\"#9c179e\"],[0.4444444444444444,\"#bd3786\"],[0.5555555555555556,\"#d8576b\"],[0.6666666666666666,\"#ed7953\"],[0.7777777777777778,\"#fb9f3a\"],[0.8888888888888888,\"#fdca26\"],[1.0,\"#f0f921\"]]}],\"heatmapgl\":[{\"type\":\"heatmapgl\",\"colorbar\":{\"outlinewidth\":0,\"ticks\":\"\"},\"colorscale\":[[0.0,\"#0d0887\"],[0.1111111111111111,\"#46039f\"],[0.2222222222222222,\"#7201a8\"],[0.3333333333333333,\"#9c179e\"],[0.4444444444444444,\"#bd3786\"],[0.5555555555555556,\"#d8576b\"],[0.6666666666666666,\"#ed7953\"],[0.7777777777777778,\"#fb9f3a\"],[0.8888888888888888,\"#fdca26\"],[1.0,\"#f0f921\"]]}],\"contourcarpet\":[{\"type\":\"contourcarpet\",\"colorbar\":{\"outlinewidth\":0,\"ticks\":\"\"}}],\"contour\":[{\"type\":\"contour\",\"colorbar\":{\"outlinewidth\":0,\"ticks\":\"\"},\"colorscale\":[[0.0,\"#0d0887\"],[0.1111111111111111,\"#46039f\"],[0.2222222222222222,\"#7201a8\"],[0.3333333333333333,\"#9c179e\"],[0.4444444444444444,\"#bd3786\"],[0.5555555555555556,\"#d8576b\"],[0.6666666666666666,\"#ed7953\"],[0.7777777777777778,\"#fb9f3a\"],[0.8888888888888888,\"#fdca26\"],[1.0,\"#f0f921\"]]}],\"surface\":[{\"type\":\"surface\",\"colorbar\":{\"outlinewidth\":0,\"ticks\":\"\"},\"colorscale\":[[0.0,\"#0d0887\"],[0.1111111111111111,\"#46039f\"],[0.2222222222222222,\"#7201a8\"],[0.3333333333333333,\"#9c179e\"],[0.4444444444444444,\"#bd3786\"],[0.5555555555555556,\"#d8576b\"],[0.6666666666666666,\"#ed7953\"],[0.7777777777777778,\"#fb9f3a\"],[0.8888888888888888,\"#fdca26\"],[1.0,\"#f0f921\"]]}],\"mesh3d\":[{\"type\":\"mesh3d\",\"colorbar\":{\"outlinewidth\":0,\"ticks\":\"\"}}],\"scatter\":[{\"fillpattern\":{\"fillmode\":\"overlay\",\"size\":10,\"solidity\":0.2},\"type\":\"scatter\"}],\"parcoords\":[{\"type\":\"parcoords\",\"line\":{\"colorbar\":{\"outlinewidth\":0,\"ticks\":\"\"}}}],\"scatterpolargl\":[{\"type\":\"scatterpolargl\",\"marker\":{\"colorbar\":{\"outlinewidth\":0,\"ticks\":\"\"}}}],\"bar\":[{\"error_x\":{\"color\":\"#2a3f5f\"},\"error_y\":{\"color\":\"#2a3f5f\"},\"marker\":{\"line\":{\"color\":\"#E5ECF6\",\"width\":0.5},\"pattern\":{\"fillmode\":\"overlay\",\"size\":10,\"solidity\":0.2}},\"type\":\"bar\"}],\"scattergeo\":[{\"type\":\"scattergeo\",\"marker\":{\"colorbar\":{\"outlinewidth\":0,\"ticks\":\"\"}}}],\"scatterpolar\":[{\"type\":\"scatterpolar\",\"marker\":{\"colorbar\":{\"outlinewidth\":0,\"ticks\":\"\"}}}],\"histogram\":[{\"marker\":{\"pattern\":{\"fillmode\":\"overlay\",\"size\":10,\"solidity\":0.2}},\"type\":\"histogram\"}],\"scattergl\":[{\"type\":\"scattergl\",\"marker\":{\"colorbar\":{\"outlinewidth\":0,\"ticks\":\"\"}}}],\"scatter3d\":[{\"type\":\"scatter3d\",\"line\":{\"colorbar\":{\"outlinewidth\":0,\"ticks\":\"\"}},\"marker\":{\"colorbar\":{\"outlinewidth\":0,\"ticks\":\"\"}}}],\"scattermapbox\":[{\"type\":\"scattermapbox\",\"marker\":{\"colorbar\":{\"outlinewidth\":0,\"ticks\":\"\"}}}],\"scatterternary\":[{\"type\":\"scatterternary\",\"marker\":{\"colorbar\":{\"outlinewidth\":0,\"ticks\":\"\"}}}],\"scattercarpet\":[{\"type\":\"scattercarpet\",\"marker\":{\"colorbar\":{\"outlinewidth\":0,\"ticks\":\"\"}}}],\"carpet\":[{\"aaxis\":{\"endlinecolor\":\"#2a3f5f\",\"gridcolor\":\"white\",\"linecolor\":\"white\",\"minorgridcolor\":\"white\",\"startlinecolor\":\"#2a3f5f\"},\"baxis\":{\"endlinecolor\":\"#2a3f5f\",\"gridcolor\":\"white\",\"linecolor\":\"white\",\"minorgridcolor\":\"white\",\"startlinecolor\":\"#2a3f5f\"},\"type\":\"carpet\"}],\"table\":[{\"cells\":{\"fill\":{\"color\":\"#EBF0F8\"},\"line\":{\"color\":\"white\"}},\"header\":{\"fill\":{\"color\":\"#C8D4E3\"},\"line\":{\"color\":\"white\"}},\"type\":\"table\"}],\"barpolar\":[{\"marker\":{\"line\":{\"color\":\"#E5ECF6\",\"width\":0.5},\"pattern\":{\"fillmode\":\"overlay\",\"size\":10,\"solidity\":0.2}},\"type\":\"barpolar\"}],\"pie\":[{\"automargin\":true,\"type\":\"pie\"}]},\"layout\":{\"autotypenumbers\":\"strict\",\"colorway\":[\"#636efa\",\"#EF553B\",\"#00cc96\",\"#ab63fa\",\"#FFA15A\",\"#19d3f3\",\"#FF6692\",\"#B6E880\",\"#FF97FF\",\"#FECB52\"],\"font\":{\"color\":\"#2a3f5f\"},\"hovermode\":\"closest\",\"hoverlabel\":{\"align\":\"left\"},\"paper_bgcolor\":\"white\",\"plot_bgcolor\":\"#E5ECF6\",\"polar\":{\"bgcolor\":\"#E5ECF6\",\"angularaxis\":{\"gridcolor\":\"white\",\"linecolor\":\"white\",\"ticks\":\"\"},\"radialaxis\":{\"gridcolor\":\"white\",\"linecolor\":\"white\",\"ticks\":\"\"}},\"ternary\":{\"bgcolor\":\"#E5ECF6\",\"aaxis\":{\"gridcolor\":\"white\",\"linecolor\":\"white\",\"ticks\":\"\"},\"baxis\":{\"gridcolor\":\"white\",\"linecolor\":\"white\",\"ticks\":\"\"},\"caxis\":{\"gridcolor\":\"white\",\"linecolor\":\"white\",\"ticks\":\"\"}},\"coloraxis\":{\"colorbar\":{\"outlinewidth\":0,\"ticks\":\"\"}},\"colorscale\":{\"sequential\":[[0.0,\"#0d0887\"],[0.1111111111111111,\"#46039f\"],[0.2222222222222222,\"#7201a8\"],[0.3333333333333333,\"#9c179e\"],[0.4444444444444444,\"#bd3786\"],[0.5555555555555556,\"#d8576b\"],[0.6666666666666666,\"#ed7953\"],[0.7777777777777778,\"#fb9f3a\"],[0.8888888888888888,\"#fdca26\"],[1.0,\"#f0f921\"]],\"sequentialminus\":[[0.0,\"#0d0887\"],[0.1111111111111111,\"#46039f\"],[0.2222222222222222,\"#7201a8\"],[0.3333333333333333,\"#9c179e\"],[0.4444444444444444,\"#bd3786\"],[0.5555555555555556,\"#d8576b\"],[0.6666666666666666,\"#ed7953\"],[0.7777777777777778,\"#fb9f3a\"],[0.8888888888888888,\"#fdca26\"],[1.0,\"#f0f921\"]],\"diverging\":[[0,\"#8e0152\"],[0.1,\"#c51b7d\"],[0.2,\"#de77ae\"],[0.3,\"#f1b6da\"],[0.4,\"#fde0ef\"],[0.5,\"#f7f7f7\"],[0.6,\"#e6f5d0\"],[0.7,\"#b8e186\"],[0.8,\"#7fbc41\"],[0.9,\"#4d9221\"],[1,\"#276419\"]]},\"xaxis\":{\"gridcolor\":\"white\",\"linecolor\":\"white\",\"ticks\":\"\",\"title\":{\"standoff\":15},\"zerolinecolor\":\"white\",\"automargin\":true,\"zerolinewidth\":2},\"yaxis\":{\"gridcolor\":\"white\",\"linecolor\":\"white\",\"ticks\":\"\",\"title\":{\"standoff\":15},\"zerolinecolor\":\"white\",\"automargin\":true,\"zerolinewidth\":2},\"scene\":{\"xaxis\":{\"backgroundcolor\":\"#E5ECF6\",\"gridcolor\":\"white\",\"linecolor\":\"white\",\"showbackground\":true,\"ticks\":\"\",\"zerolinecolor\":\"white\",\"gridwidth\":2},\"yaxis\":{\"backgroundcolor\":\"#E5ECF6\",\"gridcolor\":\"white\",\"linecolor\":\"white\",\"showbackground\":true,\"ticks\":\"\",\"zerolinecolor\":\"white\",\"gridwidth\":2},\"zaxis\":{\"backgroundcolor\":\"#E5ECF6\",\"gridcolor\":\"white\",\"linecolor\":\"white\",\"showbackground\":true,\"ticks\":\"\",\"zerolinecolor\":\"white\",\"gridwidth\":2}},\"shapedefaults\":{\"line\":{\"color\":\"#2a3f5f\"}},\"annotationdefaults\":{\"arrowcolor\":\"#2a3f5f\",\"arrowhead\":0,\"arrowwidth\":1},\"geo\":{\"bgcolor\":\"white\",\"landcolor\":\"#E5ECF6\",\"subunitcolor\":\"white\",\"showland\":true,\"showlakes\":true,\"lakecolor\":\"white\"},\"title\":{\"x\":0.05},\"mapbox\":{\"style\":\"light\"}}},\"xaxis\":{\"anchor\":\"y\",\"domain\":[0.0,1.0],\"title\":{\"text\":\"\"}},\"yaxis\":{\"anchor\":\"x\",\"domain\":[0.0,1.0],\"title\":{\"text\":\"\"},\"range\":[-30,300]},\"legend\":{\"tracegroupgap\":0},\"title\":{\"text\":\"Differences in speeches per Session (19th electoral term)\"},\"barmode\":\"relative\"},                        {\"responsive\": true}                    ).then(function(){\n",
       "                            \n",
       "var gd = document.getElementById('834d8a17-1ede-469d-910d-85d312eb0282');\n",
       "var x = new MutationObserver(function (mutations, observer) {{\n",
       "        var display = window.getComputedStyle(gd).display;\n",
       "        if (!display || display === 'none') {{\n",
       "            console.log([gd, 'removed!']);\n",
       "            Plotly.purge(gd);\n",
       "            observer.disconnect();\n",
       "        }}\n",
       "}});\n",
       "\n",
       "// Listen for the removal of the full notebook cells\n",
       "var notebookContainer = gd.closest('#notebook-container');\n",
       "if (notebookContainer) {{\n",
       "    x.observe(notebookContainer, {childList: true});\n",
       "}}\n",
       "\n",
       "// Listen for the clearing of the current output cell\n",
       "var outputEl = gd.closest('.output');\n",
       "if (outputEl) {{\n",
       "    x.observe(outputEl, {childList: true});\n",
       "}}\n",
       "\n",
       "                        })                };                });            </script>        </div>"
      ]
     },
     "metadata": {},
     "output_type": "display_data"
    }
   ],
   "source": [
    "fig = px.bar(diff, x=diff.index, y=\"19\", title='Differences in speeches per Session (19th electoral term)', range_y=[-30,300],\n",
    "            labels={\n",
    "                     \"session\": \"\",\n",
    "                     \"19\": \"\"})\n",
    "fig.show()"
   ]
  },
  {
   "cell_type": "code",
   "execution_count": 12,
   "id": "c76ba95c-b348-406f-8b3f-50c78774b2ff",
   "metadata": {},
   "outputs": [
    {
     "data": {
      "text/plain": [
       "count    245.000000\n",
       "mean      44.587755\n",
       "std       70.420382\n",
       "min        0.000000\n",
       "25%        2.000000\n",
       "50%        5.000000\n",
       "75%       89.000000\n",
       "max      295.000000\n",
       "Name: 19, dtype: float64"
      ]
     },
     "execution_count": 12,
     "metadata": {},
     "output_type": "execute_result"
    }
   ],
   "source": [
    "# Over the course of 245 speeches in the 19th legislative period, there is a mean difference of 44.5 speeches\n",
    "diff[\"19\"].describe()"
   ]
  },
  {
   "cell_type": "code",
   "execution_count": 13,
   "id": "084d36c2-8e6b-41ee-8a5e-ba07e781dda2",
   "metadata": {},
   "outputs": [],
   "source": [
    "# Open Discourse is missing Fragestunden data\n",
    "\n",
    "dfoo = dfo[dfo[\"electoral_term\"] == 19]\n",
    "dfgg = dfg[dfg[\"electoral_term\"] == 19]\n",
    "dfgg = dfgg[~dfgg.description_agenda.str.contains(\"Fragestunde\")]\n",
    "x = dfgg.value_counts(\"session\", sort=False)\n",
    "y = dfoo.value_counts(\"session\", sort=False)\n",
    "x19 = x-y\n",
    "\n",
    "fig = px.bar(x19, title='Differences', range_y=[-30,100])\n"
   ]
  },
  {
   "cell_type": "code",
   "execution_count": 20,
   "id": "6ad18e88-1034-4183-8bb9-e83423e4d4ed",
   "metadata": {},
   "outputs": [
    {
     "data": {
      "application/vnd.plotly.v1+json": {
       "config": {
        "plotlyServerURL": "https://plot.ly"
       },
       "data": [
        {
         "alignmentgroup": "True",
         "hovertemplate": "variable=count<br>=%{y}<extra></extra>",
         "legendgroup": "count",
         "marker": {
          "color": "#636efa",
          "pattern": {
           "shape": ""
          }
         },
         "name": "count",
         "offsetgroup": "count",
         "orientation": "v",
         "showlegend": true,
         "textposition": "auto",
         "type": "bar",
         "x": [
          1,
          2,
          3,
          4,
          5,
          6,
          7,
          8,
          9,
          10,
          11,
          12,
          13,
          14,
          15,
          16,
          17,
          18,
          19,
          20,
          21,
          22,
          23,
          24,
          25,
          26,
          27,
          28,
          29,
          30,
          31,
          32,
          33,
          34,
          35,
          36,
          37,
          38,
          39,
          40,
          41,
          42,
          43,
          44,
          45,
          46,
          47,
          48,
          49,
          50,
          51,
          52,
          53,
          54,
          55,
          56,
          57,
          58,
          59,
          60,
          61,
          62,
          63,
          64,
          65,
          66,
          67,
          68,
          69,
          70,
          71,
          72,
          73,
          74,
          75,
          76,
          77,
          78,
          79,
          80,
          81,
          82,
          83,
          84,
          85,
          86,
          87,
          88,
          89,
          90,
          91,
          92,
          93,
          94,
          95,
          96,
          97,
          98,
          99,
          100,
          101,
          102,
          103,
          104,
          105,
          106,
          107,
          108,
          109,
          110,
          111,
          112,
          113,
          114,
          115,
          116,
          117,
          118,
          119,
          120,
          121,
          122,
          123,
          124,
          125,
          126,
          127,
          128,
          129,
          130,
          131,
          132,
          133,
          134,
          135,
          136,
          137,
          138,
          139,
          140,
          141,
          142,
          143,
          144,
          145,
          146,
          147,
          148,
          149,
          150,
          151,
          152,
          153,
          154,
          155,
          156,
          157,
          158,
          159,
          160,
          161,
          162,
          163,
          164,
          165,
          166,
          167,
          168,
          169,
          170,
          171,
          172,
          173,
          174,
          175,
          176,
          177,
          178,
          179,
          180,
          181,
          182,
          183,
          184,
          185,
          186,
          187,
          188,
          189,
          190,
          191,
          192,
          193,
          194,
          195,
          196,
          197,
          198,
          199,
          200,
          201,
          202,
          203,
          204,
          205,
          206,
          207,
          208,
          209,
          210,
          211,
          212,
          213,
          214,
          215,
          216,
          217,
          218,
          219,
          220,
          221,
          222,
          223,
          224,
          225,
          226,
          227,
          228,
          229,
          230,
          231,
          232,
          233,
          234,
          235,
          236,
          237,
          238,
          239
         ],
         "xaxis": "x",
         "y": [
          0,
          0,
          0,
          0,
          0,
          0,
          0,
          0,
          -1,
          0,
          0,
          0,
          0,
          0,
          0,
          0,
          0,
          0,
          0,
          0,
          0,
          0,
          0,
          0,
          0,
          0,
          0,
          0,
          0,
          0,
          0,
          0,
          0,
          0,
          0,
          0,
          0,
          0,
          0,
          0,
          0,
          0,
          0,
          0,
          0,
          0,
          0,
          0,
          0,
          0,
          0,
          0,
          0,
          0,
          0,
          0,
          0,
          0,
          0,
          0,
          0,
          1,
          0,
          0,
          0,
          0,
          0,
          0,
          0,
          0,
          0,
          0,
          -1,
          0,
          0,
          0,
          0,
          0,
          0,
          0,
          0,
          0,
          -10,
          0,
          0,
          0,
          0,
          0,
          0,
          0,
          0,
          0,
          0,
          0,
          0,
          0,
          0,
          0,
          1,
          0,
          0,
          0,
          0,
          0,
          0,
          0,
          0,
          0,
          0,
          0,
          0,
          0,
          0,
          18,
          0,
          0,
          0,
          0,
          0,
          99,
          3,
          0,
          0,
          0,
          0,
          0,
          0,
          0,
          0,
          0,
          0,
          0,
          2,
          0,
          0,
          0,
          0,
          0,
          0,
          0,
          0,
          0,
          0,
          0,
          0,
          0,
          0,
          0,
          0,
          0,
          0,
          0,
          0,
          1,
          0,
          0,
          0,
          0,
          0,
          0,
          0,
          0,
          0,
          0,
          0,
          0,
          0,
          0,
          0,
          0,
          1,
          0,
          0,
          1,
          0,
          -1,
          1,
          0,
          0,
          0,
          0,
          0,
          0,
          1,
          0,
          2,
          0,
          0,
          0,
          0,
          0,
          2,
          0,
          0,
          0,
          0,
          0,
          0,
          2,
          0,
          1,
          0,
          -1,
          3,
          0,
          0,
          0,
          0,
          0,
          0,
          0,
          0,
          0,
          1,
          0,
          0,
          0,
          0,
          0,
          0,
          0,
          0,
          15,
          0,
          0,
          1,
          0,
          0,
          0,
          0,
          0,
          0,
          2,
          3,
          0,
          0,
          0,
          0,
          8
         ],
         "yaxis": "y"
        }
       ],
       "layout": {
        "autosize": true,
        "barmode": "relative",
        "legend": {
         "title": {
          "text": "variable"
         },
         "tracegroupgap": 0
        },
        "showlegend": false,
        "template": {
         "data": {
          "bar": [
           {
            "error_x": {
             "color": "#2a3f5f"
            },
            "error_y": {
             "color": "#2a3f5f"
            },
            "marker": {
             "line": {
              "color": "#E5ECF6",
              "width": 0.5
             },
             "pattern": {
              "fillmode": "overlay",
              "size": 10,
              "solidity": 0.2
             }
            },
            "type": "bar"
           }
          ],
          "barpolar": [
           {
            "marker": {
             "line": {
              "color": "#E5ECF6",
              "width": 0.5
             },
             "pattern": {
              "fillmode": "overlay",
              "size": 10,
              "solidity": 0.2
             }
            },
            "type": "barpolar"
           }
          ],
          "carpet": [
           {
            "aaxis": {
             "endlinecolor": "#2a3f5f",
             "gridcolor": "white",
             "linecolor": "white",
             "minorgridcolor": "white",
             "startlinecolor": "#2a3f5f"
            },
            "baxis": {
             "endlinecolor": "#2a3f5f",
             "gridcolor": "white",
             "linecolor": "white",
             "minorgridcolor": "white",
             "startlinecolor": "#2a3f5f"
            },
            "type": "carpet"
           }
          ],
          "choropleth": [
           {
            "colorbar": {
             "outlinewidth": 0,
             "ticks": ""
            },
            "type": "choropleth"
           }
          ],
          "contour": [
           {
            "colorbar": {
             "outlinewidth": 0,
             "ticks": ""
            },
            "colorscale": [
             [
              0,
              "#0d0887"
             ],
             [
              0.1111111111111111,
              "#46039f"
             ],
             [
              0.2222222222222222,
              "#7201a8"
             ],
             [
              0.3333333333333333,
              "#9c179e"
             ],
             [
              0.4444444444444444,
              "#bd3786"
             ],
             [
              0.5555555555555556,
              "#d8576b"
             ],
             [
              0.6666666666666666,
              "#ed7953"
             ],
             [
              0.7777777777777778,
              "#fb9f3a"
             ],
             [
              0.8888888888888888,
              "#fdca26"
             ],
             [
              1,
              "#f0f921"
             ]
            ],
            "type": "contour"
           }
          ],
          "contourcarpet": [
           {
            "colorbar": {
             "outlinewidth": 0,
             "ticks": ""
            },
            "type": "contourcarpet"
           }
          ],
          "heatmap": [
           {
            "colorbar": {
             "outlinewidth": 0,
             "ticks": ""
            },
            "colorscale": [
             [
              0,
              "#0d0887"
             ],
             [
              0.1111111111111111,
              "#46039f"
             ],
             [
              0.2222222222222222,
              "#7201a8"
             ],
             [
              0.3333333333333333,
              "#9c179e"
             ],
             [
              0.4444444444444444,
              "#bd3786"
             ],
             [
              0.5555555555555556,
              "#d8576b"
             ],
             [
              0.6666666666666666,
              "#ed7953"
             ],
             [
              0.7777777777777778,
              "#fb9f3a"
             ],
             [
              0.8888888888888888,
              "#fdca26"
             ],
             [
              1,
              "#f0f921"
             ]
            ],
            "type": "heatmap"
           }
          ],
          "heatmapgl": [
           {
            "colorbar": {
             "outlinewidth": 0,
             "ticks": ""
            },
            "colorscale": [
             [
              0,
              "#0d0887"
             ],
             [
              0.1111111111111111,
              "#46039f"
             ],
             [
              0.2222222222222222,
              "#7201a8"
             ],
             [
              0.3333333333333333,
              "#9c179e"
             ],
             [
              0.4444444444444444,
              "#bd3786"
             ],
             [
              0.5555555555555556,
              "#d8576b"
             ],
             [
              0.6666666666666666,
              "#ed7953"
             ],
             [
              0.7777777777777778,
              "#fb9f3a"
             ],
             [
              0.8888888888888888,
              "#fdca26"
             ],
             [
              1,
              "#f0f921"
             ]
            ],
            "type": "heatmapgl"
           }
          ],
          "histogram": [
           {
            "marker": {
             "pattern": {
              "fillmode": "overlay",
              "size": 10,
              "solidity": 0.2
             }
            },
            "type": "histogram"
           }
          ],
          "histogram2d": [
           {
            "colorbar": {
             "outlinewidth": 0,
             "ticks": ""
            },
            "colorscale": [
             [
              0,
              "#0d0887"
             ],
             [
              0.1111111111111111,
              "#46039f"
             ],
             [
              0.2222222222222222,
              "#7201a8"
             ],
             [
              0.3333333333333333,
              "#9c179e"
             ],
             [
              0.4444444444444444,
              "#bd3786"
             ],
             [
              0.5555555555555556,
              "#d8576b"
             ],
             [
              0.6666666666666666,
              "#ed7953"
             ],
             [
              0.7777777777777778,
              "#fb9f3a"
             ],
             [
              0.8888888888888888,
              "#fdca26"
             ],
             [
              1,
              "#f0f921"
             ]
            ],
            "type": "histogram2d"
           }
          ],
          "histogram2dcontour": [
           {
            "colorbar": {
             "outlinewidth": 0,
             "ticks": ""
            },
            "colorscale": [
             [
              0,
              "#0d0887"
             ],
             [
              0.1111111111111111,
              "#46039f"
             ],
             [
              0.2222222222222222,
              "#7201a8"
             ],
             [
              0.3333333333333333,
              "#9c179e"
             ],
             [
              0.4444444444444444,
              "#bd3786"
             ],
             [
              0.5555555555555556,
              "#d8576b"
             ],
             [
              0.6666666666666666,
              "#ed7953"
             ],
             [
              0.7777777777777778,
              "#fb9f3a"
             ],
             [
              0.8888888888888888,
              "#fdca26"
             ],
             [
              1,
              "#f0f921"
             ]
            ],
            "type": "histogram2dcontour"
           }
          ],
          "mesh3d": [
           {
            "colorbar": {
             "outlinewidth": 0,
             "ticks": ""
            },
            "type": "mesh3d"
           }
          ],
          "parcoords": [
           {
            "line": {
             "colorbar": {
              "outlinewidth": 0,
              "ticks": ""
             }
            },
            "type": "parcoords"
           }
          ],
          "pie": [
           {
            "automargin": true,
            "type": "pie"
           }
          ],
          "scatter": [
           {
            "fillpattern": {
             "fillmode": "overlay",
             "size": 10,
             "solidity": 0.2
            },
            "type": "scatter"
           }
          ],
          "scatter3d": [
           {
            "line": {
             "colorbar": {
              "outlinewidth": 0,
              "ticks": ""
             }
            },
            "marker": {
             "colorbar": {
              "outlinewidth": 0,
              "ticks": ""
             }
            },
            "type": "scatter3d"
           }
          ],
          "scattercarpet": [
           {
            "marker": {
             "colorbar": {
              "outlinewidth": 0,
              "ticks": ""
             }
            },
            "type": "scattercarpet"
           }
          ],
          "scattergeo": [
           {
            "marker": {
             "colorbar": {
              "outlinewidth": 0,
              "ticks": ""
             }
            },
            "type": "scattergeo"
           }
          ],
          "scattergl": [
           {
            "marker": {
             "colorbar": {
              "outlinewidth": 0,
              "ticks": ""
             }
            },
            "type": "scattergl"
           }
          ],
          "scattermapbox": [
           {
            "marker": {
             "colorbar": {
              "outlinewidth": 0,
              "ticks": ""
             }
            },
            "type": "scattermapbox"
           }
          ],
          "scatterpolar": [
           {
            "marker": {
             "colorbar": {
              "outlinewidth": 0,
              "ticks": ""
             }
            },
            "type": "scatterpolar"
           }
          ],
          "scatterpolargl": [
           {
            "marker": {
             "colorbar": {
              "outlinewidth": 0,
              "ticks": ""
             }
            },
            "type": "scatterpolargl"
           }
          ],
          "scatterternary": [
           {
            "marker": {
             "colorbar": {
              "outlinewidth": 0,
              "ticks": ""
             }
            },
            "type": "scatterternary"
           }
          ],
          "surface": [
           {
            "colorbar": {
             "outlinewidth": 0,
             "ticks": ""
            },
            "colorscale": [
             [
              0,
              "#0d0887"
             ],
             [
              0.1111111111111111,
              "#46039f"
             ],
             [
              0.2222222222222222,
              "#7201a8"
             ],
             [
              0.3333333333333333,
              "#9c179e"
             ],
             [
              0.4444444444444444,
              "#bd3786"
             ],
             [
              0.5555555555555556,
              "#d8576b"
             ],
             [
              0.6666666666666666,
              "#ed7953"
             ],
             [
              0.7777777777777778,
              "#fb9f3a"
             ],
             [
              0.8888888888888888,
              "#fdca26"
             ],
             [
              1,
              "#f0f921"
             ]
            ],
            "type": "surface"
           }
          ],
          "table": [
           {
            "cells": {
             "fill": {
              "color": "#EBF0F8"
             },
             "line": {
              "color": "white"
             }
            },
            "header": {
             "fill": {
              "color": "#C8D4E3"
             },
             "line": {
              "color": "white"
             }
            },
            "type": "table"
           }
          ]
         },
         "layout": {
          "annotationdefaults": {
           "arrowcolor": "#2a3f5f",
           "arrowhead": 0,
           "arrowwidth": 1
          },
          "autotypenumbers": "strict",
          "coloraxis": {
           "colorbar": {
            "outlinewidth": 0,
            "ticks": ""
           }
          },
          "colorscale": {
           "diverging": [
            [
             0,
             "#8e0152"
            ],
            [
             0.1,
             "#c51b7d"
            ],
            [
             0.2,
             "#de77ae"
            ],
            [
             0.3,
             "#f1b6da"
            ],
            [
             0.4,
             "#fde0ef"
            ],
            [
             0.5,
             "#f7f7f7"
            ],
            [
             0.6,
             "#e6f5d0"
            ],
            [
             0.7,
             "#b8e186"
            ],
            [
             0.8,
             "#7fbc41"
            ],
            [
             0.9,
             "#4d9221"
            ],
            [
             1,
             "#276419"
            ]
           ],
           "sequential": [
            [
             0,
             "#0d0887"
            ],
            [
             0.1111111111111111,
             "#46039f"
            ],
            [
             0.2222222222222222,
             "#7201a8"
            ],
            [
             0.3333333333333333,
             "#9c179e"
            ],
            [
             0.4444444444444444,
             "#bd3786"
            ],
            [
             0.5555555555555556,
             "#d8576b"
            ],
            [
             0.6666666666666666,
             "#ed7953"
            ],
            [
             0.7777777777777778,
             "#fb9f3a"
            ],
            [
             0.8888888888888888,
             "#fdca26"
            ],
            [
             1,
             "#f0f921"
            ]
           ],
           "sequentialminus": [
            [
             0,
             "#0d0887"
            ],
            [
             0.1111111111111111,
             "#46039f"
            ],
            [
             0.2222222222222222,
             "#7201a8"
            ],
            [
             0.3333333333333333,
             "#9c179e"
            ],
            [
             0.4444444444444444,
             "#bd3786"
            ],
            [
             0.5555555555555556,
             "#d8576b"
            ],
            [
             0.6666666666666666,
             "#ed7953"
            ],
            [
             0.7777777777777778,
             "#fb9f3a"
            ],
            [
             0.8888888888888888,
             "#fdca26"
            ],
            [
             1,
             "#f0f921"
            ]
           ]
          },
          "colorway": [
           "#636efa",
           "#EF553B",
           "#00cc96",
           "#ab63fa",
           "#FFA15A",
           "#19d3f3",
           "#FF6692",
           "#B6E880",
           "#FF97FF",
           "#FECB52"
          ],
          "font": {
           "color": "#2a3f5f"
          },
          "geo": {
           "bgcolor": "white",
           "lakecolor": "white",
           "landcolor": "#E5ECF6",
           "showlakes": true,
           "showland": true,
           "subunitcolor": "white"
          },
          "hoverlabel": {
           "align": "left"
          },
          "hovermode": "closest",
          "mapbox": {
           "style": "light"
          },
          "paper_bgcolor": "white",
          "plot_bgcolor": "#E5ECF6",
          "polar": {
           "angularaxis": {
            "gridcolor": "white",
            "linecolor": "white",
            "ticks": ""
           },
           "bgcolor": "#E5ECF6",
           "radialaxis": {
            "gridcolor": "white",
            "linecolor": "white",
            "ticks": ""
           }
          },
          "scene": {
           "xaxis": {
            "backgroundcolor": "#E5ECF6",
            "gridcolor": "white",
            "gridwidth": 2,
            "linecolor": "white",
            "showbackground": true,
            "ticks": "",
            "zerolinecolor": "white"
           },
           "yaxis": {
            "backgroundcolor": "#E5ECF6",
            "gridcolor": "white",
            "gridwidth": 2,
            "linecolor": "white",
            "showbackground": true,
            "ticks": "",
            "zerolinecolor": "white"
           },
           "zaxis": {
            "backgroundcolor": "#E5ECF6",
            "gridcolor": "white",
            "gridwidth": 2,
            "linecolor": "white",
            "showbackground": true,
            "ticks": "",
            "zerolinecolor": "white"
           }
          },
          "shapedefaults": {
           "line": {
            "color": "#2a3f5f"
           }
          },
          "ternary": {
           "aaxis": {
            "gridcolor": "white",
            "linecolor": "white",
            "ticks": ""
           },
           "baxis": {
            "gridcolor": "white",
            "linecolor": "white",
            "ticks": ""
           },
           "bgcolor": "#E5ECF6",
           "caxis": {
            "gridcolor": "white",
            "linecolor": "white",
            "ticks": ""
           }
          },
          "title": {
           "x": 0.05
          },
          "xaxis": {
           "automargin": true,
           "gridcolor": "white",
           "linecolor": "white",
           "ticks": "",
           "title": {
            "standoff": 15
           },
           "zerolinecolor": "white",
           "zerolinewidth": 2
          },
          "yaxis": {
           "automargin": true,
           "gridcolor": "white",
           "linecolor": "white",
           "ticks": "",
           "title": {
            "standoff": 15
           },
           "zerolinecolor": "white",
           "zerolinewidth": 2
          }
         }
        },
        "title": {
         "text": "Differences in speeches per Session without president and agenda items containing \"Fragestunde\" (19th electoral term)"
        },
        "xaxis": {
         "anchor": "y",
         "autorange": true,
         "domain": [
          0,
          1
         ],
         "range": [
          0.5,
          239.5
         ],
         "title": {
          "text": ""
         },
         "type": "linear"
        },
        "yaxis": {
         "anchor": "x",
         "domain": [
          0,
          1
         ],
         "range": [
          -30,
          300
         ],
         "title": {
          "text": ""
         },
         "type": "linear"
        }
       }
      },
      "image/png": "[encoded data removed]",
      "text/html": [
       "<div>                            <div id=\"3d7fa964-9aab-485c-97d2-10a1026a9bac\" class=\"plotly-graph-div\" style=\"height:525px; width:100%;\"></div>            <script type=\"text/javascript\">                require([\"plotly\"], function(Plotly) {                    window.PLOTLYENV=window.PLOTLYENV || {};                                    if (document.getElementById(\"3d7fa964-9aab-485c-97d2-10a1026a9bac\")) {                    Plotly.newPlot(                        \"3d7fa964-9aab-485c-97d2-10a1026a9bac\",                        [{\"alignmentgroup\":\"True\",\"hovertemplate\":\"variable=count\\u003cbr\\u003e=%{y}\\u003cextra\\u003e\\u003c\\u002fextra\\u003e\",\"legendgroup\":\"count\",\"marker\":{\"color\":\"#636efa\",\"pattern\":{\"shape\":\"\"}},\"name\":\"count\",\"offsetgroup\":\"count\",\"orientation\":\"v\",\"showlegend\":true,\"textposition\":\"auto\",\"x\":[1,2,3,4,5,6,7,8,9,10,11,12,13,14,15,16,17,18,19,20,21,22,23,24,25,26,27,28,29,30,31,32,33,34,35,36,37,38,39,40,41,42,43,44,45,46,47,48,49,50,51,52,53,54,55,56,57,58,59,60,61,62,63,64,65,66,67,68,69,70,71,72,73,74,75,76,77,78,79,80,81,82,83,84,85,86,87,88,89,90,91,92,93,94,95,96,97,98,99,100,101,102,103,104,105,106,107,108,109,110,111,112,113,114,115,116,117,118,119,120,121,122,123,124,125,126,127,128,129,130,131,132,133,134,135,136,137,138,139,140,141,142,143,144,145,146,147,148,149,150,151,152,153,154,155,156,157,158,159,160,161,162,163,164,165,166,167,168,169,170,171,172,173,174,175,176,177,178,179,180,181,182,183,184,185,186,187,188,189,190,191,192,193,194,195,196,197,198,199,200,201,202,203,204,205,206,207,208,209,210,211,212,213,214,215,216,217,218,219,220,221,222,223,224,225,226,227,228,229,230,231,232,233,234,235,236,237,238,239],\"xaxis\":\"x\",\"y\":[0,0,0,0,0,0,0,0,-1,0,0,0,0,0,0,0,0,0,0,0,0,0,0,0,0,0,0,0,0,0,0,0,0,0,0,0,0,0,0,0,0,0,0,0,0,0,0,0,0,0,0,0,0,0,0,0,0,0,0,0,0,1,0,0,0,0,0,0,0,0,0,0,-1,0,0,0,0,0,0,0,0,0,-10,0,0,0,0,0,0,0,0,0,0,0,0,0,0,0,1,0,0,0,0,0,0,0,0,0,0,0,0,0,0,18,0,0,0,0,0,99,3,0,0,0,0,0,0,0,0,0,0,0,2,0,0,0,0,0,0,0,0,0,0,0,0,0,0,0,0,0,0,0,0,1,0,0,0,0,0,0,0,0,0,0,0,0,0,0,0,0,1,0,0,1,0,-1,1,0,0,0,0,0,0,1,0,2,0,0,0,0,0,2,0,0,0,0,0,0,2,0,1,0,-1,3,0,0,0,0,0,0,0,0,0,1,0,0,0,0,0,0,0,0,15,0,0,1,0,0,0,0,0,0,2,3,0,0,0,0,8],\"yaxis\":\"y\",\"type\":\"bar\"}],                        {\"template\":{\"data\":{\"histogram2dcontour\":[{\"type\":\"histogram2dcontour\",\"colorbar\":{\"outlinewidth\":0,\"ticks\":\"\"},\"colorscale\":[[0.0,\"#0d0887\"],[0.1111111111111111,\"#46039f\"],[0.2222222222222222,\"#7201a8\"],[0.3333333333333333,\"#9c179e\"],[0.4444444444444444,\"#bd3786\"],[0.5555555555555556,\"#d8576b\"],[0.6666666666666666,\"#ed7953\"],[0.7777777777777778,\"#fb9f3a\"],[0.8888888888888888,\"#fdca26\"],[1.0,\"#f0f921\"]]}],\"choropleth\":[{\"type\":\"choropleth\",\"colorbar\":{\"outlinewidth\":0,\"ticks\":\"\"}}],\"histogram2d\":[{\"type\":\"histogram2d\",\"colorbar\":{\"outlinewidth\":0,\"ticks\":\"\"},\"colorscale\":[[0.0,\"#0d0887\"],[0.1111111111111111,\"#46039f\"],[0.2222222222222222,\"#7201a8\"],[0.3333333333333333,\"#9c179e\"],[0.4444444444444444,\"#bd3786\"],[0.5555555555555556,\"#d8576b\"],[0.6666666666666666,\"#ed7953\"],[0.7777777777777778,\"#fb9f3a\"],[0.8888888888888888,\"#fdca26\"],[1.0,\"#f0f921\"]]}],\"heatmap\":[{\"type\":\"heatmap\",\"colorbar\":{\"outlinewidth\":0,\"ticks\":\"\"},\"colorscale\":[[0.0,\"#0d0887\"],[0.1111111111111111,\"#46039f\"],[0.2222222222222222,\"#7201a8\"],[0.3333333333333333,\"#9c179e\"],[0.4444444444444444,\"#bd3786\"],[0.5555555555555556,\"#d8576b\"],[0.6666666666666666,\"#ed7953\"],[0.7777777777777778,\"#fb9f3a\"],[0.8888888888888888,\"#fdca26\"],[1.0,\"#f0f921\"]]}],\"heatmapgl\":[{\"type\":\"heatmapgl\",\"colorbar\":{\"outlinewidth\":0,\"ticks\":\"\"},\"colorscale\":[[0.0,\"#0d0887\"],[0.1111111111111111,\"#46039f\"],[0.2222222222222222,\"#7201a8\"],[0.3333333333333333,\"#9c179e\"],[0.4444444444444444,\"#bd3786\"],[0.5555555555555556,\"#d8576b\"],[0.6666666666666666,\"#ed7953\"],[0.7777777777777778,\"#fb9f3a\"],[0.8888888888888888,\"#fdca26\"],[1.0,\"#f0f921\"]]}],\"contourcarpet\":[{\"type\":\"contourcarpet\",\"colorbar\":{\"outlinewidth\":0,\"ticks\":\"\"}}],\"contour\":[{\"type\":\"contour\",\"colorbar\":{\"outlinewidth\":0,\"ticks\":\"\"},\"colorscale\":[[0.0,\"#0d0887\"],[0.1111111111111111,\"#46039f\"],[0.2222222222222222,\"#7201a8\"],[0.3333333333333333,\"#9c179e\"],[0.4444444444444444,\"#bd3786\"],[0.5555555555555556,\"#d8576b\"],[0.6666666666666666,\"#ed7953\"],[0.7777777777777778,\"#fb9f3a\"],[0.8888888888888888,\"#fdca26\"],[1.0,\"#f0f921\"]]}],\"surface\":[{\"type\":\"surface\",\"colorbar\":{\"outlinewidth\":0,\"ticks\":\"\"},\"colorscale\":[[0.0,\"#0d0887\"],[0.1111111111111111,\"#46039f\"],[0.2222222222222222,\"#7201a8\"],[0.3333333333333333,\"#9c179e\"],[0.4444444444444444,\"#bd3786\"],[0.5555555555555556,\"#d8576b\"],[0.6666666666666666,\"#ed7953\"],[0.7777777777777778,\"#fb9f3a\"],[0.8888888888888888,\"#fdca26\"],[1.0,\"#f0f921\"]]}],\"mesh3d\":[{\"type\":\"mesh3d\",\"colorbar\":{\"outlinewidth\":0,\"ticks\":\"\"}}],\"scatter\":[{\"fillpattern\":{\"fillmode\":\"overlay\",\"size\":10,\"solidity\":0.2},\"type\":\"scatter\"}],\"parcoords\":[{\"type\":\"parcoords\",\"line\":{\"colorbar\":{\"outlinewidth\":0,\"ticks\":\"\"}}}],\"scatterpolargl\":[{\"type\":\"scatterpolargl\",\"marker\":{\"colorbar\":{\"outlinewidth\":0,\"ticks\":\"\"}}}],\"bar\":[{\"error_x\":{\"color\":\"#2a3f5f\"},\"error_y\":{\"color\":\"#2a3f5f\"},\"marker\":{\"line\":{\"color\":\"#E5ECF6\",\"width\":0.5},\"pattern\":{\"fillmode\":\"overlay\",\"size\":10,\"solidity\":0.2}},\"type\":\"bar\"}],\"scattergeo\":[{\"type\":\"scattergeo\",\"marker\":{\"colorbar\":{\"outlinewidth\":0,\"ticks\":\"\"}}}],\"scatterpolar\":[{\"type\":\"scatterpolar\",\"marker\":{\"colorbar\":{\"outlinewidth\":0,\"ticks\":\"\"}}}],\"histogram\":[{\"marker\":{\"pattern\":{\"fillmode\":\"overlay\",\"size\":10,\"solidity\":0.2}},\"type\":\"histogram\"}],\"scattergl\":[{\"type\":\"scattergl\",\"marker\":{\"colorbar\":{\"outlinewidth\":0,\"ticks\":\"\"}}}],\"scatter3d\":[{\"type\":\"scatter3d\",\"line\":{\"colorbar\":{\"outlinewidth\":0,\"ticks\":\"\"}},\"marker\":{\"colorbar\":{\"outlinewidth\":0,\"ticks\":\"\"}}}],\"scattermapbox\":[{\"type\":\"scattermapbox\",\"marker\":{\"colorbar\":{\"outlinewidth\":0,\"ticks\":\"\"}}}],\"scatterternary\":[{\"type\":\"scatterternary\",\"marker\":{\"colorbar\":{\"outlinewidth\":0,\"ticks\":\"\"}}}],\"scattercarpet\":[{\"type\":\"scattercarpet\",\"marker\":{\"colorbar\":{\"outlinewidth\":0,\"ticks\":\"\"}}}],\"carpet\":[{\"aaxis\":{\"endlinecolor\":\"#2a3f5f\",\"gridcolor\":\"white\",\"linecolor\":\"white\",\"minorgridcolor\":\"white\",\"startlinecolor\":\"#2a3f5f\"},\"baxis\":{\"endlinecolor\":\"#2a3f5f\",\"gridcolor\":\"white\",\"linecolor\":\"white\",\"minorgridcolor\":\"white\",\"startlinecolor\":\"#2a3f5f\"},\"type\":\"carpet\"}],\"table\":[{\"cells\":{\"fill\":{\"color\":\"#EBF0F8\"},\"line\":{\"color\":\"white\"}},\"header\":{\"fill\":{\"color\":\"#C8D4E3\"},\"line\":{\"color\":\"white\"}},\"type\":\"table\"}],\"barpolar\":[{\"marker\":{\"line\":{\"color\":\"#E5ECF6\",\"width\":0.5},\"pattern\":{\"fillmode\":\"overlay\",\"size\":10,\"solidity\":0.2}},\"type\":\"barpolar\"}],\"pie\":[{\"automargin\":true,\"type\":\"pie\"}]},\"layout\":{\"autotypenumbers\":\"strict\",\"colorway\":[\"#636efa\",\"#EF553B\",\"#00cc96\",\"#ab63fa\",\"#FFA15A\",\"#19d3f3\",\"#FF6692\",\"#B6E880\",\"#FF97FF\",\"#FECB52\"],\"font\":{\"color\":\"#2a3f5f\"},\"hovermode\":\"closest\",\"hoverlabel\":{\"align\":\"left\"},\"paper_bgcolor\":\"white\",\"plot_bgcolor\":\"#E5ECF6\",\"polar\":{\"bgcolor\":\"#E5ECF6\",\"angularaxis\":{\"gridcolor\":\"white\",\"linecolor\":\"white\",\"ticks\":\"\"},\"radialaxis\":{\"gridcolor\":\"white\",\"linecolor\":\"white\",\"ticks\":\"\"}},\"ternary\":{\"bgcolor\":\"#E5ECF6\",\"aaxis\":{\"gridcolor\":\"white\",\"linecolor\":\"white\",\"ticks\":\"\"},\"baxis\":{\"gridcolor\":\"white\",\"linecolor\":\"white\",\"ticks\":\"\"},\"caxis\":{\"gridcolor\":\"white\",\"linecolor\":\"white\",\"ticks\":\"\"}},\"coloraxis\":{\"colorbar\":{\"outlinewidth\":0,\"ticks\":\"\"}},\"colorscale\":{\"sequential\":[[0.0,\"#0d0887\"],[0.1111111111111111,\"#46039f\"],[0.2222222222222222,\"#7201a8\"],[0.3333333333333333,\"#9c179e\"],[0.4444444444444444,\"#bd3786\"],[0.5555555555555556,\"#d8576b\"],[0.6666666666666666,\"#ed7953\"],[0.7777777777777778,\"#fb9f3a\"],[0.8888888888888888,\"#fdca26\"],[1.0,\"#f0f921\"]],\"sequentialminus\":[[0.0,\"#0d0887\"],[0.1111111111111111,\"#46039f\"],[0.2222222222222222,\"#7201a8\"],[0.3333333333333333,\"#9c179e\"],[0.4444444444444444,\"#bd3786\"],[0.5555555555555556,\"#d8576b\"],[0.6666666666666666,\"#ed7953\"],[0.7777777777777778,\"#fb9f3a\"],[0.8888888888888888,\"#fdca26\"],[1.0,\"#f0f921\"]],\"diverging\":[[0,\"#8e0152\"],[0.1,\"#c51b7d\"],[0.2,\"#de77ae\"],[0.3,\"#f1b6da\"],[0.4,\"#fde0ef\"],[0.5,\"#f7f7f7\"],[0.6,\"#e6f5d0\"],[0.7,\"#b8e186\"],[0.8,\"#7fbc41\"],[0.9,\"#4d9221\"],[1,\"#276419\"]]},\"xaxis\":{\"gridcolor\":\"white\",\"linecolor\":\"white\",\"ticks\":\"\",\"title\":{\"standoff\":15},\"zerolinecolor\":\"white\",\"automargin\":true,\"zerolinewidth\":2},\"yaxis\":{\"gridcolor\":\"white\",\"linecolor\":\"white\",\"ticks\":\"\",\"title\":{\"standoff\":15},\"zerolinecolor\":\"white\",\"automargin\":true,\"zerolinewidth\":2},\"scene\":{\"xaxis\":{\"backgroundcolor\":\"#E5ECF6\",\"gridcolor\":\"white\",\"linecolor\":\"white\",\"showbackground\":true,\"ticks\":\"\",\"zerolinecolor\":\"white\",\"gridwidth\":2},\"yaxis\":{\"backgroundcolor\":\"#E5ECF6\",\"gridcolor\":\"white\",\"linecolor\":\"white\",\"showbackground\":true,\"ticks\":\"\",\"zerolinecolor\":\"white\",\"gridwidth\":2},\"zaxis\":{\"backgroundcolor\":\"#E5ECF6\",\"gridcolor\":\"white\",\"linecolor\":\"white\",\"showbackground\":true,\"ticks\":\"\",\"zerolinecolor\":\"white\",\"gridwidth\":2}},\"shapedefaults\":{\"line\":{\"color\":\"#2a3f5f\"}},\"annotationdefaults\":{\"arrowcolor\":\"#2a3f5f\",\"arrowhead\":0,\"arrowwidth\":1},\"geo\":{\"bgcolor\":\"white\",\"landcolor\":\"#E5ECF6\",\"subunitcolor\":\"white\",\"showland\":true,\"showlakes\":true,\"lakecolor\":\"white\"},\"title\":{\"x\":0.05},\"mapbox\":{\"style\":\"light\"}}},\"xaxis\":{\"anchor\":\"y\",\"domain\":[0.0,1.0],\"title\":{\"text\":\"\"}},\"yaxis\":{\"anchor\":\"x\",\"domain\":[0.0,1.0],\"title\":{\"text\":\"\"},\"range\":[-30,300]},\"legend\":{\"title\":{\"text\":\"variable\"},\"tracegroupgap\":0},\"title\":{\"text\":\"Differences in speeches per Session without president and agenda items containing \\\"Fragestunde\\\" (19th electoral term)\"},\"barmode\":\"relative\",\"showlegend\":false},                        {\"responsive\": true}                    ).then(function(){\n",
       "                            \n",
       "var gd = document.getElementById('3d7fa964-9aab-485c-97d2-10a1026a9bac');\n",
       "var x = new MutationObserver(function (mutations, observer) {{\n",
       "        var display = window.getComputedStyle(gd).display;\n",
       "        if (!display || display === 'none') {{\n",
       "            console.log([gd, 'removed!']);\n",
       "            Plotly.purge(gd);\n",
       "            observer.disconnect();\n",
       "        }}\n",
       "}});\n",
       "\n",
       "// Listen for the removal of the full notebook cells\n",
       "var notebookContainer = gd.closest('#notebook-container');\n",
       "if (notebookContainer) {{\n",
       "    x.observe(notebookContainer, {childList: true});\n",
       "}}\n",
       "\n",
       "// Listen for the clearing of the current output cell\n",
       "var outputEl = gd.closest('.output');\n",
       "if (outputEl) {{\n",
       "    x.observe(outputEl, {childList: true});\n",
       "}}\n",
       "\n",
       "                        })                };                });            </script>        </div>"
      ]
     },
     "metadata": {},
     "output_type": "display_data"
    }
   ],
   "source": [
    "# ignore president remarks\n",
    "import plotly.express as px\n",
    "dfoo = dfo[dfo[\"electoral_term\"] == 19]\n",
    "dfgg = dfg[dfg[\"electoral_term\"] == 19]\n",
    "dfoo = dfoo[dfoo[\"position_short\"] != \"Presidium of Parliament\"]\n",
    "dfgg = dfgg[dfgg[\"role\"] != \"presidency\"]\n",
    "dfgg = dfgg[~dfgg.description_agenda.str.contains(\"Fragestunde\")]\n",
    "x = dfgg.value_counts(\"session\", sort=False)\n",
    "y = dfoo.value_counts(\"session\", sort=False)\n",
    "x19 = x-y\n",
    "#fig = px.bar(diff, x=diff.index, y=\"19\", title='Differences in speeches per Session (19th electoral term)', range_y=[-30,300],\n",
    "\n",
    "fig = px.bar(x19, title='Differences in speeches per Session without president and agenda items containing \"Fragestunde\" (19th electoral term)', range_y=[-30,300], labels={\"value\": \"\", \"session\": \"\"})\n",
    "fig.update(layout_showlegend=False)\n",
    "fig.show()"
   ]
  },
  {
   "cell_type": "code",
   "execution_count": null,
   "id": "14133801-94e5-43ea-b220-c71732f113f9",
   "metadata": {},
   "outputs": [],
   "source": [
    "# 19;19 -> 1 difference schäuble erste rede missing, small difference"
   ]
  },
  {
   "cell_type": "markdown",
   "id": "47762883-527b-40e9-a09f-8ba11e0b40e6",
   "metadata": {},
   "source": [
    "## Term 19, Session 83, (Difference -10 if excluding Fragestunde because GO-discussion regarding Fragestunde gets excluded as well"
   ]
  },
  {
   "cell_type": "code",
   "execution_count": 74,
   "id": "3d6f257f-2386-45c8-9d4d-ee316fd56b40",
   "metadata": {},
   "outputs": [
    {
     "name": "stdout",
     "output_type": "stream",
     "text": [
      "223 233 Difference: -10\n"
     ]
    }
   ],
   "source": [
    "# Note: excluding president speeches and Fragestunden\n",
    "dfoo = dfo[dfo[\"position_short\"] != \"Presidium of Parliament\"]\n",
    "dfgg = dfg[dfg[\"role\"] != \"presidency\"]\n",
    "dfgg = dfgg[~dfgg.description_agenda.str.contains(\"Fragestunde\")]\n",
    "term, sess = 19, 83\n",
    "dfoo = dfoo[dfoo[\"electoral_term\"] == term]\n",
    "dfoo = dfoo[dfoo[\"session\"] == sess]\n",
    "dfoo[\"speech_content\"] = dfoo[\"speech_content\"].str[:100]\n",
    "dfgg = dfgg[dfgg[\"electoral_term\"] == term]\n",
    "dfgg = dfgg[dfgg[\"session\"] == sess]\n",
    "dfgg[\"speech\"] = dfgg[\"speech\"].str[:100]\n",
    "dfoo = dfoo[[\"name\", \"speech_content\", \"faction_id\", \"date\", \"document_url\", \"last_name\"]]\n",
    "dfgg = dfgg[[\"name\", \"speech\", \"party\", \"date\", \"agenda_no\",  \"speech_id\", \"role\", \"last_name\"]]\n",
    "print(len(dfgg), len(dfoo), \"Difference:\", len(dfgg)-len(dfoo))"
   ]
  },
  {
   "cell_type": "code",
   "execution_count": 75,
   "id": "141115e8-88f0-473a-b3bc-5437d5be9b9b",
   "metadata": {},
   "outputs": [
    {
     "data": {
      "text/html": [
       "<div>\n",
       "<style scoped>\n",
       "    .dataframe tbody tr th:only-of-type {\n",
       "        vertical-align: middle;\n",
       "    }\n",
       "\n",
       "    .dataframe tbody tr th {\n",
       "        vertical-align: top;\n",
       "    }\n",
       "\n",
       "    .dataframe thead th {\n",
       "        text-align: right;\n",
       "    }\n",
       "</style>\n",
       "<table border=\"1\" class=\"dataframe\">\n",
       "  <thead>\n",
       "    <tr style=\"text-align: right;\">\n",
       "      <th></th>\n",
       "      <th>0</th>\n",
       "      <th>1</th>\n",
       "      <th>2</th>\n",
       "    </tr>\n",
       "    <tr>\n",
       "      <th>last_name</th>\n",
       "      <th></th>\n",
       "      <th></th>\n",
       "      <th></th>\n",
       "    </tr>\n",
       "  </thead>\n",
       "  <tbody>\n",
       "    <tr>\n",
       "      <th>Frieser</th>\n",
       "      <td>5.0</td>\n",
       "      <td>7.0</td>\n",
       "      <td>-2.0</td>\n",
       "    </tr>\n",
       "    <tr>\n",
       "      <th>Haßelmann</th>\n",
       "      <td>4.0</td>\n",
       "      <td>5.0</td>\n",
       "      <td>-1.0</td>\n",
       "    </tr>\n",
       "    <tr>\n",
       "      <th>Müller</th>\n",
       "      <td>3.0</td>\n",
       "      <td>5.0</td>\n",
       "      <td>-2.0</td>\n",
       "    </tr>\n",
       "    <tr>\n",
       "      <th>Schneider</th>\n",
       "      <td>1.0</td>\n",
       "      <td>2.0</td>\n",
       "      <td>-1.0</td>\n",
       "    </tr>\n",
       "    <tr>\n",
       "      <th>Buschmann</th>\n",
       "      <td>1.0</td>\n",
       "      <td>2.0</td>\n",
       "      <td>-1.0</td>\n",
       "    </tr>\n",
       "  </tbody>\n",
       "</table>\n",
       "</div>"
      ],
      "text/plain": [
       "             0    1    2\n",
       "last_name               \n",
       "Frieser    5.0  7.0 -2.0\n",
       "Haßelmann  4.0  5.0 -1.0\n",
       "Müller     3.0  5.0 -2.0\n",
       "Schneider  1.0  2.0 -1.0\n",
       "Buschmann  1.0  2.0 -1.0"
      ]
     },
     "execution_count": 75,
     "metadata": {},
     "output_type": "execute_result"
    }
   ],
   "source": [
    "diffs = pd.concat([dfgg.value_counts(\"last_name\"), dfoo.value_counts(\"last_name\"), dfgg.value_counts(\"last_name\") - dfoo.value_counts(\"last_name\")], axis=1)\n",
    "diffs = diffs[diffs[2] < 0]\n",
    "diffs"
   ]
  },
  {
   "cell_type": "code",
   "execution_count": null,
   "id": "cd879b11-dd30-4496-947c-1101ca539e8f",
   "metadata": {},
   "outputs": [],
   "source": []
  },
  {
   "cell_type": "code",
   "execution_count": 50,
   "id": "4311876a-2d29-4ada-82f7-c7c6d937f204",
   "metadata": {},
   "outputs": [
    {
     "data": {
      "text/html": [
       "<div>\n",
       "<style scoped>\n",
       "    .dataframe tbody tr th:only-of-type {\n",
       "        vertical-align: middle;\n",
       "    }\n",
       "\n",
       "    .dataframe tbody tr th {\n",
       "        vertical-align: top;\n",
       "    }\n",
       "\n",
       "    .dataframe thead th {\n",
       "        text-align: right;\n",
       "    }\n",
       "</style>\n",
       "<table border=\"1\" class=\"dataframe\">\n",
       "  <thead>\n",
       "    <tr style=\"text-align: right;\">\n",
       "      <th></th>\n",
       "      <th>name</th>\n",
       "      <th>speech_content</th>\n",
       "      <th>faction_id</th>\n",
       "      <th>date</th>\n",
       "      <th>document_url</th>\n",
       "    </tr>\n",
       "  </thead>\n",
       "  <tbody>\n",
       "    <tr>\n",
       "      <th>81886</th>\n",
       "      <td>Patrick Sensburg</td>\n",
       "      <td>\\n\\nSehr geehrte Frau Präsidentin! Liebe Kolleginnen und Kollegen! Meine Damen und Herren! Die Regier</td>\n",
       "      <td>4</td>\n",
       "      <td>2019-02-21</td>\n",
       "      <td>https://dip21.bundestag.de/dip21/btp/19/19083.pdf</td>\n",
       "    </tr>\n",
       "    <tr>\n",
       "      <th>81887</th>\n",
       "      <td>Patrick Sensburg</td>\n",
       "      <td>\\n\\nDas mache ich jetzt. – Ich wünsche mir, dass wir dies gemeinsam beschließen und einen Schritt wei</td>\n",
       "      <td>4</td>\n",
       "      <td>2019-02-21</td>\n",
       "      <td>https://dip21.bundestag.de/dip21/btp/19/19083.pdf</td>\n",
       "    </tr>\n",
       "  </tbody>\n",
       "</table>\n",
       "</div>"
      ],
      "text/plain": [
       "                   name  \\\n",
       "81886  Patrick Sensburg   \n",
       "81887  Patrick Sensburg   \n",
       "\n",
       "                                                                                               speech_content  \\\n",
       "81886  \\n\\nSehr geehrte Frau Präsidentin! Liebe Kolleginnen und Kollegen! Meine Damen und Herren! Die Regier   \n",
       "81887  \\n\\nDas mache ich jetzt. – Ich wünsche mir, dass wir dies gemeinsam beschließen und einen Schritt wei   \n",
       "\n",
       "       faction_id        date  \\\n",
       "81886  4           2019-02-21   \n",
       "81887  4           2019-02-21   \n",
       "\n",
       "                                            document_url  \n",
       "81886  https://dip21.bundestag.de/dip21/btp/19/19083.pdf  \n",
       "81887  https://dip21.bundestag.de/dip21/btp/19/19083.pdf  "
      ]
     },
     "execution_count": 50,
     "metadata": {},
     "output_type": "execute_result"
    }
   ],
   "source": [
    "dfoo[dfoo.name.str.contains(\"Sensburg\")]"
   ]
  },
  {
   "cell_type": "markdown",
   "id": "983a3ebe-1086-4737-8aea-a6fdb28f4680",
   "metadata": {},
   "source": [
    "GO discussion regarding Fragestunde was excluded here above in ′dfgg[~dfgg.description_agenda.str.contains(\"Fragestunde\")]′ Its normally included so GermanParl is not actually missing data\n",
    "\n",
    "agenda_description: a) Beschlussempfehlung und Bericht des Ausschusses für Wahlprüfung, Immunität und Geschäftsordnung: Änderung der Geschäftsordnung des Deutschen Bundestages hier: Anlagen 4 und 7 zur GO-BT (Fragestunde und Regierungsbefragung)  Drucksache 19/7859"
   ]
  },
  {
   "cell_type": "markdown",
   "id": "35b7a4e7-2b6c-4fc1-baf5-321a93239be5",
   "metadata": {
    "jp-MarkdownHeadingCollapsed": true
   },
   "source": [
    "## Session 19 223 (Diff 89), Open Discourse doesn't include Fragestunde and GO discussion"
   ]
  },
  {
   "cell_type": "code",
   "execution_count": 22,
   "id": "141007f6-cfb7-498b-a4f7-f2c7516808d2",
   "metadata": {},
   "outputs": [
    {
     "name": "stdout",
     "output_type": "stream",
     "text": [
      "442 353 Difference: 89\n"
     ]
    }
   ],
   "source": [
    "sess = 223\n",
    "dfoo = dfo[dfo[\"electoral_term\"] == 19]\n",
    "dfoo = dfoo[dfoo[\"session\"] == sess]\n",
    "dfoo[\"speech_content\"] = dfoo[\"speech_content\"].str[:40]\n",
    "dfgg = dfg[dfg[\"electoral_term\"] == 19]\n",
    "dfgg = dfgg[dfgg[\"session\"] == sess]\n",
    "dfgg[\"speech\"] = dfgg[\"speech\"].str[:40]\n",
    "dfoo = dfoo[[\"name\", \"speech_content\", \"faction_id\", \"date\", \"document_url\"]]\n",
    "dfgg = dfgg[[\"name\", \"speech\", \"party\", \"date\", \"agenda_no\", \"description_agenda\", \"speech_id\"]]\n",
    "print(len(dfgg), len(dfoo), \"Difference:\", len(dfgg)-len(dfoo))"
   ]
  },
  {
   "cell_type": "code",
   "execution_count": 23,
   "id": "dc6bd786-344b-46fc-9208-d434ede94347",
   "metadata": {},
   "outputs": [
    {
     "name": "stdout",
     "output_type": "stream",
     "text": [
      "392 353 Difference: 39\n"
     ]
    }
   ],
   "source": [
    "# Fragestunde missing\n",
    "dfgg = dfgg[~dfgg.description_agenda.str.contains(\"Fragestunde\")]\n",
    "print(len(dfgg), len(dfoo), \"Difference:\", len(dfgg)-len(dfoo))"
   ]
  },
  {
   "cell_type": "code",
   "execution_count": 24,
   "id": "55016c8d-7458-49a0-8dec-cbae1894bf20",
   "metadata": {},
   "outputs": [
    {
     "name": "stdout",
     "output_type": "stream",
     "text": [
      "363 353 Difference: 10\n"
     ]
    }
   ],
   "source": [
    "# Speeches discussion the Geschäftsordnung before Tagesordnungspunkt 1 are included in GermanParl but not Open Discourse\n",
    "dfgg = dfgg[dfgg.index > 69023]\n",
    "print(len(dfgg), len(dfoo), \"Difference:\", len(dfgg)-len(dfoo))"
   ]
  },
  {
   "cell_type": "code",
   "execution_count": 25,
   "id": "28fc2127-a4f3-44cf-ac0f-ccbe5d4517ec",
   "metadata": {},
   "outputs": [],
   "source": [
    "diffs = pd.concat([dfoo.value_counts(\"name\"), dfgg.value_counts(\"name\"), dfoo.value_counts(\"name\") - dfgg.value_counts(\"name\")], axis=1)\n",
    "#diffs[diffs[2] != 0.0]"
   ]
  },
  {
   "cell_type": "code",
   "execution_count": 26,
   "id": "375921a4-2dd6-42e4-9031-20f8573a3c44",
   "metadata": {},
   "outputs": [],
   "source": [
    "diffs = diffs[(diffs[2] != 0.0) & (diffs[2] != -1.0)]\n",
    "diffs = diffs[~(diffs.index.str.contains(\"Friedrich\")) & ~(diffs.index.str.contains(\"Dagmar\"))]\n",
    "names = diffs.index.to_list()"
   ]
  },
  {
   "cell_type": "code",
   "execution_count": 27,
   "id": "19008d1c-9a4c-4c9e-86e6-3be67b22ea60",
   "metadata": {},
   "outputs": [
    {
     "data": {
      "text/html": [
       "<div>\n",
       "<style scoped>\n",
       "    .dataframe tbody tr th:only-of-type {\n",
       "        vertical-align: middle;\n",
       "    }\n",
       "\n",
       "    .dataframe tbody tr th {\n",
       "        vertical-align: top;\n",
       "    }\n",
       "\n",
       "    .dataframe thead th {\n",
       "        text-align: right;\n",
       "    }\n",
       "</style>\n",
       "<table border=\"1\" class=\"dataframe\">\n",
       "  <thead>\n",
       "    <tr style=\"text-align: right;\">\n",
       "      <th></th>\n",
       "      <th>0</th>\n",
       "    </tr>\n",
       "    <tr>\n",
       "      <th>description_agenda</th>\n",
       "      <th></th>\n",
       "    </tr>\n",
       "  </thead>\n",
       "  <tbody>\n",
       "    <tr>\n",
       "      <th>Befragung der Bundesregierung</th>\n",
       "      <td>5</td>\n",
       "    </tr>\n",
       "    <tr>\n",
       "      <th>a) – Zweite und dritte Beratung des von den Fraktionen der CDU/CSU und SPD eingebrachten Entwurfs eines Vierten Gesetzes zum Schutz der Bevölkerung bei einer epidemischen Lage von nationaler Tragweite</th>\n",
       "      <td>3</td>\n",
       "    </tr>\n",
       "    <tr>\n",
       "      <th>– Beschlussempfehlung und Bericht des Auswärtigen Ausschusses zu dem Antrag der Bundesregierung: Fortsetzung der Beteiligung bewaffneter deutscher Streitkräfte an der durch die Europäische Union geführten EU NAVFOR Somalia Operation Atalanta</th>\n",
       "      <td>2</td>\n",
       "    </tr>\n",
       "    <tr>\n",
       "      <th>Antrag der Abgeordneten Caren Lay, Pascal Meiser, Dr. Gesine Lötzsch, weiterer Abgeordneter und der Fraktion DIE LINKE: Bundesweiten Mietendeckel einführen</th>\n",
       "      <td>1</td>\n",
       "    </tr>\n",
       "    <tr>\n",
       "      <th>Vereinbarte Debatte: Suizidhilfe</th>\n",
       "      <td>1</td>\n",
       "    </tr>\n",
       "  </tbody>\n",
       "</table>\n",
       "</div>"
      ],
      "text/plain": [
       "                                                                                                                                                                                                                                                   0\n",
       "description_agenda                                                                                                                                                                                                                                  \n",
       "Befragung der Bundesregierung                                                                                                                                                                                                                      5\n",
       "a) – Zweite und dritte Beratung des von den Fraktionen der CDU/CSU und SPD eingebrachten Entwurfs eines Vierten Gesetzes zum Schutz der Bevölkerung bei einer epidemischen Lage von nationaler Tragweite                                           3\n",
       "– Beschlussempfehlung und Bericht des Auswärtigen Ausschusses zu dem Antrag der Bundesregierung: Fortsetzung der Beteiligung bewaffneter deutscher Streitkräfte an der durch die Europäische Union geführten EU NAVFOR Somalia Operation Atalanta  2\n",
       "Antrag der Abgeordneten Caren Lay, Pascal Meiser, Dr. Gesine Lötzsch, weiterer Abgeordneter und der Fraktion DIE LINKE: Bundesweiten Mietendeckel einführen                                                                                        1\n",
       "Vereinbarte Debatte: Suizidhilfe                                                                                                                                                                                                                   1"
      ]
     },
     "execution_count": 27,
     "metadata": {},
     "output_type": "execute_result"
    }
   ],
   "source": [
    "pd.DataFrame(dfgg[dfgg[\"name\"].isin(names)].value_counts(\"description_agenda\"))"
   ]
  },
  {
   "cell_type": "markdown",
   "id": "615f03df-6274-4ebf-b416-26e4bbc6574d",
   "metadata": {},
   "source": [
    "## Term 19  Session 114 (Missing: 80, 18 w/o presidents) -> Open Discourse Some remarks are missing ind the Befragung of the Bundesregierung"
   ]
  },
  {
   "cell_type": "code",
   "execution_count": 115,
   "id": "8598aed7-5f3d-4c2d-92a3-0f5db0af536d",
   "metadata": {},
   "outputs": [
    {
     "name": "stdout",
     "output_type": "stream",
     "text": [
      "262 94 Difference: 168\n"
     ]
    }
   ],
   "source": [
    "term, sess = 19, 114\n",
    "dfoo = dfo[dfo[\"electoral_term\"] == term]\n",
    "dfoo = dfoo[dfoo[\"session\"] == sess]\n",
    "dfoo[\"speech_content\"] = dfoo[\"speech_content\"]\n",
    "dfgg = dfg[dfg[\"electoral_term\"] == term]\n",
    "dfgg = dfgg[dfgg[\"session\"] == sess]\n",
    "dfgg[\"speech\"] = dfgg[\"speech\"]\n",
    "dfoo = dfoo[[\"name\", \"speech_content\", \"faction_id\", \"date\", \"document_url\", \"position_short\"]]\n",
    "dfgg = dfgg[[\"name\", \"speech\", \"party\", \"date\", \"agenda_no\",  \"speech_id\", \"role\", \"description_agenda\"]]\n",
    "print(len(dfgg), len(dfoo), \"Difference:\", len(dfgg)-len(dfoo))"
   ]
  },
  {
   "cell_type": "code",
   "execution_count": 116,
   "id": "50cee2a2-b442-49a4-a704-70b3a3d9e57c",
   "metadata": {},
   "outputs": [
    {
     "name": "stdout",
     "output_type": "stream",
     "text": [
      "173 94 Difference: 79\n"
     ]
    }
   ],
   "source": [
    "# Fragestunde missing\n",
    "dfgg = dfgg[~dfgg.description_agenda.str.contains(\"Fragestunde\")]\n",
    "print(len(dfgg), len(dfoo), \"Difference:\", len(dfgg)-len(dfoo))"
   ]
  },
  {
   "cell_type": "code",
   "execution_count": 117,
   "id": "ba486f6a-baa9-4cf7-862b-3b1622082561",
   "metadata": {},
   "outputs": [
    {
     "data": {
      "text/plain": [
       "position_short\n",
       "Member of Parliament       53\n",
       "Minister                   37\n",
       "Presidium of Parliament    4 \n",
       "dtype: int64"
      ]
     },
     "execution_count": 117,
     "metadata": {},
     "output_type": "execute_result"
    }
   ],
   "source": [
    "dfoo.value_counts(\"position_short\")"
   ]
  },
  {
   "cell_type": "code",
   "execution_count": 118,
   "id": "6ba870ba-a1c8-45d4-acb7-e08eae81b4ec",
   "metadata": {},
   "outputs": [
    {
     "data": {
      "text/plain": [
       "role\n",
       "mp            66\n",
       "presidency    65\n",
       "government    42\n",
       "dtype: int64"
      ]
     },
     "execution_count": 118,
     "metadata": {},
     "output_type": "execute_result"
    }
   ],
   "source": [
    "dfgg.value_counts(\"role\")"
   ]
  },
  {
   "cell_type": "markdown",
   "id": "bad2554b-7039-4209-9a71-f2facd0c2632",
   "metadata": {},
   "source": [
    "**Almost all remarks by the president seem to be missing in the Befragung of the Bundesregierung**"
   ]
  },
  {
   "cell_type": "code",
   "execution_count": 119,
   "id": "0bc5aea4-3d61-455c-bf07-92c219e372dd",
   "metadata": {},
   "outputs": [
    {
     "data": {
      "text/plain": [
       "86014    \\n\\nVielen Dank für das Wort. – Sehr geehrter Herr Minister, wir sprechen gerade über den Zertifikatehandel. Der hat in der öffentlichen Reaktion große Diskussionen hervorgerufen. Meine Nachfrage bezieht sich darauf: Warum ist die Entscheidung in dieser Richtung gefallen? Uns Sozialdemokraten ist natürlich vor allem die soziale Ausgewogenheit wichtig. Wie ist das bei diesem System abgesichert?\n",
       "Name: speech_content, dtype: object"
      ]
     },
     "execution_count": 119,
     "metadata": {},
     "output_type": "execute_result"
    }
   ],
   "source": [
    "dfoo[dfoo.name.str.contains(\"Träger\")].speech_content"
   ]
  },
  {
   "cell_type": "code",
   "execution_count": 120,
   "id": "63df8d2d-e709-49e1-84bc-bb08cf8a97e1",
   "metadata": {},
   "outputs": [
    {
     "data": {
      "text/plain": [
       "33776    Herr Präsident, ich nehme die Entschuldigung sehr gern an.                                                                                                                                                                                                                                                                                                                                                 \n",
       "33778    Vielen Dank für das Wort. – Sehr geehrter Herr Minister, wir sprechen gerade über den Zertifikatehandel. Der hat in der öffentlichen Reaktion große Diskussionen hervorgerufen. Meine Nachfrage bezieht sich darauf: Warum ist die Entscheidung in dieser Richtung gefallen? Uns Sozialdemokraten ist natürlich vor allem die soziale Ausgewogenheit wichtig. Wie ist das bei diesem System abgesichert?\n",
       "Name: speech, dtype: object"
      ]
     },
     "execution_count": 120,
     "metadata": {},
     "output_type": "execute_result"
    }
   ],
   "source": [
    "dfgg[dfgg.name.str.contains(\"Träger\")].speech"
   ]
  },
  {
   "cell_type": "code",
   "execution_count": 112,
   "id": "ac9fc2f6-4245-42ff-8b3c-2ec46bcd4f4d",
   "metadata": {},
   "outputs": [
    {
     "data": {
      "text/plain": [
       "description_agenda\n",
       "Befragung der Bundesregierung                                                                                                     139\n",
       "Aktuelle Stunde auf Verlangen der Fraktion BÜNDNIS 90/DIE GRÜNEN: Haltung der Bundesregierung zur Eskalation in der Golfregion    34 \n",
       "dtype: int64"
      ]
     },
     "execution_count": 112,
     "metadata": {},
     "output_type": "execute_result"
    }
   ],
   "source": [
    "dfgg.value_counts(\"description_agenda\")"
   ]
  },
  {
   "cell_type": "markdown",
   "id": "9098bb89-5a9f-47e9-aae6-1fa1676d3da7",
   "metadata": {},
   "source": [
    "## Term 19 Session 120 (Diff 160) (still includes Fragestunde (coded as unknown))"
   ]
  },
  {
   "cell_type": "code",
   "execution_count": 28,
   "id": "81d8fe12-84ef-44ac-932e-b1318269e1ff",
   "metadata": {},
   "outputs": [
    {
     "name": "stdout",
     "output_type": "stream",
     "text": [
      "341 181 Difference: 160\n"
     ]
    }
   ],
   "source": [
    "sess = 120\n",
    "dfoo = dfo[dfo[\"electoral_term\"] == 19]\n",
    "dfoo = dfoo[dfoo[\"session\"] == sess]\n",
    "dfoo[\"speech_content\"] = dfoo[\"speech_content\"].str[:40]\n",
    "dfgg = dfg[dfg[\"electoral_term\"] == 19]\n",
    "dfgg = dfgg[dfgg[\"session\"] == sess]\n",
    "dfgg[\"speech\"] = dfgg[\"speech\"].str[:40]\n",
    "dfoo = dfoo[[\"name\", \"speech_content\", \"faction_id\", \"date\", \"document_url\"]]\n",
    "dfgg = dfgg[[\"name\", \"speech\", \"party\", \"date\", \"agenda_no\", \"description_agenda\", \"speech_id\"]]\n",
    "print(len(dfgg), len(dfoo), \"Difference:\", len(dfgg)-len(dfoo))"
   ]
  },
  {
   "cell_type": "code",
   "execution_count": 29,
   "id": "dce21589-7167-4036-8fcf-210dd1d4dd5e",
   "metadata": {},
   "outputs": [
    {
     "data": {
      "text/plain": [
       "array(['1', 'U1', 'Z1'], dtype=object)"
      ]
     },
     "execution_count": 29,
     "metadata": {},
     "output_type": "execute_result"
    }
   ],
   "source": [
    "dfgg.agenda_no.unique()"
   ]
  },
  {
   "cell_type": "code",
   "execution_count": 30,
   "id": "a057a3db-fb6d-43a1-97ab-2550a4c0c786",
   "metadata": {},
   "outputs": [
    {
     "data": {
      "text/plain": [
       "Unknown                                                                                            156\n",
       "Befragung der Bundesregierung                                                                      143\n",
       "Aktuelle Stunde auf Verlangen der Fraktion der FDP: Meinungsfreiheit in Deutschland verteidigen    42 \n",
       "Name: description_agenda, dtype: int64"
      ]
     },
     "execution_count": 30,
     "metadata": {},
     "output_type": "execute_result"
    }
   ],
   "source": [
    "dfgg.description_agenda.value_counts()"
   ]
  },
  {
   "cell_type": "code",
   "execution_count": 31,
   "id": "dcf2d1df-db7d-4f24-aea5-f0ce6cd3c25c",
   "metadata": {},
   "outputs": [],
   "source": [
    "## Difference comes from Fragestunde being coded as Unknown"
   ]
  },
  {
   "cell_type": "code",
   "execution_count": null,
   "id": "3ea72811-c8c1-4819-8799-2b2e26daf8bf",
   "metadata": {},
   "outputs": [],
   "source": []
  },
  {
   "cell_type": "markdown",
   "id": "5cd19a3e-dade-49a4-919c-ee2675b41d6c",
   "metadata": {},
   "source": [
    "## Term 19 Sess 4 (Diff 6) (Open discurse missing Ergebnis der Namentlichen Abstimmung announced by president)"
   ]
  },
  {
   "cell_type": "code",
   "execution_count": 198,
   "id": "a0657864-56db-492b-9476-8b7ebd70ebb7",
   "metadata": {},
   "outputs": [
    {
     "name": "stdout",
     "output_type": "stream",
     "text": [
      "331 325 Difference: 6\n"
     ]
    }
   ],
   "source": [
    "term, sess = 19, 4\n",
    "dfoo = dfo[dfo[\"electoral_term\"] == term]\n",
    "dfoo = dfoo[dfoo[\"session\"] == sess]\n",
    "dfoo[\"speech_content\"] = dfoo[\"speech_content\"].str[:100]\n",
    "dfgg = dfg[dfg[\"electoral_term\"] == term]\n",
    "dfgg = dfgg[dfgg[\"session\"] == sess]\n",
    "dfgg[\"speech\"] = dfgg[\"speech\"].str[:100]\n",
    "dfoo = dfoo[[\"name\", \"speech_content\", \"faction_id\", \"date\", \"document_url\"]]\n",
    "dfgg = dfgg[[\"name\", \"speech\", \"party\", \"date\", \"agenda_no\",  \"speech_id\", \"role\"]]\n",
    "print(len(dfgg), len(dfoo), \"Difference:\", len(dfgg)-len(dfoo))"
   ]
  },
  {
   "cell_type": "code",
   "execution_count": 199,
   "id": "afca2338-6554-4779-9867-9cd69447a0de",
   "metadata": {},
   "outputs": [
    {
     "data": {
      "text/html": [
       "<div>\n",
       "<style scoped>\n",
       "    .dataframe tbody tr th:only-of-type {\n",
       "        vertical-align: middle;\n",
       "    }\n",
       "\n",
       "    .dataframe tbody tr th {\n",
       "        vertical-align: top;\n",
       "    }\n",
       "\n",
       "    .dataframe thead th {\n",
       "        text-align: right;\n",
       "    }\n",
       "</style>\n",
       "<table border=\"1\" class=\"dataframe\">\n",
       "  <thead>\n",
       "    <tr style=\"text-align: right;\">\n",
       "      <th></th>\n",
       "      <th>0</th>\n",
       "      <th>1</th>\n",
       "      <th>2</th>\n",
       "    </tr>\n",
       "    <tr>\n",
       "      <th>name</th>\n",
       "      <th></th>\n",
       "      <th></th>\n",
       "      <th></th>\n",
       "    </tr>\n",
       "  </thead>\n",
       "  <tbody>\n",
       "    <tr>\n",
       "      <th>Claudia Roth</th>\n",
       "      <td>30.0</td>\n",
       "      <td>27.0</td>\n",
       "      <td>3.0</td>\n",
       "    </tr>\n",
       "    <tr>\n",
       "      <th>Wolfgang Schäuble</th>\n",
       "      <td>27.0</td>\n",
       "      <td>24.0</td>\n",
       "      <td>3.0</td>\n",
       "    </tr>\n",
       "  </tbody>\n",
       "</table>\n",
       "</div>"
      ],
      "text/plain": [
       "                      0     1    2\n",
       "name                              \n",
       "Claudia Roth       30.0  27.0  3.0\n",
       "Wolfgang Schäuble  27.0  24.0  3.0"
      ]
     },
     "execution_count": 199,
     "metadata": {},
     "output_type": "execute_result"
    }
   ],
   "source": [
    "diffs = pd.concat([dfgg.value_counts(\"name\"), dfoo.value_counts(\"name\"), dfgg.value_counts(\"name\") - dfoo.value_counts(\"name\")], axis=1)\n",
    "diffs = diffs[diffs[2] >= 3.0]\n",
    "diffs"
   ]
  },
  {
   "cell_type": "code",
   "execution_count": 200,
   "id": "492bf956-e4c6-4c18-86be-9e63e7f216c3",
   "metadata": {},
   "outputs": [
    {
     "data": {
      "text/html": [
       "<div>\n",
       "<style scoped>\n",
       "    .dataframe tbody tr th:only-of-type {\n",
       "        vertical-align: middle;\n",
       "    }\n",
       "\n",
       "    .dataframe tbody tr th {\n",
       "        vertical-align: top;\n",
       "    }\n",
       "\n",
       "    .dataframe thead th {\n",
       "        text-align: right;\n",
       "    }\n",
       "</style>\n",
       "<table border=\"1\" class=\"dataframe\">\n",
       "  <thead>\n",
       "    <tr style=\"text-align: right;\">\n",
       "      <th></th>\n",
       "      <th>name</th>\n",
       "      <th>speech</th>\n",
       "      <th>party</th>\n",
       "      <th>date</th>\n",
       "      <th>agenda_no</th>\n",
       "      <th>speech_id</th>\n",
       "      <th>role</th>\n",
       "    </tr>\n",
       "  </thead>\n",
       "  <tbody>\n",
       "    <tr>\n",
       "      <th>426</th>\n",
       "      <td>Wolfgang Schäuble</td>\n",
       "      <td>Guten Morgen, liebe Kolleginnen und Kollegen! Die Sitzung ist eröffnet. Bevor wir in die Tagesordnu</td>\n",
       "      <td>CDU</td>\n",
       "      <td>2017-12-12</td>\n",
       "      <td>1</td>\n",
       "      <td>426</td>\n",
       "      <td>presidency</td>\n",
       "    </tr>\n",
       "    <tr>\n",
       "      <th>452</th>\n",
       "      <td>Wolfgang Schäuble</td>\n",
       "      <td>Jetzt gebe ich das von den Schriftführerinnen und Schriftführern ermittelte Ergebnis der namentlic</td>\n",
       "      <td>CDU</td>\n",
       "      <td>2017-12-12</td>\n",
       "      <td>2</td>\n",
       "      <td>452</td>\n",
       "      <td>presidency</td>\n",
       "    </tr>\n",
       "    <tr>\n",
       "      <th>477</th>\n",
       "      <td>Wolfgang Schäuble</td>\n",
       "      <td>Jetzt gebe ich das von den Schriftführerinnen und Schriftführern ermittelte Ergebnis der namentlic</td>\n",
       "      <td>CDU</td>\n",
       "      <td>2017-12-12</td>\n",
       "      <td>2</td>\n",
       "      <td>477</td>\n",
       "      <td>presidency</td>\n",
       "    </tr>\n",
       "    <tr>\n",
       "      <th>491</th>\n",
       "      <td>Claudia Roth</td>\n",
       "      <td>Vielen Dank, Niels Annen. Bevor ich den nächsten Redner aufrufe, möchte ich Ihnen das von den Schr</td>\n",
       "      <td>GRUENE</td>\n",
       "      <td>2017-12-12</td>\n",
       "      <td>4</td>\n",
       "      <td>491</td>\n",
       "      <td>presidency</td>\n",
       "    </tr>\n",
       "    <tr>\n",
       "      <th>518</th>\n",
       "      <td>Claudia Roth</td>\n",
       "      <td>Vielen Dank, Jürgen Hardt. – Bevor ich den nächsten Redner aufrufe, gebe ich Ihnen das von den Sch</td>\n",
       "      <td>GRUENE</td>\n",
       "      <td>2017-12-12</td>\n",
       "      <td>5</td>\n",
       "      <td>518</td>\n",
       "      <td>presidency</td>\n",
       "    </tr>\n",
       "    <tr>\n",
       "      <th>538</th>\n",
       "      <td>Claudia Roth</td>\n",
       "      <td>Vielen Dank, Jürgen Hardt. – Bevor ich den nächsten Redner aufrufe, möchte ich Ihnen das von den</td>\n",
       "      <td>GRUENE</td>\n",
       "      <td>2017-12-12</td>\n",
       "      <td>Z1</td>\n",
       "      <td>538</td>\n",
       "      <td>presidency</td>\n",
       "    </tr>\n",
       "  </tbody>\n",
       "</table>\n",
       "</div>"
      ],
      "text/plain": [
       "                  name  \\\n",
       "426  Wolfgang Schäuble   \n",
       "452  Wolfgang Schäuble   \n",
       "477  Wolfgang Schäuble   \n",
       "491  Claudia Roth        \n",
       "518  Claudia Roth        \n",
       "538  Claudia Roth        \n",
       "\n",
       "                                                                                                   speech  \\\n",
       "426  Guten Morgen, liebe Kolleginnen und Kollegen! Die Sitzung ist eröffnet. Bevor wir in die Tagesordnu   \n",
       "452  Jetzt gebe ich das von den Schriftführerinnen und Schriftführern ermittelte Ergebnis der namentlic   \n",
       "477  Jetzt gebe ich das von den Schriftführerinnen und Schriftführern ermittelte Ergebnis der namentlic   \n",
       "491  Vielen Dank, Niels Annen. Bevor ich den nächsten Redner aufrufe, möchte ich Ihnen das von den Schr   \n",
       "518  Vielen Dank, Jürgen Hardt. – Bevor ich den nächsten Redner aufrufe, gebe ich Ihnen das von den Sch   \n",
       "538  Vielen Dank, Jürgen Hardt. – Bevor ich den nächsten Redner aufrufe, möchte ich Ihnen das von den    \n",
       "\n",
       "      party        date agenda_no  speech_id        role  \n",
       "426  CDU     2017-12-12  1         426        presidency  \n",
       "452  CDU     2017-12-12  2         452        presidency  \n",
       "477  CDU     2017-12-12  2         477        presidency  \n",
       "491  GRUENE  2017-12-12  4         491        presidency  \n",
       "518  GRUENE  2017-12-12  5         518        presidency  \n",
       "538  GRUENE  2017-12-12  Z1        538        presidency  "
      ]
     },
     "execution_count": 200,
     "metadata": {},
     "output_type": "execute_result"
    }
   ],
   "source": [
    "# Identify missing speeches\n",
    "dfdiffg = dfgg[(dfgg[\"name\"].str.contains(\"Roth\")) | (dfgg[\"name\"].str.contains(\"Schäuble\"))] \n",
    "dfdiffo = dfoo[(dfoo[\"name\"].str.contains(\"Roth\")) | (dfoo[\"name\"].str.contains(\"Schäuble\"))]\n",
    "starting = tuple(dfdiffo.speech_content.str.lstrip().str[:30].to_list())\n",
    "dfdiff = dfdiffg[~dfdiffg[\"speech\"].str.startswith(starting)]\n",
    "dfdiff"
   ]
  },
  {
   "cell_type": "code",
   "execution_count": 191,
   "id": "d23b1895-d614-47bd-b752-aca1050e8c1c",
   "metadata": {},
   "outputs": [],
   "source": [
    "# Open discourse doesn't include Ergebnis der Namentlichen Abstimmung"
   ]
  },
  {
   "cell_type": "code",
   "execution_count": null,
   "id": "7db9baa0-bfaf-46e6-bc49-93bb5aa90fdf",
   "metadata": {},
   "outputs": [],
   "source": []
  },
  {
   "cell_type": "markdown",
   "id": "1043168b-266f-435a-b3ab-6f1eb0968b73",
   "metadata": {},
   "source": [
    "## Term 19 Sess 189 (Diff 22) Some president's remarks missing in Open Discourse"
   ]
  },
  {
   "cell_type": "code",
   "execution_count": 181,
   "id": "68aa679b-b8b5-4d68-8465-d5bf33f7932d",
   "metadata": {},
   "outputs": [
    {
     "name": "stdout",
     "output_type": "stream",
     "text": [
      "402 380 Difference: 22\n"
     ]
    }
   ],
   "source": [
    "term, sess = 19, 189\n",
    "dfoo = dfo[dfo[\"electoral_term\"] == term]\n",
    "dfoo = dfoo[dfoo[\"session\"] == sess]\n",
    "dfoo[\"speech_content\"] = dfoo[\"speech_content\"].str[:100]\n",
    "dfgg = dfg[dfg[\"electoral_term\"] == term]\n",
    "dfgg = dfgg[dfgg[\"session\"] == sess]\n",
    "dfgg[\"speech\"] = dfgg[\"speech\"].str[:100]\n",
    "dfoo = dfoo[[\"name\", \"speech_content\", \"faction_id\", \"date\", \"document_url\"]]\n",
    "dfgg = dfgg[[\"name\", \"speech\", \"party\", \"date\", \"agenda_no\",  \"speech_id\", \"role\"]]\n",
    "print(len(dfgg), len(dfoo), \"Difference:\", len(dfgg)-len(dfoo))"
   ]
  },
  {
   "cell_type": "code",
   "execution_count": 182,
   "id": "52d4b392-f2da-4d7a-912b-c3f86ca6556d",
   "metadata": {},
   "outputs": [
    {
     "data": {
      "text/html": [
       "<div>\n",
       "<style scoped>\n",
       "    .dataframe tbody tr th:only-of-type {\n",
       "        vertical-align: middle;\n",
       "    }\n",
       "\n",
       "    .dataframe tbody tr th {\n",
       "        vertical-align: top;\n",
       "    }\n",
       "\n",
       "    .dataframe thead th {\n",
       "        text-align: right;\n",
       "    }\n",
       "</style>\n",
       "<table border=\"1\" class=\"dataframe\">\n",
       "  <thead>\n",
       "    <tr style=\"text-align: right;\">\n",
       "      <th></th>\n",
       "      <th>0</th>\n",
       "      <th>1</th>\n",
       "      <th>2</th>\n",
       "    </tr>\n",
       "    <tr>\n",
       "      <th>name</th>\n",
       "      <th></th>\n",
       "      <th></th>\n",
       "      <th></th>\n",
       "    </tr>\n",
       "  </thead>\n",
       "  <tbody>\n",
       "    <tr>\n",
       "      <th>Claudia Roth</th>\n",
       "      <td>58.0</td>\n",
       "      <td>51.0</td>\n",
       "      <td>7.0</td>\n",
       "    </tr>\n",
       "    <tr>\n",
       "      <th>Wolfgang Kubicki</th>\n",
       "      <td>40.0</td>\n",
       "      <td>36.0</td>\n",
       "      <td>4.0</td>\n",
       "    </tr>\n",
       "    <tr>\n",
       "      <th>Wolfgang Schäuble</th>\n",
       "      <td>22.0</td>\n",
       "      <td>19.0</td>\n",
       "      <td>3.0</td>\n",
       "    </tr>\n",
       "  </tbody>\n",
       "</table>\n",
       "</div>"
      ],
      "text/plain": [
       "                      0     1    2\n",
       "name                              \n",
       "Claudia Roth       58.0  51.0  7.0\n",
       "Wolfgang Kubicki   40.0  36.0  4.0\n",
       "Wolfgang Schäuble  22.0  19.0  3.0"
      ]
     },
     "execution_count": 182,
     "metadata": {},
     "output_type": "execute_result"
    }
   ],
   "source": [
    "diffs = pd.concat([dfgg.value_counts(\"name\"), dfoo.value_counts(\"name\"), dfgg.value_counts(\"name\") - dfoo.value_counts(\"name\")], axis=1)\n",
    "diffs = diffs[(diffs[2] >= 1.0)]\n",
    "diffs"
   ]
  },
  {
   "cell_type": "code",
   "execution_count": 183,
   "id": "3f26d8c1-4639-4224-98b9-0fb8f86c45a5",
   "metadata": {},
   "outputs": [
    {
     "data": {
      "text/html": [
       "<div>\n",
       "<style scoped>\n",
       "    .dataframe tbody tr th:only-of-type {\n",
       "        vertical-align: middle;\n",
       "    }\n",
       "\n",
       "    .dataframe tbody tr th {\n",
       "        vertical-align: top;\n",
       "    }\n",
       "\n",
       "    .dataframe thead th {\n",
       "        text-align: right;\n",
       "    }\n",
       "</style>\n",
       "<table border=\"1\" class=\"dataframe\">\n",
       "  <thead>\n",
       "    <tr style=\"text-align: right;\">\n",
       "      <th></th>\n",
       "      <th>name</th>\n",
       "      <th>speech</th>\n",
       "      <th>party</th>\n",
       "      <th>date</th>\n",
       "      <th>agenda_no</th>\n",
       "      <th>speech_id</th>\n",
       "      <th>role</th>\n",
       "    </tr>\n",
       "  </thead>\n",
       "  <tbody>\n",
       "    <tr>\n",
       "      <th>57677</th>\n",
       "      <td>Wolfgang Schäuble</td>\n",
       "      <td>Guten Morgen, liebe Kolleginnen und Kollegen! Bitte nehmen Sie Platz. Die Sitzung ist eröffnet. Vor</td>\n",
       "      <td>CDU</td>\n",
       "      <td>2020-11-05</td>\n",
       "      <td>8</td>\n",
       "      <td>57677</td>\n",
       "      <td>presidency</td>\n",
       "    </tr>\n",
       "    <tr>\n",
       "      <th>57707</th>\n",
       "      <td>Wolfgang Schäuble</td>\n",
       "      <td>Damit schließe ich die Aussprache. Die unterschiedlichen Voten der Fraktionen sind innerhalb der Enq</td>\n",
       "      <td>CDU</td>\n",
       "      <td>2020-11-05</td>\n",
       "      <td>8</td>\n",
       "      <td>57707</td>\n",
       "      <td>presidency</td>\n",
       "    </tr>\n",
       "    <tr>\n",
       "      <th>57741</th>\n",
       "      <td>Claudia Roth</td>\n",
       "      <td>Danke schön. – Vielen Dank, Frau Kollegin Leidig. Entschuldigen Sie, wenn wir drei hier oben sehr v</td>\n",
       "      <td>GRUENE</td>\n",
       "      <td>2020-11-05</td>\n",
       "      <td>10</td>\n",
       "      <td>57741</td>\n",
       "      <td>presidency</td>\n",
       "    </tr>\n",
       "    <tr>\n",
       "      <th>57747</th>\n",
       "      <td>Claudia Roth</td>\n",
       "      <td>Vielen Dank, Andreas Scheuer. So, liebe Kolleginnen und Kollegen, jetzt darf ich noch mal fragen: Gi</td>\n",
       "      <td>GRUENE</td>\n",
       "      <td>2020-11-05</td>\n",
       "      <td>10</td>\n",
       "      <td>57747</td>\n",
       "      <td>presidency</td>\n",
       "    </tr>\n",
       "    <tr>\n",
       "      <th>57763</th>\n",
       "      <td>Claudia Roth</td>\n",
       "      <td>Vielen Dank, Michael Donth. – Damit schließe ich die Aussprache. Bevor wir zur Abstimmung kommen, mo</td>\n",
       "      <td>GRUENE</td>\n",
       "      <td>2020-11-05</td>\n",
       "      <td>10</td>\n",
       "      <td>57763</td>\n",
       "      <td>presidency</td>\n",
       "    </tr>\n",
       "    <tr>\n",
       "      <th>57830</th>\n",
       "      <td>Hans-Peter Friedrich</td>\n",
       "      <td>Vielen Dank, Herr Kollege. – Die Aktuelle Stunde ist damit beendet. Wir kommen zum nächsten Tagesor</td>\n",
       "      <td>CSU</td>\n",
       "      <td>2020-11-05</td>\n",
       "      <td>Z4</td>\n",
       "      <td>57830</td>\n",
       "      <td>presidency</td>\n",
       "    </tr>\n",
       "    <tr>\n",
       "      <th>57848</th>\n",
       "      <td>Hans-Peter Friedrich</td>\n",
       "      <td>Vielen Dank, Kollege Sepp Müller. – Ich beende die Aussprache zu Tagesordnungspunkt 13. Wir kommen</td>\n",
       "      <td>CSU</td>\n",
       "      <td>2020-11-05</td>\n",
       "      <td>13</td>\n",
       "      <td>57848</td>\n",
       "      <td>presidency</td>\n",
       "    </tr>\n",
       "    <tr>\n",
       "      <th>57882</th>\n",
       "      <td>Claudia Roth</td>\n",
       "      <td>Vielen Dank, Dr. Volker Ullrich. – Damit schließe ich die Aussprache. Interfraktionell wird Überwei</td>\n",
       "      <td>GRUENE</td>\n",
       "      <td>2020-11-05</td>\n",
       "      <td>14</td>\n",
       "      <td>57882</td>\n",
       "      <td>presidency</td>\n",
       "    </tr>\n",
       "    <tr>\n",
       "      <th>57908</th>\n",
       "      <td>Claudia Roth</td>\n",
       "      <td>Vielen Dank, auch für den Sprachunterricht, der mir als Süddeutsche bei Ihnen immer besonders gefa</td>\n",
       "      <td>GRUENE</td>\n",
       "      <td>2020-11-05</td>\n",
       "      <td>15</td>\n",
       "      <td>57908</td>\n",
       "      <td>presidency</td>\n",
       "    </tr>\n",
       "    <tr>\n",
       "      <th>57914</th>\n",
       "      <td>Claudia Roth</td>\n",
       "      <td>Der Redner kommt aus Bayern.</td>\n",
       "      <td>GRUENE</td>\n",
       "      <td>2020-11-05</td>\n",
       "      <td>5</td>\n",
       "      <td>57914</td>\n",
       "      <td>presidency</td>\n",
       "    </tr>\n",
       "    <tr>\n",
       "      <th>57924</th>\n",
       "      <td>Claudia Roth</td>\n",
       "      <td>Vielen Dank, Daniela Kolbe. – Hat er auch. Letzter Redner in dieser Debatte: für die CDU/CSU-Frakti</td>\n",
       "      <td>GRUENE</td>\n",
       "      <td>2020-11-05</td>\n",
       "      <td>5</td>\n",
       "      <td>57924</td>\n",
       "      <td>presidency</td>\n",
       "    </tr>\n",
       "    <tr>\n",
       "      <th>57932</th>\n",
       "      <td>Claudia Roth</td>\n",
       "      <td>Vielen Dank, Dr. Matthias Zimmer. – Damit schließe ich die Aussprache. Weil sie hier so nett sitzt,</td>\n",
       "      <td>GRUENE</td>\n",
       "      <td>2020-11-05</td>\n",
       "      <td>5</td>\n",
       "      <td>57932</td>\n",
       "      <td>presidency</td>\n",
       "    </tr>\n",
       "    <tr>\n",
       "      <th>57940</th>\n",
       "      <td>Claudia Roth</td>\n",
       "      <td>Danke schön, Benjamin Strasser. – Nächste Rednerin: für die Fraktion Die Linke Ulla Jelpke.</td>\n",
       "      <td>GRUENE</td>\n",
       "      <td>2020-11-05</td>\n",
       "      <td>6</td>\n",
       "      <td>57940</td>\n",
       "      <td>presidency</td>\n",
       "    </tr>\n",
       "    <tr>\n",
       "      <th>57948</th>\n",
       "      <td>Hans-Peter Friedrich</td>\n",
       "      <td>Vielen Dank. – Ich schließe die Aussprache zu diesem Tagesordnungspunkt. Wir kommen zur Abstimmung u</td>\n",
       "      <td>CSU</td>\n",
       "      <td>2020-11-05</td>\n",
       "      <td>6</td>\n",
       "      <td>57948</td>\n",
       "      <td>presidency</td>\n",
       "    </tr>\n",
       "    <tr>\n",
       "      <th>57968</th>\n",
       "      <td>Hans-Peter Friedrich</td>\n",
       "      <td>Ich erteile das Wort dem Kollegen Oliver Kaczmarek, SPD-Fraktion.</td>\n",
       "      <td>CSU</td>\n",
       "      <td>2020-11-05</td>\n",
       "      <td>7</td>\n",
       "      <td>57968</td>\n",
       "      <td>presidency</td>\n",
       "    </tr>\n",
       "    <tr>\n",
       "      <th>57976</th>\n",
       "      <td>Hans-Peter Friedrich</td>\n",
       "      <td>Ich schließe die Aussprache zu TOP 19. Interfraktionell wird Überweisung der Vorlagen auf den Druck</td>\n",
       "      <td>CSU</td>\n",
       "      <td>2020-11-05</td>\n",
       "      <td>7</td>\n",
       "      <td>57976</td>\n",
       "      <td>presidency</td>\n",
       "    </tr>\n",
       "    <tr>\n",
       "      <th>57988</th>\n",
       "      <td>Hans-Peter Friedrich</td>\n",
       "      <td>Der nächste Redner für die Fraktion der CDU/CSU ist der Kollege Christoph Bernstiel.</td>\n",
       "      <td>CSU</td>\n",
       "      <td>2020-11-05</td>\n",
       "      <td>22</td>\n",
       "      <td>57988</td>\n",
       "      <td>presidency</td>\n",
       "    </tr>\n",
       "    <tr>\n",
       "      <th>58000</th>\n",
       "      <td>Wolfgang Kubicki</td>\n",
       "      <td>Vielen Dank, Herr Kollege Hoffmann. – Damit schließe ich die Aussprache. Wir kommen zur Abstimmung u</td>\n",
       "      <td>FDP</td>\n",
       "      <td>2020-11-05</td>\n",
       "      <td>22</td>\n",
       "      <td>58000</td>\n",
       "      <td>presidency</td>\n",
       "    </tr>\n",
       "    <tr>\n",
       "      <th>58028</th>\n",
       "      <td>Wolfgang Kubicki</td>\n",
       "      <td>Vielen Dank, Herr Kollege Thomae. Die Rednerin Ulla Jelpke, Fraktion Die Linke, hat ihre Rede danken</td>\n",
       "      <td>FDP</td>\n",
       "      <td>2020-11-05</td>\n",
       "      <td>23</td>\n",
       "      <td>58028</td>\n",
       "      <td>presidency</td>\n",
       "    </tr>\n",
       "  </tbody>\n",
       "</table>\n",
       "</div>"
      ],
      "text/plain": [
       "                       name  \\\n",
       "57677  Wolfgang Schäuble      \n",
       "57707  Wolfgang Schäuble      \n",
       "57741  Claudia Roth           \n",
       "57747  Claudia Roth           \n",
       "57763  Claudia Roth           \n",
       "57830  Hans-Peter Friedrich   \n",
       "57848  Hans-Peter Friedrich   \n",
       "57882  Claudia Roth           \n",
       "57908  Claudia Roth           \n",
       "57914  Claudia Roth           \n",
       "57924  Claudia Roth           \n",
       "57932  Claudia Roth           \n",
       "57940  Claudia Roth           \n",
       "57948  Hans-Peter Friedrich   \n",
       "57968  Hans-Peter Friedrich   \n",
       "57976  Hans-Peter Friedrich   \n",
       "57988  Hans-Peter Friedrich   \n",
       "58000  Wolfgang Kubicki       \n",
       "58028  Wolfgang Kubicki       \n",
       "\n",
       "                                                                                                     speech  \\\n",
       "57677  Guten Morgen, liebe Kolleginnen und Kollegen! Bitte nehmen Sie Platz. Die Sitzung ist eröffnet. Vor   \n",
       "57707  Damit schließe ich die Aussprache. Die unterschiedlichen Voten der Fraktionen sind innerhalb der Enq   \n",
       "57741  Danke schön. – Vielen Dank, Frau Kollegin Leidig. Entschuldigen Sie, wenn wir drei hier oben sehr v   \n",
       "57747  Vielen Dank, Andreas Scheuer. So, liebe Kolleginnen und Kollegen, jetzt darf ich noch mal fragen: Gi   \n",
       "57763  Vielen Dank, Michael Donth. – Damit schließe ich die Aussprache. Bevor wir zur Abstimmung kommen, mo   \n",
       "57830  Vielen Dank, Herr Kollege. – Die Aktuelle Stunde ist damit beendet. Wir kommen zum nächsten Tagesor   \n",
       "57848  Vielen Dank, Kollege Sepp Müller. – Ich beende die Aussprache zu Tagesordnungspunkt 13. Wir kommen    \n",
       "57882  Vielen Dank, Dr. Volker Ullrich. – Damit schließe ich die Aussprache. Interfraktionell wird Überwei   \n",
       "57908  Vielen Dank, auch für den Sprachunterricht, der mir als Süddeutsche bei Ihnen immer besonders gefa   \n",
       "57914  Der Redner kommt aus Bayern.                                                                           \n",
       "57924  Vielen Dank, Daniela Kolbe. – Hat er auch. Letzter Redner in dieser Debatte: für die CDU/CSU-Frakti   \n",
       "57932  Vielen Dank, Dr. Matthias Zimmer. – Damit schließe ich die Aussprache. Weil sie hier so nett sitzt,    \n",
       "57940  Danke schön, Benjamin Strasser. – Nächste Rednerin: für die Fraktion Die Linke Ulla Jelpke.         \n",
       "57948  Vielen Dank. – Ich schließe die Aussprache zu diesem Tagesordnungspunkt. Wir kommen zur Abstimmung u   \n",
       "57968  Ich erteile das Wort dem Kollegen Oliver Kaczmarek, SPD-Fraktion.                                      \n",
       "57976  Ich schließe die Aussprache zu TOP 19. Interfraktionell wird Überweisung der Vorlagen auf den Druck   \n",
       "57988  Der nächste Redner für die Fraktion der CDU/CSU ist der Kollege Christoph Bernstiel.                 \n",
       "58000  Vielen Dank, Herr Kollege Hoffmann. – Damit schließe ich die Aussprache. Wir kommen zur Abstimmung u   \n",
       "58028  Vielen Dank, Herr Kollege Thomae. Die Rednerin Ulla Jelpke, Fraktion Die Linke, hat ihre Rede danken   \n",
       "\n",
       "        party        date agenda_no  speech_id        role  \n",
       "57677  CDU     2020-11-05  8         57677      presidency  \n",
       "57707  CDU     2020-11-05  8         57707      presidency  \n",
       "57741  GRUENE  2020-11-05  10        57741      presidency  \n",
       "57747  GRUENE  2020-11-05  10        57747      presidency  \n",
       "57763  GRUENE  2020-11-05  10        57763      presidency  \n",
       "57830  CSU     2020-11-05  Z4        57830      presidency  \n",
       "57848  CSU     2020-11-05  13        57848      presidency  \n",
       "57882  GRUENE  2020-11-05  14        57882      presidency  \n",
       "57908  GRUENE  2020-11-05  15        57908      presidency  \n",
       "57914  GRUENE  2020-11-05  5         57914      presidency  \n",
       "57924  GRUENE  2020-11-05  5         57924      presidency  \n",
       "57932  GRUENE  2020-11-05  5         57932      presidency  \n",
       "57940  GRUENE  2020-11-05  6         57940      presidency  \n",
       "57948  CSU     2020-11-05  6         57948      presidency  \n",
       "57968  CSU     2020-11-05  7         57968      presidency  \n",
       "57976  CSU     2020-11-05  7         57976      presidency  \n",
       "57988  CSU     2020-11-05  22        57988      presidency  \n",
       "58000  FDP     2020-11-05  22        58000      presidency  \n",
       "58028  FDP     2020-11-05  23        58028      presidency  "
      ]
     },
     "execution_count": 183,
     "metadata": {},
     "output_type": "execute_result"
    }
   ],
   "source": [
    "# Identify missing speeches\n",
    "dfdiffg = dfgg[(dfgg[\"name\"].str.contains(\"Roth\")) | (dfgg[\"name\"].str.contains(\"Schäuble\")) | (dfgg[\"name\"].str.contains(\"Kubicki\")) | (dfgg[\"name\"].str.contains(\"Friedrich\"))] \n",
    "dfdiffo = dfoo[(dfoo[\"name\"].str.contains(\"Roth\")) | (dfoo[\"name\"].str.contains(\"Schäuble\")) | (dfoo[\"name\"].str.contains(\"Kubicki\")) | (dfoo[\"name\"].str.contains(\"Friedrich\"))]\n",
    "starting = tuple(dfdiffo.speech_content.str.lstrip().str[:30].to_list())\n",
    "dfdiff = dfdiffg[~dfdiffg[\"speech\"].str.startswith(starting)]\n",
    "dfdiff"
   ]
  },
  {
   "cell_type": "code",
   "execution_count": null,
   "id": "805944dc-1d8b-41b8-b7a4-6eecc7fce2d4",
   "metadata": {},
   "outputs": [],
   "source": []
  }
 ],
 "metadata": {
  "kernelspec": {
   "display_name": "Python 3 (ipykernel)",
   "language": "python",
   "name": "python3"
  },
  "language_info": {
   "codemirror_mode": {
    "name": "ipython",
    "version": 3
   },
   "file_extension": ".py",
   "mimetype": "text/x-python",
   "name": "python",
   "nbconvert_exporter": "python",
   "pygments_lexer": "ipython3",
   "version": "3.12.2"
  }
 },
 "nbformat": 4,
 "nbformat_minor": 5
}
