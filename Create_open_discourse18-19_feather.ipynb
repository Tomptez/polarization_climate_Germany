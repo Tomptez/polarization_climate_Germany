{
 "cells": [
  {
   "cell_type": "code",
   "execution_count": 1,
   "id": "93fa21c8-2a5d-4ed7-bb1a-a47631dea797",
   "metadata": {},
   "outputs": [],
   "source": [
    "%matplotlib inline\n",
    "import pandas as pd\n",
    "import numpy as np\n",
    "import datetime\n",
    "import re\n",
    "from matplotlib import pyplot as plt\n",
    "pd.set_option(\"display.max_columns\", 200)\n",
    "pd.set_option(\"display.max_rows\", 400)\n",
    "pd.set_option(\"display.max_colwidth\", None) # None for all of it"
   ]
  },
  {
   "cell_type": "code",
   "execution_count": 2,
   "id": "4d160515-f562-49b3-bc8a-f4792ea5295a",
   "metadata": {},
   "outputs": [
    {
     "data": {
      "text/plain": [
       "(919523, 10)"
      ]
     },
     "execution_count": 2,
     "metadata": {},
     "output_type": "execute_result"
    }
   ],
   "source": [
    "df = pd.read_feather(\"data/opendiscourse/speeches.feather\")\n",
    "df.head()\n",
    "df.shape"
   ]
  },
  {
   "cell_type": "code",
   "execution_count": 3,
   "id": "638273d9-b844-4626-a860-40ef539bbbca",
   "metadata": {},
   "outputs": [
    {
     "data": {
      "text/plain": [
       "(116685, 10)"
      ]
     },
     "execution_count": 3,
     "metadata": {},
     "output_type": "execute_result"
    }
   ],
   "source": [
    "df_1819 = df[(df[\"electoral_term\"]==19) | (df[\"electoral_term\"] == 18)]\n",
    "df_1819.shape"
   ]
  },
  {
   "cell_type": "code",
   "execution_count": 33,
   "id": "bd581ddd-85d2-47b3-9503-29b8ba6f177b",
   "metadata": {},
   "outputs": [
    {
     "data": {
      "text/plain": [
       "'Nächste Rednerin ist die Kollegin Agnieszka\\n\\nBrugger, Bündnis 90/Die Grünen. - Bitte schön.\\n\\n'"
      ]
     },
     "execution_count": 33,
     "metadata": {},
     "output_type": "execute_result"
    }
   ],
   "source": [
    "tmp = testdf[testdf[\"session\"] == 3]\n",
    "tmp.sample()[\"speech_content\"].values[0]"
   ]
  },
  {
   "cell_type": "code",
   "execution_count": 10,
   "id": "963bffcf-2c3c-491a-b940-afb9385b0e4f",
   "metadata": {},
   "outputs": [
    {
     "data": {
      "text/plain": [
       "(116685, 10)"
      ]
     },
     "execution_count": 10,
     "metadata": {},
     "output_type": "execute_result"
    }
   ],
   "source": [
    "# Remove all \\n and paragraph notations\n",
    "df_1819.loc[:, \"speech_content\"] = df_1819.speech_content.str.replace(r\"\\n+\", \" \", regex=True)\n",
    "df_1819.loc[:, \"speech_content\"] = df_1819.speech_content.str.replace(r\"\\({\\d+}\\)\", \" \", regex=True)\n",
    "df_1819.shape"
   ]
  },
  {
   "cell_type": "code",
   "execution_count": 12,
   "id": "7748c43e-3d6e-4084-a2b1-afa28c5b7552",
   "metadata": {},
   "outputs": [
    {
     "data": {
      "text/html": [
       "<div>\n",
       "<style scoped>\n",
       "    .dataframe tbody tr th:only-of-type {\n",
       "        vertical-align: middle;\n",
       "    }\n",
       "\n",
       "    .dataframe tbody tr th {\n",
       "        vertical-align: top;\n",
       "    }\n",
       "\n",
       "    .dataframe thead th {\n",
       "        text-align: right;\n",
       "    }\n",
       "</style>\n",
       "<table border=\"1\" class=\"dataframe\">\n",
       "  <thead>\n",
       "    <tr style=\"text-align: right;\">\n",
       "      <th></th>\n",
       "      <th>id</th>\n",
       "      <th>name</th>\n",
       "      <th>last_name</th>\n",
       "    </tr>\n",
       "  </thead>\n",
       "  <tbody>\n",
       "    <tr>\n",
       "      <th>0</th>\n",
       "      <td>11000001</td>\n",
       "      <td>Manfred Abelein</td>\n",
       "      <td>Abelein</td>\n",
       "    </tr>\n",
       "    <tr>\n",
       "      <th>1</th>\n",
       "      <td>11000002</td>\n",
       "      <td>Ernst Achenbach</td>\n",
       "      <td>Achenbach</td>\n",
       "    </tr>\n",
       "  </tbody>\n",
       "</table>\n",
       "</div>"
      ],
      "text/plain": [
       "         id             name  last_name\n",
       "0  11000001  Manfred Abelein    Abelein\n",
       "1  11000002  Ernst Achenbach  Achenbach"
      ]
     },
     "execution_count": 12,
     "metadata": {},
     "output_type": "execute_result"
    }
   ],
   "source": [
    "kl = pd.read_feather(\"data/opendiscourse/politicians.feather\")\n",
    "kl[\"name\"] = kl[\"first_name\"] + \" \" + kl[\"last_name\"]\n",
    "kl = kl[[\"id\", \"name\", \"last_name\"]]\n",
    "kl.head(1)"
   ]
  },
  {
   "cell_type": "code",
   "execution_count": 13,
   "id": "4775295b-cf13-4c96-b0e1-67f7c6349109",
   "metadata": {},
   "outputs": [],
   "source": [
    "df_1819 = df_1819.merge(kl, left_on='politician_id', right_on='id')"
   ]
  },
  {
   "cell_type": "code",
   "execution_count": 14,
   "id": "44302518-16f6-4782-88d8-5f78279d1a2b",
   "metadata": {},
   "outputs": [
    {
     "data": {
      "text/plain": [
       "(116685, 13)"
      ]
     },
     "execution_count": 14,
     "metadata": {},
     "output_type": "execute_result"
    }
   ],
   "source": [
    "df_1819.shape"
   ]
  },
  {
   "cell_type": "code",
   "execution_count": 15,
   "id": "7e9d2c1e-c00a-424b-b56f-35d273934f1f",
   "metadata": {},
   "outputs": [],
   "source": [
    "fct = pd.read_feather(\"data/opendiscourse/factions.feather\")"
   ]
  },
  {
   "cell_type": "code",
   "execution_count": 16,
   "id": "b1e738fa-78d4-4174-abf1-48fb8e159122",
   "metadata": {},
   "outputs": [],
   "source": [
    "fct = fct[[\"id\", \"abbreviation\"]]\n",
    "fct.columns = ['id', 'party']"
   ]
  },
  {
   "cell_type": "code",
   "execution_count": 17,
   "id": "02e5e3e4-c103-43b4-aafb-5b584b479d1d",
   "metadata": {},
   "outputs": [],
   "source": [
    "fct.loc[fct[\"party\"] == \"DIE LINKE.\", \"party\"] = \"DIE LINKE\"\n",
    "fct.loc[fct[\"party\"] == \"Grüne\", \"party\"] = \"GRUENE\""
   ]
  },
  {
   "cell_type": "code",
   "execution_count": 18,
   "id": "b6721847-aabf-4049-8a11-f06b04f29829",
   "metadata": {},
   "outputs": [],
   "source": [
    "df_1819 = df_1819.merge(fct, left_on='faction_id', right_on='id')"
   ]
  },
  {
   "cell_type": "code",
   "execution_count": 19,
   "id": "c6303be9-9a04-45cf-8e5c-c885b88cad1d",
   "metadata": {},
   "outputs": [
    {
     "data": {
      "text/plain": [
       "(116685, 15)"
      ]
     },
     "execution_count": 19,
     "metadata": {},
     "output_type": "execute_result"
    }
   ],
   "source": [
    "df_1819.shape"
   ]
  },
  {
   "cell_type": "code",
   "execution_count": 23,
   "id": "fd27d56c-9c79-4af6-b844-d809873b1a4a",
   "metadata": {},
   "outputs": [],
   "source": [
    "df_1819.reset_index().to_feather(\"data/open_discourse_1819.feather\")"
   ]
  },
  {
   "cell_type": "code",
   "execution_count": null,
   "id": "c68a5d50-f662-4c0b-9614-cb596f2efbfc",
   "metadata": {},
   "outputs": [],
   "source": []
  }
 ],
 "metadata": {
  "kernelspec": {
   "display_name": "Python 3 (ipykernel)",
   "language": "python",
   "name": "python3"
  },
  "language_info": {
   "codemirror_mode": {
    "name": "ipython",
    "version": 3
   },
   "file_extension": ".py",
   "mimetype": "text/x-python",
   "name": "python",
   "nbconvert_exporter": "python",
   "pygments_lexer": "ipython3",
   "version": "3.12.2"
  }
 },
 "nbformat": 4,
 "nbformat_minor": 5
}
