{
 "cells": [
  {
   "cell_type": "code",
   "execution_count": 2,
   "id": "92645ad4-88db-42e5-aaa2-c9625a9d7de1",
   "metadata": {},
   "outputs": [],
   "source": [
    "%matplotlib inline\n",
    "\n",
    "import pandas as pd\n",
    "import numpy as np\n",
    "import datetime\n",
    "import plotly.express as px\n",
    "\n",
    "#old\n",
    "from matplotlib import pyplot as plt\n",
    "import matplotlib.pyplot as plt\n",
    "from matplotlib.dates import DateFormatter\n",
    "import matplotlib.ticker as ticker\n",
    "\n",
    "\n",
    "pd.set_option(\"display.max_columns\", 200)\n",
    "pd.set_option(\"display.max_rows\", 400)\n",
    "pd.set_option(\"display.max_colwidth\", None) # None for all of it"
   ]
  },
  {
   "cell_type": "code",
   "execution_count": 8,
   "id": "61d7be26-8144-4f4c-8ea4-84f2187140bc",
   "metadata": {},
   "outputs": [],
   "source": [
    "dfpred = pd.read_csv(\"popbert_predictions.csv\", header=None)"
   ]
  },
  {
   "cell_type": "code",
   "execution_count": 9,
   "id": "4d58a627-689f-4aa9-837f-0eefb387472b",
   "metadata": {},
   "outputs": [],
   "source": [
    "dfpred = dfpred.rename(columns={0:\"sent_id\", 1: \"speech_id\", 2:\"elite\", 3:\"pplcenter\", 4:\"pleft\", 5:\"pright\"}) "
   ]
  },
  {
   "cell_type": "code",
   "execution_count": 10,
   "id": "fb0cee7e-ca2f-474e-8f0a-1897721c11e5",
   "metadata": {},
   "outputs": [
    {
     "name": "stdout",
     "output_type": "stream",
     "text": [
      "10830\n"
     ]
    },
    {
     "data": {
      "text/html": [
       "<div>\n",
       "<style scoped>\n",
       "    .dataframe tbody tr th:only-of-type {\n",
       "        vertical-align: middle;\n",
       "    }\n",
       "\n",
       "    .dataframe tbody tr th {\n",
       "        vertical-align: top;\n",
       "    }\n",
       "\n",
       "    .dataframe thead th {\n",
       "        text-align: right;\n",
       "    }\n",
       "</style>\n",
       "<table border=\"1\" class=\"dataframe\">\n",
       "  <thead>\n",
       "    <tr style=\"text-align: right;\">\n",
       "      <th></th>\n",
       "      <th>sent_id</th>\n",
       "      <th>speech_id</th>\n",
       "      <th>elite</th>\n",
       "      <th>pplcenter</th>\n",
       "      <th>pleft</th>\n",
       "      <th>pright</th>\n",
       "    </tr>\n",
       "  </thead>\n",
       "  <tbody>\n",
       "    <tr>\n",
       "      <th>0</th>\n",
       "      <td>1539199</td>\n",
       "      <td>63255</td>\n",
       "      <td>0.777875</td>\n",
       "      <td>0.003340</td>\n",
       "      <td>0.011004</td>\n",
       "      <td>0.010842</td>\n",
       "    </tr>\n",
       "    <tr>\n",
       "      <th>1</th>\n",
       "      <td>945676</td>\n",
       "      <td>37018</td>\n",
       "      <td>0.005020</td>\n",
       "      <td>0.008902</td>\n",
       "      <td>0.006324</td>\n",
       "      <td>0.004043</td>\n",
       "    </tr>\n",
       "    <tr>\n",
       "      <th>2</th>\n",
       "      <td>945677</td>\n",
       "      <td>37018</td>\n",
       "      <td>0.004757</td>\n",
       "      <td>0.022558</td>\n",
       "      <td>0.005053</td>\n",
       "      <td>0.004308</td>\n",
       "    </tr>\n",
       "    <tr>\n",
       "      <th>3</th>\n",
       "      <td>945682</td>\n",
       "      <td>37018</td>\n",
       "      <td>0.010890</td>\n",
       "      <td>0.014177</td>\n",
       "      <td>0.007831</td>\n",
       "      <td>0.005050</td>\n",
       "    </tr>\n",
       "    <tr>\n",
       "      <th>4</th>\n",
       "      <td>1043211</td>\n",
       "      <td>41517</td>\n",
       "      <td>0.978646</td>\n",
       "      <td>0.028618</td>\n",
       "      <td>0.989022</td>\n",
       "      <td>0.028499</td>\n",
       "    </tr>\n",
       "  </tbody>\n",
       "</table>\n",
       "</div>"
      ],
      "text/plain": [
       "   sent_id  speech_id     elite  pplcenter     pleft    pright\n",
       "0  1539199      63255  0.777875   0.003340  0.011004  0.010842\n",
       "1   945676      37018  0.005020   0.008902  0.006324  0.004043\n",
       "2   945677      37018  0.004757   0.022558  0.005053  0.004308\n",
       "3   945682      37018  0.010890   0.014177  0.007831  0.005050\n",
       "4  1043211      41517  0.978646   0.028618  0.989022  0.028499"
      ]
     },
     "execution_count": 10,
     "metadata": {},
     "output_type": "execute_result"
    }
   ],
   "source": [
    "print(dfpred.shape[0])\n",
    "dfpred.head()"
   ]
  },
  {
   "cell_type": "code",
   "execution_count": 11,
   "id": "4b78dc3e-de3e-45d9-ad86-a146923d18f4",
   "metadata": {},
   "outputs": [
    {
     "name": "stdout",
     "output_type": "stream",
     "text": [
      "number of populist sentences:\n",
      "33\n"
     ]
    }
   ],
   "source": [
    "print(\"number of populist sentences:\")\n",
    "print(dfpred[(dfpred[\"elite\"] > 0.41596) & (dfpred[\"pplcenter\"] > 0.2954)].shape[0])"
   ]
  },
  {
   "cell_type": "code",
   "execution_count": 13,
   "id": "091d25aa-6c9c-467d-9a70-1a3be55aabb1",
   "metadata": {},
   "outputs": [
    {
     "name": "stdout",
     "output_type": "stream",
     "text": [
      "17015\n"
     ]
    },
    {
     "data": {
      "text/html": [
       "<div>\n",
       "<style scoped>\n",
       "    .dataframe tbody tr th:only-of-type {\n",
       "        vertical-align: middle;\n",
       "    }\n",
       "\n",
       "    .dataframe tbody tr th {\n",
       "        vertical-align: top;\n",
       "    }\n",
       "\n",
       "    .dataframe thead th {\n",
       "        text-align: right;\n",
       "    }\n",
       "</style>\n",
       "<table border=\"1\" class=\"dataframe\">\n",
       "  <thead>\n",
       "    <tr style=\"text-align: right;\">\n",
       "      <th></th>\n",
       "      <th>level_0</th>\n",
       "      <th>sent_id</th>\n",
       "      <th>speech_id</th>\n",
       "      <th>name</th>\n",
       "      <th>electoral_term</th>\n",
       "      <th>party</th>\n",
       "      <th>role</th>\n",
       "      <th>date</th>\n",
       "      <th>session</th>\n",
       "      <th>sentence_no</th>\n",
       "      <th>sentence_length</th>\n",
       "      <th>sentence</th>\n",
       "    </tr>\n",
       "  </thead>\n",
       "  <tbody>\n",
       "    <tr>\n",
       "      <th>0</th>\n",
       "      <td>1048590</td>\n",
       "      <td>1539199</td>\n",
       "      <td>63255</td>\n",
       "      <td>Sebastian Brehm</td>\n",
       "      <td>19</td>\n",
       "      <td>CSU</td>\n",
       "      <td>mp</td>\n",
       "      <td>2021-03-04</td>\n",
       "      <td>215</td>\n",
       "      <td>24</td>\n",
       "      <td>13</td>\n",
       "      <td>Für Sie gibt es keine Klimakrise, also wollen Sie alle diese Mehrkosten abschaffen.</td>\n",
       "    </tr>\n",
       "    <tr>\n",
       "      <th>1</th>\n",
       "      <td>655395</td>\n",
       "      <td>945676</td>\n",
       "      <td>37018</td>\n",
       "      <td>Ralph Lenkert</td>\n",
       "      <td>19</td>\n",
       "      <td>DIE LINKE</td>\n",
       "      <td>mp</td>\n",
       "      <td>2018-10-18</td>\n",
       "      <td>58</td>\n",
       "      <td>7</td>\n",
       "      <td>7</td>\n",
       "      <td>Für die Energiewende brauchen wir diese Anlagen.</td>\n",
       "    </tr>\n",
       "  </tbody>\n",
       "</table>\n",
       "</div>"
      ],
      "text/plain": [
       "   level_0  sent_id  speech_id             name  electoral_term      party  \\\n",
       "0  1048590  1539199      63255  Sebastian Brehm              19        CSU   \n",
       "1   655395   945676      37018    Ralph Lenkert              19  DIE LINKE   \n",
       "\n",
       "  role       date  session  sentence_no  sentence_length  \\\n",
       "0   mp 2021-03-04      215           24               13   \n",
       "1   mp 2018-10-18       58            7                7   \n",
       "\n",
       "                                                                              sentence  \n",
       "0  Für Sie gibt es keine Klimakrise, also wollen Sie alle diese Mehrkosten abschaffen.  \n",
       "1                                     Für die Energiewende brauchen wir diese Anlagen.  "
      ]
     },
     "execution_count": 13,
     "metadata": {},
     "output_type": "execute_result"
    }
   ],
   "source": [
    "ds = pd.read_feather(\"data/sentences_climate.feather\")\n",
    "print(ds.shape[0])\n",
    "ds.head(2)"
   ]
  },
  {
   "cell_type": "code",
   "execution_count": 16,
   "id": "fa531ef5-3873-4822-a194-920356702bba",
   "metadata": {},
   "outputs": [],
   "source": [
    "df = dfpred.merge(ds, on=\"sent_id\")"
   ]
  },
  {
   "cell_type": "code",
   "execution_count": 18,
   "id": "4b788ef6-05b5-4853-87b0-d7d3c83b29b7",
   "metadata": {},
   "outputs": [
    {
     "data": {
      "text/html": [
       "<div>\n",
       "<style scoped>\n",
       "    .dataframe tbody tr th:only-of-type {\n",
       "        vertical-align: middle;\n",
       "    }\n",
       "\n",
       "    .dataframe tbody tr th {\n",
       "        vertical-align: top;\n",
       "    }\n",
       "\n",
       "    .dataframe thead th {\n",
       "        text-align: right;\n",
       "    }\n",
       "</style>\n",
       "<table border=\"1\" class=\"dataframe\">\n",
       "  <thead>\n",
       "    <tr style=\"text-align: right;\">\n",
       "      <th></th>\n",
       "      <th>sent_id</th>\n",
       "      <th>speech_id_x</th>\n",
       "      <th>elite</th>\n",
       "      <th>pplcenter</th>\n",
       "      <th>pleft</th>\n",
       "      <th>pright</th>\n",
       "      <th>level_0</th>\n",
       "      <th>speech_id_y</th>\n",
       "      <th>name</th>\n",
       "      <th>electoral_term</th>\n",
       "      <th>party</th>\n",
       "      <th>role</th>\n",
       "      <th>date</th>\n",
       "      <th>session</th>\n",
       "      <th>sentence_no</th>\n",
       "      <th>sentence_length</th>\n",
       "      <th>sentence</th>\n",
       "    </tr>\n",
       "  </thead>\n",
       "  <tbody>\n",
       "    <tr>\n",
       "      <th>7287</th>\n",
       "      <td>1205769</td>\n",
       "      <td>48647</td>\n",
       "      <td>0.011403</td>\n",
       "      <td>0.005798</td>\n",
       "      <td>0.004484</td>\n",
       "      <td>0.00294</td>\n",
       "      <td>830633</td>\n",
       "      <td>48647</td>\n",
       "      <td>Katja Hessel</td>\n",
       "      <td>19</td>\n",
       "      <td>FDP</td>\n",
       "      <td>mp</td>\n",
       "      <td>2019-11-15</td>\n",
       "      <td>128</td>\n",
       "      <td>7</td>\n",
       "      <td>23</td>\n",
       "      <td>Viele der Maßnahmen aus dem Klimaschutzpaket werden wir wieder mal einer gerichtlichen Überprüfung unterziehen, und das Bundesverfassungsgericht wird entscheiden, was wir hier tun.</td>\n",
       "    </tr>\n",
       "  </tbody>\n",
       "</table>\n",
       "</div>"
      ],
      "text/plain": [
       "      sent_id  speech_id_x     elite  pplcenter     pleft   pright  level_0  \\\n",
       "7287  1205769        48647  0.011403   0.005798  0.004484  0.00294   830633   \n",
       "\n",
       "      speech_id_y          name  electoral_term party role       date  \\\n",
       "7287        48647  Katja Hessel              19   FDP   mp 2019-11-15   \n",
       "\n",
       "      session  sentence_no  sentence_length  \\\n",
       "7287      128            7               23   \n",
       "\n",
       "                                                                                                                                                                                  sentence  \n",
       "7287  Viele der Maßnahmen aus dem Klimaschutzpaket werden wir wieder mal einer gerichtlichen Überprüfung unterziehen, und das Bundesverfassungsgericht wird entscheiden, was wir hier tun.  "
      ]
     },
     "execution_count": 18,
     "metadata": {},
     "output_type": "execute_result"
    }
   ],
   "source": [
    "df.sample()"
   ]
  },
  {
   "cell_type": "code",
   "execution_count": 23,
   "id": "5eb4cc43-4320-41e5-b718-634c7abbc14e",
   "metadata": {},
   "outputs": [
    {
     "data": {
      "text/html": [
       "<div>\n",
       "<style scoped>\n",
       "    .dataframe tbody tr th:only-of-type {\n",
       "        vertical-align: middle;\n",
       "    }\n",
       "\n",
       "    .dataframe tbody tr th {\n",
       "        vertical-align: top;\n",
       "    }\n",
       "\n",
       "    .dataframe thead th {\n",
       "        text-align: right;\n",
       "    }\n",
       "</style>\n",
       "<table border=\"1\" class=\"dataframe\">\n",
       "  <thead>\n",
       "    <tr style=\"text-align: right;\">\n",
       "      <th></th>\n",
       "      <th>elite</th>\n",
       "      <th>pplcenter</th>\n",
       "      <th>pleft</th>\n",
       "      <th>pright</th>\n",
       "    </tr>\n",
       "    <tr>\n",
       "      <th>party</th>\n",
       "      <th></th>\n",
       "      <th></th>\n",
       "      <th></th>\n",
       "      <th></th>\n",
       "    </tr>\n",
       "  </thead>\n",
       "  <tbody>\n",
       "    <tr>\n",
       "      <th>AfD</th>\n",
       "      <td>0.378565</td>\n",
       "      <td>0.016890</td>\n",
       "      <td>0.056444</td>\n",
       "      <td>0.105646</td>\n",
       "    </tr>\n",
       "    <tr>\n",
       "      <th>DIE LINKE</th>\n",
       "      <td>0.197635</td>\n",
       "      <td>0.037661</td>\n",
       "      <td>0.074362</td>\n",
       "      <td>0.011758</td>\n",
       "    </tr>\n",
       "    <tr>\n",
       "      <th>FDP</th>\n",
       "      <td>0.129683</td>\n",
       "      <td>0.014645</td>\n",
       "      <td>0.020580</td>\n",
       "      <td>0.009960</td>\n",
       "    </tr>\n",
       "    <tr>\n",
       "      <th>GRUENE</th>\n",
       "      <td>0.206015</td>\n",
       "      <td>0.019395</td>\n",
       "      <td>0.035971</td>\n",
       "      <td>0.008963</td>\n",
       "    </tr>\n",
       "    <tr>\n",
       "      <th>CDU</th>\n",
       "      <td>0.053587</td>\n",
       "      <td>0.018265</td>\n",
       "      <td>0.009524</td>\n",
       "      <td>0.007621</td>\n",
       "    </tr>\n",
       "    <tr>\n",
       "      <th>SPD</th>\n",
       "      <td>0.055292</td>\n",
       "      <td>0.023349</td>\n",
       "      <td>0.012750</td>\n",
       "      <td>0.006576</td>\n",
       "    </tr>\n",
       "    <tr>\n",
       "      <th>CSU</th>\n",
       "      <td>0.033410</td>\n",
       "      <td>0.018741</td>\n",
       "      <td>0.006548</td>\n",
       "      <td>0.005535</td>\n",
       "    </tr>\n",
       "  </tbody>\n",
       "</table>\n",
       "</div>"
      ],
      "text/plain": [
       "              elite  pplcenter     pleft    pright\n",
       "party                                             \n",
       "AfD        0.378565   0.016890  0.056444  0.105646\n",
       "DIE LINKE  0.197635   0.037661  0.074362  0.011758\n",
       "FDP        0.129683   0.014645  0.020580  0.009960\n",
       "GRUENE     0.206015   0.019395  0.035971  0.008963\n",
       "CDU        0.053587   0.018265  0.009524  0.007621\n",
       "SPD        0.055292   0.023349  0.012750  0.006576\n",
       "CSU        0.033410   0.018741  0.006548  0.005535"
      ]
     },
     "execution_count": 23,
     "metadata": {},
     "output_type": "execute_result"
    }
   ],
   "source": [
    "df.groupby(\"party\")[[\"elite\", \"pplcenter\", \"pleft\", \"pright\"]].mean().sort_values(by=\"pright\", ascending=False)"
   ]
  },
  {
   "cell_type": "code",
   "execution_count": 24,
   "id": "a47e5382-46c6-46b9-a899-70487dca3263",
   "metadata": {},
   "outputs": [
    {
     "data": {
      "text/plain": [
       "(1669, 17)"
      ]
     },
     "execution_count": 24,
     "metadata": {},
     "output_type": "execute_result"
    }
   ],
   "source": [
    "dff = df[(df[\"elite\"] > 0.41596)]\n",
    "dff.shape"
   ]
  },
  {
   "cell_type": "code",
   "execution_count": 26,
   "id": "527092aa-53fd-4608-8540-140c06f43c45",
   "metadata": {},
   "outputs": [
    {
     "data": {
      "text/plain": [
       "party\n",
       "CSU           25\n",
       "CDU           75\n",
       "SPD           94\n",
       "FDP          168\n",
       "DIE LINKE    241\n",
       "GRUENE       481\n",
       "AfD          585\n",
       "Name: elite, dtype: int64"
      ]
     },
     "execution_count": 26,
     "metadata": {},
     "output_type": "execute_result"
    }
   ],
   "source": [
    "dff.groupby(\"party\").elite.count().sort_values()"
   ]
  },
  {
   "cell_type": "code",
   "execution_count": 28,
   "id": "bd63932d-1fc3-41ce-b077-0ffba73a17ef",
   "metadata": {},
   "outputs": [
    {
     "data": {
      "text/plain": [
       "5802                                                                                                                                                Das Chaos, das Sie allein mit dem Klimapaket angerichtet haben, die schlampige Gesetzgebung, über die sich die gesamte Wirtschaft beschwert, sind das Gegenteil von zukunftsfähiger Politik.\n",
       "2612                                                                                                                                                                                                                                                                      Trotzdem fehlt der Großen Koalition der Mut für wirksamen Klimaschutz.\n",
       "6447                                                                                                                                                                                                                       Sie uns daher bitte in Zukunft mit Ihrer Klimahetze, mit Ihrem Gleichstellungswahn und Ihren Weltenrettungsfantasien!\n",
       "9290                                     Nach über 20 Jahren Forschung, dem Vergeuden von zig Milliarden D-Mark und Euro haben Sie kein Ergebnis vorzuweisen, kein noch so kleines Jota an Daten, die einen mikroskopisch kleinen Rückgang an CO2 oder der Temperatur als Lohn der Mühen und der Belastungen der Bevölkerung aufzeigen – nichts.\n",
       "691                                                                                                                                                                                                                       Dass sich die FDP nun auch zu den klimapolitischen Geisterfahrern in diesem Haus gesellt, hat der heutige Tag gezeigt.\n",
       "555                                                                                                                                                                                            Anstelle sich mit der Heimat zu identifizieren, sollen nun neue Ideologien wie der Klimawandel dafür herhalten, unsere Gesellschaft zu begründen.\n",
       "5697                                                                                                                                                                                                                                                                     Die Reform gaukelt den Menschen vor, Plug-in-Hybride seien Klimaretter.\n",
       "3560                                        Wo waren Sie eigentlich, als Frau Klöckner in Brüssel den Mehrjährigen Finanzrahmen für die europäischen Agrargelder verhandelt hat, wo es sogar einen Rückschritt gibt in Bezug auf die Umwelt- und Klimapolitik, wo vor allen Dingen Großgrundbesitzer bevorteilt werden ohne ökologische Bindung?\n",
       "8342                                                                                                                                                                                       Damit die Autobauer der Regierung bei der Hardwarenachrüstung entgegenkommen, wollen sich die zuständigen Politiker bei den CO2-Zielen gnädig zeigen.\n",
       "738                                                                                                                    Mit dem Ansatz, den Sie hier eben für die Mobilitätsbranche versucht haben zu implementieren, nämlich in der Entwicklungsphase auf Kosten zu achten, wären wir beim großen Projekt der Energiewende kläglich gescheitert.\n",
       "8613                                                                                                             Und Sie von der Regierung blockieren das, vernichten durch die Elektromobilität Millionen von Arbeitsplätzen und führen stattdessen eine CO2-Steuer ein, die Sie heute noch vor ihrer Einführung um 150 Prozent erhöhen wollen.\n",
       "3290                                                                                                                                                                                                                                                                                                    Das ganze Klimakapitel ist ein Desaster.\n",
       "4100                                                                                                                                                                                       Sowohl die Digitalisierung wie auch die Energiewende zeigen uns, dass der Entwurf Ihres Einzelplans leider farblos, kraftlos und ohne Ambitionen ist.\n",
       "3938                                                                                                                                    Nehmen wir nur einmal einen Mittelwert von 1 000 Kubikmetern pro Windrad an, so haben unsere sogenannten Klimaschützer, also Sie, eine 6 860 Kilometer lange vierspurige Autobahn unter die Erde gelegt.\n",
       "223                                                                                                Wir müssen die Bürgerinnen und Bürger entlasten, und wir müssen dafür sorgen, dass es nicht zu unnötigen Belastungen kommt, indem wir Maßnahmen vorsehen, die nicht dem Klimaschutz dienen, aber den Menschen das Geld aus der Tasche ziehen.\n",
       "3292                                                                                                                                                                                                                                   Das ist nicht nur eine schlechte Klimapolitik, liebe FDP, das ist eine menschenrechtsverachtende Politik.\n",
       "489                                                                                                                                                                                                                                                Auch Ihre fehlgeleitete Klimaschutz- und Energiewendepolitik wird uns teuer zu stehen kommen.\n",
       "6985                                                                                                                                                                                                         Sie kommt nicht voran beim Kohleausstieg, bei der Verkehrswende, bei der Wärmewende, bei der Agrarwende – in allen Bereichen nicht.\n",
       "4343                                                                                                                                                                                                                                Die Energiewende geht einher mit Halbwahrheiten der Protagonisten, mit Falschnachrichten und auch mit Lügen.\n",
       "3806                                                                                                                                                                                                                             Den Einfluss des Menschen auf Klimaveränderungen zu leugnen, zeugt vielmehr von höchster Ignoranz und Dummheit.\n",
       "3844                                                                                                                                                                                                                                                                                   Beim Klima haben Sie ein großes Schweigekartell gebildet.\n",
       "9003                                                                  Dass Sie jetzt hier in Berlin über den Kohleausstieg verhandeln und dort zulassen, dass auf dem Rücken von Tausenden von Polizisten Fakten geschaffen werden, können Sie den Menschen nicht erklären, und das fliegt Ihnen im Moment gerade gesellschaftlich um die Ohren.\n",
       "3322                                                                                                                                                                                                                                                                     Mit diesem versuchen Sie, Ihre gescheiterte Energiewende zu kaschieren.\n",
       "9393                                                                                                                                                                          Aber wie lange wird diese Position halten, wenn die finanzpolitischen Lockrufe der Klimarettung zu hören sind oder gar das neue Modewort „Verkehrswende“ erklingt?\n",
       "1321                                                                                                                                                                                            Der größte CO2-Speicher muss unter Ihrem Deckmantel der CO2-Einsparung gerodet werden, um dann eine CO2-arme Energieform in den Wald zu stellen.\n",
       "7909    Die Bundeskanzlerin bekommt jetzt die Quittung für die illusorische Energiewende samt dem überstürzten Atomausstieg, für das eingetrübte Verhältnis zu den USA und das ungeklärte zu Russland, für die Verärgerung der Ost- und Südosteuropäer durch deutsche Schulmeisterei und Ignoranz, also für viele Jahre diplomatische Stümperei.\n",
       "6696                                                                Ich nehme mit Erstaunen zur Kenntnis, dass ausgerechnet die Partei, die ja an anderen Stellen vorgibt, für kleine Leute zu sprechen, die Kohleindustrie, die Autoindustrie, also diejenigen, die das Klima kaputtmachen und unsere Lebensgrundlage zerstören, schützen will.\n",
       "8149                                                                                                                                              Auch völlig überhöhte Abstände zu Funkfeuern der Flugverkehrsüberwachung stehen der Energiewende im Weg, und seit Jahren geht es da zwischen Wirtschafts- und Verkehrsministerium nicht voran.\n",
       "9109                                                                                                                                                                                                                                                Stattdessen werden Sie uns wieder als Populisten, Klimaleugner oder Schlimmeres beschimpfen.\n",
       "7416                                                                                                                                                    Da ist es doch tausendmal besser, jetzt Planungssicherheit für Klima und für die Region zu schaffen, statt zu warten, bis die LEAG irgendwann von heute auf morgen den Laden dichtmacht.\n",
       "4656                                                                               Die Bundesregierung und das Verkehrsministerium haben berechnet, dass der von ihnen gewählte betonlastige Investitionspfad die CO2-Emissionen erheblich steigern wird, die Schadstoffemissionen erhöhen wird und die Naturschutzgebiete beeinträchtigen wird.\n",
       "9219                                                                                                                                                                                                                                                                                    Herr Jongen redet von „wahnhafter Klimarettungspolitik“.\n",
       "8353                                                                                                                                                                                                                      Klimaschutzpolitik ist einfach nur ein schwarzes Loch, in dem die Steuermilliarden auf Nimmerwiedersehen verschwinden.\n",
       "4720                                                                                                                                                                                                                                                  Es ist Ihnen nicht ernst, das 2020-Klimaschutzziel auch nur im Entferntesten zu erreichen.\n",
       "9371                                                                                                     Denn jedes Mal, wenn Ihre Energiewendechampions Wind und Sonne ins Stottern geraten, dann springen französische Kernkraftwerke in die Bresche, um Deutschland und allen voran das grüne Baden-Württemberg vor dem Blackout zu bewahren.\n",
       "7017                                                                                 Da ist von Erderhitzung statt ‑erwärmung die Rede, von „ökologischen Kipppunkten“, als ob die Welt morgen unterginge, wenn sie nicht durch sofortiges Handeln aller im Sinne des Grünsozialismus – man kann es auch Ökoterror nennen – davor bewahrt würde.\n",
       "5750                                                            Aber anstatt nun Deutschland für die Herausforderungen der Zukunft wie Klimakrise, saubere Luft und emissionsfreie Mobilität für alle fit zu machen, klammern Sie sich genauso wie Generationen von Verkehrsministern an Beton, Blechkarawanen und freie Fahrt für freie Bürger.\n",
       "4235                                                                                                                                                                                               Speziell wir als AfD-Fraktion haben Ihre für die Autoindustrie katastrophale CO2-Gesetzgebung hier in diesem Hause etliche Male angeprangert.\n",
       "3648                                                 Der Kommissionsvizepräsident bescheinigt Ihnen, dass Sie mit Ihren Ratsvorschlägen zur Gemeinsamen Agrarpolitik – ich zitiere – „festhalten an einer Agrarpolitik, die nicht nachhaltig ist“ und dass Sie damit nichts zur Bekämpfung der Klimakrise und des Artensterbens geliefert haben.\n",
       "8902                                                                                                                                                                                Für Ihren Beitrag zum sogenannten Klimaschutz sind Sie bereit, andere, im Gegensatz dazu ganz reale Nachhaltigkeitsziele und Indikatoren zu vernachlässigen.\n",
       "5636                                                                                                                                                                                                                                            Ihr Klimapäckchen ist nicht mal in der Lage, das deutsche Klimaziel von 55 Prozent zu erreichen.\n",
       "6477                                                                                                                                                                                                                    Zum Klimaschutzfonds wird meine Kollegin Badum noch ausführen, aber in den anderen Bereichen bleiben Sie komplett blank.\n",
       "2662                                                                                                                                                                                       Die Energiewende ist eine gigantische Umverteilung von der Bevölkerung, vom kleinen Mann hin nach oben zu den Windparkbetreibern und den Unternehmen.\n",
       "1281                                                                                                                                                                                                                                                     Herausgekommen ist dabei, wie leider schon beim Klimakabinett, viel zu viel heiße Luft.\n",
       "3640                                                                                                                                                                                          Das sind doch zum größten Teil die grün-getriebenen Strom- und Wärme- und Energiewenden der letzten Zeit gewesen, mit EEG-Umlagen noch und nöcher.\n",
       "8904                                                                                                                                                                                                                                Die Rechtspopulisten, die die Klimakrise unterschätzen und leugnen, haben auch die Coronakrise unterschätzt.\n",
       "3187                                                                                                                Das größere Problem wird allerdings der Klimawandel sein, falsch, genauer gesagt, die Folgen der politischen Entscheidungen der Regierung, die im Zuge der Klimahysterie bereits getroffen wurden und noch getroffen werden.\n",
       "3281                                                                                                                                                                                                                 Der nächste Erfolg – und ich hoffe, Sie verstehen folgende Ironie –, den Sie uns verkaufen wollen, ist der Emissionshandel.\n",
       "4329                                                                                                                                         Eine ganze Fülle von Einzelmaßnahmen und einen nationalen Emissionshandel mit Festpreis, der, wenn wir ehrlich sind, nichts weiter ist als eine verkappte CO2-Steuer ohne jegliche Lenkungswirkung!\n",
       "4648                                                                                                                                                                                                                      Sie fordern also implizit einen höheren CO2-Preis als Fridays for Future und scheinen das noch nicht einmal zu merken.\n",
       "Name: sentence, dtype: object"
      ]
     },
     "execution_count": 28,
     "metadata": {},
     "output_type": "execute_result"
    }
   ],
   "source": [
    "dff.sentence.sample(50)"
   ]
  },
  {
   "cell_type": "code",
   "execution_count": 249,
   "id": "15f5aca2-6a3d-4997-80bc-086b9952931d",
   "metadata": {},
   "outputs": [
    {
     "data": {
      "text/plain": [
       "party\n",
       "SPD           13\n",
       "CDU           18\n",
       "FDP           27\n",
       "DIE LINKE     38\n",
       "GRUENE        59\n",
       "AfD          127\n",
       "Name: elite, dtype: int64"
      ]
     },
     "execution_count": 249,
     "metadata": {},
     "output_type": "execute_result"
    }
   ],
   "source": [
    "#kl.sort_values(by=\"elite\").tail(300).groupby(\"party\").elite.count().sort_values().tail(6)"
   ]
  },
  {
   "cell_type": "code",
   "execution_count": 205,
   "id": "fec87078-0e84-454a-96e3-55cd927426b4",
   "metadata": {},
   "outputs": [
    {
     "data": {
      "text/plain": [
       "electoral_term\n",
       "19    1355\n",
       "Name: sentence, dtype: int64"
      ]
     },
     "execution_count": 205,
     "metadata": {},
     "output_type": "execute_result"
    }
   ],
   "source": [
    "#kl.groupby(\"electoral_term\").sentence.count()"
   ]
  },
  {
   "cell_type": "code",
   "execution_count": 29,
   "id": "5bffddef-eb0c-4ef5-a732-b11bec7fe735",
   "metadata": {},
   "outputs": [
    {
     "data": {
      "text/plain": [
       "8                                                                                                                                                                                                                                                                                                                                                                                                                                                                                                                               Die grünen Gläubigen, die sich in allen Altparteien eingenistet haben, glauben bedingungslos dem IPCC, dem sogenannten UN-Weltklimarat.\n",
       "73                                                                                                                                                                                                                                                                                                                                                                                                                                   Offensichtlich haben die Grünen das Thema „schneller Kohleausstieg“ in den letzten 24 Stunden wieder für sich entdeckt, nachdem sie es in den Sondierungsgesprächen für eine Beteiligung an der Regierung bereits geopfert hatten.\n",
       "276                                                                                                                                                                                                                                                                                                                                                                                                                         Als ob das nicht genug wäre, müssen die Menschen auch noch mit der von Ihnen allen hier befeuerten Kapitalflucht um Grund und Boden konkurrieren und, wenn es nach den Grünen geht, in Zukunft auch noch mit sogenannten Klimaflüchtlingen.\n",
       "555                                                                                                                                                                                                                                                                                                                                                                                                                                                                                                                   Anstelle sich mit der Heimat zu identifizieren, sollen nun neue Ideologien wie der Klimawandel dafür herhalten, unsere Gesellschaft zu begründen.\n",
       "637                                                                                                                                                                                                                                                                                                                                                                                                                                                                                                                                                                   Dazu kommt noch der Arbeitsplatzabbau aus Gründen der verkorksten Klimapolitik und der Rezession.\n",
       "638                                                                                                                                                                                                                                                                                                                                                                                                                                                                                                                                                                                            Man folgt dort einer grünen Klimaideologie und lässt das Holz verrotten.\n",
       "687                                                                                                                                                                                                                                                                                                                                                                                                                                                                                                                         Kommissionspräsidentin von der Leyen jongliert mit mindestens 1 Billion Euro, die sie für grüne CO2-neutrale Luftschlösser verpulvern will.\n",
       "733                                                                                                                                                                                                                                                                                                                                                                                                                                                                                                                                                                                            Wollen Sie wirklich, liebe Grüne, den CO2-Trump mit neuen Zöllen machen?\n",
       "817                                                                                                                                                                                                                                         Kindermund tut Wahrheit kund, – aber nicht die Wahrheit über die Erderwärmung – da hat sich Greta auch nur das angelesen, was der Weltklimarat auf der Grundlage sehr fehleranfälliger Computermodelle verkündet –, sondern die Wahrheit über die Schuld- und Angstreligion, die die Grünen etablieren wollen, um ihre irrationale, für Deutschland zutiefst schädliche Klimapolitik durchzusetzen, meine Damen und Herren.\n",
       "876                                                                                                                                                                                                                                                                                                                                                                                                                                  Insbesondere von den links-grünen Bahnhofsklatschern, die eine ungezügelte Migration befördern, den „sicheren Häfen“, die von den Gemeinderäten ausgerufen werden, und den Klimanotständen, die außer Kosten keine Wirkung zeigen.\n",
       "920                                                                                                                                                                                                                                                                                                                                                                                                                                                                                                                                                                                  Ihnen von den Linken und von den Grünen kann die CO2-Steuer nicht hoch genug sein.\n",
       "980                                                                                                                                                                                                                                                                                                                                                                                                                                                                                      Es ist nicht die Regierung und nicht Ihr Klimakabinett, und es sind auch nicht Ihre ideologischen Vorturner von den Grünen, die sich um Deutschland irgendwie verdient machen.\n",
       "984                                                                                                                                                                                                                                                                                                                                                                                                                                                                                                                                                                       Denn diese Regierung ist der Erfüllungsgehilfe der grünen Klimasekte und sonst leider nichts.\n",
       "988                                                                                                                                                                                                                                                                                                                                                                                                                                                                                                                                                                                                          Die Grünen fordern ja schon jetzt einen höheren CO2-Preis.\n",
       "1131                                                                                                                                                                                                                                                                                               Dabei sind Sie es, die entgegen besserer Einsicht, entgegen allen Fakten einem grün-rot-goldenen Kalb hinterherlaufen und den Hohepriestern des heiligen Klimas huldigen, um einer lauten Bioladen-Wohlstandsminderheit aus Influencern, Schauspielern und vermeintlichen Sängern hinterherzulaufen, statt verantwortungsvolle Politik für das ganze Volk zu machen.\n",
       "1251                                                                                                                                                                                                                                                                                                                                                                                                                                                    Angesichts der Kritik an der bisherigen Klimapolitik der Regierungsparteien durch die Grünen, die ich aus anderen Gründen teile, ist es vielleicht angebracht, zu schauen, welche Politik die Grünen betreiben.\n",
       "1441                                                                                                                                                                                                                                                                                                                                                              Die Begründung der Regierung für die Notwendigkeit und Wirkung des Gesetzes in Bezug auf das Weltklima sind falsch, die fälschlich als Klimaschutzziele beschriebenen/umschriebenen Versuche zur Senkung des CO2-Ausstoßes sind in ihren Auswirkungen auf ein imaginäres Weltklima nicht nachweisbar.\n",
       "1503                                                                                                                                                                                                                                                                                                                                                                                                                                                          Unverständlich dabei ist, dass die Grünen nicht sofort auf ihrer offenen Hofreiter-Propagandaskala den Klimawandeljoker ziehen, wobei ja nur 2,23 Prozent der Kohlendioxidstoffe aus Deutschland stammen.\n",
       "1533                                                                                                                                                                                                                                                                                                                                                                                                                                                                                                                                                                                      Ich bin der Fraktion der Grünen sehr dankbar für die Anträge zum Klimaschutz.\n",
       "1535                                                                                                                                                                                                                                                                                                                                                                                                                                                                                                        Gleichzeitig hat die im rot-schwarz-grünen Katechismus fest verankerte Energiewende in einem Drittel dieser Zeit mehr als 500 Milliarden Euro verschlungen.\n",
       "1929                                                                                                                                                                                                                                                                                                                                                                                                                                                                                        Warum verschwenden wir Hunderte Milliarden Euro an Steuern und Abgaben für eine Fantasie, ja eine Zwangsvorstellung von einem grünen Klimaparadies in einem Industriestaat?\n",
       "1981                                                                                                                                                                                                                                                                                                                                                                                                                                                                                                                                 Es geht hierbei um die Bilanz aller bisherigen keynesianischen Experimente, die den jetzigen Klimakeynesianismus begründen sollen.\n",
       "2004                                                                                                                                                                                                                                                                                                                                                                                                                                                                                            Es gibt ja jetzt am Ende dieses Jahres die EU-Ratspräsidentschaft, die Deutschland übernimmt, und die Grünen fordern, dass diese zur Klimapräsidentschaft erhoben wird.\n",
       "2010                                                                                                                                                                                                                                                                                                                                                                                                                                                                                                                           Sie von den Grünen fordern ja den Kohleausstieg und Atomausstieg innerhalb von 40 Jahren, den Ausstieg aus fast allem, was funktioniert.\n",
       "2321                                                                                                                                                                                                                                                                                                                                                                                                                 Für die dritte und gefährlichste Gruppe sind es nützliche Idioten, um, angetrieben von der grünen Klimasekte, die große Transformation, verheißungsvoll verpackt im Klimaschutzplan 2050, hin zu einer ökosozialistischen Diktatur voranzutreiben.\n",
       "2483                                                                                                                                                                                                                                                                                                                                                                                                                                                                         Verkehrswende wird immer mehr zum Schlüsselwort für die Umverteilung von Milliarden Euro zu dem Zwecke, die Bürger dieses Landes nach der Gedankenwelt der Grünen und Linken umzuerziehen.\n",
       "2489                                                                                                                                                                                                                                                                                                                                                                                                                                                                                                                                                                                             Jetzt schreiben die Grünen das Wort „Klima“ gleich in die Überschrift.\n",
       "2493                                                                                                                                                                                                                                                                                                                                                                                                                                                                                                                                                  Die Grünen wollen ihren Verkehrswendeantrag allen Ernstes mit der Behauptung verkaufen, er bringe mehr Mobilität.\n",
       "2524                                                                                                                                                                                                                                                                                                                                                                                                                                                                                                                                                 Als Begründung wurde verwendet, dass man die CO2-Gesetzgebung – insbesondere für Pkw – erheblich verschärfen muss.\n",
       "2564                                                                                                                                                                                                                                                                                                                                                                                                                                                                                    Sie von der CDU bzw. von der Regierung haben sich so an die Grünen angebiedert, dass man davon ausgehen muss, dass Sie dieses Verkehrswendemärchen mittlerweile selber glauben.\n",
       "2740                                                                                                                                                                                                                                                                                                                                                                                                                                                         Wo die Koalition schon von „ambitionierten Klimaschutzzielen“ spricht, legen die Grünen in ihrem Antrag noch eine Schippe drauf und verlangen mit demselben Wort auch noch eine „ambitionierte Umsetzung“.\n",
       "2964                                                                                                                                                                                                                                                                                                                                                                                                                                                                                                                                       Der Bundesrechnungshof hat den Energie- und Klimafonds aus diesen Gründen deutlich kritisiert und seine Auflösung gefordert.\n",
       "3090                                                                                                                                                                                                                                                                                                                                                                                                                                                                                                                                                                Der Kohleausstieg ist also nicht begründbar und trägt nicht zur Erreichung der genannten Ziele bei.\n",
       "3201                                                                                                                                                                                                                                                                                                                                                                                                                                                                                                                                                              Gegründet werden soll dafür ein staatlicher Verein, der aus Umwelt- und Klimaschutzverbänden besteht.\n",
       "3357                                                                                                                                                                                                                                                                                                                                                                                                                                                                                                                                             Haben Sie dafür eine Höchstgrenze von Gramm CO2, die bei der Herstellung von Grünem Wasserstoff emittiert werden darf?\n",
       "3511                                                                                                                                                                                                                                                                                                                                                                                                                                                                                                                                                                         Ich klage Linke, Grüne und SPD an, für dieses Klima in Deutschland verantwortlich zu sein.\n",
       "3513                                                                                                                                                                                                                                                                                                                                                                                                                                                                                                                                             Sie weiter übers Klima, über den Green Deal und über Taxonomie, also grüne Wirtschaftslenkung in sowjetischem Maßstab.\n",
       "3582                                                                                                                                                                                                                                                                                                                                                                                                                                     Nicht zu vergessen sind hier die zahlreichen Klimaforschungsinstitute und NGOs mit ihren Bataillonen grüner Fußtruppen, die – bildlich gesprochen – auch mal über Leichen gehen, wenn sie den „Hambi“ oder den „Danni“ retten.\n",
       "3624                                                                                                                                                                                                                                                                                                                                                                                                                                                                   Die Grünen erkennen offenbar nicht den Zusammenhang zwischen dem, was sie unter Unterstützung für den Klimaschutz verstehen, und der Steigerung von Mietkosten aufgrund energetischer Sanierung.\n",
       "3712                                                                                                                                                                                                                                                                                                                                                                                                                                                                                                                            Elektromobilität wird ja immer begründet mit den Vorteilen gegenüber Verbrennungsmotoren bezüglich Luftschadstoffen und CO2-Emissionen.\n",
       "3855                                                                                                                                                                                                                                                                                                                                                                                                                                                                                                                                                                                               Begründet wird der Wechsel zur E-Mobilität auch mit dem Klimawandel.\n",
       "3943                                                                                                                                                                                                                                                                                                                                     Selbst wenn wir in Deutschland alles abschalten würden, kein CO2 mehr produzieren würden, nicht mehr heizen würden, keinen Strom mehr verbrauchen würden, uns nicht mehr fortbewegen würden und, nicht zu vergessen, liebe Grünen, auch das Ausatmen einstellen würden, hätte das überhaupt keinen Einfluss auf das Weltklima.\n",
       "3950                                                                                                                                                                                                                                                                                                                                                                                                                                                     Wie der grüne baden-württembergische Umweltminister Untersteller zu Recht beklagt, riskieren wir mit der Energiewende flächendeckende Blackouts, bei denen Millionen Menschen tagelang ohne Strom sein werden.\n",
       "3986     Heute beraten wir viele Anträge, insbesondere der grünbemäntelten Kommunisten, die alle vorgeben, auf irgendeine tolle Weise das sogenannte Weltklima, einen rein statistischen Wert, schützen zu wollen, und das, nur einen Tag nachdem die Koalition in besonders dreister Weise das sogenannte Infektionsschutzgesetz derart verschärft hat, dass es nicht nur mit Fug und Recht Freiheitlich-demokratische-Grundordnung-Außerkraftsetzungsgesetz genannt werden kann, sondern es auch erlaubt, die Macht in diesem Staat ganz gezielt und sehr direkt dauerhaft zu ergreifen, weg vom Parlament, also vom Volk, weg von den Ländern, direkt zur Kanzlerin.\n",
       "3989                                        Hatte Präsident Trump noch den Mut, gegen diesen Wahnsinn vorzugehen und nach gründlicher Prüfung aus dem sozialistischen Verarmungsprogramm namens Pariser Klimaabkommen auszusteigen, gleichzeitig aber die CO2-Emissionen der USA weiter zu senken, entschied ein neosozialistischer Nachfolger mit einer waschechten Kommunistin im Schlepptau am Tage seiner Amtsübernahme, diesen Austritt rückgängig zu machen, und wird dafür überschwänglich von den vergrünten Medien und den neosozialistischen Altparteien gelobt, gelobt für ein in der Welt beispielloses sozialistisches Verarmungs-, ja Selbstmordprogramm.\n",
       "4042                                                                                                                                                                                                                                                                                                                                                                                                                                                                                                                     Schon vor der Coronakrise hat die grüne Klimahysterie zu massivem Stellenabbau, Wohlstandsverlust und der Abwanderung von Unternehmen geführt.\n",
       "4044                                                                                                                                                                                                                                                                                                                                                                                                                                                                                                                                Nun wollen Sie von den Grünen Ihren Klimairrsinn auch noch als kommunalen Konjunkturmotor verkaufen, also Feuer mit Benzin löschen.\n",
       "4151                                                                                                                                                                                                                                                                                                                                                                                                                                                                            Dies wissen offenbar diejenigen, die die Energiewende in Deutschland zur nationalen Aufgabe erklären und den gutgläubigen Deutschen mit grüner Rhetorik das Geld aus der Tasche ziehen.\n",
       "4238                                                                                                                                                                                                                                                                                                  Eine kleine Gruppe von technikfernen, beratungsresistenten Politikern von SPD, Grünen, CDU/CSU und FDP entzieht Hunderttausenden hart arbeitender Menschen und mittelständischer Unternehmen in diesem Land die Existenzgrundlage, und das auch noch auf Basis der fälschlichen Annahme, dass Elektromobilität die CO2-Emissionen in diesem Land reduzieren wird.\n",
       "4564                                                                                                                                                                                                                                                                                                                                                                                                                                                                              Wenn die Grünen heute Klimaschutz fordern, werden sie sich morgen darüber beklagen, dass nicht genug Geld für Streetworker, Begegnungszentren und Migrantentanzgruppen vorhanden ist.\n",
       "4596                                                                                                                                                                                                                                                                                                                                                                                                                                        Dank der Verknappung der Stromerzeugungskapazität aufgrund der Energiewende der Altparteien, allen voran der von den Grünen vor sich hergetriebenen Bundesregierung, sind wir jetzt stärker auf das Verbundnetz angewiesen.\n",
       "4738                                                                                                                                                                                                                                                                                                                                                                                                                                       Sie von den Links-Grünen sind dafür verantwortlich, dass die Strompreise hier durch die Decke schießen, nämlich mit der Energiewende, mit dem Erneuerbare-Energien-Gesetz und mit dem überteuerten Strom aus Wind und Sonne.\n",
       "4739                                                                                                                                                                                                                                                                                                                                                                                                                                                                                                                               Sie von den Links-Grünen drücken mit aller Macht die planwirtschaftliche Energiewende durch, die zu diesen hohen Strompreisen führt.\n",
       "4797                                                                                                                                                                                                                                                                                                                                                                                                                                                                                                                                                                                                                 Der Kohleausstieg wird rein ideologisch begründet.\n",
       "5305                                                                                                                                                                                                                                                                                                                                                                                                                                                                                                                                                                           Zudem ist auch Herr Söder von dem, ich sage mal, Klimavirus befallen und sehr grünaffin.\n",
       "5566                                                                                                                                                                                                                                                                                                                                                                                                                                                                                                                                                                                       Die schizophrene Begründung des Kohleausstiegs ist immer die CO2-Einsparung.\n",
       "5567                                                                                                                                                                                                                                                                                                                                                                                                                                                                                                                                                                          Aber das kann ja die wirkliche Begründung nicht sein, weil wir kein CO2 einsparen werden.\n",
       "5706                                                                                                                                                                                                                                                                                                                                                                                                                                                                                                                                                                                 Das Gerede von einer Verkehrswende kommt aber genau aus der Ecke grüner Ideologen.\n",
       "5747                                                                                                                                                                                                                                                                                                                                                                                                                                                                                                                                                                  Die Grünen fordern eine Konzentration von Forschung und Entwicklung auf ihre grüne Klimareligion.\n",
       "5774                                                                                                                                                                                                                                                                                                                                                                                                                                                                                                                                                                                        Die linksgrüne Energiewende verändert die Natur in einem ungeheuren Ausmaß.\n",
       "5827                                                                                                                                                                                                                                                                                                                                                                                                                                     In diesem Klimaschutzplan werden verschiedene Ziele ausgerufen, unter anderem der intensive Ausbau der sogenannten Erneuerbaren, die natürlich von den Grünen unterstützt werden, ihnen aber teilweise nicht weit genug gehen.\n",
       "5862                                                                                                                                                                                                                                                                                                                                                                                                              Wir lehnen diese Maßnahmen ab und fordern stattdessen – diese Forderung kam in der Zwischenzeit auch von den Grünen – wie in unserem Antrag, mit einem Zehntel der zurzeit aufgewendeten Mittel einen Klimawandelfolgen-Anpassungsfonds einzurichten.\n",
       "5919                                                                                                                                                                                                                                                                                                                                                                                                                                                                                                                                         Derartig unseriöse Kaffeesatzleserei dient nur dazu, den Bürgern die immensen Kosten der grünen Klimapolitik zu verkaufen.\n",
       "6299                                                                                                                                                                                                                                                                                                                                                                                                                                                                                Die grünen Kommunisten fühlen sich ermuntert, Klimaschutz jetzt zu propagieren, weil Richter des Bundesverfassungsgerichtes das Grundgesetz in seinen Kernelementen beerdigt haben.\n",
       "6301                                                                                                                                                                                                                                                                                                                                                                                                                                               Die Richter taten dies, indem sie das Föderalismusprinzip als Element der Gewaltenbeschränkung, das Demokratieprinzip und das Rechtsstaatsprinzip mit inhaltslosen Klimaschutzbegründungen in die Tonne beförderten.\n",
       "6304                                                                                                                                                                                                                                                                                                                                                                                                                                                Gerade deshalb ist der Artikel 20a Grundgesetz eigentlich die stärkste Waffe, um die Verfassungswidrigkeit der mit Klimaschutz begründeten Energiewende und der damit einhergehenden Umweltzerstörung zu begründen.\n",
       "6709                                                                                                                                                                                                                                                                                                                                                                                                                                                                                                                                                                  Derartige moralisch verbrämte Universalansprüche kennen wir bereits aus der grünen Klimareligion.\n",
       "6795                                                                                                                                                                                                                                                                                                                                                                                                                         „Ein Forschungsrahmenprogramm im Kampf gegen die Klimakrise“, so betiteln die Grünen ihren Antrag, damit die von ihnen finanzierten Wissenschaftler gleich wissen, in welche Richtung die so steuerfinanzierte Forschungsreise gehen muss.\n",
       "6802                                                                                                                                                                                                                                                                                                                                                                                                                                                                                                                                                                                                                     Die Grünen und diese Klimaforschungsinstitute.\n",
       "6803                                                                                                                                                                                                                                                                                                                                                             Sie müssen nur den Schneefall im Winter als Katastrophe des Klimawandels bezeichnen und – schwups – erhalten sie neue Forschungsgelder zur Produktion von weiteren hochwillkommenen Ergebnissen, die Sie von den Grünen sodann alarmistisch, ökopopulistisch und freiheitseinschränkend ausschlachten.\n",
       "7016                                                                                                                                                                                                                                                                                                                                                                                                                                                                                                                                                                Wir diskutieren heute den Antrag der grün bemäntelten Kommunisten zu Klimaschutz durch Naturschutz.\n",
       "7017                                                                                                                                                                                                                                                                                                                                                                                                        Da ist von Erderhitzung statt ‑erwärmung die Rede, von „ökologischen Kipppunkten“, als ob die Welt morgen unterginge, wenn sie nicht durch sofortiges Handeln aller im Sinne des Grünsozialismus – man kann es auch Ökoterror nennen – davor bewahrt würde.\n",
       "7076                                                                                                                                                                                                                                                                                                                                                                                                                                                                                                                                                                Naturschutz ist Klimaschutz, und Klimaschutz ist Naturschutz – das behaupten jedenfalls die Grünen.\n",
       "7078                                                                                                                                                                                                                                                                                                                                                                                                                                                                                                                         Nein, werte Kolleginnen und Kollegen, der real existierende Klimaschutz ist kein Naturschutz, und die Grünen sind keine Naturschutzpartei.\n",
       "7079                                                                                                                                                                                                                                                                                                                                                                                                                                                                                                                           Doch das heißt im Umkehrschluss natürlich nicht, dass man den von den Grünen geforderten natürlichen Klimaschutz pauschal ablehnen muss.\n",
       "7080                                                                                                                                                                                                                                                                                                                                                                                                                                                                                                                                  Zudem wollen die Grünen jährlich 10 Prozent der Gelder aus dem Energie- und Klimafonds für den natürlichen Klimaschutz einsetzen.\n",
       "7083                                                                                                                                                                                                                                                                                                                                                                                                                                                                                                                                                                                         Dazu erklärten die Grünen, dass ja eine CO2-Kompensation vorgenommen wird.\n",
       "7084                                                                                                                                                                                                                                                                                                                                                                                                                                                                                                                                                    Dabei wird verschwiegen, dass die CO2-Kompensation nicht von den Grünen bezahlt wird, sondern vom Steuerzahler.\n",
       "7758                                                                                                                                                                                                                                                                                                                                                                                    Nach den Vorstellungen der Grünen sollen völkerrechtliche Verträge zum Klimaschutz in Zukunft den Inhalt unserer Verfassung durch die Hintertür unmittelbar ändern, womit das im Grundgesetz mit gutem Grund vorgesehene Verfahren für Verfassungsänderungen unterlaufen würde.\n",
       "7843                                                                                                                                                                                                                                                                                                                                                                                                                                                                                                                Auf meine Nachfrage konnte er natürlich keine wissenschaftliche Begründung geben und zog sich auf die Erderwärmung seit der Kleinen Eiszeit zurück.\n",
       "8038                                                                                                                                                                                                                                                                                                                                                                                                                                                                             Man schwadroniert beim grünen Klimairrsinn von „Mond-Momenten“ der EU, von großen Transformationen oder – wie Olaf Scholz hier am Dienstag ernsthaft – vom „großen Sprung nach vorne“.\n",
       "8041                                                                                                                                                                                                                                                                                                                                                                                Aber diesmal wollen wir es nicht mit ideologischem Unsinn überfrachten, so wie vorhin die Grünen bei Tagesordnungspunkt 6 der Klimahysterie, sondern wir wollen es behutsam weiterentwickeln und den aktuellen Herausforderungen anpassen – so wie wir von der AfD nun einmal sind.\n",
       "8054                                                                                                                                                                                                                                                                                                                                                                                                                                             Statt Familien zu gründen und ein erfülltes Familienleben zu haben, sollen sie das Klima retten, gegen Diskriminierung kämpfen, Minderheiten unterstützen und am besten noch ein paar Waisenkinder in Afrika betreuen.\n",
       "8106                                                                                                                                                                                                                                                                                                                                                                                                                                               Mit den Ausgaben für Ihre sogenannte Klimaschutzpolitik verschwenden Sie auch in den nächsten Jahren Hunderte Millionen Euro des deutschen Steuerzahlers, ohne dass es dafür eine wissenschaftliche Begründung gibt.\n",
       "8362                                                                                                                                                                                                                                                                                                                                                                                                                                                                                                                          In zweiter und dritter Lesung liegen dem Deutschen Bundestag zwei Anträge zum Klimaschutz vor, einmal von der FDP, einmal von den Grünen.\n",
       "8366                                                                                                                                                                                                                                                                                                                                                                                                                                                                                                                                             Einer der Gründe, warum Deutschland die Klimaziele 2020 verfehlt hat, ist der sukzessive Ausstieg aus der Kernenergie.\n",
       "8374                                                                                                                                                                                                                                                                                                                                                                                                                                                                                                                                             Werte Kolleginnen und Kollegen der Grünen, ich bedaure, dass die Energiewende die heilige Kuh Ihrer Umweltpolitik ist.\n",
       "8648                                                                                                                                                                                                                                                                                                                                                                                                                                                                                                                                                        Vordergründig sollen natürlich die CO2-Emissionen gesenkt werden, obwohl diese niemandem etwas zuleide tun.\n",
       "8651                                                                                                                                                                                                                                                                                                                                                                                                                                                                                              Das ist eine physikalische Binsenweisheit und im Übrigen einer der Gründe, warum der Diesel lange auch von den in Biowolle gehüllten Klimaanalysten hochgelobt wurde.\n",
       "9075                                                                                                                                                                                                                                                                                                                                                                                                                                                         Digitalisierung der Energiewende, des Gesundheitswesens, des Arbeitsrechts, Smart Germany und heute eben „Europäische Hochschullehre im digitalen Zeitalter – Gründung einer European Digital University“.\n",
       "9107                                                                                                                                                                                                                                                                                                                                                                                                                                                                                                                                                                                                      Linke und Grüne fordern einen noch schnelleren Kohleausstieg.\n",
       "9193                                                                                                                                                                                                                                                                                                                                                           Sie reden von grünen Knöpfen, damit die indische Näherin – das waren Ihre Worte – ihr selbstgenähtes Kleid im Internetportal selbst verkaufen kann, damit wir es dann im Flugzeug für kleines Geld nach Deutschland fliegen – natürlich CO2-neutral – und so quasi in Ihrem globalen Dorf kaufen können.\n",
       "9212                                                                                                                                                                                                                                                                                                                                                                                                                                                                                                                                                            Die Grünen wollen nun also notwendige Klimaschutzmaßnahmen zur Erreichung des 1,5-Grad-Ziels ergreifen.\n",
       "9280                                                                                                                                                                                                                                                                                                                                                                                                                    Wenn es aber, für viele ganz überraschend, einen Wintereinbruch mitten im Winter gibt, dann müssen schnell die Mietwissenschaftler vom PIK ran und müssen ganz wissenschaftlich begründen, warum das nur eine Folge der Erderhitzung sein kann.\n",
       "9371                                                                                                                                                                                                                                                                                                                                                                                                                            Denn jedes Mal, wenn Ihre Energiewendechampions Wind und Sonne ins Stottern geraten, dann springen französische Kernkraftwerke in die Bresche, um Deutschland und allen voran das grüne Baden-Württemberg vor dem Blackout zu bewahren.\n",
       "9411                                                                                                                                                                                                                                                                                                                                                                                                                                                                                                                 Anstatt die grünen Propagandaphrasen vom Klimanotstand zu adaptieren, wäre es notwendig, den tatsächlich vorhandenen Geburtennotstand zu erkennen.\n",
       "9529                                                                                                                                                                                                                                                                                                                                                                                                                                                                            Denn die Greta-Sekte und die Grünenkobolde betrachten jeden, der beim Dogma des menschengemachten Klimawandels auf die Angemessenheit und die Verhältnismäßigkeit verweist, als Ketzer.\n",
       "9711                                                                                                                                                                                                                                                                                                                                                                                                        So steht es jedenfalls in der Gründungsakte des IPCC mit dem einzigen Ziel, den entwickelten Staaten sehr viel Geld aus der Tasche zu ziehen und es im großen Stil an die teilweise höchst korrupten Regime vieler unterentwickelter Staaten umzuverteilen.\n",
       "9801                                                                                                                                                                                                                                                                                                                                                                                                                                                                                                                                                                                             Der grüne Antrag atmet viel irrationale Klima- und Migrationsreligion.\n",
       "9925                                                                                                                                                                                                                                                                                                                                                                                                                                                      Getrieben von dieser grünen Klimasekte fordern alle Altparteien den schnellen Kohleausstieg und damit, einen wichtigen Schritt zur Dekarbonisierung, eigentlich Deindustrialisierung, Deutschlands zu machen.\n",
       "9991                                                                                                                                                                                                                                                                                                                                                                                                                                                                                                                                                  Die Grünen wollen – Zitat – „zusätzliche wirtschaftliche Chancen bei der Energiewende für das Handwerk“ schaffen.\n",
       "10025                                                                                                                                                                                                                                                                                                                                                                                                                                                                                                                                                                                                     Die Grünen behaupten ja, Klimaschutz funktioniere nur sozial.\n",
       "10083                                                                                                                                                                                                                                                                                                                                                                                                                                                                                Unsere Kinder dürfen niemals von Gesetz wegen in Kitas zu klimahysterischen, vielfaltsfixierten links-grünen Knock-out-Mäusen à la Kahane oder zu Digitalzombies dressiert werden.\n",
       "10088                                                                                                                                                                                                                                                                                                                                                                                                                               Die gängelnde Politik gegen deutsche Schlüsselindustrien aus rein ideologischen Gründen wird am Arbeitsmarkt und im Haushalt ein Desaster anrichten, auch wenn CO2-Gebühren erst einmal noch mehr Geld in die Kassen spülen werden.\n",
       "10231                                                                                                                                                                                                                                                                                                                                                                                                                                                                                              Sie sagten hier zum einen, dass wir aus Gründen des Klimaschutzes für eine konsequente Abschiebung stünden, aber im gleichen Satz, dass wir den Klimawandel leugnen.\n",
       "10271                                                                                                                                                                                                                                                                                                                                                                                                                             Wenn die Energiesteuer auf Diesel genauso hoch wird wie auf Benzin – zulasten des Transportgewerbes – und noch dazu nach den Plänen der Grünen eine CO2-Steuer erhoben wird, dann steigt der Dieselpreis auf einen Schlag um 30 Cent.\n",
       "10566                                                                                                                                                                                                                                                                                                                                                                                                                                                                                                                                                                                                     Das ist sehr gut und aus Klimaschutzgründen dringend geboten.\n",
       "10585                                                                                                                                                                                                                                                                                                                                                         Dadurch, dass wir die Bundesregierung dazu bringen, sich auf europäischer Ebene für die Anerkennung von Fahrzeugen mit synthetischen Kraftstoffen als Null-Gramm-CO2-Fahrzeuge einzusetzen, tun wir übrigens auch etwas für die tatsächliche Reduktion der CO2-Emissionen, liebe Kollegen von den Grünen.\n",
       "10776                                                                                                                                                                                                                                                                                                                                                                                                                                                       Sie können doch nicht ernsthaft sagen, dass Sie unseren Antrag damals abgelehnt haben, weil in der Begründung drinsteht – weil in der Einleitung drinsteht –, dass wir den Klimawandel so nicht anerkennen.\n",
       "Name: sentence, dtype: object"
      ]
     },
     "execution_count": 29,
     "metadata": {},
     "output_type": "execute_result"
    }
   ],
   "source": [
    "df[(df.party == \"AfD\") & (df.sentence.str.contains(\"grün|gruen\", case=False))][\"sentence\"]"
   ]
  },
  {
   "cell_type": "code",
   "execution_count": 250,
   "id": "c086b425-df9a-4bb6-93c4-4a410ea1fe4a",
   "metadata": {},
   "outputs": [
    {
     "data": {
      "text/plain": [
       "0                                                                                                                                                                                                          Es ist inakzeptabel, meine Damen und Herren, dass ein internationaler Konzern, der jahrzehntelang direkt und indirekt vom deutschen Staat, den Steuerzahlerinnen und Steuerzahlern dieser Republik und, nebenbei bemerkt, auch von denen der Europäischen Union profitiert hat, jetzt seine Mitarbeiterinnen und Mitarbeiter für krasse Managementfehler bluten lässt.\n",
       "1                                                                                                                                                                                                                                                                                                                                                                                                                                               Sie ist unverantwortlich, weil – ich sagte es bereits – in diesem Jahr der Konzern nicht Not leidet, sondern Rekordgewinne macht.\n",
       "2                                                                                                                                                                                                                                                                                                                                                                                                                                Die Entscheidung ist unverantwortlich, weil sie ohne jede Rücksichtnahme auf das Leben der Beschäftigten und ihrer Familie getroffen worden ist.\n",
       "3                                                                                                                                                                                                                                                                                                                                                                   Und nicht zuletzt ist sie unverantwortlich, weil dies zu schweren Schlägen gegen die Wirtschaft in Regionen unseres Landes führt, die Stabilität brauchen und nicht Verantwortungslosigkeit von Arbeitgebern.\n",
       "4                                                                                                                                                                                                                                                                                                                                                                                                                                                                                  Aber was der Vorstand von Siemens mit den Belegschaften macht, ist Zerschlagung von Vertrauen.\n",
       "                                                                                                                                                                                                                                                                                          ...                                                                                                                                                                                                                                                                                    \n",
       "1350                                                                                                                                                                                                                                                                                                                                                                                       Bedauerlicherweise schießen die Grünen aus allen Rohren darauf, also nicht nur mit ihren Anträgen und ihrem Entschließungsantrag heute, sondern auch mit der begleitenden Pressemusik.\n",
       "1351                                                                                                                                                                                                                                                                                                                                                                                                                          Auch dort wird wieder mit dem Propagandamittel gearbeitet, dass es 26 000 Tote durch Emissionen aus Kohlekraftwerken von 2022 bis 2038 geben werde.\n",
       "1352                                                                                                                                                                                                                                                                                                                                                                                                                                                                                                     Warum tun die Grünen das – Fundamentalopposition gegen diese Verordnung?\n",
       "1353    Wenn man noch höhere Anforderungen verlangt und behauptet, sie seien umsetzbar – bis auf einen Sachverständigen haben alle Sachverständigen gesagt, das sei nicht sinnvoll und zum Teil auch gar nicht möglich –, dann hat das nur einen Zweck: Durch die Verteuerung der Produktion von Strom in solchen Kraftwerken will man sie noch schneller unrentabel machen und das, was man beim Kohleausstieg zeitlich nicht geschafft hat, vielleicht hier durch die Hintertür erreichen, indem man Kraftwerke nicht wettbewerbsfähig macht, sodass sie früher vom Netz gehen.\n",
       "1354                                                                                                                                                                                                                                                                                                                                                                                                                Von einem Persilschein für die Kohleindustrie zu sprechen, liebe Frau Kollegin Hoffmann, ist, finde ich, wirklich reine Propaganda und keine seriöse Politik.\n",
       "Name: sentence, Length: 1355, dtype: object"
      ]
     },
     "execution_count": 250,
     "metadata": {},
     "output_type": "execute_result"
    }
   ],
   "source": [
    "kl.sentence"
   ]
  },
  {
   "cell_type": "code",
   "execution_count": 191,
   "id": "495b0a50-9e0f-493a-ae65-11688faab1ca",
   "metadata": {},
   "outputs": [],
   "source": [
    "kl[\"session_id\"] = kl[\"session_id\"].astype(\"int\")\n",
    "xy = kl.groupby(\"session_id\").elite.count().sort_index().reset_index()\n"
   ]
  },
  {
   "cell_type": "code",
   "execution_count": 193,
   "id": "732246d0-a3d2-4c78-828a-861031b27fc0",
   "metadata": {},
   "outputs": [
    {
     "data": {
      "text/plain": [
       "(210, 2)"
      ]
     },
     "execution_count": 193,
     "metadata": {},
     "output_type": "execute_result"
    }
   ],
   "source": [
    "for x in range(19000,19210):\n",
    "    if x not in xy.session_id.to_list():\n",
    "        xy.loc[len(xy)] = [x,0]\n",
    "xy=xy.sort_values(by=\"session_id\")\n",
    "xy.shape"
   ]
  },
  {
   "cell_type": "code",
   "execution_count": 194,
   "id": "f9436a7b-e50f-455e-a4ea-fd1ff84187af",
   "metadata": {},
   "outputs": [
    {
     "data": {
      "image/png": "[encoded data removed]",
      "text/plain": [
       "<Figure size 700x700 with 1 Axes>"
      ]
     },
     "metadata": {},
     "output_type": "display_data"
    }
   ],
   "source": [
    "fig, ax = plt.subplots(figsize=(7, 7))\n",
    "#interval = datetime.timedelta(days=30)\n",
    "p = sns.barplot(xy, x=\"session_id\", y=\"elite\", gap=0.1, ax=ax)\n",
    "ax.xaxis.set_major_locator(plt.MaxNLocator(20))\n",
    "plt.xticks(rotation=70)\n",
    "plt.show()"
   ]
  },
  {
   "cell_type": "code",
   "execution_count": 70,
   "id": "daa261d1-669c-40de-8257-3f7be09b094d",
   "metadata": {},
   "outputs": [],
   "source": [
    "#kl"
   ]
  },
  {
   "cell_type": "code",
   "execution_count": 71,
   "id": "561c8be0-7a74-449a-beb2-87175c87c36f",
   "metadata": {},
   "outputs": [
    {
     "data": {
      "text/plain": [
       "['sort_index', 'sort_values']"
      ]
     },
     "execution_count": 71,
     "metadata": {},
     "output_type": "execute_result"
    }
   ],
   "source": [
    "[x for x in dir(dff) if x.startswith(\"sort\")]"
   ]
  },
  {
   "cell_type": "code",
   "execution_count": 89,
   "id": "15dd0dc2-361b-47f8-83e3-9bfc08e36c4d",
   "metadata": {},
   "outputs": [],
   "source": [
    "elite = kl[[\"elite\", \"pplcenter\", \"party\", \"session_id\", \"sentence\", \"electoral_term\"]].sort_values(by=\"elite\").tail(400)"
   ]
  },
  {
   "cell_type": "code",
   "execution_count": 90,
   "id": "0e25b41b-2545-4574-a138-071b1b9db369",
   "metadata": {},
   "outputs": [
    {
     "data": {
      "text/plain": [
       "party\n",
       "Die PARTEI      1\n",
       "CSU             4\n",
       "LKR             9\n",
       "parteilos       9\n",
       "SPD            24\n",
       "CDU            25\n",
       "FDP            38\n",
       "DIE LINKE      49\n",
       "GRUENE         87\n",
       "AfD           154\n",
       "Name: elite, dtype: int64"
      ]
     },
     "execution_count": 90,
     "metadata": {},
     "output_type": "execute_result"
    }
   ],
   "source": [
    "elite.groupby(\"party\")[\"elite\"].count().sort_values()"
   ]
  },
  {
   "cell_type": "code",
   "execution_count": 80,
   "id": "5eefe12f-539f-49a2-8b73-4fbd9a36eed8",
   "metadata": {},
   "outputs": [
    {
     "data": {
      "text/plain": [
       "electoral_term\n",
       "19    300\n",
       "Name: sentence, dtype: int64"
      ]
     },
     "execution_count": 80,
     "metadata": {},
     "output_type": "execute_result"
    }
   ],
   "source": [
    "elite.groupby(\"electoral_term\")[\"sentence\"].count().sort_values()"
   ]
  },
  {
   "cell_type": "code",
   "execution_count": 41,
   "id": "2b581a3d-432a-4eb8-ba42-ea0f63eecf42",
   "metadata": {},
   "outputs": [
    {
     "data": {
      "text/html": [
       "<div>\n",
       "<style scoped>\n",
       "    .dataframe tbody tr th:only-of-type {\n",
       "        vertical-align: middle;\n",
       "    }\n",
       "\n",
       "    .dataframe tbody tr th {\n",
       "        vertical-align: top;\n",
       "    }\n",
       "\n",
       "    .dataframe thead th {\n",
       "        text-align: right;\n",
       "    }\n",
       "</style>\n",
       "<table border=\"1\" class=\"dataframe\">\n",
       "  <thead>\n",
       "    <tr style=\"text-align: right;\">\n",
       "      <th></th>\n",
       "      <th>sent_id</th>\n",
       "      <th>speech_id_x</th>\n",
       "      <th>elite</th>\n",
       "      <th>pplcenter</th>\n",
       "      <th>pleft</th>\n",
       "      <th>pright</th>\n",
       "      <th>speech_id_y</th>\n",
       "      <th>electoral_term</th>\n",
       "      <th>party</th>\n",
       "      <th>role</th>\n",
       "      <th>session_id</th>\n",
       "      <th>sentence_no</th>\n",
       "      <th>sentence_length</th>\n",
       "      <th>sentence</th>\n",
       "    </tr>\n",
       "  </thead>\n",
       "  <tbody>\n",
       "    <tr>\n",
       "      <th>0</th>\n",
       "      <td>2107</td>\n",
       "      <td>141</td>\n",
       "      <td>0.954104</td>\n",
       "      <td>0.308506</td>\n",
       "      <td>0.984604</td>\n",
       "      <td>0.008438</td>\n",
       "      <td>141</td>\n",
       "      <td>19</td>\n",
       "      <td>SPD</td>\n",
       "      <td>mp</td>\n",
       "      <td>19002</td>\n",
       "      <td>9</td>\n",
       "      <td>46</td>\n",
       "      <td>Es ist inakzeptabel, meine Damen und Herren, dass ein internationaler Konzern, der jahrzehntelang direkt und indirekt vom deutschen Staat, den Steuerzahlerinnen und Steuerzahlern dieser Republik und, nebenbei bemerkt, auch von denen der Europäischen Union profitiert hat, jetzt seine Mitarbeiterinnen und Mitarbeiter für krasse Managementfehler bluten lässt.</td>\n",
       "    </tr>\n",
       "  </tbody>\n",
       "</table>\n",
       "</div>"
      ],
      "text/plain": [
       "   sent_id  speech_id_x     elite  pplcenter     pleft    pright  speech_id_y  \\\n",
       "0     2107          141  0.954104   0.308506  0.984604  0.008438          141   \n",
       "\n",
       "   electoral_term party role  session_id  sentence_no  sentence_length  \\\n",
       "0              19   SPD   mp       19002            9               46   \n",
       "\n",
       "                                                                                                                                                                                                                                                                                                                                                                 sentence  \n",
       "0  Es ist inakzeptabel, meine Damen und Herren, dass ein internationaler Konzern, der jahrzehntelang direkt und indirekt vom deutschen Staat, den Steuerzahlerinnen und Steuerzahlern dieser Republik und, nebenbei bemerkt, auch von denen der Europäischen Union profitiert hat, jetzt seine Mitarbeiterinnen und Mitarbeiter für krasse Managementfehler bluten lässt.  "
      ]
     },
     "execution_count": 41,
     "metadata": {},
     "output_type": "execute_result"
    }
   ],
   "source": [
    "kl.head(1)"
   ]
  },
  {
   "cell_type": "code",
   "execution_count": 195,
   "id": "18b8656e-56a7-474f-8296-176c0fe6e388",
   "metadata": {},
   "outputs": [
    {
     "data": {
      "text/plain": [
       "party\n",
       "Die PARTEI      3\n",
       "LKR            12\n",
       "parteilos      25\n",
       "CSU            32\n",
       "CDU            90\n",
       "FDP           136\n",
       "SPD           186\n",
       "DIE LINKE     202\n",
       "GRUENE        314\n",
       "AfD           355\n",
       "Name: sentence, dtype: int64"
      ]
     },
     "execution_count": 195,
     "metadata": {},
     "output_type": "execute_result"
    }
   ],
   "source": [
    "kl.groupby(\"party\")[\"sentence\"].count().sort_values()"
   ]
  },
  {
   "cell_type": "code",
   "execution_count": 53,
   "id": "2a7f0585-2a0e-4d10-a86d-3f43bd9fc617",
   "metadata": {},
   "outputs": [],
   "source": [
    "sentences = kl.sentence"
   ]
  },
  {
   "cell_type": "code",
   "execution_count": null,
   "id": "845362f1-add1-4acb-8a2c-828b609555a6",
   "metadata": {},
   "outputs": [],
   "source": []
  }
 ],
 "metadata": {
  "kernelspec": {
   "display_name": "Python 3 (ipykernel)",
   "language": "python",
   "name": "python3"
  },
  "language_info": {
   "codemirror_mode": {
    "name": "ipython",
    "version": 3
   },
   "file_extension": ".py",
   "mimetype": "text/x-python",
   "name": "python",
   "nbconvert_exporter": "python",
   "pygments_lexer": "ipython3",
   "version": "3.12.2"
  }
 },
 "nbformat": 4,
 "nbformat_minor": 5
}
