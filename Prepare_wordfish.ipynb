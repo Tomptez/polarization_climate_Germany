{
 "cells": [
  {
   "cell_type": "code",
   "execution_count": 1,
   "id": "e0b30443-bb84-4d94-9814-df42c53c47d9",
   "metadata": {},
   "outputs": [],
   "source": [
    "%matplotlib inline\n",
    "import pandas as pd\n",
    "import numpy as np\n",
    "import datetime\n",
    "from matplotlib import pyplot as plt\n",
    "pd.options.plotting.backend = \"plotly\"\n",
    "pd.set_option(\"display.max_columns\", 200)\n",
    "pd.set_option(\"display.max_rows\", 400)\n",
    "pd.set_option(\"display.max_colwidth\", None) # None for all of it\n",
    "\n",
    "from nltk.corpus import stopwords\n",
    "german_stop_words = stopwords.words('german')\n",
    "from HanTa import HanoverTagger as ht\n",
    "from tqdm import tqdm\n",
    "\n",
    "\n",
    "PARTYCOLORS =  {'AfD': '#59dcff', \"CSU\":\"#525060\", \"CDU\":\"black\", \"CDU/CSU\": \"black\", \"SPD\":\"#e03427\", \"GRUENE\":\"#52d157\", \"DIE LINKE\":\"#a33ab5\", \"FDP\":\"#ffeb3b\",}"
   ]
  },
  {
   "cell_type": "code",
   "execution_count": 16,
   "id": "1ec4e15d-c7e3-4901-a5e0-cc6031205aca",
   "metadata": {},
   "outputs": [
    {
     "data": {
      "text/plain": [
       "(17027, 12)"
      ]
     },
     "execution_count": 16,
     "metadata": {},
     "output_type": "execute_result"
    }
   ],
   "source": [
    "stc = pd.read_feather(\"data/sentences_climate.feather\")\n",
    "stc.shape"
   ]
  },
  {
   "cell_type": "code",
   "execution_count": 17,
   "id": "7b71de34-e498-4c98-a6aa-455e9ad8c2d6",
   "metadata": {},
   "outputs": [
    {
     "data": {
      "text/html": [
       "<div>\n",
       "<style scoped>\n",
       "    .dataframe tbody tr th:only-of-type {\n",
       "        vertical-align: middle;\n",
       "    }\n",
       "\n",
       "    .dataframe tbody tr th {\n",
       "        vertical-align: top;\n",
       "    }\n",
       "\n",
       "    .dataframe thead th {\n",
       "        text-align: right;\n",
       "    }\n",
       "</style>\n",
       "<table border=\"1\" class=\"dataframe\">\n",
       "  <thead>\n",
       "    <tr style=\"text-align: right;\">\n",
       "      <th></th>\n",
       "      <th>level_0</th>\n",
       "      <th>sent_id</th>\n",
       "      <th>speech_id</th>\n",
       "      <th>name</th>\n",
       "      <th>electoral_term</th>\n",
       "      <th>party</th>\n",
       "      <th>role</th>\n",
       "      <th>date</th>\n",
       "      <th>session</th>\n",
       "      <th>sentence_no</th>\n",
       "      <th>sentence_length</th>\n",
       "      <th>sentence</th>\n",
       "    </tr>\n",
       "  </thead>\n",
       "  <tbody>\n",
       "    <tr>\n",
       "      <th>4187</th>\n",
       "      <td>607230</td>\n",
       "      <td>873733</td>\n",
       "      <td>34114</td>\n",
       "      <td>Karsten Hilse</td>\n",
       "      <td>19</td>\n",
       "      <td>AfD</td>\n",
       "      <td>mp</td>\n",
       "      <td>2018-06-28</td>\n",
       "      <td>42</td>\n",
       "      <td>28</td>\n",
       "      <td>91</td>\n",
       "      <td>Doch auch wenn unsere Emissionen auf nahe null gesenkt würden, wie es die große Transformation vorsieht und wie es als Staatsziel im sogenannten Klimaschutzplan 2050 festgeschrieben ist, und auch nur dann, wenn man dem Dogma der Ideologie von der menschengemachten Erwärmung folgte, würde der deutsche Senkungsbeitrag zwar zur völligen Verarmung des größten Teils unserer dann vermutlich Multikultibevölkerung führen, aber rechnerisch nur zu einer Verringerung des Anstiegs der sogenannten Welttemperatur irgendwann in ferner Zukunft um 0,000653 Grad Celsius führen – ein Wert, der weder messbar noch fühlbar ist, also praktisch nicht vorhanden ist.</td>\n",
       "    </tr>\n",
       "  </tbody>\n",
       "</table>\n",
       "</div>"
      ],
      "text/plain": [
       "      level_0  sent_id  speech_id           name  electoral_term party role  \\\n",
       "4187   607230   873733      34114  Karsten Hilse              19   AfD   mp   \n",
       "\n",
       "           date  session  sentence_no  sentence_length  \\\n",
       "4187 2018-06-28       42           28               91   \n",
       "\n",
       "                                                                                                                                                                                                                                                                                                                                                                                                                                                                                                                                                                                                                                                                       sentence  \n",
       "4187  Doch auch wenn unsere Emissionen auf nahe null gesenkt würden, wie es die große Transformation vorsieht und wie es als Staatsziel im sogenannten Klimaschutzplan 2050 festgeschrieben ist, und auch nur dann, wenn man dem Dogma der Ideologie von der menschengemachten Erwärmung folgte, würde der deutsche Senkungsbeitrag zwar zur völligen Verarmung des größten Teils unserer dann vermutlich Multikultibevölkerung führen, aber rechnerisch nur zu einer Verringerung des Anstiegs der sogenannten Welttemperatur irgendwann in ferner Zukunft um 0,000653 Grad Celsius führen – ein Wert, der weder messbar noch fühlbar ist, also praktisch nicht vorhanden ist.  "
      ]
     },
     "execution_count": 17,
     "metadata": {},
     "output_type": "execute_result"
    }
   ],
   "source": [
    "stc[stc.sentence.str.contains(\"0.000653\")].sample()"
   ]
  },
  {
   "cell_type": "code",
   "execution_count": 3,
   "id": "f28b7bae-b9a5-4380-8e12-dd9787412bbf",
   "metadata": {},
   "outputs": [
    {
     "name": "stdout",
     "output_type": "stream",
     "text": [
      "(15444, 12)\n"
     ]
    },
    {
     "data": {
      "text/plain": [
       "electoral_term\n",
       "19    10047\n",
       "18     5397\n",
       "Name: count, dtype: int64"
      ]
     },
     "execution_count": 3,
     "metadata": {},
     "output_type": "execute_result"
    }
   ],
   "source": [
    "# exclude government references\n",
    "stc = stc[~stc[\"sentence\"].str.contains(\"regierung|kanzler|minister|koalition|kabinett|präsident|staatssekretär\", case=False)]\n",
    "print(stc.shape)\n",
    "stc.value_counts(\"electoral_term\")"
   ]
  },
  {
   "cell_type": "code",
   "execution_count": 4,
   "id": "549ee47e-d42b-4b24-994b-7090b6de02a4",
   "metadata": {
    "scrolled": true
   },
   "outputs": [
    {
     "name": "stderr",
     "output_type": "stream",
     "text": [
      "100%|██████████████████████████████████████████████████████████████████████████████████████████████████████████████████████████████████████████████████████████████████████████| 1/1 [00:00<00:00, 9619.96it/s]\n",
      "100%|███████████████████████████████████████████████████████████████████████████████████████████████████████████████████████████████████████████████████████████████████| 27133/27133 [00:28<00:00, 940.43it/s]\n",
      "100%|██████████████████████████████████████████████████████████████████████████████████████████████████████████████████████████████████████████████████████████████████████████| 1/1 [00:00<00:00, 3591.01it/s]\n",
      "100%|███████████████████████████████████████████████████████████████████████████████████████████████████████████████████████████████████████████████████████████████████| 16672/16672 [00:17<00:00, 971.50it/s]\n",
      "100%|██████████████████████████████████████████████████████████████████████████████████████████████████████████████████████████████████████████████████████████████████████████| 1/1 [00:00<00:00, 3587.94it/s]\n",
      "100%|██████████████████████████████████████████████████████████████████████████████████████████████████████████████████████████████████████████████████████████████████| 29463/29463 [00:17<00:00, 1639.65it/s]\n",
      "100%|██████████████████████████████████████████████████████████████████████████████████████████████████████████████████████████████████████████████████████████████████| 40595/40595 [00:21<00:00, 1933.03it/s]\n",
      "100%|██████████████████████████████████████████████████████████████████████████████████████████████████████████████████████████████████████████████████████████████████████████| 1/1 [00:00<00:00, 7989.15it/s]\n",
      "100%|██████████████████████████████████████████████████████████████████████████████████████████████████████████████████████████████████████████████████████████████████| 24639/24639 [00:12<00:00, 1969.79it/s]\n",
      "100%|██████████████████████████████████████████████████████████████████████████████████████████████████████████████████████████████████████████████████████████████████| 34267/34267 [00:18<00:00, 1902.65it/s]\n",
      "100%|██████████████████████████████████████████████████████████████████████████████████████████████████████████████████████████████████████████████████████████████████| 28191/28191 [00:13<00:00, 2036.81it/s]\n",
      "100%|██████████████████████████████████████████████████████████████████████████████████████████████████████████████████████████████████████████████████████████████████| 38263/38263 [00:18<00:00, 2039.55it/s]\n",
      "100%|██████████████████████████████████████████████████████████████████████████████████████████████████████████████████████████████████████████████████████████████████| 16281/16281 [00:09<00:00, 1765.61it/s]\n",
      "100%|██████████████████████████████████████████████████████████████████████████████████████████████████████████████████████████████████████████████████████████████████| 19705/19705 [00:10<00:00, 1959.10it/s]\n",
      "100%|█████████████████████████████████████████████████████████████████████████████████████████████████████████████████████████████████████████████████████████████████████████| 1/1 [00:00<00:00, 11335.96it/s]\n",
      "100%|██████████████████████████████████████████████████████████████████████████████████████████████████████████████████████████████████████████████████████████████████| 23087/23087 [00:11<00:00, 1980.79it/s]\n"
     ]
    },
    {
     "data": {
      "text/plain": [
       "16"
      ]
     },
     "execution_count": 4,
     "metadata": {},
     "output_type": "execute_result"
    }
   ],
   "source": [
    "hannover = ht.HanoverTagger('morphmodel_ger.pgz')\n",
    "entire_stc = {}\n",
    "num = 0\n",
    "for i, party in enumerate(list(PARTYCOLORS.keys())):\n",
    "    for y in [18,19]:\n",
    "        num += 1\n",
    "        all_stc = stc[(stc[\"party\"] == party) & (stc[\"electoral_term\"] == y)].sentence.to_list()\n",
    "        speech_stcs = \" \".join(all_stc)\n",
    "        speech_words = []\n",
    "        for word in tqdm(speech_stcs.split(\" \")):\n",
    "            word = word.lower().strip(\" ,.:?;!–-\")\n",
    "            if word == \"\":\n",
    "                continue\n",
    "\n",
    "            if word in german_stop_words or len(word) < 3:\n",
    "                continue\n",
    "        \n",
    "            word = str(hannover.analyze(word)[0]).lower()\n",
    "\n",
    "            speech_words.append(word)\n",
    "            \n",
    "        \n",
    "        entire_stc[num] = [party + \"_\" + str(y), \" \".join(speech_words)]\n",
    "len(entire_stc)"
   ]
  },
  {
   "cell_type": "code",
   "execution_count": 12,
   "id": "675f6b9f-15e0-4070-a68f-a4931eaa4101",
   "metadata": {},
   "outputs": [
    {
     "ename": "TypeError",
     "evalue": "'numpy.ndarray' object is not callable",
     "output_type": "error",
     "traceback": [
      "\u001b[0;31m---------------------------------------------------------------------------\u001b[0m",
      "\u001b[0;31mTypeError\u001b[0m                                 Traceback (most recent call last)",
      "\u001b[0;32m/tmp/ipykernel_2120321/1596344225.py\u001b[0m in \u001b[0;36m?\u001b[0;34m()\u001b[0m\n\u001b[1;32m      1\u001b[0m \u001b[0;31m# Create dataframe\u001b[0m\u001b[0;34m\u001b[0m\u001b[0;34m\u001b[0m\u001b[0m\n\u001b[0;32m----> 2\u001b[0;31m \u001b[0mentire_stc\u001b[0m \u001b[0;34m=\u001b[0m \u001b[0mpd\u001b[0m\u001b[0;34m.\u001b[0m\u001b[0mDataFrame\u001b[0m\u001b[0;34m.\u001b[0m\u001b[0mfrom_dict\u001b[0m\u001b[0;34m(\u001b[0m\u001b[0mentire_stc\u001b[0m\u001b[0;34m,\u001b[0m \u001b[0morient\u001b[0m\u001b[0;34m=\u001b[0m\u001b[0;34m'index'\u001b[0m\u001b[0;34m)\u001b[0m\u001b[0;34m\u001b[0m\u001b[0;34m\u001b[0m\u001b[0m\n\u001b[0m\u001b[1;32m      3\u001b[0m \u001b[0mentire_stc\u001b[0m \u001b[0;34m=\u001b[0m \u001b[0mentire_stc\u001b[0m\u001b[0;34m.\u001b[0m\u001b[0mrename\u001b[0m\u001b[0;34m(\u001b[0m\u001b[0mcolumns\u001b[0m\u001b[0;34m=\u001b[0m\u001b[0;34m{\u001b[0m\u001b[0;36m0\u001b[0m\u001b[0;34m:\u001b[0m\u001b[0;34m\"party\"\u001b[0m\u001b[0;34m,\u001b[0m \u001b[0;36m1\u001b[0m\u001b[0;34m:\u001b[0m\u001b[0;34m\"text\"\u001b[0m\u001b[0;34m}\u001b[0m\u001b[0;34m)\u001b[0m\u001b[0;34m\u001b[0m\u001b[0;34m\u001b[0m\u001b[0m\n\u001b[1;32m      4\u001b[0m \u001b[0mpartyterm\u001b[0m \u001b[0;34m=\u001b[0m \u001b[0mentire_stc\u001b[0m\u001b[0;34m.\u001b[0m\u001b[0mparty\u001b[0m\u001b[0;34m.\u001b[0m\u001b[0mstr\u001b[0m\u001b[0;34m.\u001b[0m\u001b[0msplit\u001b[0m\u001b[0;34m(\u001b[0m\u001b[0;34m\"_\"\u001b[0m\u001b[0;34m,\u001b[0m \u001b[0mexpand\u001b[0m\u001b[0;34m=\u001b[0m\u001b[0;32mTrue\u001b[0m\u001b[0;34m)\u001b[0m\u001b[0;34m\u001b[0m\u001b[0;34m\u001b[0m\u001b[0m\n\u001b[1;32m      5\u001b[0m \u001b[0mentire_stc\u001b[0m\u001b[0;34m[\u001b[0m\u001b[0;34m\"party\"\u001b[0m\u001b[0;34m]\u001b[0m \u001b[0;34m=\u001b[0m \u001b[0mpartyterm\u001b[0m\u001b[0;34m[\u001b[0m\u001b[0;36m0\u001b[0m\u001b[0;34m]\u001b[0m\u001b[0;34m\u001b[0m\u001b[0;34m\u001b[0m\u001b[0m\n",
      "\u001b[0;32m~/Documents/Uni_(Frody)/Master/Masterarbeit/Data_analysis_current/venv/lib64/python3.12/site-packages/pandas/core/frame.py\u001b[0m in \u001b[0;36m?\u001b[0;34m(cls, data, orient, dtype, columns)\u001b[0m\n\u001b[1;32m   1884\u001b[0m         \u001b[0morient\u001b[0m \u001b[0;34m=\u001b[0m \u001b[0morient\u001b[0m\u001b[0;34m.\u001b[0m\u001b[0mlower\u001b[0m\u001b[0;34m(\u001b[0m\u001b[0;34m)\u001b[0m  \u001b[0;31m# type: ignore[assignment]\u001b[0m\u001b[0;34m\u001b[0m\u001b[0;34m\u001b[0m\u001b[0m\n\u001b[1;32m   1885\u001b[0m         \u001b[0;32mif\u001b[0m \u001b[0morient\u001b[0m \u001b[0;34m==\u001b[0m \u001b[0;34m\"index\"\u001b[0m\u001b[0;34m:\u001b[0m\u001b[0;34m\u001b[0m\u001b[0;34m\u001b[0m\u001b[0m\n\u001b[1;32m   1886\u001b[0m             \u001b[0;32mif\u001b[0m \u001b[0mlen\u001b[0m\u001b[0;34m(\u001b[0m\u001b[0mdata\u001b[0m\u001b[0;34m)\u001b[0m \u001b[0;34m>\u001b[0m \u001b[0;36m0\u001b[0m\u001b[0;34m:\u001b[0m\u001b[0;34m\u001b[0m\u001b[0;34m\u001b[0m\u001b[0m\n\u001b[1;32m   1887\u001b[0m                 \u001b[0;31m# TODO speed up Series case\u001b[0m\u001b[0;34m\u001b[0m\u001b[0;34m\u001b[0m\u001b[0m\n\u001b[0;32m-> 1888\u001b[0;31m                 \u001b[0;32mif\u001b[0m \u001b[0misinstance\u001b[0m\u001b[0;34m(\u001b[0m\u001b[0mnext\u001b[0m\u001b[0;34m(\u001b[0m\u001b[0miter\u001b[0m\u001b[0;34m(\u001b[0m\u001b[0mdata\u001b[0m\u001b[0;34m.\u001b[0m\u001b[0mvalues\u001b[0m\u001b[0;34m(\u001b[0m\u001b[0;34m)\u001b[0m\u001b[0;34m)\u001b[0m\u001b[0;34m)\u001b[0m\u001b[0;34m,\u001b[0m \u001b[0;34m(\u001b[0m\u001b[0mSeries\u001b[0m\u001b[0;34m,\u001b[0m \u001b[0mdict\u001b[0m\u001b[0;34m)\u001b[0m\u001b[0;34m)\u001b[0m\u001b[0;34m:\u001b[0m\u001b[0;34m\u001b[0m\u001b[0;34m\u001b[0m\u001b[0m\n\u001b[0m\u001b[1;32m   1889\u001b[0m                     \u001b[0mdata\u001b[0m \u001b[0;34m=\u001b[0m \u001b[0m_from_nested_dict\u001b[0m\u001b[0;34m(\u001b[0m\u001b[0mdata\u001b[0m\u001b[0;34m)\u001b[0m\u001b[0;34m\u001b[0m\u001b[0;34m\u001b[0m\u001b[0m\n\u001b[1;32m   1890\u001b[0m                 \u001b[0;32melse\u001b[0m\u001b[0;34m:\u001b[0m\u001b[0;34m\u001b[0m\u001b[0;34m\u001b[0m\u001b[0m\n\u001b[1;32m   1891\u001b[0m                     \u001b[0mindex\u001b[0m \u001b[0;34m=\u001b[0m \u001b[0mlist\u001b[0m\u001b[0;34m(\u001b[0m\u001b[0mdata\u001b[0m\u001b[0;34m.\u001b[0m\u001b[0mkeys\u001b[0m\u001b[0;34m(\u001b[0m\u001b[0;34m)\u001b[0m\u001b[0;34m)\u001b[0m\u001b[0;34m\u001b[0m\u001b[0;34m\u001b[0m\u001b[0m\n",
      "\u001b[0;31mTypeError\u001b[0m: 'numpy.ndarray' object is not callable"
     ]
    }
   ],
   "source": [
    "# Create dataframe\n",
    "entire_stc = pd.DataFrame.from_dict(entire_stc, orient='index')\n",
    "entire_stc = entire_stc.rename(columns={0:\"party\", 1:\"text\"})\n",
    "partyterm = entire_stc.party.str.split(\"_\", expand=True)\n",
    "entire_stc[\"party\"] = partyterm[0]\n",
    "entire_stc[\"term\"] = partyterm[1].astype(\"int\")"
   ]
  },
  {
   "cell_type": "code",
   "execution_count": 15,
   "id": "ccb2d8c8-271a-4079-b9b5-be83dc143d76",
   "metadata": {},
   "outputs": [],
   "source": [
    "# Save each term as a separate file\n",
    "for term in list(stc.electoral_term.unique()):\n",
    "    entire_stc[entire_stc[\"term\"] == term][[\"party\",\"text\"]].reset_index().to_feather(f\"data/selected_stncs_{term}_stem_wgov.feather\")"
   ]
  },
  {
   "cell_type": "code",
   "execution_count": 7,
   "id": "e829c391-0e96-4b8e-b48d-0f463787046c",
   "metadata": {},
   "outputs": [],
   "source": [
    "#stc.sample(40)"
   ]
  },
  {
   "cell_type": "code",
   "execution_count": 8,
   "id": "b6aac82e-6ced-457c-aaaf-9b7adc83cc0c",
   "metadata": {},
   "outputs": [
    {
     "data": {
      "text/plain": [
       "(20, 12)"
      ]
     },
     "execution_count": 8,
     "metadata": {},
     "output_type": "execute_result"
    }
   ],
   "source": [
    "stc[stc[\"sentence\"].str.contains(\"stattdessen\")].shape"
   ]
  },
  {
   "cell_type": "code",
   "execution_count": null,
   "id": "f4019c3a-787d-4e95-b41f-a8130b081b69",
   "metadata": {},
   "outputs": [],
   "source": []
  }
 ],
 "metadata": {
  "kernelspec": {
   "display_name": "Python 3 (ipykernel)",
   "language": "python",
   "name": "python3"
  },
  "language_info": {
   "codemirror_mode": {
    "name": "ipython",
    "version": 3
   },
   "file_extension": ".py",
   "mimetype": "text/x-python",
   "name": "python",
   "nbconvert_exporter": "python",
   "pygments_lexer": "ipython3",
   "version": "3.12.2"
  }
 },
 "nbformat": 4,
 "nbformat_minor": 5
}
