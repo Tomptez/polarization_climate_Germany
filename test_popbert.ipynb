{
 "cells": [
  {
   "cell_type": "markdown",
   "id": "3be2c3d7-e637-4ca0-b823-1442ce1ef014",
   "metadata": {},
   "source": [
    "# Running an LLM on your own laptop\n",
    "In this notebook, we're going to learn how to run a Hugging Face LLM on our own machine."
   ]
  },
  {
   "cell_type": "markdown",
   "id": "0c88379d-de11-4f6b-b3b2-dd1c86ec1f2d",
   "metadata": {},
   "source": [
    "## Download the LLM\n",
    "We're going to write some code to manually download the model."
   ]
  },
  {
   "cell_type": "code",
   "execution_count": 1,
   "id": "5eba955c-10f9-435a-8f5c-a4f3148214f6",
   "metadata": {},
   "outputs": [],
   "source": [
    "import os\n",
    "from huggingface_hub import hf_hub_download\n",
    "import torch"
   ]
  },
  {
   "cell_type": "code",
   "execution_count": 2,
   "id": "5f12f54a-65bd-43c2-807d-b04a7cb86ac1",
   "metadata": {},
   "outputs": [],
   "source": [
    "with open('HF_token.txt') as f:\n",
    "    contents = f.readline()\n",
    "    HUGGING_FACE_API_KEY = contents.rstrip()"
   ]
  },
  {
   "cell_type": "code",
   "execution_count": 9,
   "id": "f5d4a3cf-3aef-48a2-9d9c-c0e6f47b8ae9",
   "metadata": {},
   "outputs": [],
   "source": [
    "#model_id = \"luerhard/PopBERT\"\n",
    "#filenames = [\n",
    "#        \"model.safetensors\", \"config.json\", \"vocab.txt\", \n",
    "#        \"special_tokens_map.json\", \"tokenizer.json\", \"tokenizer_config.json\"\n",
    "#]"
   ]
  },
  {
   "cell_type": "code",
   "execution_count": 10,
   "id": "8de36f22-0e89-4add-9c2b-bbb34c4d9d26",
   "metadata": {},
   "outputs": [
    {
     "name": "stderr",
     "output_type": "stream",
     "text": [
      "model.safetensors: 100%|████████████████████████████████████████████████████████████████████████████████████| 1.34G/1.34G [10:29<00:00, 2.13MB/s]\n"
     ]
    },
    {
     "name": "stdout",
     "output_type": "stream",
     "text": [
      "/home/minze/.cache/huggingface/hub/models--luerhard--PopBERT/snapshots/b67ea4f11c4e782e9b767ddfc6b2d8b6258061a8/model.safetensors\n"
     ]
    },
    {
     "name": "stderr",
     "output_type": "stream",
     "text": [
      "config.json: 100%|██████████████████████████████████████████████████████████████████████████████████████████████| 886/886 [00:00<00:00, 3.21MB/s]\n"
     ]
    },
    {
     "name": "stdout",
     "output_type": "stream",
     "text": [
      "/home/minze/.cache/huggingface/hub/models--luerhard--PopBERT/snapshots/b67ea4f11c4e782e9b767ddfc6b2d8b6258061a8/config.json\n"
     ]
    },
    {
     "name": "stderr",
     "output_type": "stream",
     "text": [
      "vocab.txt: 100%|██████████████████████████████████████████████████████████████████████████████████████████████| 240k/240k [00:00<00:00, 2.69MB/s]\n"
     ]
    },
    {
     "name": "stdout",
     "output_type": "stream",
     "text": [
      "/home/minze/.cache/huggingface/hub/models--luerhard--PopBERT/snapshots/b67ea4f11c4e782e9b767ddfc6b2d8b6258061a8/vocab.txt\n"
     ]
    },
    {
     "name": "stderr",
     "output_type": "stream",
     "text": [
      "special_tokens_map.json: 100%|███████████████████████████████████████████████████████████████████████████████████| 125/125 [00:00<00:00, 115kB/s]\n"
     ]
    },
    {
     "name": "stdout",
     "output_type": "stream",
     "text": [
      "/home/minze/.cache/huggingface/hub/models--luerhard--PopBERT/snapshots/b67ea4f11c4e782e9b767ddfc6b2d8b6258061a8/special_tokens_map.json\n"
     ]
    },
    {
     "name": "stderr",
     "output_type": "stream",
     "text": [
      "tokenizer.json: 100%|█████████████████████████████████████████████████████████████████████████████████████████| 729k/729k [00:00<00:00, 1.55MB/s]\n"
     ]
    },
    {
     "name": "stdout",
     "output_type": "stream",
     "text": [
      "/home/minze/.cache/huggingface/hub/models--luerhard--PopBERT/snapshots/b67ea4f11c4e782e9b767ddfc6b2d8b6258061a8/tokenizer.json\n"
     ]
    },
    {
     "name": "stderr",
     "output_type": "stream",
     "text": [
      "tokenizer_config.json: 100%|████████████████████████████████████████████████████████████████████████████████| 1.26k/1.26k [00:00<00:00, 3.30MB/s]"
     ]
    },
    {
     "name": "stdout",
     "output_type": "stream",
     "text": [
      "/home/minze/.cache/huggingface/hub/models--luerhard--PopBERT/snapshots/b67ea4f11c4e782e9b767ddfc6b2d8b6258061a8/tokenizer_config.json\n"
     ]
    },
    {
     "name": "stderr",
     "output_type": "stream",
     "text": [
      "\n"
     ]
    }
   ],
   "source": [
    "#for filename in filenames:\n",
    "#        downloaded_model_path = hf_hub_download(\n",
    "#                    repo_id=model_id,\n",
    "#                    filename=filename,\n",
    "#                    token=HUGGING_FACE_API_KEY\n",
    "#        )\n",
    "#        print(downloaded_model_path)"
   ]
  },
  {
   "cell_type": "markdown",
   "id": "d5b4ad22-2e7d-40d9-978b-b730bd06b141",
   "metadata": {},
   "source": [
    "## Run the LLM\n",
    "Now let's try running the model. But before we do that, let's disable the Wi-Fi."
   ]
  },
  {
   "cell_type": "code",
   "execution_count": 4,
   "id": "990d5bf1-dd5e-41e5-8201-8a1bf33d8f66",
   "metadata": {},
   "outputs": [
    {
     "name": "stdout",
     "output_type": "stream",
     "text": [
      "{'elite': 0.013452199287712574, 'pplcentr': 0.0065283882431685925, 'left': 0.004794432315975428, 'right': 0.003443614114075899}\n"
     ]
    }
   ],
   "source": [
    "from transformers import AutoModel\n",
    "from transformers import AutoTokenizer\n",
    "from transformers import AutoModelForSequenceClassification\n",
    "\n",
    "# load tokenizer\n",
    "#tokenizer = AutoTokenizer.from_pretrained(\"luerhard/PopBERT\")\n",
    "\n",
    "# load model\n",
    "tokenizer = AutoTokenizer.from_pretrained(\"luerhard/PopBERT\")\n",
    "model = AutoModelForSequenceClassification.from_pretrained(\"luerhard/PopBERT\")\n",
    "\n",
    "# define text to be predicted\n",
    "text = (\n",
    "    \"Das ist Klassenkampf von oben, das ist Klassenkampf im Interesse von Vermögenden und Besitzenden gegen die Mehrheit der Steuerzahlerinnen und Steuerzahler auf dieser Erde.\"\n",
    ")\n",
    "\n",
    "text = (\"Ist jemand unter Ihnen, der dem Bundestag länger angehört?\")\n",
    "# encode text with tokenizer\n",
    "encodings = tokenizer(text, return_tensors=\"pt\")\n",
    "#encs= torch.stack(**encodings)\n",
    "\n",
    "# predict\n",
    "with torch.inference_mode():\n",
    "    out = model(**encodings)\n",
    "\n",
    "# get probabilties\n",
    "probs = torch.nn.functional.sigmoid(out.logits)\n",
    "pred = probs.detach().numpy()[0]\n",
    "\n",
    "\n",
    "row = {\n",
    "#                \"sample_id\": id_,\n",
    "                \"elite\": pred[0].astype(float),\n",
    "                \"pplcentr\": pred[1].astype(float),\n",
    "                \"left\": pred[2].astype(float),\n",
    "                \"right\": pred[3].astype(float),\n",
    "            }\n",
    "\n",
    "print(row)\n"
   ]
  },
  {
   "cell_type": "code",
   "execution_count": null,
   "id": "b5a520ad-c476-475b-aff9-c349415ee5fe",
   "metadata": {},
   "outputs": [],
   "source": []
  }
 ],
 "metadata": {
  "kernelspec": {
   "display_name": "Python 3 (ipykernel)",
   "language": "python",
   "name": "python3"
  },
  "language_info": {
   "codemirror_mode": {
    "name": "ipython",
    "version": 3
   },
   "file_extension": ".py",
   "mimetype": "text/x-python",
   "name": "python",
   "nbconvert_exporter": "python",
   "pygments_lexer": "ipython3",
   "version": "3.11.7"
  }
 },
 "nbformat": 4,
 "nbformat_minor": 5
}
